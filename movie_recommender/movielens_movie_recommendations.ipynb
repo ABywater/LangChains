{
  "nbformat": 4,
  "nbformat_minor": 0,
  "metadata": {
    "colab": {
      "name": "movielens_movie_recommendations.ipynb",
      "provenance": [],
      "collapsed_sections": []
    },
    "environment": {
      "name": "tf2-gpu.2-4.m61",
      "type": "gcloud",
      "uri": "gcr.io/deeplearning-platform-release/tf2-gpu.2-4:m61"
    },
    "kernelspec": {
      "display_name": "Python 3",
      "language": "python",
      "name": "python3"
    },
    "language_info": {
      "codemirror_mode": {
        "name": "ipython",
        "version": 3
      },
      "file_extension": ".py",
      "mimetype": "text/x-python",
      "name": "python",
      "nbconvert_exporter": "python",
      "pygments_lexer": "ipython3",
      "version": "3.7.9"
    },
    "toc": {
      "base_numbering": 1,
      "nav_menu": {},
      "number_sections": true,
      "sideBar": true,
      "skip_h1_title": false,
      "title_cell": "Table of Contents",
      "title_sidebar": "Contents",
      "toc_cell": false,
      "toc_position": {
        "height": "calc(100% - 180px)",
        "left": "10px",
        "top": "150px",
        "width": "336.6px"
      },
      "toc_section_display": true,
      "toc_window_display": true
    },
    "widgets": {
      "application/vnd.jupyter.widget-state+json": {
        "27717ca5d45742c4ae812f3c856b2d2f": {
          "model_module": "@jupyter-widgets/controls",
          "model_name": "HBoxModel",
          "state": {
            "_view_name": "HBoxView",
            "_dom_classes": [],
            "_model_name": "HBoxModel",
            "_view_module": "@jupyter-widgets/controls",
            "_model_module_version": "1.5.0",
            "_view_count": null,
            "_view_module_version": "1.5.0",
            "box_style": "",
            "layout": "IPY_MODEL_8ed06e29a32e4f928f528884f87233b4",
            "_model_module": "@jupyter-widgets/controls",
            "children": [
              "IPY_MODEL_d7fab95f40a54433ae0c7c35c9397a5d",
              "IPY_MODEL_d3b3c78bddd442daacf497ea0b73c603",
              "IPY_MODEL_3a8426f11e2c4a9aaece3c0ae4fb331f"
            ]
          }
        },
        "8ed06e29a32e4f928f528884f87233b4": {
          "model_module": "@jupyter-widgets/base",
          "model_name": "LayoutModel",
          "state": {
            "_view_name": "LayoutView",
            "grid_template_rows": null,
            "right": null,
            "justify_content": null,
            "_view_module": "@jupyter-widgets/base",
            "overflow": null,
            "_model_module_version": "1.2.0",
            "_view_count": null,
            "flex_flow": null,
            "width": null,
            "min_width": null,
            "border": null,
            "align_items": null,
            "bottom": null,
            "_model_module": "@jupyter-widgets/base",
            "top": null,
            "grid_column": null,
            "overflow_y": null,
            "overflow_x": null,
            "grid_auto_flow": null,
            "grid_area": null,
            "grid_template_columns": null,
            "flex": null,
            "_model_name": "LayoutModel",
            "justify_items": null,
            "grid_row": null,
            "max_height": null,
            "align_content": null,
            "visibility": null,
            "align_self": null,
            "height": null,
            "min_height": null,
            "padding": null,
            "grid_auto_rows": null,
            "grid_gap": null,
            "max_width": null,
            "order": null,
            "_view_module_version": "1.2.0",
            "grid_template_areas": null,
            "object_position": null,
            "object_fit": null,
            "grid_auto_columns": null,
            "margin": null,
            "display": null,
            "left": null
          }
        },
        "d7fab95f40a54433ae0c7c35c9397a5d": {
          "model_module": "@jupyter-widgets/controls",
          "model_name": "HTMLModel",
          "state": {
            "_view_name": "HTMLView",
            "style": "IPY_MODEL_6a4eb1d41d4145fca0e7d64799e90c95",
            "_dom_classes": [],
            "description": "",
            "_model_name": "HTMLModel",
            "placeholder": "​",
            "_view_module": "@jupyter-widgets/controls",
            "_model_module_version": "1.5.0",
            "value": "100%",
            "_view_count": null,
            "_view_module_version": "1.5.0",
            "description_tooltip": null,
            "_model_module": "@jupyter-widgets/controls",
            "layout": "IPY_MODEL_70286a54e2884396ba52b9ac8da20efb"
          }
        },
        "d3b3c78bddd442daacf497ea0b73c603": {
          "model_module": "@jupyter-widgets/controls",
          "model_name": "FloatProgressModel",
          "state": {
            "_view_name": "ProgressView",
            "style": "IPY_MODEL_16647cf97f89430498be4aa55d80cda9",
            "_dom_classes": [],
            "description": "",
            "_model_name": "FloatProgressModel",
            "bar_style": "success",
            "max": 3,
            "_view_module": "@jupyter-widgets/controls",
            "_model_module_version": "1.5.0",
            "value": 3,
            "_view_count": null,
            "_view_module_version": "1.5.0",
            "orientation": "horizontal",
            "min": 0,
            "description_tooltip": null,
            "_model_module": "@jupyter-widgets/controls",
            "layout": "IPY_MODEL_400c757623aa4b5785554edf4fc1133b"
          }
        },
        "3a8426f11e2c4a9aaece3c0ae4fb331f": {
          "model_module": "@jupyter-widgets/controls",
          "model_name": "HTMLModel",
          "state": {
            "_view_name": "HTMLView",
            "style": "IPY_MODEL_60f2621f82eb47cd9d3dbf4996a4bb27",
            "_dom_classes": [],
            "description": "",
            "_model_name": "HTMLModel",
            "placeholder": "​",
            "_view_module": "@jupyter-widgets/controls",
            "_model_module_version": "1.5.0",
            "value": " 3/3 [00:16&lt;00:00,  6.52s/it]",
            "_view_count": null,
            "_view_module_version": "1.5.0",
            "description_tooltip": null,
            "_model_module": "@jupyter-widgets/controls",
            "layout": "IPY_MODEL_cc34d80dd07a40ecb900da30a8e95c71"
          }
        },
        "6a4eb1d41d4145fca0e7d64799e90c95": {
          "model_module": "@jupyter-widgets/controls",
          "model_name": "DescriptionStyleModel",
          "state": {
            "_view_name": "StyleView",
            "_model_name": "DescriptionStyleModel",
            "description_width": "",
            "_view_module": "@jupyter-widgets/base",
            "_model_module_version": "1.5.0",
            "_view_count": null,
            "_view_module_version": "1.2.0",
            "_model_module": "@jupyter-widgets/controls"
          }
        },
        "70286a54e2884396ba52b9ac8da20efb": {
          "model_module": "@jupyter-widgets/base",
          "model_name": "LayoutModel",
          "state": {
            "_view_name": "LayoutView",
            "grid_template_rows": null,
            "right": null,
            "justify_content": null,
            "_view_module": "@jupyter-widgets/base",
            "overflow": null,
            "_model_module_version": "1.2.0",
            "_view_count": null,
            "flex_flow": null,
            "width": null,
            "min_width": null,
            "border": null,
            "align_items": null,
            "bottom": null,
            "_model_module": "@jupyter-widgets/base",
            "top": null,
            "grid_column": null,
            "overflow_y": null,
            "overflow_x": null,
            "grid_auto_flow": null,
            "grid_area": null,
            "grid_template_columns": null,
            "flex": null,
            "_model_name": "LayoutModel",
            "justify_items": null,
            "grid_row": null,
            "max_height": null,
            "align_content": null,
            "visibility": null,
            "align_self": null,
            "height": null,
            "min_height": null,
            "padding": null,
            "grid_auto_rows": null,
            "grid_gap": null,
            "max_width": null,
            "order": null,
            "_view_module_version": "1.2.0",
            "grid_template_areas": null,
            "object_position": null,
            "object_fit": null,
            "grid_auto_columns": null,
            "margin": null,
            "display": null,
            "left": null
          }
        },
        "16647cf97f89430498be4aa55d80cda9": {
          "model_module": "@jupyter-widgets/controls",
          "model_name": "ProgressStyleModel",
          "state": {
            "_view_name": "StyleView",
            "_model_name": "ProgressStyleModel",
            "description_width": "",
            "_view_module": "@jupyter-widgets/base",
            "_model_module_version": "1.5.0",
            "_view_count": null,
            "_view_module_version": "1.2.0",
            "bar_color": null,
            "_model_module": "@jupyter-widgets/controls"
          }
        },
        "400c757623aa4b5785554edf4fc1133b": {
          "model_module": "@jupyter-widgets/base",
          "model_name": "LayoutModel",
          "state": {
            "_view_name": "LayoutView",
            "grid_template_rows": null,
            "right": null,
            "justify_content": null,
            "_view_module": "@jupyter-widgets/base",
            "overflow": null,
            "_model_module_version": "1.2.0",
            "_view_count": null,
            "flex_flow": null,
            "width": null,
            "min_width": null,
            "border": null,
            "align_items": null,
            "bottom": null,
            "_model_module": "@jupyter-widgets/base",
            "top": null,
            "grid_column": null,
            "overflow_y": null,
            "overflow_x": null,
            "grid_auto_flow": null,
            "grid_area": null,
            "grid_template_columns": null,
            "flex": null,
            "_model_name": "LayoutModel",
            "justify_items": null,
            "grid_row": null,
            "max_height": null,
            "align_content": null,
            "visibility": null,
            "align_self": null,
            "height": null,
            "min_height": null,
            "padding": null,
            "grid_auto_rows": null,
            "grid_gap": null,
            "max_width": null,
            "order": null,
            "_view_module_version": "1.2.0",
            "grid_template_areas": null,
            "object_position": null,
            "object_fit": null,
            "grid_auto_columns": null,
            "margin": null,
            "display": null,
            "left": null
          }
        },
        "60f2621f82eb47cd9d3dbf4996a4bb27": {
          "model_module": "@jupyter-widgets/controls",
          "model_name": "DescriptionStyleModel",
          "state": {
            "_view_name": "StyleView",
            "_model_name": "DescriptionStyleModel",
            "description_width": "",
            "_view_module": "@jupyter-widgets/base",
            "_model_module_version": "1.5.0",
            "_view_count": null,
            "_view_module_version": "1.2.0",
            "_model_module": "@jupyter-widgets/controls"
          }
        },
        "cc34d80dd07a40ecb900da30a8e95c71": {
          "model_module": "@jupyter-widgets/base",
          "model_name": "LayoutModel",
          "state": {
            "_view_name": "LayoutView",
            "grid_template_rows": null,
            "right": null,
            "justify_content": null,
            "_view_module": "@jupyter-widgets/base",
            "overflow": null,
            "_model_module_version": "1.2.0",
            "_view_count": null,
            "flex_flow": null,
            "width": null,
            "min_width": null,
            "border": null,
            "align_items": null,
            "bottom": null,
            "_model_module": "@jupyter-widgets/base",
            "top": null,
            "grid_column": null,
            "overflow_y": null,
            "overflow_x": null,
            "grid_auto_flow": null,
            "grid_area": null,
            "grid_template_columns": null,
            "flex": null,
            "_model_name": "LayoutModel",
            "justify_items": null,
            "grid_row": null,
            "max_height": null,
            "align_content": null,
            "visibility": null,
            "align_self": null,
            "height": null,
            "min_height": null,
            "padding": null,
            "grid_auto_rows": null,
            "grid_gap": null,
            "max_width": null,
            "order": null,
            "_view_module_version": "1.2.0",
            "grid_template_areas": null,
            "object_position": null,
            "object_fit": null,
            "grid_auto_columns": null,
            "margin": null,
            "display": null,
            "left": null
          }
        },
        "a076c9e126c94322926cd5d62f9eb21a": {
          "model_module": "@jupyter-widgets/controls",
          "model_name": "HBoxModel",
          "state": {
            "_view_name": "HBoxView",
            "_dom_classes": [],
            "_model_name": "HBoxModel",
            "_view_module": "@jupyter-widgets/controls",
            "_model_module_version": "1.5.0",
            "_view_count": null,
            "_view_module_version": "1.5.0",
            "box_style": "",
            "layout": "IPY_MODEL_f171dda6809043f7b3251da7c853f08b",
            "_model_module": "@jupyter-widgets/controls",
            "children": [
              "IPY_MODEL_491671f9697a4344808f9fd3583dbaf4",
              "IPY_MODEL_42cf78248f8b49adac43d2cbdfe8db51",
              "IPY_MODEL_f72e068dfcb645a290f35883665f0520"
            ]
          }
        },
        "f171dda6809043f7b3251da7c853f08b": {
          "model_module": "@jupyter-widgets/base",
          "model_name": "LayoutModel",
          "state": {
            "_view_name": "LayoutView",
            "grid_template_rows": null,
            "right": null,
            "justify_content": null,
            "_view_module": "@jupyter-widgets/base",
            "overflow": null,
            "_model_module_version": "1.2.0",
            "_view_count": null,
            "flex_flow": null,
            "width": null,
            "min_width": null,
            "border": null,
            "align_items": null,
            "bottom": null,
            "_model_module": "@jupyter-widgets/base",
            "top": null,
            "grid_column": null,
            "overflow_y": null,
            "overflow_x": null,
            "grid_auto_flow": null,
            "grid_area": null,
            "grid_template_columns": null,
            "flex": null,
            "_model_name": "LayoutModel",
            "justify_items": null,
            "grid_row": null,
            "max_height": null,
            "align_content": null,
            "visibility": null,
            "align_self": null,
            "height": null,
            "min_height": null,
            "padding": null,
            "grid_auto_rows": null,
            "grid_gap": null,
            "max_width": null,
            "order": null,
            "_view_module_version": "1.2.0",
            "grid_template_areas": null,
            "object_position": null,
            "object_fit": null,
            "grid_auto_columns": null,
            "margin": null,
            "display": null,
            "left": null
          }
        },
        "491671f9697a4344808f9fd3583dbaf4": {
          "model_module": "@jupyter-widgets/controls",
          "model_name": "HTMLModel",
          "state": {
            "_view_name": "HTMLView",
            "style": "IPY_MODEL_e9763509e5114f72adc71d5f01f6c4fd",
            "_dom_classes": [],
            "description": "",
            "_model_name": "HTMLModel",
            "placeholder": "​",
            "_view_module": "@jupyter-widgets/controls",
            "_model_module_version": "1.5.0",
            "value": "",
            "_view_count": null,
            "_view_module_version": "1.5.0",
            "description_tooltip": null,
            "_model_module": "@jupyter-widgets/controls",
            "layout": "IPY_MODEL_a68b41880cb2422491615fc62de29cb2"
          }
        },
        "42cf78248f8b49adac43d2cbdfe8db51": {
          "model_module": "@jupyter-widgets/controls",
          "model_name": "FloatProgressModel",
          "state": {
            "_view_name": "ProgressView",
            "style": "IPY_MODEL_d197a53b1b0949e19aa67baa4bf40892",
            "_dom_classes": [],
            "description": "",
            "_model_name": "FloatProgressModel",
            "bar_style": "success",
            "max": 1,
            "_view_module": "@jupyter-widgets/controls",
            "_model_module_version": "1.5.0",
            "value": 1,
            "_view_count": null,
            "_view_module_version": "1.5.0",
            "orientation": "horizontal",
            "min": 0,
            "description_tooltip": null,
            "_model_module": "@jupyter-widgets/controls",
            "layout": "IPY_MODEL_8d0ed3bf1a49479aaf3c2fd3f0a8b628"
          }
        },
        "f72e068dfcb645a290f35883665f0520": {
          "model_module": "@jupyter-widgets/controls",
          "model_name": "HTMLModel",
          "state": {
            "_view_name": "HTMLView",
            "style": "IPY_MODEL_7eba79b7cb6c41b9a4df4a0052190112",
            "_dom_classes": [],
            "description": "",
            "_model_name": "HTMLModel",
            "placeholder": "​",
            "_view_module": "@jupyter-widgets/controls",
            "_model_module_version": "1.5.0",
            "value": " 100000/? [00:04&lt;00:00, 30615.01it/s]",
            "_view_count": null,
            "_view_module_version": "1.5.0",
            "description_tooltip": null,
            "_model_module": "@jupyter-widgets/controls",
            "layout": "IPY_MODEL_de5d1ffaabff4819b63cbd7a606c67e2"
          }
        },
        "e9763509e5114f72adc71d5f01f6c4fd": {
          "model_module": "@jupyter-widgets/controls",
          "model_name": "DescriptionStyleModel",
          "state": {
            "_view_name": "StyleView",
            "_model_name": "DescriptionStyleModel",
            "description_width": "",
            "_view_module": "@jupyter-widgets/base",
            "_model_module_version": "1.5.0",
            "_view_count": null,
            "_view_module_version": "1.2.0",
            "_model_module": "@jupyter-widgets/controls"
          }
        },
        "a68b41880cb2422491615fc62de29cb2": {
          "model_module": "@jupyter-widgets/base",
          "model_name": "LayoutModel",
          "state": {
            "_view_name": "LayoutView",
            "grid_template_rows": null,
            "right": null,
            "justify_content": null,
            "_view_module": "@jupyter-widgets/base",
            "overflow": null,
            "_model_module_version": "1.2.0",
            "_view_count": null,
            "flex_flow": null,
            "width": null,
            "min_width": null,
            "border": null,
            "align_items": null,
            "bottom": null,
            "_model_module": "@jupyter-widgets/base",
            "top": null,
            "grid_column": null,
            "overflow_y": null,
            "overflow_x": null,
            "grid_auto_flow": null,
            "grid_area": null,
            "grid_template_columns": null,
            "flex": null,
            "_model_name": "LayoutModel",
            "justify_items": null,
            "grid_row": null,
            "max_height": null,
            "align_content": null,
            "visibility": null,
            "align_self": null,
            "height": null,
            "min_height": null,
            "padding": null,
            "grid_auto_rows": null,
            "grid_gap": null,
            "max_width": null,
            "order": null,
            "_view_module_version": "1.2.0",
            "grid_template_areas": null,
            "object_position": null,
            "object_fit": null,
            "grid_auto_columns": null,
            "margin": null,
            "display": null,
            "left": null
          }
        },
        "d197a53b1b0949e19aa67baa4bf40892": {
          "model_module": "@jupyter-widgets/controls",
          "model_name": "ProgressStyleModel",
          "state": {
            "_view_name": "StyleView",
            "_model_name": "ProgressStyleModel",
            "description_width": "",
            "_view_module": "@jupyter-widgets/base",
            "_model_module_version": "1.5.0",
            "_view_count": null,
            "_view_module_version": "1.2.0",
            "bar_color": null,
            "_model_module": "@jupyter-widgets/controls"
          }
        },
        "8d0ed3bf1a49479aaf3c2fd3f0a8b628": {
          "model_module": "@jupyter-widgets/base",
          "model_name": "LayoutModel",
          "state": {
            "_view_name": "LayoutView",
            "grid_template_rows": null,
            "right": null,
            "justify_content": null,
            "_view_module": "@jupyter-widgets/base",
            "overflow": null,
            "_model_module_version": "1.2.0",
            "_view_count": null,
            "flex_flow": null,
            "width": "20px",
            "min_width": null,
            "border": null,
            "align_items": null,
            "bottom": null,
            "_model_module": "@jupyter-widgets/base",
            "top": null,
            "grid_column": null,
            "overflow_y": null,
            "overflow_x": null,
            "grid_auto_flow": null,
            "grid_area": null,
            "grid_template_columns": null,
            "flex": null,
            "_model_name": "LayoutModel",
            "justify_items": null,
            "grid_row": null,
            "max_height": null,
            "align_content": null,
            "visibility": null,
            "align_self": null,
            "height": null,
            "min_height": null,
            "padding": null,
            "grid_auto_rows": null,
            "grid_gap": null,
            "max_width": null,
            "order": null,
            "_view_module_version": "1.2.0",
            "grid_template_areas": null,
            "object_position": null,
            "object_fit": null,
            "grid_auto_columns": null,
            "margin": null,
            "display": null,
            "left": null
          }
        },
        "7eba79b7cb6c41b9a4df4a0052190112": {
          "model_module": "@jupyter-widgets/controls",
          "model_name": "DescriptionStyleModel",
          "state": {
            "_view_name": "StyleView",
            "_model_name": "DescriptionStyleModel",
            "description_width": "",
            "_view_module": "@jupyter-widgets/base",
            "_model_module_version": "1.5.0",
            "_view_count": null,
            "_view_module_version": "1.2.0",
            "_model_module": "@jupyter-widgets/controls"
          }
        },
        "de5d1ffaabff4819b63cbd7a606c67e2": {
          "model_module": "@jupyter-widgets/base",
          "model_name": "LayoutModel",
          "state": {
            "_view_name": "LayoutView",
            "grid_template_rows": null,
            "right": null,
            "justify_content": null,
            "_view_module": "@jupyter-widgets/base",
            "overflow": null,
            "_model_module_version": "1.2.0",
            "_view_count": null,
            "flex_flow": null,
            "width": null,
            "min_width": null,
            "border": null,
            "align_items": null,
            "bottom": null,
            "_model_module": "@jupyter-widgets/base",
            "top": null,
            "grid_column": null,
            "overflow_y": null,
            "overflow_x": null,
            "grid_auto_flow": null,
            "grid_area": null,
            "grid_template_columns": null,
            "flex": null,
            "_model_name": "LayoutModel",
            "justify_items": null,
            "grid_row": null,
            "max_height": null,
            "align_content": null,
            "visibility": null,
            "align_self": null,
            "height": null,
            "min_height": null,
            "padding": null,
            "grid_auto_rows": null,
            "grid_gap": null,
            "max_width": null,
            "order": null,
            "_view_module_version": "1.2.0",
            "grid_template_areas": null,
            "object_position": null,
            "object_fit": null,
            "grid_auto_columns": null,
            "margin": null,
            "display": null,
            "left": null
          }
        },
        "354d44b53eb64a5b9f98152333b053f9": {
          "model_module": "@jupyter-widgets/controls",
          "model_name": "HBoxModel",
          "state": {
            "_view_name": "HBoxView",
            "_dom_classes": [],
            "_model_name": "HBoxModel",
            "_view_module": "@jupyter-widgets/controls",
            "_model_module_version": "1.5.0",
            "_view_count": null,
            "_view_module_version": "1.5.0",
            "box_style": "",
            "layout": "IPY_MODEL_6003891d19384197a62c66a53d37d6af",
            "_model_module": "@jupyter-widgets/controls",
            "children": [
              "IPY_MODEL_536402ab849b49ed954a591ae6b783eb",
              "IPY_MODEL_c491d67e548240e6b88b3580bd706d3e",
              "IPY_MODEL_c1449273a86445a5a51ec7d00de955a2"
            ]
          }
        },
        "6003891d19384197a62c66a53d37d6af": {
          "model_module": "@jupyter-widgets/base",
          "model_name": "LayoutModel",
          "state": {
            "_view_name": "LayoutView",
            "grid_template_rows": null,
            "right": null,
            "justify_content": null,
            "_view_module": "@jupyter-widgets/base",
            "overflow": null,
            "_model_module_version": "1.2.0",
            "_view_count": null,
            "flex_flow": null,
            "width": null,
            "min_width": null,
            "border": null,
            "align_items": null,
            "bottom": null,
            "_model_module": "@jupyter-widgets/base",
            "top": null,
            "grid_column": null,
            "overflow_y": null,
            "overflow_x": null,
            "grid_auto_flow": null,
            "grid_area": null,
            "grid_template_columns": null,
            "flex": null,
            "_model_name": "LayoutModel",
            "justify_items": null,
            "grid_row": null,
            "max_height": null,
            "align_content": null,
            "visibility": null,
            "align_self": null,
            "height": null,
            "min_height": null,
            "padding": null,
            "grid_auto_rows": null,
            "grid_gap": null,
            "max_width": null,
            "order": null,
            "_view_module_version": "1.2.0",
            "grid_template_areas": null,
            "object_position": null,
            "object_fit": null,
            "grid_auto_columns": null,
            "margin": null,
            "display": null,
            "left": null
          }
        },
        "536402ab849b49ed954a591ae6b783eb": {
          "model_module": "@jupyter-widgets/controls",
          "model_name": "HTMLModel",
          "state": {
            "_view_name": "HTMLView",
            "style": "IPY_MODEL_a5bd74bc6656481fb81f357240af3037",
            "_dom_classes": [],
            "description": "",
            "_model_name": "HTMLModel",
            "placeholder": "​",
            "_view_module": "@jupyter-widgets/controls",
            "_model_module_version": "1.5.0",
            "value": "",
            "_view_count": null,
            "_view_module_version": "1.5.0",
            "description_tooltip": null,
            "_model_module": "@jupyter-widgets/controls",
            "layout": "IPY_MODEL_24ea549e6b2d4d05ba1d08e2e075e4e1"
          }
        },
        "c491d67e548240e6b88b3580bd706d3e": {
          "model_module": "@jupyter-widgets/controls",
          "model_name": "FloatProgressModel",
          "state": {
            "_view_name": "ProgressView",
            "style": "IPY_MODEL_ec8bb018077140ffa3400e045a0b7a7d",
            "_dom_classes": [],
            "description": "",
            "_model_name": "FloatProgressModel",
            "bar_style": "success",
            "max": 1,
            "_view_module": "@jupyter-widgets/controls",
            "_model_module_version": "1.5.0",
            "value": 1,
            "_view_count": null,
            "_view_module_version": "1.5.0",
            "orientation": "horizontal",
            "min": 0,
            "description_tooltip": null,
            "_model_module": "@jupyter-widgets/controls",
            "layout": "IPY_MODEL_68a049a9484b4742af50650845389577"
          }
        },
        "c1449273a86445a5a51ec7d00de955a2": {
          "model_module": "@jupyter-widgets/controls",
          "model_name": "HTMLModel",
          "state": {
            "_view_name": "HTMLView",
            "style": "IPY_MODEL_4500db7807e746d4b302b9da7d5c91b4",
            "_dom_classes": [],
            "description": "",
            "_model_name": "HTMLModel",
            "placeholder": "​",
            "_view_module": "@jupyter-widgets/controls",
            "_model_module_version": "1.5.0",
            "value": " 1/? [00:00&lt;00:00,  6.48it/s]",
            "_view_count": null,
            "_view_module_version": "1.5.0",
            "description_tooltip": null,
            "_model_module": "@jupyter-widgets/controls",
            "layout": "IPY_MODEL_34332e6843c34e378e45a48243326d81"
          }
        },
        "a5bd74bc6656481fb81f357240af3037": {
          "model_module": "@jupyter-widgets/controls",
          "model_name": "DescriptionStyleModel",
          "state": {
            "_view_name": "StyleView",
            "_model_name": "DescriptionStyleModel",
            "description_width": "",
            "_view_module": "@jupyter-widgets/base",
            "_model_module_version": "1.5.0",
            "_view_count": null,
            "_view_module_version": "1.2.0",
            "_model_module": "@jupyter-widgets/controls"
          }
        },
        "24ea549e6b2d4d05ba1d08e2e075e4e1": {
          "model_module": "@jupyter-widgets/base",
          "model_name": "LayoutModel",
          "state": {
            "_view_name": "LayoutView",
            "grid_template_rows": null,
            "right": null,
            "justify_content": null,
            "_view_module": "@jupyter-widgets/base",
            "overflow": null,
            "_model_module_version": "1.2.0",
            "_view_count": null,
            "flex_flow": null,
            "width": null,
            "min_width": null,
            "border": null,
            "align_items": null,
            "bottom": null,
            "_model_module": "@jupyter-widgets/base",
            "top": null,
            "grid_column": null,
            "overflow_y": null,
            "overflow_x": null,
            "grid_auto_flow": null,
            "grid_area": null,
            "grid_template_columns": null,
            "flex": null,
            "_model_name": "LayoutModel",
            "justify_items": null,
            "grid_row": null,
            "max_height": null,
            "align_content": null,
            "visibility": null,
            "align_self": null,
            "height": null,
            "min_height": null,
            "padding": null,
            "grid_auto_rows": null,
            "grid_gap": null,
            "max_width": null,
            "order": null,
            "_view_module_version": "1.2.0",
            "grid_template_areas": null,
            "object_position": null,
            "object_fit": null,
            "grid_auto_columns": null,
            "margin": null,
            "display": null,
            "left": null
          }
        },
        "ec8bb018077140ffa3400e045a0b7a7d": {
          "model_module": "@jupyter-widgets/controls",
          "model_name": "ProgressStyleModel",
          "state": {
            "_view_name": "StyleView",
            "_model_name": "ProgressStyleModel",
            "description_width": "",
            "_view_module": "@jupyter-widgets/base",
            "_model_module_version": "1.5.0",
            "_view_count": null,
            "_view_module_version": "1.2.0",
            "bar_color": null,
            "_model_module": "@jupyter-widgets/controls"
          }
        },
        "68a049a9484b4742af50650845389577": {
          "model_module": "@jupyter-widgets/base",
          "model_name": "LayoutModel",
          "state": {
            "_view_name": "LayoutView",
            "grid_template_rows": null,
            "right": null,
            "justify_content": null,
            "_view_module": "@jupyter-widgets/base",
            "overflow": null,
            "_model_module_version": "1.2.0",
            "_view_count": null,
            "flex_flow": null,
            "width": "20px",
            "min_width": null,
            "border": null,
            "align_items": null,
            "bottom": null,
            "_model_module": "@jupyter-widgets/base",
            "top": null,
            "grid_column": null,
            "overflow_y": null,
            "overflow_x": null,
            "grid_auto_flow": null,
            "grid_area": null,
            "grid_template_columns": null,
            "flex": null,
            "_model_name": "LayoutModel",
            "justify_items": null,
            "grid_row": null,
            "max_height": null,
            "align_content": null,
            "visibility": null,
            "align_self": null,
            "height": null,
            "min_height": null,
            "padding": null,
            "grid_auto_rows": null,
            "grid_gap": null,
            "max_width": null,
            "order": null,
            "_view_module_version": "1.2.0",
            "grid_template_areas": null,
            "object_position": null,
            "object_fit": null,
            "grid_auto_columns": null,
            "margin": null,
            "display": null,
            "left": null
          }
        },
        "4500db7807e746d4b302b9da7d5c91b4": {
          "model_module": "@jupyter-widgets/controls",
          "model_name": "DescriptionStyleModel",
          "state": {
            "_view_name": "StyleView",
            "_model_name": "DescriptionStyleModel",
            "description_width": "",
            "_view_module": "@jupyter-widgets/base",
            "_model_module_version": "1.5.0",
            "_view_count": null,
            "_view_module_version": "1.2.0",
            "_model_module": "@jupyter-widgets/controls"
          }
        },
        "34332e6843c34e378e45a48243326d81": {
          "model_module": "@jupyter-widgets/base",
          "model_name": "LayoutModel",
          "state": {
            "_view_name": "LayoutView",
            "grid_template_rows": null,
            "right": null,
            "justify_content": null,
            "_view_module": "@jupyter-widgets/base",
            "overflow": null,
            "_model_module_version": "1.2.0",
            "_view_count": null,
            "flex_flow": null,
            "width": null,
            "min_width": null,
            "border": null,
            "align_items": null,
            "bottom": null,
            "_model_module": "@jupyter-widgets/base",
            "top": null,
            "grid_column": null,
            "overflow_y": null,
            "overflow_x": null,
            "grid_auto_flow": null,
            "grid_area": null,
            "grid_template_columns": null,
            "flex": null,
            "_model_name": "LayoutModel",
            "justify_items": null,
            "grid_row": null,
            "max_height": null,
            "align_content": null,
            "visibility": null,
            "align_self": null,
            "height": null,
            "min_height": null,
            "padding": null,
            "grid_auto_rows": null,
            "grid_gap": null,
            "max_width": null,
            "order": null,
            "_view_module_version": "1.2.0",
            "grid_template_areas": null,
            "object_position": null,
            "object_fit": null,
            "grid_auto_columns": null,
            "margin": null,
            "display": null,
            "left": null
          }
        },
        "b4c5665ba0604c138541bda7dccef2f2": {
          "model_module": "@jupyter-widgets/controls",
          "model_name": "HBoxModel",
          "state": {
            "_view_name": "HBoxView",
            "_dom_classes": [],
            "_model_name": "HBoxModel",
            "_view_module": "@jupyter-widgets/controls",
            "_model_module_version": "1.5.0",
            "_view_count": null,
            "_view_module_version": "1.5.0",
            "box_style": "",
            "layout": "IPY_MODEL_5ef892d557604659a297aaaa84f0ab1f",
            "_model_module": "@jupyter-widgets/controls",
            "children": [
              "IPY_MODEL_3baaf7edaa42429dbb040feb30595241",
              "IPY_MODEL_14098f346a6c47a0a2d9efe6493448b6",
              "IPY_MODEL_fbaed6b31c8140238dd849a34db5e171"
            ]
          }
        },
        "5ef892d557604659a297aaaa84f0ab1f": {
          "model_module": "@jupyter-widgets/base",
          "model_name": "LayoutModel",
          "state": {
            "_view_name": "LayoutView",
            "grid_template_rows": null,
            "right": null,
            "justify_content": null,
            "_view_module": "@jupyter-widgets/base",
            "overflow": null,
            "_model_module_version": "1.2.0",
            "_view_count": null,
            "flex_flow": null,
            "width": null,
            "min_width": null,
            "border": null,
            "align_items": null,
            "bottom": null,
            "_model_module": "@jupyter-widgets/base",
            "top": null,
            "grid_column": null,
            "overflow_y": null,
            "overflow_x": null,
            "grid_auto_flow": null,
            "grid_area": null,
            "grid_template_columns": null,
            "flex": null,
            "_model_name": "LayoutModel",
            "justify_items": null,
            "grid_row": null,
            "max_height": null,
            "align_content": null,
            "visibility": null,
            "align_self": null,
            "height": null,
            "min_height": null,
            "padding": null,
            "grid_auto_rows": null,
            "grid_gap": null,
            "max_width": null,
            "order": null,
            "_view_module_version": "1.2.0",
            "grid_template_areas": null,
            "object_position": null,
            "object_fit": null,
            "grid_auto_columns": null,
            "margin": null,
            "display": null,
            "left": null
          }
        },
        "3baaf7edaa42429dbb040feb30595241": {
          "model_module": "@jupyter-widgets/controls",
          "model_name": "HTMLModel",
          "state": {
            "_view_name": "HTMLView",
            "style": "IPY_MODEL_f2628b3989984d9594d004e66acd6a96",
            "_dom_classes": [],
            "description": "",
            "_model_name": "HTMLModel",
            "placeholder": "​",
            "_view_module": "@jupyter-widgets/controls",
            "_model_module_version": "1.5.0",
            "value": "100%",
            "_view_count": null,
            "_view_module_version": "1.5.0",
            "description_tooltip": null,
            "_model_module": "@jupyter-widgets/controls",
            "layout": "IPY_MODEL_08717948ae22406990e9902c279f4fca"
          }
        },
        "14098f346a6c47a0a2d9efe6493448b6": {
          "model_module": "@jupyter-widgets/controls",
          "model_name": "FloatProgressModel",
          "state": {
            "_view_name": "ProgressView",
            "style": "IPY_MODEL_06f456d099714a29b46dd6ee61ab5cfb",
            "_dom_classes": [],
            "description": "",
            "_model_name": "FloatProgressModel",
            "bar_style": "success",
            "max": 1,
            "_view_module": "@jupyter-widgets/controls",
            "_model_module_version": "1.5.0",
            "value": 1,
            "_view_count": null,
            "_view_module_version": "1.5.0",
            "orientation": "horizontal",
            "min": 0,
            "description_tooltip": null,
            "_model_module": "@jupyter-widgets/controls",
            "layout": "IPY_MODEL_e66339fa220843ccaf91b272df113222"
          }
        },
        "fbaed6b31c8140238dd849a34db5e171": {
          "model_module": "@jupyter-widgets/controls",
          "model_name": "HTMLModel",
          "state": {
            "_view_name": "HTMLView",
            "style": "IPY_MODEL_832d3dea5fd94bbd967b8e98371d422b",
            "_dom_classes": [],
            "description": "",
            "_model_name": "HTMLModel",
            "placeholder": "​",
            "_view_module": "@jupyter-widgets/controls",
            "_model_module_version": "1.5.0",
            "value": " 1/1 [00:11&lt;00:00,  2.27s/it]",
            "_view_count": null,
            "_view_module_version": "1.5.0",
            "description_tooltip": null,
            "_model_module": "@jupyter-widgets/controls",
            "layout": "IPY_MODEL_9239ea7599044d67ae68d60ec62e0df1"
          }
        },
        "f2628b3989984d9594d004e66acd6a96": {
          "model_module": "@jupyter-widgets/controls",
          "model_name": "DescriptionStyleModel",
          "state": {
            "_view_name": "StyleView",
            "_model_name": "DescriptionStyleModel",
            "description_width": "",
            "_view_module": "@jupyter-widgets/base",
            "_model_module_version": "1.5.0",
            "_view_count": null,
            "_view_module_version": "1.2.0",
            "_model_module": "@jupyter-widgets/controls"
          }
        },
        "08717948ae22406990e9902c279f4fca": {
          "model_module": "@jupyter-widgets/base",
          "model_name": "LayoutModel",
          "state": {
            "_view_name": "LayoutView",
            "grid_template_rows": null,
            "right": null,
            "justify_content": null,
            "_view_module": "@jupyter-widgets/base",
            "overflow": null,
            "_model_module_version": "1.2.0",
            "_view_count": null,
            "flex_flow": null,
            "width": null,
            "min_width": null,
            "border": null,
            "align_items": null,
            "bottom": null,
            "_model_module": "@jupyter-widgets/base",
            "top": null,
            "grid_column": null,
            "overflow_y": null,
            "overflow_x": null,
            "grid_auto_flow": null,
            "grid_area": null,
            "grid_template_columns": null,
            "flex": null,
            "_model_name": "LayoutModel",
            "justify_items": null,
            "grid_row": null,
            "max_height": null,
            "align_content": null,
            "visibility": null,
            "align_self": null,
            "height": null,
            "min_height": null,
            "padding": null,
            "grid_auto_rows": null,
            "grid_gap": null,
            "max_width": null,
            "order": null,
            "_view_module_version": "1.2.0",
            "grid_template_areas": null,
            "object_position": null,
            "object_fit": null,
            "grid_auto_columns": null,
            "margin": null,
            "display": null,
            "left": null
          }
        },
        "06f456d099714a29b46dd6ee61ab5cfb": {
          "model_module": "@jupyter-widgets/controls",
          "model_name": "ProgressStyleModel",
          "state": {
            "_view_name": "StyleView",
            "_model_name": "ProgressStyleModel",
            "description_width": "",
            "_view_module": "@jupyter-widgets/base",
            "_model_module_version": "1.5.0",
            "_view_count": null,
            "_view_module_version": "1.2.0",
            "bar_color": null,
            "_model_module": "@jupyter-widgets/controls"
          }
        },
        "e66339fa220843ccaf91b272df113222": {
          "model_module": "@jupyter-widgets/base",
          "model_name": "LayoutModel",
          "state": {
            "_view_name": "LayoutView",
            "grid_template_rows": null,
            "right": null,
            "justify_content": null,
            "_view_module": "@jupyter-widgets/base",
            "overflow": null,
            "_model_module_version": "1.2.0",
            "_view_count": null,
            "flex_flow": null,
            "width": null,
            "min_width": null,
            "border": null,
            "align_items": null,
            "bottom": null,
            "_model_module": "@jupyter-widgets/base",
            "top": null,
            "grid_column": null,
            "overflow_y": null,
            "overflow_x": null,
            "grid_auto_flow": null,
            "grid_area": null,
            "grid_template_columns": null,
            "flex": null,
            "_model_name": "LayoutModel",
            "justify_items": null,
            "grid_row": null,
            "max_height": null,
            "align_content": null,
            "visibility": null,
            "align_self": null,
            "height": null,
            "min_height": null,
            "padding": null,
            "grid_auto_rows": null,
            "grid_gap": null,
            "max_width": null,
            "order": null,
            "_view_module_version": "1.2.0",
            "grid_template_areas": null,
            "object_position": null,
            "object_fit": null,
            "grid_auto_columns": null,
            "margin": null,
            "display": null,
            "left": null
          }
        },
        "832d3dea5fd94bbd967b8e98371d422b": {
          "model_module": "@jupyter-widgets/controls",
          "model_name": "DescriptionStyleModel",
          "state": {
            "_view_name": "StyleView",
            "_model_name": "DescriptionStyleModel",
            "description_width": "",
            "_view_module": "@jupyter-widgets/base",
            "_model_module_version": "1.5.0",
            "_view_count": null,
            "_view_module_version": "1.2.0",
            "_model_module": "@jupyter-widgets/controls"
          }
        },
        "9239ea7599044d67ae68d60ec62e0df1": {
          "model_module": "@jupyter-widgets/base",
          "model_name": "LayoutModel",
          "state": {
            "_view_name": "LayoutView",
            "grid_template_rows": null,
            "right": null,
            "justify_content": null,
            "_view_module": "@jupyter-widgets/base",
            "overflow": null,
            "_model_module_version": "1.2.0",
            "_view_count": null,
            "flex_flow": null,
            "width": null,
            "min_width": null,
            "border": null,
            "align_items": null,
            "bottom": null,
            "_model_module": "@jupyter-widgets/base",
            "top": null,
            "grid_column": null,
            "overflow_y": null,
            "overflow_x": null,
            "grid_auto_flow": null,
            "grid_area": null,
            "grid_template_columns": null,
            "flex": null,
            "_model_name": "LayoutModel",
            "justify_items": null,
            "grid_row": null,
            "max_height": null,
            "align_content": null,
            "visibility": null,
            "align_self": null,
            "height": null,
            "min_height": null,
            "padding": null,
            "grid_auto_rows": null,
            "grid_gap": null,
            "max_width": null,
            "order": null,
            "_view_module_version": "1.2.0",
            "grid_template_areas": null,
            "object_position": null,
            "object_fit": null,
            "grid_auto_columns": null,
            "margin": null,
            "display": null,
            "left": null
          }
        }
      }
    }
  },
  "cells": [
    {
      "cell_type": "markdown",
      "metadata": {
        "id": "Bkuoe6G4A6nt"
      },
      "source": [
        "# Movie Recommender System With a Deep Ranking Model\n",
        "\n",
        "In this notebook we will create a movie recommendation system on the [Movielens dataset](https://grouplens.org/datasets/movielens/) using Pinecone. In this dataset we have a collection of movies, a bunch of users, and movie ratings from users that range from 1 to 5. These ratings are sparse because each user rates only a small percentage of the total movies, and they are biased because users' ratings are distributed differently. Our goal is to take any user ID and search for recommended movies for that user.\n",
        "\n",
        "There are five parts to this recommender system: the dataset of movie recommendations, two deep learning models for embedding movies and users, a vector index to perform similarity search on those embeddings, and a custom deep ranking model to score user-movie pairs and further improve relevance of the recommended movies. We will use Pinecone to tie everything together and expose the recommender as a real-time service that will take any user ID and return relevant movie recommendations.\n",
        "\n",
        "The architecture of our recommender system is shown below. In the \"write\" path (load), we start with 1,682 movie IDs and transform each into [vector embeddings](https://www.pinecone.io/learn/what-are-vectors-embeddings/). The embedding function is trained such that proximity between movies in the multi-dimensional space represents the likelihood that a single user will rate both movies similarly. The 1,682 embeddings are then stored in the vector index.\n",
        "\n",
        "In the \"read\" path (query), an embedding function transforms a given user ID into an embedding in the same vector space as the movies, representing the user’s movie preference. Candidate movie recommendations are then fetched based on proximity to the user’s location in the multi-dimensional space. Finally, these candidates are ranked based on the custom deep ranking model.\n",
        "\n",
        "<a href=\"https://ibb.co/JzV81s5\"><img src=\"https://i.ibb.co/D7hmJR5/recsys-explicit-pairwise-scoring-arch.png\" alt=\"recsys-explicit-pairwise-scoring-arch\" border=\"0\" /></a>\n"
      ]
    },
    {
      "cell_type": "markdown",
      "metadata": {
        "id": "msp_NBozA6oF"
      },
      "source": [
        "### Pinecone Setup"
      ]
    },
    {
      "cell_type": "code",
      "metadata": {
        "id": "ob9eKW2tWbW5"
      },
      "source": [
        "!pip install -qU pinecone-client"
      ],
      "execution_count": 1,
      "outputs": []
    },
    {
      "cell_type": "code",
      "metadata": {
        "id": "9VznH5GkA6oW"
      },
      "source": [
        "import pinecone"
      ],
      "execution_count": 2,
      "outputs": []
    },
    {
      "cell_type": "markdown",
      "metadata": {
        "id": "8ErQhROkv8Yf"
      },
      "source": [
        "Get your API key [here](https://www.pinecone.io/start/)."
      ]
    },
    {
      "cell_type": "code",
      "metadata": {
        "id": "vWj_el_8eBOy",
        "colab": {
          "base_uri": "https://localhost:8080/"
        },
        "outputId": "9d40b0cb-1e14-411d-94cb-36bd3b330ebc"
      },
      "source": [
        "# Load Pinecone API key\n",
        "import os \n",
        "\n",
        "api_key = os.getenv(\"PINECONE_API_KEY\") or \"YOUR_API_KEY\"\n",
        "pinecone.init(api_key=api_key)\n",
        "\n",
        "#List all current indexes for your API key\n",
        "pinecone.list_indexes()"
      ],
      "execution_count": 3,
      "outputs": [
        {
          "output_type": "execute_result",
          "data": {
            "text/plain": [
              "[]"
            ]
          },
          "metadata": {
            "tags": []
          },
          "execution_count": 3
        }
      ]
    },
    {
      "cell_type": "markdown",
      "metadata": {
        "id": "XgHJ43T3v8Yb"
      },
      "source": [
        "## Prepare Data and Models\n",
        "\n",
        "### Install and import relevant python packages"
      ]
    },
    {
      "cell_type": "code",
      "metadata": {
        "colab": {
          "base_uri": "https://localhost:8080/"
        },
        "id": "AJIEdCyYA6oB",
        "outputId": "a07ebd45-7502-4b87-d8d8-550b42d0a88a"
      },
      "source": [
        "!pip install -qU scikit-learn pandas matplotlib tensorflow tfds-nightly"
      ],
      "execution_count": 4,
      "outputs": [
        {
          "output_type": "stream",
          "text": [
            "\u001b[31mERROR: pinecone-client 0.8.59 has requirement grpcio==1.37.1, but you'll have grpcio 1.34.1 which is incompatible.\u001b[0m\n",
            "\u001b[31mERROR: grpcio-tools 1.37.1 has requirement grpcio>=1.37.1, but you'll have grpcio 1.34.1 which is incompatible.\u001b[0m\n",
            "\u001b[31mERROR: albumentations 0.1.12 has requirement imgaug<0.2.7,>=0.2.5, but you'll have imgaug 0.2.9 which is incompatible.\u001b[0m\n"
          ],
          "name": "stdout"
        }
      ]
    },
    {
      "cell_type": "code",
      "metadata": {
        "id": "lQs1MW_LA6nu"
      },
      "source": [
        "import numpy as np\n",
        "import pandas as pd\n",
        "import tensorflow as tf\n",
        "import tensorflow_datasets as tfds"
      ],
      "execution_count": 5,
      "outputs": []
    },
    {
      "cell_type": "markdown",
      "metadata": {
        "id": "wpsfo6h2A6nz"
      },
      "source": [
        "### Prepare the Movie Rating Data\n",
        "We are using the standard [Movielens recommendation dataset](https://grouplens.org/datasets/movielens/) containing 100,000 ratings (1-5) from 943 users on 1,682 movies."
      ]
    },
    {
      "cell_type": "code",
      "metadata": {
        "id": "iOKCxSzvA6n1"
      },
      "source": [
        "# Load data\n",
        "_ratings = tfds.load(\"movielens/100k-ratings\", split=\"train\")\n",
        "_movies = tfds.load(\"movielens/100k-movies\", split=\"train\")\n",
        "\n",
        "# Collect data that we'd use throughout this notebook\n",
        "class DATA:\n",
        "    ratings = None\n",
        "    train = None\n",
        "    test = None\n",
        "    \n",
        "DATA.ratings = _ratings.map(lambda x: {\n",
        "    \"movie_title\": x[\"movie_title\"],\n",
        "    \"user_id\": x[\"user_id\"],\n",
        "    \"user_rating\": x[\"user_rating\"]  # We keep the ratings of a user-movie pair\n",
        "})\n",
        "\n",
        "# Split data into training and testing\n",
        "shuffled = DATA.ratings.shuffle(100_000, reshuffle_each_iteration=False)\n",
        "DATA.train = shuffled.take(80_000)\n",
        "DATA.test = shuffled.skip(80_000).take(20_000)"
      ],
      "execution_count": 6,
      "outputs": []
    },
    {
      "cell_type": "markdown",
      "metadata": {
        "id": "kRljpBNKA6n6"
      },
      "source": [
        "### Load Pre-made Movie and User Embedding Models\n",
        "We use premade movie and user embedding models following [this tutorial](https://www.tensorflow.org/recommenders/examples/basic_retrieval) by the TensorFlow recommender library. The models receive user id or movie title and output a corresponding 32-dimensional vector representation. The models were trained to preserve \"similarity\" such that similar user or movie ranking profiles will induce high inner-product values. For more information, follow the TensorFlow recommender [tutorial](https://www.tensorflow.org/recommenders/examples/basic_retrieval)."
      ]
    },
    {
      "cell_type": "code",
      "metadata": {
        "colab": {
          "base_uri": "https://localhost:8080/"
        },
        "id": "FPEKeeM6UqIU",
        "outputId": "c4ef9e0e-42fe-49d7-ce77-e45609a51c9e"
      },
      "source": [
        "#Downloading the pretrained models from Drive. If running outside Colab please install gdown.\n",
        "!gdown --id 1OPflMW6yzBcSlaxWWOSa_SAFSe1iiTZl"
      ],
      "execution_count": 7,
      "outputs": [
        {
          "output_type": "stream",
          "text": [
            "Downloading...\n",
            "From: https://drive.google.com/uc?id=1OPflMW6yzBcSlaxWWOSa_SAFSe1iiTZl\n",
            "To: /content/premade-models.tgz\n",
            "\r  0% 0.00/492k [00:00<?, ?B/s]\r100% 492k/492k [00:00<00:00, 7.76MB/s]\n"
          ],
          "name": "stdout"
        }
      ]
    },
    {
      "cell_type": "code",
      "metadata": {
        "id": "57Qfnyq6v8Yd"
      },
      "source": [
        "# extract the models\n",
        "import tarfile\n",
        "\n",
        "tfile = tarfile.open(\"premade-models.tgz\")\n",
        "tfile.extractall()\n",
        "tfile.close()"
      ],
      "execution_count": 8,
      "outputs": []
    },
    {
      "cell_type": "code",
      "metadata": {
        "id": "QAtV1N_Eg7RP"
      },
      "source": [
        "user_model = tf.saved_model.load('tf_retrieval_user_model')\n",
        "movie_model = tf.saved_model.load('tf_retrieval_movie_model')"
      ],
      "execution_count": 9,
      "outputs": []
    },
    {
      "cell_type": "markdown",
      "metadata": {
        "id": "rvAV9jmrv8Ye"
      },
      "source": [
        "### Load Premade Pairwise Ranking Model\n",
        "We premade a pairwise ranking score model following [this](https://www.tensorflow.org/recommenders/examples/basic_ranking) TensorFlow recommender library tutorial. The pairwise scoring model receives a user-movie vector embeddings pair and returns a relevance score indicating how relevant the user is to the movie."
      ]
    },
    {
      "cell_type": "code",
      "metadata": {
        "id": "cPKf4fEkv8Ye"
      },
      "source": [
        "scoring_model = tf.saved_model.load('tf_ranking_pairwise_score')"
      ],
      "execution_count": 10,
      "outputs": []
    },
    {
      "cell_type": "markdown",
      "metadata": {
        "id": "TBtA7oXBv8Ye"
      },
      "source": [
        "### Sanity-Check the Models\n",
        "Let's run the three premade models locally. The user and movie models receive a corresponding id or title and output a vector. The scoring model receives two vectors and outputs a single score value. Later, we will upload these models to Pinecone's model hub."
      ]
    },
    {
      "cell_type": "code",
      "metadata": {
        "colab": {
          "base_uri": "https://localhost:8080/"
        },
        "id": "k2cacXvov8Yf",
        "outputId": "8ddae87b-b92d-49f0-b5ce-89566fd1caf7"
      },
      "source": [
        "user_embedding = user_model(np.array([\"42\"]))\n",
        "movie_embedding = movie_model(np.array([\"One Flew Over the Cuckoo's Nest (1975)\"]))\n",
        "pairwised_score = scoring_model(tf.concat([user_embedding, movie_embedding], axis=1))\n",
        "print(f\"user embedding: {user_embedding}\")\n",
        "print(f\"movie embedding: {movie_embedding}\")\n",
        "print(f\"pairwise score: {pairwised_score}\")"
      ],
      "execution_count": 11,
      "outputs": [
        {
          "output_type": "stream",
          "text": [
            "user embedding: [[ 0.01683676  0.4281152   0.4133582  -0.12968868  0.12420761  0.50607353\n",
            "   0.08321043 -0.1869202  -0.1490686  -0.4416855   0.10145921  0.29046464\n",
            "   0.29867113  0.5125411  -0.19146752  0.0899531  -0.47919908 -0.35008752\n",
            "  -0.49349973 -0.21783432 -0.10766218 -0.32919145 -0.37802044 -0.39593038\n",
            "  -0.19613707 -0.06320453 -0.05047337 -0.42567044 -0.20733188  0.45100415\n",
            "   0.03500173 -0.15795036]]\n",
            "movie embedding: [[ 0.60710007 -0.48249206 -0.35593712  0.13949828  0.40926376  0.31134516\n",
            "   0.2955666   0.08130229  0.29382494 -0.14615472 -0.17722447  0.51746374\n",
            "   0.1466727   0.50280887 -0.09506559  0.57231975  0.35222292  0.35850292\n",
            "  -0.16756673 -0.17023738 -0.29335937  0.1672158  -0.2980432  -0.5691722\n",
            "   0.25732362 -0.35206133  0.395624    0.29205453  0.24314538  0.13837588\n",
            "   0.15536724  0.10586588]]\n",
            "pairwise score: [[3.7656188]]\n"
          ],
          "name": "stdout"
        }
      ]
    },
    {
      "cell_type": "markdown",
      "metadata": {
        "id": "zodu7OGHA6oE"
      },
      "source": [
        "## Configure Pinecone\n",
        "This section shows how to use Pinecone to easily build and deploy a movie recommendation engine that turns raw data into vector embeddings, maintains a live index of those vectors, and returns recommended movies on demand. The starting point is the premade movie and item embedding models, and the pairwise deep ranking model. Next, we show how to upload these vector embeddings into Pinecone's vector index. Finally, we will query the index and retrieve recommendations for an arbitrary user-id. "
      ]
    },
    {
      "cell_type": "markdown",
      "metadata": {
        "id": "GvWUnwamlsk5"
      },
      "source": [
        "## Create a vector database service\n",
        "\n",
        "The typical workflow of using Pinecone:\n",
        "\n",
        "1. Create an index.\n",
        "2. Create a connection to the index, and start sending insert and query requests."
      ]
    },
    {
      "cell_type": "markdown",
      "metadata": {
        "id": "UGhtRFSSlsk7"
      },
      "source": [
        "**Create an index**\n",
        "\n"
      ]
    },
    {
      "cell_type": "code",
      "metadata": {
        "id": "vPqERTJ2lsk7"
      },
      "source": [
        "movielense_index_name = 'movielens-demo-simple'"
      ],
      "execution_count": 12,
      "outputs": []
    },
    {
      "cell_type": "code",
      "metadata": {
        "id": "f47Tnz-Clsk8"
      },
      "source": [
        "# Check whether the index with the same name already exists\n",
        "if movielense_index_name in pinecone.list_indexes():\n",
        "    pinecone.delete_index(movielense_index_name)"
      ],
      "execution_count": 13,
      "outputs": []
    },
    {
      "cell_type": "code",
      "metadata": {
        "colab": {
          "base_uri": "https://localhost:8080/",
          "height": 66,
          "referenced_widgets": [
            "27717ca5d45742c4ae812f3c856b2d2f",
            "8ed06e29a32e4f928f528884f87233b4",
            "d7fab95f40a54433ae0c7c35c9397a5d",
            "d3b3c78bddd442daacf497ea0b73c603",
            "3a8426f11e2c4a9aaece3c0ae4fb331f",
            "6a4eb1d41d4145fca0e7d64799e90c95",
            "70286a54e2884396ba52b9ac8da20efb",
            "16647cf97f89430498be4aa55d80cda9",
            "400c757623aa4b5785554edf4fc1133b",
            "60f2621f82eb47cd9d3dbf4996a4bb27",
            "cc34d80dd07a40ecb900da30a8e95c71"
          ]
        },
        "id": "vN83XYxFlsk8",
        "outputId": "c141d3b3-93d6-4ade-e7df-bfefd318c9d5"
      },
      "source": [
        "pinecone.create_index(movielens_index_name, metric=\"dotproduct\", shards=1)"
      ],
      "execution_count": 14,
      "outputs": [
        {
          "output_type": "display_data",
          "data": {
            "application/vnd.jupyter.widget-view+json": {
              "model_id": "27717ca5d45742c4ae812f3c856b2d2f",
              "version_minor": 0,
              "version_major": 2
            },
            "text/plain": [
              "  0%|          | 0/3 [00:00<?, ?it/s]"
            ]
          },
          "metadata": {
            "tags": []
          }
        },
        {
          "output_type": "execute_result",
          "data": {
            "text/plain": [
              "{'msg': '', 'success': True}"
            ]
          },
          "metadata": {
            "tags": []
          },
          "execution_count": 14
        }
      ]
    },
    {
      "cell_type": "markdown",
      "metadata": {
        "id": "rHqaaHNFlsk9"
      },
      "source": [
        "**Create a connection** to the index service using the index's name.\n"
      ]
    },
    {
      "cell_type": "code",
      "metadata": {
        "colab": {
          "base_uri": "https://localhost:8080/"
        },
        "id": "JSU1DNV5lsk9",
        "outputId": "6e8bdc1c-151b-4211-9d32-c0f29b233aae"
      },
      "source": [
        "index = pinecone.Index(name = movielens_index_name)\n",
        "index.info()"
      ],
      "execution_count": 15,
      "outputs": [
        {
          "output_type": "execute_result",
          "data": {
            "text/plain": [
              "InfoResult(index_size=0)"
            ]
          },
          "metadata": {
            "tags": []
          },
          "execution_count": 15
        }
      ]
    },
    {
      "cell_type": "markdown",
      "metadata": {
        "id": "e-63_cexmmkt"
      },
      "source": [
        "## Upload movie embeddings"
      ]
    },
    {
      "cell_type": "markdown",
      "metadata": {
        "id": "jIYb_P-EeBO9"
      },
      "source": [
        "Our recommender service will index and fetch movie vector embeddings. This means we will use the premade movie model to generate embeddings for the movies."
      ]
    },
    {
      "cell_type": "markdown",
      "metadata": {
        "id": "kc9rHwDAA6oq"
      },
      "source": [
        "Transform movies into embeddings. Prepare items to upload\n",
        "as a list of tuples in the form (id, vector). \n"
      ]
    },
    {
      "cell_type": "code",
      "metadata": {
        "colab": {
          "base_uri": "https://localhost:8080/",
          "height": 323
        },
        "id": "xNHKeqpmA6oq",
        "outputId": "4849b15a-97a6-4cb6-ef07-5415524fa266"
      },
      "source": [
        "# Get all of the movies\n",
        "all_movies = [title.decode()[:64] for title in DATA.ratings.map(lambda xx: xx['movie_title']).as_numpy_iterator()]\n",
        "\n",
        "# Transform movies into embeddings\n",
        "movie_embeddings = movie_model(np.array(all_movies)).numpy()\n",
        "\n",
        "# Prepare movie embeddings for upload\n",
        "items_to_insert = list(zip(all_movies, movie_embeddings))\n",
        "display(items_to_insert[:2])"
      ],
      "execution_count": 16,
      "outputs": [
        {
          "output_type": "display_data",
          "data": {
            "text/plain": [
              "[(\"One Flew Over the Cuckoo's Nest (1975)\",\n",
              "  array([ 0.60710007, -0.48249206, -0.35593712,  0.13949828,  0.40926376,\n",
              "          0.31134516,  0.2955666 ,  0.08130229,  0.29382494, -0.14615472,\n",
              "         -0.17722447,  0.51746374,  0.1466727 ,  0.50280887, -0.09506559,\n",
              "          0.57231975,  0.35222292,  0.35850292, -0.16756673, -0.17023738,\n",
              "         -0.29335937,  0.1672158 , -0.2980432 , -0.5691722 ,  0.25732362,\n",
              "         -0.35206133,  0.395624  ,  0.29205453,  0.24314538,  0.13837588,\n",
              "          0.15536724,  0.10586588], dtype=float32)),\n",
              " ('Strictly Ballroom (1992)',\n",
              "  array([ 1.1002023e-02,  1.6174538e-01,  3.3386484e-01, -1.3717607e-01,\n",
              "          3.5857826e-01, -5.8230944e-04,  6.1979485e-01,  3.0144712e-01,\n",
              "          1.7912011e-01, -1.4533635e-02, -3.1142405e-01,  3.9141589e-01,\n",
              "         -1.4907111e-01,  1.7742743e-01, -1.0792779e-01,  2.7480638e-02,\n",
              "          5.1916885e-01, -1.9283614e-01, -1.0605173e-02, -3.9342603e-01,\n",
              "         -2.7115941e-01,  2.0567685e-01, -2.9449952e-01,  7.1734749e-03,\n",
              "          9.2954300e-02,  4.0293813e-01, -5.4571800e-02,  1.6616797e-01,\n",
              "         -1.8021818e-01,  1.8495591e-02, -1.9566132e-01, -5.0525314e-01],\n",
              "        dtype=float32))]"
            ]
          },
          "metadata": {
            "tags": []
          }
        }
      ]
    },
    {
      "cell_type": "markdown",
      "metadata": {
        "id": "k72pT_Z3A6ou"
      },
      "source": [
        "**Insert items** into the index service."
      ]
    },
    {
      "cell_type": "code",
      "metadata": {
        "colab": {
          "base_uri": "https://localhost:8080/",
          "height": 242,
          "referenced_widgets": [
            "a076c9e126c94322926cd5d62f9eb21a",
            "f171dda6809043f7b3251da7c853f08b",
            "491671f9697a4344808f9fd3583dbaf4",
            "42cf78248f8b49adac43d2cbdfe8db51",
            "f72e068dfcb645a290f35883665f0520",
            "e9763509e5114f72adc71d5f01f6c4fd",
            "a68b41880cb2422491615fc62de29cb2",
            "d197a53b1b0949e19aa67baa4bf40892",
            "8d0ed3bf1a49479aaf3c2fd3f0a8b628",
            "7eba79b7cb6c41b9a4df4a0052190112",
            "de5d1ffaabff4819b63cbd7a606c67e2"
          ]
        },
        "id": "bEjGQ-O3A6ou",
        "outputId": "57d2e795-4b7a-491a-b9f0-73069f02c909"
      },
      "source": [
        "print('Index size before upsert:', index.info())\n",
        "\n",
        "upsert_acks = index.upsert(items=[(ii[:64],x) for ii,x in items_to_insert])\n",
        "\n",
        "print('Index size after upsert:', index.info())\n",
        "print()\n",
        "\n",
        "print(f'Sample upsert responses:')\n",
        "pd.DataFrame(upsert_acks[:3])"
      ],
      "execution_count": 17,
      "outputs": [
        {
          "output_type": "stream",
          "text": [
            "Index size before upsert: InfoResult(index_size=0)\n"
          ],
          "name": "stdout"
        },
        {
          "output_type": "display_data",
          "data": {
            "application/vnd.jupyter.widget-view+json": {
              "model_id": "a076c9e126c94322926cd5d62f9eb21a",
              "version_minor": 0,
              "version_major": 2
            },
            "text/plain": [
              "0it [00:00, ?it/s]"
            ]
          },
          "metadata": {
            "tags": []
          }
        },
        {
          "output_type": "stream",
          "text": [
            "Index size after upsert: InfoResult(index_size=1664)\n",
            "\n",
            "Sample upsert responses:\n"
          ],
          "name": "stdout"
        },
        {
          "output_type": "execute_result",
          "data": {
            "text/html": [
              "<div>\n",
              "<style scoped>\n",
              "    .dataframe tbody tr th:only-of-type {\n",
              "        vertical-align: middle;\n",
              "    }\n",
              "\n",
              "    .dataframe tbody tr th {\n",
              "        vertical-align: top;\n",
              "    }\n",
              "\n",
              "    .dataframe thead th {\n",
              "        text-align: right;\n",
              "    }\n",
              "</style>\n",
              "<table border=\"1\" class=\"dataframe\">\n",
              "  <thead>\n",
              "    <tr style=\"text-align: right;\">\n",
              "      <th></th>\n",
              "      <th>id</th>\n",
              "    </tr>\n",
              "  </thead>\n",
              "  <tbody>\n",
              "    <tr>\n",
              "      <th>0</th>\n",
              "      <td>One Flew Over the Cuckoo's Nest (1975)</td>\n",
              "    </tr>\n",
              "    <tr>\n",
              "      <th>1</th>\n",
              "      <td>Strictly Ballroom (1992)</td>\n",
              "    </tr>\n",
              "    <tr>\n",
              "      <th>2</th>\n",
              "      <td>Very Brady Sequel, A (1996)</td>\n",
              "    </tr>\n",
              "  </tbody>\n",
              "</table>\n",
              "</div>"
            ],
            "text/plain": [
              "                                       id\n",
              "0  One Flew Over the Cuckoo's Nest (1975)\n",
              "1                Strictly Ballroom (1992)\n",
              "2             Very Brady Sequel, A (1996)"
            ]
          },
          "metadata": {
            "tags": []
          },
          "execution_count": 17
        }
      ]
    },
    {
      "cell_type": "markdown",
      "metadata": {
        "id": "qNgDh0SgA6qB"
      },
      "source": [
        "## Search for Recommended Movies by User ID\n",
        "Hurray! Your movie recommender service is up and running and all items are uploaded. You can now search for recommended movies for any user directly from your notebook or app, and get ranked results in real-time. Let's add one more function that shows a movie poster for each result, just for fun."
      ]
    },
    {
      "cell_type": "markdown",
      "metadata": {
        "id": "RM_evoRmA6oB"
      },
      "source": [
        "#### Include Movie Posters in Results\n",
        "The following utility functions helps visualize the results using scraped movie posters from the web. This is completely optional and just for fun."
      ]
    },
    {
      "cell_type": "code",
      "metadata": {
        "id": "ZW_bgX1tv8Yl"
      },
      "source": [
        "import requests\n",
        "from IPython.display import Image, display\n",
        "from IPython.core.display import HTML \n",
        "\n",
        "def movie_title_to_poster_url(title):\n",
        "    POSTERS_URL_TEMPLATE = \"http://www.omdbapi.com/?i=tt3896198&apikey=4a3604bd&t=\"\n",
        "    parsed_title = ' '.join(title.split()[:-1])\n",
        "    if parsed_title.lower().endswith(', the'):\n",
        "        parsed_title = \"The \"+parsed_title[:-len(', the')]\n",
        "    try:\n",
        "        r = requests.get(POSTERS_URL_TEMPLATE+parsed_title).json()\n",
        "        return r['Poster']\n",
        "    except:\n",
        "        # Fallback image\n",
        "        return \"https://cdn4.iconfinder.com/data/icons/small-n-flat/24/movie-alt2-512.png\"\n",
        "\n",
        "\n",
        "def path_to_image_html(path):\n",
        "    return '<img src=\"'+ path + '\" width=\"100\" >'\n",
        "\n",
        "\n",
        "def show_image_tiles(images_urls, n_col=6):\n",
        "    import math\n",
        "\n",
        "    rows = [images_urls[ii * n_col: (1+ii) * n_col] for ii in range(math.ceil(len(images_urls) / n_col))]\n",
        "    for ii, rr in enumerate(rows):\n",
        "        if len(rr) < n_col:\n",
        "            rows[ii] = rr + [''] * (n_col - len(rr))\n",
        "    df = pd.DataFrame(rows)\n",
        "    display(HTML(df.to_html(escape=False, formatters=[path_to_image_html]*df.shape[1])))\n",
        "\n"
      ],
      "execution_count": 18,
      "outputs": []
    },
    {
      "cell_type": "markdown",
      "metadata": {
        "id": "pdVsWv8Sv8Yi"
      },
      "source": [
        "### Re-ranking recommendations\n",
        "\n",
        "After we query a list of users and get recommendations from our vector index, we can rerank them using the custom pairwise-scoring model."
      ]
    },
    {
      "cell_type": "code",
      "metadata": {
        "id": "UvzRHUuXDwf6"
      },
      "source": [
        "from pinecone import QueryResult\n",
        "\n",
        "def rerank_recommendations(user_ids, query_results):\n",
        "    \n",
        "    output = []\n",
        "\n",
        "    for q, res in zip(user_embeddings, query_results):\n",
        "      \n",
        "        updated_scores = [(i, scoring_model(tf.concat([[q], [movie_model(np.array([movie]))[0]]], axis=1)).numpy().flatten()[0]) for i, movie in enumerate(res.ids)]\n",
        "        sorted_inx_score = sorted(updated_scores, key=lambda i_s: -i_s[1])\n",
        "        new_scores = [s for _,s in sorted_inx_score]\n",
        "        new_ids = [list(res.ids)[i] for i,_ in sorted_inx_score]\n",
        "        new_data = np.array([list(res.data)[i] for i,_ in sorted_inx_score])\n",
        "        output.append(QueryResult(ids=new_ids, scores=new_scores, data=new_data))\n",
        "\n",
        "    return output"
      ],
      "execution_count": 19,
      "outputs": []
    },
    {
      "cell_type": "markdown",
      "metadata": {
        "id": "JOMIVjFFv8Yl"
      },
      "source": [
        "### Search for Recommended Movie\n",
        "Let's see what our movie recommender picks for User 55. Note how we retrieve 50 movies, yet only showing those ranked in the top five. The reason for setting the `top-k=50` value is to give the re-ranking postprocessor (the ranking model) a sufficiently large set of movie candidates. Once reranked, we only care about the top five results."
      ]
    },
    {
      "cell_type": "code",
      "metadata": {
        "colab": {
          "base_uri": "https://localhost:8080/",
          "height": 49,
          "referenced_widgets": [
            "354d44b53eb64a5b9f98152333b053f9",
            "6003891d19384197a62c66a53d37d6af",
            "536402ab849b49ed954a591ae6b783eb",
            "c491d67e548240e6b88b3580bd706d3e",
            "c1449273a86445a5a51ec7d00de955a2",
            "a5bd74bc6656481fb81f357240af3037",
            "24ea549e6b2d4d05ba1d08e2e075e4e1",
            "ec8bb018077140ffa3400e045a0b7a7d",
            "68a049a9484b4742af50650845389577",
            "4500db7807e746d4b302b9da7d5c91b4",
            "34332e6843c34e378e45a48243326d81"
          ]
        },
        "id": "Pyli40k5A6qC",
        "outputId": "d0640d9d-d2b1-4d4a-de79-fad211b4df7b"
      },
      "source": [
        "# Define a list of users\n",
        "user_ids = ['55']\n",
        "\n",
        "# Retrieve user embeddings\n",
        "user_embeddings = [user_model(np.array([user]))[0] for user in user_ids]\n",
        "\n",
        "# Query by user embeddings\n",
        "query_results = index.query(queries=user_embeddings, top_k=50, include_data=True)\n",
        "query_results_reranked = rerank_recommendations(user_embeddings, query_results)"
      ],
      "execution_count": 20,
      "outputs": [
        {
          "output_type": "display_data",
          "data": {
            "application/vnd.jupyter.widget-view+json": {
              "model_id": "354d44b53eb64a5b9f98152333b053f9",
              "version_minor": 0,
              "version_major": 2
            },
            "text/plain": [
              "0it [00:00, ?it/s]"
            ]
          },
          "metadata": {
            "tags": []
          }
        }
      ]
    },
    {
      "cell_type": "markdown",
      "metadata": {
        "id": "Ham_zxmbv8Ym"
      },
      "source": [
        "### Comparing Recommendations With and Without Re-ranking\n",
        "You may be wondering if the re-ranking step is worth the effort. Let's see the query results *with* and *without* a reranking step and compare the results."
      ]
    },
    {
      "cell_type": "code",
      "metadata": {
        "colab": {
          "base_uri": "https://localhost:8080/",
          "height": 1000
        },
        "id": "CkPrm1qoe1Ns",
        "outputId": "581068a4-11c3-4240-9f19-cf0e005f3b21"
      },
      "source": [
        "from IPython.display import display_html\n",
        "from itertools import chain,cycle\n",
        "\n",
        "def display_side_by_side(*args,titles=cycle([''])):\n",
        "    html_str=''\n",
        "    for df,title in zip(args, chain(titles,cycle(['</br>'])) ):\n",
        "        html_str+='<th style=\"text-align:center\"><td style=\"vertical-align:top\">'\n",
        "        html_str+=f'<h2>{title}</h2>'\n",
        "        html_str+=df.to_html(escape=False, formatters=dict(image=path_to_image_html)).replace('table','table style=\"display:inline\"')\n",
        "        html_str+='</td></th>'\n",
        "    display_html(html_str,raw=True)\n",
        "\n",
        "# Print results\n",
        "for _id, res, res_ranked in zip(user_ids, query_results, query_results_reranked):\n",
        "    print(f'user_id={_id}')\n",
        "    \n",
        "    # Not ranked\n",
        "    df = pd.DataFrame({'ids': res.ids[:5], 'scores': res.scores[:5]})\n",
        "    df['image'] = list(map(movie_title_to_poster_url, df['ids']))\n",
        "\n",
        "    # Ranked\n",
        "    df_r = pd.DataFrame({'ids': res_ranked.ids[:5], 'scores': res_ranked.scores[:5]})\n",
        "    df_r['image'] = list(map(movie_title_to_poster_url, df_r['ids']))\n",
        "\n",
        "    # Show both\n",
        "    display_side_by_side(df_r, df, titles=['With re-ranking','Without re-ranking'])\n"
      ],
      "execution_count": 21,
      "outputs": [
        {
          "output_type": "stream",
          "text": [
            "user_id=55\n"
          ],
          "name": "stdout"
        },
        {
          "output_type": "display_data",
          "data": {
            "text/html": [
              "<th style=\"text-align:center\"><td style=\"vertical-align:top\"><h2>With re-ranking</h2><table style=\"display:inline\" border=\"1\" class=\"dataframe\">\n",
              "  <thead>\n",
              "    <tr style=\"text-align: right;\">\n",
              "      <th></th>\n",
              "      <th>ids</th>\n",
              "      <th>scores</th>\n",
              "      <th>image</th>\n",
              "    </tr>\n",
              "  </thead>\n",
              "  <tbody>\n",
              "    <tr>\n",
              "      <th>0</th>\n",
              "      <td>Sudden Death (1995)</td>\n",
              "      <td>4.426783</td>\n",
              "      <td><img src=\"https://m.media-amazon.com/images/M/MV5BN2NjYWE5NjMtODlmZC00MjJhLWFkZTktYTJlZTI4YjVkMGNmXkEyXkFqcGdeQXVyNDc2NjEyMw@@._V1_SX300.jpg\" width=\"100\" ></td>\n",
              "    </tr>\n",
              "    <tr>\n",
              "      <th>1</th>\n",
              "      <td>Thinner (1996)</td>\n",
              "      <td>4.384661</td>\n",
              "      <td><img src=\"https://m.media-amazon.com/images/M/MV5BMDNlZGZlYjctYzM4OS00YTcyLWE1M2QtMDA5Nzk0MTlhNzcxXkEyXkFqcGdeQXVyMTQxNzMzNDI@._V1_SX300.jpg\" width=\"100\" ></td>\n",
              "    </tr>\n",
              "    <tr>\n",
              "      <th>2</th>\n",
              "      <td>Mr. Holland's Opus (1995)</td>\n",
              "      <td>4.271734</td>\n",
              "      <td><img src=\"https://m.media-amazon.com/images/M/MV5BZDZhNDRlZjAtYzdhNy00ZjU1LWFlMDYtNjA5NjliM2Y5ZmVjL2ltYWdlXkEyXkFqcGdeQXVyNjE5MjUyOTM@._V1_SX300.jpg\" width=\"100\" ></td>\n",
              "    </tr>\n",
              "    <tr>\n",
              "      <th>3</th>\n",
              "      <td>Die Hard (1988)</td>\n",
              "      <td>4.262465</td>\n",
              "      <td><img src=\"https://m.media-amazon.com/images/M/MV5BZjRlNDUxZjAtOGQ4OC00OTNlLTgxNmQtYTBmMDgwZmNmNjkxXkEyXkFqcGdeQXVyNzkwMjQ5NzM@._V1_SX300.jpg\" width=\"100\" ></td>\n",
              "    </tr>\n",
              "    <tr>\n",
              "      <th>4</th>\n",
              "      <td>Star Wars (1977)</td>\n",
              "      <td>4.259742</td>\n",
              "      <td><img src=\"https://m.media-amazon.com/images/M/MV5BNzVlY2MwMjktM2E4OS00Y2Y3LWE3ZjctYzhkZGM3YzA1ZWM2XkEyXkFqcGdeQXVyNzkwMjQ5NzM@._V1_SX300.jpg\" width=\"100\" ></td>\n",
              "    </tr>\n",
              "  </tbody>\n",
              "</table style=\"display:inline\"></td></th><th style=\"text-align:center\"><td style=\"vertical-align:top\"><h2>Without re-ranking</h2><table style=\"display:inline\" border=\"1\" class=\"dataframe\">\n",
              "  <thead>\n",
              "    <tr style=\"text-align: right;\">\n",
              "      <th></th>\n",
              "      <th>ids</th>\n",
              "      <th>scores</th>\n",
              "      <th>image</th>\n",
              "    </tr>\n",
              "  </thead>\n",
              "  <tbody>\n",
              "    <tr>\n",
              "      <th>0</th>\n",
              "      <td>Lost World: Jurassic Park, The (1997)</td>\n",
              "      <td>2.879311</td>\n",
              "      <td><img src=\"https://m.media-amazon.com/images/M/MV5BMDFlMmM4Y2QtNDg1ZS00MWVlLTlmODgtZDdhYjY5YjdhN2M0XkEyXkFqcGdeQXVyNTI4MjkwNjA@._V1_SX300.jpg\" width=\"100\" ></td>\n",
              "    </tr>\n",
              "    <tr>\n",
              "      <th>1</th>\n",
              "      <td>Men in Black (1997)</td>\n",
              "      <td>2.787736</td>\n",
              "      <td><img src=\"https://m.media-amazon.com/images/M/MV5BOTlhYTVkMDktYzIyNC00NzlkLTlmN2ItOGEyMWQ4OTA2NDdmXkEyXkFqcGdeQXVyNTAyODkwOQ@@._V1_SX300.jpg\" width=\"100\" ></td>\n",
              "    </tr>\n",
              "    <tr>\n",
              "      <th>2</th>\n",
              "      <td>Executive Decision (1996)</td>\n",
              "      <td>2.739666</td>\n",
              "      <td><img src=\"https://m.media-amazon.com/images/M/MV5BMjgwNzA4MjQtMTQwOC00OWY0LTkwOGYtNWQxYTQ3ZmEzZjY5L2ltYWdlXkEyXkFqcGdeQXVyNjQzNDI3NzY@._V1_SX300.jpg\" width=\"100\" ></td>\n",
              "    </tr>\n",
              "    <tr>\n",
              "      <th>3</th>\n",
              "      <td>Con Air (1997)</td>\n",
              "      <td>2.685612</td>\n",
              "      <td><img src=\"https://m.media-amazon.com/images/M/MV5BMGZmNGIxMTYtMmVjMy00YzhkLWIyOTktNTExZGFiYjNiNzdlXkEyXkFqcGdeQXVyMTQxNzMzNDI@._V1_SX300.jpg\" width=\"100\" ></td>\n",
              "    </tr>\n",
              "    <tr>\n",
              "      <th>4</th>\n",
              "      <td>Rock, The (1996)</td>\n",
              "      <td>2.578943</td>\n",
              "      <td><img src=\"https://m.media-amazon.com/images/M/MV5BZDJjOTE0N2EtMmRlZS00NzU0LWE0ZWQtM2Q3MWMxNjcwZjBhXkEyXkFqcGdeQXVyNDk3NzU2MTQ@._V1_SX300.jpg\" width=\"100\" ></td>\n",
              "    </tr>\n",
              "  </tbody>\n",
              "</table style=\"display:inline\"></td></th>"
            ]
          },
          "metadata": {
            "tags": []
          }
        }
      ]
    },
    {
      "cell_type": "markdown",
      "metadata": {
        "id": "x2IPYVj9v8Ym"
      },
      "source": [
        "### User Ranking Profile\n",
        "Note the quality of the results depends on the quality of the provided premade models, and the accuracy of Pinecone's vector index. The example demonstrates that the recommendations fit well with the user ranking profile."
      ]
    },
    {
      "cell_type": "code",
      "metadata": {
        "colab": {
          "base_uri": "https://localhost:8080/",
          "height": 1000
        },
        "id": "i6-Ujazkv8Ym",
        "scrolled": false,
        "outputId": "7a29ea8c-fd8f-4489-cd06-824e80ea5bbc"
      },
      "source": [
        "user_ratings = [r for r in DATA.ratings if r[\"user_id\"] == '55']\n",
        "content = [dict(title=\"\".join(map(chr,r[\"movie_title\"].numpy())), movie=movie_title_to_poster_url(\"\".join(map(chr,r[\"movie_title\"].numpy()))), rating=r['user_rating'].numpy()) for r in user_ratings]\n",
        "df = pd.DataFrame(content).sort_values('rating', ascending=False)\n",
        "display(HTML(df.to_html(escape=False, index=False, formatters=dict(movie=path_to_image_html))))"
      ],
      "execution_count": 22,
      "outputs": [
        {
          "output_type": "display_data",
          "data": {
            "text/html": [
              "<table border=\"1\" class=\"dataframe\">\n",
              "  <thead>\n",
              "    <tr style=\"text-align: right;\">\n",
              "      <th>title</th>\n",
              "      <th>movie</th>\n",
              "      <th>rating</th>\n",
              "    </tr>\n",
              "  </thead>\n",
              "  <tbody>\n",
              "    <tr>\n",
              "      <td>Fugitive, The (1993)</td>\n",
              "      <td><img src=\"https://m.media-amazon.com/images/M/MV5BYmFmOGZjYTItYjY1ZS00OWRiLTk0NDgtMjQ5MzBkYWE2YWE0XkEyXkFqcGdeQXVyNjU0OTQ0OTY@._V1_SX300.jpg\" width=\"100\" ></td>\n",
              "      <td>5.0</td>\n",
              "    </tr>\n",
              "    <tr>\n",
              "      <td>Die Hard (1988)</td>\n",
              "      <td><img src=\"https://m.media-amazon.com/images/M/MV5BZjRlNDUxZjAtOGQ4OC00OTNlLTgxNmQtYTBmMDgwZmNmNjkxXkEyXkFqcGdeQXVyNzkwMjQ5NzM@._V1_SX300.jpg\" width=\"100\" ></td>\n",
              "      <td>5.0</td>\n",
              "    </tr>\n",
              "    <tr>\n",
              "      <td>Twister (1996)</td>\n",
              "      <td><img src=\"https://m.media-amazon.com/images/M/MV5BODExYTM0MzEtZGY2Yy00N2ExLTkwZjItNGYzYTRmMWZlOGEzXkEyXkFqcGdeQXVyNDk3NzU2MTQ@._V1_SX300.jpg\" width=\"100\" ></td>\n",
              "      <td>5.0</td>\n",
              "    </tr>\n",
              "    <tr>\n",
              "      <td>Blade Runner (1982)</td>\n",
              "      <td><img src=\"https://m.media-amazon.com/images/M/MV5BNzQzMzJhZTEtOWM4NS00MTdhLTg0YjgtMjM4MDRkZjUwZDBlXkEyXkFqcGdeQXVyNjU0OTQ0OTY@._V1_SX300.jpg\" width=\"100\" ></td>\n",
              "      <td>5.0</td>\n",
              "    </tr>\n",
              "    <tr>\n",
              "      <td>Heat (1995)</td>\n",
              "      <td><img src=\"https://m.media-amazon.com/images/M/MV5BNGMwNzUwNjYtZWM5NS00YzMyLWI4NjAtNjM0ZDBiMzE1YWExXkEyXkFqcGdeQXVyNDk3NzU2MTQ@._V1_SX300.jpg\" width=\"100\" ></td>\n",
              "      <td>5.0</td>\n",
              "    </tr>\n",
              "    <tr>\n",
              "      <td>Braveheart (1995)</td>\n",
              "      <td><img src=\"https://m.media-amazon.com/images/M/MV5BMzkzMmU0YTYtOWM3My00YzBmLWI0YzctOGYyNTkwMWE5MTJkXkEyXkFqcGdeQXVyNzkwMjQ5NzM@._V1_SX300.jpg\" width=\"100\" ></td>\n",
              "      <td>5.0</td>\n",
              "    </tr>\n",
              "    <tr>\n",
              "      <td>Raiders of the Lost Ark (1981)</td>\n",
              "      <td><img src=\"https://m.media-amazon.com/images/M/MV5BMjA0ODEzMTc1Nl5BMl5BanBnXkFtZTcwODM2MjAxNA@@._V1_SX300.jpg\" width=\"100\" ></td>\n",
              "      <td>4.0</td>\n",
              "    </tr>\n",
              "    <tr>\n",
              "      <td>Return of the Jedi (1983)</td>\n",
              "      <td><img src=\"https://m.media-amazon.com/images/M/MV5BOWZlMjFiYzgtMTUzNC00Y2IzLTk1NTMtZmNhMTczNTk0ODk1XkEyXkFqcGdeQXVyNTAyODkwOQ@@._V1_SX300.jpg\" width=\"100\" ></td>\n",
              "      <td>4.0</td>\n",
              "    </tr>\n",
              "    <tr>\n",
              "      <td>Star Wars (1977)</td>\n",
              "      <td><img src=\"https://m.media-amazon.com/images/M/MV5BNzVlY2MwMjktM2E4OS00Y2Y3LWE3ZjctYzhkZGM3YzA1ZWM2XkEyXkFqcGdeQXVyNzkwMjQ5NzM@._V1_SX300.jpg\" width=\"100\" ></td>\n",
              "      <td>4.0</td>\n",
              "    </tr>\n",
              "    <tr>\n",
              "      <td>Pulp Fiction (1994)</td>\n",
              "      <td><img src=\"https://m.media-amazon.com/images/M/MV5BNGNhMDIzZTUtNTBlZi00MTRlLWFjM2ItYzViMjE3YzI5MjljXkEyXkFqcGdeQXVyNzkwMjQ5NzM@._V1_SX300.jpg\" width=\"100\" ></td>\n",
              "      <td>4.0</td>\n",
              "    </tr>\n",
              "    <tr>\n",
              "      <td>Volcano (1997)</td>\n",
              "      <td><img src=\"https://m.media-amazon.com/images/M/MV5BY2I2MTFiOWMtY2YzOC00MTZjLTg0NWUtMmZjZWJlZDYwZDZkXkEyXkFqcGdeQXVyNTIzOTk5ODM@._V1_SX300.jpg\" width=\"100\" ></td>\n",
              "      <td>3.0</td>\n",
              "    </tr>\n",
              "    <tr>\n",
              "      <td>Men in Black (1997)</td>\n",
              "      <td><img src=\"https://m.media-amazon.com/images/M/MV5BOTlhYTVkMDktYzIyNC00NzlkLTlmN2ItOGEyMWQ4OTA2NDdmXkEyXkFqcGdeQXVyNTAyODkwOQ@@._V1_SX300.jpg\" width=\"100\" ></td>\n",
              "      <td>3.0</td>\n",
              "    </tr>\n",
              "    <tr>\n",
              "      <td>Twelve Monkeys (1995)</td>\n",
              "      <td><img src=\"https://m.media-amazon.com/images/M/MV5BZTAxNzY1NTktNjA1Zi00MjJjLThkMTgtNTM0NTI1NWIzNDQ3XkEyXkFqcGdeQXVyODAyNDE3Mw@@._V1_SX300.jpg\" width=\"100\" ></td>\n",
              "      <td>3.0</td>\n",
              "    </tr>\n",
              "    <tr>\n",
              "      <td>Independence Day (ID4) (1996)</td>\n",
              "      <td><img src=\"https://cdn4.iconfinder.com/data/icons/small-n-flat/24/movie-alt2-512.png\" width=\"100\" ></td>\n",
              "      <td>3.0</td>\n",
              "    </tr>\n",
              "    <tr>\n",
              "      <td>Rock, The (1996)</td>\n",
              "      <td><img src=\"https://m.media-amazon.com/images/M/MV5BZDJjOTE0N2EtMmRlZS00NzU0LWE0ZWQtM2Q3MWMxNjcwZjBhXkEyXkFqcGdeQXVyNDk3NzU2MTQ@._V1_SX300.jpg\" width=\"100\" ></td>\n",
              "      <td>3.0</td>\n",
              "    </tr>\n",
              "    <tr>\n",
              "      <td>Eraser (1996)</td>\n",
              "      <td><img src=\"https://m.media-amazon.com/images/M/MV5BOTczMTNlN2UtMWE2NS00ZTUyLTgzYTQtYTFkNWIzODJkYzIwXkEyXkFqcGdeQXVyNDc2NjEyMw@@._V1_SX300.jpg\" width=\"100\" ></td>\n",
              "      <td>2.0</td>\n",
              "    </tr>\n",
              "    <tr>\n",
              "      <td>Batman & Robin (1997)</td>\n",
              "      <td><img src=\"https://m.media-amazon.com/images/M/MV5BMTYwNjAyODIyMF5BMl5BanBnXkFtZTYwNDMwMDk2._V1_SX300.jpg\" width=\"100\" ></td>\n",
              "      <td>2.0</td>\n",
              "    </tr>\n",
              "    <tr>\n",
              "      <td>Speed 2: Cruise Control (1997)</td>\n",
              "      <td><img src=\"https://m.media-amazon.com/images/M/MV5BOTRlOTQ0MzItZjUwYi00MDkwLWIwYTctZTgyNGY3OGQwZWViXkEyXkFqcGdeQXVyMTQxNzMzNDI@._V1_SX300.jpg\" width=\"100\" ></td>\n",
              "      <td>1.0</td>\n",
              "    </tr>\n",
              "    <tr>\n",
              "      <td>Mission: Impossible (1996)</td>\n",
              "      <td><img src=\"https://m.media-amazon.com/images/M/MV5BMTY4MTUxMjQ5OV5BMl5BanBnXkFtZTcwNTUyMzg5Ng@@._V1_SX300.jpg\" width=\"100\" ></td>\n",
              "      <td>1.0</td>\n",
              "    </tr>\n",
              "    <tr>\n",
              "      <td>Executive Decision (1996)</td>\n",
              "      <td><img src=\"https://m.media-amazon.com/images/M/MV5BMjgwNzA4MjQtMTQwOC00OWY0LTkwOGYtNWQxYTQ3ZmEzZjY5L2ltYWdlXkEyXkFqcGdeQXVyNjQzNDI3NzY@._V1_SX300.jpg\" width=\"100\" ></td>\n",
              "      <td>1.0</td>\n",
              "    </tr>\n",
              "    <tr>\n",
              "      <td>Con Air (1997)</td>\n",
              "      <td><img src=\"https://m.media-amazon.com/images/M/MV5BMGZmNGIxMTYtMmVjMy00YzhkLWIyOTktNTExZGFiYjNiNzdlXkEyXkFqcGdeQXVyMTQxNzMzNDI@._V1_SX300.jpg\" width=\"100\" ></td>\n",
              "      <td>1.0</td>\n",
              "    </tr>\n",
              "  </tbody>\n",
              "</table>"
            ],
            "text/plain": [
              "<IPython.core.display.HTML object>"
            ]
          },
          "metadata": {
            "tags": []
          }
        }
      ]
    },
    {
      "cell_type": "markdown",
      "metadata": {
        "id": "APVSAugAv8Yn"
      },
      "source": [
        "In this example, it appears the re-ranking step resulted in much better recommendations.\n",
        "\n",
        "---"
      ]
    },
    {
      "cell_type": "markdown",
      "metadata": {
        "id": "fTev0PDIEn1U"
      },
      "source": [
        "## Turn Off the Recommender Service\n",
        "Usually, you will deploy the service and keep it running for as long as it's being used. In some cases you may want to turn it off, for example if you want to deploy a different version of the service with upgraded models. "
      ]
    },
    {
      "cell_type": "code",
      "metadata": {
        "id": "sgszzPhEeBPG",
        "colab": {
          "base_uri": "https://localhost:8080/",
          "height": 66,
          "referenced_widgets": [
            "b4c5665ba0604c138541bda7dccef2f2",
            "5ef892d557604659a297aaaa84f0ab1f",
            "3baaf7edaa42429dbb040feb30595241",
            "14098f346a6c47a0a2d9efe6493448b6",
            "fbaed6b31c8140238dd849a34db5e171",
            "f2628b3989984d9594d004e66acd6a96",
            "08717948ae22406990e9902c279f4fca",
            "06f456d099714a29b46dd6ee61ab5cfb",
            "e66339fa220843ccaf91b272df113222",
            "832d3dea5fd94bbd967b8e98371d422b",
            "9239ea7599044d67ae68d60ec62e0df1"
          ]
        },
        "outputId": "25f213e1-774b-4f36-d7ed-56397ca38e9b"
      },
      "source": [
        "pinecone.delete_index(movielens_index_name)"
      ],
      "execution_count": 23,
      "outputs": [
        {
          "output_type": "display_data",
          "data": {
            "application/vnd.jupyter.widget-view+json": {
              "model_id": "b4c5665ba0604c138541bda7dccef2f2",
              "version_minor": 0,
              "version_major": 2
            },
            "text/plain": [
              "  0%|          | 0/1 [00:00<?, ?it/s]"
            ]
          },
          "metadata": {
            "tags": []
          }
        },
        {
          "output_type": "execute_result",
          "data": {
            "text/plain": [
              "{'success': True}"
            ]
          },
          "metadata": {
            "tags": []
          },
          "execution_count": 23
        }
      ]
    },
    {
      "cell_type": "markdown",
      "metadata": {
        "id": "egyb2cDlv8Yn"
      },
      "source": [
        "## Summary\n",
        "We showed how to build a movie recommendation service using Pinecone. The service embeds user IDs and movie titles, saves them in a vector index, receives and embeds queries, then retrieves, ranks, and displays personalized movie recommendations for any given user."
      ]
    }
  ]
}