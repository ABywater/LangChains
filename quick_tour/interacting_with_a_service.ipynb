{
 "cells": [
  {
   "cell_type": "markdown",
   "id": "forbidden-sunglasses",
   "metadata": {
    "papermill": {
     "duration": 0.039822,
     "end_time": "2021-03-18T04:41:22.269048",
     "exception": false,
     "start_time": "2021-03-18T04:41:22.229226",
     "status": "completed"
    },
    "tags": []
   },
   "source": [
    "# Interacting with a Pinecone service\n",
    "\n",
    "A Pinecone service creates an index for your input vectors,\n",
    "and it lets you query their nearest neighbors.\n",
    "A Pinecone service supports the following operations:\n",
    "\n",
    "* `upsert`: insert data formatted as `(id, vector)` tuples into the index, or replace existing `(id, vector)` tuples with new vector values.\n",
    "* `delete`: delete vectors by id.\n",
    "* `query`: query the index and retrieve the top-k nearest neighbors based on dot-product, cosine-similarity, Euclidean distance, and more. \n",
    "* `fetch`: fetch vectors stored in the index by id.\n",
    "* `info`: get statistics about the index."
   ]
  },
  {
   "cell_type": "markdown",
   "id": "quiet-signal",
   "metadata": {
    "papermill": {
     "duration": 0.029417,
     "end_time": "2021-03-18T04:41:22.330642",
     "exception": false,
     "start_time": "2021-03-18T04:41:22.301225",
     "status": "completed"
    },
    "tags": []
   },
   "source": [
    "## Prerequisites"
   ]
  },
  {
   "cell_type": "markdown",
   "id": "beautiful-paper",
   "metadata": {
    "papermill": {
     "duration": 0.025899,
     "end_time": "2021-03-18T04:41:22.385766",
     "exception": false,
     "start_time": "2021-03-18T04:41:22.359867",
     "status": "completed"
    },
    "tags": []
   },
   "source": [
    "Install dependencies."
   ]
  },
  {
   "cell_type": "code",
   "execution_count": 1,
   "id": "complex-diversity",
   "metadata": {
    "execution": {
     "iopub.execute_input": "2021-03-18T04:41:22.443537Z",
     "iopub.status.busy": "2021-03-18T04:41:22.442867Z",
     "iopub.status.idle": "2021-03-18T04:41:41.194411Z",
     "shell.execute_reply": "2021-03-18T04:41:41.193576Z"
    },
    "papermill": {
     "duration": 18.783206,
     "end_time": "2021-03-18T04:41:41.194785",
     "exception": false,
     "start_time": "2021-03-18T04:41:22.411579",
     "status": "completed"
    },
    "tags": []
   },
   "outputs": [],
   "source": [
    "!pip install -qU pip pinecone-client pandas"
   ]
  },
  {
   "cell_type": "markdown",
   "id": "dynamic-salad",
   "metadata": {
    "papermill": {
     "duration": 0.029743,
     "end_time": "2021-03-18T04:41:41.260679",
     "exception": false,
     "start_time": "2021-03-18T04:41:41.230936",
     "status": "completed"
    },
    "tags": []
   },
   "source": [
    "Set up Pinecone."
   ]
  },
  {
   "cell_type": "code",
   "execution_count": 2,
   "id": "responsible-jamaica",
   "metadata": {
    "execution": {
     "iopub.execute_input": "2021-03-18T04:41:41.333452Z",
     "iopub.status.busy": "2021-03-18T04:41:41.332669Z",
     "iopub.status.idle": "2021-03-18T04:41:41.543199Z",
     "shell.execute_reply": "2021-03-18T04:41:41.543768Z"
    },
    "papermill": {
     "duration": 0.253762,
     "end_time": "2021-03-18T04:41:41.544043",
     "exception": false,
     "start_time": "2021-03-18T04:41:41.290281",
     "status": "completed"
    },
    "tags": []
   },
   "outputs": [],
   "source": [
    "import pinecone\n",
    "import os\n",
    "\n",
    "api_key = os.getenv(\"PINECONE_API_KEY\") or \"USE_YOUR_API_KEY\"\n",
    "pinecone.init(api_key=api_key)"
   ]
  },
  {
   "cell_type": "markdown",
   "id": "fifteen-lottery",
   "metadata": {
    "papermill": {
     "duration": 0.02698,
     "end_time": "2021-03-18T04:41:41.600878",
     "exception": false,
     "start_time": "2021-03-18T04:41:41.573898",
     "status": "completed"
    },
    "tags": []
   },
   "source": [
    "Check Pinecone version compatibility."
   ]
  },
  {
   "cell_type": "code",
   "execution_count": 3,
   "id": "severe-copyright",
   "metadata": {
    "execution": {
     "iopub.execute_input": "2021-03-18T04:41:41.656338Z",
     "iopub.status.busy": "2021-03-18T04:41:41.655555Z",
     "iopub.status.idle": "2021-03-18T04:41:41.821100Z",
     "shell.execute_reply": "2021-03-18T04:41:41.821732Z"
    },
    "papermill": {
     "duration": 0.194522,
     "end_time": "2021-03-18T04:41:41.822053",
     "exception": false,
     "start_time": "2021-03-18T04:41:41.627531",
     "status": "completed"
    },
    "tags": []
   },
   "outputs": [],
   "source": [
    "import pinecone.info\n",
    "\n",
    "version_info = pinecone.info.version()\n",
    "server_version = \".\".join(version_info.server.split(\".\")[:2])\n",
    "client_version = \".\".join(version_info.client.split(\".\")[:2])\n",
    "notebook_version = \"0.8\"\n",
    "\n",
    "assert (\n",
    "    notebook_version == server_version\n",
    "), \"This notebook is outdated. Consider using the latest version of the notebook.\"\n",
    "assert client_version == server_version, \"Please upgrade pinecone-client.\""
   ]
  },
  {
   "cell_type": "markdown",
   "id": "blocked-paradise",
   "metadata": {
    "papermill": {
     "duration": 0.029967,
     "end_time": "2021-03-18T04:41:41.886064",
     "exception": false,
     "start_time": "2021-03-18T04:41:41.856097",
     "status": "completed"
    },
    "tags": []
   },
   "source": [
    "## Interacting with a service"
   ]
  },
  {
   "cell_type": "code",
   "execution_count": 4,
   "id": "communist-height",
   "metadata": {
    "execution": {
     "iopub.execute_input": "2021-03-18T04:41:41.946685Z",
     "iopub.status.busy": "2021-03-18T04:41:41.945958Z",
     "iopub.status.idle": "2021-03-18T04:41:42.378337Z",
     "shell.execute_reply": "2021-03-18T04:41:42.378924Z"
    },
    "papermill": {
     "duration": 0.464102,
     "end_time": "2021-03-18T04:41:42.379222",
     "exception": false,
     "start_time": "2021-03-18T04:41:41.915120",
     "status": "completed"
    },
    "tags": []
   },
   "outputs": [],
   "source": [
    "import pinecone.graph\n",
    "import pinecone.service\n",
    "import pinecone.connector\n",
    "import pandas as pd\n",
    "import numpy as np"
   ]
  },
  {
   "cell_type": "code",
   "execution_count": 5,
   "id": "progressive-blues",
   "metadata": {
    "execution": {
     "iopub.execute_input": "2021-03-18T04:41:42.441669Z",
     "iopub.status.busy": "2021-03-18T04:41:42.440898Z",
     "iopub.status.idle": "2021-03-18T04:41:58.959599Z",
     "shell.execute_reply": "2021-03-18T04:41:58.958733Z"
    },
    "papermill": {
     "duration": 16.550523,
     "end_time": "2021-03-18T04:41:58.959875",
     "exception": false,
     "start_time": "2021-03-18T04:41:42.409352",
     "status": "completed"
    },
    "tags": []
   },
   "outputs": [],
   "source": [
    "service_name = \"pinecone-example\"\n",
    "\n",
    "# Deploy a service\n",
    "graph = pinecone.graph.IndexGraph(metric=\"euclidean\")\n",
    "pinecone.service.deploy(service_name=service_name, graph=graph)\n",
    "\n",
    "# Create a connection\n",
    "conn = pinecone.connector.connect(service_name)"
   ]
  },
  {
   "cell_type": "markdown",
   "id": "billion-imperial",
   "metadata": {
    "papermill": {
     "duration": 0.031276,
     "end_time": "2021-03-18T04:41:59.026521",
     "exception": false,
     "start_time": "2021-03-18T04:41:58.995245",
     "status": "completed"
    },
    "tags": []
   },
   "source": [
    "### Insert vectors"
   ]
  },
  {
   "cell_type": "code",
   "execution_count": 6,
   "id": "analyzed-charity",
   "metadata": {
    "execution": {
     "iopub.execute_input": "2021-03-18T04:41:59.101004Z",
     "iopub.status.busy": "2021-03-18T04:41:59.097406Z",
     "iopub.status.idle": "2021-03-18T04:41:59.110689Z",
     "shell.execute_reply": "2021-03-18T04:41:59.110017Z"
    },
    "papermill": {
     "duration": 0.053944,
     "end_time": "2021-03-18T04:41:59.110925",
     "exception": false,
     "start_time": "2021-03-18T04:41:59.056981",
     "status": "completed"
    },
    "tags": []
   },
   "outputs": [
    {
     "data": {
      "text/html": [
       "<div>\n",
       "<style scoped>\n",
       "    .dataframe tbody tr th:only-of-type {\n",
       "        vertical-align: middle;\n",
       "    }\n",
       "\n",
       "    .dataframe tbody tr th {\n",
       "        vertical-align: top;\n",
       "    }\n",
       "\n",
       "    .dataframe thead th {\n",
       "        text-align: right;\n",
       "    }\n",
       "</style>\n",
       "<table border=\"1\" class=\"dataframe\">\n",
       "  <thead>\n",
       "    <tr style=\"text-align: right;\">\n",
       "      <th></th>\n",
       "      <th>id</th>\n",
       "      <th>vector</th>\n",
       "    </tr>\n",
       "  </thead>\n",
       "  <tbody>\n",
       "    <tr>\n",
       "      <th>0</th>\n",
       "      <td>A</td>\n",
       "      <td>[1, 1]</td>\n",
       "    </tr>\n",
       "    <tr>\n",
       "      <th>1</th>\n",
       "      <td>B</td>\n",
       "      <td>[2, 2]</td>\n",
       "    </tr>\n",
       "    <tr>\n",
       "      <th>2</th>\n",
       "      <td>C</td>\n",
       "      <td>[3, 3]</td>\n",
       "    </tr>\n",
       "    <tr>\n",
       "      <th>3</th>\n",
       "      <td>D</td>\n",
       "      <td>[4, 4]</td>\n",
       "    </tr>\n",
       "    <tr>\n",
       "      <th>4</th>\n",
       "      <td>E</td>\n",
       "      <td>[5, 5]</td>\n",
       "    </tr>\n",
       "  </tbody>\n",
       "</table>\n",
       "</div>"
      ],
      "text/plain": [
       "  id  vector\n",
       "0  A  [1, 1]\n",
       "1  B  [2, 2]\n",
       "2  C  [3, 3]\n",
       "3  D  [4, 4]\n",
       "4  E  [5, 5]"
      ]
     },
     "execution_count": 6,
     "metadata": {},
     "output_type": "execute_result"
    }
   ],
   "source": [
    "# Generate some data\n",
    "\n",
    "df = pd.DataFrame()\n",
    "df[\"id\"] = [\"A\", \"B\", \"C\", \"D\", \"E\"]\n",
    "df[\"vector\"] = [[1, 1], [2, 2], [3, 3], [4, 4], [5, 5]]\n",
    "df"
   ]
  },
  {
   "cell_type": "code",
   "execution_count": 7,
   "id": "checked-christopher",
   "metadata": {
    "execution": {
     "iopub.execute_input": "2021-03-18T04:41:59.180136Z",
     "iopub.status.busy": "2021-03-18T04:41:59.179222Z",
     "iopub.status.idle": "2021-03-18T04:42:05.770093Z",
     "shell.execute_reply": "2021-03-18T04:42:05.769394Z"
    },
    "papermill": {
     "duration": 6.628712,
     "end_time": "2021-03-18T04:42:05.770443",
     "exception": false,
     "start_time": "2021-03-18T04:41:59.141731",
     "status": "completed"
    },
    "tags": []
   },
   "outputs": [
    {
     "data": {
      "text/plain": [
       "[IndexResult(id='A'), IndexResult(id='B')]"
      ]
     },
     "execution_count": 7,
     "metadata": {},
     "output_type": "execute_result"
    }
   ],
   "source": [
    "# Method 1: in-memory, upsert everything at once using `collect()`\n",
    "AB_df = df[:2]\n",
    "acks_AB = conn.upsert(items=zip(AB_df.id, AB_df.vector)).collect()\n",
    "acks_AB"
   ]
  },
  {
   "cell_type": "code",
   "execution_count": 8,
   "id": "impressed-scholarship",
   "metadata": {
    "execution": {
     "iopub.execute_input": "2021-03-18T04:42:05.852956Z",
     "iopub.status.busy": "2021-03-18T04:42:05.851990Z",
     "iopub.status.idle": "2021-03-18T04:42:05.938605Z",
     "shell.execute_reply": "2021-03-18T04:42:05.937874Z"
    },
    "papermill": {
     "duration": 0.13334,
     "end_time": "2021-03-18T04:42:05.938861",
     "exception": false,
     "start_time": "2021-03-18T04:42:05.805521",
     "status": "completed"
    },
    "tags": []
   },
   "outputs": [
    {
     "name": "stdout",
     "output_type": "stream",
     "text": [
      "[IndexResult(id='C')]\n",
      "[IndexResult(id='D'), IndexResult(id='E')]\n"
     ]
    }
   ],
   "source": [
    "# Method 2: in-memory, batch-by-batch\n",
    "CDE_df = df[2:]\n",
    "db_cursor = conn.upsert(items=zip(CDE_df.id, CDE_df.vector))\n",
    "acks_C = db_cursor.take(1)\n",
    "acks_DE = db_cursor.take(2)\n",
    "print(acks_C)\n",
    "print(acks_DE)"
   ]
  },
  {
   "cell_type": "code",
   "execution_count": 9,
   "id": "civil-wilderness",
   "metadata": {
    "execution": {
     "iopub.execute_input": "2021-03-18T04:42:06.016112Z",
     "iopub.status.busy": "2021-03-18T04:42:06.014728Z",
     "iopub.status.idle": "2021-03-18T04:42:06.062797Z",
     "shell.execute_reply": "2021-03-18T04:42:06.061507Z"
    },
    "papermill": {
     "duration": 0.089102,
     "end_time": "2021-03-18T04:42:06.063168",
     "exception": false,
     "start_time": "2021-03-18T04:42:05.974066",
     "status": "completed"
    },
    "tags": []
   },
   "outputs": [
    {
     "name": "stdout",
     "output_type": "stream",
     "text": [
      "<generator object <genexpr> at 0x7f6d13812cf0>\n",
      "IndexResult(id='A0')\n",
      "IndexResult(id='A1')\n",
      "IndexResult(id='A2')\n",
      "IndexResult(id='A3')\n",
      "IndexResult(id='A4')\n",
      "IndexResult(id='A5')\n",
      "IndexResult(id='A6')\n",
      "IndexResult(id='A7')\n",
      "IndexResult(id='A8')\n",
      "IndexResult(id='A9')\n"
     ]
    }
   ],
   "source": [
    "# Method 3: stream with generators.\n",
    "# This interface allows you to, for instance, consume Kafka streams.\n",
    "stream_iterator = ((\"A{}\".format(ii), [101, 201]) for ii in range(10))\n",
    "print(stream_iterator)\n",
    "\n",
    "for ack in conn.upsert(items=stream_iterator).stream():\n",
    "    print(ack)"
   ]
  },
  {
   "cell_type": "markdown",
   "id": "psychological-estate",
   "metadata": {
    "papermill": {
     "duration": 0.035993,
     "end_time": "2021-03-18T04:42:06.141481",
     "exception": false,
     "start_time": "2021-03-18T04:42:06.105488",
     "status": "completed"
    },
    "tags": []
   },
   "source": [
    "### Fetch vectors"
   ]
  },
  {
   "cell_type": "code",
   "execution_count": 10,
   "id": "varied-scene",
   "metadata": {
    "execution": {
     "iopub.execute_input": "2021-03-18T04:42:06.216563Z",
     "iopub.status.busy": "2021-03-18T04:42:06.215585Z",
     "iopub.status.idle": "2021-03-18T04:42:06.264009Z",
     "shell.execute_reply": "2021-03-18T04:42:06.264655Z"
    },
    "papermill": {
     "duration": 0.088397,
     "end_time": "2021-03-18T04:42:06.264952",
     "exception": false,
     "start_time": "2021-03-18T04:42:06.176555",
     "status": "completed"
    },
    "tags": []
   },
   "outputs": [
    {
     "name": "stdout",
     "output_type": "stream",
     "text": [
      "FetchResult(id='A', vector=array([1., 1.], dtype=float32))\n",
      "FetchResult(id='B', vector=array([2., 2.], dtype=float32))\n",
      "FetchResult(id='C', vector=array([3., 3.], dtype=float32))\n"
     ]
    },
    {
     "data": {
      "text/plain": [
       "[None, None, None]"
      ]
     },
     "execution_count": 10,
     "metadata": {},
     "output_type": "execute_result"
    }
   ],
   "source": [
    "# Fetch vectors by ID\n",
    "fetch_results = conn.fetch(ids=[\"A\", \"B\", \"C\"]).collect()\n",
    "list(map(print, fetch_results))"
   ]
  },
  {
   "cell_type": "markdown",
   "id": "frank-participation",
   "metadata": {
    "papermill": {
     "duration": 0.036175,
     "end_time": "2021-03-18T04:42:06.335647",
     "exception": false,
     "start_time": "2021-03-18T04:42:06.299472",
     "status": "completed"
    },
    "tags": []
   },
   "source": [
    "### Query top-k vectors"
   ]
  },
  {
   "cell_type": "code",
   "execution_count": 11,
   "id": "dried-demographic",
   "metadata": {
    "execution": {
     "iopub.execute_input": "2021-03-18T04:42:06.416328Z",
     "iopub.status.busy": "2021-03-18T04:42:06.415243Z",
     "iopub.status.idle": "2021-03-18T04:42:06.463283Z",
     "shell.execute_reply": "2021-03-18T04:42:06.463914Z"
    },
    "papermill": {
     "duration": 0.088719,
     "end_time": "2021-03-18T04:42:06.464221",
     "exception": false,
     "start_time": "2021-03-18T04:42:06.375502",
     "status": "completed"
    },
    "tags": []
   },
   "outputs": [
    {
     "name": "stdout",
     "output_type": "stream",
     "text": [
      "QueryResult(ids=['A', 'B'], scores=[-0.019999980926513672, -1.619999885559082], data=None)\n",
      "QueryResult(ids=['B', 'C'], scores=[-0.07999992370605469, -1.279998779296875], data=None)\n"
     ]
    },
    {
     "data": {
      "text/plain": [
       "[None, None]"
      ]
     },
     "execution_count": 11,
     "metadata": {},
     "output_type": "execute_result"
    }
   ],
   "source": [
    "# Query top-k nearest neighbors\n",
    "query_results = conn.query(queries=[[1.1, 1.1], [2.2, 2.2]], top_k=2).collect()\n",
    "list(map(print, query_results))"
   ]
  },
  {
   "cell_type": "markdown",
   "id": "binary-drama",
   "metadata": {
    "papermill": {
     "duration": 0.038969,
     "end_time": "2021-03-18T04:42:06.539456",
     "exception": false,
     "start_time": "2021-03-18T04:42:06.500487",
     "status": "completed"
    },
    "tags": []
   },
   "source": [
    "### Update vectors by ID"
   ]
  },
  {
   "cell_type": "code",
   "execution_count": 12,
   "id": "generic-witness",
   "metadata": {
    "execution": {
     "iopub.execute_input": "2021-03-18T04:42:06.613187Z",
     "iopub.status.busy": "2021-03-18T04:42:06.611945Z",
     "iopub.status.idle": "2021-03-18T04:42:06.658612Z",
     "shell.execute_reply": "2021-03-18T04:42:06.659168Z"
    },
    "papermill": {
     "duration": 0.086843,
     "end_time": "2021-03-18T04:42:06.659542",
     "exception": false,
     "start_time": "2021-03-18T04:42:06.572699",
     "status": "completed"
    },
    "tags": []
   },
   "outputs": [
    {
     "name": "stdout",
     "output_type": "stream",
     "text": [
      "FetchResult(id='A', vector=array([1., 1.], dtype=float32))\n"
     ]
    },
    {
     "data": {
      "text/plain": [
       "[None]"
      ]
     },
     "execution_count": 12,
     "metadata": {},
     "output_type": "execute_result"
    }
   ],
   "source": [
    "# Fetch current vectors by ID\n",
    "fetch_results = conn.fetch(ids=[\"A\"]).collect()\n",
    "list(map(print, fetch_results))"
   ]
  },
  {
   "cell_type": "code",
   "execution_count": 13,
   "id": "comic-rwanda",
   "metadata": {
    "execution": {
     "iopub.execute_input": "2021-03-18T04:42:06.741740Z",
     "iopub.status.busy": "2021-03-18T04:42:06.740122Z",
     "iopub.status.idle": "2021-03-18T04:42:06.786206Z",
     "shell.execute_reply": "2021-03-18T04:42:06.785451Z"
    },
    "papermill": {
     "duration": 0.089522,
     "end_time": "2021-03-18T04:42:06.786483",
     "exception": false,
     "start_time": "2021-03-18T04:42:06.696961",
     "status": "completed"
    },
    "tags": []
   },
   "outputs": [
    {
     "data": {
      "text/plain": [
       "[IndexResult(id='A')]"
      ]
     },
     "execution_count": 13,
     "metadata": {},
     "output_type": "execute_result"
    }
   ],
   "source": [
    "# Update vectors by ID\n",
    "acks = conn.upsert(items=[(\"A\", [0, 0])]).collect()\n",
    "acks"
   ]
  },
  {
   "cell_type": "code",
   "execution_count": 14,
   "id": "gentle-messenger",
   "metadata": {
    "execution": {
     "iopub.execute_input": "2021-03-18T04:42:06.866468Z",
     "iopub.status.busy": "2021-03-18T04:42:06.865539Z",
     "iopub.status.idle": "2021-03-18T04:42:06.910211Z",
     "shell.execute_reply": "2021-03-18T04:42:06.909545Z"
    },
    "papermill": {
     "duration": 0.087783,
     "end_time": "2021-03-18T04:42:06.910450",
     "exception": false,
     "start_time": "2021-03-18T04:42:06.822667",
     "status": "completed"
    },
    "tags": []
   },
   "outputs": [
    {
     "name": "stdout",
     "output_type": "stream",
     "text": [
      "FetchResult(id='A', vector=array([0., 0.], dtype=float32))\n"
     ]
    },
    {
     "data": {
      "text/plain": [
       "[None]"
      ]
     },
     "execution_count": 14,
     "metadata": {},
     "output_type": "execute_result"
    }
   ],
   "source": [
    "# Fetch vectors by the same ID again\n",
    "fetch_results = conn.fetch(ids=[\"A\"]).collect()\n",
    "list(map(print, fetch_results))"
   ]
  },
  {
   "cell_type": "markdown",
   "id": "manual-format",
   "metadata": {
    "papermill": {
     "duration": 0.051598,
     "end_time": "2021-03-18T04:42:06.999995",
     "exception": false,
     "start_time": "2021-03-18T04:42:06.948397",
     "status": "completed"
    },
    "tags": []
   },
   "source": [
    "### Delete vectors by ID"
   ]
  },
  {
   "cell_type": "code",
   "execution_count": 15,
   "id": "hispanic-talent",
   "metadata": {
    "execution": {
     "iopub.execute_input": "2021-03-18T04:42:07.089202Z",
     "iopub.status.busy": "2021-03-18T04:42:07.088271Z",
     "iopub.status.idle": "2021-03-18T04:42:07.132975Z",
     "shell.execute_reply": "2021-03-18T04:42:07.132017Z"
    },
    "papermill": {
     "duration": 0.090171,
     "end_time": "2021-03-18T04:42:07.133289",
     "exception": false,
     "start_time": "2021-03-18T04:42:07.043118",
     "status": "completed"
    },
    "tags": []
   },
   "outputs": [
    {
     "name": "stdout",
     "output_type": "stream",
     "text": [
      "[DeleteResult(id='A')]\n"
     ]
    }
   ],
   "source": [
    "# Delete vectors by ID\n",
    "acks = conn.delete(ids=[\"A\"]).collect()\n",
    "print(acks)"
   ]
  },
  {
   "cell_type": "code",
   "execution_count": 16,
   "id": "romantic-dubai",
   "metadata": {
    "execution": {
     "iopub.execute_input": "2021-03-18T04:42:07.224961Z",
     "iopub.status.busy": "2021-03-18T04:42:07.223729Z",
     "iopub.status.idle": "2021-03-18T04:42:07.267575Z",
     "shell.execute_reply": "2021-03-18T04:42:07.268228Z"
    },
    "papermill": {
     "duration": 0.092867,
     "end_time": "2021-03-18T04:42:07.268618",
     "exception": false,
     "start_time": "2021-03-18T04:42:07.175751",
     "status": "completed"
    },
    "tags": []
   },
   "outputs": [
    {
     "name": "stdout",
     "output_type": "stream",
     "text": [
      "FetchResult(id='A', vector=array([], dtype=float32))\n",
      "FetchResult(id='B', vector=array([2., 2.], dtype=float32))\n"
     ]
    },
    {
     "data": {
      "text/plain": [
       "[None, None]"
      ]
     },
     "execution_count": 16,
     "metadata": {},
     "output_type": "execute_result"
    }
   ],
   "source": [
    "# Deleted vectors are empty\n",
    "fetch_results = conn.fetch(ids=[\"A\", \"B\"]).collect()\n",
    "list(map(print, fetch_results))"
   ]
  },
  {
   "cell_type": "markdown",
   "id": "balanced-intellectual",
   "metadata": {
    "papermill": {
     "duration": 0.050639,
     "end_time": "2021-03-18T04:42:07.357292",
     "exception": false,
     "start_time": "2021-03-18T04:42:07.306653",
     "status": "completed"
    },
    "tags": []
   },
   "source": [
    "### Get index statistics"
   ]
  },
  {
   "cell_type": "code",
   "execution_count": 17,
   "id": "nonprofit-popularity",
   "metadata": {
    "execution": {
     "iopub.execute_input": "2021-03-18T04:42:07.442409Z",
     "iopub.status.busy": "2021-03-18T04:42:07.441338Z",
     "iopub.status.idle": "2021-03-18T04:42:07.482891Z",
     "shell.execute_reply": "2021-03-18T04:42:07.482403Z"
    },
    "papermill": {
     "duration": 0.086667,
     "end_time": "2021-03-18T04:42:07.483120",
     "exception": false,
     "start_time": "2021-03-18T04:42:07.396453",
     "status": "completed"
    },
    "tags": []
   },
   "outputs": [
    {
     "data": {
      "text/plain": [
       "InfoResult(index_size=14)"
      ]
     },
     "execution_count": 17,
     "metadata": {},
     "output_type": "execute_result"
    }
   ],
   "source": [
    "# Index statistics\n",
    "conn.info()"
   ]
  },
  {
   "cell_type": "markdown",
   "id": "directed-keyboard",
   "metadata": {
    "papermill": {
     "duration": 0.035407,
     "end_time": "2021-03-18T04:42:07.555875",
     "exception": false,
     "start_time": "2021-03-18T04:42:07.520468",
     "status": "completed"
    },
    "tags": []
   },
   "source": [
    "### Stop the service"
   ]
  },
  {
   "cell_type": "code",
   "execution_count": 18,
   "id": "supported-casino",
   "metadata": {
    "execution": {
     "iopub.execute_input": "2021-03-18T04:42:07.633358Z",
     "iopub.status.busy": "2021-03-18T04:42:07.632629Z",
     "iopub.status.idle": "2021-03-18T04:42:23.587730Z",
     "shell.execute_reply": "2021-03-18T04:42:23.588402Z"
    },
    "papermill": {
     "duration": 15.996532,
     "end_time": "2021-03-18T04:42:23.588746",
     "exception": false,
     "start_time": "2021-03-18T04:42:07.592214",
     "status": "completed"
    },
    "tags": []
   },
   "outputs": [
    {
     "data": {
      "text/plain": [
       "{'success': True}"
      ]
     },
     "execution_count": 18,
     "metadata": {},
     "output_type": "execute_result"
    }
   ],
   "source": [
    "# stop the service\n",
    "pinecone.service.stop(service_name=service_name)"
   ]
  }
 ],
 "metadata": {
  "kernelspec": {
   "display_name": "Python 3",
   "language": "python",
   "name": "python3"
  },
  "language_info": {
   "codemirror_mode": {
    "name": "ipython",
    "version": 3
   },
   "file_extension": ".py",
   "mimetype": "text/x-python",
   "name": "python",
   "nbconvert_exporter": "python",
   "pygments_lexer": "ipython3",
   "version": "3.7.0"
  },
  "papermill": {
   "default_parameters": {},
   "duration": 62.809562,
   "end_time": "2021-03-18T04:42:23.943469",
   "environment_variables": {},
   "exception": null,
   "input_path": "/notebooks/quick_tour/interacting_with_a_service.ipynb",
   "output_path": "/notebooks/build/quick_tour/interacting_with_a_service.ipynb",
   "parameters": {},
   "start_time": "2021-03-18T04:41:21.133907",
   "version": "2.3.3"
  }
 },
 "nbformat": 4,
 "nbformat_minor": 5
}
