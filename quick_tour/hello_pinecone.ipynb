{
 "cells": [
  {
   "cell_type": "markdown",
   "id": "conceptual-belfast",
   "metadata": {
    "papermill": {
     "duration": 0.024304,
     "end_time": "2021-03-19T02:52:25.578137",
     "exception": false,
     "start_time": "2021-03-19T02:52:25.553833",
     "status": "completed"
    },
    "tags": []
   },
   "source": [
    "# Hello, Pinecone!"
   ]
  },
  {
   "cell_type": "markdown",
   "id": "first-affairs",
   "metadata": {
    "papermill": {
     "duration": 0.020302,
     "end_time": "2021-03-19T02:52:25.620510",
     "exception": false,
     "start_time": "2021-03-19T02:52:25.600208",
     "status": "completed"
    },
    "tags": []
   },
   "source": [
    "## Prerequisites"
   ]
  },
  {
   "cell_type": "markdown",
   "id": "banned-huntington",
   "metadata": {
    "papermill": {
     "duration": 0.018013,
     "end_time": "2021-03-19T02:52:25.657609",
     "exception": false,
     "start_time": "2021-03-19T02:52:25.639596",
     "status": "completed"
    },
    "tags": []
   },
   "source": [
    "Install dependencies."
   ]
  },
  {
   "cell_type": "code",
   "execution_count": 1,
   "id": "parallel-detective",
   "metadata": {
    "execution": {
     "iopub.execute_input": "2021-03-19T02:52:25.700210Z",
     "iopub.status.busy": "2021-03-19T02:52:25.698618Z",
     "iopub.status.idle": "2021-03-19T02:52:47.269756Z",
     "shell.execute_reply": "2021-03-19T02:52:47.268871Z"
    },
    "papermill": {
     "duration": 21.594513,
     "end_time": "2021-03-19T02:52:47.270073",
     "exception": false,
     "start_time": "2021-03-19T02:52:25.675560",
     "status": "completed"
    },
    "tags": []
   },
   "outputs": [],
   "source": [
    "!pip install -qU pip pinecone-client pandas"
   ]
  },
  {
   "cell_type": "markdown",
   "id": "outer-cartridge",
   "metadata": {
    "papermill": {
     "duration": 0.024197,
     "end_time": "2021-03-19T02:52:47.322828",
     "exception": false,
     "start_time": "2021-03-19T02:52:47.298631",
     "status": "completed"
    },
    "tags": []
   },
   "source": [
    "Set up Pinecone."
   ]
  },
  {
   "cell_type": "code",
   "execution_count": 2,
   "id": "labeled-specialist",
   "metadata": {
    "execution": {
     "iopub.execute_input": "2021-03-19T02:52:47.374057Z",
     "iopub.status.busy": "2021-03-19T02:52:47.373435Z",
     "iopub.status.idle": "2021-03-19T02:52:47.609477Z",
     "shell.execute_reply": "2021-03-19T02:52:47.608370Z"
    },
    "papermill": {
     "duration": 0.258898,
     "end_time": "2021-03-19T02:52:47.609706",
     "exception": false,
     "start_time": "2021-03-19T02:52:47.350808",
     "status": "completed"
    },
    "tags": []
   },
   "outputs": [],
   "source": [
    "import pinecone\n",
    "import os\n",
    "\n",
    "api_key = os.getenv(\"PINECONE_API_KEY\") or \"USE_YOUR_API_KEY\"\n",
    "pinecone.init(api_key=api_key)"
   ]
  },
  {
   "cell_type": "markdown",
   "id": "round-adoption",
   "metadata": {
    "papermill": {
     "duration": 0.018844,
     "end_time": "2021-03-19T02:52:47.655664",
     "exception": false,
     "start_time": "2021-03-19T02:52:47.636820",
     "status": "completed"
    },
    "tags": []
   },
   "source": [
    "Check Pinecone version compatibility."
   ]
  },
  {
   "cell_type": "code",
   "execution_count": 3,
   "id": "severe-barrel",
   "metadata": {
    "execution": {
     "iopub.execute_input": "2021-03-19T02:52:47.705726Z",
     "iopub.status.busy": "2021-03-19T02:52:47.705030Z",
     "iopub.status.idle": "2021-03-19T02:52:47.985208Z",
     "shell.execute_reply": "2021-03-19T02:52:47.984512Z"
    },
    "papermill": {
     "duration": 0.308489,
     "end_time": "2021-03-19T02:52:47.985550",
     "exception": false,
     "start_time": "2021-03-19T02:52:47.677061",
     "status": "completed"
    },
    "tags": []
   },
   "outputs": [],
   "source": [
    "import pinecone.info\n",
    "\n",
    "version_info = pinecone.info.version()\n",
    "server_version = \".\".join(version_info.server.split(\".\")[:2])\n",
    "client_version = \".\".join(version_info.client.split(\".\")[:2])\n",
    "notebook_version = \"0.8\"\n",
    "\n",
    "assert (\n",
    "    notebook_version == server_version\n",
    "), \"This notebook is outdated. Consider using the latest version of the notebook.\"\n",
    "assert client_version == server_version, \"Please upgrade pinecone-client.\""
   ]
  },
  {
   "cell_type": "markdown",
   "id": "forbidden-indication",
   "metadata": {
    "papermill": {
     "duration": 0.024477,
     "end_time": "2021-03-19T02:52:48.034345",
     "exception": false,
     "start_time": "2021-03-19T02:52:48.009868",
     "status": "completed"
    },
    "tags": []
   },
   "source": [
    "## Pinecone quickstart"
   ]
  },
  {
   "cell_type": "code",
   "execution_count": 4,
   "id": "inappropriate-progressive",
   "metadata": {
    "execution": {
     "iopub.execute_input": "2021-03-19T02:52:48.082493Z",
     "iopub.status.busy": "2021-03-19T02:52:48.081809Z",
     "iopub.status.idle": "2021-03-19T02:52:48.597487Z",
     "shell.execute_reply": "2021-03-19T02:52:48.596816Z"
    },
    "papermill": {
     "duration": 0.540406,
     "end_time": "2021-03-19T02:52:48.597727",
     "exception": false,
     "start_time": "2021-03-19T02:52:48.057321",
     "status": "completed"
    },
    "tags": []
   },
   "outputs": [],
   "source": [
    "import pinecone.graph\n",
    "import pinecone.service\n",
    "import pinecone.connector\n",
    "import pandas as pd"
   ]
  },
  {
   "cell_type": "code",
   "execution_count": 5,
   "id": "synthetic-essex",
   "metadata": {
    "execution": {
     "iopub.execute_input": "2021-03-19T02:52:48.644210Z",
     "iopub.status.busy": "2021-03-19T02:52:48.643588Z",
     "iopub.status.idle": "2021-03-19T02:52:48.646840Z",
     "shell.execute_reply": "2021-03-19T02:52:48.647325Z"
    },
    "papermill": {
     "duration": 0.028053,
     "end_time": "2021-03-19T02:52:48.647526",
     "exception": false,
     "start_time": "2021-03-19T02:52:48.619473",
     "status": "completed"
    },
    "tags": []
   },
   "outputs": [],
   "source": [
    "service_name = \"hello-pinecone\""
   ]
  },
  {
   "cell_type": "code",
   "execution_count": 6,
   "id": "infrared-ordinary",
   "metadata": {
    "execution": {
     "iopub.execute_input": "2021-03-19T02:52:48.691190Z",
     "iopub.status.busy": "2021-03-19T02:52:48.690547Z",
     "iopub.status.idle": "2021-03-19T02:52:48.693852Z",
     "shell.execute_reply": "2021-03-19T02:52:48.693260Z"
    },
    "papermill": {
     "duration": 0.026444,
     "end_time": "2021-03-19T02:52:48.694030",
     "exception": false,
     "start_time": "2021-03-19T02:52:48.667586",
     "status": "completed"
    },
    "tags": []
   },
   "outputs": [],
   "source": [
    "graph = pinecone.graph.IndexGraph()  # Create a Pinecone graph"
   ]
  },
  {
   "cell_type": "code",
   "execution_count": 7,
   "id": "affiliated-messenger",
   "metadata": {
    "execution": {
     "iopub.execute_input": "2021-03-19T02:52:48.737293Z",
     "iopub.status.busy": "2021-03-19T02:52:48.736638Z",
     "iopub.status.idle": "2021-03-19T02:52:48.859449Z",
     "shell.execute_reply": "2021-03-19T02:52:48.858716Z"
    },
    "papermill": {
     "duration": 0.145868,
     "end_time": "2021-03-19T02:52:48.859664",
     "exception": false,
     "start_time": "2021-03-19T02:52:48.713796",
     "status": "completed"
    },
    "tags": []
   },
   "outputs": [
    {
     "data": {
      "image/svg+xml": [
       "<?xml version=\"1.0\" encoding=\"UTF-8\" standalone=\"no\"?>\n",
       "<!DOCTYPE svg PUBLIC \"-//W3C//DTD SVG 1.1//EN\"\n",
       " \"http://www.w3.org/Graphics/SVG/1.1/DTD/svg11.dtd\">\n",
       "<!-- Generated by graphviz version 2.38.0 (20140413.2041)\n",
       " -->\n",
       "<!-- Title: %3 Pages: 1 -->\n",
       "<svg width=\"184pt\" height=\"218pt\"\n",
       " viewBox=\"0.00 0.00 184.14 218.00\" xmlns=\"http://www.w3.org/2000/svg\" xmlns:xlink=\"http://www.w3.org/1999/xlink\">\n",
       "<g id=\"graph0\" class=\"graph\" transform=\"scale(1 1) rotate(0) translate(4 214)\">\n",
       "<title>%3</title>\n",
       "<polygon fill=\"white\" stroke=\"none\" points=\"-4,4 -4,-214 180.142,-214 180.142,4 -4,4\"/>\n",
       "<!-- incoming traffic -->\n",
       "<g id=\"node1\" class=\"node\"><title>incoming traffic</title>\n",
       "<ellipse fill=\"none\" stroke=\"black\" cx=\"85.1424\" cy=\"-192\" rx=\"85.2851\" ry=\"18\"/>\n",
       "<text text-anchor=\"middle\" x=\"85.1424\" y=\"-188.3\" font-family=\"Times,serif\" font-size=\"14.00\">incoming traffic</text>\n",
       "</g>\n",
       "<!-- engine -->\n",
       "<g id=\"node2\" class=\"node\"><title>engine</title>\n",
       "<ellipse fill=\"none\" stroke=\"black\" cx=\"85.1424\" cy=\"-105\" rx=\"42.4939\" ry=\"18\"/>\n",
       "<text text-anchor=\"middle\" x=\"85.1424\" y=\"-101.3\" font-family=\"Times,serif\" font-size=\"14.00\">engine</text>\n",
       "</g>\n",
       "<!-- incoming traffic&#45;&gt;engine -->\n",
       "<g id=\"edge1\" class=\"edge\"><title>incoming traffic&#45;&gt;engine</title>\n",
       "<path fill=\"none\" stroke=\"black\" d=\"M85.1424,-173.799C85.1424,-162.163 85.1424,-146.548 85.1424,-133.237\"/>\n",
       "<polygon fill=\"black\" stroke=\"black\" points=\"88.6425,-133.175 85.1424,-123.175 81.6425,-133.175 88.6425,-133.175\"/>\n",
       "<text text-anchor=\"middle\" x=\"130.642\" y=\"-144.8\" font-family=\"Times,serif\" font-size=\"14.00\">[read][write]</text>\n",
       "</g>\n",
       "<!-- outgoing traffic -->\n",
       "<g id=\"node3\" class=\"node\"><title>outgoing traffic</title>\n",
       "<ellipse fill=\"none\" stroke=\"black\" cx=\"85.1424\" cy=\"-18\" rx=\"83.3857\" ry=\"18\"/>\n",
       "<text text-anchor=\"middle\" x=\"85.1424\" y=\"-14.3\" font-family=\"Times,serif\" font-size=\"14.00\">outgoing traffic</text>\n",
       "</g>\n",
       "<!-- engine&#45;&gt;outgoing traffic -->\n",
       "<g id=\"edge2\" class=\"edge\"><title>engine&#45;&gt;outgoing traffic</title>\n",
       "<path fill=\"none\" stroke=\"black\" d=\"M85.1424,-86.799C85.1424,-75.1626 85.1424,-59.5479 85.1424,-46.2368\"/>\n",
       "<polygon fill=\"black\" stroke=\"black\" points=\"88.6425,-46.1754 85.1424,-36.1754 81.6425,-46.1755 88.6425,-46.1754\"/>\n",
       "<text text-anchor=\"middle\" x=\"130.642\" y=\"-57.8\" font-family=\"Times,serif\" font-size=\"14.00\">[read][write]</text>\n",
       "</g>\n",
       "</g>\n",
       "</svg>\n"
      ],
      "text/plain": [
       "<graphviz.files.Source at 0x7f9e529f6a58>"
      ]
     },
     "execution_count": 7,
     "metadata": {},
     "output_type": "execute_result"
    }
   ],
   "source": [
    "graph.view()  # view the graph"
   ]
  },
  {
   "cell_type": "code",
   "execution_count": 8,
   "id": "opposed-apple",
   "metadata": {
    "execution": {
     "iopub.execute_input": "2021-03-19T02:52:48.908790Z",
     "iopub.status.busy": "2021-03-19T02:52:48.908050Z",
     "iopub.status.idle": "2021-03-19T02:53:00.097052Z",
     "shell.execute_reply": "2021-03-19T02:53:00.096436Z"
    },
    "papermill": {
     "duration": 11.217977,
     "end_time": "2021-03-19T02:53:00.097385",
     "exception": false,
     "start_time": "2021-03-19T02:52:48.879408",
     "status": "completed"
    },
    "tags": []
   },
   "outputs": [
    {
     "data": {
      "text/plain": [
       "{'msg': '', 'success': True}"
      ]
     },
     "execution_count": 8,
     "metadata": {},
     "output_type": "execute_result"
    }
   ],
   "source": [
    "pinecone.service.deploy(service_name, graph)  # deploy the graph as a service"
   ]
  },
  {
   "cell_type": "code",
   "execution_count": 9,
   "id": "perfect-attachment",
   "metadata": {
    "execution": {
     "iopub.execute_input": "2021-03-19T02:53:00.155420Z",
     "iopub.status.busy": "2021-03-19T02:53:00.154580Z",
     "iopub.status.idle": "2021-03-19T02:53:00.357232Z",
     "shell.execute_reply": "2021-03-19T02:53:00.356552Z"
    },
    "papermill": {
     "duration": 0.234478,
     "end_time": "2021-03-19T02:53:00.357570",
     "exception": false,
     "start_time": "2021-03-19T02:53:00.123092",
     "status": "completed"
    },
    "tags": []
   },
   "outputs": [],
   "source": [
    "conn = pinecone.connector.connect(service_name)  # connect to the service"
   ]
  },
  {
   "cell_type": "code",
   "execution_count": 10,
   "id": "indirect-lafayette",
   "metadata": {
    "execution": {
     "iopub.execute_input": "2021-03-19T02:53:00.419131Z",
     "iopub.status.busy": "2021-03-19T02:53:00.418487Z",
     "iopub.status.idle": "2021-03-19T02:53:00.425778Z",
     "shell.execute_reply": "2021-03-19T02:53:00.425258Z"
    },
    "papermill": {
     "duration": 0.039937,
     "end_time": "2021-03-19T02:53:00.425985",
     "exception": false,
     "start_time": "2021-03-19T02:53:00.386048",
     "status": "completed"
    },
    "tags": []
   },
   "outputs": [
    {
     "data": {
      "text/html": [
       "<div>\n",
       "<style scoped>\n",
       "    .dataframe tbody tr th:only-of-type {\n",
       "        vertical-align: middle;\n",
       "    }\n",
       "\n",
       "    .dataframe tbody tr th {\n",
       "        vertical-align: top;\n",
       "    }\n",
       "\n",
       "    .dataframe thead th {\n",
       "        text-align: right;\n",
       "    }\n",
       "</style>\n",
       "<table border=\"1\" class=\"dataframe\">\n",
       "  <thead>\n",
       "    <tr style=\"text-align: right;\">\n",
       "      <th></th>\n",
       "      <th>id</th>\n",
       "      <th>vector</th>\n",
       "    </tr>\n",
       "  </thead>\n",
       "  <tbody>\n",
       "    <tr>\n",
       "      <th>0</th>\n",
       "      <td>A</td>\n",
       "      <td>[1, 1, 1]</td>\n",
       "    </tr>\n",
       "    <tr>\n",
       "      <th>1</th>\n",
       "      <td>B</td>\n",
       "      <td>[1, 2, 3]</td>\n",
       "    </tr>\n",
       "  </tbody>\n",
       "</table>\n",
       "</div>"
      ],
      "text/plain": [
       "  id     vector\n",
       "0  A  [1, 1, 1]\n",
       "1  B  [1, 2, 3]"
      ]
     },
     "execution_count": 10,
     "metadata": {},
     "output_type": "execute_result"
    }
   ],
   "source": [
    "df = pd.DataFrame(data={\"id\": [\"A\", \"B\"], \"vector\": [[1, 1, 1], [1, 2, 3]]})\n",
    "df"
   ]
  },
  {
   "cell_type": "code",
   "execution_count": 11,
   "id": "efficient-parliament",
   "metadata": {
    "execution": {
     "iopub.execute_input": "2021-03-19T02:53:00.471802Z",
     "iopub.status.busy": "2021-03-19T02:53:00.471120Z",
     "iopub.status.idle": "2021-03-19T02:53:06.689801Z",
     "shell.execute_reply": "2021-03-19T02:53:06.688947Z"
    },
    "papermill": {
     "duration": 6.244392,
     "end_time": "2021-03-19T02:53:06.690128",
     "exception": false,
     "start_time": "2021-03-19T02:53:00.445736",
     "status": "completed"
    },
    "tags": []
   },
   "outputs": [
    {
     "data": {
      "text/plain": [
       "[IndexResult(id='A'), IndexResult(id='B')]"
      ]
     },
     "execution_count": 11,
     "metadata": {},
     "output_type": "execute_result"
    }
   ],
   "source": [
    "conn.upsert(items=zip(df.id, df.vector)).collect()  # insert vectors"
   ]
  },
  {
   "cell_type": "code",
   "execution_count": 12,
   "id": "enclosed-performer",
   "metadata": {
    "execution": {
     "iopub.execute_input": "2021-03-19T02:53:06.753075Z",
     "iopub.status.busy": "2021-03-19T02:53:06.752266Z",
     "iopub.status.idle": "2021-03-19T02:53:06.797587Z",
     "shell.execute_reply": "2021-03-19T02:53:06.796896Z"
    },
    "papermill": {
     "duration": 0.077403,
     "end_time": "2021-03-19T02:53:06.797852",
     "exception": false,
     "start_time": "2021-03-19T02:53:06.720449",
     "status": "completed"
    },
    "tags": []
   },
   "outputs": [
    {
     "data": {
      "text/plain": [
       "InfoResult(index_size=2)"
      ]
     },
     "execution_count": 12,
     "metadata": {},
     "output_type": "execute_result"
    }
   ],
   "source": [
    "conn.info()  # index info"
   ]
  },
  {
   "cell_type": "code",
   "execution_count": 13,
   "id": "leading-shape",
   "metadata": {
    "execution": {
     "iopub.execute_input": "2021-03-19T02:53:06.849822Z",
     "iopub.status.busy": "2021-03-19T02:53:06.849249Z",
     "iopub.status.idle": "2021-03-19T02:53:06.897143Z",
     "shell.execute_reply": "2021-03-19T02:53:06.897815Z"
    },
    "papermill": {
     "duration": 0.074746,
     "end_time": "2021-03-19T02:53:06.898110",
     "exception": false,
     "start_time": "2021-03-19T02:53:06.823364",
     "status": "completed"
    },
    "tags": []
   },
   "outputs": [
    {
     "data": {
      "text/plain": [
       "[QueryResult(ids=['A', 'B'], scores=[0.9999999403953552, 0.925819993019104], data=None),\n",
       " QueryResult(ids=['B', 'A'], scores=[0.9999998807907104, 0.925819993019104], data=None)]"
      ]
     },
     "execution_count": 13,
     "metadata": {},
     "output_type": "execute_result"
    }
   ],
   "source": [
    "conn.query(queries=[[2, 2, 2], [2, 4, 6]]).collect()"
   ]
  },
  {
   "cell_type": "code",
   "execution_count": 14,
   "id": "indian-broadcast",
   "metadata": {
    "execution": {
     "iopub.execute_input": "2021-03-19T02:53:06.953470Z",
     "iopub.status.busy": "2021-03-19T02:53:06.952728Z",
     "iopub.status.idle": "2021-03-19T02:53:22.929679Z",
     "shell.execute_reply": "2021-03-19T02:53:22.930313Z"
    },
    "papermill": {
     "duration": 16.006985,
     "end_time": "2021-03-19T02:53:22.930625",
     "exception": false,
     "start_time": "2021-03-19T02:53:06.923640",
     "status": "completed"
    },
    "tags": []
   },
   "outputs": [
    {
     "data": {
      "text/plain": [
       "{'success': True}"
      ]
     },
     "execution_count": 14,
     "metadata": {},
     "output_type": "execute_result"
    }
   ],
   "source": [
    "pinecone.service.stop(service_name=service_name)  # stop the service"
   ]
  }
 ],
 "metadata": {
  "kernelspec": {
   "display_name": "Python 3",
   "language": "python",
   "name": "python3"
  },
  "language_info": {
   "codemirror_mode": {
    "name": "ipython",
    "version": 3
   },
   "file_extension": ".py",
   "mimetype": "text/x-python",
   "name": "python",
   "nbconvert_exporter": "python",
   "pygments_lexer": "ipython3",
   "version": "3.7.0"
  },
  "papermill": {
   "default_parameters": {},
   "duration": 58.866271,
   "end_time": "2021-03-19T02:53:23.267309",
   "environment_variables": {},
   "exception": null,
   "input_path": "/notebooks/quick_tour/hello_pinecone.ipynb",
   "output_path": "/notebooks/tmp/quick_tour/hello_pinecone.ipynb",
   "parameters": {},
   "start_time": "2021-03-19T02:52:24.401038",
   "version": "2.3.3"
  }
 },
 "nbformat": 4,
 "nbformat_minor": 5
}
