{
 "cells": [
  {
   "cell_type": "markdown",
   "id": "searching-dynamics",
   "metadata": {
    "papermill": {
     "duration": 0.024947,
     "end_time": "2021-03-18T04:51:16.361729",
     "exception": false,
     "start_time": "2021-03-18T04:51:16.336782",
     "status": "completed"
    },
    "tags": []
   },
   "source": [
    "# Hello, Pinecone!"
   ]
  },
  {
   "cell_type": "markdown",
   "id": "beneficial-torture",
   "metadata": {
    "papermill": {
     "duration": 0.018427,
     "end_time": "2021-03-18T04:51:16.400495",
     "exception": false,
     "start_time": "2021-03-18T04:51:16.382068",
     "status": "completed"
    },
    "tags": []
   },
   "source": [
    "## Prerequisites"
   ]
  },
  {
   "cell_type": "markdown",
   "id": "liable-appliance",
   "metadata": {
    "papermill": {
     "duration": 0.015572,
     "end_time": "2021-03-18T04:51:16.435014",
     "exception": false,
     "start_time": "2021-03-18T04:51:16.419442",
     "status": "completed"
    },
    "tags": []
   },
   "source": [
    "Install dependencies."
   ]
  },
  {
   "cell_type": "code",
   "execution_count": 1,
   "id": "superior-playlist",
   "metadata": {
    "execution": {
     "iopub.execute_input": "2021-03-18T04:51:16.480383Z",
     "iopub.status.busy": "2021-03-18T04:51:16.479547Z",
     "iopub.status.idle": "2021-03-18T04:51:33.455508Z",
     "shell.execute_reply": "2021-03-18T04:51:33.454634Z"
    },
    "papermill": {
     "duration": 17.00557,
     "end_time": "2021-03-18T04:51:33.455811",
     "exception": false,
     "start_time": "2021-03-18T04:51:16.450241",
     "status": "completed"
    },
    "tags": []
   },
   "outputs": [],
   "source": [
    "!pip install -qU pip pinecone-client pandas"
   ]
  },
  {
   "cell_type": "markdown",
   "id": "minimal-methodology",
   "metadata": {
    "papermill": {
     "duration": 0.01948,
     "end_time": "2021-03-18T04:51:33.497877",
     "exception": false,
     "start_time": "2021-03-18T04:51:33.478397",
     "status": "completed"
    },
    "tags": []
   },
   "source": [
    "Set up Pinecone."
   ]
  },
  {
   "cell_type": "code",
   "execution_count": 2,
   "id": "original-occasions",
   "metadata": {
    "execution": {
     "iopub.execute_input": "2021-03-18T04:51:33.537487Z",
     "iopub.status.busy": "2021-03-18T04:51:33.536813Z",
     "iopub.status.idle": "2021-03-18T04:51:33.739941Z",
     "shell.execute_reply": "2021-03-18T04:51:33.739453Z"
    },
    "papermill": {
     "duration": 0.224483,
     "end_time": "2021-03-18T04:51:33.740528",
     "exception": false,
     "start_time": "2021-03-18T04:51:33.516045",
     "status": "completed"
    },
    "tags": []
   },
   "outputs": [],
   "source": [
    "import pinecone\n",
    "import os\n",
    "\n",
    "api_key = os.getenv(\"PINECONE_API_KEY\") or \"USE_YOUR_API_KEY\"\n",
    "pinecone.init(api_key=api_key)"
   ]
  },
  {
   "cell_type": "markdown",
   "id": "adopted-secondary",
   "metadata": {
    "papermill": {
     "duration": 0.01693,
     "end_time": "2021-03-18T04:51:33.775653",
     "exception": false,
     "start_time": "2021-03-18T04:51:33.758723",
     "status": "completed"
    },
    "tags": []
   },
   "source": [
    "Check Pinecone version compatibility."
   ]
  },
  {
   "cell_type": "code",
   "execution_count": 3,
   "id": "defensive-bullet",
   "metadata": {
    "execution": {
     "iopub.execute_input": "2021-03-18T04:51:33.814822Z",
     "iopub.status.busy": "2021-03-18T04:51:33.814120Z",
     "iopub.status.idle": "2021-03-18T04:51:34.003585Z",
     "shell.execute_reply": "2021-03-18T04:51:34.002820Z"
    },
    "papermill": {
     "duration": 0.212017,
     "end_time": "2021-03-18T04:51:34.003854",
     "exception": false,
     "start_time": "2021-03-18T04:51:33.791837",
     "status": "completed"
    },
    "tags": []
   },
   "outputs": [],
   "source": [
    "import pinecone.info\n",
    "\n",
    "version_info = pinecone.info.version()\n",
    "server_version = \".\".join(version_info.server.split(\".\")[:2])\n",
    "client_version = \".\".join(version_info.client.split(\".\")[:2])\n",
    "notebook_version = \"0.8\"\n",
    "\n",
    "assert (\n",
    "    notebook_version == server_version\n",
    "), \"This notebook is outdated. Consider using the latest version of the notebook.\"\n",
    "assert client_version == server_version, \"Please upgrade pinecone-client.\""
   ]
  },
  {
   "cell_type": "markdown",
   "id": "empirical-example",
   "metadata": {
    "papermill": {
     "duration": 0.019708,
     "end_time": "2021-03-18T04:51:34.044658",
     "exception": false,
     "start_time": "2021-03-18T04:51:34.024950",
     "status": "completed"
    },
    "tags": []
   },
   "source": [
    "## Pinecone quickstart"
   ]
  },
  {
   "cell_type": "code",
   "execution_count": 4,
   "id": "touched-accommodation",
   "metadata": {
    "execution": {
     "iopub.execute_input": "2021-03-18T04:51:34.084949Z",
     "iopub.status.busy": "2021-03-18T04:51:34.084338Z",
     "iopub.status.idle": "2021-03-18T04:51:34.445993Z",
     "shell.execute_reply": "2021-03-18T04:51:34.445387Z"
    },
    "papermill": {
     "duration": 0.382334,
     "end_time": "2021-03-18T04:51:34.446202",
     "exception": false,
     "start_time": "2021-03-18T04:51:34.063868",
     "status": "completed"
    },
    "tags": []
   },
   "outputs": [],
   "source": [
    "import pinecone.graph\n",
    "import pinecone.service\n",
    "import pinecone.connector\n",
    "import pandas as pd"
   ]
  },
  {
   "cell_type": "code",
   "execution_count": 5,
   "id": "transparent-intention",
   "metadata": {
    "execution": {
     "iopub.execute_input": "2021-03-18T04:51:34.488700Z",
     "iopub.status.busy": "2021-03-18T04:51:34.487990Z",
     "iopub.status.idle": "2021-03-18T04:51:34.491122Z",
     "shell.execute_reply": "2021-03-18T04:51:34.490527Z"
    },
    "papermill": {
     "duration": 0.025293,
     "end_time": "2021-03-18T04:51:34.491363",
     "exception": false,
     "start_time": "2021-03-18T04:51:34.466070",
     "status": "completed"
    },
    "tags": []
   },
   "outputs": [],
   "source": [
    "service_name = \"hello-pinecone\""
   ]
  },
  {
   "cell_type": "code",
   "execution_count": 6,
   "id": "nominated-colonial",
   "metadata": {
    "execution": {
     "iopub.execute_input": "2021-03-18T04:51:34.529235Z",
     "iopub.status.busy": "2021-03-18T04:51:34.528550Z",
     "iopub.status.idle": "2021-03-18T04:51:34.531404Z",
     "shell.execute_reply": "2021-03-18T04:51:34.530904Z"
    },
    "papermill": {
     "duration": 0.023287,
     "end_time": "2021-03-18T04:51:34.531590",
     "exception": false,
     "start_time": "2021-03-18T04:51:34.508303",
     "status": "completed"
    },
    "tags": []
   },
   "outputs": [],
   "source": [
    "graph = pinecone.graph.IndexGraph()  # Create a Pinecone graph"
   ]
  },
  {
   "cell_type": "code",
   "execution_count": 7,
   "id": "complicated-acting",
   "metadata": {
    "execution": {
     "iopub.execute_input": "2021-03-18T04:51:34.569611Z",
     "iopub.status.busy": "2021-03-18T04:51:34.568970Z",
     "iopub.status.idle": "2021-03-18T04:51:34.613060Z",
     "shell.execute_reply": "2021-03-18T04:51:34.612545Z"
    },
    "papermill": {
     "duration": 0.064331,
     "end_time": "2021-03-18T04:51:34.613286",
     "exception": false,
     "start_time": "2021-03-18T04:51:34.548955",
     "status": "completed"
    },
    "tags": []
   },
   "outputs": [
    {
     "data": {
      "image/svg+xml": [
       "<?xml version=\"1.0\" encoding=\"UTF-8\" standalone=\"no\"?>\n",
       "<!DOCTYPE svg PUBLIC \"-//W3C//DTD SVG 1.1//EN\"\n",
       " \"http://www.w3.org/Graphics/SVG/1.1/DTD/svg11.dtd\">\n",
       "<!-- Generated by graphviz version 2.38.0 (20140413.2041)\n",
       " -->\n",
       "<!-- Title: %3 Pages: 1 -->\n",
       "<svg width=\"184pt\" height=\"218pt\"\n",
       " viewBox=\"0.00 0.00 184.14 218.00\" xmlns=\"http://www.w3.org/2000/svg\" xmlns:xlink=\"http://www.w3.org/1999/xlink\">\n",
       "<g id=\"graph0\" class=\"graph\" transform=\"scale(1 1) rotate(0) translate(4 214)\">\n",
       "<title>%3</title>\n",
       "<polygon fill=\"white\" stroke=\"none\" points=\"-4,4 -4,-214 180.142,-214 180.142,4 -4,4\"/>\n",
       "<!-- incoming traffic -->\n",
       "<g id=\"node1\" class=\"node\"><title>incoming traffic</title>\n",
       "<ellipse fill=\"none\" stroke=\"black\" cx=\"85.1424\" cy=\"-192\" rx=\"85.2851\" ry=\"18\"/>\n",
       "<text text-anchor=\"middle\" x=\"85.1424\" y=\"-188.3\" font-family=\"Times,serif\" font-size=\"14.00\">incoming traffic</text>\n",
       "</g>\n",
       "<!-- engine -->\n",
       "<g id=\"node2\" class=\"node\"><title>engine</title>\n",
       "<ellipse fill=\"none\" stroke=\"black\" cx=\"85.1424\" cy=\"-105\" rx=\"42.4939\" ry=\"18\"/>\n",
       "<text text-anchor=\"middle\" x=\"85.1424\" y=\"-101.3\" font-family=\"Times,serif\" font-size=\"14.00\">engine</text>\n",
       "</g>\n",
       "<!-- incoming traffic&#45;&gt;engine -->\n",
       "<g id=\"edge1\" class=\"edge\"><title>incoming traffic&#45;&gt;engine</title>\n",
       "<path fill=\"none\" stroke=\"black\" d=\"M85.1424,-173.799C85.1424,-162.163 85.1424,-146.548 85.1424,-133.237\"/>\n",
       "<polygon fill=\"black\" stroke=\"black\" points=\"88.6425,-133.175 85.1424,-123.175 81.6425,-133.175 88.6425,-133.175\"/>\n",
       "<text text-anchor=\"middle\" x=\"130.642\" y=\"-144.8\" font-family=\"Times,serif\" font-size=\"14.00\">[read][write]</text>\n",
       "</g>\n",
       "<!-- outgoing traffic -->\n",
       "<g id=\"node3\" class=\"node\"><title>outgoing traffic</title>\n",
       "<ellipse fill=\"none\" stroke=\"black\" cx=\"85.1424\" cy=\"-18\" rx=\"83.3857\" ry=\"18\"/>\n",
       "<text text-anchor=\"middle\" x=\"85.1424\" y=\"-14.3\" font-family=\"Times,serif\" font-size=\"14.00\">outgoing traffic</text>\n",
       "</g>\n",
       "<!-- engine&#45;&gt;outgoing traffic -->\n",
       "<g id=\"edge2\" class=\"edge\"><title>engine&#45;&gt;outgoing traffic</title>\n",
       "<path fill=\"none\" stroke=\"black\" d=\"M85.1424,-86.799C85.1424,-75.1626 85.1424,-59.5479 85.1424,-46.2368\"/>\n",
       "<polygon fill=\"black\" stroke=\"black\" points=\"88.6425,-46.1754 85.1424,-36.1754 81.6425,-46.1755 88.6425,-46.1754\"/>\n",
       "<text text-anchor=\"middle\" x=\"130.642\" y=\"-57.8\" font-family=\"Times,serif\" font-size=\"14.00\">[read][write]</text>\n",
       "</g>\n",
       "</g>\n",
       "</svg>\n"
      ],
      "text/plain": [
       "<graphviz.files.Source at 0x7fddafbf49b0>"
      ]
     },
     "execution_count": 7,
     "metadata": {},
     "output_type": "execute_result"
    }
   ],
   "source": [
    "graph.view()  # view the graph"
   ]
  },
  {
   "cell_type": "code",
   "execution_count": 8,
   "id": "environmental-argentina",
   "metadata": {
    "execution": {
     "iopub.execute_input": "2021-03-18T04:51:34.654001Z",
     "iopub.status.busy": "2021-03-18T04:51:34.653410Z",
     "iopub.status.idle": "2021-03-18T04:51:51.047383Z",
     "shell.execute_reply": "2021-03-18T04:51:51.047960Z"
    },
    "papermill": {
     "duration": 16.416959,
     "end_time": "2021-03-18T04:51:51.048285",
     "exception": false,
     "start_time": "2021-03-18T04:51:34.631326",
     "status": "completed"
    },
    "tags": []
   },
   "outputs": [
    {
     "data": {
      "text/plain": [
       "{'msg': '', 'success': True}"
      ]
     },
     "execution_count": 8,
     "metadata": {},
     "output_type": "execute_result"
    }
   ],
   "source": [
    "pinecone.service.deploy(service_name, graph)  # deploy the graph as a service"
   ]
  },
  {
   "cell_type": "code",
   "execution_count": 9,
   "id": "typical-answer",
   "metadata": {
    "execution": {
     "iopub.execute_input": "2021-03-18T04:51:51.099298Z",
     "iopub.status.busy": "2021-03-18T04:51:51.098459Z",
     "iopub.status.idle": "2021-03-18T04:51:51.308641Z",
     "shell.execute_reply": "2021-03-18T04:51:51.309311Z"
    },
    "papermill": {
     "duration": 0.236926,
     "end_time": "2021-03-18T04:51:51.309774",
     "exception": false,
     "start_time": "2021-03-18T04:51:51.072848",
     "status": "completed"
    },
    "tags": []
   },
   "outputs": [],
   "source": [
    "conn = pinecone.connector.connect(service_name)  # connect to the service"
   ]
  },
  {
   "cell_type": "code",
   "execution_count": 10,
   "id": "noticed-retailer",
   "metadata": {
    "execution": {
     "iopub.execute_input": "2021-03-18T04:51:51.358291Z",
     "iopub.status.busy": "2021-03-18T04:51:51.357521Z",
     "iopub.status.idle": "2021-03-18T04:51:51.370539Z",
     "shell.execute_reply": "2021-03-18T04:51:51.371078Z"
    },
    "papermill": {
     "duration": 0.038627,
     "end_time": "2021-03-18T04:51:51.371407",
     "exception": false,
     "start_time": "2021-03-18T04:51:51.332780",
     "status": "completed"
    },
    "tags": []
   },
   "outputs": [
    {
     "data": {
      "text/html": [
       "<div>\n",
       "<style scoped>\n",
       "    .dataframe tbody tr th:only-of-type {\n",
       "        vertical-align: middle;\n",
       "    }\n",
       "\n",
       "    .dataframe tbody tr th {\n",
       "        vertical-align: top;\n",
       "    }\n",
       "\n",
       "    .dataframe thead th {\n",
       "        text-align: right;\n",
       "    }\n",
       "</style>\n",
       "<table border=\"1\" class=\"dataframe\">\n",
       "  <thead>\n",
       "    <tr style=\"text-align: right;\">\n",
       "      <th></th>\n",
       "      <th>id</th>\n",
       "      <th>vector</th>\n",
       "    </tr>\n",
       "  </thead>\n",
       "  <tbody>\n",
       "    <tr>\n",
       "      <th>0</th>\n",
       "      <td>A</td>\n",
       "      <td>[1, 1, 1]</td>\n",
       "    </tr>\n",
       "    <tr>\n",
       "      <th>1</th>\n",
       "      <td>B</td>\n",
       "      <td>[2, 2, 2]</td>\n",
       "    </tr>\n",
       "  </tbody>\n",
       "</table>\n",
       "</div>"
      ],
      "text/plain": [
       "  id     vector\n",
       "0  A  [1, 1, 1]\n",
       "1  B  [2, 2, 2]"
      ]
     },
     "execution_count": 10,
     "metadata": {},
     "output_type": "execute_result"
    }
   ],
   "source": [
    "df = pd.DataFrame(data={\"id\": [\"A\", \"B\"], \"vector\": [[1, 1, 1], [2, 2, 2]]})\n",
    "df"
   ]
  },
  {
   "cell_type": "code",
   "execution_count": 11,
   "id": "generous-event",
   "metadata": {
    "execution": {
     "iopub.execute_input": "2021-03-18T04:51:51.415375Z",
     "iopub.status.busy": "2021-03-18T04:51:51.414715Z",
     "iopub.status.idle": "2021-03-18T04:51:52.650861Z",
     "shell.execute_reply": "2021-03-18T04:51:52.651577Z"
    },
    "papermill": {
     "duration": 1.258699,
     "end_time": "2021-03-18T04:51:52.651904",
     "exception": false,
     "start_time": "2021-03-18T04:51:51.393205",
     "status": "completed"
    },
    "tags": []
   },
   "outputs": [
    {
     "data": {
      "text/plain": [
       "[IndexResult(id='A'), IndexResult(id='B')]"
      ]
     },
     "execution_count": 11,
     "metadata": {},
     "output_type": "execute_result"
    }
   ],
   "source": [
    "conn.upsert(items=zip(df.id, df.vector)).collect()  # insert vectors"
   ]
  },
  {
   "cell_type": "code",
   "execution_count": 12,
   "id": "experienced-moses",
   "metadata": {
    "execution": {
     "iopub.execute_input": "2021-03-18T04:51:52.706616Z",
     "iopub.status.busy": "2021-03-18T04:51:52.705804Z",
     "iopub.status.idle": "2021-03-18T04:51:52.747578Z",
     "shell.execute_reply": "2021-03-18T04:51:52.746937Z"
    },
    "papermill": {
     "duration": 0.070192,
     "end_time": "2021-03-18T04:51:52.747812",
     "exception": false,
     "start_time": "2021-03-18T04:51:52.677620",
     "status": "completed"
    },
    "tags": []
   },
   "outputs": [
    {
     "data": {
      "text/plain": [
       "InfoResult(index_size=2)"
      ]
     },
     "execution_count": 12,
     "metadata": {},
     "output_type": "execute_result"
    }
   ],
   "source": [
    "conn.info()  # index info"
   ]
  },
  {
   "cell_type": "code",
   "execution_count": 13,
   "id": "nuclear-preserve",
   "metadata": {
    "execution": {
     "iopub.execute_input": "2021-03-18T04:51:52.796365Z",
     "iopub.status.busy": "2021-03-18T04:51:52.795468Z",
     "iopub.status.idle": "2021-03-18T04:52:08.749818Z",
     "shell.execute_reply": "2021-03-18T04:52:08.749165Z"
    },
    "papermill": {
     "duration": 15.980784,
     "end_time": "2021-03-18T04:52:08.750082",
     "exception": false,
     "start_time": "2021-03-18T04:51:52.769298",
     "status": "completed"
    },
    "tags": []
   },
   "outputs": [
    {
     "data": {
      "text/plain": [
       "{'success': True}"
      ]
     },
     "execution_count": 13,
     "metadata": {},
     "output_type": "execute_result"
    }
   ],
   "source": [
    "pinecone.service.stop(service_name=service_name)  # stop the service"
   ]
  }
 ],
 "metadata": {
  "kernelspec": {
   "display_name": "Python 3",
   "language": "python",
   "name": "python3"
  },
  "language_info": {
   "codemirror_mode": {
    "name": "ipython",
    "version": 3
   },
   "file_extension": ".py",
   "mimetype": "text/x-python",
   "name": "python",
   "nbconvert_exporter": "python",
   "pygments_lexer": "ipython3",
   "version": "3.7.0"
  },
  "papermill": {
   "default_parameters": {},
   "duration": 53.651223,
   "end_time": "2021-03-18T04:52:09.088255",
   "environment_variables": {},
   "exception": null,
   "input_path": "/notebooks/quick_tour/hello_pinecone.ipynb",
   "output_path": "/notebooks/tmp/quick_tour/hello_pinecone.ipynb",
   "parameters": {},
   "start_time": "2021-03-18T04:51:15.437032",
   "version": "2.3.3"
  }
 },
 "nbformat": 4,
 "nbformat_minor": 5
}
