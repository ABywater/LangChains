{
 "cells": [
  {
   "cell_type": "markdown",
   "id": "rising-reviewer",
   "metadata": {
    "papermill": {
     "duration": 0.022157,
     "end_time": "2021-03-17T04:24:07.019079",
     "exception": false,
     "start_time": "2021-03-17T04:24:06.996922",
     "status": "completed"
    },
    "tags": []
   },
   "source": [
    "# Prerequisites"
   ]
  },
  {
   "cell_type": "markdown",
   "id": "foreign-provincial",
   "metadata": {
    "papermill": {
     "duration": 0.016305,
     "end_time": "2021-03-17T04:24:07.052893",
     "exception": false,
     "start_time": "2021-03-17T04:24:07.036588",
     "status": "completed"
    },
    "tags": []
   },
   "source": [
    "Install dependencies."
   ]
  },
  {
   "cell_type": "code",
   "execution_count": 1,
   "id": "caroline-personal",
   "metadata": {
    "execution": {
     "iopub.execute_input": "2021-03-17T04:24:07.086559Z",
     "iopub.status.busy": "2021-03-17T04:24:07.085890Z",
     "iopub.status.idle": "2021-03-17T04:24:24.329226Z",
     "shell.execute_reply": "2021-03-17T04:24:24.327845Z"
    },
    "papermill": {
     "duration": 17.262275,
     "end_time": "2021-03-17T04:24:24.329517",
     "exception": false,
     "start_time": "2021-03-17T04:24:07.067242",
     "status": "completed"
    },
    "tags": []
   },
   "outputs": [],
   "source": [
    "!pip install -qU pip pinecone-client"
   ]
  },
  {
   "cell_type": "markdown",
   "id": "cross-pioneer",
   "metadata": {
    "papermill": {
     "duration": 0.015519,
     "end_time": "2021-03-17T04:24:24.362468",
     "exception": false,
     "start_time": "2021-03-17T04:24:24.346949",
     "status": "completed"
    },
    "tags": []
   },
   "source": [
    "Set up Pinecone."
   ]
  },
  {
   "cell_type": "code",
   "execution_count": 2,
   "id": "possible-singing",
   "metadata": {
    "execution": {
     "iopub.execute_input": "2021-03-17T04:24:24.401021Z",
     "iopub.status.busy": "2021-03-17T04:24:24.400301Z",
     "iopub.status.idle": "2021-03-17T04:24:24.629946Z",
     "shell.execute_reply": "2021-03-17T04:24:24.630372Z"
    },
    "papermill": {
     "duration": 0.253569,
     "end_time": "2021-03-17T04:24:24.630695",
     "exception": false,
     "start_time": "2021-03-17T04:24:24.377126",
     "status": "completed"
    },
    "tags": []
   },
   "outputs": [],
   "source": [
    "import pinecone\n",
    "import os\n",
    "\n",
    "api_key = os.getenv(\"PINECONE_API_KEY\") or \"USE_YOUR_API_KEY\"\n",
    "pinecone.init(api_key=api_key)"
   ]
  },
  {
   "cell_type": "markdown",
   "id": "musical-bryan",
   "metadata": {
    "papermill": {
     "duration": 0.018259,
     "end_time": "2021-03-17T04:24:24.665873",
     "exception": false,
     "start_time": "2021-03-17T04:24:24.647614",
     "status": "completed"
    },
    "tags": []
   },
   "source": [
    "Check Pinecone version compatibility."
   ]
  },
  {
   "cell_type": "code",
   "execution_count": 3,
   "id": "objective-premises",
   "metadata": {
    "execution": {
     "iopub.execute_input": "2021-03-17T04:24:24.708839Z",
     "iopub.status.busy": "2021-03-17T04:24:24.707554Z",
     "iopub.status.idle": "2021-03-17T04:24:24.875139Z",
     "shell.execute_reply": "2021-03-17T04:24:24.875814Z"
    },
    "papermill": {
     "duration": 0.191745,
     "end_time": "2021-03-17T04:24:24.876138",
     "exception": false,
     "start_time": "2021-03-17T04:24:24.684393",
     "status": "completed"
    },
    "tags": []
   },
   "outputs": [],
   "source": [
    "import pinecone.info\n",
    "\n",
    "version_info = pinecone.info.version()\n",
    "server_version = \".\".join(version_info.server.split(\".\")[:2])\n",
    "client_version = \".\".join(version_info.client.split(\".\")[:2])\n",
    "notebook_version = \"0.8\"\n",
    "\n",
    "assert (\n",
    "    notebook_version == server_version\n",
    "), \"This notebook is outdated. Consider using the latest version of the notebook.\"\n",
    "assert client_version == server_version, \"Please upgrade pinecone-client.\""
   ]
  },
  {
   "cell_type": "markdown",
   "id": "occupational-thirty",
   "metadata": {
    "papermill": {
     "duration": 0.018895,
     "end_time": "2021-03-17T04:24:24.915208",
     "exception": false,
     "start_time": "2021-03-17T04:24:24.896313",
     "status": "completed"
    },
    "tags": []
   },
   "source": [
    "# Hello, Pinecone!"
   ]
  },
  {
   "cell_type": "code",
   "execution_count": 4,
   "id": "optimum-belly",
   "metadata": {
    "execution": {
     "iopub.execute_input": "2021-03-17T04:24:24.952498Z",
     "iopub.status.busy": "2021-03-17T04:24:24.951835Z",
     "iopub.status.idle": "2021-03-17T04:24:25.135831Z",
     "shell.execute_reply": "2021-03-17T04:24:25.136270Z"
    },
    "papermill": {
     "duration": 0.203451,
     "end_time": "2021-03-17T04:24:25.136578",
     "exception": false,
     "start_time": "2021-03-17T04:24:24.933127",
     "status": "completed"
    },
    "tags": []
   },
   "outputs": [],
   "source": [
    "import pinecone.graph\n",
    "import pinecone.service\n",
    "import pinecone.connector"
   ]
  },
  {
   "cell_type": "code",
   "execution_count": 5,
   "id": "eleven-airline",
   "metadata": {
    "execution": {
     "iopub.execute_input": "2021-03-17T04:24:25.176514Z",
     "iopub.status.busy": "2021-03-17T04:24:25.175682Z",
     "iopub.status.idle": "2021-03-17T04:24:25.179717Z",
     "shell.execute_reply": "2021-03-17T04:24:25.180563Z"
    },
    "papermill": {
     "duration": 0.027276,
     "end_time": "2021-03-17T04:24:25.180890",
     "exception": false,
     "start_time": "2021-03-17T04:24:25.153614",
     "status": "completed"
    },
    "tags": []
   },
   "outputs": [],
   "source": [
    "service_name = \"hello-pinecone\""
   ]
  },
  {
   "cell_type": "code",
   "execution_count": 6,
   "id": "rolled-microwave",
   "metadata": {
    "execution": {
     "iopub.execute_input": "2021-03-17T04:24:25.224647Z",
     "iopub.status.busy": "2021-03-17T04:24:25.223890Z",
     "iopub.status.idle": "2021-03-17T04:24:25.227587Z",
     "shell.execute_reply": "2021-03-17T04:24:25.228104Z"
    },
    "papermill": {
     "duration": 0.027686,
     "end_time": "2021-03-17T04:24:25.228366",
     "exception": false,
     "start_time": "2021-03-17T04:24:25.200680",
     "status": "completed"
    },
    "tags": []
   },
   "outputs": [],
   "source": [
    "graph = pinecone.graph.IndexGraph()  # Create a Pinecone graph"
   ]
  },
  {
   "cell_type": "code",
   "execution_count": 7,
   "id": "institutional-trigger",
   "metadata": {
    "execution": {
     "iopub.execute_input": "2021-03-17T04:24:25.272049Z",
     "iopub.status.busy": "2021-03-17T04:24:25.271242Z",
     "iopub.status.idle": "2021-03-17T04:24:25.392106Z",
     "shell.execute_reply": "2021-03-17T04:24:25.392881Z"
    },
    "papermill": {
     "duration": 0.145524,
     "end_time": "2021-03-17T04:24:25.393112",
     "exception": false,
     "start_time": "2021-03-17T04:24:25.247588",
     "status": "completed"
    },
    "tags": []
   },
   "outputs": [
    {
     "data": {
      "image/svg+xml": [
       "<?xml version=\"1.0\" encoding=\"UTF-8\" standalone=\"no\"?>\n",
       "<!DOCTYPE svg PUBLIC \"-//W3C//DTD SVG 1.1//EN\"\n",
       " \"http://www.w3.org/Graphics/SVG/1.1/DTD/svg11.dtd\">\n",
       "<!-- Generated by graphviz version 2.38.0 (20140413.2041)\n",
       " -->\n",
       "<!-- Title: %3 Pages: 1 -->\n",
       "<svg width=\"184pt\" height=\"218pt\"\n",
       " viewBox=\"0.00 0.00 184.14 218.00\" xmlns=\"http://www.w3.org/2000/svg\" xmlns:xlink=\"http://www.w3.org/1999/xlink\">\n",
       "<g id=\"graph0\" class=\"graph\" transform=\"scale(1 1) rotate(0) translate(4 214)\">\n",
       "<title>%3</title>\n",
       "<polygon fill=\"white\" stroke=\"none\" points=\"-4,4 -4,-214 180.142,-214 180.142,4 -4,4\"/>\n",
       "<!-- incoming traffic -->\n",
       "<g id=\"node1\" class=\"node\"><title>incoming traffic</title>\n",
       "<ellipse fill=\"none\" stroke=\"black\" cx=\"85.1424\" cy=\"-192\" rx=\"85.2851\" ry=\"18\"/>\n",
       "<text text-anchor=\"middle\" x=\"85.1424\" y=\"-188.3\" font-family=\"Times,serif\" font-size=\"14.00\">incoming traffic</text>\n",
       "</g>\n",
       "<!-- engine -->\n",
       "<g id=\"node2\" class=\"node\"><title>engine</title>\n",
       "<ellipse fill=\"none\" stroke=\"black\" cx=\"85.1424\" cy=\"-105\" rx=\"42.4939\" ry=\"18\"/>\n",
       "<text text-anchor=\"middle\" x=\"85.1424\" y=\"-101.3\" font-family=\"Times,serif\" font-size=\"14.00\">engine</text>\n",
       "</g>\n",
       "<!-- incoming traffic&#45;&gt;engine -->\n",
       "<g id=\"edge1\" class=\"edge\"><title>incoming traffic&#45;&gt;engine</title>\n",
       "<path fill=\"none\" stroke=\"black\" d=\"M85.1424,-173.799C85.1424,-162.163 85.1424,-146.548 85.1424,-133.237\"/>\n",
       "<polygon fill=\"black\" stroke=\"black\" points=\"88.6425,-133.175 85.1424,-123.175 81.6425,-133.175 88.6425,-133.175\"/>\n",
       "<text text-anchor=\"middle\" x=\"130.642\" y=\"-144.8\" font-family=\"Times,serif\" font-size=\"14.00\">[read][write]</text>\n",
       "</g>\n",
       "<!-- outgoing traffic -->\n",
       "<g id=\"node3\" class=\"node\"><title>outgoing traffic</title>\n",
       "<ellipse fill=\"none\" stroke=\"black\" cx=\"85.1424\" cy=\"-18\" rx=\"83.3857\" ry=\"18\"/>\n",
       "<text text-anchor=\"middle\" x=\"85.1424\" y=\"-14.3\" font-family=\"Times,serif\" font-size=\"14.00\">outgoing traffic</text>\n",
       "</g>\n",
       "<!-- engine&#45;&gt;outgoing traffic -->\n",
       "<g id=\"edge2\" class=\"edge\"><title>engine&#45;&gt;outgoing traffic</title>\n",
       "<path fill=\"none\" stroke=\"black\" d=\"M85.1424,-86.799C85.1424,-75.1626 85.1424,-59.5479 85.1424,-46.2368\"/>\n",
       "<polygon fill=\"black\" stroke=\"black\" points=\"88.6425,-46.1754 85.1424,-36.1754 81.6425,-46.1755 88.6425,-46.1754\"/>\n",
       "<text text-anchor=\"middle\" x=\"130.642\" y=\"-57.8\" font-family=\"Times,serif\" font-size=\"14.00\">[read][write]</text>\n",
       "</g>\n",
       "</g>\n",
       "</svg>\n"
      ],
      "text/plain": [
       "<graphviz.files.Source at 0x7f4483ae2c88>"
      ]
     },
     "execution_count": 7,
     "metadata": {},
     "output_type": "execute_result"
    }
   ],
   "source": [
    "graph.view()  # view the graph"
   ]
  },
  {
   "cell_type": "code",
   "execution_count": 8,
   "id": "indoor-albania",
   "metadata": {
    "execution": {
     "iopub.execute_input": "2021-03-17T04:24:25.432271Z",
     "iopub.status.busy": "2021-03-17T04:24:25.431650Z",
     "iopub.status.idle": "2021-03-17T04:24:36.632668Z",
     "shell.execute_reply": "2021-03-17T04:24:36.633287Z"
    },
    "papermill": {
     "duration": 11.221933,
     "end_time": "2021-03-17T04:24:36.633601",
     "exception": false,
     "start_time": "2021-03-17T04:24:25.411668",
     "status": "completed"
    },
    "tags": []
   },
   "outputs": [
    {
     "data": {
      "text/plain": [
       "{'msg': '', 'success': True}"
      ]
     },
     "execution_count": 8,
     "metadata": {},
     "output_type": "execute_result"
    }
   ],
   "source": [
    "pinecone.service.deploy(service_name, graph)  # deploy the graph as a service"
   ]
  },
  {
   "cell_type": "code",
   "execution_count": 9,
   "id": "possible-dispute",
   "metadata": {
    "execution": {
     "iopub.execute_input": "2021-03-17T04:24:36.676993Z",
     "iopub.status.busy": "2021-03-17T04:24:36.676271Z",
     "iopub.status.idle": "2021-03-17T04:24:36.879751Z",
     "shell.execute_reply": "2021-03-17T04:24:36.880401Z"
    },
    "papermill": {
     "duration": 0.225957,
     "end_time": "2021-03-17T04:24:36.880720",
     "exception": false,
     "start_time": "2021-03-17T04:24:36.654763",
     "status": "completed"
    },
    "tags": []
   },
   "outputs": [],
   "source": [
    "conn = pinecone.connector.connect(service_name)  # connect to the service"
   ]
  },
  {
   "cell_type": "code",
   "execution_count": 10,
   "id": "vocal-conservative",
   "metadata": {
    "execution": {
     "iopub.execute_input": "2021-03-17T04:24:36.929161Z",
     "iopub.status.busy": "2021-03-17T04:24:36.928262Z",
     "iopub.status.idle": "2021-03-17T04:24:38.452952Z",
     "shell.execute_reply": "2021-03-17T04:24:38.452194Z"
    },
    "papermill": {
     "duration": 1.548984,
     "end_time": "2021-03-17T04:24:38.453227",
     "exception": false,
     "start_time": "2021-03-17T04:24:36.904243",
     "status": "completed"
    },
    "tags": []
   },
   "outputs": [
    {
     "data": {
      "text/plain": [
       "[IndexResult(id='A'), IndexResult(id='B')]"
      ]
     },
     "execution_count": 10,
     "metadata": {},
     "output_type": "execute_result"
    }
   ],
   "source": [
    "conn.upsert(items=[(\"A\", [1, 1, 1]), (\"B\", [1, 1, 1])]).collect()  # insert vectors"
   ]
  },
  {
   "cell_type": "code",
   "execution_count": 11,
   "id": "rising-silly",
   "metadata": {
    "execution": {
     "iopub.execute_input": "2021-03-17T04:24:38.505279Z",
     "iopub.status.busy": "2021-03-17T04:24:38.504476Z",
     "iopub.status.idle": "2021-03-17T04:24:38.546788Z",
     "shell.execute_reply": "2021-03-17T04:24:38.545774Z"
    },
    "papermill": {
     "duration": 0.069345,
     "end_time": "2021-03-17T04:24:38.547093",
     "exception": false,
     "start_time": "2021-03-17T04:24:38.477748",
     "status": "completed"
    },
    "tags": []
   },
   "outputs": [
    {
     "data": {
      "text/plain": [
       "InfoResult(index_size=2)"
      ]
     },
     "execution_count": 11,
     "metadata": {},
     "output_type": "execute_result"
    }
   ],
   "source": [
    "conn.info()  # index info"
   ]
  },
  {
   "cell_type": "code",
   "execution_count": 12,
   "id": "selective-complaint",
   "metadata": {
    "execution": {
     "iopub.execute_input": "2021-03-17T04:24:38.601102Z",
     "iopub.status.busy": "2021-03-17T04:24:38.599930Z",
     "iopub.status.idle": "2021-03-17T04:24:54.557360Z",
     "shell.execute_reply": "2021-03-17T04:24:54.556638Z"
    },
    "papermill": {
     "duration": 15.982501,
     "end_time": "2021-03-17T04:24:54.557646",
     "exception": false,
     "start_time": "2021-03-17T04:24:38.575145",
     "status": "completed"
    },
    "tags": []
   },
   "outputs": [
    {
     "data": {
      "text/plain": [
       "{'success': True}"
      ]
     },
     "execution_count": 12,
     "metadata": {},
     "output_type": "execute_result"
    }
   ],
   "source": [
    "pinecone.service.stop(service_name=service_name)  # stop the service"
   ]
  }
 ],
 "metadata": {
  "kernelspec": {
   "display_name": "Python 3",
   "language": "python",
   "name": "python3"
  },
  "language_info": {
   "codemirror_mode": {
    "name": "ipython",
    "version": 3
   },
   "file_extension": ".py",
   "mimetype": "text/x-python",
   "name": "python",
   "nbconvert_exporter": "python",
   "pygments_lexer": "ipython3",
   "version": "3.7.0"
  },
  "papermill": {
   "default_parameters": {},
   "duration": 48.865248,
   "end_time": "2021-03-17T04:24:54.896832",
   "environment_variables": {},
   "exception": null,
   "input_path": "/notebooks/quick_tour/hello_pinecone.ipynb",
   "output_path": "/notebooks/build/quick_tour/hello_pinecone.ipynb",
   "parameters": {},
   "start_time": "2021-03-17T04:24:06.031584",
   "version": "2.3.3"
  }
 },
 "nbformat": 4,
 "nbformat_minor": 5
}
