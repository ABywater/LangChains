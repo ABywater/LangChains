{
 "cells": [
  {
   "cell_type": "markdown",
   "id": "stable-investigation",
   "metadata": {
    "papermill": {
     "duration": 0.018864,
     "end_time": "2021-03-11T23:41:08.403342",
     "exception": false,
     "start_time": "2021-03-11T23:41:08.384478",
     "status": "completed"
    },
    "tags": []
   },
   "source": [
    "Install dependencies."
   ]
  },
  {
   "cell_type": "code",
   "execution_count": 1,
   "id": "color-sacramento",
   "metadata": {
    "execution": {
     "iopub.execute_input": "2021-03-11T23:41:08.443576Z",
     "iopub.status.busy": "2021-03-11T23:41:08.442684Z",
     "iopub.status.idle": "2021-03-11T23:41:29.805072Z",
     "shell.execute_reply": "2021-03-11T23:41:29.803972Z"
    },
    "papermill": {
     "duration": 21.387208,
     "end_time": "2021-03-11T23:41:29.805372",
     "exception": false,
     "start_time": "2021-03-11T23:41:08.418164",
     "status": "completed"
    },
    "tags": []
   },
   "outputs": [],
   "source": [
    "!pip install -qU pip pinecone-client"
   ]
  },
  {
   "cell_type": "markdown",
   "id": "statistical-found",
   "metadata": {
    "papermill": {
     "duration": 0.015999,
     "end_time": "2021-03-11T23:41:29.843754",
     "exception": false,
     "start_time": "2021-03-11T23:41:29.827755",
     "status": "completed"
    },
    "tags": []
   },
   "source": [
    "Set up Pinecone."
   ]
  },
  {
   "cell_type": "code",
   "execution_count": 2,
   "id": "banner-metabolism",
   "metadata": {
    "execution": {
     "iopub.execute_input": "2021-03-11T23:41:29.880457Z",
     "iopub.status.busy": "2021-03-11T23:41:29.879642Z",
     "iopub.status.idle": "2021-03-11T23:41:30.204740Z",
     "shell.execute_reply": "2021-03-11T23:41:30.203955Z"
    },
    "papermill": {
     "duration": 0.346137,
     "end_time": "2021-03-11T23:41:30.204948",
     "exception": false,
     "start_time": "2021-03-11T23:41:29.858811",
     "status": "completed"
    },
    "tags": []
   },
   "outputs": [],
   "source": [
    "import pinecone\n",
    "import os\n",
    "\n",
    "api_key = os.getenv('PINECONE_API_KEY') or 'USE_YOUR_API_KEY'\n",
    "pinecone.init(api_key=api_key)"
   ]
  },
  {
   "cell_type": "markdown",
   "id": "assigned-wallet",
   "metadata": {
    "papermill": {
     "duration": 0.015214,
     "end_time": "2021-03-11T23:41:30.235552",
     "exception": false,
     "start_time": "2021-03-11T23:41:30.220338",
     "status": "completed"
    },
    "tags": []
   },
   "source": [
    "Check Pinecone version compatibilities."
   ]
  },
  {
   "cell_type": "code",
   "execution_count": 3,
   "id": "existing-economy",
   "metadata": {
    "execution": {
     "iopub.execute_input": "2021-03-11T23:41:30.272810Z",
     "iopub.status.busy": "2021-03-11T23:41:30.272064Z",
     "iopub.status.idle": "2021-03-11T23:41:30.432653Z",
     "shell.execute_reply": "2021-03-11T23:41:30.431776Z"
    },
    "papermill": {
     "duration": 0.181965,
     "end_time": "2021-03-11T23:41:30.432899",
     "exception": false,
     "start_time": "2021-03-11T23:41:30.250934",
     "status": "completed"
    },
    "tags": []
   },
   "outputs": [],
   "source": [
    "import pinecone.info\n",
    "\n",
    "notebook_version = '0.8'\n",
    "version_info = pinecone.info.version()\n",
    "\n",
    "assert version_info.server.startswith(notebook_version), (\n",
    "    'This notebook may not be compatible with the latest Pinecone server. '\n",
    "    'Consider using the latest notebook.')\n",
    "\n",
    "assert set(version_info.server.split('.')[:2]) == set(version_info.client.split('.')[:2]), (\n",
    "    'The installed pinecone-client may not be compatible with the latest Pinecone server. '\n",
    "    'Consider upgrading to the latest pinecone-client.')"
   ]
  },
  {
   "cell_type": "markdown",
   "id": "sound-greene",
   "metadata": {
    "papermill": {
     "duration": 0.016198,
     "end_time": "2021-03-11T23:41:30.465063",
     "exception": false,
     "start_time": "2021-03-11T23:41:30.448865",
     "status": "completed"
    },
    "tags": []
   },
   "source": [
    "# Hello, Pinecone!"
   ]
  },
  {
   "cell_type": "code",
   "execution_count": 4,
   "id": "military-diabetes",
   "metadata": {
    "execution": {
     "iopub.execute_input": "2021-03-11T23:41:30.503268Z",
     "iopub.status.busy": "2021-03-11T23:41:30.502602Z",
     "iopub.status.idle": "2021-03-11T23:41:30.712182Z",
     "shell.execute_reply": "2021-03-11T23:41:30.711425Z"
    },
    "papermill": {
     "duration": 0.230393,
     "end_time": "2021-03-11T23:41:30.712397",
     "exception": false,
     "start_time": "2021-03-11T23:41:30.482004",
     "status": "completed"
    },
    "tags": []
   },
   "outputs": [],
   "source": [
    "import pinecone.graph\n",
    "import pinecone.service\n",
    "import pinecone.connector"
   ]
  },
  {
   "cell_type": "code",
   "execution_count": 5,
   "id": "analyzed-wellington",
   "metadata": {
    "execution": {
     "iopub.execute_input": "2021-03-11T23:41:30.748928Z",
     "iopub.status.busy": "2021-03-11T23:41:30.748268Z",
     "iopub.status.idle": "2021-03-11T23:41:30.751636Z",
     "shell.execute_reply": "2021-03-11T23:41:30.750944Z"
    },
    "papermill": {
     "duration": 0.022783,
     "end_time": "2021-03-11T23:41:30.751847",
     "exception": false,
     "start_time": "2021-03-11T23:41:30.729064",
     "status": "completed"
    },
    "tags": []
   },
   "outputs": [],
   "source": [
    "service_name=\"hello-pinecone\""
   ]
  },
  {
   "cell_type": "code",
   "execution_count": 6,
   "id": "correct-screening",
   "metadata": {
    "execution": {
     "iopub.execute_input": "2021-03-11T23:41:30.788800Z",
     "iopub.status.busy": "2021-03-11T23:41:30.788117Z",
     "iopub.status.idle": "2021-03-11T23:41:30.791265Z",
     "shell.execute_reply": "2021-03-11T23:41:30.790654Z"
    },
    "papermill": {
     "duration": 0.023746,
     "end_time": "2021-03-11T23:41:30.791497",
     "exception": false,
     "start_time": "2021-03-11T23:41:30.767751",
     "status": "completed"
    },
    "tags": []
   },
   "outputs": [],
   "source": [
    "graph = pinecone.graph.IndexGraph()  # Create a Pinecone graph"
   ]
  },
  {
   "cell_type": "code",
   "execution_count": 7,
   "id": "silver-satisfaction",
   "metadata": {
    "execution": {
     "iopub.execute_input": "2021-03-11T23:41:30.827936Z",
     "iopub.status.busy": "2021-03-11T23:41:30.827212Z",
     "iopub.status.idle": "2021-03-11T23:41:30.869860Z",
     "shell.execute_reply": "2021-03-11T23:41:30.869129Z"
    },
    "papermill": {
     "duration": 0.063301,
     "end_time": "2021-03-11T23:41:30.870070",
     "exception": false,
     "start_time": "2021-03-11T23:41:30.806769",
     "status": "completed"
    },
    "tags": []
   },
   "outputs": [
    {
     "data": {
      "image/svg+xml": [
       "<?xml version=\"1.0\" encoding=\"UTF-8\" standalone=\"no\"?>\n",
       "<!DOCTYPE svg PUBLIC \"-//W3C//DTD SVG 1.1//EN\"\n",
       " \"http://www.w3.org/Graphics/SVG/1.1/DTD/svg11.dtd\">\n",
       "<!-- Generated by graphviz version 2.38.0 (20140413.2041)\n",
       " -->\n",
       "<!-- Title: %3 Pages: 1 -->\n",
       "<svg width=\"184pt\" height=\"218pt\"\n",
       " viewBox=\"0.00 0.00 184.14 218.00\" xmlns=\"http://www.w3.org/2000/svg\" xmlns:xlink=\"http://www.w3.org/1999/xlink\">\n",
       "<g id=\"graph0\" class=\"graph\" transform=\"scale(1 1) rotate(0) translate(4 214)\">\n",
       "<title>%3</title>\n",
       "<polygon fill=\"white\" stroke=\"none\" points=\"-4,4 -4,-214 180.142,-214 180.142,4 -4,4\"/>\n",
       "<!-- incoming traffic -->\n",
       "<g id=\"node1\" class=\"node\"><title>incoming traffic</title>\n",
       "<ellipse fill=\"none\" stroke=\"black\" cx=\"85.1424\" cy=\"-192\" rx=\"85.2851\" ry=\"18\"/>\n",
       "<text text-anchor=\"middle\" x=\"85.1424\" y=\"-188.3\" font-family=\"Times,serif\" font-size=\"14.00\">incoming traffic</text>\n",
       "</g>\n",
       "<!-- engine -->\n",
       "<g id=\"node2\" class=\"node\"><title>engine</title>\n",
       "<ellipse fill=\"none\" stroke=\"black\" cx=\"85.1424\" cy=\"-105\" rx=\"42.4939\" ry=\"18\"/>\n",
       "<text text-anchor=\"middle\" x=\"85.1424\" y=\"-101.3\" font-family=\"Times,serif\" font-size=\"14.00\">engine</text>\n",
       "</g>\n",
       "<!-- incoming traffic&#45;&gt;engine -->\n",
       "<g id=\"edge1\" class=\"edge\"><title>incoming traffic&#45;&gt;engine</title>\n",
       "<path fill=\"none\" stroke=\"black\" d=\"M85.1424,-173.799C85.1424,-162.163 85.1424,-146.548 85.1424,-133.237\"/>\n",
       "<polygon fill=\"black\" stroke=\"black\" points=\"88.6425,-133.175 85.1424,-123.175 81.6425,-133.175 88.6425,-133.175\"/>\n",
       "<text text-anchor=\"middle\" x=\"130.642\" y=\"-144.8\" font-family=\"Times,serif\" font-size=\"14.00\">[read][write]</text>\n",
       "</g>\n",
       "<!-- outgoing traffic -->\n",
       "<g id=\"node3\" class=\"node\"><title>outgoing traffic</title>\n",
       "<ellipse fill=\"none\" stroke=\"black\" cx=\"85.1424\" cy=\"-18\" rx=\"83.3857\" ry=\"18\"/>\n",
       "<text text-anchor=\"middle\" x=\"85.1424\" y=\"-14.3\" font-family=\"Times,serif\" font-size=\"14.00\">outgoing traffic</text>\n",
       "</g>\n",
       "<!-- engine&#45;&gt;outgoing traffic -->\n",
       "<g id=\"edge2\" class=\"edge\"><title>engine&#45;&gt;outgoing traffic</title>\n",
       "<path fill=\"none\" stroke=\"black\" d=\"M85.1424,-86.799C85.1424,-75.1626 85.1424,-59.5479 85.1424,-46.2368\"/>\n",
       "<polygon fill=\"black\" stroke=\"black\" points=\"88.6425,-46.1754 85.1424,-36.1754 81.6425,-46.1755 88.6425,-46.1754\"/>\n",
       "<text text-anchor=\"middle\" x=\"130.642\" y=\"-57.8\" font-family=\"Times,serif\" font-size=\"14.00\">[read][write]</text>\n",
       "</g>\n",
       "</g>\n",
       "</svg>\n"
      ],
      "text/plain": [
       "<graphviz.files.Source at 0x7fd56ecea6d8>"
      ]
     },
     "execution_count": 7,
     "metadata": {},
     "output_type": "execute_result"
    }
   ],
   "source": [
    "graph.view()  # view the graph"
   ]
  },
  {
   "cell_type": "code",
   "execution_count": 8,
   "id": "excessive-sharing",
   "metadata": {
    "execution": {
     "iopub.execute_input": "2021-03-11T23:41:30.908959Z",
     "iopub.status.busy": "2021-03-11T23:41:30.908241Z",
     "iopub.status.idle": "2021-03-11T23:41:58.010867Z",
     "shell.execute_reply": "2021-03-11T23:41:58.010024Z"
    },
    "papermill": {
     "duration": 27.124655,
     "end_time": "2021-03-11T23:41:58.011220",
     "exception": false,
     "start_time": "2021-03-11T23:41:30.886565",
     "status": "completed"
    },
    "tags": []
   },
   "outputs": [
    {
     "data": {
      "text/plain": [
       "{'success': True, 'msg': ''}"
      ]
     },
     "execution_count": 8,
     "metadata": {},
     "output_type": "execute_result"
    }
   ],
   "source": [
    "pinecone.service.deploy(service_name, graph)  # deploy the graph as a service"
   ]
  },
  {
   "cell_type": "code",
   "execution_count": 9,
   "id": "fifty-classroom",
   "metadata": {
    "execution": {
     "iopub.execute_input": "2021-03-11T23:41:58.056791Z",
     "iopub.status.busy": "2021-03-11T23:41:58.056028Z",
     "iopub.status.idle": "2021-03-11T23:41:58.268993Z",
     "shell.execute_reply": "2021-03-11T23:41:58.268324Z"
    },
    "papermill": {
     "duration": 0.236964,
     "end_time": "2021-03-11T23:41:58.269360",
     "exception": false,
     "start_time": "2021-03-11T23:41:58.032396",
     "status": "completed"
    },
    "tags": []
   },
   "outputs": [],
   "source": [
    "conn = pinecone.connector.connect(service_name)  # connect to the service"
   ]
  },
  {
   "cell_type": "code",
   "execution_count": 10,
   "id": "exempt-attraction",
   "metadata": {
    "execution": {
     "iopub.execute_input": "2021-03-11T23:41:58.317380Z",
     "iopub.status.busy": "2021-03-11T23:41:58.316539Z",
     "iopub.status.idle": "2021-03-11T23:42:00.632605Z",
     "shell.execute_reply": "2021-03-11T23:42:00.631888Z"
    },
    "papermill": {
     "duration": 2.34331,
     "end_time": "2021-03-11T23:42:00.632838",
     "exception": false,
     "start_time": "2021-03-11T23:41:58.289528",
     "status": "completed"
    },
    "tags": []
   },
   "outputs": [
    {
     "data": {
      "text/plain": [
       "[IndexResult(id='A'), IndexResult(id='B')]"
      ]
     },
     "execution_count": 10,
     "metadata": {},
     "output_type": "execute_result"
    }
   ],
   "source": [
    "conn.upsert(items=[(\"A\", [1, 1, 1]), (\"B\", [1, 1, 1])]).collect()  # insert vectors"
   ]
  },
  {
   "cell_type": "code",
   "execution_count": 11,
   "id": "sublime-mongolia",
   "metadata": {
    "execution": {
     "iopub.execute_input": "2021-03-11T23:42:00.678252Z",
     "iopub.status.busy": "2021-03-11T23:42:00.677191Z",
     "iopub.status.idle": "2021-03-11T23:42:00.723620Z",
     "shell.execute_reply": "2021-03-11T23:42:00.722996Z"
    },
    "papermill": {
     "duration": 0.070167,
     "end_time": "2021-03-11T23:42:00.723848",
     "exception": false,
     "start_time": "2021-03-11T23:42:00.653681",
     "status": "completed"
    },
    "tags": []
   },
   "outputs": [
    {
     "data": {
      "text/plain": [
       "InfoResult(index_size=2)"
      ]
     },
     "execution_count": 11,
     "metadata": {},
     "output_type": "execute_result"
    }
   ],
   "source": [
    "conn.info()  # index info"
   ]
  },
  {
   "cell_type": "code",
   "execution_count": 12,
   "id": "elect-favorite",
   "metadata": {
    "execution": {
     "iopub.execute_input": "2021-03-11T23:42:00.768295Z",
     "iopub.status.busy": "2021-03-11T23:42:00.766936Z",
     "iopub.status.idle": "2021-03-11T23:42:16.719769Z",
     "shell.execute_reply": "2021-03-11T23:42:16.719022Z"
    },
    "papermill": {
     "duration": 15.977706,
     "end_time": "2021-03-11T23:42:16.720053",
     "exception": false,
     "start_time": "2021-03-11T23:42:00.742347",
     "status": "completed"
    },
    "tags": []
   },
   "outputs": [
    {
     "data": {
      "text/plain": [
       "{'success': True}"
      ]
     },
     "execution_count": 12,
     "metadata": {},
     "output_type": "execute_result"
    }
   ],
   "source": [
    "pinecone.service.stop(service_name=service_name)  # stop the service"
   ]
  }
 ],
 "metadata": {
  "kernelspec": {
   "display_name": "Python 3",
   "language": "python",
   "name": "python3"
  },
  "language_info": {
   "codemirror_mode": {
    "name": "ipython",
    "version": 3
   },
   "file_extension": ".py",
   "mimetype": "text/x-python",
   "name": "python",
   "nbconvert_exporter": "python",
   "pygments_lexer": "ipython3",
   "version": "3.7.0"
  },
  "papermill": {
   "default_parameters": {},
   "duration": 69.815388,
   "end_time": "2021-03-11T23:42:17.055913",
   "environment_variables": {},
   "exception": null,
   "input_path": "/notebooks/quick_tour/hello_pinecone.ipynb",
   "output_path": "/notebooks/build/quick_tour/hello_pinecone.ipynb",
   "parameters": {},
   "start_time": "2021-03-11T23:41:07.240525",
   "version": "2.3.3"
  }
 },
 "nbformat": 4,
 "nbformat_minor": 5
}