{
 "cells": [
  {
   "cell_type": "markdown",
   "id": "artificial-devil",
   "metadata": {
    "papermill": {
     "duration": 0.030936,
     "end_time": "2021-03-18T04:42:28.726323",
     "exception": false,
     "start_time": "2021-03-18T04:42:28.695387",
     "status": "completed"
    },
    "tags": []
   },
   "source": [
    "# Namespacing with Pinecone\n",
    "\n",
    "Namespacing is a neat feature in a Pinecone service that allows you to partition your data in an index. When you read from or write to a namespace in an index, you only access data in that particular namespace. In other words, data from two namespaces may have the same ids but different values. Namespacing is useful when you want to reuse the same data processing pipeline but query only a subset of your data. For example, when you are building a movie recommender system, you could use namespacing to separate recommendations by genre."
   ]
  },
  {
   "cell_type": "markdown",
   "id": "atmospheric-wayne",
   "metadata": {
    "papermill": {
     "duration": 0.022966,
     "end_time": "2021-03-18T04:42:28.774434",
     "exception": false,
     "start_time": "2021-03-18T04:42:28.751468",
     "status": "completed"
    },
    "tags": []
   },
   "source": [
    "## Prerequisites"
   ]
  },
  {
   "cell_type": "markdown",
   "id": "emotional-lyric",
   "metadata": {
    "papermill": {
     "duration": 0.021353,
     "end_time": "2021-03-18T04:42:28.818959",
     "exception": false,
     "start_time": "2021-03-18T04:42:28.797606",
     "status": "completed"
    },
    "tags": []
   },
   "source": [
    "Install dependencies."
   ]
  },
  {
   "cell_type": "code",
   "execution_count": 1,
   "id": "pleasant-transfer",
   "metadata": {
    "execution": {
     "iopub.execute_input": "2021-03-18T04:42:28.868566Z",
     "iopub.status.busy": "2021-03-18T04:42:28.867908Z",
     "iopub.status.idle": "2021-03-18T04:42:47.373951Z",
     "shell.execute_reply": "2021-03-18T04:42:47.373131Z"
    },
    "papermill": {
     "duration": 18.534924,
     "end_time": "2021-03-18T04:42:47.374248",
     "exception": false,
     "start_time": "2021-03-18T04:42:28.839324",
     "status": "completed"
    },
    "tags": []
   },
   "outputs": [],
   "source": [
    "!pip install -qU pip pinecone-client pandas"
   ]
  },
  {
   "cell_type": "markdown",
   "id": "moderate-distributor",
   "metadata": {
    "papermill": {
     "duration": 0.025405,
     "end_time": "2021-03-18T04:42:47.429053",
     "exception": false,
     "start_time": "2021-03-18T04:42:47.403648",
     "status": "completed"
    },
    "tags": []
   },
   "source": [
    "Set up Pinecone."
   ]
  },
  {
   "cell_type": "code",
   "execution_count": 2,
   "id": "ready-atlanta",
   "metadata": {
    "execution": {
     "iopub.execute_input": "2021-03-18T04:42:47.515895Z",
     "iopub.status.busy": "2021-03-18T04:42:47.515055Z",
     "iopub.status.idle": "2021-03-18T04:42:47.733165Z",
     "shell.execute_reply": "2021-03-18T04:42:47.732573Z"
    },
    "papermill": {
     "duration": 0.247297,
     "end_time": "2021-03-18T04:42:47.733419",
     "exception": false,
     "start_time": "2021-03-18T04:42:47.486122",
     "status": "completed"
    },
    "tags": []
   },
   "outputs": [],
   "source": [
    "import pinecone\n",
    "import os\n",
    "\n",
    "api_key = os.getenv(\"PINECONE_API_KEY\") or \"USE_YOUR_API_KEY\"\n",
    "pinecone.init(api_key=api_key)"
   ]
  },
  {
   "cell_type": "markdown",
   "id": "statistical-billion",
   "metadata": {
    "papermill": {
     "duration": 0.023757,
     "end_time": "2021-03-18T04:42:47.780117",
     "exception": false,
     "start_time": "2021-03-18T04:42:47.756360",
     "status": "completed"
    },
    "tags": []
   },
   "source": [
    "Check Pinecone version compatibility."
   ]
  },
  {
   "cell_type": "code",
   "execution_count": 3,
   "id": "remarkable-unknown",
   "metadata": {
    "execution": {
     "iopub.execute_input": "2021-03-18T04:42:47.839002Z",
     "iopub.status.busy": "2021-03-18T04:42:47.838185Z",
     "iopub.status.idle": "2021-03-18T04:42:48.006441Z",
     "shell.execute_reply": "2021-03-18T04:42:48.005643Z"
    },
    "papermill": {
     "duration": 0.201648,
     "end_time": "2021-03-18T04:42:48.006721",
     "exception": false,
     "start_time": "2021-03-18T04:42:47.805073",
     "status": "completed"
    },
    "tags": []
   },
   "outputs": [],
   "source": [
    "import pinecone.info\n",
    "\n",
    "version_info = pinecone.info.version()\n",
    "server_version = \".\".join(version_info.server.split(\".\")[:2])\n",
    "client_version = \".\".join(version_info.client.split(\".\")[:2])\n",
    "notebook_version = \"0.8\"\n",
    "\n",
    "assert (\n",
    "    notebook_version == server_version\n",
    "), \"This notebook is outdated. Consider using the latest version of the notebook.\"\n",
    "assert client_version == server_version, \"Please upgrade pinecone-client.\""
   ]
  },
  {
   "cell_type": "markdown",
   "id": "yellow-airline",
   "metadata": {
    "papermill": {
     "duration": 0.023921,
     "end_time": "2021-03-18T04:42:48.056885",
     "exception": false,
     "start_time": "2021-03-18T04:42:48.032964",
     "status": "completed"
    },
    "tags": []
   },
   "source": [
    "## Namespacing"
   ]
  },
  {
   "cell_type": "code",
   "execution_count": 4,
   "id": "changed-yeast",
   "metadata": {
    "execution": {
     "iopub.execute_input": "2021-03-18T04:42:48.107777Z",
     "iopub.status.busy": "2021-03-18T04:42:48.107038Z",
     "iopub.status.idle": "2021-03-18T04:42:48.529488Z",
     "shell.execute_reply": "2021-03-18T04:42:48.530056Z"
    },
    "papermill": {
     "duration": 0.450142,
     "end_time": "2021-03-18T04:42:48.530332",
     "exception": false,
     "start_time": "2021-03-18T04:42:48.080190",
     "status": "completed"
    },
    "tags": []
   },
   "outputs": [],
   "source": [
    "import pinecone.graph\n",
    "import pinecone.service\n",
    "import pinecone.connector\n",
    "import pandas as pd"
   ]
  },
  {
   "cell_type": "code",
   "execution_count": 5,
   "id": "balanced-housing",
   "metadata": {
    "execution": {
     "iopub.execute_input": "2021-03-18T04:42:48.584172Z",
     "iopub.status.busy": "2021-03-18T04:42:48.583337Z",
     "iopub.status.idle": "2021-03-18T04:43:05.186281Z",
     "shell.execute_reply": "2021-03-18T04:43:05.185495Z"
    },
    "papermill": {
     "duration": 16.632717,
     "end_time": "2021-03-18T04:43:05.186704",
     "exception": false,
     "start_time": "2021-03-18T04:42:48.553987",
     "status": "completed"
    },
    "tags": []
   },
   "outputs": [],
   "source": [
    "service_name = \"pinecone-namespacing\"\n",
    "\n",
    "# Deploy a service\n",
    "graph = pinecone.graph.IndexGraph(metric=\"euclidean\")\n",
    "pinecone.service.deploy(service_name=service_name, graph=graph)\n",
    "\n",
    "# Create a connection\n",
    "conn = pinecone.connector.connect(service_name)"
   ]
  },
  {
   "cell_type": "markdown",
   "id": "improved-season",
   "metadata": {
    "papermill": {
     "duration": 0.026154,
     "end_time": "2021-03-18T04:43:05.240946",
     "exception": false,
     "start_time": "2021-03-18T04:43:05.214792",
     "status": "completed"
    },
    "tags": []
   },
   "source": [
    "### Generate movie data"
   ]
  },
  {
   "cell_type": "code",
   "execution_count": 6,
   "id": "disciplinary-district",
   "metadata": {
    "execution": {
     "iopub.execute_input": "2021-03-18T04:43:05.307136Z",
     "iopub.status.busy": "2021-03-18T04:43:05.306314Z",
     "iopub.status.idle": "2021-03-18T04:43:05.315446Z",
     "shell.execute_reply": "2021-03-18T04:43:05.314853Z"
    },
    "papermill": {
     "duration": 0.05106,
     "end_time": "2021-03-18T04:43:05.315750",
     "exception": false,
     "start_time": "2021-03-18T04:43:05.264690",
     "status": "completed"
    },
    "tags": []
   },
   "outputs": [
    {
     "data": {
      "text/html": [
       "<div>\n",
       "<style scoped>\n",
       "    .dataframe tbody tr th:only-of-type {\n",
       "        vertical-align: middle;\n",
       "    }\n",
       "\n",
       "    .dataframe tbody tr th {\n",
       "        vertical-align: top;\n",
       "    }\n",
       "\n",
       "    .dataframe thead th {\n",
       "        text-align: right;\n",
       "    }\n",
       "</style>\n",
       "<table border=\"1\" class=\"dataframe\">\n",
       "  <thead>\n",
       "    <tr style=\"text-align: right;\">\n",
       "      <th></th>\n",
       "      <th>id</th>\n",
       "      <th>vector</th>\n",
       "    </tr>\n",
       "  </thead>\n",
       "  <tbody>\n",
       "    <tr>\n",
       "      <th>0</th>\n",
       "      <td>Wall-E</td>\n",
       "      <td>[1, 1]</td>\n",
       "    </tr>\n",
       "    <tr>\n",
       "      <th>1</th>\n",
       "      <td>Up</td>\n",
       "      <td>[2, 2]</td>\n",
       "    </tr>\n",
       "    <tr>\n",
       "      <th>2</th>\n",
       "      <td>Ratatouille</td>\n",
       "      <td>[3, 3]</td>\n",
       "    </tr>\n",
       "    <tr>\n",
       "      <th>3</th>\n",
       "      <td>Toy Story</td>\n",
       "      <td>[4, 4]</td>\n",
       "    </tr>\n",
       "  </tbody>\n",
       "</table>\n",
       "</div>"
      ],
      "text/plain": [
       "            id  vector\n",
       "0       Wall-E  [1, 1]\n",
       "1           Up  [2, 2]\n",
       "2  Ratatouille  [3, 3]\n",
       "3    Toy Story  [4, 4]"
      ]
     },
     "execution_count": 6,
     "metadata": {},
     "output_type": "execute_result"
    }
   ],
   "source": [
    "# Generate some data\n",
    "\n",
    "df = pd.DataFrame()\n",
    "df[\"id\"] = [\"Wall-E\", \"Up\", \"Ratatouille\", \"Toy Story\"]\n",
    "df[\"vector\"] = [[1, 1], [2, 2], [3, 3], [4, 4]]\n",
    "df"
   ]
  },
  {
   "cell_type": "markdown",
   "id": "leading-flesh",
   "metadata": {
    "papermill": {
     "duration": 0.030762,
     "end_time": "2021-03-18T04:43:05.374641",
     "exception": false,
     "start_time": "2021-03-18T04:43:05.343879",
     "status": "completed"
    },
    "tags": []
   },
   "source": [
    "### Insert vectors without specifying a namespace"
   ]
  },
  {
   "cell_type": "code",
   "execution_count": 7,
   "id": "nearby-skiing",
   "metadata": {
    "execution": {
     "iopub.execute_input": "2021-03-18T04:43:05.442195Z",
     "iopub.status.busy": "2021-03-18T04:43:05.441341Z",
     "iopub.status.idle": "2021-03-18T04:43:05.778152Z",
     "shell.execute_reply": "2021-03-18T04:43:05.777271Z"
    },
    "papermill": {
     "duration": 0.374166,
     "end_time": "2021-03-18T04:43:05.778421",
     "exception": false,
     "start_time": "2021-03-18T04:43:05.404255",
     "status": "completed"
    },
    "tags": []
   },
   "outputs": [
    {
     "data": {
      "text/plain": [
       "InfoResult(index_size=4)"
      ]
     },
     "execution_count": 7,
     "metadata": {},
     "output_type": "execute_result"
    }
   ],
   "source": [
    "# Insert vectors without specifying a namespace\n",
    "conn.upsert(items=zip(df.id, df.vector)).collect()\n",
    "conn.info()"
   ]
  },
  {
   "cell_type": "markdown",
   "id": "large-tunisia",
   "metadata": {
    "papermill": {
     "duration": 0.025999,
     "end_time": "2021-03-18T04:43:05.833815",
     "exception": false,
     "start_time": "2021-03-18T04:43:05.807816",
     "status": "completed"
    },
    "tags": []
   },
   "source": [
    "### Insert vectors into a namespace"
   ]
  },
  {
   "cell_type": "code",
   "execution_count": 8,
   "id": "excellent-channel",
   "metadata": {
    "execution": {
     "iopub.execute_input": "2021-03-18T04:43:05.894150Z",
     "iopub.status.busy": "2021-03-18T04:43:05.893303Z",
     "iopub.status.idle": "2021-03-18T04:43:05.897828Z",
     "shell.execute_reply": "2021-03-18T04:43:05.898322Z"
    },
    "papermill": {
     "duration": 0.040351,
     "end_time": "2021-03-18T04:43:05.898666",
     "exception": false,
     "start_time": "2021-03-18T04:43:05.858315",
     "status": "completed"
    },
    "tags": []
   },
   "outputs": [
    {
     "data": {
      "text/html": [
       "<div>\n",
       "<style scoped>\n",
       "    .dataframe tbody tr th:only-of-type {\n",
       "        vertical-align: middle;\n",
       "    }\n",
       "\n",
       "    .dataframe tbody tr th {\n",
       "        vertical-align: top;\n",
       "    }\n",
       "\n",
       "    .dataframe thead th {\n",
       "        text-align: right;\n",
       "    }\n",
       "</style>\n",
       "<table border=\"1\" class=\"dataframe\">\n",
       "  <thead>\n",
       "    <tr style=\"text-align: right;\">\n",
       "      <th></th>\n",
       "      <th>id</th>\n",
       "      <th>vector</th>\n",
       "    </tr>\n",
       "  </thead>\n",
       "  <tbody>\n",
       "    <tr>\n",
       "      <th>0</th>\n",
       "      <td>Wall-E</td>\n",
       "      <td>[1, 1]</td>\n",
       "    </tr>\n",
       "    <tr>\n",
       "      <th>2</th>\n",
       "      <td>Ratatouille</td>\n",
       "      <td>[3, 3]</td>\n",
       "    </tr>\n",
       "  </tbody>\n",
       "</table>\n",
       "</div>"
      ],
      "text/plain": [
       "            id  vector\n",
       "0       Wall-E  [1, 1]\n",
       "2  Ratatouille  [3, 3]"
      ]
     },
     "execution_count": 8,
     "metadata": {},
     "output_type": "execute_result"
    }
   ],
   "source": [
    "romantic_comedies = [\"Wall-E\", \"Ratatouille\"]\n",
    "romcom_df = df[df.id.isin(romantic_comedies)]\n",
    "romcom_df"
   ]
  },
  {
   "cell_type": "code",
   "execution_count": 9,
   "id": "registered-eagle",
   "metadata": {
    "execution": {
     "iopub.execute_input": "2021-03-18T04:43:05.952024Z",
     "iopub.status.busy": "2021-03-18T04:43:05.951268Z",
     "iopub.status.idle": "2021-03-18T04:43:06.040292Z",
     "shell.execute_reply": "2021-03-18T04:43:06.039377Z"
    },
    "papermill": {
     "duration": 0.117469,
     "end_time": "2021-03-18T04:43:06.040549",
     "exception": false,
     "start_time": "2021-03-18T04:43:05.923080",
     "status": "completed"
    },
    "tags": []
   },
   "outputs": [
    {
     "data": {
      "text/plain": [
       "InfoResult(index_size=2)"
      ]
     },
     "execution_count": 9,
     "metadata": {},
     "output_type": "execute_result"
    }
   ],
   "source": [
    "# Insert vectors into a namespace\n",
    "conn.upsert(\n",
    "    items=zip(romcom_df.id, romcom_df.vector), namespace=\"romantic-comedy\"\n",
    ").collect()\n",
    "conn.info(namespace=\"romantic-comedy\")"
   ]
  },
  {
   "cell_type": "markdown",
   "id": "eight-sixth",
   "metadata": {
    "papermill": {
     "duration": 0.025978,
     "end_time": "2021-03-18T04:43:06.093600",
     "exception": false,
     "start_time": "2021-03-18T04:43:06.067622",
     "status": "completed"
    },
    "tags": []
   },
   "source": [
    "### Query top-3 results, without a namespace"
   ]
  },
  {
   "cell_type": "code",
   "execution_count": 10,
   "id": "timely-allen",
   "metadata": {
    "execution": {
     "iopub.execute_input": "2021-03-18T04:43:06.151450Z",
     "iopub.status.busy": "2021-03-18T04:43:06.150653Z",
     "iopub.status.idle": "2021-03-18T04:43:06.194752Z",
     "shell.execute_reply": "2021-03-18T04:43:06.193889Z"
    },
    "papermill": {
     "duration": 0.076442,
     "end_time": "2021-03-18T04:43:06.195039",
     "exception": false,
     "start_time": "2021-03-18T04:43:06.118597",
     "status": "completed"
    },
    "tags": []
   },
   "outputs": [
    {
     "data": {
      "text/plain": [
       "[QueryResult(ids=['Wall-E', 'Up', 'Ratatouille'], scores=[0.0, -2.0, -8.0], data=None)]"
      ]
     },
     "execution_count": 10,
     "metadata": {},
     "output_type": "execute_result"
    }
   ],
   "source": [
    "query_results = conn.query(queries=df[df.id == \"Wall-E\"].vector, top_k=3).collect()\n",
    "query_results"
   ]
  },
  {
   "cell_type": "markdown",
   "id": "arabic-shooting",
   "metadata": {
    "papermill": {
     "duration": 0.025836,
     "end_time": "2021-03-18T04:43:06.249440",
     "exception": false,
     "start_time": "2021-03-18T04:43:06.223604",
     "status": "completed"
    },
    "tags": []
   },
   "source": [
    "### Query top-3 results, with a namespace\n",
    "\n",
    "We should expect to see only romantic comedies in the query results."
   ]
  },
  {
   "cell_type": "code",
   "execution_count": 11,
   "id": "stuck-hardware",
   "metadata": {
    "execution": {
     "iopub.execute_input": "2021-03-18T04:43:06.309039Z",
     "iopub.status.busy": "2021-03-18T04:43:06.308279Z",
     "iopub.status.idle": "2021-03-18T04:43:06.355027Z",
     "shell.execute_reply": "2021-03-18T04:43:06.353993Z"
    },
    "papermill": {
     "duration": 0.079822,
     "end_time": "2021-03-18T04:43:06.355299",
     "exception": false,
     "start_time": "2021-03-18T04:43:06.275477",
     "status": "completed"
    },
    "tags": []
   },
   "outputs": [
    {
     "name": "stdout",
     "output_type": "stream",
     "text": [
      "[QueryResult(ids=['Wall-E', 'Ratatouille'], scores=[0.0, -8.0], data=None)]\n"
     ]
    }
   ],
   "source": [
    "query_results = conn.query(\n",
    "    queries=df[df.id == \"Wall-E\"].vector, top_k=3, namespace=\"romantic-comedy\"\n",
    ").collect()\n",
    "print(query_results)"
   ]
  },
  {
   "cell_type": "markdown",
   "id": "geological-competition",
   "metadata": {
    "papermill": {
     "duration": 0.026233,
     "end_time": "2021-03-18T04:43:06.411143",
     "exception": false,
     "start_time": "2021-03-18T04:43:06.384910",
     "status": "completed"
    },
    "tags": []
   },
   "source": [
    "### Stop the service"
   ]
  },
  {
   "cell_type": "code",
   "execution_count": 12,
   "id": "valuable-rehabilitation",
   "metadata": {
    "execution": {
     "iopub.execute_input": "2021-03-18T04:43:06.466930Z",
     "iopub.status.busy": "2021-03-18T04:43:06.466276Z",
     "iopub.status.idle": "2021-03-18T04:43:22.419861Z",
     "shell.execute_reply": "2021-03-18T04:43:22.418764Z"
    },
    "papermill": {
     "duration": 15.982652,
     "end_time": "2021-03-18T04:43:22.420143",
     "exception": false,
     "start_time": "2021-03-18T04:43:06.437491",
     "status": "completed"
    },
    "tags": []
   },
   "outputs": [
    {
     "data": {
      "text/plain": [
       "{'success': True}"
      ]
     },
     "execution_count": 12,
     "metadata": {},
     "output_type": "execute_result"
    }
   ],
   "source": [
    "# stop the service\n",
    "pinecone.service.stop(service_name=service_name)"
   ]
  }
 ],
 "metadata": {
  "kernelspec": {
   "display_name": "Python 3",
   "language": "python",
   "name": "python3"
  },
  "language_info": {
   "codemirror_mode": {
    "name": "ipython",
    "version": 3
   },
   "file_extension": ".py",
   "mimetype": "text/x-python",
   "name": "python",
   "nbconvert_exporter": "python",
   "pygments_lexer": "ipython3",
   "version": "3.7.0"
  },
  "papermill": {
   "default_parameters": {},
   "duration": 55.263517,
   "end_time": "2021-03-18T04:43:22.762671",
   "environment_variables": {},
   "exception": null,
   "input_path": "/notebooks/quick_tour/namespacing.ipynb",
   "output_path": "/notebooks/build/quick_tour/namespacing.ipynb",
   "parameters": {},
   "start_time": "2021-03-18T04:42:27.499154",
   "version": "2.3.3"
  }
 },
 "nbformat": 4,
 "nbformat_minor": 5
}
