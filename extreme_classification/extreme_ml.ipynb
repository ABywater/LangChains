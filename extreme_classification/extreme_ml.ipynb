{
 "cells": [
  {
   "cell_type": "markdown",
   "metadata": {
    "id": "txu0M8tPKoLh"
   },
   "source": [
    "# Extreme Classification\n",
    "\n",
    "This demo aims to label new texts automatically when the number of possible labels is enormous. This scenario is known as extreme classification, a supervised learning variant that deals with multi-class and multi-label problems involving many choices. \n",
    "\n",
    "Examples for applying extreme classification are labeling a new article with Wikipedia's topical labels, matching web content with a set of relevant advertisements, classifying product descriptions with catalog labels, and classifying a resume into a collection of pertinent job titles. \n",
    "\n",
    "Here's how we'll perform extreme classification:\n",
    "\n",
    "1. We'll transform 250,000 labels into vector embeddings using a publicly available embedding model and upload them into a [managed vector index](https://www.pinecone.io/). \n",
    "2. Then we'll take an article that requires labeling and transform it into a [vector embedding](https://www.pinecone.io/learn/vector-embeddings/) using the same model.\n",
    "3. We'll use that article's vector embedding as the query to search the vector index. In effect, this will retrieve the most similar labels to the article's semantic content.\n",
    "4. With the most relevant labels retrieved, we can automatically apply them to the article.\n",
    "\n",
    "Let's get started!"
   ]
  },
  {
   "cell_type": "markdown",
   "metadata": {
    "id": "XqdwjnhLKoLi"
   },
   "source": [
    "## Dependencies"
   ]
  },
  {
   "cell_type": "code",
   "execution_count": null,
   "metadata": {
    "id": "J7vHPDeAw4yv"
   },
   "outputs": [],
   "source": [
    "!pip install -qU pinecone-client ipywidgets setuptools>=36.2.1 wikitextparser\n",
    "!pip install -qU sentence-transformers --no-cache-dir"
   ]
  },
  {
   "cell_type": "code",
   "execution_count": 2,
   "metadata": {
    "id": "0xxgXjMI3FjS"
   },
   "outputs": [],
   "source": [
    "import os\n",
    "import re\n",
    "import gzip\n",
    "import json\n",
    "import pandas as pd\n",
    "import numpy as np\n",
    "from wikitextparser import remove_markup, parse\n",
    "from sentence_transformers import SentenceTransformer"
   ]
  },
  {
   "cell_type": "markdown",
   "metadata": {
    "id": "Rehgtr0exfNC"
   },
   "source": [
    "## Setting up Pinecone's Similarity Search Service\n",
    "Here we set up our similarity search service. We assume you are familiar with Pinecone's [quick start tutorial](https://www.pinecone.io/docs/quickstart-python/)."
   ]
  },
  {
   "cell_type": "code",
   "execution_count": 3,
   "metadata": {
    "id": "HqEPENOtKoLk"
   },
   "outputs": [],
   "source": [
    "import pinecone"
   ]
  },
  {
   "cell_type": "code",
   "execution_count": 4,
   "metadata": {
    "id": "e6aC7RAwJMys"
   },
   "outputs": [],
   "source": [
    "# Load Pinecone API key\n",
    "api_key = os.getenv(\"PINECONE_API_KEY\") or \"YOUR_API_KEY\"\n",
    "pinecone.init(api_key=api_key)"
   ]
  },
  {
   "cell_type": "markdown",
   "metadata": {
    "id": "G6Clp-zWKoLk"
   },
   "source": [
    "[Get a Pinecone API key](https://www.pinecone.io/start/) if you don’t have one."
   ]
  },
  {
   "cell_type": "code",
   "execution_count": 5,
   "metadata": {
    "id": "3mnselUAJv2Z"
   },
   "outputs": [],
   "source": [
    "# Pick a name for the new index\n",
    "index_name = 'extreme-ml'"
   ]
  },
  {
   "cell_type": "code",
   "execution_count": 6,
   "metadata": {
    "id": "SJw-3Yt8JM1f"
   },
   "outputs": [],
   "source": [
    "# Check whether the index with the same name already exists\n",
    "if index_name in pinecone.list_indexes():\n",
    "    pinecone.delete_index(index_name)"
   ]
  },
  {
   "cell_type": "code",
   "execution_count": 7,
   "metadata": {
    "colab": {
     "base_uri": "https://localhost:8080/",
     "height": 66,
     "referenced_widgets": [
      "598fd3fd0b274a919a26102fb1d14fb3",
      "db178c9a98a541b5b748e1c6214ce9a4",
      "64a8f9b18507404988fdf69c7bac3c5d",
      "4c9395917c804f2c85d7c9aa9c81f507",
      "2a5bc90e0a0d4601b2afd8074732b359",
      "7efa95235d1549e7b57429cba7fe496c",
      "7ac5df171d984ae6a4a3b8eaf6889429",
      "e926240dec954ba18dc646d70bb5651b",
      "ada58f3a8ef249be9230127acf1bbca0",
      "f45f12be0e8046449cac5be3e0e4f0ff",
      "9b111a70c78c43849cccd75c967b2a74"
     ]
    },
    "id": "2b8jdAXxJ0nP",
    "outputId": "3d6e5f96-1476-4e37-d68b-5ac2698356a3"
   },
   "outputs": [
    {
     "data": {
      "application/vnd.jupyter.widget-view+json": {
       "model_id": "598fd3fd0b274a919a26102fb1d14fb3",
       "version_major": 2,
       "version_minor": 0
      },
      "text/plain": [
       "  0%|          | 0/3 [00:00<?, ?it/s]"
      ]
     },
     "metadata": {
      "tags": []
     },
     "output_type": "display_data"
    },
    {
     "data": {
      "text/plain": [
       "{'msg': '', 'success': True}"
      ]
     },
     "execution_count": 7,
     "metadata": {
      "tags": []
     },
     "output_type": "execute_result"
    }
   ],
   "source": [
    "# Create a new vector index\n",
    "pinecone.create_index(name=index_name, metric='cosine', shards=1)"
   ]
  },
  {
   "cell_type": "code",
   "execution_count": 8,
   "metadata": {
    "colab": {
     "base_uri": "https://localhost:8080/"
    },
    "id": "ToGBQv7_pXF9",
    "outputId": "b74d9607-14f2-4899-b01f-ad2013073a30"
   },
   "outputs": [
    {
     "data": {
      "text/plain": [
       "InfoResult(index_size=0)"
      ]
     },
     "execution_count": 8,
     "metadata": {
      "tags": []
     },
     "output_type": "execute_result"
    }
   ],
   "source": [
    "# Connect to the created index\n",
    "index = pinecone.Index(name = index_name, response_timeout=300)\n",
    "\n",
    "# Print info\n",
    "index.info()"
   ]
  },
  {
   "cell_type": "markdown",
   "metadata": {
    "id": "4vrtoBXs1Yer"
   },
   "source": [
    "## Data Preparation \n",
    "In this demo, we classify Wikipedia articles using a standard dataset from an extreme classification benchmarking [resource](http://manikvarma.org/downloads/XC/XMLRepository.html). The data used in this example is [Wikipedia-500k](https://drive.google.com/drive/folders/12HiiGWmbLfTEEObs2Y2jiTETZfXDowrn) which contains around 500,000 labels. Here, we will download the raw data and prepare it for the classification task.\n"
   ]
  },
  {
   "cell_type": "code",
   "execution_count": 9,
   "metadata": {
    "colab": {
     "base_uri": "https://localhost:8080/"
    },
    "collapsed": true,
    "id": "mNoq5sQ-KoLp",
    "outputId": "29902495-29f0-48d2-dbb0-746caec6fdf0"
   },
   "outputs": [
    {
     "name": "stdout",
     "output_type": "stream",
     "text": [
      "--2021-06-09 14:31:41--  https://docs.google.com/uc?export=download&confirm=3ath&id=10RBSf6nC9C38wUMwqWur2Yd8mCwtup5K\n",
      "Resolving docs.google.com (docs.google.com)... 173.194.210.102, 173.194.210.138, 173.194.210.101, ...\n",
      "Connecting to docs.google.com (docs.google.com)|173.194.210.102|:443... connected.\n",
      "HTTP request sent, awaiting response... 302 Moved Temporarily\n",
      "Location: https://doc-14-44-docs.googleusercontent.com/docs/securesc/pfc83acko8eq2c019oiuu34aea0q2fiq/6q8rl2hlpugnh7c1v5cnmpudmcpkk1vh/1623249075000/06283569454216238406/11144625318900891516Z/10RBSf6nC9C38wUMwqWur2Yd8mCwtup5K?e=download [following]\n",
      "--2021-06-09 14:31:41--  https://doc-14-44-docs.googleusercontent.com/docs/securesc/pfc83acko8eq2c019oiuu34aea0q2fiq/6q8rl2hlpugnh7c1v5cnmpudmcpkk1vh/1623249075000/06283569454216238406/11144625318900891516Z/10RBSf6nC9C38wUMwqWur2Yd8mCwtup5K?e=download\n",
      "Resolving doc-14-44-docs.googleusercontent.com (doc-14-44-docs.googleusercontent.com)... 142.250.98.132, 2607:f8b0:400c:c1a::84\n",
      "Connecting to doc-14-44-docs.googleusercontent.com (doc-14-44-docs.googleusercontent.com)|142.250.98.132|:443... connected.\n",
      "HTTP request sent, awaiting response... 302 Found\n",
      "Location: https://docs.google.com/nonceSigner?nonce=ubmfn3rkq8fes&continue=https://doc-14-44-docs.googleusercontent.com/docs/securesc/pfc83acko8eq2c019oiuu34aea0q2fiq/6q8rl2hlpugnh7c1v5cnmpudmcpkk1vh/1623249075000/06283569454216238406/11144625318900891516Z/10RBSf6nC9C38wUMwqWur2Yd8mCwtup5K?e%3Ddownload&hash=6m2ss3fk02517i68ss7hlhtiolc09q6s [following]\n",
      "--2021-06-09 14:31:41--  https://docs.google.com/nonceSigner?nonce=ubmfn3rkq8fes&continue=https://doc-14-44-docs.googleusercontent.com/docs/securesc/pfc83acko8eq2c019oiuu34aea0q2fiq/6q8rl2hlpugnh7c1v5cnmpudmcpkk1vh/1623249075000/06283569454216238406/11144625318900891516Z/10RBSf6nC9C38wUMwqWur2Yd8mCwtup5K?e%3Ddownload&hash=6m2ss3fk02517i68ss7hlhtiolc09q6s\n",
      "Connecting to docs.google.com (docs.google.com)|173.194.210.102|:443... connected.\n",
      "HTTP request sent, awaiting response... 302 Found\n",
      "Location: https://doc-14-44-docs.googleusercontent.com/docs/securesc/pfc83acko8eq2c019oiuu34aea0q2fiq/6q8rl2hlpugnh7c1v5cnmpudmcpkk1vh/1623249075000/06283569454216238406/11144625318900891516Z/10RBSf6nC9C38wUMwqWur2Yd8mCwtup5K?e=download&nonce=ubmfn3rkq8fes&user=11144625318900891516Z&hash=rptfiqv2jk5g80cchrd4p6ifkjohvar5 [following]\n",
      "--2021-06-09 14:31:41--  https://doc-14-44-docs.googleusercontent.com/docs/securesc/pfc83acko8eq2c019oiuu34aea0q2fiq/6q8rl2hlpugnh7c1v5cnmpudmcpkk1vh/1623249075000/06283569454216238406/11144625318900891516Z/10RBSf6nC9C38wUMwqWur2Yd8mCwtup5K?e=download&nonce=ubmfn3rkq8fes&user=11144625318900891516Z&hash=rptfiqv2jk5g80cchrd4p6ifkjohvar5\n",
      "Connecting to doc-14-44-docs.googleusercontent.com (doc-14-44-docs.googleusercontent.com)|142.250.98.132|:443... connected.\n",
      "HTTP request sent, awaiting response... 200 OK\n",
      "Length: unspecified [application/x-gzip]\n",
      "Saving to: ‘trn.raw.json.gz’\n",
      "\n",
      "trn.raw.json.gz         [                <=> ]   4.93G  57.3MB/s    in 68s     \n",
      "\n",
      "2021-06-09 14:32:49 (74.5 MB/s) - ‘trn.raw.json.gz’ saved [5292805889]\n",
      "\n",
      "--2021-06-09 14:32:53--  https://docs.google.com/uc?export=download&confirm=5j_v&id=1pEyKXtkwHhinuRxmARhtwEQ39VIughDf\n",
      "Resolving docs.google.com (docs.google.com)... 173.194.210.100, 173.194.210.139, 173.194.210.138, ...\n",
      "Connecting to docs.google.com (docs.google.com)|173.194.210.100|:443... connected.\n",
      "HTTP request sent, awaiting response... 302 Moved Temporarily\n",
      "Location: https://doc-14-8o-docs.googleusercontent.com/docs/securesc/v875fpae2f82k8o2ras73857fkr231iu/k8gaivrg8b893i5f104asco848464nu8/1623249150000/06283569454216238406/18061201775808393743Z/1pEyKXtkwHhinuRxmARhtwEQ39VIughDf?e=download [following]\n",
      "--2021-06-09 14:32:53--  https://doc-14-8o-docs.googleusercontent.com/docs/securesc/v875fpae2f82k8o2ras73857fkr231iu/k8gaivrg8b893i5f104asco848464nu8/1623249150000/06283569454216238406/18061201775808393743Z/1pEyKXtkwHhinuRxmARhtwEQ39VIughDf?e=download\n",
      "Resolving doc-14-8o-docs.googleusercontent.com (doc-14-8o-docs.googleusercontent.com)... 142.250.98.132, 2607:f8b0:400c:c1a::84\n",
      "Connecting to doc-14-8o-docs.googleusercontent.com (doc-14-8o-docs.googleusercontent.com)|142.250.98.132|:443... connected.\n",
      "HTTP request sent, awaiting response... 302 Found\n",
      "Location: https://docs.google.com/nonceSigner?nonce=4svmrg99fogig&continue=https://doc-14-8o-docs.googleusercontent.com/docs/securesc/v875fpae2f82k8o2ras73857fkr231iu/k8gaivrg8b893i5f104asco848464nu8/1623249150000/06283569454216238406/18061201775808393743Z/1pEyKXtkwHhinuRxmARhtwEQ39VIughDf?e%3Ddownload&hash=nkmo7veofvr3ivjvg5k8cculv3770vt2 [following]\n",
      "--2021-06-09 14:32:53--  https://docs.google.com/nonceSigner?nonce=4svmrg99fogig&continue=https://doc-14-8o-docs.googleusercontent.com/docs/securesc/v875fpae2f82k8o2ras73857fkr231iu/k8gaivrg8b893i5f104asco848464nu8/1623249150000/06283569454216238406/18061201775808393743Z/1pEyKXtkwHhinuRxmARhtwEQ39VIughDf?e%3Ddownload&hash=nkmo7veofvr3ivjvg5k8cculv3770vt2\n",
      "Connecting to docs.google.com (docs.google.com)|173.194.210.100|:443... connected.\n",
      "HTTP request sent, awaiting response... 302 Found\n",
      "Location: https://doc-14-8o-docs.googleusercontent.com/docs/securesc/v875fpae2f82k8o2ras73857fkr231iu/k8gaivrg8b893i5f104asco848464nu8/1623249150000/06283569454216238406/18061201775808393743Z/1pEyKXtkwHhinuRxmARhtwEQ39VIughDf?e=download&nonce=4svmrg99fogig&user=18061201775808393743Z&hash=ol68l7bh1fngvnlqd5o5622mci3voml5 [following]\n",
      "--2021-06-09 14:32:53--  https://doc-14-8o-docs.googleusercontent.com/docs/securesc/v875fpae2f82k8o2ras73857fkr231iu/k8gaivrg8b893i5f104asco848464nu8/1623249150000/06283569454216238406/18061201775808393743Z/1pEyKXtkwHhinuRxmARhtwEQ39VIughDf?e=download&nonce=4svmrg99fogig&user=18061201775808393743Z&hash=ol68l7bh1fngvnlqd5o5622mci3voml5\n",
      "Connecting to doc-14-8o-docs.googleusercontent.com (doc-14-8o-docs.googleusercontent.com)|142.250.98.132|:443... connected.\n",
      "HTTP request sent, awaiting response... 200 OK\n",
      "Length: unspecified [application/x-gzip]\n",
      "Saving to: ‘tst.raw.json.gz’\n",
      "\n",
      "tst.raw.json.gz         [               <=>  ]   2.14G  44.1MB/s    in 34s     \n",
      "\n",
      "2021-06-09 14:33:27 (64.5 MB/s) - ‘tst.raw.json.gz’ saved [2297151115]\n",
      "\n",
      "--2021-06-09 14:33:29--  https://docs.google.com/uc?export=download&confirm=&id=1ZYTZPlnkPBCMcNqRRO-gNx8EPgtV-GL3\n",
      "Resolving docs.google.com (docs.google.com)... 172.217.193.138, 172.217.193.113, 172.217.193.101, ...\n",
      "Connecting to docs.google.com (docs.google.com)|172.217.193.138|:443... connected.\n",
      "HTTP request sent, awaiting response... 302 Moved Temporarily\n",
      "Location: https://doc-00-5s-docs.googleusercontent.com/docs/securesc/bho303s19fhomogddeslf4munv6in5i3/or2e6ls2gmpd015k5g8p49202fmoj2mi/1623249150000/06283569454216238406/03060212303868306513Z/1ZYTZPlnkPBCMcNqRRO-gNx8EPgtV-GL3?e=download [following]\n",
      "--2021-06-09 14:33:30--  https://doc-00-5s-docs.googleusercontent.com/docs/securesc/bho303s19fhomogddeslf4munv6in5i3/or2e6ls2gmpd015k5g8p49202fmoj2mi/1623249150000/06283569454216238406/03060212303868306513Z/1ZYTZPlnkPBCMcNqRRO-gNx8EPgtV-GL3?e=download\n",
      "Resolving doc-00-5s-docs.googleusercontent.com (doc-00-5s-docs.googleusercontent.com)... 142.250.98.132, 2607:f8b0:400c:c1a::84\n",
      "Connecting to doc-00-5s-docs.googleusercontent.com (doc-00-5s-docs.googleusercontent.com)|142.250.98.132|:443... connected.\n",
      "HTTP request sent, awaiting response... 302 Found\n",
      "Location: https://docs.google.com/nonceSigner?nonce=q9u4vv0e9jdha&continue=https://doc-00-5s-docs.googleusercontent.com/docs/securesc/bho303s19fhomogddeslf4munv6in5i3/or2e6ls2gmpd015k5g8p49202fmoj2mi/1623249150000/06283569454216238406/03060212303868306513Z/1ZYTZPlnkPBCMcNqRRO-gNx8EPgtV-GL3?e%3Ddownload&hash=64u5dn75oju413snj1cu1cffpj5ibqmv [following]\n",
      "--2021-06-09 14:33:30--  https://docs.google.com/nonceSigner?nonce=q9u4vv0e9jdha&continue=https://doc-00-5s-docs.googleusercontent.com/docs/securesc/bho303s19fhomogddeslf4munv6in5i3/or2e6ls2gmpd015k5g8p49202fmoj2mi/1623249150000/06283569454216238406/03060212303868306513Z/1ZYTZPlnkPBCMcNqRRO-gNx8EPgtV-GL3?e%3Ddownload&hash=64u5dn75oju413snj1cu1cffpj5ibqmv\n",
      "Connecting to docs.google.com (docs.google.com)|172.217.193.138|:443... connected.\n",
      "HTTP request sent, awaiting response... 302 Found\n",
      "Location: https://doc-00-5s-docs.googleusercontent.com/docs/securesc/bho303s19fhomogddeslf4munv6in5i3/or2e6ls2gmpd015k5g8p49202fmoj2mi/1623249150000/06283569454216238406/03060212303868306513Z/1ZYTZPlnkPBCMcNqRRO-gNx8EPgtV-GL3?e=download&nonce=q9u4vv0e9jdha&user=03060212303868306513Z&hash=ulhtos2mdho2q06l74cr0eucdqmnco5e [following]\n",
      "--2021-06-09 14:33:30--  https://doc-00-5s-docs.googleusercontent.com/docs/securesc/bho303s19fhomogddeslf4munv6in5i3/or2e6ls2gmpd015k5g8p49202fmoj2mi/1623249150000/06283569454216238406/03060212303868306513Z/1ZYTZPlnkPBCMcNqRRO-gNx8EPgtV-GL3?e=download&nonce=q9u4vv0e9jdha&user=03060212303868306513Z&hash=ulhtos2mdho2q06l74cr0eucdqmnco5e\n",
      "Connecting to doc-00-5s-docs.googleusercontent.com (doc-00-5s-docs.googleusercontent.com)|142.250.98.132|:443... connected.\n",
      "HTTP request sent, awaiting response... 200 OK\n",
      "Length: unspecified [text/plain]\n",
      "Saving to: ‘Yf.txt’\n",
      "\n",
      "Yf.txt                  [ <=>                ]  32.18M  --.-KB/s    in 0.1s    \n",
      "\n",
      "2021-06-09 14:33:30 (218 MB/s) - ‘Yf.txt’ saved [33740692]\n",
      "\n"
     ]
    }
   ],
   "source": [
    "# Download train dataset\n",
    "!wget --load-cookies /tmp/cookies.txt \"https://docs.google.com/uc?export=download&confirm=$(wget --quiet --save-cookies /tmp/cookies.txt --keep-session-cookies --no-check-certificate 'https://docs.google.com/uc?export=download&id=10RBSf6nC9C38wUMwqWur2Yd8mCwtup5K' -O- | sed -rn 's/.*confirm=([0-9A-Za-z_]+).*/\\1\\n/p')&id=10RBSf6nC9C38wUMwqWur2Yd8mCwtup5K\" -O 'trn.raw.json.gz' && rm -rf /tmp/cookies.txt \n",
    "\n",
    "# Download test dataset\n",
    "!wget --load-cookies /tmp/cookies.txt \"https://docs.google.com/uc?export=download&confirm=$(wget --quiet --save-cookies /tmp/cookies.txt --keep-session-cookies --no-check-certificate 'https://docs.google.com/uc?export=download&id=1pEyKXtkwHhinuRxmARhtwEQ39VIughDf' -O- | sed -rn 's/.*confirm=([0-9A-Za-z_]+).*/\\1\\n/p')&id=1pEyKXtkwHhinuRxmARhtwEQ39VIughDf\" -O 'tst.raw.json.gz' && rm -rf /tmp/cookies.txt\n",
    "\n",
    "# Download categories labels file\n",
    "!wget --load-cookies /tmp/cookies.txt \"https://docs.google.com/uc?export=download&confirm=$(wget --quiet --save-cookies /tmp/cookies.txt --keep-session-cookies --no-check-certificate 'https://docs.google.com/uc?export=download&id=1ZYTZPlnkPBCMcNqRRO-gNx8EPgtV-GL3' -O- | sed -rn 's/.*confirm=([0-9A-Za-z_]+).*/\\1\\n/p')&id=1ZYTZPlnkPBCMcNqRRO-gNx8EPgtV-GL3\" -O 'Yf.txt' && rm -rf /tmp/cookies.txt\n",
    "\n",
    "# Create and move downloaded files to data folder\n",
    "!mkdir data\n",
    "!mv 'trn.raw.json.gz' 'tst.raw.json.gz' 'Yf.txt' data"
   ]
  },
  {
   "cell_type": "code",
   "execution_count": 10,
   "metadata": {
    "id": "UOt76Zpc0bgB"
   },
   "outputs": [],
   "source": [
    "# Define paths\n",
    "ROOT_PATH = os.getcwd()\n",
    "TRAIN_DATA_PATH = (os.path.join(ROOT_PATH, './data/trn.raw.json.gz'))\n",
    "TEST_DATA_PATH = (os.path.join(ROOT_PATH, './data/tst.raw.json.gz'))"
   ]
  },
  {
   "cell_type": "code",
   "execution_count": 11,
   "metadata": {
    "colab": {
     "base_uri": "https://localhost:8080/"
    },
    "id": "kvFzNpHbC5XN",
    "outputId": "bf6d0862-3d5f-43c8-cfd0-ca236da2ffb4"
   },
   "outputs": [
    {
     "data": {
      "text/plain": [
       "['!!!_albums', '+/-_(band)_albums', '+44_(band)_songs']"
      ]
     },
     "execution_count": 11,
     "metadata": {
      "tags": []
     },
     "output_type": "execute_result"
    }
   ],
   "source": [
    "# Load categories\n",
    "with open('./data/Yf.txt',  encoding='utf-8') as f:\n",
    "    categories = f.readlines()\n",
    "\n",
    "# Clean values\n",
    "categories = [cat.split('->')[1].strip('\\n') for cat in categories]\n",
    "\n",
    "# Show frist few categories\n",
    "categories[:3]"
   ]
  },
  {
   "cell_type": "markdown",
   "metadata": {
    "id": "3QgDfWiSKoLs"
   },
   "source": [
    "### Using a Subset of the Data\n",
    "For this example, we will select and use a subset of wikipedia articles. This will save time for processing and consume much less memory than the complete dataset.\n",
    "We will select a sample of 200,000 articles that contains around 250,000 different labels. \n",
    "\n",
    "Feel free to run the notebook with more data. "
   ]
  },
  {
   "cell_type": "code",
   "execution_count": 12,
   "metadata": {
    "colab": {
     "base_uri": "https://localhost:8080/",
     "height": 204
    },
    "id": "TzWem97g1cu0",
    "outputId": "0885bbb2-1554-454e-b679-1e181df8936c"
   },
   "outputs": [
    {
     "data": {
      "text/html": [
       "<div>\n",
       "<style scoped>\n",
       "    .dataframe tbody tr th:only-of-type {\n",
       "        vertical-align: middle;\n",
       "    }\n",
       "\n",
       "    .dataframe tbody tr th {\n",
       "        vertical-align: top;\n",
       "    }\n",
       "\n",
       "    .dataframe thead th {\n",
       "        text-align: right;\n",
       "    }\n",
       "</style>\n",
       "<table border=\"1\" class=\"dataframe\">\n",
       "  <thead>\n",
       "    <tr style=\"text-align: right;\">\n",
       "      <th></th>\n",
       "      <th>title</th>\n",
       "      <th>content</th>\n",
       "      <th>target_ind</th>\n",
       "    </tr>\n",
       "  </thead>\n",
       "  <tbody>\n",
       "    <tr>\n",
       "      <th>0</th>\n",
       "      <td>Anarchism</td>\n",
       "      <td>{{redirect2|anarchist|anarchists|the fictional...</td>\n",
       "      <td>[81199, 83757, 83805, 193030, 368811, 368937, ...</td>\n",
       "    </tr>\n",
       "    <tr>\n",
       "      <th>1</th>\n",
       "      <td>Academy_Awards</td>\n",
       "      <td>{{redirect2|oscars|the oscar|the film|the osca...</td>\n",
       "      <td>[19080, 65864, 78208, 96051]</td>\n",
       "    </tr>\n",
       "    <tr>\n",
       "      <th>2</th>\n",
       "      <td>Anthropology</td>\n",
       "      <td>{{about|the social science}} {{use dmy dates|d...</td>\n",
       "      <td>[83605, 423943]</td>\n",
       "    </tr>\n",
       "    <tr>\n",
       "      <th>3</th>\n",
       "      <td>American_Football_Conference</td>\n",
       "      <td>{{refimprove|date=september 2014}} {{use dmy d...</td>\n",
       "      <td>[76725, 314198, 334093]</td>\n",
       "    </tr>\n",
       "    <tr>\n",
       "      <th>4</th>\n",
       "      <td>Analysis_of_variance</td>\n",
       "      <td>{{use dmy dates|date=june 2013}} '''analysis o...</td>\n",
       "      <td>[81170, 168516, 338198, 441529]</td>\n",
       "    </tr>\n",
       "  </tbody>\n",
       "</table>\n",
       "</div>"
      ],
      "text/plain": [
       "                          title  ...                                         target_ind\n",
       "0                     Anarchism  ...  [81199, 83757, 83805, 193030, 368811, 368937, ...\n",
       "1                Academy_Awards  ...                       [19080, 65864, 78208, 96051]\n",
       "2                  Anthropology  ...                                    [83605, 423943]\n",
       "3  American_Football_Conference  ...                            [76725, 314198, 334093]\n",
       "4          Analysis_of_variance  ...                    [81170, 168516, 338198, 441529]\n",
       "\n",
       "[5 rows x 3 columns]"
      ]
     },
     "execution_count": 12,
     "metadata": {
      "tags": []
     },
     "output_type": "execute_result"
    }
   ],
   "source": [
    "WIKI_ARTICLES_INDEX = range(0, 1000000, 5)\n",
    "\n",
    "lines = []\n",
    "\n",
    "with gzip.open(TRAIN_DATA_PATH) as f:\n",
    "    for e, line in enumerate(f):\n",
    "        if e >= 1000000:\n",
    "            break\n",
    "        if e in WIKI_ARTICLES_INDEX:\n",
    "            lines.append(json.loads(line))\n",
    "        \n",
    "df = pd.DataFrame.from_dict(lines)\n",
    "df = df[['title', 'content', 'target_ind']]\n",
    "df.head()"
   ]
  },
  {
   "cell_type": "code",
   "execution_count": 13,
   "metadata": {
    "colab": {
     "base_uri": "https://localhost:8080/"
    },
    "id": "QuqqsJXVKoLt",
    "outputId": "36ea2e15-fdf4-4d78-e1df-c8af3027fe1c"
   },
   "outputs": [
    {
     "name": "stdout",
     "output_type": "stream",
     "text": [
      "(200000, 3)\n"
     ]
    }
   ],
   "source": [
    "print(df.shape)"
   ]
  },
  {
   "cell_type": "markdown",
   "metadata": {
    "id": "fwlvTZxmKoLu"
   },
   "source": [
    "### Remove Wikipedia Markup Format\n",
    "We are going to use only the first part of the articles to make them comparable in terms of length. Also, Wikipedia articles have a certain format that is not so readable, so we will remove the markup to make the content as clean as possible."
   ]
  },
  {
   "cell_type": "code",
   "execution_count": 14,
   "metadata": {
    "colab": {
     "base_uri": "https://localhost:8080/",
     "height": 204
    },
    "id": "KX2LAImiy0Ol",
    "outputId": "8f5190b6-12b7-4f5a-add0-95f094b12c0d"
   },
   "outputs": [
    {
     "data": {
      "text/html": [
       "<div>\n",
       "<style scoped>\n",
       "    .dataframe tbody tr th:only-of-type {\n",
       "        vertical-align: middle;\n",
       "    }\n",
       "\n",
       "    .dataframe tbody tr th {\n",
       "        vertical-align: top;\n",
       "    }\n",
       "\n",
       "    .dataframe thead th {\n",
       "        text-align: right;\n",
       "    }\n",
       "</style>\n",
       "<table border=\"1\" class=\"dataframe\">\n",
       "  <thead>\n",
       "    <tr style=\"text-align: right;\">\n",
       "      <th></th>\n",
       "      <th>title</th>\n",
       "      <th>content_cleaned</th>\n",
       "      <th>target_ind</th>\n",
       "    </tr>\n",
       "  </thead>\n",
       "  <tbody>\n",
       "    <tr>\n",
       "      <th>0</th>\n",
       "      <td>Anarchism</td>\n",
       "      <td>anarchism is a political philosophy that a...</td>\n",
       "      <td>[81199, 83757, 83805, 193030, 368811, 368937, ...</td>\n",
       "    </tr>\n",
       "    <tr>\n",
       "      <th>1</th>\n",
       "      <td>Academy_Awards</td>\n",
       "      <td>the academy awards or the oscars (the offi...</td>\n",
       "      <td>[19080, 65864, 78208, 96051]</td>\n",
       "    </tr>\n",
       "    <tr>\n",
       "      <th>2</th>\n",
       "      <td>Anthropology</td>\n",
       "      <td>anthropology  is the scientific study of hu...</td>\n",
       "      <td>[83605, 423943]</td>\n",
       "    </tr>\n",
       "    <tr>\n",
       "      <th>3</th>\n",
       "      <td>American_Football_Conference</td>\n",
       "      <td>the american football conference (afc) is o...</td>\n",
       "      <td>[76725, 314198, 334093]</td>\n",
       "    </tr>\n",
       "    <tr>\n",
       "      <th>4</th>\n",
       "      <td>Analysis_of_variance</td>\n",
       "      <td>analysis of variance (anova) is a collection ...</td>\n",
       "      <td>[81170, 168516, 338198, 441529]</td>\n",
       "    </tr>\n",
       "  </tbody>\n",
       "</table>\n",
       "</div>"
      ],
      "text/plain": [
       "                          title  ...                                         target_ind\n",
       "0                     Anarchism  ...  [81199, 83757, 83805, 193030, 368811, 368937, ...\n",
       "1                Academy_Awards  ...                       [19080, 65864, 78208, 96051]\n",
       "2                  Anthropology  ...                                    [83605, 423943]\n",
       "3  American_Football_Conference  ...                            [76725, 314198, 334093]\n",
       "4          Analysis_of_variance  ...                    [81170, 168516, 338198, 441529]\n",
       "\n",
       "[5 rows x 3 columns]"
      ]
     },
     "execution_count": 14,
     "metadata": {
      "tags": []
     },
     "output_type": "execute_result"
    }
   ],
   "source": [
    "# Reduce content to first 3000 characters\n",
    "df['content_short'] = df.content.apply(lambda x: x[:3000])\n",
    "\n",
    "# Remove wiki articles markup\n",
    "df['content_cleaned'] = df.content_short.apply(lambda x: remove_markup(x))\n",
    "\n",
    "# Keep only certain columns\n",
    "df = df[['title', 'content_cleaned', 'target_ind']]\n",
    "\n",
    "# Show data\n",
    "df.head()"
   ]
  },
  {
   "cell_type": "code",
   "execution_count": 15,
   "metadata": {
    "colab": {
     "base_uri": "https://localhost:8080/"
    },
    "id": "2vNJBiFx_yt7",
    "outputId": "b227b43d-f8c9-4577-bd0f-3b4c0b4daca0"
   },
   "outputs": [
    {
     "name": "stdout",
     "output_type": "stream",
     "text": [
      "Number of labels:  256899\n"
     ]
    }
   ],
   "source": [
    "# Keep all labels in a single list\n",
    "all_categories = []\n",
    "for i, row in df.iterrows():\n",
    "    all_categories.extend(row.target_ind)\n",
    "print('Number of labels: ',len(list(set(all_categories))))"
   ]
  },
  {
   "cell_type": "markdown",
   "metadata": {
    "id": "bO0Jk_5YYhEX"
   },
   "source": [
    "### Create Article Vector Embeddings"
   ]
  },
  {
   "cell_type": "markdown",
   "metadata": {
    "id": "-YZh1YM2KoLw"
   },
   "source": [
    "Recall, we want to index and search all possible (250,000) *labels*. We do that by averaging, for each label, the corresponding article vector embeddings that contain that label. \n",
    "\n",
    "Let's first create the article vector embeddings. Here we use the [Average Word Embeddings Models](https://www.sbert.net/docs/pretrained_models.html#average-word-embeddings-models).  In the next section, we will aggregate these vectors to make the final label embeddings. "
   ]
  },
  {
   "cell_type": "code",
   "execution_count": 16,
   "metadata": {
    "colab": {
     "base_uri": "https://localhost:8080/",
     "height": 81,
     "referenced_widgets": [
      "9e14d42bfdd74da183de3d205be04d88",
      "45730c2257bf4212a622d10d5704730d",
      "ad34f30cff9d4a8f9f1754171e3682c8",
      "2de24323e1d34b58a351920c146711a2",
      "32ca1932c0144fa795a07ea99b9b864d",
      "9d50bcf368f643fb81a7085552c772dd",
      "6eafa3d4b38442e1b5aaac57c7d9140d",
      "f58ae58aa860488b9a4c8d4273c0b1ef",
      "762eb348e9c045b2bb16c55ae5e46c6f",
      "0ab278c96ee74894bf6ff28b87d1df5a",
      "333395d65e7f47e7ad87aa9f01e06ad3",
      "e71d8bbf4e194589bb103c961b2addd3",
      "5bd401896bcf4b4d9eaf81236d261fe8",
      "208e9b2ca9e6403b94f24954f7c56edd",
      "4de0c26581c74bb8984358c594a12c87",
      "75565c19a55b45f8ae1a474c78ee3f95",
      "630b1d75496847e89dc50c85942ccdb3",
      "8f61422cab644e51a441cbfaba5bbefd",
      "a3a0472fc40145648a29f8318f16f105",
      "398d86b032ea4d0884ad55372d40f59c",
      "fc1402fb65454e4bb8f68aadaa36a9f7",
      "ba7e6d34cac94a05be6d262911c61810"
     ]
    },
    "id": "Kn6xK4c0E5DQ",
    "outputId": "63409856-a25d-4fd3-9c7f-8b3bc9aa3d32"
   },
   "outputs": [
    {
     "data": {
      "application/vnd.jupyter.widget-view+json": {
       "model_id": "9e14d42bfdd74da183de3d205be04d88",
       "version_major": 2,
       "version_minor": 0
      },
      "text/plain": [
       "  0%|          | 0.00/248M [00:00<?, ?B/s]"
      ]
     },
     "metadata": {
      "tags": []
     },
     "output_type": "display_data"
    },
    {
     "data": {
      "application/vnd.jupyter.widget-view+json": {
       "model_id": "e71d8bbf4e194589bb103c961b2addd3",
       "version_major": 2,
       "version_minor": 0
      },
      "text/plain": [
       "Batches:   0%|          | 0/6250 [00:00<?, ?it/s]"
      ]
     },
     "metadata": {
      "tags": []
     },
     "output_type": "display_data"
    }
   ],
   "source": [
    "# Load the model\n",
    "model = SentenceTransformer('average_word_embeddings_komninos')\n",
    "\n",
    "# Create embeddings\n",
    "encoded_articles = model.encode(df['content_cleaned'], show_progress_bar=True)\n",
    "df['content_vector'] = pd.Series(encoded_articles.tolist())"
   ]
  },
  {
   "cell_type": "markdown",
   "metadata": {
    "id": "IukiFtbsP8I6"
   },
   "source": [
    "## Upload articles"
   ]
  },
  {
   "cell_type": "markdown",
   "metadata": {
    "id": "e3GNhDdaKoLx"
   },
   "source": [
    "\n",
    "It appears that using the article embeddings per se doesn't provide good enough accuracies. Therefore, we chose to index and search the labels directly. \n",
    "\n",
    "The label embedding is simply the average of all its corresponding article embeddings. "
   ]
  },
  {
   "cell_type": "code",
   "execution_count": 17,
   "metadata": {
    "colab": {
     "base_uri": "https://localhost:8080/",
     "height": 235
    },
    "id": "IKb4BdUkierl",
    "outputId": "13c702b6-bf7a-4191-8247-6e5bac57cb21"
   },
   "outputs": [
    {
     "data": {
      "text/html": [
       "<div>\n",
       "<style scoped>\n",
       "    .dataframe tbody tr th:only-of-type {\n",
       "        vertical-align: middle;\n",
       "    }\n",
       "\n",
       "    .dataframe tbody tr th {\n",
       "        vertical-align: top;\n",
       "    }\n",
       "\n",
       "    .dataframe thead th {\n",
       "        text-align: right;\n",
       "    }\n",
       "</style>\n",
       "<table border=\"1\" class=\"dataframe\">\n",
       "  <thead>\n",
       "    <tr style=\"text-align: right;\">\n",
       "      <th></th>\n",
       "      <th>content_vector</th>\n",
       "      <th>ind</th>\n",
       "    </tr>\n",
       "    <tr>\n",
       "      <th>target_ind</th>\n",
       "      <th></th>\n",
       "      <th></th>\n",
       "    </tr>\n",
       "  </thead>\n",
       "  <tbody>\n",
       "    <tr>\n",
       "      <th>2</th>\n",
       "      <td>[0.0704750344157219, -0.007719345390796661, 0....</td>\n",
       "      <td>2</td>\n",
       "    </tr>\n",
       "    <tr>\n",
       "      <th>3</th>\n",
       "      <td>[0.05894148722290993, -0.03119848482310772, 0....</td>\n",
       "      <td>3</td>\n",
       "    </tr>\n",
       "    <tr>\n",
       "      <th>5</th>\n",
       "      <td>[0.18302207440137863, 0.061663837544620036, 0....</td>\n",
       "      <td>5</td>\n",
       "    </tr>\n",
       "    <tr>\n",
       "      <th>6</th>\n",
       "      <td>[0.1543595753610134, 0.03904660418629646, 0.03...</td>\n",
       "      <td>6</td>\n",
       "    </tr>\n",
       "    <tr>\n",
       "      <th>9</th>\n",
       "      <td>[0.22310754656791687, 0.1524289846420288, 0.09...</td>\n",
       "      <td>9</td>\n",
       "    </tr>\n",
       "  </tbody>\n",
       "</table>\n",
       "</div>"
      ],
      "text/plain": [
       "                                               content_vector  ind\n",
       "target_ind                                                        \n",
       "2           [0.0704750344157219, -0.007719345390796661, 0....    2\n",
       "3           [0.05894148722290993, -0.03119848482310772, 0....    3\n",
       "5           [0.18302207440137863, 0.061663837544620036, 0....    5\n",
       "6           [0.1543595753610134, 0.03904660418629646, 0.03...    6\n",
       "9           [0.22310754656791687, 0.1524289846420288, 0.09...    9"
      ]
     },
     "execution_count": 17,
     "metadata": {
      "tags": []
     },
     "output_type": "execute_result"
    }
   ],
   "source": [
    "# Explode the target indicator column\n",
    "df_explode = df.explode('target_ind')\n",
    "\n",
    "# Group by label and define a unique vector for each label\n",
    "result = df_explode.groupby('target_ind').agg(mean=('content_vector', lambda x: np.vstack(x).mean(axis=0).tolist()))\n",
    "result['target_ind'] = result.index\n",
    "result.columns = ['content_vector', 'ind']\n",
    "\n",
    "result.head()"
   ]
  },
  {
   "cell_type": "code",
   "execution_count": 18,
   "metadata": {
    "id": "t4RVXycKKoLx"
   },
   "outputs": [],
   "source": [
    "# Create a list of items to upsert\n",
    "items_to_upsert = [(categories[int(row.ind)][:64], row.content_vector) for i, row in result.iterrows()]"
   ]
  },
  {
   "cell_type": "code",
   "execution_count": 20,
   "metadata": {
    "colab": {
     "base_uri": "https://localhost:8080/",
     "height": 100,
     "referenced_widgets": [
      "79ec0baead5744d080e3e3b543970064",
      "c790b9fba12d4d3b84a8b6fc2e8e417a",
      "423ff4ef07f94fdb8b4b9ae86150d213",
      "04b57ff305584fbda2c9bd1c53f58e33",
      "5bcb540460684aa7bf1764d599bb15b7",
      "7328aef66cd54720b7498229976fb4bb",
      "3f12caf4dc8645c7a0a0893b08d90a10",
      "02b1f286865d4de6b54cb7d4d7fb55b0",
      "afd93e02cdcc46c086ac87fe857a6701",
      "0d9c1e65a4af4a7787382764761c790e",
      "bbad7c16eb264e00b5933f284dde4866"
     ]
    },
    "id": "yiPE52-PKDzR",
    "outputId": "e8f3d304-1ed7-4c7a-dc93-79f4c96e4431"
   },
   "outputs": [
    {
     "data": {
      "application/vnd.jupyter.widget-view+json": {
       "model_id": "79ec0baead5744d080e3e3b543970064",
       "version_major": 2,
       "version_minor": 0
      },
      "text/plain": [
       "0it [00:00, ?it/s]"
      ]
     },
     "metadata": {
      "tags": []
     },
     "output_type": "display_data"
    },
    {
     "data": {
      "text/plain": [
       "[UpsertResult(id='+44_(band)_songs'),\n",
       " UpsertResult(id='-ismist_Recordings_albums'),\n",
       " UpsertResult(id='.22_LR_firearms')]"
      ]
     },
     "execution_count": 20,
     "metadata": {
      "tags": []
     },
     "output_type": "execute_result"
    }
   ],
   "source": [
    "# Upsert data\n",
    "acks = index.upsert(items=items_to_upsert)\n",
    "acks[:3]"
   ]
  },
  {
   "cell_type": "markdown",
   "metadata": {
    "id": "-GVhg9LvKoLy"
   },
   "source": [
    "Let's validate the number of indexed labels."
   ]
  },
  {
   "cell_type": "code",
   "execution_count": 21,
   "metadata": {
    "colab": {
     "base_uri": "https://localhost:8080/"
    },
    "id": "83fitZsgJ0p8",
    "outputId": "8e756cd3-78e2-4df6-896a-414d124625b4"
   },
   "outputs": [
    {
     "data": {
      "text/plain": [
       "InfoResult(index_size=256552)"
      ]
     },
     "execution_count": 21,
     "metadata": {
      "tags": []
     },
     "output_type": "execute_result"
    }
   ],
   "source": [
    "index.info()"
   ]
  },
  {
   "cell_type": "markdown",
   "metadata": {
    "id": "XfXXbYZ8xsZe"
   },
   "source": [
    "## Query "
   ]
  },
  {
   "cell_type": "markdown",
   "metadata": {
    "id": "13buVJS4KoLz"
   },
   "source": [
    "Now, let's test the vector index and examine the classifier results. Observe that here we retrieve a fixed number of labels. Naturally, in an actual application, you might want to calculate the size of the retrieved label set dynamically. "
   ]
  },
  {
   "cell_type": "code",
   "execution_count": 22,
   "metadata": {
    "colab": {
     "base_uri": "https://localhost:8080/",
     "height": 142
    },
    "id": "AoFfEIjBJ0st",
    "outputId": "d1dd6612-fb60-4138-e9af-d6f5aa909eaf"
   },
   "outputs": [
    {
     "data": {
      "text/html": [
       "<div>\n",
       "<style scoped>\n",
       "    .dataframe tbody tr th:only-of-type {\n",
       "        vertical-align: middle;\n",
       "    }\n",
       "\n",
       "    .dataframe tbody tr th {\n",
       "        vertical-align: top;\n",
       "    }\n",
       "\n",
       "    .dataframe thead th {\n",
       "        text-align: right;\n",
       "    }\n",
       "</style>\n",
       "<table border=\"1\" class=\"dataframe\">\n",
       "  <thead>\n",
       "    <tr style=\"text-align: right;\">\n",
       "      <th></th>\n",
       "      <th>title</th>\n",
       "      <th>content</th>\n",
       "      <th>target_ind</th>\n",
       "    </tr>\n",
       "  </thead>\n",
       "  <tbody>\n",
       "    <tr>\n",
       "      <th>0</th>\n",
       "      <td>Discrimination</td>\n",
       "      <td>{{otheruses}} {{discrimination sidebar}} '''di...</td>\n",
       "      <td>[170479, 423902]</td>\n",
       "    </tr>\n",
       "    <tr>\n",
       "      <th>1</th>\n",
       "      <td>Erfurt</td>\n",
       "      <td>{{refimprove|date=june 2014}} {{use dmy dates|...</td>\n",
       "      <td>[142638, 187156, 219262, 294479, 329185, 38243...</td>\n",
       "    </tr>\n",
       "    <tr>\n",
       "      <th>2</th>\n",
       "      <td>ETA</td>\n",
       "      <td>{{about|the basque organization|other uses|eta...</td>\n",
       "      <td>[83681, 100838, 100849, 100868, 176034, 188979...</td>\n",
       "    </tr>\n",
       "  </tbody>\n",
       "</table>\n",
       "</div>"
      ],
      "text/plain": [
       "            title  ...                                         target_ind\n",
       "0  Discrimination  ...                                   [170479, 423902]\n",
       "1          Erfurt  ...  [142638, 187156, 219262, 294479, 329185, 38243...\n",
       "2             ETA  ...  [83681, 100838, 100849, 100868, 176034, 188979...\n",
       "\n",
       "[3 rows x 3 columns]"
      ]
     },
     "execution_count": 22,
     "metadata": {
      "tags": []
     },
     "output_type": "execute_result"
    }
   ],
   "source": [
    "NUM_OF_WIKI_ARTICLES = 3\n",
    "WIKI_ARTICLES_INDEX = range(1111, 100000, 57)[:NUM_OF_WIKI_ARTICLES]\n",
    "\n",
    "lines = []\n",
    "\n",
    "with gzip.open(TEST_DATA_PATH) as f:\n",
    "    for e, line in enumerate(f):\n",
    "        if e in  WIKI_ARTICLES_INDEX:\n",
    "            lines.append(json.loads(line)) \n",
    "        if e > max(WIKI_ARTICLES_INDEX):\n",
    "            break\n",
    "            \n",
    "df_test = pd.DataFrame.from_dict(lines)\n",
    "df_test = df_test[['title', 'content', 'target_ind']]\n",
    "df_test.head()"
   ]
  },
  {
   "cell_type": "code",
   "execution_count": 23,
   "metadata": {
    "colab": {
     "base_uri": "https://localhost:8080/",
     "height": 142
    },
    "id": "hRoAhDQ5N9kJ",
    "outputId": "0f68c0a8-3c3e-4abf-8e96-e05b21b3ded2"
   },
   "outputs": [
    {
     "data": {
      "text/html": [
       "<div>\n",
       "<style scoped>\n",
       "    .dataframe tbody tr th:only-of-type {\n",
       "        vertical-align: middle;\n",
       "    }\n",
       "\n",
       "    .dataframe tbody tr th {\n",
       "        vertical-align: top;\n",
       "    }\n",
       "\n",
       "    .dataframe thead th {\n",
       "        text-align: right;\n",
       "    }\n",
       "</style>\n",
       "<table border=\"1\" class=\"dataframe\">\n",
       "  <thead>\n",
       "    <tr style=\"text-align: right;\">\n",
       "      <th></th>\n",
       "      <th>title</th>\n",
       "      <th>content_cleaned</th>\n",
       "      <th>target_ind</th>\n",
       "    </tr>\n",
       "  </thead>\n",
       "  <tbody>\n",
       "    <tr>\n",
       "      <th>0</th>\n",
       "      <td>Discrimination</td>\n",
       "      <td>discrimination is action that denies social ...</td>\n",
       "      <td>[170479, 423902]</td>\n",
       "    </tr>\n",
       "    <tr>\n",
       "      <th>1</th>\n",
       "      <td>Erfurt</td>\n",
       "      <td>erfurt () is the capital city of thuringia ...</td>\n",
       "      <td>[142638, 187156, 219262, 294479, 329185, 38243...</td>\n",
       "    </tr>\n",
       "    <tr>\n",
       "      <th>2</th>\n",
       "      <td>ETA</td>\n",
       "      <td>eta (, ), an acronym for euskadi ta askatas...</td>\n",
       "      <td>[83681, 100838, 100849, 100868, 176034, 188979...</td>\n",
       "    </tr>\n",
       "  </tbody>\n",
       "</table>\n",
       "</div>"
      ],
      "text/plain": [
       "            title  ...                                         target_ind\n",
       "0  Discrimination  ...                                   [170479, 423902]\n",
       "1          Erfurt  ...  [142638, 187156, 219262, 294479, 329185, 38243...\n",
       "2             ETA  ...  [83681, 100838, 100849, 100868, 176034, 188979...\n",
       "\n",
       "[3 rows x 3 columns]"
      ]
     },
     "execution_count": 23,
     "metadata": {
      "tags": []
     },
     "output_type": "execute_result"
    }
   ],
   "source": [
    "# Reduce content to first 3000 characters\n",
    "df_test['content_short'] = df_test.content.apply(lambda x: x[:3000])\n",
    "\n",
    "# Remove wiki articles markup\n",
    "df_test['content_cleaned'] = df_test.content_short.apply(lambda x: remove_markup(x))\n",
    "\n",
    "# Keep only certain columns\n",
    "df_test = df_test[['title', 'content_cleaned', 'target_ind']]\n",
    "\n",
    "# Show data\n",
    "df_test.head()"
   ]
  },
  {
   "cell_type": "code",
   "execution_count": 24,
   "metadata": {
    "colab": {
     "base_uri": "https://localhost:8080/",
     "height": 49,
     "referenced_widgets": [
      "6b502ffb6b714340bb9390d79254dbb6",
      "38eba2b71d2542a99a371e01f0aff9a2",
      "35a949d3e9704312a3e1cadab1c8110b",
      "0017e1b88a7c4d45a814b2fc52c8c98f",
      "4335183ca1dd45d9b056661656602308",
      "9b6f9f6ce84843738a61b1a881f89d05",
      "e384844614134d4682819f5b8181d1e6",
      "1c3b72effb9440b98d8318efa7720a7e",
      "ce314e57378045af9707e089467d8039",
      "59c7e3d9c57f412c9b7a8e990bf62652",
      "a50fc71221fa41abb8dd8b4f75f83229"
     ]
    },
    "id": "N8N7uvNjKoLz",
    "outputId": "adcc14c2-486a-404f-9963-a46723734621"
   },
   "outputs": [
    {
     "data": {
      "application/vnd.jupyter.widget-view+json": {
       "model_id": "6b502ffb6b714340bb9390d79254dbb6",
       "version_major": 2,
       "version_minor": 0
      },
      "text/plain": [
       "Batches:   0%|          | 0/1 [00:00<?, ?it/s]"
      ]
     },
     "metadata": {
      "tags": []
     },
     "output_type": "display_data"
    }
   ],
   "source": [
    "# Create embeddings for test articles\n",
    "test_vectors = model.encode(df_test['content_cleaned'], show_progress_bar=True)"
   ]
  },
  {
   "cell_type": "code",
   "execution_count": 25,
   "metadata": {
    "colab": {
     "base_uri": "https://localhost:8080/",
     "height": 49,
     "referenced_widgets": [
      "9f93fb0d8b2843e88ac71ffa1fefb26b",
      "b737dfb52a664728b44b48f61145cdbc",
      "564e1bd0d1414338a714c353de89740b",
      "1227fbe3350d412597560931ae5c277c",
      "0df31072c82b4324a28bc65b96f9a6df",
      "d055f4742a274f26a1481fb3da96c327",
      "d79f60152e91427d9af6a14d5be62d6c",
      "2d9c743d19fe417185aaee8ca1e09368",
      "2b875bb0312c4ee7bf5158c7593edb8f",
      "4a27693f7f77496c85d3d324d9f4e238",
      "5d82b5058d4c40069a0aa28deeab287d"
     ]
    },
    "id": "vPc5jnY3NhaW",
    "outputId": "e4854249-4522-4a46-c5c5-ed6fa2379c82"
   },
   "outputs": [
    {
     "data": {
      "application/vnd.jupyter.widget-view+json": {
       "model_id": "9f93fb0d8b2843e88ac71ffa1fefb26b",
       "version_major": 2,
       "version_minor": 0
      },
      "text/plain": [
       "0it [00:00, ?it/s]"
      ]
     },
     "metadata": {
      "tags": []
     },
     "output_type": "display_data"
    }
   ],
   "source": [
    "# Query the vector index\n",
    "query_results = index.query(queries=test_vectors, top_k=10)"
   ]
  },
  {
   "cell_type": "code",
   "execution_count": 26,
   "metadata": {
    "colab": {
     "base_uri": "https://localhost:8080/",
     "height": 1000
    },
    "id": "d9UtFZ0dxSt_",
    "outputId": "2b8733a2-f29c-4d04-f62f-e8b2417612f0"
   },
   "outputs": [
    {
     "name": "stdout",
     "output_type": "stream",
     "text": [
      "\n",
      "Term queried:  Discrimination\n",
      "Original labels: \n",
      "\t Discrimination\n",
      "\t Social_justice\n",
      "Predicted: \n"
     ]
    },
    {
     "data": {
      "text/html": [
       "<div>\n",
       "<style scoped>\n",
       "    .dataframe tbody tr th:only-of-type {\n",
       "        vertical-align: middle;\n",
       "    }\n",
       "\n",
       "    .dataframe tbody tr th {\n",
       "        vertical-align: top;\n",
       "    }\n",
       "\n",
       "    .dataframe thead th {\n",
       "        text-align: right;\n",
       "    }\n",
       "</style>\n",
       "<table border=\"1\" class=\"dataframe\">\n",
       "  <thead>\n",
       "    <tr style=\"text-align: right;\">\n",
       "      <th></th>\n",
       "      <th>id</th>\n",
       "      <th>score</th>\n",
       "    </tr>\n",
       "  </thead>\n",
       "  <tbody>\n",
       "    <tr>\n",
       "      <th>0</th>\n",
       "      <td>Discrimination</td>\n",
       "      <td>0.972957</td>\n",
       "    </tr>\n",
       "    <tr>\n",
       "      <th>1</th>\n",
       "      <td>Sociological_terminology</td>\n",
       "      <td>0.971605</td>\n",
       "    </tr>\n",
       "    <tr>\n",
       "      <th>2</th>\n",
       "      <td>Identity_politics</td>\n",
       "      <td>0.970097</td>\n",
       "    </tr>\n",
       "    <tr>\n",
       "      <th>3</th>\n",
       "      <td>Social_concepts</td>\n",
       "      <td>0.967534</td>\n",
       "    </tr>\n",
       "    <tr>\n",
       "      <th>4</th>\n",
       "      <td>Sexism</td>\n",
       "      <td>0.967476</td>\n",
       "    </tr>\n",
       "    <tr>\n",
       "      <th>5</th>\n",
       "      <td>Affirmative_action</td>\n",
       "      <td>0.967288</td>\n",
       "    </tr>\n",
       "    <tr>\n",
       "      <th>6</th>\n",
       "      <td>Political_correctness</td>\n",
       "      <td>0.966926</td>\n",
       "    </tr>\n",
       "    <tr>\n",
       "      <th>7</th>\n",
       "      <td>Human_behavior</td>\n",
       "      <td>0.966475</td>\n",
       "    </tr>\n",
       "    <tr>\n",
       "      <th>8</th>\n",
       "      <td>Persecution</td>\n",
       "      <td>0.965421</td>\n",
       "    </tr>\n",
       "    <tr>\n",
       "      <th>9</th>\n",
       "      <td>Social_movements</td>\n",
       "      <td>0.964393</td>\n",
       "    </tr>\n",
       "  </tbody>\n",
       "</table>\n",
       "</div>"
      ],
      "text/plain": [
       "                         id     score\n",
       "0            Discrimination  0.972957\n",
       "1  Sociological_terminology  0.971605\n",
       "2         Identity_politics  0.970097\n",
       "3           Social_concepts  0.967534\n",
       "4                    Sexism  0.967476\n",
       "5        Affirmative_action  0.967288\n",
       "6     Political_correctness  0.966926\n",
       "7            Human_behavior  0.966475\n",
       "8               Persecution  0.965421\n",
       "9          Social_movements  0.964393"
      ]
     },
     "metadata": {
      "tags": []
     },
     "output_type": "display_data"
    },
    {
     "name": "stdout",
     "output_type": "stream",
     "text": [
      "\n",
      "Term queried:  Erfurt\n",
      "Original labels: \n",
      "\t Erfurt\n",
      "\t German_state_capitals\n",
      "\t Members_of_the_Hanseatic_League\n",
      "\t Oil_Campaign_of_World_War_II\n",
      "\t Province_of_Saxony\n",
      "\t University_towns_in_Germany\n",
      "Predicted: \n"
     ]
    },
    {
     "data": {
      "text/html": [
       "<div>\n",
       "<style scoped>\n",
       "    .dataframe tbody tr th:only-of-type {\n",
       "        vertical-align: middle;\n",
       "    }\n",
       "\n",
       "    .dataframe tbody tr th {\n",
       "        vertical-align: top;\n",
       "    }\n",
       "\n",
       "    .dataframe thead th {\n",
       "        text-align: right;\n",
       "    }\n",
       "</style>\n",
       "<table border=\"1\" class=\"dataframe\">\n",
       "  <thead>\n",
       "    <tr style=\"text-align: right;\">\n",
       "      <th></th>\n",
       "      <th>id</th>\n",
       "      <th>score</th>\n",
       "    </tr>\n",
       "  </thead>\n",
       "  <tbody>\n",
       "    <tr>\n",
       "      <th>0</th>\n",
       "      <td>University_towns_in_Germany</td>\n",
       "      <td>0.966058</td>\n",
       "    </tr>\n",
       "    <tr>\n",
       "      <th>1</th>\n",
       "      <td>Province_of_Saxony</td>\n",
       "      <td>0.959731</td>\n",
       "    </tr>\n",
       "    <tr>\n",
       "      <th>2</th>\n",
       "      <td>Populated_places_on_the_Rhine</td>\n",
       "      <td>0.958738</td>\n",
       "    </tr>\n",
       "    <tr>\n",
       "      <th>3</th>\n",
       "      <td>Imperial_free_cities</td>\n",
       "      <td>0.957159</td>\n",
       "    </tr>\n",
       "    <tr>\n",
       "      <th>4</th>\n",
       "      <td>Hildesheim_(district)</td>\n",
       "      <td>0.956928</td>\n",
       "    </tr>\n",
       "    <tr>\n",
       "      <th>5</th>\n",
       "      <td>History_of_the_Electoral_Palatinate</td>\n",
       "      <td>0.956800</td>\n",
       "    </tr>\n",
       "    <tr>\n",
       "      <th>6</th>\n",
       "      <td>Towns_in_Saxony-Anhalt</td>\n",
       "      <td>0.956501</td>\n",
       "    </tr>\n",
       "    <tr>\n",
       "      <th>7</th>\n",
       "      <td>Towns_in_Lower_Saxony</td>\n",
       "      <td>0.955259</td>\n",
       "    </tr>\n",
       "    <tr>\n",
       "      <th>8</th>\n",
       "      <td>Halle_(Saale)</td>\n",
       "      <td>0.954934</td>\n",
       "    </tr>\n",
       "    <tr>\n",
       "      <th>9</th>\n",
       "      <td>Cities_in_Saxony-Anhalt</td>\n",
       "      <td>0.954934</td>\n",
       "    </tr>\n",
       "  </tbody>\n",
       "</table>\n",
       "</div>"
      ],
      "text/plain": [
       "                                    id     score\n",
       "0          University_towns_in_Germany  0.966058\n",
       "1                   Province_of_Saxony  0.959731\n",
       "2        Populated_places_on_the_Rhine  0.958738\n",
       "3                 Imperial_free_cities  0.957159\n",
       "4                Hildesheim_(district)  0.956928\n",
       "5  History_of_the_Electoral_Palatinate  0.956800\n",
       "6               Towns_in_Saxony-Anhalt  0.956501\n",
       "7                Towns_in_Lower_Saxony  0.955259\n",
       "8                        Halle_(Saale)  0.954934\n",
       "9              Cities_in_Saxony-Anhalt  0.954934"
      ]
     },
     "metadata": {
      "tags": []
     },
     "output_type": "display_data"
    },
    {
     "name": "stdout",
     "output_type": "stream",
     "text": [
      "\n",
      "Term queried:  ETA\n",
      "Original labels: \n",
      "\t Anti-Francoism\n",
      "\t Basque_conflict\n",
      "\t Basque_history\n",
      "\t Basque_politics\n",
      "\t ETA\n",
      "\t European_Union_designated_terrorist_organizations\n",
      "\t Far-left_politics\n",
      "\t Francoist_Spain\n",
      "\t Government_of_Canada_designated_terrorist_organizations\n",
      "\t Irregular_military\n",
      "\t Military_wings_of_political_parties\n",
      "\t National_liberation_movements\n",
      "\t Nationalist_terrorism\n",
      "\t Organizations_designated_as_terrorist_by_the_United_States_government\n",
      "\t Organizations_designated_as_terrorist_in_Europe\n",
      "\t Organizations_established_in_1959\n",
      "\t Politics_of_Spain\n",
      "\t Resistance_movements\n",
      "\t Secession_in_Spain\n",
      "\t Secessionist_organizations_in_Europe\n",
      "\t Terrorism_in_Spain\n",
      "\t United_Kingdom_Home_Office_designated_terrorist_groups\n",
      "Predicted: \n"
     ]
    },
    {
     "data": {
      "text/html": [
       "<div>\n",
       "<style scoped>\n",
       "    .dataframe tbody tr th:only-of-type {\n",
       "        vertical-align: middle;\n",
       "    }\n",
       "\n",
       "    .dataframe tbody tr th {\n",
       "        vertical-align: top;\n",
       "    }\n",
       "\n",
       "    .dataframe thead th {\n",
       "        text-align: right;\n",
       "    }\n",
       "</style>\n",
       "<table border=\"1\" class=\"dataframe\">\n",
       "  <thead>\n",
       "    <tr style=\"text-align: right;\">\n",
       "      <th></th>\n",
       "      <th>id</th>\n",
       "      <th>score</th>\n",
       "    </tr>\n",
       "  </thead>\n",
       "  <tbody>\n",
       "    <tr>\n",
       "      <th>0</th>\n",
       "      <td>Organizations_designated_as_terrorist_in_Europe</td>\n",
       "      <td>0.948875</td>\n",
       "    </tr>\n",
       "    <tr>\n",
       "      <th>1</th>\n",
       "      <td>Terrorism_in_Spain</td>\n",
       "      <td>0.948431</td>\n",
       "    </tr>\n",
       "    <tr>\n",
       "      <th>2</th>\n",
       "      <td>Basque_politics</td>\n",
       "      <td>0.942670</td>\n",
       "    </tr>\n",
       "    <tr>\n",
       "      <th>3</th>\n",
       "      <td>Politics_of_Spain</td>\n",
       "      <td>0.941830</td>\n",
       "    </tr>\n",
       "    <tr>\n",
       "      <th>4</th>\n",
       "      <td>European_Union_designated_terrorist_organizations</td>\n",
       "      <td>0.940194</td>\n",
       "    </tr>\n",
       "    <tr>\n",
       "      <th>5</th>\n",
       "      <td>Irregular_military</td>\n",
       "      <td>0.938163</td>\n",
       "    </tr>\n",
       "    <tr>\n",
       "      <th>6</th>\n",
       "      <td>Political_parties_disestablished_in_1977</td>\n",
       "      <td>0.936437</td>\n",
       "    </tr>\n",
       "    <tr>\n",
       "      <th>7</th>\n",
       "      <td>Algerian_Civil_War</td>\n",
       "      <td>0.936311</td>\n",
       "    </tr>\n",
       "    <tr>\n",
       "      <th>8</th>\n",
       "      <td>Republicanism_in_Spain</td>\n",
       "      <td>0.935577</td>\n",
       "    </tr>\n",
       "    <tr>\n",
       "      <th>9</th>\n",
       "      <td>Guerrilla_organizations</td>\n",
       "      <td>0.935507</td>\n",
       "    </tr>\n",
       "  </tbody>\n",
       "</table>\n",
       "</div>"
      ],
      "text/plain": [
       "                                                  id     score\n",
       "0    Organizations_designated_as_terrorist_in_Europe  0.948875\n",
       "1                                 Terrorism_in_Spain  0.948431\n",
       "2                                    Basque_politics  0.942670\n",
       "3                                  Politics_of_Spain  0.941830\n",
       "4  European_Union_designated_terrorist_organizations  0.940194\n",
       "5                                 Irregular_military  0.938163\n",
       "6           Political_parties_disestablished_in_1977  0.936437\n",
       "7                                 Algerian_Civil_War  0.936311\n",
       "8                             Republicanism_in_Spain  0.935577\n",
       "9                            Guerrilla_organizations  0.935507"
      ]
     },
     "metadata": {
      "tags": []
     },
     "output_type": "display_data"
    }
   ],
   "source": [
    "# Show results\n",
    "for term, labs, res in zip(df_test.title.tolist(), df_test.target_ind.tolist(), query_results):\n",
    "    print()\n",
    "    print('Term queried: ',term)\n",
    "    print('Original labels: ')\n",
    "    for l in labs:\n",
    "        if l in all_categories:\n",
    "            print('\\t', categories[l])\n",
    "    print('Predicted: ')\n",
    "    df_result = pd.DataFrame({\n",
    "                'id':[id for id in res.ids],\n",
    "                'score':[id for id in res.scores],})\n",
    "    display(df_result)    "
   ]
  },
  {
   "cell_type": "markdown",
   "metadata": {
    "id": "qI68OoTiKoL0"
   },
   "source": [
    "## Summary\n",
    "We demonstrated a similarity search approach for performing extreme classification of texts. We took a simple approach representing labels as the average of their corresponding texts' vector embeddings. In classification time, we match between a new article embedding and its nearest label embeddings. Our result examples indicate the usefulness of this approach. \n",
    "\n",
    "You can take this forward by exploring advanced ideas. For example, you can utilize the hierarchical relationship between labels or improve the label representations.  Just have fun, and feel free to [share](https://www.pinecone.io/contact/) your thoughts. "
   ]
  },
  {
   "cell_type": "markdown",
   "metadata": {
    "id": "Mbt5Ec7tKoL0"
   },
   "source": [
    "## Turn off the service"
   ]
  },
  {
   "cell_type": "markdown",
   "metadata": {
    "id": "9y6iIor1KoL0"
   },
   "source": [
    "Turn off the service once you are sure that you do not want to use it anymore. Once the service is stopped, you cannot use it again."
   ]
  },
  {
   "cell_type": "code",
   "execution_count": 27,
   "metadata": {
    "colab": {
     "base_uri": "https://localhost:8080/",
     "height": 66,
     "referenced_widgets": [
      "64e8a7c0430f4324a989c187d4f865e2",
      "85f9bb67079146c4a34f4565d512557a",
      "59ca40728b6b492fba295356faf613c0",
      "de7f1b5106614fae99e5751e010c2d89",
      "5a5501a8690e405e8a945ab6a25a5304",
      "01263031ed8f4a489b8f081b97f85587",
      "c49a5401561b4ec0b2016e7bae09633e",
      "a9b82160efe94603bf71fec62463d2b2",
      "95e78b2eeae34e5589f88ede91f71e3b",
      "5857ef55178b47148366a7acc64a773d",
      "2892f42c27aa440d9a81242d5a0f4e96"
     ]
    },
    "id": "vAMnQjvsxSw0",
    "outputId": "5baa71a3-912c-4892-eb39-c471d7cd86b0"
   },
   "outputs": [
    {
     "data": {
      "application/vnd.jupyter.widget-view+json": {
       "model_id": "64e8a7c0430f4324a989c187d4f865e2",
       "version_major": 2,
       "version_minor": 0
      },
      "text/plain": [
       "  0%|          | 0/1 [00:00<?, ?it/s]"
      ]
     },
     "metadata": {
      "tags": []
     },
     "output_type": "display_data"
    },
    {
     "data": {
      "text/plain": [
       "{'success': True}"
      ]
     },
     "execution_count": 27,
     "metadata": {
      "tags": []
     },
     "output_type": "execute_result"
    }
   ],
   "source": [
    "pinecone.delete_index(index_name)"
   ]
  }
 ],
 "metadata": {
  "colab": {
   "collapsed_sections": [],
   "name": "extreme_ml.ipynb",
   "provenance": [],
   "toc_visible": true
  },
  "environment": {
   "name": "common-cpu.m65",
   "type": "gcloud",
   "uri": "gcr.io/deeplearning-platform-release/base-cpu:m65"
  },
  "kernelspec": {
   "display_name": "Python 3",
   "language": "python",
   "name": "python3"
  },
  "language_info": {
   "codemirror_mode": {
    "name": "ipython",
    "version": 3
   },
   "file_extension": ".py",
   "mimetype": "text/x-python",
   "name": "python",
   "nbconvert_exporter": "python",
   "pygments_lexer": "ipython3",
   "version": "3.7.9"
  },
  "widgets": {
   "application/vnd.jupyter.widget-state+json": {
    "0017e1b88a7c4d45a814b2fc52c8c98f": {
     "model_module": "@jupyter-widgets/controls",
     "model_name": "FloatProgressModel",
     "state": {
      "_dom_classes": [],
      "_model_module": "@jupyter-widgets/controls",
      "_model_module_version": "1.5.0",
      "_model_name": "FloatProgressModel",
      "_view_count": null,
      "_view_module": "@jupyter-widgets/controls",
      "_view_module_version": "1.5.0",
      "_view_name": "ProgressView",
      "bar_style": "success",
      "description": "",
      "description_tooltip": null,
      "layout": "IPY_MODEL_ce314e57378045af9707e089467d8039",
      "max": 1,
      "min": 0,
      "orientation": "horizontal",
      "style": "IPY_MODEL_1c3b72effb9440b98d8318efa7720a7e",
      "value": 1
     }
    },
    "01263031ed8f4a489b8f081b97f85587": {
     "model_module": "@jupyter-widgets/controls",
     "model_name": "DescriptionStyleModel",
     "state": {
      "_model_module": "@jupyter-widgets/controls",
      "_model_module_version": "1.5.0",
      "_model_name": "DescriptionStyleModel",
      "_view_count": null,
      "_view_module": "@jupyter-widgets/base",
      "_view_module_version": "1.2.0",
      "_view_name": "StyleView",
      "description_width": ""
     }
    },
    "02b1f286865d4de6b54cb7d4d7fb55b0": {
     "model_module": "@jupyter-widgets/controls",
     "model_name": "ProgressStyleModel",
     "state": {
      "_model_module": "@jupyter-widgets/controls",
      "_model_module_version": "1.5.0",
      "_model_name": "ProgressStyleModel",
      "_view_count": null,
      "_view_module": "@jupyter-widgets/base",
      "_view_module_version": "1.2.0",
      "_view_name": "StyleView",
      "bar_color": null,
      "description_width": ""
     }
    },
    "04b57ff305584fbda2c9bd1c53f58e33": {
     "model_module": "@jupyter-widgets/controls",
     "model_name": "FloatProgressModel",
     "state": {
      "_dom_classes": [],
      "_model_module": "@jupyter-widgets/controls",
      "_model_module_version": "1.5.0",
      "_model_name": "FloatProgressModel",
      "_view_count": null,
      "_view_module": "@jupyter-widgets/controls",
      "_view_module_version": "1.5.0",
      "_view_name": "ProgressView",
      "bar_style": "success",
      "description": "",
      "description_tooltip": null,
      "layout": "IPY_MODEL_afd93e02cdcc46c086ac87fe857a6701",
      "max": 1,
      "min": 0,
      "orientation": "horizontal",
      "style": "IPY_MODEL_02b1f286865d4de6b54cb7d4d7fb55b0",
      "value": 1
     }
    },
    "0ab278c96ee74894bf6ff28b87d1df5a": {
     "model_module": "@jupyter-widgets/controls",
     "model_name": "DescriptionStyleModel",
     "state": {
      "_model_module": "@jupyter-widgets/controls",
      "_model_module_version": "1.5.0",
      "_model_name": "DescriptionStyleModel",
      "_view_count": null,
      "_view_module": "@jupyter-widgets/base",
      "_view_module_version": "1.2.0",
      "_view_name": "StyleView",
      "description_width": ""
     }
    },
    "0d9c1e65a4af4a7787382764761c790e": {
     "model_module": "@jupyter-widgets/controls",
     "model_name": "DescriptionStyleModel",
     "state": {
      "_model_module": "@jupyter-widgets/controls",
      "_model_module_version": "1.5.0",
      "_model_name": "DescriptionStyleModel",
      "_view_count": null,
      "_view_module": "@jupyter-widgets/base",
      "_view_module_version": "1.2.0",
      "_view_name": "StyleView",
      "description_width": ""
     }
    },
    "0df31072c82b4324a28bc65b96f9a6df": {
     "model_module": "@jupyter-widgets/controls",
     "model_name": "HTMLModel",
     "state": {
      "_dom_classes": [],
      "_model_module": "@jupyter-widgets/controls",
      "_model_module_version": "1.5.0",
      "_model_name": "HTMLModel",
      "_view_count": null,
      "_view_module": "@jupyter-widgets/controls",
      "_view_module_version": "1.5.0",
      "_view_name": "HTMLView",
      "description": "",
      "description_tooltip": null,
      "layout": "IPY_MODEL_5d82b5058d4c40069a0aa28deeab287d",
      "placeholder": "​",
      "style": "IPY_MODEL_4a27693f7f77496c85d3d324d9f4e238",
      "value": " 3/? [00:00&lt;00:00,  5.79it/s]"
     }
    },
    "1227fbe3350d412597560931ae5c277c": {
     "model_module": "@jupyter-widgets/controls",
     "model_name": "FloatProgressModel",
     "state": {
      "_dom_classes": [],
      "_model_module": "@jupyter-widgets/controls",
      "_model_module_version": "1.5.0",
      "_model_name": "FloatProgressModel",
      "_view_count": null,
      "_view_module": "@jupyter-widgets/controls",
      "_view_module_version": "1.5.0",
      "_view_name": "ProgressView",
      "bar_style": "success",
      "description": "",
      "description_tooltip": null,
      "layout": "IPY_MODEL_2b875bb0312c4ee7bf5158c7593edb8f",
      "max": 1,
      "min": 0,
      "orientation": "horizontal",
      "style": "IPY_MODEL_2d9c743d19fe417185aaee8ca1e09368",
      "value": 1
     }
    },
    "1c3b72effb9440b98d8318efa7720a7e": {
     "model_module": "@jupyter-widgets/controls",
     "model_name": "ProgressStyleModel",
     "state": {
      "_model_module": "@jupyter-widgets/controls",
      "_model_module_version": "1.5.0",
      "_model_name": "ProgressStyleModel",
      "_view_count": null,
      "_view_module": "@jupyter-widgets/base",
      "_view_module_version": "1.2.0",
      "_view_name": "StyleView",
      "bar_color": null,
      "description_width": ""
     }
    },
    "208e9b2ca9e6403b94f24954f7c56edd": {
     "model_module": "@jupyter-widgets/controls",
     "model_name": "HTMLModel",
     "state": {
      "_dom_classes": [],
      "_model_module": "@jupyter-widgets/controls",
      "_model_module_version": "1.5.0",
      "_model_name": "HTMLModel",
      "_view_count": null,
      "_view_module": "@jupyter-widgets/controls",
      "_view_module_version": "1.5.0",
      "_view_name": "HTMLView",
      "description": "",
      "description_tooltip": null,
      "layout": "IPY_MODEL_8f61422cab644e51a441cbfaba5bbefd",
      "placeholder": "​",
      "style": "IPY_MODEL_630b1d75496847e89dc50c85942ccdb3",
      "value": "Batches: 100%"
     }
    },
    "2892f42c27aa440d9a81242d5a0f4e96": {
     "model_module": "@jupyter-widgets/base",
     "model_name": "LayoutModel",
     "state": {
      "_model_module": "@jupyter-widgets/base",
      "_model_module_version": "1.2.0",
      "_model_name": "LayoutModel",
      "_view_count": null,
      "_view_module": "@jupyter-widgets/base",
      "_view_module_version": "1.2.0",
      "_view_name": "LayoutView",
      "align_content": null,
      "align_items": null,
      "align_self": null,
      "border": null,
      "bottom": null,
      "display": null,
      "flex": null,
      "flex_flow": null,
      "grid_area": null,
      "grid_auto_columns": null,
      "grid_auto_flow": null,
      "grid_auto_rows": null,
      "grid_column": null,
      "grid_gap": null,
      "grid_row": null,
      "grid_template_areas": null,
      "grid_template_columns": null,
      "grid_template_rows": null,
      "height": null,
      "justify_content": null,
      "justify_items": null,
      "left": null,
      "margin": null,
      "max_height": null,
      "max_width": null,
      "min_height": null,
      "min_width": null,
      "object_fit": null,
      "object_position": null,
      "order": null,
      "overflow": null,
      "overflow_x": null,
      "overflow_y": null,
      "padding": null,
      "right": null,
      "top": null,
      "visibility": null,
      "width": null
     }
    },
    "2a5bc90e0a0d4601b2afd8074732b359": {
     "model_module": "@jupyter-widgets/controls",
     "model_name": "HTMLModel",
     "state": {
      "_dom_classes": [],
      "_model_module": "@jupyter-widgets/controls",
      "_model_module_version": "1.5.0",
      "_model_name": "HTMLModel",
      "_view_count": null,
      "_view_module": "@jupyter-widgets/controls",
      "_view_module_version": "1.5.0",
      "_view_name": "HTMLView",
      "description": "",
      "description_tooltip": null,
      "layout": "IPY_MODEL_9b111a70c78c43849cccd75c967b2a74",
      "placeholder": "​",
      "style": "IPY_MODEL_f45f12be0e8046449cac5be3e0e4f0ff",
      "value": " 3/3 [00:13&lt;00:00,  5.53s/it]"
     }
    },
    "2b875bb0312c4ee7bf5158c7593edb8f": {
     "model_module": "@jupyter-widgets/base",
     "model_name": "LayoutModel",
     "state": {
      "_model_module": "@jupyter-widgets/base",
      "_model_module_version": "1.2.0",
      "_model_name": "LayoutModel",
      "_view_count": null,
      "_view_module": "@jupyter-widgets/base",
      "_view_module_version": "1.2.0",
      "_view_name": "LayoutView",
      "align_content": null,
      "align_items": null,
      "align_self": null,
      "border": null,
      "bottom": null,
      "display": null,
      "flex": null,
      "flex_flow": null,
      "grid_area": null,
      "grid_auto_columns": null,
      "grid_auto_flow": null,
      "grid_auto_rows": null,
      "grid_column": null,
      "grid_gap": null,
      "grid_row": null,
      "grid_template_areas": null,
      "grid_template_columns": null,
      "grid_template_rows": null,
      "height": null,
      "justify_content": null,
      "justify_items": null,
      "left": null,
      "margin": null,
      "max_height": null,
      "max_width": null,
      "min_height": null,
      "min_width": null,
      "object_fit": null,
      "object_position": null,
      "order": null,
      "overflow": null,
      "overflow_x": null,
      "overflow_y": null,
      "padding": null,
      "right": null,
      "top": null,
      "visibility": null,
      "width": "20px"
     }
    },
    "2d9c743d19fe417185aaee8ca1e09368": {
     "model_module": "@jupyter-widgets/controls",
     "model_name": "ProgressStyleModel",
     "state": {
      "_model_module": "@jupyter-widgets/controls",
      "_model_module_version": "1.5.0",
      "_model_name": "ProgressStyleModel",
      "_view_count": null,
      "_view_module": "@jupyter-widgets/base",
      "_view_module_version": "1.2.0",
      "_view_name": "StyleView",
      "bar_color": null,
      "description_width": ""
     }
    },
    "2de24323e1d34b58a351920c146711a2": {
     "model_module": "@jupyter-widgets/controls",
     "model_name": "FloatProgressModel",
     "state": {
      "_dom_classes": [],
      "_model_module": "@jupyter-widgets/controls",
      "_model_module_version": "1.5.0",
      "_model_name": "FloatProgressModel",
      "_view_count": null,
      "_view_module": "@jupyter-widgets/controls",
      "_view_module_version": "1.5.0",
      "_view_name": "ProgressView",
      "bar_style": "success",
      "description": "",
      "description_tooltip": null,
      "layout": "IPY_MODEL_762eb348e9c045b2bb16c55ae5e46c6f",
      "max": 248168287,
      "min": 0,
      "orientation": "horizontal",
      "style": "IPY_MODEL_f58ae58aa860488b9a4c8d4273c0b1ef",
      "value": 248168287
     }
    },
    "32ca1932c0144fa795a07ea99b9b864d": {
     "model_module": "@jupyter-widgets/controls",
     "model_name": "HTMLModel",
     "state": {
      "_dom_classes": [],
      "_model_module": "@jupyter-widgets/controls",
      "_model_module_version": "1.5.0",
      "_model_name": "HTMLModel",
      "_view_count": null,
      "_view_module": "@jupyter-widgets/controls",
      "_view_module_version": "1.5.0",
      "_view_name": "HTMLView",
      "description": "",
      "description_tooltip": null,
      "layout": "IPY_MODEL_333395d65e7f47e7ad87aa9f01e06ad3",
      "placeholder": "​",
      "style": "IPY_MODEL_0ab278c96ee74894bf6ff28b87d1df5a",
      "value": " 248M/248M [00:12&lt;00:00, 27.1MB/s]"
     }
    },
    "333395d65e7f47e7ad87aa9f01e06ad3": {
     "model_module": "@jupyter-widgets/base",
     "model_name": "LayoutModel",
     "state": {
      "_model_module": "@jupyter-widgets/base",
      "_model_module_version": "1.2.0",
      "_model_name": "LayoutModel",
      "_view_count": null,
      "_view_module": "@jupyter-widgets/base",
      "_view_module_version": "1.2.0",
      "_view_name": "LayoutView",
      "align_content": null,
      "align_items": null,
      "align_self": null,
      "border": null,
      "bottom": null,
      "display": null,
      "flex": null,
      "flex_flow": null,
      "grid_area": null,
      "grid_auto_columns": null,
      "grid_auto_flow": null,
      "grid_auto_rows": null,
      "grid_column": null,
      "grid_gap": null,
      "grid_row": null,
      "grid_template_areas": null,
      "grid_template_columns": null,
      "grid_template_rows": null,
      "height": null,
      "justify_content": null,
      "justify_items": null,
      "left": null,
      "margin": null,
      "max_height": null,
      "max_width": null,
      "min_height": null,
      "min_width": null,
      "object_fit": null,
      "object_position": null,
      "order": null,
      "overflow": null,
      "overflow_x": null,
      "overflow_y": null,
      "padding": null,
      "right": null,
      "top": null,
      "visibility": null,
      "width": null
     }
    },
    "35a949d3e9704312a3e1cadab1c8110b": {
     "model_module": "@jupyter-widgets/controls",
     "model_name": "HTMLModel",
     "state": {
      "_dom_classes": [],
      "_model_module": "@jupyter-widgets/controls",
      "_model_module_version": "1.5.0",
      "_model_name": "HTMLModel",
      "_view_count": null,
      "_view_module": "@jupyter-widgets/controls",
      "_view_module_version": "1.5.0",
      "_view_name": "HTMLView",
      "description": "",
      "description_tooltip": null,
      "layout": "IPY_MODEL_e384844614134d4682819f5b8181d1e6",
      "placeholder": "​",
      "style": "IPY_MODEL_9b6f9f6ce84843738a61b1a881f89d05",
      "value": "Batches: 100%"
     }
    },
    "38eba2b71d2542a99a371e01f0aff9a2": {
     "model_module": "@jupyter-widgets/base",
     "model_name": "LayoutModel",
     "state": {
      "_model_module": "@jupyter-widgets/base",
      "_model_module_version": "1.2.0",
      "_model_name": "LayoutModel",
      "_view_count": null,
      "_view_module": "@jupyter-widgets/base",
      "_view_module_version": "1.2.0",
      "_view_name": "LayoutView",
      "align_content": null,
      "align_items": null,
      "align_self": null,
      "border": null,
      "bottom": null,
      "display": null,
      "flex": null,
      "flex_flow": null,
      "grid_area": null,
      "grid_auto_columns": null,
      "grid_auto_flow": null,
      "grid_auto_rows": null,
      "grid_column": null,
      "grid_gap": null,
      "grid_row": null,
      "grid_template_areas": null,
      "grid_template_columns": null,
      "grid_template_rows": null,
      "height": null,
      "justify_content": null,
      "justify_items": null,
      "left": null,
      "margin": null,
      "max_height": null,
      "max_width": null,
      "min_height": null,
      "min_width": null,
      "object_fit": null,
      "object_position": null,
      "order": null,
      "overflow": null,
      "overflow_x": null,
      "overflow_y": null,
      "padding": null,
      "right": null,
      "top": null,
      "visibility": null,
      "width": null
     }
    },
    "398d86b032ea4d0884ad55372d40f59c": {
     "model_module": "@jupyter-widgets/base",
     "model_name": "LayoutModel",
     "state": {
      "_model_module": "@jupyter-widgets/base",
      "_model_module_version": "1.2.0",
      "_model_name": "LayoutModel",
      "_view_count": null,
      "_view_module": "@jupyter-widgets/base",
      "_view_module_version": "1.2.0",
      "_view_name": "LayoutView",
      "align_content": null,
      "align_items": null,
      "align_self": null,
      "border": null,
      "bottom": null,
      "display": null,
      "flex": null,
      "flex_flow": null,
      "grid_area": null,
      "grid_auto_columns": null,
      "grid_auto_flow": null,
      "grid_auto_rows": null,
      "grid_column": null,
      "grid_gap": null,
      "grid_row": null,
      "grid_template_areas": null,
      "grid_template_columns": null,
      "grid_template_rows": null,
      "height": null,
      "justify_content": null,
      "justify_items": null,
      "left": null,
      "margin": null,
      "max_height": null,
      "max_width": null,
      "min_height": null,
      "min_width": null,
      "object_fit": null,
      "object_position": null,
      "order": null,
      "overflow": null,
      "overflow_x": null,
      "overflow_y": null,
      "padding": null,
      "right": null,
      "top": null,
      "visibility": null,
      "width": null
     }
    },
    "3f12caf4dc8645c7a0a0893b08d90a10": {
     "model_module": "@jupyter-widgets/base",
     "model_name": "LayoutModel",
     "state": {
      "_model_module": "@jupyter-widgets/base",
      "_model_module_version": "1.2.0",
      "_model_name": "LayoutModel",
      "_view_count": null,
      "_view_module": "@jupyter-widgets/base",
      "_view_module_version": "1.2.0",
      "_view_name": "LayoutView",
      "align_content": null,
      "align_items": null,
      "align_self": null,
      "border": null,
      "bottom": null,
      "display": null,
      "flex": null,
      "flex_flow": null,
      "grid_area": null,
      "grid_auto_columns": null,
      "grid_auto_flow": null,
      "grid_auto_rows": null,
      "grid_column": null,
      "grid_gap": null,
      "grid_row": null,
      "grid_template_areas": null,
      "grid_template_columns": null,
      "grid_template_rows": null,
      "height": null,
      "justify_content": null,
      "justify_items": null,
      "left": null,
      "margin": null,
      "max_height": null,
      "max_width": null,
      "min_height": null,
      "min_width": null,
      "object_fit": null,
      "object_position": null,
      "order": null,
      "overflow": null,
      "overflow_x": null,
      "overflow_y": null,
      "padding": null,
      "right": null,
      "top": null,
      "visibility": null,
      "width": null
     }
    },
    "423ff4ef07f94fdb8b4b9ae86150d213": {
     "model_module": "@jupyter-widgets/controls",
     "model_name": "HTMLModel",
     "state": {
      "_dom_classes": [],
      "_model_module": "@jupyter-widgets/controls",
      "_model_module_version": "1.5.0",
      "_model_name": "HTMLModel",
      "_view_count": null,
      "_view_module": "@jupyter-widgets/controls",
      "_view_module_version": "1.5.0",
      "_view_name": "HTMLView",
      "description": "",
      "description_tooltip": null,
      "layout": "IPY_MODEL_3f12caf4dc8645c7a0a0893b08d90a10",
      "placeholder": "​",
      "style": "IPY_MODEL_7328aef66cd54720b7498229976fb4bb",
      "value": ""
     }
    },
    "4335183ca1dd45d9b056661656602308": {
     "model_module": "@jupyter-widgets/controls",
     "model_name": "HTMLModel",
     "state": {
      "_dom_classes": [],
      "_model_module": "@jupyter-widgets/controls",
      "_model_module_version": "1.5.0",
      "_model_name": "HTMLModel",
      "_view_count": null,
      "_view_module": "@jupyter-widgets/controls",
      "_view_module_version": "1.5.0",
      "_view_name": "HTMLView",
      "description": "",
      "description_tooltip": null,
      "layout": "IPY_MODEL_a50fc71221fa41abb8dd8b4f75f83229",
      "placeholder": "​",
      "style": "IPY_MODEL_59c7e3d9c57f412c9b7a8e990bf62652",
      "value": " 1/1 [00:00&lt;00:00, 15.40it/s]"
     }
    },
    "45730c2257bf4212a622d10d5704730d": {
     "model_module": "@jupyter-widgets/base",
     "model_name": "LayoutModel",
     "state": {
      "_model_module": "@jupyter-widgets/base",
      "_model_module_version": "1.2.0",
      "_model_name": "LayoutModel",
      "_view_count": null,
      "_view_module": "@jupyter-widgets/base",
      "_view_module_version": "1.2.0",
      "_view_name": "LayoutView",
      "align_content": null,
      "align_items": null,
      "align_self": null,
      "border": null,
      "bottom": null,
      "display": null,
      "flex": null,
      "flex_flow": null,
      "grid_area": null,
      "grid_auto_columns": null,
      "grid_auto_flow": null,
      "grid_auto_rows": null,
      "grid_column": null,
      "grid_gap": null,
      "grid_row": null,
      "grid_template_areas": null,
      "grid_template_columns": null,
      "grid_template_rows": null,
      "height": null,
      "justify_content": null,
      "justify_items": null,
      "left": null,
      "margin": null,
      "max_height": null,
      "max_width": null,
      "min_height": null,
      "min_width": null,
      "object_fit": null,
      "object_position": null,
      "order": null,
      "overflow": null,
      "overflow_x": null,
      "overflow_y": null,
      "padding": null,
      "right": null,
      "top": null,
      "visibility": null,
      "width": null
     }
    },
    "4a27693f7f77496c85d3d324d9f4e238": {
     "model_module": "@jupyter-widgets/controls",
     "model_name": "DescriptionStyleModel",
     "state": {
      "_model_module": "@jupyter-widgets/controls",
      "_model_module_version": "1.5.0",
      "_model_name": "DescriptionStyleModel",
      "_view_count": null,
      "_view_module": "@jupyter-widgets/base",
      "_view_module_version": "1.2.0",
      "_view_name": "StyleView",
      "description_width": ""
     }
    },
    "4c9395917c804f2c85d7c9aa9c81f507": {
     "model_module": "@jupyter-widgets/controls",
     "model_name": "FloatProgressModel",
     "state": {
      "_dom_classes": [],
      "_model_module": "@jupyter-widgets/controls",
      "_model_module_version": "1.5.0",
      "_model_name": "FloatProgressModel",
      "_view_count": null,
      "_view_module": "@jupyter-widgets/controls",
      "_view_module_version": "1.5.0",
      "_view_name": "ProgressView",
      "bar_style": "success",
      "description": "",
      "description_tooltip": null,
      "layout": "IPY_MODEL_ada58f3a8ef249be9230127acf1bbca0",
      "max": 3,
      "min": 0,
      "orientation": "horizontal",
      "style": "IPY_MODEL_e926240dec954ba18dc646d70bb5651b",
      "value": 3
     }
    },
    "4de0c26581c74bb8984358c594a12c87": {
     "model_module": "@jupyter-widgets/controls",
     "model_name": "FloatProgressModel",
     "state": {
      "_dom_classes": [],
      "_model_module": "@jupyter-widgets/controls",
      "_model_module_version": "1.5.0",
      "_model_name": "FloatProgressModel",
      "_view_count": null,
      "_view_module": "@jupyter-widgets/controls",
      "_view_module_version": "1.5.0",
      "_view_name": "ProgressView",
      "bar_style": "success",
      "description": "",
      "description_tooltip": null,
      "layout": "IPY_MODEL_398d86b032ea4d0884ad55372d40f59c",
      "max": 6250,
      "min": 0,
      "orientation": "horizontal",
      "style": "IPY_MODEL_a3a0472fc40145648a29f8318f16f105",
      "value": 6250
     }
    },
    "564e1bd0d1414338a714c353de89740b": {
     "model_module": "@jupyter-widgets/controls",
     "model_name": "HTMLModel",
     "state": {
      "_dom_classes": [],
      "_model_module": "@jupyter-widgets/controls",
      "_model_module_version": "1.5.0",
      "_model_name": "HTMLModel",
      "_view_count": null,
      "_view_module": "@jupyter-widgets/controls",
      "_view_module_version": "1.5.0",
      "_view_name": "HTMLView",
      "description": "",
      "description_tooltip": null,
      "layout": "IPY_MODEL_d79f60152e91427d9af6a14d5be62d6c",
      "placeholder": "​",
      "style": "IPY_MODEL_d055f4742a274f26a1481fb3da96c327",
      "value": ""
     }
    },
    "5857ef55178b47148366a7acc64a773d": {
     "model_module": "@jupyter-widgets/controls",
     "model_name": "DescriptionStyleModel",
     "state": {
      "_model_module": "@jupyter-widgets/controls",
      "_model_module_version": "1.5.0",
      "_model_name": "DescriptionStyleModel",
      "_view_count": null,
      "_view_module": "@jupyter-widgets/base",
      "_view_module_version": "1.2.0",
      "_view_name": "StyleView",
      "description_width": ""
     }
    },
    "598fd3fd0b274a919a26102fb1d14fb3": {
     "model_module": "@jupyter-widgets/controls",
     "model_name": "HBoxModel",
     "state": {
      "_dom_classes": [],
      "_model_module": "@jupyter-widgets/controls",
      "_model_module_version": "1.5.0",
      "_model_name": "HBoxModel",
      "_view_count": null,
      "_view_module": "@jupyter-widgets/controls",
      "_view_module_version": "1.5.0",
      "_view_name": "HBoxView",
      "box_style": "",
      "children": [
       "IPY_MODEL_64a8f9b18507404988fdf69c7bac3c5d",
       "IPY_MODEL_4c9395917c804f2c85d7c9aa9c81f507",
       "IPY_MODEL_2a5bc90e0a0d4601b2afd8074732b359"
      ],
      "layout": "IPY_MODEL_db178c9a98a541b5b748e1c6214ce9a4"
     }
    },
    "59c7e3d9c57f412c9b7a8e990bf62652": {
     "model_module": "@jupyter-widgets/controls",
     "model_name": "DescriptionStyleModel",
     "state": {
      "_model_module": "@jupyter-widgets/controls",
      "_model_module_version": "1.5.0",
      "_model_name": "DescriptionStyleModel",
      "_view_count": null,
      "_view_module": "@jupyter-widgets/base",
      "_view_module_version": "1.2.0",
      "_view_name": "StyleView",
      "description_width": ""
     }
    },
    "59ca40728b6b492fba295356faf613c0": {
     "model_module": "@jupyter-widgets/controls",
     "model_name": "HTMLModel",
     "state": {
      "_dom_classes": [],
      "_model_module": "@jupyter-widgets/controls",
      "_model_module_version": "1.5.0",
      "_model_name": "HTMLModel",
      "_view_count": null,
      "_view_module": "@jupyter-widgets/controls",
      "_view_module_version": "1.5.0",
      "_view_name": "HTMLView",
      "description": "",
      "description_tooltip": null,
      "layout": "IPY_MODEL_c49a5401561b4ec0b2016e7bae09633e",
      "placeholder": "​",
      "style": "IPY_MODEL_01263031ed8f4a489b8f081b97f85587",
      "value": "100%"
     }
    },
    "5a5501a8690e405e8a945ab6a25a5304": {
     "model_module": "@jupyter-widgets/controls",
     "model_name": "HTMLModel",
     "state": {
      "_dom_classes": [],
      "_model_module": "@jupyter-widgets/controls",
      "_model_module_version": "1.5.0",
      "_model_name": "HTMLModel",
      "_view_count": null,
      "_view_module": "@jupyter-widgets/controls",
      "_view_module_version": "1.5.0",
      "_view_name": "HTMLView",
      "description": "",
      "description_tooltip": null,
      "layout": "IPY_MODEL_2892f42c27aa440d9a81242d5a0f4e96",
      "placeholder": "​",
      "style": "IPY_MODEL_5857ef55178b47148366a7acc64a773d",
      "value": " 1/1 [00:11&lt;00:00,  2.29s/it]"
     }
    },
    "5bcb540460684aa7bf1764d599bb15b7": {
     "model_module": "@jupyter-widgets/controls",
     "model_name": "HTMLModel",
     "state": {
      "_dom_classes": [],
      "_model_module": "@jupyter-widgets/controls",
      "_model_module_version": "1.5.0",
      "_model_name": "HTMLModel",
      "_view_count": null,
      "_view_module": "@jupyter-widgets/controls",
      "_view_module_version": "1.5.0",
      "_view_name": "HTMLView",
      "description": "",
      "description_tooltip": null,
      "layout": "IPY_MODEL_bbad7c16eb264e00b5933f284dde4866",
      "placeholder": "​",
      "style": "IPY_MODEL_0d9c1e65a4af4a7787382764761c790e",
      "value": " 256899/? [00:37&lt;00:00, 6904.59it/s]"
     }
    },
    "5bd401896bcf4b4d9eaf81236d261fe8": {
     "model_module": "@jupyter-widgets/base",
     "model_name": "LayoutModel",
     "state": {
      "_model_module": "@jupyter-widgets/base",
      "_model_module_version": "1.2.0",
      "_model_name": "LayoutModel",
      "_view_count": null,
      "_view_module": "@jupyter-widgets/base",
      "_view_module_version": "1.2.0",
      "_view_name": "LayoutView",
      "align_content": null,
      "align_items": null,
      "align_self": null,
      "border": null,
      "bottom": null,
      "display": null,
      "flex": null,
      "flex_flow": null,
      "grid_area": null,
      "grid_auto_columns": null,
      "grid_auto_flow": null,
      "grid_auto_rows": null,
      "grid_column": null,
      "grid_gap": null,
      "grid_row": null,
      "grid_template_areas": null,
      "grid_template_columns": null,
      "grid_template_rows": null,
      "height": null,
      "justify_content": null,
      "justify_items": null,
      "left": null,
      "margin": null,
      "max_height": null,
      "max_width": null,
      "min_height": null,
      "min_width": null,
      "object_fit": null,
      "object_position": null,
      "order": null,
      "overflow": null,
      "overflow_x": null,
      "overflow_y": null,
      "padding": null,
      "right": null,
      "top": null,
      "visibility": null,
      "width": null
     }
    },
    "5d82b5058d4c40069a0aa28deeab287d": {
     "model_module": "@jupyter-widgets/base",
     "model_name": "LayoutModel",
     "state": {
      "_model_module": "@jupyter-widgets/base",
      "_model_module_version": "1.2.0",
      "_model_name": "LayoutModel",
      "_view_count": null,
      "_view_module": "@jupyter-widgets/base",
      "_view_module_version": "1.2.0",
      "_view_name": "LayoutView",
      "align_content": null,
      "align_items": null,
      "align_self": null,
      "border": null,
      "bottom": null,
      "display": null,
      "flex": null,
      "flex_flow": null,
      "grid_area": null,
      "grid_auto_columns": null,
      "grid_auto_flow": null,
      "grid_auto_rows": null,
      "grid_column": null,
      "grid_gap": null,
      "grid_row": null,
      "grid_template_areas": null,
      "grid_template_columns": null,
      "grid_template_rows": null,
      "height": null,
      "justify_content": null,
      "justify_items": null,
      "left": null,
      "margin": null,
      "max_height": null,
      "max_width": null,
      "min_height": null,
      "min_width": null,
      "object_fit": null,
      "object_position": null,
      "order": null,
      "overflow": null,
      "overflow_x": null,
      "overflow_y": null,
      "padding": null,
      "right": null,
      "top": null,
      "visibility": null,
      "width": null
     }
    },
    "630b1d75496847e89dc50c85942ccdb3": {
     "model_module": "@jupyter-widgets/controls",
     "model_name": "DescriptionStyleModel",
     "state": {
      "_model_module": "@jupyter-widgets/controls",
      "_model_module_version": "1.5.0",
      "_model_name": "DescriptionStyleModel",
      "_view_count": null,
      "_view_module": "@jupyter-widgets/base",
      "_view_module_version": "1.2.0",
      "_view_name": "StyleView",
      "description_width": ""
     }
    },
    "64a8f9b18507404988fdf69c7bac3c5d": {
     "model_module": "@jupyter-widgets/controls",
     "model_name": "HTMLModel",
     "state": {
      "_dom_classes": [],
      "_model_module": "@jupyter-widgets/controls",
      "_model_module_version": "1.5.0",
      "_model_name": "HTMLModel",
      "_view_count": null,
      "_view_module": "@jupyter-widgets/controls",
      "_view_module_version": "1.5.0",
      "_view_name": "HTMLView",
      "description": "",
      "description_tooltip": null,
      "layout": "IPY_MODEL_7ac5df171d984ae6a4a3b8eaf6889429",
      "placeholder": "​",
      "style": "IPY_MODEL_7efa95235d1549e7b57429cba7fe496c",
      "value": "100%"
     }
    },
    "64e8a7c0430f4324a989c187d4f865e2": {
     "model_module": "@jupyter-widgets/controls",
     "model_name": "HBoxModel",
     "state": {
      "_dom_classes": [],
      "_model_module": "@jupyter-widgets/controls",
      "_model_module_version": "1.5.0",
      "_model_name": "HBoxModel",
      "_view_count": null,
      "_view_module": "@jupyter-widgets/controls",
      "_view_module_version": "1.5.0",
      "_view_name": "HBoxView",
      "box_style": "",
      "children": [
       "IPY_MODEL_59ca40728b6b492fba295356faf613c0",
       "IPY_MODEL_de7f1b5106614fae99e5751e010c2d89",
       "IPY_MODEL_5a5501a8690e405e8a945ab6a25a5304"
      ],
      "layout": "IPY_MODEL_85f9bb67079146c4a34f4565d512557a"
     }
    },
    "6b502ffb6b714340bb9390d79254dbb6": {
     "model_module": "@jupyter-widgets/controls",
     "model_name": "HBoxModel",
     "state": {
      "_dom_classes": [],
      "_model_module": "@jupyter-widgets/controls",
      "_model_module_version": "1.5.0",
      "_model_name": "HBoxModel",
      "_view_count": null,
      "_view_module": "@jupyter-widgets/controls",
      "_view_module_version": "1.5.0",
      "_view_name": "HBoxView",
      "box_style": "",
      "children": [
       "IPY_MODEL_35a949d3e9704312a3e1cadab1c8110b",
       "IPY_MODEL_0017e1b88a7c4d45a814b2fc52c8c98f",
       "IPY_MODEL_4335183ca1dd45d9b056661656602308"
      ],
      "layout": "IPY_MODEL_38eba2b71d2542a99a371e01f0aff9a2"
     }
    },
    "6eafa3d4b38442e1b5aaac57c7d9140d": {
     "model_module": "@jupyter-widgets/base",
     "model_name": "LayoutModel",
     "state": {
      "_model_module": "@jupyter-widgets/base",
      "_model_module_version": "1.2.0",
      "_model_name": "LayoutModel",
      "_view_count": null,
      "_view_module": "@jupyter-widgets/base",
      "_view_module_version": "1.2.0",
      "_view_name": "LayoutView",
      "align_content": null,
      "align_items": null,
      "align_self": null,
      "border": null,
      "bottom": null,
      "display": null,
      "flex": null,
      "flex_flow": null,
      "grid_area": null,
      "grid_auto_columns": null,
      "grid_auto_flow": null,
      "grid_auto_rows": null,
      "grid_column": null,
      "grid_gap": null,
      "grid_row": null,
      "grid_template_areas": null,
      "grid_template_columns": null,
      "grid_template_rows": null,
      "height": null,
      "justify_content": null,
      "justify_items": null,
      "left": null,
      "margin": null,
      "max_height": null,
      "max_width": null,
      "min_height": null,
      "min_width": null,
      "object_fit": null,
      "object_position": null,
      "order": null,
      "overflow": null,
      "overflow_x": null,
      "overflow_y": null,
      "padding": null,
      "right": null,
      "top": null,
      "visibility": null,
      "width": null
     }
    },
    "7328aef66cd54720b7498229976fb4bb": {
     "model_module": "@jupyter-widgets/controls",
     "model_name": "DescriptionStyleModel",
     "state": {
      "_model_module": "@jupyter-widgets/controls",
      "_model_module_version": "1.5.0",
      "_model_name": "DescriptionStyleModel",
      "_view_count": null,
      "_view_module": "@jupyter-widgets/base",
      "_view_module_version": "1.2.0",
      "_view_name": "StyleView",
      "description_width": ""
     }
    },
    "75565c19a55b45f8ae1a474c78ee3f95": {
     "model_module": "@jupyter-widgets/controls",
     "model_name": "HTMLModel",
     "state": {
      "_dom_classes": [],
      "_model_module": "@jupyter-widgets/controls",
      "_model_module_version": "1.5.0",
      "_model_name": "HTMLModel",
      "_view_count": null,
      "_view_module": "@jupyter-widgets/controls",
      "_view_module_version": "1.5.0",
      "_view_name": "HTMLView",
      "description": "",
      "description_tooltip": null,
      "layout": "IPY_MODEL_ba7e6d34cac94a05be6d262911c61810",
      "placeholder": "​",
      "style": "IPY_MODEL_fc1402fb65454e4bb8f68aadaa36a9f7",
      "value": " 6250/6250 [01:48&lt;00:00, 317.98it/s]"
     }
    },
    "762eb348e9c045b2bb16c55ae5e46c6f": {
     "model_module": "@jupyter-widgets/base",
     "model_name": "LayoutModel",
     "state": {
      "_model_module": "@jupyter-widgets/base",
      "_model_module_version": "1.2.0",
      "_model_name": "LayoutModel",
      "_view_count": null,
      "_view_module": "@jupyter-widgets/base",
      "_view_module_version": "1.2.0",
      "_view_name": "LayoutView",
      "align_content": null,
      "align_items": null,
      "align_self": null,
      "border": null,
      "bottom": null,
      "display": null,
      "flex": null,
      "flex_flow": null,
      "grid_area": null,
      "grid_auto_columns": null,
      "grid_auto_flow": null,
      "grid_auto_rows": null,
      "grid_column": null,
      "grid_gap": null,
      "grid_row": null,
      "grid_template_areas": null,
      "grid_template_columns": null,
      "grid_template_rows": null,
      "height": null,
      "justify_content": null,
      "justify_items": null,
      "left": null,
      "margin": null,
      "max_height": null,
      "max_width": null,
      "min_height": null,
      "min_width": null,
      "object_fit": null,
      "object_position": null,
      "order": null,
      "overflow": null,
      "overflow_x": null,
      "overflow_y": null,
      "padding": null,
      "right": null,
      "top": null,
      "visibility": null,
      "width": null
     }
    },
    "79ec0baead5744d080e3e3b543970064": {
     "model_module": "@jupyter-widgets/controls",
     "model_name": "HBoxModel",
     "state": {
      "_dom_classes": [],
      "_model_module": "@jupyter-widgets/controls",
      "_model_module_version": "1.5.0",
      "_model_name": "HBoxModel",
      "_view_count": null,
      "_view_module": "@jupyter-widgets/controls",
      "_view_module_version": "1.5.0",
      "_view_name": "HBoxView",
      "box_style": "",
      "children": [
       "IPY_MODEL_423ff4ef07f94fdb8b4b9ae86150d213",
       "IPY_MODEL_04b57ff305584fbda2c9bd1c53f58e33",
       "IPY_MODEL_5bcb540460684aa7bf1764d599bb15b7"
      ],
      "layout": "IPY_MODEL_c790b9fba12d4d3b84a8b6fc2e8e417a"
     }
    },
    "7ac5df171d984ae6a4a3b8eaf6889429": {
     "model_module": "@jupyter-widgets/base",
     "model_name": "LayoutModel",
     "state": {
      "_model_module": "@jupyter-widgets/base",
      "_model_module_version": "1.2.0",
      "_model_name": "LayoutModel",
      "_view_count": null,
      "_view_module": "@jupyter-widgets/base",
      "_view_module_version": "1.2.0",
      "_view_name": "LayoutView",
      "align_content": null,
      "align_items": null,
      "align_self": null,
      "border": null,
      "bottom": null,
      "display": null,
      "flex": null,
      "flex_flow": null,
      "grid_area": null,
      "grid_auto_columns": null,
      "grid_auto_flow": null,
      "grid_auto_rows": null,
      "grid_column": null,
      "grid_gap": null,
      "grid_row": null,
      "grid_template_areas": null,
      "grid_template_columns": null,
      "grid_template_rows": null,
      "height": null,
      "justify_content": null,
      "justify_items": null,
      "left": null,
      "margin": null,
      "max_height": null,
      "max_width": null,
      "min_height": null,
      "min_width": null,
      "object_fit": null,
      "object_position": null,
      "order": null,
      "overflow": null,
      "overflow_x": null,
      "overflow_y": null,
      "padding": null,
      "right": null,
      "top": null,
      "visibility": null,
      "width": null
     }
    },
    "7efa95235d1549e7b57429cba7fe496c": {
     "model_module": "@jupyter-widgets/controls",
     "model_name": "DescriptionStyleModel",
     "state": {
      "_model_module": "@jupyter-widgets/controls",
      "_model_module_version": "1.5.0",
      "_model_name": "DescriptionStyleModel",
      "_view_count": null,
      "_view_module": "@jupyter-widgets/base",
      "_view_module_version": "1.2.0",
      "_view_name": "StyleView",
      "description_width": ""
     }
    },
    "85f9bb67079146c4a34f4565d512557a": {
     "model_module": "@jupyter-widgets/base",
     "model_name": "LayoutModel",
     "state": {
      "_model_module": "@jupyter-widgets/base",
      "_model_module_version": "1.2.0",
      "_model_name": "LayoutModel",
      "_view_count": null,
      "_view_module": "@jupyter-widgets/base",
      "_view_module_version": "1.2.0",
      "_view_name": "LayoutView",
      "align_content": null,
      "align_items": null,
      "align_self": null,
      "border": null,
      "bottom": null,
      "display": null,
      "flex": null,
      "flex_flow": null,
      "grid_area": null,
      "grid_auto_columns": null,
      "grid_auto_flow": null,
      "grid_auto_rows": null,
      "grid_column": null,
      "grid_gap": null,
      "grid_row": null,
      "grid_template_areas": null,
      "grid_template_columns": null,
      "grid_template_rows": null,
      "height": null,
      "justify_content": null,
      "justify_items": null,
      "left": null,
      "margin": null,
      "max_height": null,
      "max_width": null,
      "min_height": null,
      "min_width": null,
      "object_fit": null,
      "object_position": null,
      "order": null,
      "overflow": null,
      "overflow_x": null,
      "overflow_y": null,
      "padding": null,
      "right": null,
      "top": null,
      "visibility": null,
      "width": null
     }
    },
    "8f61422cab644e51a441cbfaba5bbefd": {
     "model_module": "@jupyter-widgets/base",
     "model_name": "LayoutModel",
     "state": {
      "_model_module": "@jupyter-widgets/base",
      "_model_module_version": "1.2.0",
      "_model_name": "LayoutModel",
      "_view_count": null,
      "_view_module": "@jupyter-widgets/base",
      "_view_module_version": "1.2.0",
      "_view_name": "LayoutView",
      "align_content": null,
      "align_items": null,
      "align_self": null,
      "border": null,
      "bottom": null,
      "display": null,
      "flex": null,
      "flex_flow": null,
      "grid_area": null,
      "grid_auto_columns": null,
      "grid_auto_flow": null,
      "grid_auto_rows": null,
      "grid_column": null,
      "grid_gap": null,
      "grid_row": null,
      "grid_template_areas": null,
      "grid_template_columns": null,
      "grid_template_rows": null,
      "height": null,
      "justify_content": null,
      "justify_items": null,
      "left": null,
      "margin": null,
      "max_height": null,
      "max_width": null,
      "min_height": null,
      "min_width": null,
      "object_fit": null,
      "object_position": null,
      "order": null,
      "overflow": null,
      "overflow_x": null,
      "overflow_y": null,
      "padding": null,
      "right": null,
      "top": null,
      "visibility": null,
      "width": null
     }
    },
    "95e78b2eeae34e5589f88ede91f71e3b": {
     "model_module": "@jupyter-widgets/base",
     "model_name": "LayoutModel",
     "state": {
      "_model_module": "@jupyter-widgets/base",
      "_model_module_version": "1.2.0",
      "_model_name": "LayoutModel",
      "_view_count": null,
      "_view_module": "@jupyter-widgets/base",
      "_view_module_version": "1.2.0",
      "_view_name": "LayoutView",
      "align_content": null,
      "align_items": null,
      "align_self": null,
      "border": null,
      "bottom": null,
      "display": null,
      "flex": null,
      "flex_flow": null,
      "grid_area": null,
      "grid_auto_columns": null,
      "grid_auto_flow": null,
      "grid_auto_rows": null,
      "grid_column": null,
      "grid_gap": null,
      "grid_row": null,
      "grid_template_areas": null,
      "grid_template_columns": null,
      "grid_template_rows": null,
      "height": null,
      "justify_content": null,
      "justify_items": null,
      "left": null,
      "margin": null,
      "max_height": null,
      "max_width": null,
      "min_height": null,
      "min_width": null,
      "object_fit": null,
      "object_position": null,
      "order": null,
      "overflow": null,
      "overflow_x": null,
      "overflow_y": null,
      "padding": null,
      "right": null,
      "top": null,
      "visibility": null,
      "width": null
     }
    },
    "9b111a70c78c43849cccd75c967b2a74": {
     "model_module": "@jupyter-widgets/base",
     "model_name": "LayoutModel",
     "state": {
      "_model_module": "@jupyter-widgets/base",
      "_model_module_version": "1.2.0",
      "_model_name": "LayoutModel",
      "_view_count": null,
      "_view_module": "@jupyter-widgets/base",
      "_view_module_version": "1.2.0",
      "_view_name": "LayoutView",
      "align_content": null,
      "align_items": null,
      "align_self": null,
      "border": null,
      "bottom": null,
      "display": null,
      "flex": null,
      "flex_flow": null,
      "grid_area": null,
      "grid_auto_columns": null,
      "grid_auto_flow": null,
      "grid_auto_rows": null,
      "grid_column": null,
      "grid_gap": null,
      "grid_row": null,
      "grid_template_areas": null,
      "grid_template_columns": null,
      "grid_template_rows": null,
      "height": null,
      "justify_content": null,
      "justify_items": null,
      "left": null,
      "margin": null,
      "max_height": null,
      "max_width": null,
      "min_height": null,
      "min_width": null,
      "object_fit": null,
      "object_position": null,
      "order": null,
      "overflow": null,
      "overflow_x": null,
      "overflow_y": null,
      "padding": null,
      "right": null,
      "top": null,
      "visibility": null,
      "width": null
     }
    },
    "9b6f9f6ce84843738a61b1a881f89d05": {
     "model_module": "@jupyter-widgets/controls",
     "model_name": "DescriptionStyleModel",
     "state": {
      "_model_module": "@jupyter-widgets/controls",
      "_model_module_version": "1.5.0",
      "_model_name": "DescriptionStyleModel",
      "_view_count": null,
      "_view_module": "@jupyter-widgets/base",
      "_view_module_version": "1.2.0",
      "_view_name": "StyleView",
      "description_width": ""
     }
    },
    "9d50bcf368f643fb81a7085552c772dd": {
     "model_module": "@jupyter-widgets/controls",
     "model_name": "DescriptionStyleModel",
     "state": {
      "_model_module": "@jupyter-widgets/controls",
      "_model_module_version": "1.5.0",
      "_model_name": "DescriptionStyleModel",
      "_view_count": null,
      "_view_module": "@jupyter-widgets/base",
      "_view_module_version": "1.2.0",
      "_view_name": "StyleView",
      "description_width": ""
     }
    },
    "9e14d42bfdd74da183de3d205be04d88": {
     "model_module": "@jupyter-widgets/controls",
     "model_name": "HBoxModel",
     "state": {
      "_dom_classes": [],
      "_model_module": "@jupyter-widgets/controls",
      "_model_module_version": "1.5.0",
      "_model_name": "HBoxModel",
      "_view_count": null,
      "_view_module": "@jupyter-widgets/controls",
      "_view_module_version": "1.5.0",
      "_view_name": "HBoxView",
      "box_style": "",
      "children": [
       "IPY_MODEL_ad34f30cff9d4a8f9f1754171e3682c8",
       "IPY_MODEL_2de24323e1d34b58a351920c146711a2",
       "IPY_MODEL_32ca1932c0144fa795a07ea99b9b864d"
      ],
      "layout": "IPY_MODEL_45730c2257bf4212a622d10d5704730d"
     }
    },
    "9f93fb0d8b2843e88ac71ffa1fefb26b": {
     "model_module": "@jupyter-widgets/controls",
     "model_name": "HBoxModel",
     "state": {
      "_dom_classes": [],
      "_model_module": "@jupyter-widgets/controls",
      "_model_module_version": "1.5.0",
      "_model_name": "HBoxModel",
      "_view_count": null,
      "_view_module": "@jupyter-widgets/controls",
      "_view_module_version": "1.5.0",
      "_view_name": "HBoxView",
      "box_style": "",
      "children": [
       "IPY_MODEL_564e1bd0d1414338a714c353de89740b",
       "IPY_MODEL_1227fbe3350d412597560931ae5c277c",
       "IPY_MODEL_0df31072c82b4324a28bc65b96f9a6df"
      ],
      "layout": "IPY_MODEL_b737dfb52a664728b44b48f61145cdbc"
     }
    },
    "a3a0472fc40145648a29f8318f16f105": {
     "model_module": "@jupyter-widgets/controls",
     "model_name": "ProgressStyleModel",
     "state": {
      "_model_module": "@jupyter-widgets/controls",
      "_model_module_version": "1.5.0",
      "_model_name": "ProgressStyleModel",
      "_view_count": null,
      "_view_module": "@jupyter-widgets/base",
      "_view_module_version": "1.2.0",
      "_view_name": "StyleView",
      "bar_color": null,
      "description_width": ""
     }
    },
    "a50fc71221fa41abb8dd8b4f75f83229": {
     "model_module": "@jupyter-widgets/base",
     "model_name": "LayoutModel",
     "state": {
      "_model_module": "@jupyter-widgets/base",
      "_model_module_version": "1.2.0",
      "_model_name": "LayoutModel",
      "_view_count": null,
      "_view_module": "@jupyter-widgets/base",
      "_view_module_version": "1.2.0",
      "_view_name": "LayoutView",
      "align_content": null,
      "align_items": null,
      "align_self": null,
      "border": null,
      "bottom": null,
      "display": null,
      "flex": null,
      "flex_flow": null,
      "grid_area": null,
      "grid_auto_columns": null,
      "grid_auto_flow": null,
      "grid_auto_rows": null,
      "grid_column": null,
      "grid_gap": null,
      "grid_row": null,
      "grid_template_areas": null,
      "grid_template_columns": null,
      "grid_template_rows": null,
      "height": null,
      "justify_content": null,
      "justify_items": null,
      "left": null,
      "margin": null,
      "max_height": null,
      "max_width": null,
      "min_height": null,
      "min_width": null,
      "object_fit": null,
      "object_position": null,
      "order": null,
      "overflow": null,
      "overflow_x": null,
      "overflow_y": null,
      "padding": null,
      "right": null,
      "top": null,
      "visibility": null,
      "width": null
     }
    },
    "a9b82160efe94603bf71fec62463d2b2": {
     "model_module": "@jupyter-widgets/controls",
     "model_name": "ProgressStyleModel",
     "state": {
      "_model_module": "@jupyter-widgets/controls",
      "_model_module_version": "1.5.0",
      "_model_name": "ProgressStyleModel",
      "_view_count": null,
      "_view_module": "@jupyter-widgets/base",
      "_view_module_version": "1.2.0",
      "_view_name": "StyleView",
      "bar_color": null,
      "description_width": ""
     }
    },
    "ad34f30cff9d4a8f9f1754171e3682c8": {
     "model_module": "@jupyter-widgets/controls",
     "model_name": "HTMLModel",
     "state": {
      "_dom_classes": [],
      "_model_module": "@jupyter-widgets/controls",
      "_model_module_version": "1.5.0",
      "_model_name": "HTMLModel",
      "_view_count": null,
      "_view_module": "@jupyter-widgets/controls",
      "_view_module_version": "1.5.0",
      "_view_name": "HTMLView",
      "description": "",
      "description_tooltip": null,
      "layout": "IPY_MODEL_6eafa3d4b38442e1b5aaac57c7d9140d",
      "placeholder": "​",
      "style": "IPY_MODEL_9d50bcf368f643fb81a7085552c772dd",
      "value": "100%"
     }
    },
    "ada58f3a8ef249be9230127acf1bbca0": {
     "model_module": "@jupyter-widgets/base",
     "model_name": "LayoutModel",
     "state": {
      "_model_module": "@jupyter-widgets/base",
      "_model_module_version": "1.2.0",
      "_model_name": "LayoutModel",
      "_view_count": null,
      "_view_module": "@jupyter-widgets/base",
      "_view_module_version": "1.2.0",
      "_view_name": "LayoutView",
      "align_content": null,
      "align_items": null,
      "align_self": null,
      "border": null,
      "bottom": null,
      "display": null,
      "flex": null,
      "flex_flow": null,
      "grid_area": null,
      "grid_auto_columns": null,
      "grid_auto_flow": null,
      "grid_auto_rows": null,
      "grid_column": null,
      "grid_gap": null,
      "grid_row": null,
      "grid_template_areas": null,
      "grid_template_columns": null,
      "grid_template_rows": null,
      "height": null,
      "justify_content": null,
      "justify_items": null,
      "left": null,
      "margin": null,
      "max_height": null,
      "max_width": null,
      "min_height": null,
      "min_width": null,
      "object_fit": null,
      "object_position": null,
      "order": null,
      "overflow": null,
      "overflow_x": null,
      "overflow_y": null,
      "padding": null,
      "right": null,
      "top": null,
      "visibility": null,
      "width": null
     }
    },
    "afd93e02cdcc46c086ac87fe857a6701": {
     "model_module": "@jupyter-widgets/base",
     "model_name": "LayoutModel",
     "state": {
      "_model_module": "@jupyter-widgets/base",
      "_model_module_version": "1.2.0",
      "_model_name": "LayoutModel",
      "_view_count": null,
      "_view_module": "@jupyter-widgets/base",
      "_view_module_version": "1.2.0",
      "_view_name": "LayoutView",
      "align_content": null,
      "align_items": null,
      "align_self": null,
      "border": null,
      "bottom": null,
      "display": null,
      "flex": null,
      "flex_flow": null,
      "grid_area": null,
      "grid_auto_columns": null,
      "grid_auto_flow": null,
      "grid_auto_rows": null,
      "grid_column": null,
      "grid_gap": null,
      "grid_row": null,
      "grid_template_areas": null,
      "grid_template_columns": null,
      "grid_template_rows": null,
      "height": null,
      "justify_content": null,
      "justify_items": null,
      "left": null,
      "margin": null,
      "max_height": null,
      "max_width": null,
      "min_height": null,
      "min_width": null,
      "object_fit": null,
      "object_position": null,
      "order": null,
      "overflow": null,
      "overflow_x": null,
      "overflow_y": null,
      "padding": null,
      "right": null,
      "top": null,
      "visibility": null,
      "width": "20px"
     }
    },
    "b737dfb52a664728b44b48f61145cdbc": {
     "model_module": "@jupyter-widgets/base",
     "model_name": "LayoutModel",
     "state": {
      "_model_module": "@jupyter-widgets/base",
      "_model_module_version": "1.2.0",
      "_model_name": "LayoutModel",
      "_view_count": null,
      "_view_module": "@jupyter-widgets/base",
      "_view_module_version": "1.2.0",
      "_view_name": "LayoutView",
      "align_content": null,
      "align_items": null,
      "align_self": null,
      "border": null,
      "bottom": null,
      "display": null,
      "flex": null,
      "flex_flow": null,
      "grid_area": null,
      "grid_auto_columns": null,
      "grid_auto_flow": null,
      "grid_auto_rows": null,
      "grid_column": null,
      "grid_gap": null,
      "grid_row": null,
      "grid_template_areas": null,
      "grid_template_columns": null,
      "grid_template_rows": null,
      "height": null,
      "justify_content": null,
      "justify_items": null,
      "left": null,
      "margin": null,
      "max_height": null,
      "max_width": null,
      "min_height": null,
      "min_width": null,
      "object_fit": null,
      "object_position": null,
      "order": null,
      "overflow": null,
      "overflow_x": null,
      "overflow_y": null,
      "padding": null,
      "right": null,
      "top": null,
      "visibility": null,
      "width": null
     }
    },
    "ba7e6d34cac94a05be6d262911c61810": {
     "model_module": "@jupyter-widgets/base",
     "model_name": "LayoutModel",
     "state": {
      "_model_module": "@jupyter-widgets/base",
      "_model_module_version": "1.2.0",
      "_model_name": "LayoutModel",
      "_view_count": null,
      "_view_module": "@jupyter-widgets/base",
      "_view_module_version": "1.2.0",
      "_view_name": "LayoutView",
      "align_content": null,
      "align_items": null,
      "align_self": null,
      "border": null,
      "bottom": null,
      "display": null,
      "flex": null,
      "flex_flow": null,
      "grid_area": null,
      "grid_auto_columns": null,
      "grid_auto_flow": null,
      "grid_auto_rows": null,
      "grid_column": null,
      "grid_gap": null,
      "grid_row": null,
      "grid_template_areas": null,
      "grid_template_columns": null,
      "grid_template_rows": null,
      "height": null,
      "justify_content": null,
      "justify_items": null,
      "left": null,
      "margin": null,
      "max_height": null,
      "max_width": null,
      "min_height": null,
      "min_width": null,
      "object_fit": null,
      "object_position": null,
      "order": null,
      "overflow": null,
      "overflow_x": null,
      "overflow_y": null,
      "padding": null,
      "right": null,
      "top": null,
      "visibility": null,
      "width": null
     }
    },
    "bbad7c16eb264e00b5933f284dde4866": {
     "model_module": "@jupyter-widgets/base",
     "model_name": "LayoutModel",
     "state": {
      "_model_module": "@jupyter-widgets/base",
      "_model_module_version": "1.2.0",
      "_model_name": "LayoutModel",
      "_view_count": null,
      "_view_module": "@jupyter-widgets/base",
      "_view_module_version": "1.2.0",
      "_view_name": "LayoutView",
      "align_content": null,
      "align_items": null,
      "align_self": null,
      "border": null,
      "bottom": null,
      "display": null,
      "flex": null,
      "flex_flow": null,
      "grid_area": null,
      "grid_auto_columns": null,
      "grid_auto_flow": null,
      "grid_auto_rows": null,
      "grid_column": null,
      "grid_gap": null,
      "grid_row": null,
      "grid_template_areas": null,
      "grid_template_columns": null,
      "grid_template_rows": null,
      "height": null,
      "justify_content": null,
      "justify_items": null,
      "left": null,
      "margin": null,
      "max_height": null,
      "max_width": null,
      "min_height": null,
      "min_width": null,
      "object_fit": null,
      "object_position": null,
      "order": null,
      "overflow": null,
      "overflow_x": null,
      "overflow_y": null,
      "padding": null,
      "right": null,
      "top": null,
      "visibility": null,
      "width": null
     }
    },
    "c49a5401561b4ec0b2016e7bae09633e": {
     "model_module": "@jupyter-widgets/base",
     "model_name": "LayoutModel",
     "state": {
      "_model_module": "@jupyter-widgets/base",
      "_model_module_version": "1.2.0",
      "_model_name": "LayoutModel",
      "_view_count": null,
      "_view_module": "@jupyter-widgets/base",
      "_view_module_version": "1.2.0",
      "_view_name": "LayoutView",
      "align_content": null,
      "align_items": null,
      "align_self": null,
      "border": null,
      "bottom": null,
      "display": null,
      "flex": null,
      "flex_flow": null,
      "grid_area": null,
      "grid_auto_columns": null,
      "grid_auto_flow": null,
      "grid_auto_rows": null,
      "grid_column": null,
      "grid_gap": null,
      "grid_row": null,
      "grid_template_areas": null,
      "grid_template_columns": null,
      "grid_template_rows": null,
      "height": null,
      "justify_content": null,
      "justify_items": null,
      "left": null,
      "margin": null,
      "max_height": null,
      "max_width": null,
      "min_height": null,
      "min_width": null,
      "object_fit": null,
      "object_position": null,
      "order": null,
      "overflow": null,
      "overflow_x": null,
      "overflow_y": null,
      "padding": null,
      "right": null,
      "top": null,
      "visibility": null,
      "width": null
     }
    },
    "c790b9fba12d4d3b84a8b6fc2e8e417a": {
     "model_module": "@jupyter-widgets/base",
     "model_name": "LayoutModel",
     "state": {
      "_model_module": "@jupyter-widgets/base",
      "_model_module_version": "1.2.0",
      "_model_name": "LayoutModel",
      "_view_count": null,
      "_view_module": "@jupyter-widgets/base",
      "_view_module_version": "1.2.0",
      "_view_name": "LayoutView",
      "align_content": null,
      "align_items": null,
      "align_self": null,
      "border": null,
      "bottom": null,
      "display": null,
      "flex": null,
      "flex_flow": null,
      "grid_area": null,
      "grid_auto_columns": null,
      "grid_auto_flow": null,
      "grid_auto_rows": null,
      "grid_column": null,
      "grid_gap": null,
      "grid_row": null,
      "grid_template_areas": null,
      "grid_template_columns": null,
      "grid_template_rows": null,
      "height": null,
      "justify_content": null,
      "justify_items": null,
      "left": null,
      "margin": null,
      "max_height": null,
      "max_width": null,
      "min_height": null,
      "min_width": null,
      "object_fit": null,
      "object_position": null,
      "order": null,
      "overflow": null,
      "overflow_x": null,
      "overflow_y": null,
      "padding": null,
      "right": null,
      "top": null,
      "visibility": null,
      "width": null
     }
    },
    "ce314e57378045af9707e089467d8039": {
     "model_module": "@jupyter-widgets/base",
     "model_name": "LayoutModel",
     "state": {
      "_model_module": "@jupyter-widgets/base",
      "_model_module_version": "1.2.0",
      "_model_name": "LayoutModel",
      "_view_count": null,
      "_view_module": "@jupyter-widgets/base",
      "_view_module_version": "1.2.0",
      "_view_name": "LayoutView",
      "align_content": null,
      "align_items": null,
      "align_self": null,
      "border": null,
      "bottom": null,
      "display": null,
      "flex": null,
      "flex_flow": null,
      "grid_area": null,
      "grid_auto_columns": null,
      "grid_auto_flow": null,
      "grid_auto_rows": null,
      "grid_column": null,
      "grid_gap": null,
      "grid_row": null,
      "grid_template_areas": null,
      "grid_template_columns": null,
      "grid_template_rows": null,
      "height": null,
      "justify_content": null,
      "justify_items": null,
      "left": null,
      "margin": null,
      "max_height": null,
      "max_width": null,
      "min_height": null,
      "min_width": null,
      "object_fit": null,
      "object_position": null,
      "order": null,
      "overflow": null,
      "overflow_x": null,
      "overflow_y": null,
      "padding": null,
      "right": null,
      "top": null,
      "visibility": null,
      "width": null
     }
    },
    "d055f4742a274f26a1481fb3da96c327": {
     "model_module": "@jupyter-widgets/controls",
     "model_name": "DescriptionStyleModel",
     "state": {
      "_model_module": "@jupyter-widgets/controls",
      "_model_module_version": "1.5.0",
      "_model_name": "DescriptionStyleModel",
      "_view_count": null,
      "_view_module": "@jupyter-widgets/base",
      "_view_module_version": "1.2.0",
      "_view_name": "StyleView",
      "description_width": ""
     }
    },
    "d79f60152e91427d9af6a14d5be62d6c": {
     "model_module": "@jupyter-widgets/base",
     "model_name": "LayoutModel",
     "state": {
      "_model_module": "@jupyter-widgets/base",
      "_model_module_version": "1.2.0",
      "_model_name": "LayoutModel",
      "_view_count": null,
      "_view_module": "@jupyter-widgets/base",
      "_view_module_version": "1.2.0",
      "_view_name": "LayoutView",
      "align_content": null,
      "align_items": null,
      "align_self": null,
      "border": null,
      "bottom": null,
      "display": null,
      "flex": null,
      "flex_flow": null,
      "grid_area": null,
      "grid_auto_columns": null,
      "grid_auto_flow": null,
      "grid_auto_rows": null,
      "grid_column": null,
      "grid_gap": null,
      "grid_row": null,
      "grid_template_areas": null,
      "grid_template_columns": null,
      "grid_template_rows": null,
      "height": null,
      "justify_content": null,
      "justify_items": null,
      "left": null,
      "margin": null,
      "max_height": null,
      "max_width": null,
      "min_height": null,
      "min_width": null,
      "object_fit": null,
      "object_position": null,
      "order": null,
      "overflow": null,
      "overflow_x": null,
      "overflow_y": null,
      "padding": null,
      "right": null,
      "top": null,
      "visibility": null,
      "width": null
     }
    },
    "db178c9a98a541b5b748e1c6214ce9a4": {
     "model_module": "@jupyter-widgets/base",
     "model_name": "LayoutModel",
     "state": {
      "_model_module": "@jupyter-widgets/base",
      "_model_module_version": "1.2.0",
      "_model_name": "LayoutModel",
      "_view_count": null,
      "_view_module": "@jupyter-widgets/base",
      "_view_module_version": "1.2.0",
      "_view_name": "LayoutView",
      "align_content": null,
      "align_items": null,
      "align_self": null,
      "border": null,
      "bottom": null,
      "display": null,
      "flex": null,
      "flex_flow": null,
      "grid_area": null,
      "grid_auto_columns": null,
      "grid_auto_flow": null,
      "grid_auto_rows": null,
      "grid_column": null,
      "grid_gap": null,
      "grid_row": null,
      "grid_template_areas": null,
      "grid_template_columns": null,
      "grid_template_rows": null,
      "height": null,
      "justify_content": null,
      "justify_items": null,
      "left": null,
      "margin": null,
      "max_height": null,
      "max_width": null,
      "min_height": null,
      "min_width": null,
      "object_fit": null,
      "object_position": null,
      "order": null,
      "overflow": null,
      "overflow_x": null,
      "overflow_y": null,
      "padding": null,
      "right": null,
      "top": null,
      "visibility": null,
      "width": null
     }
    },
    "de7f1b5106614fae99e5751e010c2d89": {
     "model_module": "@jupyter-widgets/controls",
     "model_name": "FloatProgressModel",
     "state": {
      "_dom_classes": [],
      "_model_module": "@jupyter-widgets/controls",
      "_model_module_version": "1.5.0",
      "_model_name": "FloatProgressModel",
      "_view_count": null,
      "_view_module": "@jupyter-widgets/controls",
      "_view_module_version": "1.5.0",
      "_view_name": "ProgressView",
      "bar_style": "success",
      "description": "",
      "description_tooltip": null,
      "layout": "IPY_MODEL_95e78b2eeae34e5589f88ede91f71e3b",
      "max": 1,
      "min": 0,
      "orientation": "horizontal",
      "style": "IPY_MODEL_a9b82160efe94603bf71fec62463d2b2",
      "value": 1
     }
    },
    "e384844614134d4682819f5b8181d1e6": {
     "model_module": "@jupyter-widgets/base",
     "model_name": "LayoutModel",
     "state": {
      "_model_module": "@jupyter-widgets/base",
      "_model_module_version": "1.2.0",
      "_model_name": "LayoutModel",
      "_view_count": null,
      "_view_module": "@jupyter-widgets/base",
      "_view_module_version": "1.2.0",
      "_view_name": "LayoutView",
      "align_content": null,
      "align_items": null,
      "align_self": null,
      "border": null,
      "bottom": null,
      "display": null,
      "flex": null,
      "flex_flow": null,
      "grid_area": null,
      "grid_auto_columns": null,
      "grid_auto_flow": null,
      "grid_auto_rows": null,
      "grid_column": null,
      "grid_gap": null,
      "grid_row": null,
      "grid_template_areas": null,
      "grid_template_columns": null,
      "grid_template_rows": null,
      "height": null,
      "justify_content": null,
      "justify_items": null,
      "left": null,
      "margin": null,
      "max_height": null,
      "max_width": null,
      "min_height": null,
      "min_width": null,
      "object_fit": null,
      "object_position": null,
      "order": null,
      "overflow": null,
      "overflow_x": null,
      "overflow_y": null,
      "padding": null,
      "right": null,
      "top": null,
      "visibility": null,
      "width": null
     }
    },
    "e71d8bbf4e194589bb103c961b2addd3": {
     "model_module": "@jupyter-widgets/controls",
     "model_name": "HBoxModel",
     "state": {
      "_dom_classes": [],
      "_model_module": "@jupyter-widgets/controls",
      "_model_module_version": "1.5.0",
      "_model_name": "HBoxModel",
      "_view_count": null,
      "_view_module": "@jupyter-widgets/controls",
      "_view_module_version": "1.5.0",
      "_view_name": "HBoxView",
      "box_style": "",
      "children": [
       "IPY_MODEL_208e9b2ca9e6403b94f24954f7c56edd",
       "IPY_MODEL_4de0c26581c74bb8984358c594a12c87",
       "IPY_MODEL_75565c19a55b45f8ae1a474c78ee3f95"
      ],
      "layout": "IPY_MODEL_5bd401896bcf4b4d9eaf81236d261fe8"
     }
    },
    "e926240dec954ba18dc646d70bb5651b": {
     "model_module": "@jupyter-widgets/controls",
     "model_name": "ProgressStyleModel",
     "state": {
      "_model_module": "@jupyter-widgets/controls",
      "_model_module_version": "1.5.0",
      "_model_name": "ProgressStyleModel",
      "_view_count": null,
      "_view_module": "@jupyter-widgets/base",
      "_view_module_version": "1.2.0",
      "_view_name": "StyleView",
      "bar_color": null,
      "description_width": ""
     }
    },
    "f45f12be0e8046449cac5be3e0e4f0ff": {
     "model_module": "@jupyter-widgets/controls",
     "model_name": "DescriptionStyleModel",
     "state": {
      "_model_module": "@jupyter-widgets/controls",
      "_model_module_version": "1.5.0",
      "_model_name": "DescriptionStyleModel",
      "_view_count": null,
      "_view_module": "@jupyter-widgets/base",
      "_view_module_version": "1.2.0",
      "_view_name": "StyleView",
      "description_width": ""
     }
    },
    "f58ae58aa860488b9a4c8d4273c0b1ef": {
     "model_module": "@jupyter-widgets/controls",
     "model_name": "ProgressStyleModel",
     "state": {
      "_model_module": "@jupyter-widgets/controls",
      "_model_module_version": "1.5.0",
      "_model_name": "ProgressStyleModel",
      "_view_count": null,
      "_view_module": "@jupyter-widgets/base",
      "_view_module_version": "1.2.0",
      "_view_name": "StyleView",
      "bar_color": null,
      "description_width": ""
     }
    },
    "fc1402fb65454e4bb8f68aadaa36a9f7": {
     "model_module": "@jupyter-widgets/controls",
     "model_name": "DescriptionStyleModel",
     "state": {
      "_model_module": "@jupyter-widgets/controls",
      "_model_module_version": "1.5.0",
      "_model_name": "DescriptionStyleModel",
      "_view_count": null,
      "_view_module": "@jupyter-widgets/base",
      "_view_module_version": "1.2.0",
      "_view_name": "StyleView",
      "description_width": ""
     }
    }
   }
  }
 },
 "nbformat": 4,
 "nbformat_minor": 1
}
