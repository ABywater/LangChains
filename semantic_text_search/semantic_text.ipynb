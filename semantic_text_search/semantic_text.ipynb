{
 "cells": [
  {
   "cell_type": "markdown",
   "metadata": {
    "id": "QBkp2uyiJPPL"
   },
   "source": [
    "# Semantic Textual Search with Vector Index"
   ]
  },
  {
   "cell_type": "markdown",
   "metadata": {
    "id": "m9lCMupvJNhs"
   },
   "source": [
    "This notebook demonstrates how to create a simple semantic text search using Pinecone’s similarity search service.\n",
    "\n",
    "The goal is to create a search application that retrieves news articles based on short description queries (e.g., article titles). To achieve that, we will store vector representations of the articles in Pinecone's index. These vectors and their proximity capture semantic relations. Nearby vectors indicate similar content, and contents from faraway vectors are dissimilar.\n",
    "\n",
    "Semantic textual search is a technique used for solving other text-based applications. For example, our deduplication, question-answering and personalized article recommendation [demos](https://www.pinecone.io/docs/examples/) were solved using semantic textual search."
   ]
  },
  {
   "cell_type": "markdown",
   "metadata": {
    "id": "V0zk26pXDbrH"
   },
   "source": [
    "## Pinecone Setup"
   ]
  },
  {
   "cell_type": "code",
   "execution_count": 1,
   "metadata": {
    "id": "UOjd2xMJRB-P"
   },
   "outputs": [],
   "source": [
    "!pip install -qU pinecone-client ipywidgets"
   ]
  },
  {
   "cell_type": "code",
   "execution_count": 1,
   "metadata": {
    "id": "d8meZcx9RB-T"
   },
   "outputs": [],
   "source": [
    "import pinecone"
   ]
  },
  {
   "cell_type": "code",
   "execution_count": 2,
   "metadata": {
    "id": "z6y1BNXHRB-T"
   },
   "outputs": [
    {
     "data": {
      "text/plain": [
       "[]"
      ]
     },
     "execution_count": 2,
     "metadata": {},
     "output_type": "execute_result"
    }
   ],
   "source": [
    "# Load Pinecone API key\n",
    "import os\n",
    "api_key = os.getenv(\"PINECONE_API_KEY\") or \"YOUR-API-KEY\"\n",
    "pinecone.init(api_key=api_key, environment='us-west1-gcp')\n",
    "# List all indexes currently present for your key\n",
    "pinecone.list_indexes()"
   ]
  },
  {
   "cell_type": "markdown",
   "metadata": {
    "id": "kSnyzrI7RB-U"
   },
   "source": [
    "[Get a Pinecone API key](https://www.pinecone.io/start/) if you don’t have one already."
   ]
  },
  {
   "cell_type": "markdown",
   "metadata": {
    "id": "0Of_-qU8RB-P"
   },
   "source": [
    "## Install and Import Python Packages"
   ]
  },
  {
   "cell_type": "code",
   "execution_count": 4,
   "metadata": {
    "id": "UOjd2xMJRB-P"
   },
   "outputs": [],
   "source": [
    "!pip install -qU wordcloud pandas-profiling\n",
    "!pip install -qU sentence-transformers --no-cache-dir"
   ]
  },
  {
   "cell_type": "code",
   "execution_count": 3,
   "metadata": {
    "id": "PodOM8HCDbrG"
   },
   "outputs": [],
   "source": [
    "import pandas as pd\n",
    "import numpy as np\n",
    "import time\n",
    "import re\n",
    "from wordcloud import WordCloud, STOPWORDS, ImageColorGenerator\n",
    "import matplotlib.pyplot as plt\n",
    "import sqlite3\n",
    "\n",
    "pd.set_option('display.max_colwidth', 200)"
   ]
  },
  {
   "cell_type": "markdown",
   "metadata": {
    "id": "8GGaS7jcJvKT"
   },
   "source": [
    "## Create a New Service"
   ]
  },
  {
   "cell_type": "code",
   "execution_count": 4,
   "metadata": {
    "id": "3mnselUAJv2Z"
   },
   "outputs": [],
   "source": [
    "# Pick a name for the new index\n",
    "index_name = 'semantic-text-search'"
   ]
  },
  {
   "cell_type": "code",
   "execution_count": 5,
   "metadata": {
    "colab": {
     "base_uri": "https://localhost:8080/",
     "height": 49,
     "referenced_widgets": [
      "a66a58b9e20d4fa886e68cc1f6991ba0",
      "aa197b1b16df4b8b8b0cf9ba62803617",
      "b442223dd6e2484a93bbee8b7e4dd08e",
      "d7ad2f16ab3d46968f14edabcd2c0148",
      "891c0ca5765b4db1b5429cb2fef04045",
      "7b9bdcbd76d044359d95b9810db75147",
      "4f219f6d39064c7fa78f049f4a7cb5f6",
      "8d27b71a17414b7a95e0d7208de97c22",
      "3497d9042125481396edb178f6b5b860",
      "d932885b9d3e457f9cfb59294235e56f",
      "b9ebd41421aa460ab82e98039f882613"
     ]
    },
    "id": "SJw-3Yt8JM1f",
    "outputId": "17d0ba66-c905-478a-e32c-0f1c47a0f31f"
   },
   "outputs": [],
   "source": [
    "# Check whether the index with the same name already exists\n",
    "if index_name in pinecone.list_indexes():\n",
    "    pinecone.delete_index(index_name)"
   ]
  },
  {
   "cell_type": "code",
   "execution_count": 6,
   "metadata": {
    "colab": {
     "base_uri": "https://localhost:8080/",
     "height": 67,
     "referenced_widgets": [
      "4c7d59766e914bdd80e666ab7b8fa2d9",
      "5c5805f73c684fe6a851111cf1babec5",
      "4fcd241bb1e0469faf2c687d51e5097c",
      "680b4e1eba4f4ba383e46823031d2285",
      "3516016b34be4dcdb315b07704bd0ae7",
      "dd3cc4122a82460a86cff4fa39b8217c",
      "5156cafaa3654575a72aa39766bdeb68",
      "032101bc570c47ee82f33b0954d3a77e",
      "b4bb283d600744fe846e0358cbb87c26",
      "158c652f675e4bee9866ad4b75bad433",
      "08732dfd12a74468a7459cfc0fcc7b5f"
     ]
    },
    "id": "2b8jdAXxJ0nP",
    "outputId": "14d007cd-4a23-426b-a34e-451363888239"
   },
   "outputs": [],
   "source": [
    "pinecone.create_index(name=index_name, dimension=300, metric='cosine', shards=1)"
   ]
  },
  {
   "cell_type": "code",
   "execution_count": null,
   "metadata": {
    "colab": {
     "base_uri": "https://localhost:8080/"
    },
    "id": "2sDTbg1HJ-m8",
    "outputId": "2ffaf1f6-4859-45fb-ee28-54da4a3dbced"
   },
   "outputs": [],
   "source": [
    "index = pinecone.Index(index_name=index_name)"
   ]
  },
  {
   "cell_type": "markdown",
   "metadata": {
    "id": "UQIuma2eJyTo"
   },
   "source": [
    "## Upload"
   ]
  },
  {
   "cell_type": "markdown",
   "metadata": {
    "id": "9M6j0_I3M9qf"
   },
   "source": [
    "We will define two separate sub-indexes using Pinecone's namespace feature. One for indexing articles by **content**, and the other by **title**. At query time, we will return an aggregation of the results from the content and title indexes.\n"
   ]
  },
  {
   "cell_type": "markdown",
   "metadata": {
    "id": "q9EJlII0p21F"
   },
   "source": [
    "\n",
    "First, we will load data and the model, and then create embeddings and upsert them into the namespaces.\n"
   ]
  },
  {
   "cell_type": "markdown",
   "metadata": {
    "id": "dARvyedFRB-Q"
   },
   "source": [
    "###  Load data"
   ]
  },
  {
   "cell_type": "markdown",
   "metadata": {
    "id": "RfKRg-IqRB-R"
   },
   "source": [
    "The [dataset](https://components.one/datasets/all-the-news-articles-dataset) used throughout this example contains 204,135 articles from 18 American publications."
   ]
  },
  {
   "cell_type": "markdown",
   "metadata": {
    "id": "Gu4sAgkfRB-R"
   },
   "source": [
    "Let's download the dataset and load data."
   ]
  },
  {
   "cell_type": "code",
   "execution_count": 8,
   "metadata": {
    "colab": {
     "base_uri": "https://localhost:8080/"
    },
    "id": "J5xQaXWmRB-R",
    "outputId": "9882a20b-1506-4b09-fa65-aea16b66cfdc"
   },
   "outputs": [],
   "source": [
    "import requests, os\n",
    "DATA_DIR = 'tmp'\n",
    "URL = \"https://www.dropbox.com/s/b2cyb85ib17s7zo/all-the-news.db?dl=1\"\n",
    "FILE = f\"{DATA_DIR}/all-the-news.db\"\n",
    "\n",
    "def download_data():\n",
    "    os.makedirs(DATA_DIR, exist_ok=True)\n",
    "\n",
    "    if not os.path.exists(FILE):\n",
    "        r = requests.get(URL)  # create HTTP response object\n",
    "        with open(FILE, \"wb\") as f:            \n",
    "            f.write(r.content)\n",
    "\n",
    "download_data()"
   ]
  },
  {
   "cell_type": "code",
   "execution_count": 9,
   "metadata": {
    "colab": {
     "base_uri": "https://localhost:8080/",
     "height": 392
    },
    "id": "_WFKsH1J6njD",
    "outputId": "a971fc3b-2fad-4e91-95ff-2e7dc3181049"
   },
   "outputs": [
    {
     "data": {
      "text/html": [
       "<div>\n",
       "<style scoped>\n",
       "    .dataframe tbody tr th:only-of-type {\n",
       "        vertical-align: middle;\n",
       "    }\n",
       "\n",
       "    .dataframe tbody tr th {\n",
       "        vertical-align: top;\n",
       "    }\n",
       "\n",
       "    .dataframe thead th {\n",
       "        text-align: right;\n",
       "    }\n",
       "</style>\n",
       "<table border=\"1\" class=\"dataframe\">\n",
       "  <thead>\n",
       "    <tr style=\"text-align: right;\">\n",
       "      <th></th>\n",
       "      <th>title</th>\n",
       "      <th>author</th>\n",
       "      <th>date</th>\n",
       "      <th>content</th>\n",
       "      <th>year</th>\n",
       "      <th>month</th>\n",
       "      <th>publication</th>\n",
       "      <th>category</th>\n",
       "      <th>digital</th>\n",
       "      <th>section</th>\n",
       "      <th>url</th>\n",
       "    </tr>\n",
       "    <tr>\n",
       "      <th>id</th>\n",
       "      <th></th>\n",
       "      <th></th>\n",
       "      <th></th>\n",
       "      <th></th>\n",
       "      <th></th>\n",
       "      <th></th>\n",
       "      <th></th>\n",
       "      <th></th>\n",
       "      <th></th>\n",
       "      <th></th>\n",
       "      <th></th>\n",
       "    </tr>\n",
       "  </thead>\n",
       "  <tbody>\n",
       "    <tr>\n",
       "      <th>1</th>\n",
       "      <td>Agent Cooper in Twin Peaks is the audience: once delighted, now disintegrating</td>\n",
       "      <td>\\nTasha Robinson\\n</td>\n",
       "      <td>2017-05-31</td>\n",
       "      <td>And never more so than in Showtime’s new series revival Some spoilers ahead through episode 4 of season 3 of Twin Peaks. On May 21st, Showtime brought back David Lynch’s groundbreaking TV se...</td>\n",
       "      <td>2017</td>\n",
       "      <td>5</td>\n",
       "      <td>Verge</td>\n",
       "      <td>Longform</td>\n",
       "      <td>1</td>\n",
       "      <td>None</td>\n",
       "      <td>None</td>\n",
       "    </tr>\n",
       "    <tr>\n",
       "      <th>2</th>\n",
       "      <td>AI, the humanity!</td>\n",
       "      <td>\\nSam Byford\\n</td>\n",
       "      <td>2017-05-30</td>\n",
       "      <td>AlphaGo’s victory isn’t a defeat for humans — it’s an opportunity A loss for humanity! Man succumbs to machine! If you heard about AlphaGo’s latest exploits last week — crushing the world’s ...</td>\n",
       "      <td>2017</td>\n",
       "      <td>5</td>\n",
       "      <td>Verge</td>\n",
       "      <td>Longform</td>\n",
       "      <td>1</td>\n",
       "      <td>None</td>\n",
       "      <td>None</td>\n",
       "    </tr>\n",
       "    <tr>\n",
       "      <th>3</th>\n",
       "      <td>The Viral Machine</td>\n",
       "      <td>\\nKaitlyn Tiffany\\n</td>\n",
       "      <td>2017-05-25</td>\n",
       "      <td>Super Deluxe built a weird internet empire. Can it succeed on TV? When Wolfgang Hammer talks about the future of entertainment, people listen. Hammer is the mastermind behind the American re...</td>\n",
       "      <td>2017</td>\n",
       "      <td>5</td>\n",
       "      <td>Verge</td>\n",
       "      <td>Longform</td>\n",
       "      <td>1</td>\n",
       "      <td>None</td>\n",
       "      <td>None</td>\n",
       "    </tr>\n",
       "    <tr>\n",
       "      <th>4</th>\n",
       "      <td>How Anker is beating Apple and Samsung at their own accessory game</td>\n",
       "      <td>\\nNick Statt\\n</td>\n",
       "      <td>2017-05-22</td>\n",
       "      <td>Steven Yang quit his job at Google in the summer of 2011 to build the products he felt the world needed: a line of reasonably priced accessories that would be better than the ones you could ...</td>\n",
       "      <td>2017</td>\n",
       "      <td>5</td>\n",
       "      <td>Verge</td>\n",
       "      <td>Longform</td>\n",
       "      <td>1</td>\n",
       "      <td>None</td>\n",
       "      <td>None</td>\n",
       "    </tr>\n",
       "    <tr>\n",
       "      <th>5</th>\n",
       "      <td>Tour Black Panther’s reimagined homeland with Ta-Nehisi Coates</td>\n",
       "      <td>\\nKwame Opam\\n</td>\n",
       "      <td>2017-05-15</td>\n",
       "      <td>Ahead of Black Panther’s 2018 theatrical release, Marvel turned to Ta-Nehisi Coates to breathe new life into the nation of Wakanda. “I made most of my career analyzing the forces of racism a...</td>\n",
       "      <td>2017</td>\n",
       "      <td>5</td>\n",
       "      <td>Verge</td>\n",
       "      <td>Longform</td>\n",
       "      <td>1</td>\n",
       "      <td>None</td>\n",
       "      <td>None</td>\n",
       "    </tr>\n",
       "  </tbody>\n",
       "</table>\n",
       "</div>"
      ],
      "text/plain": [
       "                                                                             title  \\\n",
       "id                                                                                   \n",
       "1   Agent Cooper in Twin Peaks is the audience: once delighted, now disintegrating   \n",
       "2                                                                AI, the humanity!   \n",
       "3                                                                The Viral Machine   \n",
       "4               How Anker is beating Apple and Samsung at their own accessory game   \n",
       "5                   Tour Black Panther’s reimagined homeland with Ta-Nehisi Coates   \n",
       "\n",
       "                 author        date  \\\n",
       "id                                    \n",
       "1    \\nTasha Robinson\\n  2017-05-31   \n",
       "2        \\nSam Byford\\n  2017-05-30   \n",
       "3   \\nKaitlyn Tiffany\\n  2017-05-25   \n",
       "4        \\nNick Statt\\n  2017-05-22   \n",
       "5        \\nKwame Opam\\n  2017-05-15   \n",
       "\n",
       "                                                                                                                                                                                                    content  \\\n",
       "id                                                                                                                                                                                                            \n",
       "1         And never more so than in Showtime’s new series revival Some spoilers ahead through episode 4 of season 3 of Twin Peaks. On May 21st, Showtime brought back David Lynch’s groundbreaking TV se...   \n",
       "2         AlphaGo’s victory isn’t a defeat for humans — it’s an opportunity A loss for humanity! Man succumbs to machine! If you heard about AlphaGo’s latest exploits last week — crushing the world’s ...   \n",
       "3         Super Deluxe built a weird internet empire. Can it succeed on TV? When Wolfgang Hammer talks about the future of entertainment, people listen. Hammer is the mastermind behind the American re...   \n",
       "4         Steven Yang quit his job at Google in the summer of 2011 to build the products he felt the world needed: a line of reasonably priced accessories that would be better than the ones you could ...   \n",
       "5         Ahead of Black Panther’s 2018 theatrical release, Marvel turned to Ta-Nehisi Coates to breathe new life into the nation of Wakanda. “I made most of my career analyzing the forces of racism a...   \n",
       "\n",
       "    year  month publication  category  digital section   url  \n",
       "id                                                            \n",
       "1   2017      5       Verge  Longform        1    None  None  \n",
       "2   2017      5       Verge  Longform        1    None  None  \n",
       "3   2017      5       Verge  Longform        1    None  None  \n",
       "4   2017      5       Verge  Longform        1    None  None  \n",
       "5   2017      5       Verge  Longform        1    None  None  "
      ]
     },
     "execution_count": 9,
     "metadata": {},
     "output_type": "execute_result"
    }
   ],
   "source": [
    "cnx = sqlite3.connect(FILE)\n",
    "data = pd.read_sql_query(\"SELECT * FROM longform\", cnx)\n",
    "data.set_index('id', inplace=True)\n",
    "data.head()"
   ]
  },
  {
   "cell_type": "code",
   "execution_count": 10,
   "metadata": {
    "id": "8xNrpkhf2tt3"
   },
   "outputs": [],
   "source": [
    "# Define number of test articles\n",
    "NUM_OF_TEST_ARTICLES = 2\n",
    "\n",
    "# Remove test articles from data and keep them in separate dataframe\n",
    "test_articles = data[['title','content']][97::81][:NUM_OF_TEST_ARTICLES]\n",
    "data.drop(list(test_articles.index), inplace=True)"
   ]
  },
  {
   "cell_type": "markdown",
   "metadata": {
    "id": "p-jcFPPaRB-S"
   },
   "source": [
    "### Use Ready Made Vector Embedding Model"
   ]
  },
  {
   "cell_type": "markdown",
   "metadata": {
    "id": "hytn3DeYRB-S"
   },
   "source": [
    "We will use an [Average Word Embeddings Model](https://www.sbert.net/docs/pretrained_models.html#average-word-embeddings-models) to create both title and content embeddings. Pinecone allows you to create paritions in the index that we call namespaces. This will allow us to maintain separate embeddings for the data that can be used for different tasks."
   ]
  },
  {
   "cell_type": "code",
   "execution_count": 11,
   "metadata": {
    "colab": {
     "base_uri": "https://localhost:8080/",
     "height": 49,
     "referenced_widgets": [
      "1d5d5b941d344b2f8e44f58ebb80460a",
      "abba0b33abf34c8f88af4e62dae11df9",
      "aa68a22905bd44df96ba430eb246d628",
      "ade6470fa991425da49bab1d68bf2a8b",
      "2601b3bc09514889a9172710d2358867",
      "8c4b201090734b7cb72ca976dc2a68d1",
      "f6f43f21ddef4faaaebca581a980a87a",
      "cfbec736df09473383605f14cab5002e",
      "6b2c5e2b2e5d4844b4624876bdc9331b",
      "3582922c24ea4fe6b213b282fb328ce6",
      "3236da12e90446ae9f91c57a7c881c19"
     ]
    },
    "id": "VxzOvUY3DbrO",
    "outputId": "5dc75b9a-0f9c-4b96-edd5-07f55df451c4"
   },
   "outputs": [],
   "source": [
    "from sentence_transformers import SentenceTransformer\n",
    "\n",
    "model = SentenceTransformer('average_word_embeddings_komninos')"
   ]
  },
  {
   "cell_type": "markdown",
   "metadata": {
    "id": "XnxCUm0j6hVt"
   },
   "source": [
    "### Upload Vectors of Titles"
   ]
  },
  {
   "cell_type": "markdown",
   "metadata": {
    "id": "4V8G0ukcdEa9"
   },
   "source": [
    "Here we index articles by title only. You can notice we create a *title* namespace for this purpose."
   ]
  },
  {
   "cell_type": "code",
   "execution_count": 12,
   "metadata": {},
   "outputs": [],
   "source": [
    "from typing import Iterator\n",
    "\n",
    "class BatchGenerator:\n",
    "    \"\"\" Models a simple batch generator that make chunks out of an input DataFrame. \"\"\"\n",
    "    \n",
    "    def __init__(self, batch_size: int = 10) -> None:\n",
    "        self.batch_size = batch_size\n",
    "    \n",
    "    def to_batches(self, df: pd.DataFrame) -> Iterator[pd.DataFrame]:\n",
    "        \"\"\" Makes chunks out of an input DataFrame. \"\"\"\n",
    "        splits = self.splits_num(df.shape[0])\n",
    "        if splits <= 1:\n",
    "            yield df\n",
    "        else:\n",
    "            for chunk in np.array_split(df, splits):\n",
    "                yield chunk\n",
    "    \n",
    "    def splits_num(self, elements: int) -> int:\n",
    "        \"\"\" Determines how many chunks DataFrame contians. \"\"\"\n",
    "        return round(elements / self.batch_size)\n",
    "    \n",
    "    __call__ = to_batches\n",
    "\n",
    "df_batcher = BatchGenerator(300)"
   ]
  },
  {
   "cell_type": "code",
   "execution_count": 13,
   "metadata": {
    "colab": {
     "base_uri": "https://localhost:8080/",
     "height": 116,
     "referenced_widgets": [
      "c63c1942efed4783b1c5c9c6ffc23ecc",
      "905205446e604e81bea0376167df20ea",
      "5853ebec603540748aab1ef080dadf4d",
      "0c18337282e44bfe94fb0233879506fa",
      "8432ef2674e94bc8aa2a4f392ff52d5f",
      "ea21004192fc45dfb6b4901143109332",
      "0eb17cff991c4feabde7098b3cfdfe01",
      "86d1e43c7f244129b4d7bf7fc3d0bd31",
      "e8a1b0b41f4142428af4c91ae180e66f",
      "713e863fd0824be9bd6e196b1fc27c37",
      "d65bf9b21607484a80af0984e171cc96",
      "921085294591418fa719cbbaa36eb0ba",
      "33a68a58788d4c778218469ed475f96d",
      "67305bb07ea348feb2173c52d38e863d",
      "dbe0ec9fa2b4477992dc009a8345a2e7",
      "574c28f2ab52481796c85486dfa487b1",
      "5230a918efa44cd59e52933d0e4c8872",
      "100699f866aa40d1a6857770e641d22f",
      "2c31f590e926443ea668e7a9f1b93dcb",
      "a1ae0d615f3d4df39b34b917c559b67d",
      "742aadd676f2447cad29aacf16df3cb6",
      "077b412b380d4763beec91437290215b"
     ]
    },
    "id": "Oyu7iArz60jE",
    "outputId": "8634bec7-d547-43ae-cd98-39facff408e8"
   },
   "outputs": [
    {
     "name": "stdout",
     "output_type": "stream",
     "text": [
      "Encoding titles...\n"
     ]
    },
    {
     "data": {
      "application/vnd.jupyter.widget-view+json": {
       "model_id": "63b4ae4984834912b22904cf64ca5065",
       "version_major": 2,
       "version_minor": 0
      },
      "text/plain": [
       "Batches:   0%|          | 0/157 [00:00<?, ?it/s]"
      ]
     },
     "metadata": {},
     "output_type": "display_data"
    }
   ],
   "source": [
    "# Fill missing and remove redundant data\n",
    "data['title'] = data['title'].fillna('')\n",
    "\n",
    "# Create vector embeddings based on the title column\n",
    "print('Encoding titles...')\n",
    "encoded_titles = model.encode(data['title'].tolist(), show_progress_bar=True)\n",
    "data['title_vector'] = encoded_titles.tolist()"
   ]
  },
  {
   "cell_type": "code",
   "execution_count": 14,
   "metadata": {},
   "outputs": [],
   "source": [
    "data['vector_id'] = data.index\n",
    "data['vector_id'] = data['vector_id'].apply(str)"
   ]
  },
  {
   "cell_type": "code",
   "execution_count": 15,
   "metadata": {},
   "outputs": [
    {
     "name": "stdout",
     "output_type": "stream",
     "text": [
      "Uploading vectors to title namespace..\n"
     ]
    }
   ],
   "source": [
    "# Upsert title vectors in title namespace\n",
    "print(\"Uploading vectors to title namespace..\")\n",
    "for batch_df in df_batcher(data):\n",
    "    index.upsert(vectors=zip(batch_df.vector_id, batch_df.title_vector), namespace='title')"
   ]
  },
  {
   "cell_type": "markdown",
   "metadata": {
    "id": "CFkB-Ph17rVn"
   },
   "source": [
    "### Upload Vectors of Content"
   ]
  },
  {
   "cell_type": "markdown",
   "metadata": {
    "id": "rvQo3IXkdTcu"
   },
   "source": [
    "Now we index articles by their content. We want to separately maintain embeddings for both title and content hence we use a separate namespace in the same index."
   ]
  },
  {
   "cell_type": "code",
   "execution_count": 16,
   "metadata": {
    "colab": {
     "base_uri": "https://localhost:8080/",
     "height": 99,
     "referenced_widgets": [
      "57d153f90aad4bb7a094511f9c4dbf58",
      "321b79fd73104a16abb2772dbb57f753",
      "5ee8c9a914bb4882aef4332611a15fa9",
      "868b96cf064a4c0aaf624df15ea73db8",
      "ee2fdc4921264a749a1de4157a87443d",
      "86951c7df44745449be1a1f9f543f2a1",
      "c5c7bf7db93b400191e2aba4d67543b9",
      "d2adf6f9ab374843836218619947e469",
      "b2786ddcb6c844ebaba0cc30cf9b5b42",
      "73920cf574fb42fe9b5580787fc7d763",
      "b1c4c74977d2444cadae163342893899",
      "9da84ba6894d483ba8c5965e7f7008c4",
      "0c318b6c00cb439591cec8b9ac3ade5c",
      "24c915b224be405c8260352e43c7adbf",
      "ffea8c4df2694428a02ee036e248a47c",
      "d04f5f60aa734139b6ecc42bed649f46",
      "a0692f7f60ea4845974ff5fcf40045c5",
      "de71c4a4f1ac44aea063a16a90cf4ddf",
      "d5b52addca184900aeea908479caeb40",
      "4e9289b53e964dfcb686059e1a33b4b5",
      "2098ad10b74c43258ec06929ac63b361",
      "c64071d86be2459a8ebab43ad29ac10e"
     ]
    },
    "id": "AYmPq2jD7q1A",
    "outputId": "ba3ee7cd-d702-4316-bf95-701774fbc5ca"
   },
   "outputs": [
    {
     "name": "stdout",
     "output_type": "stream",
     "text": [
      "Encoding content...\n"
     ]
    },
    {
     "data": {
      "application/vnd.jupyter.widget-view+json": {
       "model_id": "4fee62552ce84a748a2253cee0c6a4a5",
       "version_major": 2,
       "version_minor": 0
      },
      "text/plain": [
       "Batches:   0%|          | 0/157 [00:00<?, ?it/s]"
      ]
     },
     "metadata": {},
     "output_type": "display_data"
    }
   ],
   "source": [
    "# Fill missing data\n",
    "data['content'] = data['content'].fillna('')\n",
    "\n",
    "# Extract only first few sentences of each article for quicker vector calculations\n",
    "data['content'] = data.content.apply(lambda x: ' '.join(re.split(r'(?<=[.:;])\\s', x)[:10]))\n",
    "\n",
    "# Create vector embeddings based on the content column\n",
    "print('Encoding content...')\n",
    "encoded_content = model.encode(data['content'].tolist(), show_progress_bar=True)\n",
    "data['content_vector'] = encoded_content.tolist()"
   ]
  },
  {
   "cell_type": "code",
   "execution_count": 17,
   "metadata": {},
   "outputs": [
    {
     "name": "stdout",
     "output_type": "stream",
     "text": [
      "Uploading vectors to content namespace..\n"
     ]
    }
   ],
   "source": [
    "# Upsert title vectors in content namespace\n",
    "print(\"Uploading vectors to content namespace..\")\n",
    "for batch_df in df_batcher(data):\n",
    "    index.upsert(vectors=zip(batch_df.vector_id, batch_df.content_vector), namespace='content')"
   ]
  },
  {
   "cell_type": "markdown",
   "metadata": {
    "id": "YYAY6jjfdnua"
   },
   "source": [
    "Now that we have upserted data, we can check the size of each namespace.\n",
    "\n"
   ]
  },
  {
   "cell_type": "code",
   "execution_count": 18,
   "metadata": {
    "colab": {
     "base_uri": "https://localhost:8080/"
    },
    "id": "83fitZsgJ0p8",
    "outputId": "422ed189-ca31-4bd6-8382-fdb6b353d05e"
   },
   "outputs": [
    {
     "data": {
      "text/plain": [
       "{'dimension': 300,\n",
       " 'namespaces': {'content': {'vector_count': 4998},\n",
       "                'title': {'vector_count': 4998}}}"
      ]
     },
     "execution_count": 18,
     "metadata": {},
     "output_type": "execute_result"
    }
   ],
   "source": [
    "# Check index size for each namespace\n",
    "index.describe_index_stats()"
   ]
  },
  {
   "cell_type": "markdown",
   "metadata": {
    "id": "tMH0FPfebwRR"
   },
   "source": [
    "## Query"
   ]
  },
  {
   "cell_type": "markdown",
   "metadata": {
    "id": "Hbvpi7B3dual"
   },
   "source": [
    "Let's see what our test articles look like first."
   ]
  },
  {
   "cell_type": "code",
   "execution_count": 19,
   "metadata": {
    "colab": {
     "base_uri": "https://localhost:8080/",
     "height": 169
    },
    "id": "40iYMKD9O1oY",
    "outputId": "a4ae77f3-f6e1-4efc-9966-5a70d8771848"
   },
   "outputs": [
    {
     "data": {
      "text/html": [
       "<div>\n",
       "<style scoped>\n",
       "    .dataframe tbody tr th:only-of-type {\n",
       "        vertical-align: middle;\n",
       "    }\n",
       "\n",
       "    .dataframe tbody tr th {\n",
       "        vertical-align: top;\n",
       "    }\n",
       "\n",
       "    .dataframe thead th {\n",
       "        text-align: right;\n",
       "    }\n",
       "</style>\n",
       "<table border=\"1\" class=\"dataframe\">\n",
       "  <thead>\n",
       "    <tr style=\"text-align: right;\">\n",
       "      <th></th>\n",
       "      <th>title</th>\n",
       "      <th>content</th>\n",
       "    </tr>\n",
       "    <tr>\n",
       "      <th>id</th>\n",
       "      <th></th>\n",
       "      <th></th>\n",
       "    </tr>\n",
       "  </thead>\n",
       "  <tbody>\n",
       "    <tr>\n",
       "      <th>111</th>\n",
       "      <td>The Rise and Fall and Rise of Virtual Reality</td>\n",
       "      <td>In the wake of Facebook's purchase of Oculus VR, can this revolutionary technology triumph anew?</td>\n",
       "    </tr>\n",
       "    <tr>\n",
       "      <th>6467</th>\n",
       "      <td>Who should go to Mars?</td>\n",
       "      <td>Elon Musk laid out his plan to colonize Mars at a conference on Tuesday, but it was during the Q&amp;ampampA session that a woman asked one of the key questions: who will be chosen to embark on ...</td>\n",
       "    </tr>\n",
       "  </tbody>\n",
       "</table>\n",
       "</div>"
      ],
      "text/plain": [
       "                                              title  \\\n",
       "id                                                    \n",
       "111   The Rise and Fall and Rise of Virtual Reality   \n",
       "6467                         Who should go to Mars?   \n",
       "\n",
       "                                                                                                                                                                                                      content  \n",
       "id                                                                                                                                                                                                             \n",
       "111                                                                                                          In the wake of Facebook's purchase of Oculus VR, can this revolutionary technology triumph anew?  \n",
       "6467        Elon Musk laid out his plan to colonize Mars at a conference on Tuesday, but it was during the Q&ampampA session that a woman asked one of the key questions: who will be chosen to embark on ...  "
      ]
     },
     "metadata": {},
     "output_type": "display_data"
    }
   ],
   "source": [
    "# Print test articles\n",
    "display(test_articles)"
   ]
  },
  {
   "cell_type": "markdown",
   "metadata": {
    "id": "mYqJCfu-5Q7x"
   },
   "source": [
    "The following utility functions help us process and present the results."
   ]
  },
  {
   "cell_type": "code",
   "execution_count": 20,
   "metadata": {
    "id": "5Fm61xCwgKFk"
   },
   "outputs": [],
   "source": [
    "titles_mapped = dict(zip(data.index, data.title))\n",
    "content_mapped = dict(zip(data.index, data.content))"
   ]
  },
  {
   "cell_type": "code",
   "execution_count": 21,
   "metadata": {
    "id": "5jYqfOnr9O7X"
   },
   "outputs": [],
   "source": [
    "def get_wordcloud_for_article(recommendations, namespace):\n",
    "    'Generates word cloud for the recommendations (titles or content).'\n",
    "\n",
    "    stopwords = set(STOPWORDS).union([np.nan, 'NaN', 'S'])\n",
    "    wordcloud = WordCloud(\n",
    "                   max_words=50000, \n",
    "                   min_font_size =12, \n",
    "                   max_font_size=50, \n",
    "                   relative_scaling = 0.9, \n",
    "                   stopwords=set(STOPWORDS),\n",
    "                   normalize_plurals= True\n",
    "                  )\n",
    "    \n",
    "    if namespace == 'title':\n",
    "        clean_titles = [word for word in recommendations.title.values if word not in stopwords]\n",
    "        wordcloud = wordcloud.generate(' '.join(clean_titles))\n",
    "    else:\n",
    "        clean_content = [word for word in recommendations.content.values if word not in stopwords]\n",
    "        wordcloud = wordcloud.generate(' '.join(clean_content))\n",
    "\n",
    "    plt.imshow(wordcloud, interpolation='bilinear')\n",
    "    plt.axis(\"off\")\n",
    "    plt.show()\n",
    "\n",
    "\n",
    "def print_query_results(query_result, query, namespace, show_options={'wordcloud':True, 'tabular':True}):\n",
    "    'Prints query result with wordcloud.'\n",
    "      \n",
    "    print(f'\\nMost similar results querying {query} in \"{namespace}\" namespace:\\n')\n",
    "    if not query_result.results:\n",
    "        print('no query result')\n",
    "    \n",
    "    matches = query_result.results[0].matches\n",
    "    ids = [res.id for res in matches]\n",
    "    scores = [res.score for res in matches]\n",
    "    df = pd.DataFrame({'id':ids, \n",
    "                       'score':scores,\n",
    "                       'title': [titles_mapped[int(_id)] if int(_id) in titles_mapped else ' '  for _id in ids],\n",
    "                       'content': [content_mapped[int(_id)] if int(_id) in content_mapped else ' '  for _id in ids],\n",
    "                       })\n",
    "    if show_options['tabular']:\n",
    "        display(df.head(5))\n",
    "    if show_options['wordcloud']:\n",
    "        get_wordcloud_for_article(df, namespace)\n",
    "    print('\\n')"
   ]
  },
  {
   "cell_type": "markdown",
   "metadata": {
    "id": "TWIce4IeWQ4d"
   },
   "source": [
    "The following two functions we use to query the test article's title or content in either of the namespaces we created. This means we can query the title in the \"title\" namespace or the \"content\" namespace. The same is with the article content."
   ]
  },
  {
   "cell_type": "code",
   "execution_count": 22,
   "metadata": {
    "id": "zQrPEm5uf0SD"
   },
   "outputs": [],
   "source": [
    "def query_article_title(test_article, namespace, top_k=5, show_options={'wordcloud':True, 'tabular':True}):\n",
    "    '''Queries an article using its title in the specified\n",
    "     namespace and prints results.'''\n",
    "\n",
    "    # Create vector embeddings based on the title column\n",
    "    encoded_titles = model.encode(test_article['title'], \n",
    "                                  show_progress_bar=False)\n",
    "    test_article['title_vector'] = encoded_titles.tolist()\n",
    "\n",
    "    # Query namespace passed as parameter using title vector\n",
    "    query_result_titles = index.query(queries=[test_article.title_vector], \n",
    "                                      namespace=namespace, \n",
    "                                      top_k=top_k)\n",
    "\n",
    "    # Print query results \n",
    "    if show_options['wordcloud'] or show_options['tabular']:\n",
    "        print_query_results(query_result_titles, query='title', \n",
    "                            namespace=namespace, \n",
    "                            show_options=show_options)\n",
    "\n",
    "    return query_result_titles"
   ]
  },
  {
   "cell_type": "markdown",
   "metadata": {
    "id": "6uKmpQg1IBay"
   },
   "source": [
    "When querying content, we will first create the article content vector and search for the most similar vectors in the \"title\" or the \"content\" namespace."
   ]
  },
  {
   "cell_type": "code",
   "execution_count": 23,
   "metadata": {
    "id": "PaQQhrlv_dA_"
   },
   "outputs": [],
   "source": [
    "def query_article_content(test_article, namespace, top_k=5, show_options={'wordcloud':True, 'tabular':True}):\n",
    "    '''Queries an article using its content in the specified \n",
    "    namespace and prints results.'''\n",
    "\n",
    "    # Create vector embeddings based on the content column\n",
    "    encoded_content = model.encode(test_article['content'], \n",
    "                                   show_progress_bar=False)\n",
    "    test_article['content_vector'] = encoded_content.tolist()\n",
    "\n",
    "    # Query content namespace using content vector\n",
    "    query_result_content = index.query(queries=[test_article.content_vector], \n",
    "                                       namespace=namespace, \n",
    "                                       top_k=top_k)\n",
    "\n",
    "    # Print query results \n",
    "    if show_options['wordcloud'] or show_options['tabular']:\n",
    "        print_query_results(query_result_content, \n",
    "                            query='content', \n",
    "                            namespace=namespace, \n",
    "                            show_options=show_options)\n",
    "\n",
    "    return query_result_content"
   ]
  },
  {
   "cell_type": "markdown",
   "metadata": {
    "id": "cf6m1DTmDUtT"
   },
   "source": [
    "Now it's time to do the cross namespace querying and aggregate the results.\n",
    "The following functions query for four combinations (title/content only and title-content, content-title). Then aggregates the results of the four queries to calculate the total occurrence of the articles and their average scores. They are ranked accordingly and the most similar articles are returned."
   ]
  },
  {
   "cell_type": "code",
   "execution_count": 24,
   "metadata": {
    "id": "U-25d4qZKeOr"
   },
   "outputs": [],
   "source": [
    "def aggregate_results(article):\n",
    "    '''Aggregates results after querying both namespaces\n",
    "       for both the article's title and content.'''\n",
    "\n",
    "    results = []\n",
    "    \n",
    "    results.append(query_article_title(article, namespace='title', top_k=30, show_options={'wordcloud':False, 'tabular':False}))\n",
    "    results.append(query_article_title(article, namespace='content', top_k=30, show_options={'wordcloud':False, 'tabular':False}))\n",
    "    results.append(query_article_content(article, namespace='title', top_k=30, show_options={'wordcloud':False, 'tabular':False}))\n",
    "    results.append(query_article_content(article, namespace='content', top_k=30, show_options={'wordcloud':False, 'tabular':False}))\n",
    "\n",
    "    articles_scores = {}\n",
    "    articles_count = {}\n",
    "\n",
    "    for res in results:\n",
    "        ids = [r.id for r in res.results[0].matches]\n",
    "        scores = [r.score for r in res.results[0].matches]\n",
    "        for id, score in zip(ids, scores):\n",
    "            if id not in articles_scores:\n",
    "                articles_scores[id] = score\n",
    "                articles_count[id] = 1\n",
    "            else:\n",
    "                articles_scores[id] += score\n",
    "                articles_count[id] += 1\n",
    "    \n",
    "    return articles_scores , articles_count\n",
    "\n",
    "def show_aggregated_results(results_dict, counts, show_options={'wordcloud':True, 'tabular':True}):\n",
    "    '''Shows results after aggregation. Values are sorted based\n",
    "    on the number of queries they appear (1-4) and based on their\n",
    "    average score.'''\n",
    "    \n",
    "    df = pd.DataFrame({'id':results_dict.keys(), \n",
    "                       'count': counts.values(),\n",
    "                       'average_score':[round(r/c, 3) for r, c in zip(results_dict.values(),counts.values())],\n",
    "                       'title': [titles_mapped[int(_id)] if int(_id) in titles_mapped else ' '  for _id in results_dict.keys()],\n",
    "                       'content': [content_mapped[int(_id)] if int(_id) in content_mapped else ' '  for _id in results_dict.keys()],\n",
    "                       })\n",
    "    df.sort_values(by=['count', 'average_score'], ascending=False, inplace=True)\n",
    "    \n",
    "    if show_options['tabular']:\n",
    "        print('\\nMost similar results after aggregation:\\n')\n",
    "        display(df.head(5))\n",
    "    if show_options['wordcloud']:\n",
    "        print('\\nWordcloud for titles and content after aggregation:')\n",
    "        print('-Titles:')\n",
    "        get_wordcloud_for_article(df[:10], 'title')\n",
    "        print('-Content:')\n",
    "        get_wordcloud_for_article(df[:10], 'content')\n",
    "    print('\\n')"
   ]
  },
  {
   "cell_type": "markdown",
   "metadata": {
    "id": "pRwfWI6VrTzU"
   },
   "source": [
    "### Query by Aggregation\n",
    "We are ready to query our service! We will use all the above auxiliary functions to query the test articles. We will be using our cross-namespace approach that combines four query results into one.\n",
    "\n",
    "Note that you can add the tabular data results for each query by changing the ```show_options``` flags below."
   ]
  },
  {
   "cell_type": "code",
   "execution_count": 25,
   "metadata": {
    "colab": {
     "base_uri": "https://localhost:8080/",
     "height": 1000
    },
    "id": "RWmcBXZL6FJb",
    "outputId": "d61e0d1e-3c97-4616-97d0-6a21b5a824a8"
   },
   "outputs": [
    {
     "name": "stdout",
     "output_type": "stream",
     "text": [
      "\n",
      "Article 1\n",
      "\n",
      " Title: The Rise and Fall and Rise of Virtual Reality\n",
      " Content: In the wake of Facebook's purchase of Oculus VR, can this revolutionary technology triumph anew?\n",
      "\n",
      "Most similar results after aggregation:\n",
      "\n"
     ]
    },
    {
     "data": {
      "text/html": [
       "<div>\n",
       "<style scoped>\n",
       "    .dataframe tbody tr th:only-of-type {\n",
       "        vertical-align: middle;\n",
       "    }\n",
       "\n",
       "    .dataframe tbody tr th {\n",
       "        vertical-align: top;\n",
       "    }\n",
       "\n",
       "    .dataframe thead th {\n",
       "        text-align: right;\n",
       "    }\n",
       "</style>\n",
       "<table border=\"1\" class=\"dataframe\">\n",
       "  <thead>\n",
       "    <tr style=\"text-align: right;\">\n",
       "      <th></th>\n",
       "      <th>id</th>\n",
       "      <th>count</th>\n",
       "      <th>average_score</th>\n",
       "      <th>title</th>\n",
       "      <th>content</th>\n",
       "    </tr>\n",
       "  </thead>\n",
       "  <tbody>\n",
       "    <tr>\n",
       "      <th>24</th>\n",
       "      <td>9533</td>\n",
       "      <td>4</td>\n",
       "      <td>0.718</td>\n",
       "      <td>Virtual reality visionary Palmer Luckey leaves Facebook 3 years after $2-billion Oculus deal - LA Times</td>\n",
       "      <td>Palmer Luckey, the Long Beach entrepreneur whose zeal for virtual reality kickstarted mass investment in the technology, has left Facebook three years after selling his start-up Oculus VR to the s...</td>\n",
       "    </tr>\n",
       "    <tr>\n",
       "      <th>31</th>\n",
       "      <td>27</td>\n",
       "      <td>3</td>\n",
       "      <td>0.743</td>\n",
       "      <td>PlayStation VR review: When good enough is great</td>\n",
       "      <td>This was supposed to be the year virtual reality broke out. The Oculus Rift and HTC Vive, the first two high-end consumer devices on the market, arrived this spring to critical praise and pr...</td>\n",
       "    </tr>\n",
       "    <tr>\n",
       "      <th>50</th>\n",
       "      <td>6754</td>\n",
       "      <td>3</td>\n",
       "      <td>0.728</td>\n",
       "      <td>Google's latest Cardboard app is a how-to guide for good VR design</td>\n",
       "      <td>There's one very simple rule in virtual reality development: don't make people sick. But when it comes to making suggestions instead of prohibitions, we're still formulating the guidelines f...</td>\n",
       "    </tr>\n",
       "    <tr>\n",
       "      <th>49</th>\n",
       "      <td>6453</td>\n",
       "      <td>3</td>\n",
       "      <td>0.727</td>\n",
       "      <td>Seven big questions about Microsoft’s new VR headsets</td>\n",
       "      <td>Today’s big tech news might be the fancy-looking Surface Studio PC, but Microsoft also decided to make a major virtual reality announcement during its Windows event: a whole new line of VR h...</td>\n",
       "    </tr>\n",
       "    <tr>\n",
       "      <th>14</th>\n",
       "      <td>6920</td>\n",
       "      <td>3</td>\n",
       "      <td>0.686</td>\n",
       "      <td>Leap Motion wants to be a window to the real world for VR headsets</td>\n",
       "      <td>One of the best features of VR headsets also happens to be one of its greatest shortcomings. Headsets are designed so that you can't see anything else, making games incredibly immersive. Yet...</td>\n",
       "    </tr>\n",
       "  </tbody>\n",
       "</table>\n",
       "</div>"
      ],
      "text/plain": [
       "      id  count  average_score  \\\n",
       "24  9533      4          0.718   \n",
       "31    27      3          0.743   \n",
       "50  6754      3          0.728   \n",
       "49  6453      3          0.727   \n",
       "14  6920      3          0.686   \n",
       "\n",
       "                                                                                                      title  \\\n",
       "24  Virtual reality visionary Palmer Luckey leaves Facebook 3 years after $2-billion Oculus deal - LA Times   \n",
       "31                                                         PlayStation VR review: When good enough is great   \n",
       "50                                       Google's latest Cardboard app is a how-to guide for good VR design   \n",
       "49                                                    Seven big questions about Microsoft’s new VR headsets   \n",
       "14                                       Leap Motion wants to be a window to the real world for VR headsets   \n",
       "\n",
       "                                                                                                                                                                                                    content  \n",
       "24  Palmer Luckey, the Long Beach entrepreneur whose zeal for virtual reality kickstarted mass investment in the technology, has left Facebook three years after selling his start-up Oculus VR to the s...  \n",
       "31        This was supposed to be the year virtual reality broke out. The Oculus Rift and HTC Vive, the first two high-end consumer devices on the market, arrived this spring to critical praise and pr...  \n",
       "50        There's one very simple rule in virtual reality development: don't make people sick. But when it comes to making suggestions instead of prohibitions, we're still formulating the guidelines f...  \n",
       "49        Today’s big tech news might be the fancy-looking Surface Studio PC, but Microsoft also decided to make a major virtual reality announcement during its Windows event: a whole new line of VR h...  \n",
       "14        One of the best features of VR headsets also happens to be one of its greatest shortcomings. Headsets are designed so that you can't see anything else, making games incredibly immersive. Yet...  "
      ]
     },
     "metadata": {},
     "output_type": "display_data"
    },
    {
     "name": "stdout",
     "output_type": "stream",
     "text": [
      "\n",
      "\n",
      "\n",
      "Article 2\n",
      "\n",
      " Title: Who should go to Mars?\n",
      " Content: Elon Musk laid out his plan to colonize Mars at a conference on Tuesday, but it was during the Q&ampampA session that a woman asked one of the key questions: who will be chosen to embark on a ri...\n",
      "\n",
      "Most similar results after aggregation:\n",
      "\n"
     ]
    },
    {
     "data": {
      "text/html": [
       "<div>\n",
       "<style scoped>\n",
       "    .dataframe tbody tr th:only-of-type {\n",
       "        vertical-align: middle;\n",
       "    }\n",
       "\n",
       "    .dataframe tbody tr th {\n",
       "        vertical-align: top;\n",
       "    }\n",
       "\n",
       "    .dataframe thead th {\n",
       "        text-align: right;\n",
       "    }\n",
       "</style>\n",
       "<table border=\"1\" class=\"dataframe\">\n",
       "  <thead>\n",
       "    <tr style=\"text-align: right;\">\n",
       "      <th></th>\n",
       "      <th>id</th>\n",
       "      <th>count</th>\n",
       "      <th>average_score</th>\n",
       "      <th>title</th>\n",
       "      <th>content</th>\n",
       "    </tr>\n",
       "  </thead>\n",
       "  <tbody>\n",
       "    <tr>\n",
       "      <th>1</th>\n",
       "      <td>7805</td>\n",
       "      <td>3</td>\n",
       "      <td>0.711</td>\n",
       "      <td>The Wanderers is a beautiful take on the human cost of a mission to Mars</td>\n",
       "      <td>With private companies such as SpaceX looking to visit Mars in the coming decades, science fiction is poised to become reality. In Meg Howrey’s latest novel, The Wanderers, she explores the ...</td>\n",
       "    </tr>\n",
       "    <tr>\n",
       "      <th>2</th>\n",
       "      <td>6833</td>\n",
       "      <td>3</td>\n",
       "      <td>0.705</td>\n",
       "      <td>Water alone couldn't have made Mars hospitable to life</td>\n",
       "      <td>Dried-up riverbeds, water-weathered minerals, underground reservoirs of ice: the evidence for Mars’ watery past keeps building. In fact, the eight missions that have successfully landed on t...</td>\n",
       "    </tr>\n",
       "    <tr>\n",
       "      <th>11</th>\n",
       "      <td>8295</td>\n",
       "      <td>3</td>\n",
       "      <td>0.671</td>\n",
       "      <td>Freeze-dried food and 1 bathroom: 6 simulate Mars in Hawaiian dome - LA Times</td>\n",
       "      <td>Crammed into a dome with one bathroom, six scientists will spend eight months eating mostly freeze-dried foods — with an occasional treat of Spam — and have only their small sleeping quarters to r...</td>\n",
       "    </tr>\n",
       "    <tr>\n",
       "      <th>52</th>\n",
       "      <td>9105</td>\n",
       "      <td>2</td>\n",
       "      <td>0.899</td>\n",
       "      <td>I left finance because I wanted to make a difference. Non-profit work never did the trick - LA Times</td>\n",
       "      <td>When I was 30, I left a career as a hedge fund trader hoping to make a more positive contribution to the world. I founded a nonprofit, Groceryships, to tackle the lack of healthy food in our inner...</td>\n",
       "    </tr>\n",
       "    <tr>\n",
       "      <th>0</th>\n",
       "      <td>7049</td>\n",
       "      <td>2</td>\n",
       "      <td>0.830</td>\n",
       "      <td>NASA wants you to build your own Mars Rover</td>\n",
       "      <td>The work astronauts do in outer space has always captured people’s imaginations, but it can be tough to translate the complex science and expensive equipment NASA uses every day into lessons...</td>\n",
       "    </tr>\n",
       "  </tbody>\n",
       "</table>\n",
       "</div>"
      ],
      "text/plain": [
       "      id  count  average_score  \\\n",
       "1   7805      3          0.711   \n",
       "2   6833      3          0.705   \n",
       "11  8295      3          0.671   \n",
       "52  9105      2          0.899   \n",
       "0   7049      2          0.830   \n",
       "\n",
       "                                                                                                   title  \\\n",
       "1                               The Wanderers is a beautiful take on the human cost of a mission to Mars   \n",
       "2                                                 Water alone couldn't have made Mars hospitable to life   \n",
       "11                         Freeze-dried food and 1 bathroom: 6 simulate Mars in Hawaiian dome - LA Times   \n",
       "52  I left finance because I wanted to make a difference. Non-profit work never did the trick - LA Times   \n",
       "0                                                            NASA wants you to build your own Mars Rover   \n",
       "\n",
       "                                                                                                                                                                                                    content  \n",
       "1         With private companies such as SpaceX looking to visit Mars in the coming decades, science fiction is poised to become reality. In Meg Howrey’s latest novel, The Wanderers, she explores the ...  \n",
       "2         Dried-up riverbeds, water-weathered minerals, underground reservoirs of ice: the evidence for Mars’ watery past keeps building. In fact, the eight missions that have successfully landed on t...  \n",
       "11  Crammed into a dome with one bathroom, six scientists will spend eight months eating mostly freeze-dried foods — with an occasional treat of Spam — and have only their small sleeping quarters to r...  \n",
       "52  When I was 30, I left a career as a hedge fund trader hoping to make a more positive contribution to the world. I founded a nonprofit, Groceryships, to tackle the lack of healthy food in our inner...  \n",
       "0         The work astronauts do in outer space has always captured people’s imaginations, but it can be tough to translate the complex science and expensive equipment NASA uses every day into lessons...  "
      ]
     },
     "metadata": {},
     "output_type": "display_data"
    },
    {
     "name": "stdout",
     "output_type": "stream",
     "text": [
      "\n",
      "\n"
     ]
    }
   ],
   "source": [
    "# Query index using simple and cross namespace approach\n",
    "for e, (_, test_article) in enumerate(test_articles.iterrows()):\n",
    "    print(f'\\nArticle {e+1}')\n",
    "    print(f'\\n Title: {test_article.title}')\n",
    "    print(f' Content: {test_article.content[:200].strip()}' + ('...' if len(test_article.content) > 200 else ''))\n",
    "    \n",
    "    # Uncomment to query the titles in title namespace\n",
    "    #query_article_title(test_article, 'title',  show_options={'wordcloud':True, 'tabular':False})\n",
    "\n",
    "    # Uncomment to query the content in content namespace\n",
    "    #query_article_content(test_article, namespace='content', show_options={'wordcloud':True, 'tabular':False})\n",
    "\n",
    "    # Cross namespace query\n",
    "    aggregated_results, counts = aggregate_results(test_article)\n",
    "    show_aggregated_results(aggregated_results, counts, show_options={'wordcloud':False, 'tabular':True})"
   ]
  },
  {
   "cell_type": "markdown",
   "metadata": {
    "id": "3haAwbMsYb6q"
   },
   "source": [
    "## Summary\n",
    "We demonstrated a simple textual semantic search approach that aggregates results from two different news article representations:  for titles only and content only. We do that by utilizing Pinecone's namespace feature to create two namespaced indexes. The aggregation mechanism is simple. We use the query's title and content representations to query both namespaces and weight results by their occurrences. Our example queries illustrate the effectiveness of this approach. \n",
    "\n",
    "We encourage you to try the code with your data. You might want to try other embedding or aggregation mechanisms. Working with a similarity search service makes such experimentations easy. Have fun, and [let us know](https://www.pinecone.io/contact/) if you have any questions or interesting findings. "
   ]
  },
  {
   "cell_type": "markdown",
   "metadata": {
    "id": "LpX4GTH53oEW"
   },
   "source": [
    "## Delete the index"
   ]
  },
  {
   "cell_type": "markdown",
   "metadata": {
    "id": "ppirLic6DbrX"
   },
   "source": [
    "Delete the index once you are sure that you do not want to use it anymore. Once the index is deleted, you cannot use it again. Use it as a cleanup step if you are done working with a specific index.\n"
   ]
  },
  {
   "cell_type": "code",
   "execution_count": 26,
   "metadata": {
    "colab": {
     "base_uri": "https://localhost:8080/",
     "height": 67,
     "referenced_widgets": [
      "34bdd9ae2e7d443893df1a42ca7c5c83",
      "0444ebae7559456d8ad6473b7e592a94",
      "06aba76c456f40c08211820d816f9074",
      "998de1693ad6472bb36d822338538647",
      "e5fd19a4b6ca41e9ac049d7da778d81a",
      "dd541e0529d142fc8f0323de4b2305aa",
      "a56a0cc598304bd19e7cdff9879e76a8",
      "1df527bf7830421aa81cd9aa0929acfd",
      "047e6e6ad2ad4ba6adf6ee634bcdffd0",
      "00115896abe24fc18c35bb27da71672c",
      "9d3d174e153f4c58ada0fe924fb64e70"
     ]
    },
    "id": "xcd6vDvkRB-Y",
    "outputId": "64a23634-cfe4-4be8-89be-e5b1f8fa89ad"
   },
   "outputs": [],
   "source": [
    "pinecone.delete_index(index_name)"
   ]
  }
 ],
 "metadata": {
  "colab": {
   "collapsed_sections": [],
   "name": "semantic_text.ipynb",
   "provenance": [],
   "toc_visible": true
  },
  "environment": {
   "name": "common-cpu.m65",
   "type": "gcloud",
   "uri": "gcr.io/deeplearning-platform-release/base-cpu:m65"
  },
  "kernelspec": {
   "display_name": "Python 3",
   "language": "python",
   "name": "python3"
  },
  "language_info": {
   "codemirror_mode": {
    "name": "ipython",
    "version": 3
   },
   "file_extension": ".py",
   "mimetype": "text/x-python",
   "name": "python",
   "nbconvert_exporter": "python",
   "pygments_lexer": "ipython3",
   "version": "3.7.9"
  },
  "widgets": {
   "application/vnd.jupyter.widget-state+json": {
    "00115896abe24fc18c35bb27da71672c": {
     "model_module": "@jupyter-widgets/controls",
     "model_name": "DescriptionStyleModel",
     "state": {
      "_model_module": "@jupyter-widgets/controls",
      "_model_module_version": "1.5.0",
      "_model_name": "DescriptionStyleModel",
      "_view_count": null,
      "_view_module": "@jupyter-widgets/base",
      "_view_module_version": "1.2.0",
      "_view_name": "StyleView",
      "description_width": ""
     }
    },
    "032101bc570c47ee82f33b0954d3a77e": {
     "model_module": "@jupyter-widgets/controls",
     "model_name": "ProgressStyleModel",
     "state": {
      "_model_module": "@jupyter-widgets/controls",
      "_model_module_version": "1.5.0",
      "_model_name": "ProgressStyleModel",
      "_view_count": null,
      "_view_module": "@jupyter-widgets/base",
      "_view_module_version": "1.2.0",
      "_view_name": "StyleView",
      "bar_color": null,
      "description_width": ""
     }
    },
    "0444ebae7559456d8ad6473b7e592a94": {
     "model_module": "@jupyter-widgets/base",
     "model_name": "LayoutModel",
     "state": {
      "_model_module": "@jupyter-widgets/base",
      "_model_module_version": "1.2.0",
      "_model_name": "LayoutModel",
      "_view_count": null,
      "_view_module": "@jupyter-widgets/base",
      "_view_module_version": "1.2.0",
      "_view_name": "LayoutView",
      "align_content": null,
      "align_items": null,
      "align_self": null,
      "border": null,
      "bottom": null,
      "display": null,
      "flex": null,
      "flex_flow": null,
      "grid_area": null,
      "grid_auto_columns": null,
      "grid_auto_flow": null,
      "grid_auto_rows": null,
      "grid_column": null,
      "grid_gap": null,
      "grid_row": null,
      "grid_template_areas": null,
      "grid_template_columns": null,
      "grid_template_rows": null,
      "height": null,
      "justify_content": null,
      "justify_items": null,
      "left": null,
      "margin": null,
      "max_height": null,
      "max_width": null,
      "min_height": null,
      "min_width": null,
      "object_fit": null,
      "object_position": null,
      "order": null,
      "overflow": null,
      "overflow_x": null,
      "overflow_y": null,
      "padding": null,
      "right": null,
      "top": null,
      "visibility": null,
      "width": null
     }
    },
    "047e6e6ad2ad4ba6adf6ee634bcdffd0": {
     "model_module": "@jupyter-widgets/base",
     "model_name": "LayoutModel",
     "state": {
      "_model_module": "@jupyter-widgets/base",
      "_model_module_version": "1.2.0",
      "_model_name": "LayoutModel",
      "_view_count": null,
      "_view_module": "@jupyter-widgets/base",
      "_view_module_version": "1.2.0",
      "_view_name": "LayoutView",
      "align_content": null,
      "align_items": null,
      "align_self": null,
      "border": null,
      "bottom": null,
      "display": null,
      "flex": null,
      "flex_flow": null,
      "grid_area": null,
      "grid_auto_columns": null,
      "grid_auto_flow": null,
      "grid_auto_rows": null,
      "grid_column": null,
      "grid_gap": null,
      "grid_row": null,
      "grid_template_areas": null,
      "grid_template_columns": null,
      "grid_template_rows": null,
      "height": null,
      "justify_content": null,
      "justify_items": null,
      "left": null,
      "margin": null,
      "max_height": null,
      "max_width": null,
      "min_height": null,
      "min_width": null,
      "object_fit": null,
      "object_position": null,
      "order": null,
      "overflow": null,
      "overflow_x": null,
      "overflow_y": null,
      "padding": null,
      "right": null,
      "top": null,
      "visibility": null,
      "width": null
     }
    },
    "06aba76c456f40c08211820d816f9074": {
     "model_module": "@jupyter-widgets/controls",
     "model_name": "HTMLModel",
     "state": {
      "_dom_classes": [],
      "_model_module": "@jupyter-widgets/controls",
      "_model_module_version": "1.5.0",
      "_model_name": "HTMLModel",
      "_view_count": null,
      "_view_module": "@jupyter-widgets/controls",
      "_view_module_version": "1.5.0",
      "_view_name": "HTMLView",
      "description": "",
      "description_tooltip": null,
      "layout": "IPY_MODEL_a56a0cc598304bd19e7cdff9879e76a8",
      "placeholder": "​",
      "style": "IPY_MODEL_dd541e0529d142fc8f0323de4b2305aa",
      "value": "100%"
     }
    },
    "077b412b380d4763beec91437290215b": {
     "model_module": "@jupyter-widgets/base",
     "model_name": "LayoutModel",
     "state": {
      "_model_module": "@jupyter-widgets/base",
      "_model_module_version": "1.2.0",
      "_model_name": "LayoutModel",
      "_view_count": null,
      "_view_module": "@jupyter-widgets/base",
      "_view_module_version": "1.2.0",
      "_view_name": "LayoutView",
      "align_content": null,
      "align_items": null,
      "align_self": null,
      "border": null,
      "bottom": null,
      "display": null,
      "flex": null,
      "flex_flow": null,
      "grid_area": null,
      "grid_auto_columns": null,
      "grid_auto_flow": null,
      "grid_auto_rows": null,
      "grid_column": null,
      "grid_gap": null,
      "grid_row": null,
      "grid_template_areas": null,
      "grid_template_columns": null,
      "grid_template_rows": null,
      "height": null,
      "justify_content": null,
      "justify_items": null,
      "left": null,
      "margin": null,
      "max_height": null,
      "max_width": null,
      "min_height": null,
      "min_width": null,
      "object_fit": null,
      "object_position": null,
      "order": null,
      "overflow": null,
      "overflow_x": null,
      "overflow_y": null,
      "padding": null,
      "right": null,
      "top": null,
      "visibility": null,
      "width": null
     }
    },
    "08732dfd12a74468a7459cfc0fcc7b5f": {
     "model_module": "@jupyter-widgets/base",
     "model_name": "LayoutModel",
     "state": {
      "_model_module": "@jupyter-widgets/base",
      "_model_module_version": "1.2.0",
      "_model_name": "LayoutModel",
      "_view_count": null,
      "_view_module": "@jupyter-widgets/base",
      "_view_module_version": "1.2.0",
      "_view_name": "LayoutView",
      "align_content": null,
      "align_items": null,
      "align_self": null,
      "border": null,
      "bottom": null,
      "display": null,
      "flex": null,
      "flex_flow": null,
      "grid_area": null,
      "grid_auto_columns": null,
      "grid_auto_flow": null,
      "grid_auto_rows": null,
      "grid_column": null,
      "grid_gap": null,
      "grid_row": null,
      "grid_template_areas": null,
      "grid_template_columns": null,
      "grid_template_rows": null,
      "height": null,
      "justify_content": null,
      "justify_items": null,
      "left": null,
      "margin": null,
      "max_height": null,
      "max_width": null,
      "min_height": null,
      "min_width": null,
      "object_fit": null,
      "object_position": null,
      "order": null,
      "overflow": null,
      "overflow_x": null,
      "overflow_y": null,
      "padding": null,
      "right": null,
      "top": null,
      "visibility": null,
      "width": null
     }
    },
    "0c18337282e44bfe94fb0233879506fa": {
     "model_module": "@jupyter-widgets/controls",
     "model_name": "FloatProgressModel",
     "state": {
      "_dom_classes": [],
      "_model_module": "@jupyter-widgets/controls",
      "_model_module_version": "1.5.0",
      "_model_name": "FloatProgressModel",
      "_view_count": null,
      "_view_module": "@jupyter-widgets/controls",
      "_view_module_version": "1.5.0",
      "_view_name": "ProgressView",
      "bar_style": "success",
      "description": "",
      "description_tooltip": null,
      "layout": "IPY_MODEL_e8a1b0b41f4142428af4c91ae180e66f",
      "max": 6380,
      "min": 0,
      "orientation": "horizontal",
      "style": "IPY_MODEL_86d1e43c7f244129b4d7bf7fc3d0bd31",
      "value": 6380
     }
    },
    "0c318b6c00cb439591cec8b9ac3ade5c": {
     "model_module": "@jupyter-widgets/base",
     "model_name": "LayoutModel",
     "state": {
      "_model_module": "@jupyter-widgets/base",
      "_model_module_version": "1.2.0",
      "_model_name": "LayoutModel",
      "_view_count": null,
      "_view_module": "@jupyter-widgets/base",
      "_view_module_version": "1.2.0",
      "_view_name": "LayoutView",
      "align_content": null,
      "align_items": null,
      "align_self": null,
      "border": null,
      "bottom": null,
      "display": null,
      "flex": null,
      "flex_flow": null,
      "grid_area": null,
      "grid_auto_columns": null,
      "grid_auto_flow": null,
      "grid_auto_rows": null,
      "grid_column": null,
      "grid_gap": null,
      "grid_row": null,
      "grid_template_areas": null,
      "grid_template_columns": null,
      "grid_template_rows": null,
      "height": null,
      "justify_content": null,
      "justify_items": null,
      "left": null,
      "margin": null,
      "max_height": null,
      "max_width": null,
      "min_height": null,
      "min_width": null,
      "object_fit": null,
      "object_position": null,
      "order": null,
      "overflow": null,
      "overflow_x": null,
      "overflow_y": null,
      "padding": null,
      "right": null,
      "top": null,
      "visibility": null,
      "width": null
     }
    },
    "0eb17cff991c4feabde7098b3cfdfe01": {
     "model_module": "@jupyter-widgets/base",
     "model_name": "LayoutModel",
     "state": {
      "_model_module": "@jupyter-widgets/base",
      "_model_module_version": "1.2.0",
      "_model_name": "LayoutModel",
      "_view_count": null,
      "_view_module": "@jupyter-widgets/base",
      "_view_module_version": "1.2.0",
      "_view_name": "LayoutView",
      "align_content": null,
      "align_items": null,
      "align_self": null,
      "border": null,
      "bottom": null,
      "display": null,
      "flex": null,
      "flex_flow": null,
      "grid_area": null,
      "grid_auto_columns": null,
      "grid_auto_flow": null,
      "grid_auto_rows": null,
      "grid_column": null,
      "grid_gap": null,
      "grid_row": null,
      "grid_template_areas": null,
      "grid_template_columns": null,
      "grid_template_rows": null,
      "height": null,
      "justify_content": null,
      "justify_items": null,
      "left": null,
      "margin": null,
      "max_height": null,
      "max_width": null,
      "min_height": null,
      "min_width": null,
      "object_fit": null,
      "object_position": null,
      "order": null,
      "overflow": null,
      "overflow_x": null,
      "overflow_y": null,
      "padding": null,
      "right": null,
      "top": null,
      "visibility": null,
      "width": null
     }
    },
    "100699f866aa40d1a6857770e641d22f": {
     "model_module": "@jupyter-widgets/base",
     "model_name": "LayoutModel",
     "state": {
      "_model_module": "@jupyter-widgets/base",
      "_model_module_version": "1.2.0",
      "_model_name": "LayoutModel",
      "_view_count": null,
      "_view_module": "@jupyter-widgets/base",
      "_view_module_version": "1.2.0",
      "_view_name": "LayoutView",
      "align_content": null,
      "align_items": null,
      "align_self": null,
      "border": null,
      "bottom": null,
      "display": null,
      "flex": null,
      "flex_flow": null,
      "grid_area": null,
      "grid_auto_columns": null,
      "grid_auto_flow": null,
      "grid_auto_rows": null,
      "grid_column": null,
      "grid_gap": null,
      "grid_row": null,
      "grid_template_areas": null,
      "grid_template_columns": null,
      "grid_template_rows": null,
      "height": null,
      "justify_content": null,
      "justify_items": null,
      "left": null,
      "margin": null,
      "max_height": null,
      "max_width": null,
      "min_height": null,
      "min_width": null,
      "object_fit": null,
      "object_position": null,
      "order": null,
      "overflow": null,
      "overflow_x": null,
      "overflow_y": null,
      "padding": null,
      "right": null,
      "top": null,
      "visibility": null,
      "width": null
     }
    },
    "158c652f675e4bee9866ad4b75bad433": {
     "model_module": "@jupyter-widgets/controls",
     "model_name": "DescriptionStyleModel",
     "state": {
      "_model_module": "@jupyter-widgets/controls",
      "_model_module_version": "1.5.0",
      "_model_name": "DescriptionStyleModel",
      "_view_count": null,
      "_view_module": "@jupyter-widgets/base",
      "_view_module_version": "1.2.0",
      "_view_name": "StyleView",
      "description_width": ""
     }
    },
    "1d5d5b941d344b2f8e44f58ebb80460a": {
     "model_module": "@jupyter-widgets/controls",
     "model_name": "HBoxModel",
     "state": {
      "_dom_classes": [],
      "_model_module": "@jupyter-widgets/controls",
      "_model_module_version": "1.5.0",
      "_model_name": "HBoxModel",
      "_view_count": null,
      "_view_module": "@jupyter-widgets/controls",
      "_view_module_version": "1.5.0",
      "_view_name": "HBoxView",
      "box_style": "",
      "children": [
       "IPY_MODEL_aa68a22905bd44df96ba430eb246d628",
       "IPY_MODEL_ade6470fa991425da49bab1d68bf2a8b",
       "IPY_MODEL_2601b3bc09514889a9172710d2358867"
      ],
      "layout": "IPY_MODEL_abba0b33abf34c8f88af4e62dae11df9"
     }
    },
    "1df527bf7830421aa81cd9aa0929acfd": {
     "model_module": "@jupyter-widgets/controls",
     "model_name": "ProgressStyleModel",
     "state": {
      "_model_module": "@jupyter-widgets/controls",
      "_model_module_version": "1.5.0",
      "_model_name": "ProgressStyleModel",
      "_view_count": null,
      "_view_module": "@jupyter-widgets/base",
      "_view_module_version": "1.2.0",
      "_view_name": "StyleView",
      "bar_color": null,
      "description_width": ""
     }
    },
    "2098ad10b74c43258ec06929ac63b361": {
     "model_module": "@jupyter-widgets/controls",
     "model_name": "DescriptionStyleModel",
     "state": {
      "_model_module": "@jupyter-widgets/controls",
      "_model_module_version": "1.5.0",
      "_model_name": "DescriptionStyleModel",
      "_view_count": null,
      "_view_module": "@jupyter-widgets/base",
      "_view_module_version": "1.2.0",
      "_view_name": "StyleView",
      "description_width": ""
     }
    },
    "24c915b224be405c8260352e43c7adbf": {
     "model_module": "@jupyter-widgets/controls",
     "model_name": "HTMLModel",
     "state": {
      "_dom_classes": [],
      "_model_module": "@jupyter-widgets/controls",
      "_model_module_version": "1.5.0",
      "_model_name": "HTMLModel",
      "_view_count": null,
      "_view_module": "@jupyter-widgets/controls",
      "_view_module_version": "1.5.0",
      "_view_name": "HTMLView",
      "description": "",
      "description_tooltip": null,
      "layout": "IPY_MODEL_de71c4a4f1ac44aea063a16a90cf4ddf",
      "placeholder": "​",
      "style": "IPY_MODEL_a0692f7f60ea4845974ff5fcf40045c5",
      "value": ""
     }
    },
    "2601b3bc09514889a9172710d2358867": {
     "model_module": "@jupyter-widgets/controls",
     "model_name": "HTMLModel",
     "state": {
      "_dom_classes": [],
      "_model_module": "@jupyter-widgets/controls",
      "_model_module_version": "1.5.0",
      "_model_name": "HTMLModel",
      "_view_count": null,
      "_view_module": "@jupyter-widgets/controls",
      "_view_module_version": "1.5.0",
      "_view_name": "HTMLView",
      "description": "",
      "description_tooltip": null,
      "layout": "IPY_MODEL_3236da12e90446ae9f91c57a7c881c19",
      "placeholder": "​",
      "style": "IPY_MODEL_3582922c24ea4fe6b213b282fb328ce6",
      "value": " 248M/248M [00:18&lt;00:00, 21.0MB/s]"
     }
    },
    "2c31f590e926443ea668e7a9f1b93dcb": {
     "model_module": "@jupyter-widgets/controls",
     "model_name": "ProgressStyleModel",
     "state": {
      "_model_module": "@jupyter-widgets/controls",
      "_model_module_version": "1.5.0",
      "_model_name": "ProgressStyleModel",
      "_view_count": null,
      "_view_module": "@jupyter-widgets/base",
      "_view_module_version": "1.2.0",
      "_view_name": "StyleView",
      "bar_color": null,
      "description_width": ""
     }
    },
    "321b79fd73104a16abb2772dbb57f753": {
     "model_module": "@jupyter-widgets/base",
     "model_name": "LayoutModel",
     "state": {
      "_model_module": "@jupyter-widgets/base",
      "_model_module_version": "1.2.0",
      "_model_name": "LayoutModel",
      "_view_count": null,
      "_view_module": "@jupyter-widgets/base",
      "_view_module_version": "1.2.0",
      "_view_name": "LayoutView",
      "align_content": null,
      "align_items": null,
      "align_self": null,
      "border": null,
      "bottom": null,
      "display": null,
      "flex": null,
      "flex_flow": null,
      "grid_area": null,
      "grid_auto_columns": null,
      "grid_auto_flow": null,
      "grid_auto_rows": null,
      "grid_column": null,
      "grid_gap": null,
      "grid_row": null,
      "grid_template_areas": null,
      "grid_template_columns": null,
      "grid_template_rows": null,
      "height": null,
      "justify_content": null,
      "justify_items": null,
      "left": null,
      "margin": null,
      "max_height": null,
      "max_width": null,
      "min_height": null,
      "min_width": null,
      "object_fit": null,
      "object_position": null,
      "order": null,
      "overflow": null,
      "overflow_x": null,
      "overflow_y": null,
      "padding": null,
      "right": null,
      "top": null,
      "visibility": null,
      "width": null
     }
    },
    "3236da12e90446ae9f91c57a7c881c19": {
     "model_module": "@jupyter-widgets/base",
     "model_name": "LayoutModel",
     "state": {
      "_model_module": "@jupyter-widgets/base",
      "_model_module_version": "1.2.0",
      "_model_name": "LayoutModel",
      "_view_count": null,
      "_view_module": "@jupyter-widgets/base",
      "_view_module_version": "1.2.0",
      "_view_name": "LayoutView",
      "align_content": null,
      "align_items": null,
      "align_self": null,
      "border": null,
      "bottom": null,
      "display": null,
      "flex": null,
      "flex_flow": null,
      "grid_area": null,
      "grid_auto_columns": null,
      "grid_auto_flow": null,
      "grid_auto_rows": null,
      "grid_column": null,
      "grid_gap": null,
      "grid_row": null,
      "grid_template_areas": null,
      "grid_template_columns": null,
      "grid_template_rows": null,
      "height": null,
      "justify_content": null,
      "justify_items": null,
      "left": null,
      "margin": null,
      "max_height": null,
      "max_width": null,
      "min_height": null,
      "min_width": null,
      "object_fit": null,
      "object_position": null,
      "order": null,
      "overflow": null,
      "overflow_x": null,
      "overflow_y": null,
      "padding": null,
      "right": null,
      "top": null,
      "visibility": null,
      "width": null
     }
    },
    "33a68a58788d4c778218469ed475f96d": {
     "model_module": "@jupyter-widgets/base",
     "model_name": "LayoutModel",
     "state": {
      "_model_module": "@jupyter-widgets/base",
      "_model_module_version": "1.2.0",
      "_model_name": "LayoutModel",
      "_view_count": null,
      "_view_module": "@jupyter-widgets/base",
      "_view_module_version": "1.2.0",
      "_view_name": "LayoutView",
      "align_content": null,
      "align_items": null,
      "align_self": null,
      "border": null,
      "bottom": null,
      "display": null,
      "flex": null,
      "flex_flow": null,
      "grid_area": null,
      "grid_auto_columns": null,
      "grid_auto_flow": null,
      "grid_auto_rows": null,
      "grid_column": null,
      "grid_gap": null,
      "grid_row": null,
      "grid_template_areas": null,
      "grid_template_columns": null,
      "grid_template_rows": null,
      "height": null,
      "justify_content": null,
      "justify_items": null,
      "left": null,
      "margin": null,
      "max_height": null,
      "max_width": null,
      "min_height": null,
      "min_width": null,
      "object_fit": null,
      "object_position": null,
      "order": null,
      "overflow": null,
      "overflow_x": null,
      "overflow_y": null,
      "padding": null,
      "right": null,
      "top": null,
      "visibility": null,
      "width": null
     }
    },
    "3497d9042125481396edb178f6b5b860": {
     "model_module": "@jupyter-widgets/base",
     "model_name": "LayoutModel",
     "state": {
      "_model_module": "@jupyter-widgets/base",
      "_model_module_version": "1.2.0",
      "_model_name": "LayoutModel",
      "_view_count": null,
      "_view_module": "@jupyter-widgets/base",
      "_view_module_version": "1.2.0",
      "_view_name": "LayoutView",
      "align_content": null,
      "align_items": null,
      "align_self": null,
      "border": null,
      "bottom": null,
      "display": null,
      "flex": null,
      "flex_flow": null,
      "grid_area": null,
      "grid_auto_columns": null,
      "grid_auto_flow": null,
      "grid_auto_rows": null,
      "grid_column": null,
      "grid_gap": null,
      "grid_row": null,
      "grid_template_areas": null,
      "grid_template_columns": null,
      "grid_template_rows": null,
      "height": null,
      "justify_content": null,
      "justify_items": null,
      "left": null,
      "margin": null,
      "max_height": null,
      "max_width": null,
      "min_height": null,
      "min_width": null,
      "object_fit": null,
      "object_position": null,
      "order": null,
      "overflow": null,
      "overflow_x": null,
      "overflow_y": null,
      "padding": null,
      "right": null,
      "top": null,
      "visibility": null,
      "width": null
     }
    },
    "34bdd9ae2e7d443893df1a42ca7c5c83": {
     "model_module": "@jupyter-widgets/controls",
     "model_name": "HBoxModel",
     "state": {
      "_dom_classes": [],
      "_model_module": "@jupyter-widgets/controls",
      "_model_module_version": "1.5.0",
      "_model_name": "HBoxModel",
      "_view_count": null,
      "_view_module": "@jupyter-widgets/controls",
      "_view_module_version": "1.5.0",
      "_view_name": "HBoxView",
      "box_style": "",
      "children": [
       "IPY_MODEL_06aba76c456f40c08211820d816f9074",
       "IPY_MODEL_998de1693ad6472bb36d822338538647",
       "IPY_MODEL_e5fd19a4b6ca41e9ac049d7da778d81a"
      ],
      "layout": "IPY_MODEL_0444ebae7559456d8ad6473b7e592a94"
     }
    },
    "3516016b34be4dcdb315b07704bd0ae7": {
     "model_module": "@jupyter-widgets/controls",
     "model_name": "HTMLModel",
     "state": {
      "_dom_classes": [],
      "_model_module": "@jupyter-widgets/controls",
      "_model_module_version": "1.5.0",
      "_model_name": "HTMLModel",
      "_view_count": null,
      "_view_module": "@jupyter-widgets/controls",
      "_view_module_version": "1.5.0",
      "_view_name": "HTMLView",
      "description": "",
      "description_tooltip": null,
      "layout": "IPY_MODEL_08732dfd12a74468a7459cfc0fcc7b5f",
      "placeholder": "​",
      "style": "IPY_MODEL_158c652f675e4bee9866ad4b75bad433",
      "value": " 3/3 [00:23&lt;00:00,  9.54s/it]"
     }
    },
    "3582922c24ea4fe6b213b282fb328ce6": {
     "model_module": "@jupyter-widgets/controls",
     "model_name": "DescriptionStyleModel",
     "state": {
      "_model_module": "@jupyter-widgets/controls",
      "_model_module_version": "1.5.0",
      "_model_name": "DescriptionStyleModel",
      "_view_count": null,
      "_view_module": "@jupyter-widgets/base",
      "_view_module_version": "1.2.0",
      "_view_name": "StyleView",
      "description_width": ""
     }
    },
    "4c7d59766e914bdd80e666ab7b8fa2d9": {
     "model_module": "@jupyter-widgets/controls",
     "model_name": "HBoxModel",
     "state": {
      "_dom_classes": [],
      "_model_module": "@jupyter-widgets/controls",
      "_model_module_version": "1.5.0",
      "_model_name": "HBoxModel",
      "_view_count": null,
      "_view_module": "@jupyter-widgets/controls",
      "_view_module_version": "1.5.0",
      "_view_name": "HBoxView",
      "box_style": "",
      "children": [
       "IPY_MODEL_4fcd241bb1e0469faf2c687d51e5097c",
       "IPY_MODEL_680b4e1eba4f4ba383e46823031d2285",
       "IPY_MODEL_3516016b34be4dcdb315b07704bd0ae7"
      ],
      "layout": "IPY_MODEL_5c5805f73c684fe6a851111cf1babec5"
     }
    },
    "4e9289b53e964dfcb686059e1a33b4b5": {
     "model_module": "@jupyter-widgets/base",
     "model_name": "LayoutModel",
     "state": {
      "_model_module": "@jupyter-widgets/base",
      "_model_module_version": "1.2.0",
      "_model_name": "LayoutModel",
      "_view_count": null,
      "_view_module": "@jupyter-widgets/base",
      "_view_module_version": "1.2.0",
      "_view_name": "LayoutView",
      "align_content": null,
      "align_items": null,
      "align_self": null,
      "border": null,
      "bottom": null,
      "display": null,
      "flex": null,
      "flex_flow": null,
      "grid_area": null,
      "grid_auto_columns": null,
      "grid_auto_flow": null,
      "grid_auto_rows": null,
      "grid_column": null,
      "grid_gap": null,
      "grid_row": null,
      "grid_template_areas": null,
      "grid_template_columns": null,
      "grid_template_rows": null,
      "height": null,
      "justify_content": null,
      "justify_items": null,
      "left": null,
      "margin": null,
      "max_height": null,
      "max_width": null,
      "min_height": null,
      "min_width": null,
      "object_fit": null,
      "object_position": null,
      "order": null,
      "overflow": null,
      "overflow_x": null,
      "overflow_y": null,
      "padding": null,
      "right": null,
      "top": null,
      "visibility": null,
      "width": "20px"
     }
    },
    "4f219f6d39064c7fa78f049f4a7cb5f6": {
     "model_module": "@jupyter-widgets/base",
     "model_name": "LayoutModel",
     "state": {
      "_model_module": "@jupyter-widgets/base",
      "_model_module_version": "1.2.0",
      "_model_name": "LayoutModel",
      "_view_count": null,
      "_view_module": "@jupyter-widgets/base",
      "_view_module_version": "1.2.0",
      "_view_name": "LayoutView",
      "align_content": null,
      "align_items": null,
      "align_self": null,
      "border": null,
      "bottom": null,
      "display": null,
      "flex": null,
      "flex_flow": null,
      "grid_area": null,
      "grid_auto_columns": null,
      "grid_auto_flow": null,
      "grid_auto_rows": null,
      "grid_column": null,
      "grid_gap": null,
      "grid_row": null,
      "grid_template_areas": null,
      "grid_template_columns": null,
      "grid_template_rows": null,
      "height": null,
      "justify_content": null,
      "justify_items": null,
      "left": null,
      "margin": null,
      "max_height": null,
      "max_width": null,
      "min_height": null,
      "min_width": null,
      "object_fit": null,
      "object_position": null,
      "order": null,
      "overflow": null,
      "overflow_x": null,
      "overflow_y": null,
      "padding": null,
      "right": null,
      "top": null,
      "visibility": null,
      "width": null
     }
    },
    "4fcd241bb1e0469faf2c687d51e5097c": {
     "model_module": "@jupyter-widgets/controls",
     "model_name": "HTMLModel",
     "state": {
      "_dom_classes": [],
      "_model_module": "@jupyter-widgets/controls",
      "_model_module_version": "1.5.0",
      "_model_name": "HTMLModel",
      "_view_count": null,
      "_view_module": "@jupyter-widgets/controls",
      "_view_module_version": "1.5.0",
      "_view_name": "HTMLView",
      "description": "",
      "description_tooltip": null,
      "layout": "IPY_MODEL_5156cafaa3654575a72aa39766bdeb68",
      "placeholder": "​",
      "style": "IPY_MODEL_dd3cc4122a82460a86cff4fa39b8217c",
      "value": "100%"
     }
    },
    "5156cafaa3654575a72aa39766bdeb68": {
     "model_module": "@jupyter-widgets/base",
     "model_name": "LayoutModel",
     "state": {
      "_model_module": "@jupyter-widgets/base",
      "_model_module_version": "1.2.0",
      "_model_name": "LayoutModel",
      "_view_count": null,
      "_view_module": "@jupyter-widgets/base",
      "_view_module_version": "1.2.0",
      "_view_name": "LayoutView",
      "align_content": null,
      "align_items": null,
      "align_self": null,
      "border": null,
      "bottom": null,
      "display": null,
      "flex": null,
      "flex_flow": null,
      "grid_area": null,
      "grid_auto_columns": null,
      "grid_auto_flow": null,
      "grid_auto_rows": null,
      "grid_column": null,
      "grid_gap": null,
      "grid_row": null,
      "grid_template_areas": null,
      "grid_template_columns": null,
      "grid_template_rows": null,
      "height": null,
      "justify_content": null,
      "justify_items": null,
      "left": null,
      "margin": null,
      "max_height": null,
      "max_width": null,
      "min_height": null,
      "min_width": null,
      "object_fit": null,
      "object_position": null,
      "order": null,
      "overflow": null,
      "overflow_x": null,
      "overflow_y": null,
      "padding": null,
      "right": null,
      "top": null,
      "visibility": null,
      "width": null
     }
    },
    "5230a918efa44cd59e52933d0e4c8872": {
     "model_module": "@jupyter-widgets/controls",
     "model_name": "DescriptionStyleModel",
     "state": {
      "_model_module": "@jupyter-widgets/controls",
      "_model_module_version": "1.5.0",
      "_model_name": "DescriptionStyleModel",
      "_view_count": null,
      "_view_module": "@jupyter-widgets/base",
      "_view_module_version": "1.2.0",
      "_view_name": "StyleView",
      "description_width": ""
     }
    },
    "574c28f2ab52481796c85486dfa487b1": {
     "model_module": "@jupyter-widgets/controls",
     "model_name": "HTMLModel",
     "state": {
      "_dom_classes": [],
      "_model_module": "@jupyter-widgets/controls",
      "_model_module_version": "1.5.0",
      "_model_name": "HTMLModel",
      "_view_count": null,
      "_view_module": "@jupyter-widgets/controls",
      "_view_module_version": "1.5.0",
      "_view_name": "HTMLView",
      "description": "",
      "description_tooltip": null,
      "layout": "IPY_MODEL_077b412b380d4763beec91437290215b",
      "placeholder": "​",
      "style": "IPY_MODEL_742aadd676f2447cad29aacf16df3cb6",
      "value": " 204133/? [00:07&lt;00:00, 31109.78it/s]"
     }
    },
    "57d153f90aad4bb7a094511f9c4dbf58": {
     "model_module": "@jupyter-widgets/controls",
     "model_name": "HBoxModel",
     "state": {
      "_dom_classes": [],
      "_model_module": "@jupyter-widgets/controls",
      "_model_module_version": "1.5.0",
      "_model_name": "HBoxModel",
      "_view_count": null,
      "_view_module": "@jupyter-widgets/controls",
      "_view_module_version": "1.5.0",
      "_view_name": "HBoxView",
      "box_style": "",
      "children": [
       "IPY_MODEL_5ee8c9a914bb4882aef4332611a15fa9",
       "IPY_MODEL_868b96cf064a4c0aaf624df15ea73db8",
       "IPY_MODEL_ee2fdc4921264a749a1de4157a87443d"
      ],
      "layout": "IPY_MODEL_321b79fd73104a16abb2772dbb57f753"
     }
    },
    "5853ebec603540748aab1ef080dadf4d": {
     "model_module": "@jupyter-widgets/controls",
     "model_name": "HTMLModel",
     "state": {
      "_dom_classes": [],
      "_model_module": "@jupyter-widgets/controls",
      "_model_module_version": "1.5.0",
      "_model_name": "HTMLModel",
      "_view_count": null,
      "_view_module": "@jupyter-widgets/controls",
      "_view_module_version": "1.5.0",
      "_view_name": "HTMLView",
      "description": "",
      "description_tooltip": null,
      "layout": "IPY_MODEL_0eb17cff991c4feabde7098b3cfdfe01",
      "placeholder": "​",
      "style": "IPY_MODEL_ea21004192fc45dfb6b4901143109332",
      "value": "Batches: 100%"
     }
    },
    "5c5805f73c684fe6a851111cf1babec5": {
     "model_module": "@jupyter-widgets/base",
     "model_name": "LayoutModel",
     "state": {
      "_model_module": "@jupyter-widgets/base",
      "_model_module_version": "1.2.0",
      "_model_name": "LayoutModel",
      "_view_count": null,
      "_view_module": "@jupyter-widgets/base",
      "_view_module_version": "1.2.0",
      "_view_name": "LayoutView",
      "align_content": null,
      "align_items": null,
      "align_self": null,
      "border": null,
      "bottom": null,
      "display": null,
      "flex": null,
      "flex_flow": null,
      "grid_area": null,
      "grid_auto_columns": null,
      "grid_auto_flow": null,
      "grid_auto_rows": null,
      "grid_column": null,
      "grid_gap": null,
      "grid_row": null,
      "grid_template_areas": null,
      "grid_template_columns": null,
      "grid_template_rows": null,
      "height": null,
      "justify_content": null,
      "justify_items": null,
      "left": null,
      "margin": null,
      "max_height": null,
      "max_width": null,
      "min_height": null,
      "min_width": null,
      "object_fit": null,
      "object_position": null,
      "order": null,
      "overflow": null,
      "overflow_x": null,
      "overflow_y": null,
      "padding": null,
      "right": null,
      "top": null,
      "visibility": null,
      "width": null
     }
    },
    "5ee8c9a914bb4882aef4332611a15fa9": {
     "model_module": "@jupyter-widgets/controls",
     "model_name": "HTMLModel",
     "state": {
      "_dom_classes": [],
      "_model_module": "@jupyter-widgets/controls",
      "_model_module_version": "1.5.0",
      "_model_name": "HTMLModel",
      "_view_count": null,
      "_view_module": "@jupyter-widgets/controls",
      "_view_module_version": "1.5.0",
      "_view_name": "HTMLView",
      "description": "",
      "description_tooltip": null,
      "layout": "IPY_MODEL_c5c7bf7db93b400191e2aba4d67543b9",
      "placeholder": "​",
      "style": "IPY_MODEL_86951c7df44745449be1a1f9f543f2a1",
      "value": "Batches: 100%"
     }
    },
    "67305bb07ea348feb2173c52d38e863d": {
     "model_module": "@jupyter-widgets/controls",
     "model_name": "HTMLModel",
     "state": {
      "_dom_classes": [],
      "_model_module": "@jupyter-widgets/controls",
      "_model_module_version": "1.5.0",
      "_model_name": "HTMLModel",
      "_view_count": null,
      "_view_module": "@jupyter-widgets/controls",
      "_view_module_version": "1.5.0",
      "_view_name": "HTMLView",
      "description": "",
      "description_tooltip": null,
      "layout": "IPY_MODEL_100699f866aa40d1a6857770e641d22f",
      "placeholder": "​",
      "style": "IPY_MODEL_5230a918efa44cd59e52933d0e4c8872",
      "value": ""
     }
    },
    "680b4e1eba4f4ba383e46823031d2285": {
     "model_module": "@jupyter-widgets/controls",
     "model_name": "FloatProgressModel",
     "state": {
      "_dom_classes": [],
      "_model_module": "@jupyter-widgets/controls",
      "_model_module_version": "1.5.0",
      "_model_name": "FloatProgressModel",
      "_view_count": null,
      "_view_module": "@jupyter-widgets/controls",
      "_view_module_version": "1.5.0",
      "_view_name": "ProgressView",
      "bar_style": "success",
      "description": "",
      "description_tooltip": null,
      "layout": "IPY_MODEL_b4bb283d600744fe846e0358cbb87c26",
      "max": 3,
      "min": 0,
      "orientation": "horizontal",
      "style": "IPY_MODEL_032101bc570c47ee82f33b0954d3a77e",
      "value": 3
     }
    },
    "6b2c5e2b2e5d4844b4624876bdc9331b": {
     "model_module": "@jupyter-widgets/base",
     "model_name": "LayoutModel",
     "state": {
      "_model_module": "@jupyter-widgets/base",
      "_model_module_version": "1.2.0",
      "_model_name": "LayoutModel",
      "_view_count": null,
      "_view_module": "@jupyter-widgets/base",
      "_view_module_version": "1.2.0",
      "_view_name": "LayoutView",
      "align_content": null,
      "align_items": null,
      "align_self": null,
      "border": null,
      "bottom": null,
      "display": null,
      "flex": null,
      "flex_flow": null,
      "grid_area": null,
      "grid_auto_columns": null,
      "grid_auto_flow": null,
      "grid_auto_rows": null,
      "grid_column": null,
      "grid_gap": null,
      "grid_row": null,
      "grid_template_areas": null,
      "grid_template_columns": null,
      "grid_template_rows": null,
      "height": null,
      "justify_content": null,
      "justify_items": null,
      "left": null,
      "margin": null,
      "max_height": null,
      "max_width": null,
      "min_height": null,
      "min_width": null,
      "object_fit": null,
      "object_position": null,
      "order": null,
      "overflow": null,
      "overflow_x": null,
      "overflow_y": null,
      "padding": null,
      "right": null,
      "top": null,
      "visibility": null,
      "width": null
     }
    },
    "713e863fd0824be9bd6e196b1fc27c37": {
     "model_module": "@jupyter-widgets/controls",
     "model_name": "DescriptionStyleModel",
     "state": {
      "_model_module": "@jupyter-widgets/controls",
      "_model_module_version": "1.5.0",
      "_model_name": "DescriptionStyleModel",
      "_view_count": null,
      "_view_module": "@jupyter-widgets/base",
      "_view_module_version": "1.2.0",
      "_view_name": "StyleView",
      "description_width": ""
     }
    },
    "73920cf574fb42fe9b5580787fc7d763": {
     "model_module": "@jupyter-widgets/controls",
     "model_name": "DescriptionStyleModel",
     "state": {
      "_model_module": "@jupyter-widgets/controls",
      "_model_module_version": "1.5.0",
      "_model_name": "DescriptionStyleModel",
      "_view_count": null,
      "_view_module": "@jupyter-widgets/base",
      "_view_module_version": "1.2.0",
      "_view_name": "StyleView",
      "description_width": ""
     }
    },
    "742aadd676f2447cad29aacf16df3cb6": {
     "model_module": "@jupyter-widgets/controls",
     "model_name": "DescriptionStyleModel",
     "state": {
      "_model_module": "@jupyter-widgets/controls",
      "_model_module_version": "1.5.0",
      "_model_name": "DescriptionStyleModel",
      "_view_count": null,
      "_view_module": "@jupyter-widgets/base",
      "_view_module_version": "1.2.0",
      "_view_name": "StyleView",
      "description_width": ""
     }
    },
    "7b9bdcbd76d044359d95b9810db75147": {
     "model_module": "@jupyter-widgets/controls",
     "model_name": "DescriptionStyleModel",
     "state": {
      "_model_module": "@jupyter-widgets/controls",
      "_model_module_version": "1.5.0",
      "_model_name": "DescriptionStyleModel",
      "_view_count": null,
      "_view_module": "@jupyter-widgets/base",
      "_view_module_version": "1.2.0",
      "_view_name": "StyleView",
      "description_width": ""
     }
    },
    "8432ef2674e94bc8aa2a4f392ff52d5f": {
     "model_module": "@jupyter-widgets/controls",
     "model_name": "HTMLModel",
     "state": {
      "_dom_classes": [],
      "_model_module": "@jupyter-widgets/controls",
      "_model_module_version": "1.5.0",
      "_model_name": "HTMLModel",
      "_view_count": null,
      "_view_module": "@jupyter-widgets/controls",
      "_view_module_version": "1.5.0",
      "_view_name": "HTMLView",
      "description": "",
      "description_tooltip": null,
      "layout": "IPY_MODEL_d65bf9b21607484a80af0984e171cc96",
      "placeholder": "​",
      "style": "IPY_MODEL_713e863fd0824be9bd6e196b1fc27c37",
      "value": " 6380/6380 [00:14&lt;00:00, 710.06it/s]"
     }
    },
    "868b96cf064a4c0aaf624df15ea73db8": {
     "model_module": "@jupyter-widgets/controls",
     "model_name": "FloatProgressModel",
     "state": {
      "_dom_classes": [],
      "_model_module": "@jupyter-widgets/controls",
      "_model_module_version": "1.5.0",
      "_model_name": "FloatProgressModel",
      "_view_count": null,
      "_view_module": "@jupyter-widgets/controls",
      "_view_module_version": "1.5.0",
      "_view_name": "ProgressView",
      "bar_style": "success",
      "description": "",
      "description_tooltip": null,
      "layout": "IPY_MODEL_b2786ddcb6c844ebaba0cc30cf9b5b42",
      "max": 6380,
      "min": 0,
      "orientation": "horizontal",
      "style": "IPY_MODEL_d2adf6f9ab374843836218619947e469",
      "value": 6380
     }
    },
    "86951c7df44745449be1a1f9f543f2a1": {
     "model_module": "@jupyter-widgets/controls",
     "model_name": "DescriptionStyleModel",
     "state": {
      "_model_module": "@jupyter-widgets/controls",
      "_model_module_version": "1.5.0",
      "_model_name": "DescriptionStyleModel",
      "_view_count": null,
      "_view_module": "@jupyter-widgets/base",
      "_view_module_version": "1.2.0",
      "_view_name": "StyleView",
      "description_width": ""
     }
    },
    "86d1e43c7f244129b4d7bf7fc3d0bd31": {
     "model_module": "@jupyter-widgets/controls",
     "model_name": "ProgressStyleModel",
     "state": {
      "_model_module": "@jupyter-widgets/controls",
      "_model_module_version": "1.5.0",
      "_model_name": "ProgressStyleModel",
      "_view_count": null,
      "_view_module": "@jupyter-widgets/base",
      "_view_module_version": "1.2.0",
      "_view_name": "StyleView",
      "bar_color": null,
      "description_width": ""
     }
    },
    "891c0ca5765b4db1b5429cb2fef04045": {
     "model_module": "@jupyter-widgets/controls",
     "model_name": "HTMLModel",
     "state": {
      "_dom_classes": [],
      "_model_module": "@jupyter-widgets/controls",
      "_model_module_version": "1.5.0",
      "_model_name": "HTMLModel",
      "_view_count": null,
      "_view_module": "@jupyter-widgets/controls",
      "_view_module_version": "1.5.0",
      "_view_name": "HTMLView",
      "description": "",
      "description_tooltip": null,
      "layout": "IPY_MODEL_b9ebd41421aa460ab82e98039f882613",
      "placeholder": "​",
      "style": "IPY_MODEL_d932885b9d3e457f9cfb59294235e56f",
      "value": " 1/1 [00:12&lt;00:00,  2.18s/it]"
     }
    },
    "8c4b201090734b7cb72ca976dc2a68d1": {
     "model_module": "@jupyter-widgets/controls",
     "model_name": "DescriptionStyleModel",
     "state": {
      "_model_module": "@jupyter-widgets/controls",
      "_model_module_version": "1.5.0",
      "_model_name": "DescriptionStyleModel",
      "_view_count": null,
      "_view_module": "@jupyter-widgets/base",
      "_view_module_version": "1.2.0",
      "_view_name": "StyleView",
      "description_width": ""
     }
    },
    "8d27b71a17414b7a95e0d7208de97c22": {
     "model_module": "@jupyter-widgets/controls",
     "model_name": "ProgressStyleModel",
     "state": {
      "_model_module": "@jupyter-widgets/controls",
      "_model_module_version": "1.5.0",
      "_model_name": "ProgressStyleModel",
      "_view_count": null,
      "_view_module": "@jupyter-widgets/base",
      "_view_module_version": "1.2.0",
      "_view_name": "StyleView",
      "bar_color": null,
      "description_width": ""
     }
    },
    "905205446e604e81bea0376167df20ea": {
     "model_module": "@jupyter-widgets/base",
     "model_name": "LayoutModel",
     "state": {
      "_model_module": "@jupyter-widgets/base",
      "_model_module_version": "1.2.0",
      "_model_name": "LayoutModel",
      "_view_count": null,
      "_view_module": "@jupyter-widgets/base",
      "_view_module_version": "1.2.0",
      "_view_name": "LayoutView",
      "align_content": null,
      "align_items": null,
      "align_self": null,
      "border": null,
      "bottom": null,
      "display": null,
      "flex": null,
      "flex_flow": null,
      "grid_area": null,
      "grid_auto_columns": null,
      "grid_auto_flow": null,
      "grid_auto_rows": null,
      "grid_column": null,
      "grid_gap": null,
      "grid_row": null,
      "grid_template_areas": null,
      "grid_template_columns": null,
      "grid_template_rows": null,
      "height": null,
      "justify_content": null,
      "justify_items": null,
      "left": null,
      "margin": null,
      "max_height": null,
      "max_width": null,
      "min_height": null,
      "min_width": null,
      "object_fit": null,
      "object_position": null,
      "order": null,
      "overflow": null,
      "overflow_x": null,
      "overflow_y": null,
      "padding": null,
      "right": null,
      "top": null,
      "visibility": null,
      "width": null
     }
    },
    "921085294591418fa719cbbaa36eb0ba": {
     "model_module": "@jupyter-widgets/controls",
     "model_name": "HBoxModel",
     "state": {
      "_dom_classes": [],
      "_model_module": "@jupyter-widgets/controls",
      "_model_module_version": "1.5.0",
      "_model_name": "HBoxModel",
      "_view_count": null,
      "_view_module": "@jupyter-widgets/controls",
      "_view_module_version": "1.5.0",
      "_view_name": "HBoxView",
      "box_style": "",
      "children": [
       "IPY_MODEL_67305bb07ea348feb2173c52d38e863d",
       "IPY_MODEL_dbe0ec9fa2b4477992dc009a8345a2e7",
       "IPY_MODEL_574c28f2ab52481796c85486dfa487b1"
      ],
      "layout": "IPY_MODEL_33a68a58788d4c778218469ed475f96d"
     }
    },
    "998de1693ad6472bb36d822338538647": {
     "model_module": "@jupyter-widgets/controls",
     "model_name": "FloatProgressModel",
     "state": {
      "_dom_classes": [],
      "_model_module": "@jupyter-widgets/controls",
      "_model_module_version": "1.5.0",
      "_model_name": "FloatProgressModel",
      "_view_count": null,
      "_view_module": "@jupyter-widgets/controls",
      "_view_module_version": "1.5.0",
      "_view_name": "ProgressView",
      "bar_style": "success",
      "description": "",
      "description_tooltip": null,
      "layout": "IPY_MODEL_047e6e6ad2ad4ba6adf6ee634bcdffd0",
      "max": 1,
      "min": 0,
      "orientation": "horizontal",
      "style": "IPY_MODEL_1df527bf7830421aa81cd9aa0929acfd",
      "value": 1
     }
    },
    "9d3d174e153f4c58ada0fe924fb64e70": {
     "model_module": "@jupyter-widgets/base",
     "model_name": "LayoutModel",
     "state": {
      "_model_module": "@jupyter-widgets/base",
      "_model_module_version": "1.2.0",
      "_model_name": "LayoutModel",
      "_view_count": null,
      "_view_module": "@jupyter-widgets/base",
      "_view_module_version": "1.2.0",
      "_view_name": "LayoutView",
      "align_content": null,
      "align_items": null,
      "align_self": null,
      "border": null,
      "bottom": null,
      "display": null,
      "flex": null,
      "flex_flow": null,
      "grid_area": null,
      "grid_auto_columns": null,
      "grid_auto_flow": null,
      "grid_auto_rows": null,
      "grid_column": null,
      "grid_gap": null,
      "grid_row": null,
      "grid_template_areas": null,
      "grid_template_columns": null,
      "grid_template_rows": null,
      "height": null,
      "justify_content": null,
      "justify_items": null,
      "left": null,
      "margin": null,
      "max_height": null,
      "max_width": null,
      "min_height": null,
      "min_width": null,
      "object_fit": null,
      "object_position": null,
      "order": null,
      "overflow": null,
      "overflow_x": null,
      "overflow_y": null,
      "padding": null,
      "right": null,
      "top": null,
      "visibility": null,
      "width": null
     }
    },
    "9da84ba6894d483ba8c5965e7f7008c4": {
     "model_module": "@jupyter-widgets/controls",
     "model_name": "HBoxModel",
     "state": {
      "_dom_classes": [],
      "_model_module": "@jupyter-widgets/controls",
      "_model_module_version": "1.5.0",
      "_model_name": "HBoxModel",
      "_view_count": null,
      "_view_module": "@jupyter-widgets/controls",
      "_view_module_version": "1.5.0",
      "_view_name": "HBoxView",
      "box_style": "",
      "children": [
       "IPY_MODEL_24c915b224be405c8260352e43c7adbf",
       "IPY_MODEL_ffea8c4df2694428a02ee036e248a47c",
       "IPY_MODEL_d04f5f60aa734139b6ecc42bed649f46"
      ],
      "layout": "IPY_MODEL_0c318b6c00cb439591cec8b9ac3ade5c"
     }
    },
    "a0692f7f60ea4845974ff5fcf40045c5": {
     "model_module": "@jupyter-widgets/controls",
     "model_name": "DescriptionStyleModel",
     "state": {
      "_model_module": "@jupyter-widgets/controls",
      "_model_module_version": "1.5.0",
      "_model_name": "DescriptionStyleModel",
      "_view_count": null,
      "_view_module": "@jupyter-widgets/base",
      "_view_module_version": "1.2.0",
      "_view_name": "StyleView",
      "description_width": ""
     }
    },
    "a1ae0d615f3d4df39b34b917c559b67d": {
     "model_module": "@jupyter-widgets/base",
     "model_name": "LayoutModel",
     "state": {
      "_model_module": "@jupyter-widgets/base",
      "_model_module_version": "1.2.0",
      "_model_name": "LayoutModel",
      "_view_count": null,
      "_view_module": "@jupyter-widgets/base",
      "_view_module_version": "1.2.0",
      "_view_name": "LayoutView",
      "align_content": null,
      "align_items": null,
      "align_self": null,
      "border": null,
      "bottom": null,
      "display": null,
      "flex": null,
      "flex_flow": null,
      "grid_area": null,
      "grid_auto_columns": null,
      "grid_auto_flow": null,
      "grid_auto_rows": null,
      "grid_column": null,
      "grid_gap": null,
      "grid_row": null,
      "grid_template_areas": null,
      "grid_template_columns": null,
      "grid_template_rows": null,
      "height": null,
      "justify_content": null,
      "justify_items": null,
      "left": null,
      "margin": null,
      "max_height": null,
      "max_width": null,
      "min_height": null,
      "min_width": null,
      "object_fit": null,
      "object_position": null,
      "order": null,
      "overflow": null,
      "overflow_x": null,
      "overflow_y": null,
      "padding": null,
      "right": null,
      "top": null,
      "visibility": null,
      "width": "20px"
     }
    },
    "a56a0cc598304bd19e7cdff9879e76a8": {
     "model_module": "@jupyter-widgets/base",
     "model_name": "LayoutModel",
     "state": {
      "_model_module": "@jupyter-widgets/base",
      "_model_module_version": "1.2.0",
      "_model_name": "LayoutModel",
      "_view_count": null,
      "_view_module": "@jupyter-widgets/base",
      "_view_module_version": "1.2.0",
      "_view_name": "LayoutView",
      "align_content": null,
      "align_items": null,
      "align_self": null,
      "border": null,
      "bottom": null,
      "display": null,
      "flex": null,
      "flex_flow": null,
      "grid_area": null,
      "grid_auto_columns": null,
      "grid_auto_flow": null,
      "grid_auto_rows": null,
      "grid_column": null,
      "grid_gap": null,
      "grid_row": null,
      "grid_template_areas": null,
      "grid_template_columns": null,
      "grid_template_rows": null,
      "height": null,
      "justify_content": null,
      "justify_items": null,
      "left": null,
      "margin": null,
      "max_height": null,
      "max_width": null,
      "min_height": null,
      "min_width": null,
      "object_fit": null,
      "object_position": null,
      "order": null,
      "overflow": null,
      "overflow_x": null,
      "overflow_y": null,
      "padding": null,
      "right": null,
      "top": null,
      "visibility": null,
      "width": null
     }
    },
    "a66a58b9e20d4fa886e68cc1f6991ba0": {
     "model_module": "@jupyter-widgets/controls",
     "model_name": "HBoxModel",
     "state": {
      "_dom_classes": [],
      "_model_module": "@jupyter-widgets/controls",
      "_model_module_version": "1.5.0",
      "_model_name": "HBoxModel",
      "_view_count": null,
      "_view_module": "@jupyter-widgets/controls",
      "_view_module_version": "1.5.0",
      "_view_name": "HBoxView",
      "box_style": "",
      "children": [
       "IPY_MODEL_b442223dd6e2484a93bbee8b7e4dd08e",
       "IPY_MODEL_d7ad2f16ab3d46968f14edabcd2c0148",
       "IPY_MODEL_891c0ca5765b4db1b5429cb2fef04045"
      ],
      "layout": "IPY_MODEL_aa197b1b16df4b8b8b0cf9ba62803617"
     }
    },
    "aa197b1b16df4b8b8b0cf9ba62803617": {
     "model_module": "@jupyter-widgets/base",
     "model_name": "LayoutModel",
     "state": {
      "_model_module": "@jupyter-widgets/base",
      "_model_module_version": "1.2.0",
      "_model_name": "LayoutModel",
      "_view_count": null,
      "_view_module": "@jupyter-widgets/base",
      "_view_module_version": "1.2.0",
      "_view_name": "LayoutView",
      "align_content": null,
      "align_items": null,
      "align_self": null,
      "border": null,
      "bottom": null,
      "display": null,
      "flex": null,
      "flex_flow": null,
      "grid_area": null,
      "grid_auto_columns": null,
      "grid_auto_flow": null,
      "grid_auto_rows": null,
      "grid_column": null,
      "grid_gap": null,
      "grid_row": null,
      "grid_template_areas": null,
      "grid_template_columns": null,
      "grid_template_rows": null,
      "height": null,
      "justify_content": null,
      "justify_items": null,
      "left": null,
      "margin": null,
      "max_height": null,
      "max_width": null,
      "min_height": null,
      "min_width": null,
      "object_fit": null,
      "object_position": null,
      "order": null,
      "overflow": null,
      "overflow_x": null,
      "overflow_y": null,
      "padding": null,
      "right": null,
      "top": null,
      "visibility": null,
      "width": null
     }
    },
    "aa68a22905bd44df96ba430eb246d628": {
     "model_module": "@jupyter-widgets/controls",
     "model_name": "HTMLModel",
     "state": {
      "_dom_classes": [],
      "_model_module": "@jupyter-widgets/controls",
      "_model_module_version": "1.5.0",
      "_model_name": "HTMLModel",
      "_view_count": null,
      "_view_module": "@jupyter-widgets/controls",
      "_view_module_version": "1.5.0",
      "_view_name": "HTMLView",
      "description": "",
      "description_tooltip": null,
      "layout": "IPY_MODEL_f6f43f21ddef4faaaebca581a980a87a",
      "placeholder": "​",
      "style": "IPY_MODEL_8c4b201090734b7cb72ca976dc2a68d1",
      "value": "100%"
     }
    },
    "abba0b33abf34c8f88af4e62dae11df9": {
     "model_module": "@jupyter-widgets/base",
     "model_name": "LayoutModel",
     "state": {
      "_model_module": "@jupyter-widgets/base",
      "_model_module_version": "1.2.0",
      "_model_name": "LayoutModel",
      "_view_count": null,
      "_view_module": "@jupyter-widgets/base",
      "_view_module_version": "1.2.0",
      "_view_name": "LayoutView",
      "align_content": null,
      "align_items": null,
      "align_self": null,
      "border": null,
      "bottom": null,
      "display": null,
      "flex": null,
      "flex_flow": null,
      "grid_area": null,
      "grid_auto_columns": null,
      "grid_auto_flow": null,
      "grid_auto_rows": null,
      "grid_column": null,
      "grid_gap": null,
      "grid_row": null,
      "grid_template_areas": null,
      "grid_template_columns": null,
      "grid_template_rows": null,
      "height": null,
      "justify_content": null,
      "justify_items": null,
      "left": null,
      "margin": null,
      "max_height": null,
      "max_width": null,
      "min_height": null,
      "min_width": null,
      "object_fit": null,
      "object_position": null,
      "order": null,
      "overflow": null,
      "overflow_x": null,
      "overflow_y": null,
      "padding": null,
      "right": null,
      "top": null,
      "visibility": null,
      "width": null
     }
    },
    "ade6470fa991425da49bab1d68bf2a8b": {
     "model_module": "@jupyter-widgets/controls",
     "model_name": "FloatProgressModel",
     "state": {
      "_dom_classes": [],
      "_model_module": "@jupyter-widgets/controls",
      "_model_module_version": "1.5.0",
      "_model_name": "FloatProgressModel",
      "_view_count": null,
      "_view_module": "@jupyter-widgets/controls",
      "_view_module_version": "1.5.0",
      "_view_name": "ProgressView",
      "bar_style": "success",
      "description": "",
      "description_tooltip": null,
      "layout": "IPY_MODEL_6b2c5e2b2e5d4844b4624876bdc9331b",
      "max": 248168287,
      "min": 0,
      "orientation": "horizontal",
      "style": "IPY_MODEL_cfbec736df09473383605f14cab5002e",
      "value": 248168287
     }
    },
    "b1c4c74977d2444cadae163342893899": {
     "model_module": "@jupyter-widgets/base",
     "model_name": "LayoutModel",
     "state": {
      "_model_module": "@jupyter-widgets/base",
      "_model_module_version": "1.2.0",
      "_model_name": "LayoutModel",
      "_view_count": null,
      "_view_module": "@jupyter-widgets/base",
      "_view_module_version": "1.2.0",
      "_view_name": "LayoutView",
      "align_content": null,
      "align_items": null,
      "align_self": null,
      "border": null,
      "bottom": null,
      "display": null,
      "flex": null,
      "flex_flow": null,
      "grid_area": null,
      "grid_auto_columns": null,
      "grid_auto_flow": null,
      "grid_auto_rows": null,
      "grid_column": null,
      "grid_gap": null,
      "grid_row": null,
      "grid_template_areas": null,
      "grid_template_columns": null,
      "grid_template_rows": null,
      "height": null,
      "justify_content": null,
      "justify_items": null,
      "left": null,
      "margin": null,
      "max_height": null,
      "max_width": null,
      "min_height": null,
      "min_width": null,
      "object_fit": null,
      "object_position": null,
      "order": null,
      "overflow": null,
      "overflow_x": null,
      "overflow_y": null,
      "padding": null,
      "right": null,
      "top": null,
      "visibility": null,
      "width": null
     }
    },
    "b2786ddcb6c844ebaba0cc30cf9b5b42": {
     "model_module": "@jupyter-widgets/base",
     "model_name": "LayoutModel",
     "state": {
      "_model_module": "@jupyter-widgets/base",
      "_model_module_version": "1.2.0",
      "_model_name": "LayoutModel",
      "_view_count": null,
      "_view_module": "@jupyter-widgets/base",
      "_view_module_version": "1.2.0",
      "_view_name": "LayoutView",
      "align_content": null,
      "align_items": null,
      "align_self": null,
      "border": null,
      "bottom": null,
      "display": null,
      "flex": null,
      "flex_flow": null,
      "grid_area": null,
      "grid_auto_columns": null,
      "grid_auto_flow": null,
      "grid_auto_rows": null,
      "grid_column": null,
      "grid_gap": null,
      "grid_row": null,
      "grid_template_areas": null,
      "grid_template_columns": null,
      "grid_template_rows": null,
      "height": null,
      "justify_content": null,
      "justify_items": null,
      "left": null,
      "margin": null,
      "max_height": null,
      "max_width": null,
      "min_height": null,
      "min_width": null,
      "object_fit": null,
      "object_position": null,
      "order": null,
      "overflow": null,
      "overflow_x": null,
      "overflow_y": null,
      "padding": null,
      "right": null,
      "top": null,
      "visibility": null,
      "width": null
     }
    },
    "b442223dd6e2484a93bbee8b7e4dd08e": {
     "model_module": "@jupyter-widgets/controls",
     "model_name": "HTMLModel",
     "state": {
      "_dom_classes": [],
      "_model_module": "@jupyter-widgets/controls",
      "_model_module_version": "1.5.0",
      "_model_name": "HTMLModel",
      "_view_count": null,
      "_view_module": "@jupyter-widgets/controls",
      "_view_module_version": "1.5.0",
      "_view_name": "HTMLView",
      "description": "",
      "description_tooltip": null,
      "layout": "IPY_MODEL_4f219f6d39064c7fa78f049f4a7cb5f6",
      "placeholder": "​",
      "style": "IPY_MODEL_7b9bdcbd76d044359d95b9810db75147",
      "value": "100%"
     }
    },
    "b4bb283d600744fe846e0358cbb87c26": {
     "model_module": "@jupyter-widgets/base",
     "model_name": "LayoutModel",
     "state": {
      "_model_module": "@jupyter-widgets/base",
      "_model_module_version": "1.2.0",
      "_model_name": "LayoutModel",
      "_view_count": null,
      "_view_module": "@jupyter-widgets/base",
      "_view_module_version": "1.2.0",
      "_view_name": "LayoutView",
      "align_content": null,
      "align_items": null,
      "align_self": null,
      "border": null,
      "bottom": null,
      "display": null,
      "flex": null,
      "flex_flow": null,
      "grid_area": null,
      "grid_auto_columns": null,
      "grid_auto_flow": null,
      "grid_auto_rows": null,
      "grid_column": null,
      "grid_gap": null,
      "grid_row": null,
      "grid_template_areas": null,
      "grid_template_columns": null,
      "grid_template_rows": null,
      "height": null,
      "justify_content": null,
      "justify_items": null,
      "left": null,
      "margin": null,
      "max_height": null,
      "max_width": null,
      "min_height": null,
      "min_width": null,
      "object_fit": null,
      "object_position": null,
      "order": null,
      "overflow": null,
      "overflow_x": null,
      "overflow_y": null,
      "padding": null,
      "right": null,
      "top": null,
      "visibility": null,
      "width": null
     }
    },
    "b9ebd41421aa460ab82e98039f882613": {
     "model_module": "@jupyter-widgets/base",
     "model_name": "LayoutModel",
     "state": {
      "_model_module": "@jupyter-widgets/base",
      "_model_module_version": "1.2.0",
      "_model_name": "LayoutModel",
      "_view_count": null,
      "_view_module": "@jupyter-widgets/base",
      "_view_module_version": "1.2.0",
      "_view_name": "LayoutView",
      "align_content": null,
      "align_items": null,
      "align_self": null,
      "border": null,
      "bottom": null,
      "display": null,
      "flex": null,
      "flex_flow": null,
      "grid_area": null,
      "grid_auto_columns": null,
      "grid_auto_flow": null,
      "grid_auto_rows": null,
      "grid_column": null,
      "grid_gap": null,
      "grid_row": null,
      "grid_template_areas": null,
      "grid_template_columns": null,
      "grid_template_rows": null,
      "height": null,
      "justify_content": null,
      "justify_items": null,
      "left": null,
      "margin": null,
      "max_height": null,
      "max_width": null,
      "min_height": null,
      "min_width": null,
      "object_fit": null,
      "object_position": null,
      "order": null,
      "overflow": null,
      "overflow_x": null,
      "overflow_y": null,
      "padding": null,
      "right": null,
      "top": null,
      "visibility": null,
      "width": null
     }
    },
    "c5c7bf7db93b400191e2aba4d67543b9": {
     "model_module": "@jupyter-widgets/base",
     "model_name": "LayoutModel",
     "state": {
      "_model_module": "@jupyter-widgets/base",
      "_model_module_version": "1.2.0",
      "_model_name": "LayoutModel",
      "_view_count": null,
      "_view_module": "@jupyter-widgets/base",
      "_view_module_version": "1.2.0",
      "_view_name": "LayoutView",
      "align_content": null,
      "align_items": null,
      "align_self": null,
      "border": null,
      "bottom": null,
      "display": null,
      "flex": null,
      "flex_flow": null,
      "grid_area": null,
      "grid_auto_columns": null,
      "grid_auto_flow": null,
      "grid_auto_rows": null,
      "grid_column": null,
      "grid_gap": null,
      "grid_row": null,
      "grid_template_areas": null,
      "grid_template_columns": null,
      "grid_template_rows": null,
      "height": null,
      "justify_content": null,
      "justify_items": null,
      "left": null,
      "margin": null,
      "max_height": null,
      "max_width": null,
      "min_height": null,
      "min_width": null,
      "object_fit": null,
      "object_position": null,
      "order": null,
      "overflow": null,
      "overflow_x": null,
      "overflow_y": null,
      "padding": null,
      "right": null,
      "top": null,
      "visibility": null,
      "width": null
     }
    },
    "c63c1942efed4783b1c5c9c6ffc23ecc": {
     "model_module": "@jupyter-widgets/controls",
     "model_name": "HBoxModel",
     "state": {
      "_dom_classes": [],
      "_model_module": "@jupyter-widgets/controls",
      "_model_module_version": "1.5.0",
      "_model_name": "HBoxModel",
      "_view_count": null,
      "_view_module": "@jupyter-widgets/controls",
      "_view_module_version": "1.5.0",
      "_view_name": "HBoxView",
      "box_style": "",
      "children": [
       "IPY_MODEL_5853ebec603540748aab1ef080dadf4d",
       "IPY_MODEL_0c18337282e44bfe94fb0233879506fa",
       "IPY_MODEL_8432ef2674e94bc8aa2a4f392ff52d5f"
      ],
      "layout": "IPY_MODEL_905205446e604e81bea0376167df20ea"
     }
    },
    "c64071d86be2459a8ebab43ad29ac10e": {
     "model_module": "@jupyter-widgets/base",
     "model_name": "LayoutModel",
     "state": {
      "_model_module": "@jupyter-widgets/base",
      "_model_module_version": "1.2.0",
      "_model_name": "LayoutModel",
      "_view_count": null,
      "_view_module": "@jupyter-widgets/base",
      "_view_module_version": "1.2.0",
      "_view_name": "LayoutView",
      "align_content": null,
      "align_items": null,
      "align_self": null,
      "border": null,
      "bottom": null,
      "display": null,
      "flex": null,
      "flex_flow": null,
      "grid_area": null,
      "grid_auto_columns": null,
      "grid_auto_flow": null,
      "grid_auto_rows": null,
      "grid_column": null,
      "grid_gap": null,
      "grid_row": null,
      "grid_template_areas": null,
      "grid_template_columns": null,
      "grid_template_rows": null,
      "height": null,
      "justify_content": null,
      "justify_items": null,
      "left": null,
      "margin": null,
      "max_height": null,
      "max_width": null,
      "min_height": null,
      "min_width": null,
      "object_fit": null,
      "object_position": null,
      "order": null,
      "overflow": null,
      "overflow_x": null,
      "overflow_y": null,
      "padding": null,
      "right": null,
      "top": null,
      "visibility": null,
      "width": null
     }
    },
    "cfbec736df09473383605f14cab5002e": {
     "model_module": "@jupyter-widgets/controls",
     "model_name": "ProgressStyleModel",
     "state": {
      "_model_module": "@jupyter-widgets/controls",
      "_model_module_version": "1.5.0",
      "_model_name": "ProgressStyleModel",
      "_view_count": null,
      "_view_module": "@jupyter-widgets/base",
      "_view_module_version": "1.2.0",
      "_view_name": "StyleView",
      "bar_color": null,
      "description_width": ""
     }
    },
    "d04f5f60aa734139b6ecc42bed649f46": {
     "model_module": "@jupyter-widgets/controls",
     "model_name": "HTMLModel",
     "state": {
      "_dom_classes": [],
      "_model_module": "@jupyter-widgets/controls",
      "_model_module_version": "1.5.0",
      "_model_name": "HTMLModel",
      "_view_count": null,
      "_view_module": "@jupyter-widgets/controls",
      "_view_module_version": "1.5.0",
      "_view_name": "HTMLView",
      "description": "",
      "description_tooltip": null,
      "layout": "IPY_MODEL_c64071d86be2459a8ebab43ad29ac10e",
      "placeholder": "​",
      "style": "IPY_MODEL_2098ad10b74c43258ec06929ac63b361",
      "value": " 204133/? [00:07&lt;00:00, 14469.18it/s]"
     }
    },
    "d2adf6f9ab374843836218619947e469": {
     "model_module": "@jupyter-widgets/controls",
     "model_name": "ProgressStyleModel",
     "state": {
      "_model_module": "@jupyter-widgets/controls",
      "_model_module_version": "1.5.0",
      "_model_name": "ProgressStyleModel",
      "_view_count": null,
      "_view_module": "@jupyter-widgets/base",
      "_view_module_version": "1.2.0",
      "_view_name": "StyleView",
      "bar_color": null,
      "description_width": ""
     }
    },
    "d5b52addca184900aeea908479caeb40": {
     "model_module": "@jupyter-widgets/controls",
     "model_name": "ProgressStyleModel",
     "state": {
      "_model_module": "@jupyter-widgets/controls",
      "_model_module_version": "1.5.0",
      "_model_name": "ProgressStyleModel",
      "_view_count": null,
      "_view_module": "@jupyter-widgets/base",
      "_view_module_version": "1.2.0",
      "_view_name": "StyleView",
      "bar_color": null,
      "description_width": ""
     }
    },
    "d65bf9b21607484a80af0984e171cc96": {
     "model_module": "@jupyter-widgets/base",
     "model_name": "LayoutModel",
     "state": {
      "_model_module": "@jupyter-widgets/base",
      "_model_module_version": "1.2.0",
      "_model_name": "LayoutModel",
      "_view_count": null,
      "_view_module": "@jupyter-widgets/base",
      "_view_module_version": "1.2.0",
      "_view_name": "LayoutView",
      "align_content": null,
      "align_items": null,
      "align_self": null,
      "border": null,
      "bottom": null,
      "display": null,
      "flex": null,
      "flex_flow": null,
      "grid_area": null,
      "grid_auto_columns": null,
      "grid_auto_flow": null,
      "grid_auto_rows": null,
      "grid_column": null,
      "grid_gap": null,
      "grid_row": null,
      "grid_template_areas": null,
      "grid_template_columns": null,
      "grid_template_rows": null,
      "height": null,
      "justify_content": null,
      "justify_items": null,
      "left": null,
      "margin": null,
      "max_height": null,
      "max_width": null,
      "min_height": null,
      "min_width": null,
      "object_fit": null,
      "object_position": null,
      "order": null,
      "overflow": null,
      "overflow_x": null,
      "overflow_y": null,
      "padding": null,
      "right": null,
      "top": null,
      "visibility": null,
      "width": null
     }
    },
    "d7ad2f16ab3d46968f14edabcd2c0148": {
     "model_module": "@jupyter-widgets/controls",
     "model_name": "FloatProgressModel",
     "state": {
      "_dom_classes": [],
      "_model_module": "@jupyter-widgets/controls",
      "_model_module_version": "1.5.0",
      "_model_name": "FloatProgressModel",
      "_view_count": null,
      "_view_module": "@jupyter-widgets/controls",
      "_view_module_version": "1.5.0",
      "_view_name": "ProgressView",
      "bar_style": "success",
      "description": "",
      "description_tooltip": null,
      "layout": "IPY_MODEL_3497d9042125481396edb178f6b5b860",
      "max": 1,
      "min": 0,
      "orientation": "horizontal",
      "style": "IPY_MODEL_8d27b71a17414b7a95e0d7208de97c22",
      "value": 1
     }
    },
    "d932885b9d3e457f9cfb59294235e56f": {
     "model_module": "@jupyter-widgets/controls",
     "model_name": "DescriptionStyleModel",
     "state": {
      "_model_module": "@jupyter-widgets/controls",
      "_model_module_version": "1.5.0",
      "_model_name": "DescriptionStyleModel",
      "_view_count": null,
      "_view_module": "@jupyter-widgets/base",
      "_view_module_version": "1.2.0",
      "_view_name": "StyleView",
      "description_width": ""
     }
    },
    "dbe0ec9fa2b4477992dc009a8345a2e7": {
     "model_module": "@jupyter-widgets/controls",
     "model_name": "FloatProgressModel",
     "state": {
      "_dom_classes": [],
      "_model_module": "@jupyter-widgets/controls",
      "_model_module_version": "1.5.0",
      "_model_name": "FloatProgressModel",
      "_view_count": null,
      "_view_module": "@jupyter-widgets/controls",
      "_view_module_version": "1.5.0",
      "_view_name": "ProgressView",
      "bar_style": "success",
      "description": "",
      "description_tooltip": null,
      "layout": "IPY_MODEL_a1ae0d615f3d4df39b34b917c559b67d",
      "max": 1,
      "min": 0,
      "orientation": "horizontal",
      "style": "IPY_MODEL_2c31f590e926443ea668e7a9f1b93dcb",
      "value": 1
     }
    },
    "dd3cc4122a82460a86cff4fa39b8217c": {
     "model_module": "@jupyter-widgets/controls",
     "model_name": "DescriptionStyleModel",
     "state": {
      "_model_module": "@jupyter-widgets/controls",
      "_model_module_version": "1.5.0",
      "_model_name": "DescriptionStyleModel",
      "_view_count": null,
      "_view_module": "@jupyter-widgets/base",
      "_view_module_version": "1.2.0",
      "_view_name": "StyleView",
      "description_width": ""
     }
    },
    "dd541e0529d142fc8f0323de4b2305aa": {
     "model_module": "@jupyter-widgets/controls",
     "model_name": "DescriptionStyleModel",
     "state": {
      "_model_module": "@jupyter-widgets/controls",
      "_model_module_version": "1.5.0",
      "_model_name": "DescriptionStyleModel",
      "_view_count": null,
      "_view_module": "@jupyter-widgets/base",
      "_view_module_version": "1.2.0",
      "_view_name": "StyleView",
      "description_width": ""
     }
    },
    "de71c4a4f1ac44aea063a16a90cf4ddf": {
     "model_module": "@jupyter-widgets/base",
     "model_name": "LayoutModel",
     "state": {
      "_model_module": "@jupyter-widgets/base",
      "_model_module_version": "1.2.0",
      "_model_name": "LayoutModel",
      "_view_count": null,
      "_view_module": "@jupyter-widgets/base",
      "_view_module_version": "1.2.0",
      "_view_name": "LayoutView",
      "align_content": null,
      "align_items": null,
      "align_self": null,
      "border": null,
      "bottom": null,
      "display": null,
      "flex": null,
      "flex_flow": null,
      "grid_area": null,
      "grid_auto_columns": null,
      "grid_auto_flow": null,
      "grid_auto_rows": null,
      "grid_column": null,
      "grid_gap": null,
      "grid_row": null,
      "grid_template_areas": null,
      "grid_template_columns": null,
      "grid_template_rows": null,
      "height": null,
      "justify_content": null,
      "justify_items": null,
      "left": null,
      "margin": null,
      "max_height": null,
      "max_width": null,
      "min_height": null,
      "min_width": null,
      "object_fit": null,
      "object_position": null,
      "order": null,
      "overflow": null,
      "overflow_x": null,
      "overflow_y": null,
      "padding": null,
      "right": null,
      "top": null,
      "visibility": null,
      "width": null
     }
    },
    "e5fd19a4b6ca41e9ac049d7da778d81a": {
     "model_module": "@jupyter-widgets/controls",
     "model_name": "HTMLModel",
     "state": {
      "_dom_classes": [],
      "_model_module": "@jupyter-widgets/controls",
      "_model_module_version": "1.5.0",
      "_model_name": "HTMLModel",
      "_view_count": null,
      "_view_module": "@jupyter-widgets/controls",
      "_view_module_version": "1.5.0",
      "_view_name": "HTMLView",
      "description": "",
      "description_tooltip": null,
      "layout": "IPY_MODEL_9d3d174e153f4c58ada0fe924fb64e70",
      "placeholder": "​",
      "style": "IPY_MODEL_00115896abe24fc18c35bb27da71672c",
      "value": " 1/1 [00:12&lt;00:00,  2.08s/it]"
     }
    },
    "e8a1b0b41f4142428af4c91ae180e66f": {
     "model_module": "@jupyter-widgets/base",
     "model_name": "LayoutModel",
     "state": {
      "_model_module": "@jupyter-widgets/base",
      "_model_module_version": "1.2.0",
      "_model_name": "LayoutModel",
      "_view_count": null,
      "_view_module": "@jupyter-widgets/base",
      "_view_module_version": "1.2.0",
      "_view_name": "LayoutView",
      "align_content": null,
      "align_items": null,
      "align_self": null,
      "border": null,
      "bottom": null,
      "display": null,
      "flex": null,
      "flex_flow": null,
      "grid_area": null,
      "grid_auto_columns": null,
      "grid_auto_flow": null,
      "grid_auto_rows": null,
      "grid_column": null,
      "grid_gap": null,
      "grid_row": null,
      "grid_template_areas": null,
      "grid_template_columns": null,
      "grid_template_rows": null,
      "height": null,
      "justify_content": null,
      "justify_items": null,
      "left": null,
      "margin": null,
      "max_height": null,
      "max_width": null,
      "min_height": null,
      "min_width": null,
      "object_fit": null,
      "object_position": null,
      "order": null,
      "overflow": null,
      "overflow_x": null,
      "overflow_y": null,
      "padding": null,
      "right": null,
      "top": null,
      "visibility": null,
      "width": null
     }
    },
    "ea21004192fc45dfb6b4901143109332": {
     "model_module": "@jupyter-widgets/controls",
     "model_name": "DescriptionStyleModel",
     "state": {
      "_model_module": "@jupyter-widgets/controls",
      "_model_module_version": "1.5.0",
      "_model_name": "DescriptionStyleModel",
      "_view_count": null,
      "_view_module": "@jupyter-widgets/base",
      "_view_module_version": "1.2.0",
      "_view_name": "StyleView",
      "description_width": ""
     }
    },
    "ee2fdc4921264a749a1de4157a87443d": {
     "model_module": "@jupyter-widgets/controls",
     "model_name": "HTMLModel",
     "state": {
      "_dom_classes": [],
      "_model_module": "@jupyter-widgets/controls",
      "_model_module_version": "1.5.0",
      "_model_name": "HTMLModel",
      "_view_count": null,
      "_view_module": "@jupyter-widgets/controls",
      "_view_module_version": "1.5.0",
      "_view_name": "HTMLView",
      "description": "",
      "description_tooltip": null,
      "layout": "IPY_MODEL_b1c4c74977d2444cadae163342893899",
      "placeholder": "​",
      "style": "IPY_MODEL_73920cf574fb42fe9b5580787fc7d763",
      "value": " 6380/6380 [01:35&lt;00:00, 1760.85it/s]"
     }
    },
    "f6f43f21ddef4faaaebca581a980a87a": {
     "model_module": "@jupyter-widgets/base",
     "model_name": "LayoutModel",
     "state": {
      "_model_module": "@jupyter-widgets/base",
      "_model_module_version": "1.2.0",
      "_model_name": "LayoutModel",
      "_view_count": null,
      "_view_module": "@jupyter-widgets/base",
      "_view_module_version": "1.2.0",
      "_view_name": "LayoutView",
      "align_content": null,
      "align_items": null,
      "align_self": null,
      "border": null,
      "bottom": null,
      "display": null,
      "flex": null,
      "flex_flow": null,
      "grid_area": null,
      "grid_auto_columns": null,
      "grid_auto_flow": null,
      "grid_auto_rows": null,
      "grid_column": null,
      "grid_gap": null,
      "grid_row": null,
      "grid_template_areas": null,
      "grid_template_columns": null,
      "grid_template_rows": null,
      "height": null,
      "justify_content": null,
      "justify_items": null,
      "left": null,
      "margin": null,
      "max_height": null,
      "max_width": null,
      "min_height": null,
      "min_width": null,
      "object_fit": null,
      "object_position": null,
      "order": null,
      "overflow": null,
      "overflow_x": null,
      "overflow_y": null,
      "padding": null,
      "right": null,
      "top": null,
      "visibility": null,
      "width": null
     }
    },
    "ffea8c4df2694428a02ee036e248a47c": {
     "model_module": "@jupyter-widgets/controls",
     "model_name": "FloatProgressModel",
     "state": {
      "_dom_classes": [],
      "_model_module": "@jupyter-widgets/controls",
      "_model_module_version": "1.5.0",
      "_model_name": "FloatProgressModel",
      "_view_count": null,
      "_view_module": "@jupyter-widgets/controls",
      "_view_module_version": "1.5.0",
      "_view_name": "ProgressView",
      "bar_style": "success",
      "description": "",
      "description_tooltip": null,
      "layout": "IPY_MODEL_4e9289b53e964dfcb686059e1a33b4b5",
      "max": 1,
      "min": 0,
      "orientation": "horizontal",
      "style": "IPY_MODEL_d5b52addca184900aeea908479caeb40",
      "value": 1
     }
    }
   }
  }
 },
 "nbformat": 4,
 "nbformat_minor": 4
}
