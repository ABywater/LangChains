{
  "cells": [
    {
      "cell_type": "markdown",
      "metadata": {
        "id": "QBkp2uyiJPPL"
      },
      "source": [
        "# Semantic Textual Search with Vector Index"
      ]
    },
    {
      "cell_type": "markdown",
      "metadata": {
        "id": "m9lCMupvJNhs"
      },
      "source": [
        "This notebook demonstrates how to create a simple semantic text search using Pinecone’s similarity search service.\n",
        "\n",
        "The goal is to create a search application that retrieves news articles based on short description queries (e.g., article titles). To achieve that, we will store vector representations of the articles in Pinecone's index. These vectors and their proximity capture semantic relations. Nearby vectors indicate similar content, and contents from faraway vectors are dissimilar.\n",
        "\n",
        "Semantic textual search is a technique used for solving other text-based applications. For example, our deduplication, question-answering and personalized article recommendation [demos](https://www.pinecone.io/docs/examples/) were solved using semantic textual search."
      ]
    },
    {
      "cell_type": "markdown",
      "metadata": {
        "id": "V0zk26pXDbrH"
      },
      "source": [
        "## Pinecone Setup"
      ]
    },
    {
      "cell_type": "code",
      "source": [
        "!pip install git+https://github.com/pinecone-io/pinecone-python-client.git\n",
        "!pip install ipywidgets"
      ],
      "metadata": {
        "id": "qbx2HPvML31j"
      },
      "execution_count": null,
      "outputs": []
    },
    {
      "cell_type": "code",
      "execution_count": 1,
      "metadata": {
        "id": "d8meZcx9RB-T"
      },
      "outputs": [],
      "source": [
        "import pinecone"
      ]
    },
    {
      "cell_type": "code",
      "execution_count": 2,
      "metadata": {
        "colab": {
          "base_uri": "https://localhost:8080/"
        },
        "id": "9wN0d2e60FAv",
        "outputId": "8d22bb57-c6c4-424d-f1b5-6298a371ce23"
      },
      "outputs": [
        {
          "output_type": "execute_result",
          "data": {
            "text/plain": [
              "['semantic-text-search']"
            ]
          },
          "metadata": {},
          "execution_count": 2
        }
      ],
      "source": [
        "# Load Pinecone API key\n",
        "import os\n",
        "api_key = os.getenv(\"PINECONE_API_KEY\") or \"YOUR-API-KEY\"\n",
        "pinecone.init(api_key=api_key, environment='us-west1-gcp')\n",
        "\n",
        "# List all indexes currently present for your key\n",
        "pinecone.list_indexes()"
      ]
    },
    {
      "cell_type": "markdown",
      "metadata": {
        "id": "kSnyzrI7RB-U"
      },
      "source": [
        "[Get a Pinecone API key](https://www.pinecone.io/start/) if you don’t have one already."
      ]
    },
    {
      "cell_type": "markdown",
      "metadata": {
        "id": "0Of_-qU8RB-P"
      },
      "source": [
        "## Install and Import Python Packages"
      ]
    },
    {
      "cell_type": "code",
      "execution_count": null,
      "metadata": {
        "id": "U7dUZJ17wa4h"
      },
      "outputs": [],
      "source": [
        "!pip install -qU wordcloud pandas-profiling\n",
        "!pip install -qU sentence-transformers --no-cache-dir"
      ]
    },
    {
      "cell_type": "code",
      "execution_count": 3,
      "metadata": {
        "id": "PodOM8HCDbrG"
      },
      "outputs": [],
      "source": [
        "import pandas as pd\n",
        "import numpy as np\n",
        "import time\n",
        "import re\n",
        "from wordcloud import WordCloud, STOPWORDS, ImageColorGenerator\n",
        "import matplotlib.pyplot as plt\n",
        "import sqlite3\n",
        "\n",
        "pd.set_option('display.max_colwidth', 200)"
      ]
    },
    {
      "cell_type": "markdown",
      "metadata": {
        "id": "8GGaS7jcJvKT"
      },
      "source": [
        "## Create a New Service"
      ]
    },
    {
      "cell_type": "code",
      "execution_count": 4,
      "metadata": {
        "id": "3mnselUAJv2Z"
      },
      "outputs": [],
      "source": [
        "# Pick a name for the new index\n",
        "index_name = 'semantic-text-search'"
      ]
    },
    {
      "cell_type": "code",
      "execution_count": null,
      "metadata": {
        "id": "SJw-3Yt8JM1f"
      },
      "outputs": [],
      "source": [
        "# Check whether the index with the same name already exists\n",
        "if index_name in pinecone.list_indexes():\n",
        "    pinecone.delete_index(index_name)"
      ]
    },
    {
      "cell_type": "code",
      "execution_count": null,
      "metadata": {
        "id": "2b8jdAXxJ0nP"
      },
      "outputs": [],
      "source": [
        "pinecone.create_index(name=index_name, dimension=300)"
      ]
    },
    {
      "cell_type": "code",
      "execution_count": 5,
      "metadata": {
        "id": "2sDTbg1HJ-m8"
      },
      "outputs": [],
      "source": [
        "index = pinecone.Index(index_name=index_name)"
      ]
    },
    {
      "cell_type": "markdown",
      "metadata": {
        "id": "UQIuma2eJyTo"
      },
      "source": [
        "## Upload"
      ]
    },
    {
      "cell_type": "markdown",
      "metadata": {
        "id": "9M6j0_I3M9qf"
      },
      "source": [
        "We will define two separate sub-indexes using Pinecone's namespace feature. One for indexing articles by **content**, and the other by **title**. At query time, we will return an aggregation of the results from the content and title indexes.\n"
      ]
    },
    {
      "cell_type": "markdown",
      "metadata": {
        "id": "q9EJlII0p21F"
      },
      "source": [
        "\n",
        "First, we will load data and the model, and then create embeddings and upsert them into the namespaces.\n"
      ]
    },
    {
      "cell_type": "markdown",
      "metadata": {
        "id": "dARvyedFRB-Q"
      },
      "source": [
        "###  Load data"
      ]
    },
    {
      "cell_type": "markdown",
      "metadata": {
        "id": "RfKRg-IqRB-R"
      },
      "source": [
        "The [dataset](https://components.one/datasets/all-the-news-articles-dataset) used throughout this example contains 204,135 articles from 18 American publications."
      ]
    },
    {
      "cell_type": "markdown",
      "metadata": {
        "id": "Gu4sAgkfRB-R"
      },
      "source": [
        "Let's download the dataset and load data."
      ]
    },
    {
      "cell_type": "code",
      "execution_count": 6,
      "metadata": {
        "id": "J5xQaXWmRB-R"
      },
      "outputs": [],
      "source": [
        "import requests, os\n",
        "DATA_DIR = 'tmp'\n",
        "URL = \"https://www.dropbox.com/s/b2cyb85ib17s7zo/all-the-news.db?dl=1\"\n",
        "FILE = f\"{DATA_DIR}/all-the-news.db\"\n",
        "\n",
        "def download_data():\n",
        "    os.makedirs(DATA_DIR, exist_ok=True)\n",
        "\n",
        "    if not os.path.exists(FILE):\n",
        "        r = requests.get(URL)  # create HTTP response object\n",
        "        with open(FILE, \"wb\") as f:            \n",
        "            f.write(r.content)\n",
        "\n",
        "download_data()"
      ]
    },
    {
      "cell_type": "code",
      "execution_count": 7,
      "metadata": {
        "colab": {
          "base_uri": "https://localhost:8080/",
          "height": 542
        },
        "id": "_WFKsH1J6njD",
        "outputId": "2b180d46-6ea3-405f-d353-0fd7ab02bbc6"
      },
      "outputs": [
        {
          "output_type": "execute_result",
          "data": {
            "text/plain": [
              "                                                                             title  \\\n",
              "id                                                                                   \n",
              "1   Agent Cooper in Twin Peaks is the audience: once delighted, now disintegrating   \n",
              "2                                                                AI, the humanity!   \n",
              "3                                                                The Viral Machine   \n",
              "4               How Anker is beating Apple and Samsung at their own accessory game   \n",
              "5                   Tour Black Panther’s reimagined homeland with Ta-Nehisi Coates   \n",
              "\n",
              "                 author        date  \\\n",
              "id                                    \n",
              "1    \\nTasha Robinson\\n  2017-05-31   \n",
              "2        \\nSam Byford\\n  2017-05-30   \n",
              "3   \\nKaitlyn Tiffany\\n  2017-05-25   \n",
              "4        \\nNick Statt\\n  2017-05-22   \n",
              "5        \\nKwame Opam\\n  2017-05-15   \n",
              "\n",
              "                                                                                                                                                                                                    content  \\\n",
              "id                                                                                                                                                                                                            \n",
              "1         And never more so than in Showtime’s new series revival Some spoilers ahead through episode 4 of season 3 of Twin Peaks. On May 21st, Showtime brought back David Lynch’s groundbreaking TV se...   \n",
              "2         AlphaGo’s victory isn’t a defeat for humans — it’s an opportunity A loss for humanity! Man succumbs to machine! If you heard about AlphaGo’s latest exploits last week — crushing the world’s ...   \n",
              "3         Super Deluxe built a weird internet empire. Can it succeed on TV? When Wolfgang Hammer talks about the future of entertainment, people listen. Hammer is the mastermind behind the American re...   \n",
              "4         Steven Yang quit his job at Google in the summer of 2011 to build the products he felt the world needed: a line of reasonably priced accessories that would be better than the ones you could ...   \n",
              "5         Ahead of Black Panther’s 2018 theatrical release, Marvel turned to Ta-Nehisi Coates to breathe new life into the nation of Wakanda. “I made most of my career analyzing the forces of racism a...   \n",
              "\n",
              "    year month publication  category  digital section   url  \n",
              "id                                                           \n",
              "1   2017     5       Verge  Longform      1.0    None  None  \n",
              "2   2017     5       Verge  Longform      1.0    None  None  \n",
              "3   2017     5       Verge  Longform      1.0    None  None  \n",
              "4   2017     5       Verge  Longform      1.0    None  None  \n",
              "5   2017     5       Verge  Longform      1.0    None  None  "
            ],
            "text/html": [
              "\n",
              "  <div id=\"df-4c3815c1-b7f5-4135-84f9-b4100e7b1486\">\n",
              "    <div class=\"colab-df-container\">\n",
              "      <div>\n",
              "<style scoped>\n",
              "    .dataframe tbody tr th:only-of-type {\n",
              "        vertical-align: middle;\n",
              "    }\n",
              "\n",
              "    .dataframe tbody tr th {\n",
              "        vertical-align: top;\n",
              "    }\n",
              "\n",
              "    .dataframe thead th {\n",
              "        text-align: right;\n",
              "    }\n",
              "</style>\n",
              "<table border=\"1\" class=\"dataframe\">\n",
              "  <thead>\n",
              "    <tr style=\"text-align: right;\">\n",
              "      <th></th>\n",
              "      <th>title</th>\n",
              "      <th>author</th>\n",
              "      <th>date</th>\n",
              "      <th>content</th>\n",
              "      <th>year</th>\n",
              "      <th>month</th>\n",
              "      <th>publication</th>\n",
              "      <th>category</th>\n",
              "      <th>digital</th>\n",
              "      <th>section</th>\n",
              "      <th>url</th>\n",
              "    </tr>\n",
              "    <tr>\n",
              "      <th>id</th>\n",
              "      <th></th>\n",
              "      <th></th>\n",
              "      <th></th>\n",
              "      <th></th>\n",
              "      <th></th>\n",
              "      <th></th>\n",
              "      <th></th>\n",
              "      <th></th>\n",
              "      <th></th>\n",
              "      <th></th>\n",
              "      <th></th>\n",
              "    </tr>\n",
              "  </thead>\n",
              "  <tbody>\n",
              "    <tr>\n",
              "      <th>1</th>\n",
              "      <td>Agent Cooper in Twin Peaks is the audience: once delighted, now disintegrating</td>\n",
              "      <td>\\nTasha Robinson\\n</td>\n",
              "      <td>2017-05-31</td>\n",
              "      <td>And never more so than in Showtime’s new series revival Some spoilers ahead through episode 4 of season 3 of Twin Peaks. On May 21st, Showtime brought back David Lynch’s groundbreaking TV se...</td>\n",
              "      <td>2017</td>\n",
              "      <td>5</td>\n",
              "      <td>Verge</td>\n",
              "      <td>Longform</td>\n",
              "      <td>1.0</td>\n",
              "      <td>None</td>\n",
              "      <td>None</td>\n",
              "    </tr>\n",
              "    <tr>\n",
              "      <th>2</th>\n",
              "      <td>AI, the humanity!</td>\n",
              "      <td>\\nSam Byford\\n</td>\n",
              "      <td>2017-05-30</td>\n",
              "      <td>AlphaGo’s victory isn’t a defeat for humans — it’s an opportunity A loss for humanity! Man succumbs to machine! If you heard about AlphaGo’s latest exploits last week — crushing the world’s ...</td>\n",
              "      <td>2017</td>\n",
              "      <td>5</td>\n",
              "      <td>Verge</td>\n",
              "      <td>Longform</td>\n",
              "      <td>1.0</td>\n",
              "      <td>None</td>\n",
              "      <td>None</td>\n",
              "    </tr>\n",
              "    <tr>\n",
              "      <th>3</th>\n",
              "      <td>The Viral Machine</td>\n",
              "      <td>\\nKaitlyn Tiffany\\n</td>\n",
              "      <td>2017-05-25</td>\n",
              "      <td>Super Deluxe built a weird internet empire. Can it succeed on TV? When Wolfgang Hammer talks about the future of entertainment, people listen. Hammer is the mastermind behind the American re...</td>\n",
              "      <td>2017</td>\n",
              "      <td>5</td>\n",
              "      <td>Verge</td>\n",
              "      <td>Longform</td>\n",
              "      <td>1.0</td>\n",
              "      <td>None</td>\n",
              "      <td>None</td>\n",
              "    </tr>\n",
              "    <tr>\n",
              "      <th>4</th>\n",
              "      <td>How Anker is beating Apple and Samsung at their own accessory game</td>\n",
              "      <td>\\nNick Statt\\n</td>\n",
              "      <td>2017-05-22</td>\n",
              "      <td>Steven Yang quit his job at Google in the summer of 2011 to build the products he felt the world needed: a line of reasonably priced accessories that would be better than the ones you could ...</td>\n",
              "      <td>2017</td>\n",
              "      <td>5</td>\n",
              "      <td>Verge</td>\n",
              "      <td>Longform</td>\n",
              "      <td>1.0</td>\n",
              "      <td>None</td>\n",
              "      <td>None</td>\n",
              "    </tr>\n",
              "    <tr>\n",
              "      <th>5</th>\n",
              "      <td>Tour Black Panther’s reimagined homeland with Ta-Nehisi Coates</td>\n",
              "      <td>\\nKwame Opam\\n</td>\n",
              "      <td>2017-05-15</td>\n",
              "      <td>Ahead of Black Panther’s 2018 theatrical release, Marvel turned to Ta-Nehisi Coates to breathe new life into the nation of Wakanda. “I made most of my career analyzing the forces of racism a...</td>\n",
              "      <td>2017</td>\n",
              "      <td>5</td>\n",
              "      <td>Verge</td>\n",
              "      <td>Longform</td>\n",
              "      <td>1.0</td>\n",
              "      <td>None</td>\n",
              "      <td>None</td>\n",
              "    </tr>\n",
              "  </tbody>\n",
              "</table>\n",
              "</div>\n",
              "      <button class=\"colab-df-convert\" onclick=\"convertToInteractive('df-4c3815c1-b7f5-4135-84f9-b4100e7b1486')\"\n",
              "              title=\"Convert this dataframe to an interactive table.\"\n",
              "              style=\"display:none;\">\n",
              "        \n",
              "  <svg xmlns=\"http://www.w3.org/2000/svg\" height=\"24px\"viewBox=\"0 0 24 24\"\n",
              "       width=\"24px\">\n",
              "    <path d=\"M0 0h24v24H0V0z\" fill=\"none\"/>\n",
              "    <path d=\"M18.56 5.44l.94 2.06.94-2.06 2.06-.94-2.06-.94-.94-2.06-.94 2.06-2.06.94zm-11 1L8.5 8.5l.94-2.06 2.06-.94-2.06-.94L8.5 2.5l-.94 2.06-2.06.94zm10 10l.94 2.06.94-2.06 2.06-.94-2.06-.94-.94-2.06-.94 2.06-2.06.94z\"/><path d=\"M17.41 7.96l-1.37-1.37c-.4-.4-.92-.59-1.43-.59-.52 0-1.04.2-1.43.59L10.3 9.45l-7.72 7.72c-.78.78-.78 2.05 0 2.83L4 21.41c.39.39.9.59 1.41.59.51 0 1.02-.2 1.41-.59l7.78-7.78 2.81-2.81c.8-.78.8-2.07 0-2.86zM5.41 20L4 18.59l7.72-7.72 1.47 1.35L5.41 20z\"/>\n",
              "  </svg>\n",
              "      </button>\n",
              "      \n",
              "  <style>\n",
              "    .colab-df-container {\n",
              "      display:flex;\n",
              "      flex-wrap:wrap;\n",
              "      gap: 12px;\n",
              "    }\n",
              "\n",
              "    .colab-df-convert {\n",
              "      background-color: #E8F0FE;\n",
              "      border: none;\n",
              "      border-radius: 50%;\n",
              "      cursor: pointer;\n",
              "      display: none;\n",
              "      fill: #1967D2;\n",
              "      height: 32px;\n",
              "      padding: 0 0 0 0;\n",
              "      width: 32px;\n",
              "    }\n",
              "\n",
              "    .colab-df-convert:hover {\n",
              "      background-color: #E2EBFA;\n",
              "      box-shadow: 0px 1px 2px rgba(60, 64, 67, 0.3), 0px 1px 3px 1px rgba(60, 64, 67, 0.15);\n",
              "      fill: #174EA6;\n",
              "    }\n",
              "\n",
              "    [theme=dark] .colab-df-convert {\n",
              "      background-color: #3B4455;\n",
              "      fill: #D2E3FC;\n",
              "    }\n",
              "\n",
              "    [theme=dark] .colab-df-convert:hover {\n",
              "      background-color: #434B5C;\n",
              "      box-shadow: 0px 1px 3px 1px rgba(0, 0, 0, 0.15);\n",
              "      filter: drop-shadow(0px 1px 2px rgba(0, 0, 0, 0.3));\n",
              "      fill: #FFFFFF;\n",
              "    }\n",
              "  </style>\n",
              "\n",
              "      <script>\n",
              "        const buttonEl =\n",
              "          document.querySelector('#df-4c3815c1-b7f5-4135-84f9-b4100e7b1486 button.colab-df-convert');\n",
              "        buttonEl.style.display =\n",
              "          google.colab.kernel.accessAllowed ? 'block' : 'none';\n",
              "\n",
              "        async function convertToInteractive(key) {\n",
              "          const element = document.querySelector('#df-4c3815c1-b7f5-4135-84f9-b4100e7b1486');\n",
              "          const dataTable =\n",
              "            await google.colab.kernel.invokeFunction('convertToInteractive',\n",
              "                                                     [key], {});\n",
              "          if (!dataTable) return;\n",
              "\n",
              "          const docLinkHtml = 'Like what you see? Visit the ' +\n",
              "            '<a target=\"_blank\" href=https://colab.research.google.com/notebooks/data_table.ipynb>data table notebook</a>'\n",
              "            + ' to learn more about interactive tables.';\n",
              "          element.innerHTML = '';\n",
              "          dataTable['output_type'] = 'display_data';\n",
              "          await google.colab.output.renderOutput(dataTable, element);\n",
              "          const docLink = document.createElement('div');\n",
              "          docLink.innerHTML = docLinkHtml;\n",
              "          element.appendChild(docLink);\n",
              "        }\n",
              "      </script>\n",
              "    </div>\n",
              "  </div>\n",
              "  "
            ]
          },
          "metadata": {},
          "execution_count": 7
        }
      ],
      "source": [
        "cnx = sqlite3.connect(FILE)\n",
        "data = pd.read_sql_query(\"SELECT * FROM longform\", cnx)\n",
        "data.set_index('id', inplace=True)\n",
        "data.head()"
      ]
    },
    {
      "cell_type": "code",
      "execution_count": 8,
      "metadata": {
        "id": "8xNrpkhf2tt3"
      },
      "outputs": [],
      "source": [
        "# Define number of test articles\n",
        "NUM_OF_TEST_ARTICLES = 2\n",
        "\n",
        "# Remove test articles from data and keep them in separate dataframe\n",
        "test_articles = data[['title','content']][97::81][:NUM_OF_TEST_ARTICLES]\n",
        "data.drop(list(test_articles.index), inplace=True)"
      ]
    },
    {
      "cell_type": "markdown",
      "metadata": {
        "id": "p-jcFPPaRB-S"
      },
      "source": [
        "### Use Ready Made Vector Embedding Model"
      ]
    },
    {
      "cell_type": "markdown",
      "metadata": {
        "id": "hytn3DeYRB-S"
      },
      "source": [
        "We will use an [Average Word Embeddings Model](https://www.sbert.net/docs/pretrained_models.html#average-word-embeddings-models) to create both title and content embeddings. Pinecone allows you to create paritions in the index that we call namespaces. This will allow us to maintain separate embeddings for the data that can be used for different tasks."
      ]
    },
    {
      "cell_type": "code",
      "execution_count": 9,
      "metadata": {
        "id": "VxzOvUY3DbrO",
        "pycharm": {
          "is_executing": true
        }
      },
      "outputs": [],
      "source": [
        "from sentence_transformers import SentenceTransformer\n",
        "\n",
        "model = SentenceTransformer('average_word_embeddings_komninos')"
      ]
    },
    {
      "cell_type": "markdown",
      "metadata": {
        "id": "XnxCUm0j6hVt"
      },
      "source": [
        "### Upload Vectors of Titles"
      ]
    },
    {
      "cell_type": "markdown",
      "metadata": {
        "id": "4V8G0ukcdEa9"
      },
      "source": [
        "Here we index articles by title only. You can notice we create a *title* namespace for this purpose."
      ]
    },
    {
      "cell_type": "code",
      "execution_count": 10,
      "metadata": {
        "id": "lefaMZNQwa4n"
      },
      "outputs": [],
      "source": [
        "from typing import Iterator\n",
        "\n",
        "class BatchGenerator:\n",
        "    \"\"\" Models a simple batch generator that make chunks out of an input DataFrame. \"\"\"\n",
        "    \n",
        "    def __init__(self, batch_size: int = 10) -> None:\n",
        "        self.batch_size = batch_size\n",
        "    \n",
        "    def to_batches(self, df: pd.DataFrame) -> Iterator[pd.DataFrame]:\n",
        "        \"\"\" Makes chunks out of an input DataFrame. \"\"\"\n",
        "        splits = self.splits_num(df.shape[0])\n",
        "        if splits <= 1:\n",
        "            yield df\n",
        "        else:\n",
        "            for chunk in np.array_split(df, splits):\n",
        "                yield chunk\n",
        "    \n",
        "    def splits_num(self, elements: int) -> int:\n",
        "        \"\"\" Determines how many chunks DataFrame contians. \"\"\"\n",
        "        return round(elements / self.batch_size)\n",
        "    \n",
        "    __call__ = to_batches\n",
        "\n",
        "df_batcher = BatchGenerator(300)"
      ]
    },
    {
      "cell_type": "code",
      "execution_count": 11,
      "metadata": {
        "colab": {
          "base_uri": "https://localhost:8080/"
        },
        "id": "Oyu7iArz60jE",
        "outputId": "77ceca03-22f3-4e6c-aac6-1381da59893b"
      },
      "outputs": [
        {
          "output_type": "stream",
          "name": "stdout",
          "text": [
            "Encoding titles...\n"
          ]
        }
      ],
      "source": [
        "# Fill missing and remove redundant data\n",
        "data['title'] = data['title'].fillna('')\n",
        "\n",
        "# Create vector embeddings based on the title column\n",
        "print('Encoding titles...')\n",
        "encoded_titles = model.encode(data['title'].tolist(), show_progress_bar=True)\n",
        "data['title_vector'] = encoded_titles.tolist()"
      ]
    },
    {
      "cell_type": "code",
      "execution_count": 12,
      "metadata": {
        "id": "K_GmaCDEwa4o"
      },
      "outputs": [],
      "source": [
        "data['vector_id'] = data.index\n",
        "data['vector_id'] = data['vector_id'].apply(str)"
      ]
    },
    {
      "cell_type": "code",
      "execution_count": 13,
      "metadata": {
        "colab": {
          "base_uri": "https://localhost:8080/"
        },
        "id": "21y_8ogbwa4o",
        "outputId": "8ca3a4ac-af03-407f-e8a5-d53bdc017932"
      },
      "outputs": [
        {
          "output_type": "stream",
          "name": "stdout",
          "text": [
            "Uploading vectors to title namespace..\n"
          ]
        }
      ],
      "source": [
        "# Upsert title vectors in title namespace\n",
        "print(\"Uploading vectors to title namespace..\")\n",
        "for batch_df in df_batcher(data):\n",
        "    index.upsert(vectors=zip(batch_df.vector_id, batch_df.title_vector), namespace='title')"
      ]
    },
    {
      "cell_type": "markdown",
      "metadata": {
        "id": "CFkB-Ph17rVn"
      },
      "source": [
        "### Upload Vectors of Content"
      ]
    },
    {
      "cell_type": "markdown",
      "metadata": {
        "id": "rvQo3IXkdTcu"
      },
      "source": [
        "Now we index articles by their content. We want to separately maintain embeddings for both title and content hence we use a separate namespace in the same index."
      ]
    },
    {
      "cell_type": "code",
      "execution_count": 14,
      "metadata": {
        "colab": {
          "base_uri": "https://localhost:8080/"
        },
        "id": "AYmPq2jD7q1A",
        "outputId": "8c2eb703-b583-4e98-9d6b-173694bc3f49"
      },
      "outputs": [
        {
          "output_type": "stream",
          "name": "stdout",
          "text": [
            "Encoding content...\n"
          ]
        }
      ],
      "source": [
        "# Fill missing data\n",
        "data['content'] = data['content'].fillna('')\n",
        "\n",
        "# Extract only first few sentences of each article for quicker vector calculations\n",
        "data['content'] = data.content.apply(lambda x: ' '.join(re.split(r'(?<=[.:;])\\s', x)[:10]))\n",
        "\n",
        "# Create vector embeddings based on the content column\n",
        "print('Encoding content...')\n",
        "encoded_content = model.encode(data['content'].tolist(), show_progress_bar=True)\n",
        "data['content_vector'] = encoded_content.tolist()"
      ]
    },
    {
      "cell_type": "code",
      "execution_count": 15,
      "metadata": {
        "colab": {
          "base_uri": "https://localhost:8080/"
        },
        "id": "CdMV2EtRwa4p",
        "outputId": "3606fee1-b3e1-4c8e-d53c-da8582c39590"
      },
      "outputs": [
        {
          "output_type": "stream",
          "name": "stdout",
          "text": [
            "Uploading vectors to content namespace..\n"
          ]
        }
      ],
      "source": [
        "# Upsert title vectors in content namespace\n",
        "print(\"Uploading vectors to content namespace..\")\n",
        "for batch_df in df_batcher(data):\n",
        "    index.upsert(vectors=zip(batch_df.vector_id, batch_df.content_vector), namespace='content')"
      ]
    },
    {
      "cell_type": "markdown",
      "metadata": {
        "id": "YYAY6jjfdnua"
      },
      "source": [
        "Now that we have upserted data, we can check the size of each namespace.\n",
        "\n"
      ]
    },
    {
      "cell_type": "code",
      "execution_count": 16,
      "metadata": {
        "colab": {
          "base_uri": "https://localhost:8080/"
        },
        "id": "83fitZsgJ0p8",
        "outputId": "c78bca23-378a-4aab-e649-00d8a49b8481"
      },
      "outputs": [
        {
          "output_type": "execute_result",
          "data": {
            "text/plain": [
              "{'dimension': 300,\n",
              " 'index_fullness': 0.06,\n",
              " 'namespaces': {'content': {'vector_count': 204133},\n",
              "                'title': {'vector_count': 204133}}}"
            ]
          },
          "metadata": {},
          "execution_count": 16
        }
      ],
      "source": [
        "# Check index size for each namespace\n",
        "index.describe_index_stats()"
      ]
    },
    {
      "cell_type": "markdown",
      "metadata": {
        "id": "tMH0FPfebwRR"
      },
      "source": [
        "## Query"
      ]
    },
    {
      "cell_type": "markdown",
      "metadata": {
        "id": "Hbvpi7B3dual"
      },
      "source": [
        "Let's see what our test articles look like first."
      ]
    },
    {
      "cell_type": "code",
      "execution_count": 17,
      "metadata": {
        "colab": {
          "base_uri": "https://localhost:8080/",
          "height": 222
        },
        "id": "40iYMKD9O1oY",
        "outputId": "c9b4169e-867c-4d62-efcd-d3fd157ce518"
      },
      "outputs": [
        {
          "output_type": "display_data",
          "data": {
            "text/plain": [
              "                                              title  \\\n",
              "id                                                    \n",
              "111   The Rise and Fall and Rise of Virtual Reality   \n",
              "6467                         Who should go to Mars?   \n",
              "\n",
              "                                                                                                                                                                                                      content  \n",
              "id                                                                                                                                                                                                             \n",
              "111                                                                                                          In the wake of Facebook's purchase of Oculus VR, can this revolutionary technology triumph anew?  \n",
              "6467        Elon Musk laid out his plan to colonize Mars at a conference on Tuesday, but it was during the Q&ampampA session that a woman asked one of the key questions: who will be chosen to embark on ...  "
            ],
            "text/html": [
              "\n",
              "  <div id=\"df-d8642360-02cc-47ed-b9a8-8567e522009a\">\n",
              "    <div class=\"colab-df-container\">\n",
              "      <div>\n",
              "<style scoped>\n",
              "    .dataframe tbody tr th:only-of-type {\n",
              "        vertical-align: middle;\n",
              "    }\n",
              "\n",
              "    .dataframe tbody tr th {\n",
              "        vertical-align: top;\n",
              "    }\n",
              "\n",
              "    .dataframe thead th {\n",
              "        text-align: right;\n",
              "    }\n",
              "</style>\n",
              "<table border=\"1\" class=\"dataframe\">\n",
              "  <thead>\n",
              "    <tr style=\"text-align: right;\">\n",
              "      <th></th>\n",
              "      <th>title</th>\n",
              "      <th>content</th>\n",
              "    </tr>\n",
              "    <tr>\n",
              "      <th>id</th>\n",
              "      <th></th>\n",
              "      <th></th>\n",
              "    </tr>\n",
              "  </thead>\n",
              "  <tbody>\n",
              "    <tr>\n",
              "      <th>111</th>\n",
              "      <td>The Rise and Fall and Rise of Virtual Reality</td>\n",
              "      <td>In the wake of Facebook's purchase of Oculus VR, can this revolutionary technology triumph anew?</td>\n",
              "    </tr>\n",
              "    <tr>\n",
              "      <th>6467</th>\n",
              "      <td>Who should go to Mars?</td>\n",
              "      <td>Elon Musk laid out his plan to colonize Mars at a conference on Tuesday, but it was during the Q&amp;ampampA session that a woman asked one of the key questions: who will be chosen to embark on ...</td>\n",
              "    </tr>\n",
              "  </tbody>\n",
              "</table>\n",
              "</div>\n",
              "      <button class=\"colab-df-convert\" onclick=\"convertToInteractive('df-d8642360-02cc-47ed-b9a8-8567e522009a')\"\n",
              "              title=\"Convert this dataframe to an interactive table.\"\n",
              "              style=\"display:none;\">\n",
              "        \n",
              "  <svg xmlns=\"http://www.w3.org/2000/svg\" height=\"24px\"viewBox=\"0 0 24 24\"\n",
              "       width=\"24px\">\n",
              "    <path d=\"M0 0h24v24H0V0z\" fill=\"none\"/>\n",
              "    <path d=\"M18.56 5.44l.94 2.06.94-2.06 2.06-.94-2.06-.94-.94-2.06-.94 2.06-2.06.94zm-11 1L8.5 8.5l.94-2.06 2.06-.94-2.06-.94L8.5 2.5l-.94 2.06-2.06.94zm10 10l.94 2.06.94-2.06 2.06-.94-2.06-.94-.94-2.06-.94 2.06-2.06.94z\"/><path d=\"M17.41 7.96l-1.37-1.37c-.4-.4-.92-.59-1.43-.59-.52 0-1.04.2-1.43.59L10.3 9.45l-7.72 7.72c-.78.78-.78 2.05 0 2.83L4 21.41c.39.39.9.59 1.41.59.51 0 1.02-.2 1.41-.59l7.78-7.78 2.81-2.81c.8-.78.8-2.07 0-2.86zM5.41 20L4 18.59l7.72-7.72 1.47 1.35L5.41 20z\"/>\n",
              "  </svg>\n",
              "      </button>\n",
              "      \n",
              "  <style>\n",
              "    .colab-df-container {\n",
              "      display:flex;\n",
              "      flex-wrap:wrap;\n",
              "      gap: 12px;\n",
              "    }\n",
              "\n",
              "    .colab-df-convert {\n",
              "      background-color: #E8F0FE;\n",
              "      border: none;\n",
              "      border-radius: 50%;\n",
              "      cursor: pointer;\n",
              "      display: none;\n",
              "      fill: #1967D2;\n",
              "      height: 32px;\n",
              "      padding: 0 0 0 0;\n",
              "      width: 32px;\n",
              "    }\n",
              "\n",
              "    .colab-df-convert:hover {\n",
              "      background-color: #E2EBFA;\n",
              "      box-shadow: 0px 1px 2px rgba(60, 64, 67, 0.3), 0px 1px 3px 1px rgba(60, 64, 67, 0.15);\n",
              "      fill: #174EA6;\n",
              "    }\n",
              "\n",
              "    [theme=dark] .colab-df-convert {\n",
              "      background-color: #3B4455;\n",
              "      fill: #D2E3FC;\n",
              "    }\n",
              "\n",
              "    [theme=dark] .colab-df-convert:hover {\n",
              "      background-color: #434B5C;\n",
              "      box-shadow: 0px 1px 3px 1px rgba(0, 0, 0, 0.15);\n",
              "      filter: drop-shadow(0px 1px 2px rgba(0, 0, 0, 0.3));\n",
              "      fill: #FFFFFF;\n",
              "    }\n",
              "  </style>\n",
              "\n",
              "      <script>\n",
              "        const buttonEl =\n",
              "          document.querySelector('#df-d8642360-02cc-47ed-b9a8-8567e522009a button.colab-df-convert');\n",
              "        buttonEl.style.display =\n",
              "          google.colab.kernel.accessAllowed ? 'block' : 'none';\n",
              "\n",
              "        async function convertToInteractive(key) {\n",
              "          const element = document.querySelector('#df-d8642360-02cc-47ed-b9a8-8567e522009a');\n",
              "          const dataTable =\n",
              "            await google.colab.kernel.invokeFunction('convertToInteractive',\n",
              "                                                     [key], {});\n",
              "          if (!dataTable) return;\n",
              "\n",
              "          const docLinkHtml = 'Like what you see? Visit the ' +\n",
              "            '<a target=\"_blank\" href=https://colab.research.google.com/notebooks/data_table.ipynb>data table notebook</a>'\n",
              "            + ' to learn more about interactive tables.';\n",
              "          element.innerHTML = '';\n",
              "          dataTable['output_type'] = 'display_data';\n",
              "          await google.colab.output.renderOutput(dataTable, element);\n",
              "          const docLink = document.createElement('div');\n",
              "          docLink.innerHTML = docLinkHtml;\n",
              "          element.appendChild(docLink);\n",
              "        }\n",
              "      </script>\n",
              "    </div>\n",
              "  </div>\n",
              "  "
            ]
          },
          "metadata": {}
        }
      ],
      "source": [
        "# Print test articles\n",
        "display(test_articles)"
      ]
    },
    {
      "cell_type": "markdown",
      "metadata": {
        "id": "mYqJCfu-5Q7x"
      },
      "source": [
        "The following utility functions help us process and present the results."
      ]
    },
    {
      "cell_type": "code",
      "execution_count": 18,
      "metadata": {
        "id": "5Fm61xCwgKFk"
      },
      "outputs": [],
      "source": [
        "titles_mapped = dict(zip(data.index, data.title))\n",
        "content_mapped = dict(zip(data.index, data.content))"
      ]
    },
    {
      "cell_type": "code",
      "execution_count": 19,
      "metadata": {
        "id": "5jYqfOnr9O7X"
      },
      "outputs": [],
      "source": [
        "def get_wordcloud_for_article(recommendations, namespace):\n",
        "    'Generates word cloud for the recommendations (titles or content).'\n",
        "\n",
        "    stopwords = set(STOPWORDS).union([np.nan, 'NaN', 'S'])\n",
        "    wordcloud = WordCloud(\n",
        "                   max_words=50000, \n",
        "                   min_font_size =12, \n",
        "                   max_font_size=50, \n",
        "                   relative_scaling = 0.9, \n",
        "                   stopwords=set(STOPWORDS),\n",
        "                   normalize_plurals= True\n",
        "                  )\n",
        "    \n",
        "    if namespace == 'title':\n",
        "        clean_titles = [word for word in recommendations.title.values if word not in stopwords]\n",
        "        wordcloud = wordcloud.generate(' '.join(clean_titles))\n",
        "    else:\n",
        "        clean_content = [word for word in recommendations.content.values if word not in stopwords]\n",
        "        wordcloud = wordcloud.generate(' '.join(clean_content))\n",
        "\n",
        "    plt.imshow(wordcloud, interpolation='bilinear')\n",
        "    plt.axis(\"off\")\n",
        "    plt.show()\n",
        "\n",
        "\n",
        "def print_query_results(query_result, query, namespace, show_options={'wordcloud':True, 'tabular':True}):\n",
        "    'Prints query result with wordcloud.'\n",
        "      \n",
        "    print(f'\\nMost similar results querying {query} in \"{namespace}\" namespace:\\n')\n",
        "    if not query_result.matches:\n",
        "        print('no query result')\n",
        "    \n",
        "    matches = query_result.matches\n",
        "    ids = [res.id for res in matches]\n",
        "    scores = [res.score for res in matches]\n",
        "    df = pd.DataFrame({'id':ids, \n",
        "                       'score':scores,\n",
        "                       'title': [titles_mapped[int(_id)] if int(_id) in titles_mapped else ' '  for _id in ids],\n",
        "                       'content': [content_mapped[int(_id)] if int(_id) in content_mapped else ' '  for _id in ids],\n",
        "                       })\n",
        "    if show_options['tabular']:\n",
        "        display(df.head(5))\n",
        "    if show_options['wordcloud']:\n",
        "        get_wordcloud_for_article(df, namespace)\n",
        "    print('\\n')"
      ]
    },
    {
      "cell_type": "markdown",
      "metadata": {
        "id": "TWIce4IeWQ4d"
      },
      "source": [
        "The following two functions we use to query the test article's title or content in either of the namespaces we created. This means we can query the title in the \"title\" namespace or the \"content\" namespace. The same is with the article content."
      ]
    },
    {
      "cell_type": "code",
      "execution_count": 20,
      "metadata": {
        "id": "zQrPEm5uf0SD"
      },
      "outputs": [],
      "source": [
        "def query_article_title(test_article, namespace, top_k=5, show_options={'wordcloud':True, 'tabular':True}):\n",
        "    '''Queries an article using its title in the specified\n",
        "     namespace and prints results.'''\n",
        "\n",
        "    # Create vector embeddings based on the title column\n",
        "    encoded_titles = model.encode(test_article['title'], \n",
        "                                  show_progress_bar=False)\n",
        "    test_article['title_vector'] = encoded_titles.tolist()\n",
        "\n",
        "    # Query namespace passed as parameter using title vector\n",
        "    query_result_titles = index.query(vector=test_article.title_vector, \n",
        "                                      namespace=namespace, \n",
        "                                      top_k=top_k)\n",
        "\n",
        "    # Print query results \n",
        "    if show_options['wordcloud'] or show_options['tabular']:\n",
        "        print_query_results(query_result_titles, query='title', \n",
        "                            namespace=namespace, \n",
        "                            show_options=show_options)\n",
        "\n",
        "    return query_result_titles"
      ]
    },
    {
      "cell_type": "markdown",
      "metadata": {
        "id": "6uKmpQg1IBay"
      },
      "source": [
        "When querying content, we will first create the article content vector and search for the most similar vectors in the \"title\" or the \"content\" namespace."
      ]
    },
    {
      "cell_type": "code",
      "execution_count": 21,
      "metadata": {
        "id": "PaQQhrlv_dA_"
      },
      "outputs": [],
      "source": [
        "def query_article_content(test_article, namespace, top_k=5, show_options={'wordcloud':True, 'tabular':True}):\n",
        "    '''Queries an article using its content in the specified \n",
        "    namespace and prints results.'''\n",
        "\n",
        "    # Create vector embeddings based on the content column\n",
        "    encoded_content = model.encode(test_article['content'], \n",
        "                                   show_progress_bar=False)\n",
        "    test_article['content_vector'] = encoded_content.tolist()\n",
        "\n",
        "    # Query content namespace using content vector\n",
        "    query_result_content = index.query(vector=test_article.content_vector, \n",
        "                                       namespace=namespace, \n",
        "                                       top_k=top_k)\n",
        "\n",
        "    # Print query results \n",
        "    if show_options['wordcloud'] or show_options['tabular']:\n",
        "        print_query_results(query_result_content, \n",
        "                            query='content', \n",
        "                            namespace=namespace, \n",
        "                            show_options=show_options)\n",
        "\n",
        "    return query_result_content"
      ]
    },
    {
      "cell_type": "markdown",
      "metadata": {
        "id": "cf6m1DTmDUtT"
      },
      "source": [
        "Now it's time to do the cross namespace querying and aggregate the results.\n",
        "The following functions query for four combinations (title/content only and title-content, content-title). Then aggregates the results of the four queries to calculate the total occurrence of the articles and their average scores. They are ranked accordingly and the most similar articles are returned."
      ]
    },
    {
      "cell_type": "code",
      "execution_count": 22,
      "metadata": {
        "id": "U-25d4qZKeOr"
      },
      "outputs": [],
      "source": [
        "def aggregate_results(article):\n",
        "    '''Aggregates results after querying both namespaces\n",
        "       for both the article's title and content.'''\n",
        "\n",
        "    results = []\n",
        "    \n",
        "    results.append(query_article_title(article, namespace='title', top_k=30, show_options={'wordcloud':False, 'tabular':False}))\n",
        "    results.append(query_article_title(article, namespace='content', top_k=30, show_options={'wordcloud':False, 'tabular':False}))\n",
        "    results.append(query_article_content(article, namespace='title', top_k=30, show_options={'wordcloud':False, 'tabular':False}))\n",
        "    results.append(query_article_content(article, namespace='content', top_k=30, show_options={'wordcloud':False, 'tabular':False}))\n",
        "\n",
        "    articles_scores = {}\n",
        "    articles_count = {}\n",
        "\n",
        "    for res in results:\n",
        "        ids = [r.id for r in res.matches]\n",
        "        scores = [r.score for r in res.matches]\n",
        "        for id, score in zip(ids, scores):\n",
        "            if id not in articles_scores:\n",
        "                articles_scores[id] = score\n",
        "                articles_count[id] = 1\n",
        "            else:\n",
        "                articles_scores[id] += score\n",
        "                articles_count[id] += 1\n",
        "    \n",
        "    return articles_scores , articles_count\n",
        "\n",
        "def show_aggregated_results(results_dict, counts, show_options={'wordcloud':True, 'tabular':True}):\n",
        "    '''Shows results after aggregation. Values are sorted based\n",
        "    on the number of queries they appear (1-4) and based on their\n",
        "    average score.'''\n",
        "    \n",
        "    df = pd.DataFrame({'id':results_dict.keys(), \n",
        "                       'count': counts.values(),\n",
        "                       'average_score':[round(r/c, 3) for r, c in zip(results_dict.values(),counts.values())],\n",
        "                       'title': [titles_mapped[int(_id)] if int(_id) in titles_mapped else ' '  for _id in results_dict.keys()],\n",
        "                       'content': [content_mapped[int(_id)] if int(_id) in content_mapped else ' '  for _id in results_dict.keys()],\n",
        "                       })\n",
        "    df.sort_values(by=['count', 'average_score'], ascending=False, inplace=True)\n",
        "    \n",
        "    if show_options['tabular']:\n",
        "        print('\\nMost similar results after aggregation:\\n')\n",
        "        display(df.head(5))\n",
        "    if show_options['wordcloud']:\n",
        "        print('\\nWordcloud for titles and content after aggregation:')\n",
        "        print('-Titles:')\n",
        "        get_wordcloud_for_article(df[:10], 'title')\n",
        "        print('-Content:')\n",
        "        get_wordcloud_for_article(df[:10], 'content')\n",
        "    print('\\n')"
      ]
    },
    {
      "cell_type": "markdown",
      "metadata": {
        "id": "pRwfWI6VrTzU"
      },
      "source": [
        "### Query by Aggregation\n",
        "We are ready to query our service! We will use all the above auxiliary functions to query the test articles. We will be using our cross-namespace approach that combines four query results into one.\n",
        "\n",
        "Note that you can add the tabular data results for each query by changing the ```show_options``` flags below."
      ]
    },
    {
      "cell_type": "code",
      "execution_count": 23,
      "metadata": {
        "colab": {
          "base_uri": "https://localhost:8080/",
          "height": 1000
        },
        "id": "RWmcBXZL6FJb",
        "outputId": "62a1ea91-cf99-441b-b5b3-6b61bc231bfc"
      },
      "outputs": [
        {
          "output_type": "stream",
          "name": "stdout",
          "text": [
            "\n",
            "Article 1\n",
            "\n",
            " Title: The Rise and Fall and Rise of Virtual Reality\n",
            " Content: In the wake of Facebook's purchase of Oculus VR, can this revolutionary technology triumph anew?\n",
            "\n",
            "Most similar results after aggregation:\n",
            "\n"
          ]
        },
        {
          "output_type": "display_data",
          "data": {
            "text/plain": [
              "       id  count  average_score  \\\n",
              "59  19720      2          0.809   \n",
              "61   7201      2          0.808   \n",
              "63  34611      2          0.806   \n",
              "62  13199      2          0.800   \n",
              "64   9533      2          0.800   \n",
              "\n",
              "                                                                                                      title  \\\n",
              "59                 Oculus Founder, at Center of Legal Battle Over VR, Departs Facebook - The New York Times   \n",
              "61                                                   Flush with cash, Oculus plans ambitious new VR headset   \n",
              "63                           Microsoft Introducing VR Headsets at Half the Price of Oculus Rift - Breitbart   \n",
              "62                          Oculus VR founder Palmer Luckey talks GoPro, 'Minecraft' and eSports - LA Times   \n",
              "64  Virtual reality visionary Palmer Luckey leaves Facebook 3 years after $2-billion Oculus deal - LA Times   \n",
              "\n",
              "                                                                                                                                                                                                    content  \n",
              "59  SAN FRANCISCO — Palmer Luckey, a founder of the virtual-reality technology company Oculus, has left Facebook three years after the social network acquired his company for close to $3 billion. Mr. ...  \n",
              "61        According to Oculus Rift inventor Palmer Luckey, virtual reality is near and dear to Marc Andreessen&amprsquos heart. Twenty years ago&ampnbsp&ampmdash&ampnbspbefore he created the Mosaic we...  \n",
              "63  On October 26, Microsoft doubled down on virtual reality by announcing their own VR headsets at the Windows 10 event.[Unless you’ve got $599 for the Oculus Rift, or $799 for Valve’s HTC Vive, your...  \n",
              "62  Oculus VR founder Palmer Luckey answers questions at the Loews Hollywood Hotel on Sept. 24. ', 'A few years ago, journalism major Palmer Luckey dropped out of Cal State Long Beach to work on a dev...  \n",
              "64  Palmer Luckey, the Long Beach entrepreneur whose zeal for virtual reality kickstarted mass investment in the technology, has left Facebook three years after selling his start-up Oculus VR to the s...  "
            ],
            "text/html": [
              "\n",
              "  <div id=\"df-9097b03d-9fac-4055-84e0-079a118927d3\">\n",
              "    <div class=\"colab-df-container\">\n",
              "      <div>\n",
              "<style scoped>\n",
              "    .dataframe tbody tr th:only-of-type {\n",
              "        vertical-align: middle;\n",
              "    }\n",
              "\n",
              "    .dataframe tbody tr th {\n",
              "        vertical-align: top;\n",
              "    }\n",
              "\n",
              "    .dataframe thead th {\n",
              "        text-align: right;\n",
              "    }\n",
              "</style>\n",
              "<table border=\"1\" class=\"dataframe\">\n",
              "  <thead>\n",
              "    <tr style=\"text-align: right;\">\n",
              "      <th></th>\n",
              "      <th>id</th>\n",
              "      <th>count</th>\n",
              "      <th>average_score</th>\n",
              "      <th>title</th>\n",
              "      <th>content</th>\n",
              "    </tr>\n",
              "  </thead>\n",
              "  <tbody>\n",
              "    <tr>\n",
              "      <th>59</th>\n",
              "      <td>19720</td>\n",
              "      <td>2</td>\n",
              "      <td>0.809</td>\n",
              "      <td>Oculus Founder, at Center of Legal Battle Over VR, Departs Facebook - The New York Times</td>\n",
              "      <td>SAN FRANCISCO — Palmer Luckey, a founder of the virtual-reality technology company Oculus, has left Facebook three years after the social network acquired his company for close to $3 billion. Mr. ...</td>\n",
              "    </tr>\n",
              "    <tr>\n",
              "      <th>61</th>\n",
              "      <td>7201</td>\n",
              "      <td>2</td>\n",
              "      <td>0.808</td>\n",
              "      <td>Flush with cash, Oculus plans ambitious new VR headset</td>\n",
              "      <td>According to Oculus Rift inventor Palmer Luckey, virtual reality is near and dear to Marc Andreessen&amp;amprsquos heart. Twenty years ago&amp;ampnbsp&amp;ampmdash&amp;ampnbspbefore he created the Mosaic we...</td>\n",
              "    </tr>\n",
              "    <tr>\n",
              "      <th>63</th>\n",
              "      <td>34611</td>\n",
              "      <td>2</td>\n",
              "      <td>0.806</td>\n",
              "      <td>Microsoft Introducing VR Headsets at Half the Price of Oculus Rift - Breitbart</td>\n",
              "      <td>On October 26, Microsoft doubled down on virtual reality by announcing their own VR headsets at the Windows 10 event.[Unless you’ve got $599 for the Oculus Rift, or $799 for Valve’s HTC Vive, your...</td>\n",
              "    </tr>\n",
              "    <tr>\n",
              "      <th>62</th>\n",
              "      <td>13199</td>\n",
              "      <td>2</td>\n",
              "      <td>0.800</td>\n",
              "      <td>Oculus VR founder Palmer Luckey talks GoPro, 'Minecraft' and eSports - LA Times</td>\n",
              "      <td>Oculus VR founder Palmer Luckey answers questions at the Loews Hollywood Hotel on Sept. 24. ', 'A few years ago, journalism major Palmer Luckey dropped out of Cal State Long Beach to work on a dev...</td>\n",
              "    </tr>\n",
              "    <tr>\n",
              "      <th>64</th>\n",
              "      <td>9533</td>\n",
              "      <td>2</td>\n",
              "      <td>0.800</td>\n",
              "      <td>Virtual reality visionary Palmer Luckey leaves Facebook 3 years after $2-billion Oculus deal - LA Times</td>\n",
              "      <td>Palmer Luckey, the Long Beach entrepreneur whose zeal for virtual reality kickstarted mass investment in the technology, has left Facebook three years after selling his start-up Oculus VR to the s...</td>\n",
              "    </tr>\n",
              "  </tbody>\n",
              "</table>\n",
              "</div>\n",
              "      <button class=\"colab-df-convert\" onclick=\"convertToInteractive('df-9097b03d-9fac-4055-84e0-079a118927d3')\"\n",
              "              title=\"Convert this dataframe to an interactive table.\"\n",
              "              style=\"display:none;\">\n",
              "        \n",
              "  <svg xmlns=\"http://www.w3.org/2000/svg\" height=\"24px\"viewBox=\"0 0 24 24\"\n",
              "       width=\"24px\">\n",
              "    <path d=\"M0 0h24v24H0V0z\" fill=\"none\"/>\n",
              "    <path d=\"M18.56 5.44l.94 2.06.94-2.06 2.06-.94-2.06-.94-.94-2.06-.94 2.06-2.06.94zm-11 1L8.5 8.5l.94-2.06 2.06-.94-2.06-.94L8.5 2.5l-.94 2.06-2.06.94zm10 10l.94 2.06.94-2.06 2.06-.94-2.06-.94-.94-2.06-.94 2.06-2.06.94z\"/><path d=\"M17.41 7.96l-1.37-1.37c-.4-.4-.92-.59-1.43-.59-.52 0-1.04.2-1.43.59L10.3 9.45l-7.72 7.72c-.78.78-.78 2.05 0 2.83L4 21.41c.39.39.9.59 1.41.59.51 0 1.02-.2 1.41-.59l7.78-7.78 2.81-2.81c.8-.78.8-2.07 0-2.86zM5.41 20L4 18.59l7.72-7.72 1.47 1.35L5.41 20z\"/>\n",
              "  </svg>\n",
              "      </button>\n",
              "      \n",
              "  <style>\n",
              "    .colab-df-container {\n",
              "      display:flex;\n",
              "      flex-wrap:wrap;\n",
              "      gap: 12px;\n",
              "    }\n",
              "\n",
              "    .colab-df-convert {\n",
              "      background-color: #E8F0FE;\n",
              "      border: none;\n",
              "      border-radius: 50%;\n",
              "      cursor: pointer;\n",
              "      display: none;\n",
              "      fill: #1967D2;\n",
              "      height: 32px;\n",
              "      padding: 0 0 0 0;\n",
              "      width: 32px;\n",
              "    }\n",
              "\n",
              "    .colab-df-convert:hover {\n",
              "      background-color: #E2EBFA;\n",
              "      box-shadow: 0px 1px 2px rgba(60, 64, 67, 0.3), 0px 1px 3px 1px rgba(60, 64, 67, 0.15);\n",
              "      fill: #174EA6;\n",
              "    }\n",
              "\n",
              "    [theme=dark] .colab-df-convert {\n",
              "      background-color: #3B4455;\n",
              "      fill: #D2E3FC;\n",
              "    }\n",
              "\n",
              "    [theme=dark] .colab-df-convert:hover {\n",
              "      background-color: #434B5C;\n",
              "      box-shadow: 0px 1px 3px 1px rgba(0, 0, 0, 0.15);\n",
              "      filter: drop-shadow(0px 1px 2px rgba(0, 0, 0, 0.3));\n",
              "      fill: #FFFFFF;\n",
              "    }\n",
              "  </style>\n",
              "\n",
              "      <script>\n",
              "        const buttonEl =\n",
              "          document.querySelector('#df-9097b03d-9fac-4055-84e0-079a118927d3 button.colab-df-convert');\n",
              "        buttonEl.style.display =\n",
              "          google.colab.kernel.accessAllowed ? 'block' : 'none';\n",
              "\n",
              "        async function convertToInteractive(key) {\n",
              "          const element = document.querySelector('#df-9097b03d-9fac-4055-84e0-079a118927d3');\n",
              "          const dataTable =\n",
              "            await google.colab.kernel.invokeFunction('convertToInteractive',\n",
              "                                                     [key], {});\n",
              "          if (!dataTable) return;\n",
              "\n",
              "          const docLinkHtml = 'Like what you see? Visit the ' +\n",
              "            '<a target=\"_blank\" href=https://colab.research.google.com/notebooks/data_table.ipynb>data table notebook</a>'\n",
              "            + ' to learn more about interactive tables.';\n",
              "          element.innerHTML = '';\n",
              "          dataTable['output_type'] = 'display_data';\n",
              "          await google.colab.output.renderOutput(dataTable, element);\n",
              "          const docLink = document.createElement('div');\n",
              "          docLink.innerHTML = docLinkHtml;\n",
              "          element.appendChild(docLink);\n",
              "        }\n",
              "      </script>\n",
              "    </div>\n",
              "  </div>\n",
              "  "
            ]
          },
          "metadata": {}
        },
        {
          "output_type": "stream",
          "name": "stdout",
          "text": [
            "\n",
            "\n",
            "\n",
            "Article 2\n",
            "\n",
            " Title: Who should go to Mars?\n",
            " Content: Elon Musk laid out his plan to colonize Mars at a conference on Tuesday, but it was during the Q&ampampA session that a woman asked one of the key questions: who will be chosen to embark on a ri...\n",
            "\n",
            "Most similar results after aggregation:\n",
            "\n"
          ]
        },
        {
          "output_type": "display_data",
          "data": {
            "text/plain": [
              "        id  count  average_score  \\\n",
              "3   206370      2          0.703   \n",
              "6    83533      2          0.679   \n",
              "11   83531      2          0.664   \n",
              "27   16615      2          0.641   \n",
              "29  158293      2          0.640   \n",
              "\n",
              "                                                             title  \\\n",
              "3               How Mars lost its atmosphere, and why Earth didn’t   \n",
              "6    Mars Reconnaissance Orbiter celebrates 10 years at red planet   \n",
              "11                   Buzz Aldrin eyes 2040 for manned Mars mission   \n",
              "27  NASA orbiters watch as comet flies safely past Mars - LA Times   \n",
              "29               Mars makes closest approach to Earth for 11 years   \n",
              "\n",
              "                                                                                                                                                                                                    content  \n",
              "3            Mars was once wetter and warmer, and very possibly a congenial environment for life as we know it. Today it looks mighty dead, with all due respect. If there's life, it's cryptic. Mars ju...  \n",
              "6   [Sign in to comment!, NASA’s Mars Reconnaissance Orbiter (MRO) arrived at the red planet 10 years ago today and has since completed 45,000 orbits and generated a vast amount of scientific data., O...  \n",
              "11  [Sign in to comment!, Former astronaut Buzz Aldrin is eyeing 2040 for the first manned mission to Mars, noting that the red planet’s moon Phobos could play a vital role for astronauts., “I think t...  \n",
              "27  Comet Siding Spring sailed past Mars on Sunday, coming 10 times closer to the Red Planet than any comet on record has come to Earth.', \"At the time of the comet's closest approach at 11:27 a.m., i...  \n",
              "29  Mars reaches its closest approach to Earth for 11 years this evening at 21:35 GMT. The red planet will be just 75 million kilometres away., Mars has been steadily approaching, tripling its apparen...  "
            ],
            "text/html": [
              "\n",
              "  <div id=\"df-0fb98766-752e-43a8-95e5-26fa7deacfff\">\n",
              "    <div class=\"colab-df-container\">\n",
              "      <div>\n",
              "<style scoped>\n",
              "    .dataframe tbody tr th:only-of-type {\n",
              "        vertical-align: middle;\n",
              "    }\n",
              "\n",
              "    .dataframe tbody tr th {\n",
              "        vertical-align: top;\n",
              "    }\n",
              "\n",
              "    .dataframe thead th {\n",
              "        text-align: right;\n",
              "    }\n",
              "</style>\n",
              "<table border=\"1\" class=\"dataframe\">\n",
              "  <thead>\n",
              "    <tr style=\"text-align: right;\">\n",
              "      <th></th>\n",
              "      <th>id</th>\n",
              "      <th>count</th>\n",
              "      <th>average_score</th>\n",
              "      <th>title</th>\n",
              "      <th>content</th>\n",
              "    </tr>\n",
              "  </thead>\n",
              "  <tbody>\n",
              "    <tr>\n",
              "      <th>3</th>\n",
              "      <td>206370</td>\n",
              "      <td>2</td>\n",
              "      <td>0.703</td>\n",
              "      <td>How Mars lost its atmosphere, and why Earth didn’t</td>\n",
              "      <td>Mars was once wetter and warmer, and very possibly a congenial environment for life as we know it. Today it looks mighty dead, with all due respect. If there's life, it's cryptic. Mars ju...</td>\n",
              "    </tr>\n",
              "    <tr>\n",
              "      <th>6</th>\n",
              "      <td>83533</td>\n",
              "      <td>2</td>\n",
              "      <td>0.679</td>\n",
              "      <td>Mars Reconnaissance Orbiter celebrates 10 years at red planet</td>\n",
              "      <td>[Sign in to comment!, NASA’s Mars Reconnaissance Orbiter (MRO) arrived at the red planet 10 years ago today and has since completed 45,000 orbits and generated a vast amount of scientific data., O...</td>\n",
              "    </tr>\n",
              "    <tr>\n",
              "      <th>11</th>\n",
              "      <td>83531</td>\n",
              "      <td>2</td>\n",
              "      <td>0.664</td>\n",
              "      <td>Buzz Aldrin eyes 2040 for manned Mars mission</td>\n",
              "      <td>[Sign in to comment!, Former astronaut Buzz Aldrin is eyeing 2040 for the first manned mission to Mars, noting that the red planet’s moon Phobos could play a vital role for astronauts., “I think t...</td>\n",
              "    </tr>\n",
              "    <tr>\n",
              "      <th>27</th>\n",
              "      <td>16615</td>\n",
              "      <td>2</td>\n",
              "      <td>0.641</td>\n",
              "      <td>NASA orbiters watch as comet flies safely past Mars - LA Times</td>\n",
              "      <td>Comet Siding Spring sailed past Mars on Sunday, coming 10 times closer to the Red Planet than any comet on record has come to Earth.', \"At the time of the comet's closest approach at 11:27 a.m., i...</td>\n",
              "    </tr>\n",
              "    <tr>\n",
              "      <th>29</th>\n",
              "      <td>158293</td>\n",
              "      <td>2</td>\n",
              "      <td>0.640</td>\n",
              "      <td>Mars makes closest approach to Earth for 11 years</td>\n",
              "      <td>Mars reaches its closest approach to Earth for 11 years this evening at 21:35 GMT. The red planet will be just 75 million kilometres away., Mars has been steadily approaching, tripling its apparen...</td>\n",
              "    </tr>\n",
              "  </tbody>\n",
              "</table>\n",
              "</div>\n",
              "      <button class=\"colab-df-convert\" onclick=\"convertToInteractive('df-0fb98766-752e-43a8-95e5-26fa7deacfff')\"\n",
              "              title=\"Convert this dataframe to an interactive table.\"\n",
              "              style=\"display:none;\">\n",
              "        \n",
              "  <svg xmlns=\"http://www.w3.org/2000/svg\" height=\"24px\"viewBox=\"0 0 24 24\"\n",
              "       width=\"24px\">\n",
              "    <path d=\"M0 0h24v24H0V0z\" fill=\"none\"/>\n",
              "    <path d=\"M18.56 5.44l.94 2.06.94-2.06 2.06-.94-2.06-.94-.94-2.06-.94 2.06-2.06.94zm-11 1L8.5 8.5l.94-2.06 2.06-.94-2.06-.94L8.5 2.5l-.94 2.06-2.06.94zm10 10l.94 2.06.94-2.06 2.06-.94-2.06-.94-.94-2.06-.94 2.06-2.06.94z\"/><path d=\"M17.41 7.96l-1.37-1.37c-.4-.4-.92-.59-1.43-.59-.52 0-1.04.2-1.43.59L10.3 9.45l-7.72 7.72c-.78.78-.78 2.05 0 2.83L4 21.41c.39.39.9.59 1.41.59.51 0 1.02-.2 1.41-.59l7.78-7.78 2.81-2.81c.8-.78.8-2.07 0-2.86zM5.41 20L4 18.59l7.72-7.72 1.47 1.35L5.41 20z\"/>\n",
              "  </svg>\n",
              "      </button>\n",
              "      \n",
              "  <style>\n",
              "    .colab-df-container {\n",
              "      display:flex;\n",
              "      flex-wrap:wrap;\n",
              "      gap: 12px;\n",
              "    }\n",
              "\n",
              "    .colab-df-convert {\n",
              "      background-color: #E8F0FE;\n",
              "      border: none;\n",
              "      border-radius: 50%;\n",
              "      cursor: pointer;\n",
              "      display: none;\n",
              "      fill: #1967D2;\n",
              "      height: 32px;\n",
              "      padding: 0 0 0 0;\n",
              "      width: 32px;\n",
              "    }\n",
              "\n",
              "    .colab-df-convert:hover {\n",
              "      background-color: #E2EBFA;\n",
              "      box-shadow: 0px 1px 2px rgba(60, 64, 67, 0.3), 0px 1px 3px 1px rgba(60, 64, 67, 0.15);\n",
              "      fill: #174EA6;\n",
              "    }\n",
              "\n",
              "    [theme=dark] .colab-df-convert {\n",
              "      background-color: #3B4455;\n",
              "      fill: #D2E3FC;\n",
              "    }\n",
              "\n",
              "    [theme=dark] .colab-df-convert:hover {\n",
              "      background-color: #434B5C;\n",
              "      box-shadow: 0px 1px 3px 1px rgba(0, 0, 0, 0.15);\n",
              "      filter: drop-shadow(0px 1px 2px rgba(0, 0, 0, 0.3));\n",
              "      fill: #FFFFFF;\n",
              "    }\n",
              "  </style>\n",
              "\n",
              "      <script>\n",
              "        const buttonEl =\n",
              "          document.querySelector('#df-0fb98766-752e-43a8-95e5-26fa7deacfff button.colab-df-convert');\n",
              "        buttonEl.style.display =\n",
              "          google.colab.kernel.accessAllowed ? 'block' : 'none';\n",
              "\n",
              "        async function convertToInteractive(key) {\n",
              "          const element = document.querySelector('#df-0fb98766-752e-43a8-95e5-26fa7deacfff');\n",
              "          const dataTable =\n",
              "            await google.colab.kernel.invokeFunction('convertToInteractive',\n",
              "                                                     [key], {});\n",
              "          if (!dataTable) return;\n",
              "\n",
              "          const docLinkHtml = 'Like what you see? Visit the ' +\n",
              "            '<a target=\"_blank\" href=https://colab.research.google.com/notebooks/data_table.ipynb>data table notebook</a>'\n",
              "            + ' to learn more about interactive tables.';\n",
              "          element.innerHTML = '';\n",
              "          dataTable['output_type'] = 'display_data';\n",
              "          await google.colab.output.renderOutput(dataTable, element);\n",
              "          const docLink = document.createElement('div');\n",
              "          docLink.innerHTML = docLinkHtml;\n",
              "          element.appendChild(docLink);\n",
              "        }\n",
              "      </script>\n",
              "    </div>\n",
              "  </div>\n",
              "  "
            ]
          },
          "metadata": {}
        },
        {
          "output_type": "stream",
          "name": "stdout",
          "text": [
            "\n",
            "\n"
          ]
        }
      ],
      "source": [
        "# Query index using simple and cross namespace approach\n",
        "for e, (_, test_article) in enumerate(test_articles.iterrows()):\n",
        "    print(f'\\nArticle {e+1}')\n",
        "    print(f'\\n Title: {test_article.title}')\n",
        "    print(f' Content: {test_article.content[:200].strip()}' + ('...' if len(test_article.content) > 200 else ''))\n",
        "    \n",
        "    # Uncomment to query the titles in title namespace\n",
        "    # query_article_title(test_article, 'title',  show_options={'wordcloud':True, 'tabular':False})\n",
        "\n",
        "    # Uncomment to query the content in content namespace\n",
        "    # query_article_content(test_article, namespace='content', show_options={'wordcloud':True, 'tabular':False})\n",
        "\n",
        "    # Cross namespace query\n",
        "    aggregated_results, counts = aggregate_results(test_article)\n",
        "    show_aggregated_results(aggregated_results, counts, show_options={'wordcloud':False, 'tabular':True})"
      ]
    },
    {
      "cell_type": "markdown",
      "metadata": {
        "id": "3haAwbMsYb6q"
      },
      "source": [
        "## Summary\n",
        "We demonstrated a simple textual semantic search approach that aggregates results from two different news article representations:  for titles only and content only. We do that by utilizing Pinecone's namespace feature to create two namespaced indexes. The aggregation mechanism is simple. We use the query's title and content representations to query both namespaces and weight results by their occurrences. Our example queries illustrate the effectiveness of this approach. \n",
        "\n",
        "We encourage you to try the code with your data. You might want to try other embedding or aggregation mechanisms. Working with a similarity search service makes such experimentations easy. Have fun, and [let us know](https://www.pinecone.io/contact/) if you have any questions or interesting findings. "
      ]
    },
    {
      "cell_type": "markdown",
      "metadata": {
        "id": "LpX4GTH53oEW"
      },
      "source": [
        "## Delete the index"
      ]
    },
    {
      "cell_type": "markdown",
      "metadata": {
        "id": "ppirLic6DbrX"
      },
      "source": [
        "Delete the index once you are sure that you do not want to use it anymore. Once the index is deleted, you cannot use it again. Use it as a cleanup step if you are done working with a specific index.\n"
      ]
    },
    {
      "cell_type": "code",
      "execution_count": null,
      "metadata": {
        "id": "xcd6vDvkRB-Y"
      },
      "outputs": [],
      "source": [
        "pinecone.delete_index(index_name)"
      ]
    }
  ],
  "metadata": {
    "colab": {
      "collapsed_sections": [],
      "name": "semantic_text.ipynb",
      "provenance": []
    },
    "environment": {
      "name": "common-cpu.m65",
      "type": "gcloud",
      "uri": "gcr.io/deeplearning-platform-release/base-cpu:m65"
    },
    "kernelspec": {
      "display_name": "Python 3",
      "language": "python",
      "name": "python3"
    },
    "language_info": {
      "codemirror_mode": {
        "name": "ipython",
        "version": 3
      },
      "file_extension": ".py",
      "mimetype": "text/x-python",
      "name": "python",
      "nbconvert_exporter": "python",
      "pygments_lexer": "ipython3",
      "version": "3.8.5"
    },
    "accelerator": "GPU"
  },
  "nbformat": 4,
  "nbformat_minor": 0
}