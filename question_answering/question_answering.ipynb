{
 "cells": [
  {
   "cell_type": "markdown",
   "id": "split-aluminum",
   "metadata": {
    "id": "-PtMcin8ai4I",
    "papermill": {
     "duration": 0.048394,
     "end_time": "2021-04-15T21:06:39.560571",
     "exception": false,
     "start_time": "2021-04-15T21:06:39.512177",
     "status": "completed"
    },
    "tags": []
   },
   "source": [
    "# Question Answering with Similarity Search"
   ]
  },
  {
   "cell_type": "markdown",
   "id": "prospective-turner",
   "metadata": {
    "id": "QUSs9GWLx1h9",
    "papermill": {
     "duration": 0.045573,
     "end_time": "2021-04-15T21:06:39.651272",
     "exception": false,
     "start_time": "2021-04-15T21:06:39.605699",
     "status": "completed"
    },
    "tags": []
   },
   "source": [
    "This notebook demonstrates how Pinecone's similarity search as a service helps you build a question answering application. We will index a set of questions and retrieve the most similar stored questions for a new (unseen) question. That way, we can link a new question to answers we might already have.\n",
    "\n",
    "You can build a questions answering application with Pinecone in three steps:\n",
    "- Represent questions as vector embeddings so that semantically similar questions are in close proximity within the same vector space. \n",
    "- Index vectors using Pinecone.\n",
    "- Given a new question, query the index to fetch similar questions. This can allow us to store answers associated with these questions \n",
    "\n",
    "In this notebook we will be dealing with indexing a set of quetions and retrieving similar questions for a new and unseen question.\n",
    "\n"
   ]
  },
  {
   "cell_type": "markdown",
   "id": "terminal-export",
   "metadata": {
    "id": "7mtoglLRydYV",
    "papermill": {
     "duration": 0.044413,
     "end_time": "2021-04-15T21:06:39.741951",
     "exception": false,
     "start_time": "2021-04-15T21:06:39.697538",
     "status": "completed"
    },
    "tags": []
   },
   "source": [
    "## Dependencies"
   ]
  },
  {
   "cell_type": "code",
   "execution_count": 1,
   "id": "expressed-executive",
   "metadata": {
    "execution": {
     "iopub.execute_input": "2021-04-15T21:06:39.845309Z",
     "iopub.status.busy": "2021-04-15T21:06:39.842494Z",
     "iopub.status.idle": "2021-04-15T21:08:22.163939Z",
     "shell.execute_reply": "2021-04-15T21:08:22.164616Z"
    },
    "id": "GK4btbDsIF4-",
    "papermill": {
     "duration": 102.376674,
     "end_time": "2021-04-15T21:08:22.165052",
     "exception": false,
     "start_time": "2021-04-15T21:06:39.788378",
     "status": "completed"
    },
    "tags": []
   },
   "outputs": [],
   "source": [
    "!pip install -qU matplotlib pinecone-client ipywidgets\n",
    "!pip install -qU sentence-transformers --no-cache-dir"
   ]
  },
  {
   "cell_type": "code",
   "execution_count": 1,
   "id": "another-vintage",
   "metadata": {
    "execution": {
     "iopub.execute_input": "2021-04-15T21:08:22.264702Z",
     "iopub.status.busy": "2021-04-15T21:08:22.263478Z",
     "iopub.status.idle": "2021-04-15T21:08:23.457180Z",
     "shell.execute_reply": "2021-04-15T21:08:23.457893Z"
    },
    "id": "5azXwWWdIF5E",
    "papermill": {
     "duration": 1.247965,
     "end_time": "2021-04-15T21:08:23.458146",
     "exception": false,
     "start_time": "2021-04-15T21:08:22.210181",
     "status": "completed"
    },
    "tags": []
   },
   "outputs": [],
   "source": [
    "import pandas as pd\n",
    "import numpy as np\n",
    "\n",
    "%matplotlib inline"
   ]
  },
  {
   "cell_type": "markdown",
   "id": "earned-custom",
   "metadata": {
    "id": "40o_x4kHIdAN",
    "papermill": {
     "duration": 0.045818,
     "end_time": "2021-04-15T21:08:23.550719",
     "exception": false,
     "start_time": "2021-04-15T21:08:23.504901",
     "status": "completed"
    },
    "tags": []
   },
   "source": [
    "## Pinecone Installation and Setup"
   ]
  },
  {
   "cell_type": "code",
   "execution_count": 28,
   "id": "proprietary-animal",
   "metadata": {
    "execution": {
     "iopub.execute_input": "2021-04-15T21:08:23.648900Z",
     "iopub.status.busy": "2021-04-15T21:08:23.648053Z",
     "iopub.status.idle": "2021-04-15T21:08:24.325452Z",
     "shell.execute_reply": "2021-04-15T21:08:24.324627Z"
    },
    "id": "0T2aDjC0IF5H",
    "papermill": {
     "duration": 0.730152,
     "end_time": "2021-04-15T21:08:24.325660",
     "exception": false,
     "start_time": "2021-04-15T21:08:23.595508",
     "status": "completed"
    },
    "tags": []
   },
   "outputs": [],
   "source": [
    "import pinecone\n",
    "import os\n",
    "\n",
    "# load Pinecone API key\n",
    "api_key = os.getenv(\"PINECONE_API_KEY\") or \"YOUR_API_KEY\"\n",
    "pinecone.init(api_key=api_key, environment='us-west1-gcp')"
   ]
  },
  {
   "cell_type": "markdown",
   "id": "signed-maria",
   "metadata": {
    "id": "BRlQ59GFydYX",
    "papermill": {
     "duration": 0.04622,
     "end_time": "2021-04-15T21:08:24.416599",
     "exception": false,
     "start_time": "2021-04-15T21:08:24.370379",
     "status": "completed"
    },
    "tags": []
   },
   "source": [
    "[Get a Pinecone API key](https://www.pinecone.io/start/) if you don’t have one already."
   ]
  },
  {
   "cell_type": "markdown",
   "id": "minimal-general",
   "metadata": {
    "id": "ku__bKoJ5LUj",
    "papermill": {
     "duration": 0.045794,
     "end_time": "2021-04-15T21:08:24.507141",
     "exception": false,
     "start_time": "2021-04-15T21:08:24.461347",
     "status": "completed"
    },
    "tags": []
   },
   "source": [
    "## Create a New Pinecone Index"
   ]
  },
  {
   "cell_type": "code",
   "execution_count": 3,
   "id": "oriental-ethics",
   "metadata": {
    "execution": {
     "iopub.execute_input": "2021-04-15T21:08:24.604860Z",
     "iopub.status.busy": "2021-04-15T21:08:24.604038Z",
     "iopub.status.idle": "2021-04-15T21:08:24.607475Z",
     "shell.execute_reply": "2021-04-15T21:08:24.608045Z"
    },
    "id": "bUUZOnlWIF5I",
    "papermill": {
     "duration": 0.055961,
     "end_time": "2021-04-15T21:08:24.608283",
     "exception": false,
     "start_time": "2021-04-15T21:08:24.552322",
     "status": "completed"
    },
    "tags": []
   },
   "outputs": [],
   "source": [
    "# pick a name for the new index\n",
    "index_name = \"question-answering\""
   ]
  },
  {
   "cell_type": "code",
   "execution_count": 4,
   "id": "extensive-basin",
   "metadata": {
    "execution": {
     "iopub.execute_input": "2021-04-15T21:08:24.710587Z",
     "iopub.status.busy": "2021-04-15T21:08:24.709749Z",
     "iopub.status.idle": "2021-04-15T21:08:37.484077Z",
     "shell.execute_reply": "2021-04-15T21:08:37.483412Z"
    },
    "id": "5SvD05K2IF5I",
    "papermill": {
     "duration": 12.827272,
     "end_time": "2021-04-15T21:08:37.484264",
     "exception": false,
     "start_time": "2021-04-15T21:08:24.656992",
     "status": "completed"
    },
    "tags": []
   },
   "outputs": [],
   "source": [
    "# check whether an index with the same name already exists\n",
    "if index_name in pinecone.list_indexes():\n",
    "    pinecone.delete_index(index_name)"
   ]
  },
  {
   "cell_type": "markdown",
   "id": "intimate-blanket",
   "metadata": {
    "id": "EGAAtn4B6pXE",
    "papermill": {
     "duration": 0.046927,
     "end_time": "2021-04-15T21:08:37.576932",
     "exception": false,
     "start_time": "2021-04-15T21:08:37.530005",
     "status": "completed"
    },
    "tags": []
   },
   "source": [
    "**Create index**"
   ]
  },
  {
   "cell_type": "code",
   "execution_count": 7,
   "id": "short-wedding",
   "metadata": {
    "colab": {
     "base_uri": "https://localhost:8080/",
     "height": 84,
     "referenced_widgets": [
      "08d0211fff1145b7a079ddb581cb8f2a",
      "c73a6860c5cb4ca989e44be76f9e774d",
      "7ad89d8fd4df4f668942aa985626ded9",
      "d678c4fccdb24eb3ad7405298b41c045",
      "fc27745cea284dcb8ea8cf814b51892d",
      "83b66a0201764264aa87949c58fbcc2d",
      "f867f73510af4260ada37875d653c855",
      "b64dc2c433c5447cbe292771db0b5a14",
      "0037c2699b334c969038bfc56cda4888",
      "2b53ef8043d24b8c89e404b490709f48",
      "1cbb74afa3b6468a823eacd1ef88ea9e"
     ]
    },
    "execution": {
     "iopub.execute_input": "2021-04-15T21:08:37.674408Z",
     "iopub.status.busy": "2021-04-15T21:08:37.673564Z",
     "iopub.status.idle": "2021-04-15T21:08:51.093041Z",
     "shell.execute_reply": "2021-04-15T21:08:51.092400Z"
    },
    "executionInfo": {
     "elapsed": 37454,
     "status": "ok",
     "timestamp": 1617767546532,
     "user": {
      "displayName": "Rajat Tripathi",
      "photoUrl": "",
      "userId": "04027590592238680740"
     },
     "user_tz": 240
    },
    "id": "e2sSJnqjIF5I",
    "outputId": "b99993fe-b410-497c-981a-d440440b32b6",
    "papermill": {
     "duration": 13.471493,
     "end_time": "2021-04-15T21:08:51.093260",
     "exception": false,
     "start_time": "2021-04-15T21:08:37.621767",
     "status": "completed"
    },
    "tags": []
   },
   "outputs": [],
   "source": [
    "pinecone.create_index(name=index_name, dimension=300, metric=\"cosine\", shards=1)"
   ]
  },
  {
   "cell_type": "markdown",
   "id": "complete-accountability",
   "metadata": {
    "id": "BwLYWqIP7Bgw",
    "papermill": {
     "duration": 0.048559,
     "end_time": "2021-04-15T21:08:51.190870",
     "exception": false,
     "start_time": "2021-04-15T21:08:51.142311",
     "status": "completed"
    },
    "tags": []
   },
   "source": [
    "**Connect to the index**\n",
    "\n",
    "The index object, a class instance of pinecone.Index , will be reused for optimal performance."
   ]
  },
  {
   "cell_type": "code",
   "execution_count": 29,
   "id": "false-island",
   "metadata": {
    "colab": {
     "base_uri": "https://localhost:8080/"
    },
    "execution": {
     "iopub.execute_input": "2021-04-15T21:08:51.291339Z",
     "iopub.status.busy": "2021-04-15T21:08:51.290370Z",
     "iopub.status.idle": "2021-04-15T21:08:52.043920Z",
     "shell.execute_reply": "2021-04-15T21:08:52.043197Z"
    },
    "executionInfo": {
     "elapsed": 1234,
     "status": "ok",
     "timestamp": 1617767573742,
     "user": {
      "displayName": "Rajat Tripathi",
      "photoUrl": "",
      "userId": "04027590592238680740"
     },
     "user_tz": 240
    },
    "id": "EYjwS9n5IF5J",
    "outputId": "8dfcc8b9-0e5d-4248-93d8-ed208fb34ce3",
    "papermill": {
     "duration": 0.807245,
     "end_time": "2021-04-15T21:08:52.044128",
     "exception": false,
     "start_time": "2021-04-15T21:08:51.236883",
     "status": "completed"
    },
    "tags": []
   },
   "outputs": [],
   "source": [
    "index = pinecone.Index(index_name=index_name)"
   ]
  },
  {
   "cell_type": "markdown",
   "id": "explicit-priest",
   "metadata": {
    "id": "OiPJpwHtJrVv",
    "papermill": {
     "duration": 0.049676,
     "end_time": "2021-04-15T21:08:52.139707",
     "exception": false,
     "start_time": "2021-04-15T21:08:52.090031",
     "status": "completed"
    },
    "tags": []
   },
   "source": [
    "## Uploading Questions"
   ]
  },
  {
   "cell_type": "markdown",
   "id": "defined-magnet",
   "metadata": {
    "id": "iZ-IFsUC7OvU",
    "papermill": {
     "duration": 0.046308,
     "end_time": "2021-04-15T21:08:52.233605",
     "exception": false,
     "start_time": "2021-04-15T21:08:52.187297",
     "status": "completed"
    },
    "tags": []
   },
   "source": [
    "The dataset used in this notebook is the [Quora Question Pairs Dataset](https://www.kaggle.com/c/quora-question-pairs)."
   ]
  },
  {
   "cell_type": "markdown",
   "id": "cleared-discussion",
   "metadata": {
    "id": "XWDMifcs4L9V",
    "papermill": {
     "duration": 0.047282,
     "end_time": "2021-04-15T21:08:52.327202",
     "exception": false,
     "start_time": "2021-04-15T21:08:52.279920",
     "status": "completed"
    },
    "tags": []
   },
   "source": [
    "Let's download the dataset and load the data."
   ]
  },
  {
   "cell_type": "code",
   "execution_count": 5,
   "id": "finite-bronze",
   "metadata": {
    "colab": {
     "base_uri": "https://localhost:8080/"
    },
    "execution": {
     "iopub.execute_input": "2021-04-15T21:08:52.433878Z",
     "iopub.status.busy": "2021-04-15T21:08:52.431642Z",
     "iopub.status.idle": "2021-04-15T21:08:53.592592Z",
     "shell.execute_reply": "2021-04-15T21:08:53.593265Z"
    },
    "executionInfo": {
     "elapsed": 2519,
     "status": "ok",
     "timestamp": 1617767575034,
     "user": {
      "displayName": "Rajat Tripathi",
      "photoUrl": "",
      "userId": "04027590592238680740"
     },
     "user_tz": 240
    },
    "id": "yMcRTwhtyOZ-",
    "outputId": "2b6e48b7-506d-4793-efd6-5a77579ed177",
    "papermill": {
     "duration": 1.219242,
     "end_time": "2021-04-15T21:08:53.593545",
     "exception": false,
     "start_time": "2021-04-15T21:08:52.374303",
     "status": "completed"
    },
    "tags": []
   },
   "outputs": [],
   "source": [
    "# download dataset from the url\n",
    "import requests\n",
    "\n",
    "DATA_DIR = \"tmp\"\n",
    "DATA_FILE = f\"{DATA_DIR}/quora_duplicate_questions.tsv\"\n",
    "DATA_URL = \"https://qim.fs.quoracdn.net/quora_duplicate_questions.tsv\"\n",
    "\n",
    "\n",
    "def download_data():\n",
    "    os.makedirs(DATA_DIR, exist_ok=True)\n",
    "\n",
    "    if not os.path.exists(DATA_FILE):\n",
    "        r = requests.get(DATA_URL)  # create HTTP response object\n",
    "        with open(DATA_FILE, \"wb\") as f:\n",
    "            f.write(r.content)\n",
    "\n",
    "\n",
    "download_data()"
   ]
  },
  {
   "cell_type": "code",
   "execution_count": 16,
   "id": "based-champion",
   "metadata": {
    "colab": {
     "base_uri": "https://localhost:8080/",
     "height": 206
    },
    "execution": {
     "iopub.execute_input": "2021-04-15T21:08:53.699133Z",
     "iopub.status.busy": "2021-04-15T21:08:53.698177Z",
     "iopub.status.idle": "2021-04-15T21:08:55.263678Z",
     "shell.execute_reply": "2021-04-15T21:08:55.262963Z"
    },
    "executionInfo": {
     "elapsed": 4162,
     "status": "ok",
     "timestamp": 1617767576682,
     "user": {
      "displayName": "Rajat Tripathi",
      "photoUrl": "",
      "userId": "04027590592238680740"
     },
     "user_tz": 240
    },
    "id": "IzYvbttbIV0N",
    "outputId": "d140aed3-2076-4042-d457-f2435aa18433",
    "papermill": {
     "duration": 1.623567,
     "end_time": "2021-04-15T21:08:55.263866",
     "exception": false,
     "start_time": "2021-04-15T21:08:53.640299",
     "status": "completed"
    },
    "tags": []
   },
   "outputs": [
    {
     "name": "stdout",
     "output_type": "stream",
     "text": [
      "     qid1  \\\n",
      "0   59978   \n",
      "1  319800   \n",
      "2   59731   \n",
      "3  226004   \n",
      "4  228205   \n",
      "\n",
      "                                                                                                                                      question1  \n",
      "0                                                        What is a suitable solar panel installation provider near San Clemente, California CA?  \n",
      "1                                                                                                                Hollywood MOVIE DOWNLOAD SITE?  \n",
      "2  If the message I sent to someone on WhatsApp is later than her last seen, how could the message be seen, as it is shown by double tick sign?  \n",
      "3                                                                                                            Why do I hardly feel any emotions?  \n",
      "4                                                                                              What is the best combination within a CA course?  \n"
     ]
    }
   ],
   "source": [
    "pd.set_option(\"display.max_colwidth\", 500)\n",
    "\n",
    "df = pd.read_csv(\n",
    "    f\"{DATA_FILE}\", sep=\"\\t\", usecols=[\"qid1\", \"question1\"], index_col=False\n",
    ")\n",
    "df = df.sample(frac=1).reset_index(drop=True)\n",
    "df.drop_duplicates(inplace=True)\n",
    "df['qid1'] = df['qid1'].apply(str)\n",
    "print(df.head())"
   ]
  },
  {
   "cell_type": "markdown",
   "id": "quality-slovak",
   "metadata": {
    "id": "O3Bi1_sDJy6C",
    "papermill": {
     "duration": 0.048216,
     "end_time": "2021-04-15T21:08:55.359112",
     "exception": false,
     "start_time": "2021-04-15T21:08:55.310896",
     "status": "completed"
    },
    "tags": []
   },
   "source": [
    "### Define the model"
   ]
  },
  {
   "cell_type": "markdown",
   "id": "respected-kennedy",
   "metadata": {
    "id": "ab-nE6Rj7ghg",
    "papermill": {
     "duration": 0.046535,
     "end_time": "2021-04-15T21:08:55.452389",
     "exception": false,
     "start_time": "2021-04-15T21:08:55.405854",
     "status": "completed"
    },
    "tags": []
   },
   "source": [
    "We will use the [Averarage Word Embeddings Model](https://nlp.stanford.edu/projects/glove/) for this example. This model has a high computation speed but relatively low quality of embeddings. You can look into other sentence embeddings models such as the [Sentence Embeddings Models trained on Paraphrases](https://huggingface.co/sentence-transformers/paraphrase-distilroberta-base-v1) for improving quality of embeddings. "
   ]
  },
  {
   "cell_type": "code",
   "execution_count": 17,
   "id": "incredible-attribute",
   "metadata": {
    "colab": {
     "base_uri": "https://localhost:8080/",
     "height": 49,
     "referenced_widgets": [
      "9df320c0ee534ccca8c7d2d8dfc1c7e4",
      "7b6032ababb245bfb1ebd03b41e987f8",
      "663a799f31474428bfc01f333c946e31",
      "20fb3daeaed94a2fa841d952a991516d",
      "da7132bc0ee843579d301353e5bb79fb",
      "c57eb53b07f6455ba93039e1ff1f507f",
      "46664a78a597425ab48fba2bcc5b0918",
      "395f3f3ca3a34234a8f28aa66a9cfc98",
      "a1a3662f8202437eba6eb441deb9c084",
      "e7f95c4b2a64447da18d170f4d78a032",
      "480bedef9c2c43ec99398290ff8f839b"
     ]
    },
    "execution": {
     "iopub.execute_input": "2021-04-15T21:08:55.555456Z",
     "iopub.status.busy": "2021-04-15T21:08:55.554079Z",
     "iopub.status.idle": "2021-04-15T21:09:24.460292Z",
     "shell.execute_reply": "2021-04-15T21:09:24.459479Z"
    },
    "executionInfo": {
     "elapsed": 39231,
     "status": "ok",
     "timestamp": 1617767611753,
     "user": {
      "displayName": "Rajat Tripathi",
      "photoUrl": "",
      "userId": "04027590592238680740"
     },
     "user_tz": 240
    },
    "id": "djZt8p4zIF5G",
    "outputId": "7299a8c3-0426-43e4-d294-898c7d3c3eda",
    "papermill": {
     "duration": 28.961377,
     "end_time": "2021-04-15T21:09:24.460508",
     "exception": false,
     "start_time": "2021-04-15T21:08:55.499131",
     "status": "completed"
    },
    "tags": []
   },
   "outputs": [],
   "source": [
    "from sentence_transformers import SentenceTransformer\n",
    "\n",
    "model = SentenceTransformer(\"average_word_embeddings_glove.6B.300d\")"
   ]
  },
  {
   "cell_type": "markdown",
   "id": "leading-savings",
   "metadata": {
    "id": "2VhCyvw3DN3X",
    "papermill": {
     "duration": 0.048413,
     "end_time": "2021-04-15T21:09:24.556921",
     "exception": false,
     "start_time": "2021-04-15T21:09:24.508508",
     "status": "completed"
    },
    "tags": []
   },
   "source": [
    "### Creating Vector Embeddings"
   ]
  },
  {
   "cell_type": "code",
   "execution_count": 18,
   "id": "serial-custody",
   "metadata": {
    "execution": {
     "iopub.execute_input": "2021-04-15T21:09:24.673539Z",
     "iopub.status.busy": "2021-04-15T21:09:24.660954Z",
     "iopub.status.idle": "2021-04-15T21:11:36.568996Z",
     "shell.execute_reply": "2021-04-15T21:11:36.568047Z"
    },
    "id": "De-fH9IIJ8KV",
    "papermill": {
     "duration": 131.964267,
     "end_time": "2021-04-15T21:11:36.569271",
     "exception": false,
     "start_time": "2021-04-15T21:09:24.605004",
     "status": "completed"
    },
    "tags": []
   },
   "outputs": [],
   "source": [
    "# create embedding for each question\n",
    "df[\"question_vector\"] = df.question1.apply(lambda x: model.encode(str(x)).tolist())"
   ]
  },
  {
   "cell_type": "markdown",
   "id": "confused-syndrome",
   "metadata": {
    "id": "rI8AEHtRKPVj",
    "papermill": {
     "duration": 0.048476,
     "end_time": "2021-04-15T21:11:36.665995",
     "exception": false,
     "start_time": "2021-04-15T21:11:36.617519",
     "status": "completed"
    },
    "tags": []
   },
   "source": [
    "### Index the Vectors"
   ]
  },
  {
   "cell_type": "code",
   "execution_count": 19,
   "id": "c1ca6e02",
   "metadata": {},
   "outputs": [],
   "source": [
    "import itertools\n",
    "\n",
    "def chunks(iterable, batch_size=100):\n",
    "    it = iter(iterable)\n",
    "    chunk = tuple(itertools.islice(it, batch_size))\n",
    "    while chunk:\n",
    "        yield chunk\n",
    "        chunk = tuple(itertools.islice(it, batch_size))"
   ]
  },
  {
   "cell_type": "code",
   "execution_count": null,
   "id": "altered-touch",
   "metadata": {
    "colab": {
     "base_uri": "https://localhost:8080/",
     "height": 49,
     "referenced_widgets": [
      "35e13e3e7449430f80d966139e9d4964",
      "0411382fb476443caea1e7ea8ef0aef0",
      "7b41a59e5a344d07a6d90e3b36703a55",
      "09fdddeb27d947f794c94354e521e1d1",
      "d8f63a2834454da1afa24db5b5b9b1dd",
      "fe8a7f9157d34d339f70f10cade3c806",
      "40a83977d20a45ea9f8d2de2c4a1459a",
      "b8bb62065ec74cafa41ad7c69fc437f9",
      "f28bc8659b8c44e6853e6f232f3b388d",
      "4eb8c41be81a46a8bf3c4389dcca8fd1",
      "0ccdf53d60fd433188dcb324d74c21a6"
     ]
    },
    "execution": {
     "iopub.execute_input": "2021-04-15T21:11:36.799785Z",
     "iopub.status.busy": "2021-04-15T21:11:36.798412Z",
     "iopub.status.idle": "2021-04-15T21:11:56.201883Z",
     "shell.execute_reply": "2021-04-15T21:11:56.201192Z"
    },
    "executionInfo": {
     "elapsed": 20198,
     "status": "ok",
     "timestamp": 1617768158249,
     "user": {
      "displayName": "Rajat Tripathi",
      "photoUrl": "",
      "userId": "04027590592238680740"
     },
     "user_tz": 240
    },
    "id": "MJIXXkKyIF5K",
    "outputId": "fdac839d-74ba-4711-c041-62a5d7e22f22",
    "papermill": {
     "duration": 19.488365,
     "end_time": "2021-04-15T21:11:56.202071",
     "exception": false,
     "start_time": "2021-04-15T21:11:36.713706",
     "status": "completed"
    },
    "tags": []
   },
   "outputs": [],
   "source": [
    "for batch in chunks(zip(df.qid1, df.question_vector)):\n",
    "    index.upsert(vectors=batch)"
   ]
  },
  {
   "cell_type": "markdown",
   "id": "large-proportion",
   "metadata": {
    "id": "Mgw2zXeLKrFn",
    "papermill": {
     "duration": 0.049182,
     "end_time": "2021-04-15T21:11:56.302631",
     "exception": false,
     "start_time": "2021-04-15T21:11:56.253449",
     "status": "completed"
    },
    "tags": []
   },
   "source": [
    "## Search"
   ]
  },
  {
   "cell_type": "markdown",
   "id": "arctic-foster",
   "metadata": {
    "id": "1lqK2RhVEenU",
    "papermill": {
     "duration": 0.048842,
     "end_time": "2021-04-15T21:11:56.400092",
     "exception": false,
     "start_time": "2021-04-15T21:11:56.351250",
     "status": "completed"
    },
    "tags": []
   },
   "source": [
    "Once you have indexed the vectors it is very straightforward to query the index. These are the steps you need to follow:\n",
    "- Select a set of questions you want to query with\n",
    "- Use the Average Embedding Model to transform questions into embeddings.\n",
    "- Send each question vector to the Pinecone index and retrieve most similar indexed questions"
   ]
  },
  {
   "cell_type": "code",
   "execution_count": 26,
   "id": "friendly-circular",
   "metadata": {
    "colab": {
     "base_uri": "https://localhost:8080/",
     "height": 361,
     "referenced_widgets": [
      "7dfe55580af4412cb3bcddddd5237237",
      "661f8820b82748edbd52c6968994ff24",
      "ecf1fdc26c9b4344aa36bd57b61938be",
      "a7df280aeb344ff4807709c2bccda19a",
      "b867e9abcc5048f183580dc268534384",
      "48cc3b8ab2f44624b8c8e4693be92b89",
      "ca772d56ce8744ae9e58d518549b229c",
      "8ab1a03e61be4d6f8a07bea1f649d188",
      "66f2c865217740a7b08711b06d94d549",
      "04e1178b2b334d6aab6b5f9260846bfc",
      "21610a331fb64c198ff0e5496d8aec82"
     ]
    },
    "execution": {
     "iopub.execute_input": "2021-04-15T21:11:56.515019Z",
     "iopub.status.busy": "2021-04-15T21:11:56.509251Z",
     "iopub.status.idle": "2021-04-15T21:11:56.733221Z",
     "shell.execute_reply": "2021-04-15T21:11:56.732512Z"
    },
    "executionInfo": {
     "elapsed": 4892,
     "status": "ok",
     "timestamp": 1617768158676,
     "user": {
      "displayName": "Rajat Tripathi",
      "photoUrl": "",
      "userId": "04027590592238680740"
     },
     "user_tz": 240
    },
    "id": "Q-pFroHKWOUo",
    "outputId": "1f7aff54-e429-481a-fb47-795b256dd29c",
    "papermill": {
     "duration": 0.284271,
     "end_time": "2021-04-15T21:11:56.733406",
     "exception": false,
     "start_time": "2021-04-15T21:11:56.449135",
     "status": "completed"
    },
    "tags": []
   },
   "outputs": [
    {
     "name": "stdout",
     "output_type": "stream",
     "text": [
      "\n",
      "\n",
      "\n",
      " Original question : What is best way to make money online?\n",
      "\n",
      " Most similar questions based on pinecone vector search: \n",
      "\n",
      "       id                                       question     score\n",
      "0  297469     What is the best way to make money online?  1.000000\n",
      "1      57         What is best way to make money online?  1.000000\n",
      "2   55585  What is the best way for making money online?  0.989930\n",
      "3   28280   What are the best ways to make money online?  0.981526\n",
      "4    7800            What is a way to make money online?  0.975910\n"
     ]
    }
   ],
   "source": [
    "# define questions to query the vector index\n",
    "query_questions = [\n",
    "    \"What is best way to make money online?\",\n",
    "]\n",
    "\n",
    "# extract embeddings for the questions\n",
    "query_vectors = [model.encode(str(question)).tolist() for question in query_questions]\n",
    "\n",
    "# query pinecone\n",
    "query_results = index.query(queries=query_vectors, top_k=5)\n",
    "\n",
    "# show the results\n",
    "for question, res in zip(query_questions, query_results.results):\n",
    "    print(\"\\n\\n\\n Original question : \" + str(question))\n",
    "    print(\"\\n Most similar questions based on pinecone vector search: \\n\")\n",
    "\n",
    "    ids = [match.id for match in res.matches]\n",
    "    scores = [match.score for match in res.matches]\n",
    "    df_result = pd.DataFrame(\n",
    "        {\n",
    "            \"id\": ids,\n",
    "            \"question\": [\n",
    "                df[df.qid1 == _id].question1.values[0] for _id in ids\n",
    "            ],\n",
    "            \"score\": scores,\n",
    "        }\n",
    "    )\n",
    "    print(df_result)"
   ]
  },
  {
   "cell_type": "markdown",
   "id": "essential-health",
   "metadata": {
    "id": "9ZiQp1NXU-Nd",
    "papermill": {
     "duration": 0.050565,
     "end_time": "2021-04-15T21:11:56.835393",
     "exception": false,
     "start_time": "2021-04-15T21:11:56.784828",
     "status": "completed"
    },
    "tags": []
   },
   "source": [
    "## Delete the Index"
   ]
  },
  {
   "cell_type": "markdown",
   "id": "opposite-visitor",
   "metadata": {
    "id": "zLD-q6zibMvf",
    "papermill": {
     "duration": 0.051167,
     "end_time": "2021-04-15T21:11:56.937286",
     "exception": false,
     "start_time": "2021-04-15T21:11:56.886119",
     "status": "completed"
    },
    "tags": []
   },
   "source": [
    "Delete the index once you are sure that you do not want to use it anymore. Once it is deleted, you cannot reuse it.\n"
   ]
  },
  {
   "cell_type": "code",
   "execution_count": 31,
   "id": "rocky-selling",
   "metadata": {
    "colab": {
     "base_uri": "https://localhost:8080/",
     "height": 49,
     "referenced_widgets": [
      "dd7349e1df334490b38d86a8de39a69e",
      "8d7be8d0ad13410084890b7e4cf400c5",
      "db60cb75432249519806b58b5323c73e",
      "91afd4ed90a54dc3bafc604b77451a9b",
      "ee3de97e58ba478fa74157a42e242d28",
      "e52866882ba84528b261b020f458490b",
      "6cf51559576e4d5d9d8390b14b0de82f",
      "8c80cc30365f4b0db1d3f52e750bc0fa",
      "352061488ff543ba89c9b51ac89b08d8",
      "9e3c98d135c541ae8340917085ec009d",
      "2e42b4f4aede45cebc0281c064269b49"
     ]
    },
    "execution": {
     "iopub.execute_input": "2021-04-15T21:11:57.047606Z",
     "iopub.status.busy": "2021-04-15T21:11:57.046545Z",
     "iopub.status.idle": "2021-04-15T21:12:09.690178Z",
     "shell.execute_reply": "2021-04-15T21:12:09.689514Z"
    },
    "id": "-jKl9_gMIF5L",
    "outputId": "b5dea3fa-29e9-43f4-a096-4bf8b720758c",
    "papermill": {
     "duration": 12.701629,
     "end_time": "2021-04-15T21:12:09.690372",
     "exception": false,
     "start_time": "2021-04-15T21:11:56.988743",
     "status": "completed"
    },
    "tags": []
   },
   "outputs": [],
   "source": [
    "pinecone.delete_index(index_name)"
   ]
  }
 ],
 "metadata": {
  "colab": {
   "collapsed_sections": [],
   "name": "question_answering.ipynb",
   "provenance": [],
   "toc_visible": true
  },
  "environment": {
   "name": "tf2-gpu.2-3.m65",
   "type": "gcloud",
   "uri": "gcr.io/deeplearning-platform-release/tf2-gpu.2-3:m65"
  },
  "kernelspec": {
   "display_name": "Python 3",
   "language": "python",
   "name": "python3"
  },
  "language_info": {
   "codemirror_mode": {
    "name": "ipython",
    "version": 3
   },
   "file_extension": ".py",
   "mimetype": "text/x-python",
   "name": "python",
   "nbconvert_exporter": "python",
   "pygments_lexer": "ipython3",
   "version": "3.7.9"
  },
  "papermill": {
   "default_parameters": {},
   "duration": 333.240754,
   "end_time": "2021-04-15T21:12:11.363566",
   "environment_variables": {},
   "exception": null,
   "input_path": "/notebooks/question_answering/question_answering.ipynb",
   "output_path": "/notebooks/tmp/question_answering/question_answering.ipynb",
   "parameters": {},
   "start_time": "2021-04-15T21:06:38.122812",
   "version": "2.3.3"
  },
  "widgets": {
   "application/vnd.jupyter.widget-state+json": {
    "state": {
     "006113252e174968a3b8b0502501677e": {
      "model_module": "@jupyter-widgets/controls",
      "model_module_version": "1.5.0",
      "model_name": "HBoxModel",
      "state": {
       "_dom_classes": [],
       "_model_module": "@jupyter-widgets/controls",
       "_model_module_version": "1.5.0",
       "_model_name": "HBoxModel",
       "_view_count": null,
       "_view_module": "@jupyter-widgets/controls",
       "_view_module_version": "1.5.0",
       "_view_name": "HBoxView",
       "box_style": "",
       "children": [
        "IPY_MODEL_08a1b209195f48a6b7422297a4a7f172",
        "IPY_MODEL_8468c310a2fc4c13bd6cc9013d57beb4",
        "IPY_MODEL_25f9e1ecfbb34c1d83ccdc840775f198"
       ],
       "layout": "IPY_MODEL_eb899461b946420ba42e70063ff900d8"
      }
     },
     "02134c481e8e4555a6578a6427de7867": {
      "model_module": "@jupyter-widgets/controls",
      "model_module_version": "1.5.0",
      "model_name": "DescriptionStyleModel",
      "state": {
       "_model_module": "@jupyter-widgets/controls",
       "_model_module_version": "1.5.0",
       "_model_name": "DescriptionStyleModel",
       "_view_count": null,
       "_view_module": "@jupyter-widgets/base",
       "_view_module_version": "1.2.0",
       "_view_name": "StyleView",
       "description_width": ""
      }
     },
     "02771252c49946e1abe6d13461276d28": {
      "model_module": "@jupyter-widgets/controls",
      "model_module_version": "1.5.0",
      "model_name": "DescriptionStyleModel",
      "state": {
       "_model_module": "@jupyter-widgets/controls",
       "_model_module_version": "1.5.0",
       "_model_name": "DescriptionStyleModel",
       "_view_count": null,
       "_view_module": "@jupyter-widgets/base",
       "_view_module_version": "1.2.0",
       "_view_name": "StyleView",
       "description_width": ""
      }
     },
     "08a1b209195f48a6b7422297a4a7f172": {
      "model_module": "@jupyter-widgets/controls",
      "model_module_version": "1.5.0",
      "model_name": "HTMLModel",
      "state": {
       "_dom_classes": [],
       "_model_module": "@jupyter-widgets/controls",
       "_model_module_version": "1.5.0",
       "_model_name": "HTMLModel",
       "_view_count": null,
       "_view_module": "@jupyter-widgets/controls",
       "_view_module_version": "1.5.0",
       "_view_name": "HTMLView",
       "description": "",
       "description_tooltip": null,
       "layout": "IPY_MODEL_150cacce7e7c4fe8a844ea61e944eaf5",
       "placeholder": "​",
       "style": "IPY_MODEL_861325a5b1274ea793c6f9e3755ed688",
       "value": ""
      }
     },
     "0ade234a28fd4974afff3cbccee47bee": {
      "model_module": "@jupyter-widgets/controls",
      "model_module_version": "1.5.0",
      "model_name": "HTMLModel",
      "state": {
       "_dom_classes": [],
       "_model_module": "@jupyter-widgets/controls",
       "_model_module_version": "1.5.0",
       "_model_name": "HTMLModel",
       "_view_count": null,
       "_view_module": "@jupyter-widgets/controls",
       "_view_module_version": "1.5.0",
       "_view_name": "HTMLView",
       "description": "",
       "description_tooltip": null,
       "layout": "IPY_MODEL_28e62dac6a22425a90f7df6ce642ea72",
       "placeholder": "​",
       "style": "IPY_MODEL_f8542d09848449688615ee5241928c71",
       "value": " 1/? [00:00&lt;00:00,  7.83it/s]"
      }
     },
     "0cb13b60c1174d0d846a75dd3f044c3e": {
      "model_module": "@jupyter-widgets/base",
      "model_module_version": "1.2.0",
      "model_name": "LayoutModel",
      "state": {
       "_model_module": "@jupyter-widgets/base",
       "_model_module_version": "1.2.0",
       "_model_name": "LayoutModel",
       "_view_count": null,
       "_view_module": "@jupyter-widgets/base",
       "_view_module_version": "1.2.0",
       "_view_name": "LayoutView",
       "align_content": null,
       "align_items": null,
       "align_self": null,
       "border": null,
       "bottom": null,
       "display": null,
       "flex": null,
       "flex_flow": null,
       "grid_area": null,
       "grid_auto_columns": null,
       "grid_auto_flow": null,
       "grid_auto_rows": null,
       "grid_column": null,
       "grid_gap": null,
       "grid_row": null,
       "grid_template_areas": null,
       "grid_template_columns": null,
       "grid_template_rows": null,
       "height": null,
       "justify_content": null,
       "justify_items": null,
       "left": null,
       "margin": null,
       "max_height": null,
       "max_width": null,
       "min_height": null,
       "min_width": null,
       "object_fit": null,
       "object_position": null,
       "order": null,
       "overflow": null,
       "overflow_x": null,
       "overflow_y": null,
       "padding": null,
       "right": null,
       "top": null,
       "visibility": null,
       "width": null
      }
     },
     "150cacce7e7c4fe8a844ea61e944eaf5": {
      "model_module": "@jupyter-widgets/base",
      "model_module_version": "1.2.0",
      "model_name": "LayoutModel",
      "state": {
       "_model_module": "@jupyter-widgets/base",
       "_model_module_version": "1.2.0",
       "_model_name": "LayoutModel",
       "_view_count": null,
       "_view_module": "@jupyter-widgets/base",
       "_view_module_version": "1.2.0",
       "_view_name": "LayoutView",
       "align_content": null,
       "align_items": null,
       "align_self": null,
       "border": null,
       "bottom": null,
       "display": null,
       "flex": null,
       "flex_flow": null,
       "grid_area": null,
       "grid_auto_columns": null,
       "grid_auto_flow": null,
       "grid_auto_rows": null,
       "grid_column": null,
       "grid_gap": null,
       "grid_row": null,
       "grid_template_areas": null,
       "grid_template_columns": null,
       "grid_template_rows": null,
       "height": null,
       "justify_content": null,
       "justify_items": null,
       "left": null,
       "margin": null,
       "max_height": null,
       "max_width": null,
       "min_height": null,
       "min_width": null,
       "object_fit": null,
       "object_position": null,
       "order": null,
       "overflow": null,
       "overflow_x": null,
       "overflow_y": null,
       "padding": null,
       "right": null,
       "top": null,
       "visibility": null,
       "width": null
      }
     },
     "15d41b82b7f644e194dfcb420b267117": {
      "model_module": "@jupyter-widgets/controls",
      "model_module_version": "1.5.0",
      "model_name": "HTMLModel",
      "state": {
       "_dom_classes": [],
       "_model_module": "@jupyter-widgets/controls",
       "_model_module_version": "1.5.0",
       "_model_name": "HTMLModel",
       "_view_count": null,
       "_view_module": "@jupyter-widgets/controls",
       "_view_module_version": "1.5.0",
       "_view_name": "HTMLView",
       "description": "",
       "description_tooltip": null,
       "layout": "IPY_MODEL_7317a9df247a493894708d234308ec83",
       "placeholder": "​",
       "style": "IPY_MODEL_fcecb2b8c6de43a988b36be1f6a93a85",
       "value": " 441M/441M [00:19&lt;00:00, 24.4MB/s]"
      }
     },
     "1cfd6feab3884916b43d604ff24d2b44": {
      "model_module": "@jupyter-widgets/base",
      "model_module_version": "1.2.0",
      "model_name": "LayoutModel",
      "state": {
       "_model_module": "@jupyter-widgets/base",
       "_model_module_version": "1.2.0",
       "_model_name": "LayoutModel",
       "_view_count": null,
       "_view_module": "@jupyter-widgets/base",
       "_view_module_version": "1.2.0",
       "_view_name": "LayoutView",
       "align_content": null,
       "align_items": null,
       "align_self": null,
       "border": null,
       "bottom": null,
       "display": null,
       "flex": null,
       "flex_flow": null,
       "grid_area": null,
       "grid_auto_columns": null,
       "grid_auto_flow": null,
       "grid_auto_rows": null,
       "grid_column": null,
       "grid_gap": null,
       "grid_row": null,
       "grid_template_areas": null,
       "grid_template_columns": null,
       "grid_template_rows": null,
       "height": null,
       "justify_content": null,
       "justify_items": null,
       "left": null,
       "margin": null,
       "max_height": null,
       "max_width": null,
       "min_height": null,
       "min_width": null,
       "object_fit": null,
       "object_position": null,
       "order": null,
       "overflow": null,
       "overflow_x": null,
       "overflow_y": null,
       "padding": null,
       "right": null,
       "top": null,
       "visibility": null,
       "width": null
      }
     },
     "23964d1c624e4715952248e8ceb9f115": {
      "model_module": "@jupyter-widgets/base",
      "model_module_version": "1.2.0",
      "model_name": "LayoutModel",
      "state": {
       "_model_module": "@jupyter-widgets/base",
       "_model_module_version": "1.2.0",
       "_model_name": "LayoutModel",
       "_view_count": null,
       "_view_module": "@jupyter-widgets/base",
       "_view_module_version": "1.2.0",
       "_view_name": "LayoutView",
       "align_content": null,
       "align_items": null,
       "align_self": null,
       "border": null,
       "bottom": null,
       "display": null,
       "flex": null,
       "flex_flow": null,
       "grid_area": null,
       "grid_auto_columns": null,
       "grid_auto_flow": null,
       "grid_auto_rows": null,
       "grid_column": null,
       "grid_gap": null,
       "grid_row": null,
       "grid_template_areas": null,
       "grid_template_columns": null,
       "grid_template_rows": null,
       "height": null,
       "justify_content": null,
       "justify_items": null,
       "left": null,
       "margin": null,
       "max_height": null,
       "max_width": null,
       "min_height": null,
       "min_width": null,
       "object_fit": null,
       "object_position": null,
       "order": null,
       "overflow": null,
       "overflow_x": null,
       "overflow_y": null,
       "padding": null,
       "right": null,
       "top": null,
       "visibility": null,
       "width": null
      }
     },
     "25f9e1ecfbb34c1d83ccdc840775f198": {
      "model_module": "@jupyter-widgets/controls",
      "model_module_version": "1.5.0",
      "model_name": "HTMLModel",
      "state": {
       "_dom_classes": [],
       "_model_module": "@jupyter-widgets/controls",
       "_model_module_version": "1.5.0",
       "_model_name": "HTMLModel",
       "_view_count": null,
       "_view_module": "@jupyter-widgets/controls",
       "_view_module_version": "1.5.0",
       "_view_name": "HTMLView",
       "description": "",
       "description_tooltip": null,
       "layout": "IPY_MODEL_a597dcc728504cbcaf3d881887e9dfd6",
       "placeholder": "​",
       "style": "IPY_MODEL_2abe343b4a1e4ea699b5b78d021582e0",
       "value": " 290654/? [00:19&lt;00:00, 18225.75it/s]"
      }
     },
     "28e62dac6a22425a90f7df6ce642ea72": {
      "model_module": "@jupyter-widgets/base",
      "model_module_version": "1.2.0",
      "model_name": "LayoutModel",
      "state": {
       "_model_module": "@jupyter-widgets/base",
       "_model_module_version": "1.2.0",
       "_model_name": "LayoutModel",
       "_view_count": null,
       "_view_module": "@jupyter-widgets/base",
       "_view_module_version": "1.2.0",
       "_view_name": "LayoutView",
       "align_content": null,
       "align_items": null,
       "align_self": null,
       "border": null,
       "bottom": null,
       "display": null,
       "flex": null,
       "flex_flow": null,
       "grid_area": null,
       "grid_auto_columns": null,
       "grid_auto_flow": null,
       "grid_auto_rows": null,
       "grid_column": null,
       "grid_gap": null,
       "grid_row": null,
       "grid_template_areas": null,
       "grid_template_columns": null,
       "grid_template_rows": null,
       "height": null,
       "justify_content": null,
       "justify_items": null,
       "left": null,
       "margin": null,
       "max_height": null,
       "max_width": null,
       "min_height": null,
       "min_width": null,
       "object_fit": null,
       "object_position": null,
       "order": null,
       "overflow": null,
       "overflow_x": null,
       "overflow_y": null,
       "padding": null,
       "right": null,
       "top": null,
       "visibility": null,
       "width": null
      }
     },
     "2abe343b4a1e4ea699b5b78d021582e0": {
      "model_module": "@jupyter-widgets/controls",
      "model_module_version": "1.5.0",
      "model_name": "DescriptionStyleModel",
      "state": {
       "_model_module": "@jupyter-widgets/controls",
       "_model_module_version": "1.5.0",
       "_model_name": "DescriptionStyleModel",
       "_view_count": null,
       "_view_module": "@jupyter-widgets/base",
       "_view_module_version": "1.2.0",
       "_view_name": "StyleView",
       "description_width": ""
      }
     },
     "30766d671c9c4c6aad169804bb9e4acb": {
      "model_module": "@jupyter-widgets/controls",
      "model_module_version": "1.5.0",
      "model_name": "DescriptionStyleModel",
      "state": {
       "_model_module": "@jupyter-widgets/controls",
       "_model_module_version": "1.5.0",
       "_model_name": "DescriptionStyleModel",
       "_view_count": null,
       "_view_module": "@jupyter-widgets/base",
       "_view_module_version": "1.2.0",
       "_view_name": "StyleView",
       "description_width": ""
      }
     },
     "35d5350d524e4d68b6c9fa57ab2a3172": {
      "model_module": "@jupyter-widgets/base",
      "model_module_version": "1.2.0",
      "model_name": "LayoutModel",
      "state": {
       "_model_module": "@jupyter-widgets/base",
       "_model_module_version": "1.2.0",
       "_model_name": "LayoutModel",
       "_view_count": null,
       "_view_module": "@jupyter-widgets/base",
       "_view_module_version": "1.2.0",
       "_view_name": "LayoutView",
       "align_content": null,
       "align_items": null,
       "align_self": null,
       "border": null,
       "bottom": null,
       "display": null,
       "flex": null,
       "flex_flow": null,
       "grid_area": null,
       "grid_auto_columns": null,
       "grid_auto_flow": null,
       "grid_auto_rows": null,
       "grid_column": null,
       "grid_gap": null,
       "grid_row": null,
       "grid_template_areas": null,
       "grid_template_columns": null,
       "grid_template_rows": null,
       "height": null,
       "justify_content": null,
       "justify_items": null,
       "left": null,
       "margin": null,
       "max_height": null,
       "max_width": null,
       "min_height": null,
       "min_width": null,
       "object_fit": null,
       "object_position": null,
       "order": null,
       "overflow": null,
       "overflow_x": null,
       "overflow_y": null,
       "padding": null,
       "right": null,
       "top": null,
       "visibility": null,
       "width": null
      }
     },
     "36ed6d3e3d3246fc967ce0fb8986d350": {
      "model_module": "@jupyter-widgets/controls",
      "model_module_version": "1.5.0",
      "model_name": "ProgressStyleModel",
      "state": {
       "_model_module": "@jupyter-widgets/controls",
       "_model_module_version": "1.5.0",
       "_model_name": "ProgressStyleModel",
       "_view_count": null,
       "_view_module": "@jupyter-widgets/base",
       "_view_module_version": "1.2.0",
       "_view_name": "StyleView",
       "bar_color": null,
       "description_width": ""
      }
     },
     "3cd9dad3aeaa46a1b9eb4db42bd4ffa7": {
      "model_module": "@jupyter-widgets/controls",
      "model_module_version": "1.5.0",
      "model_name": "DescriptionStyleModel",
      "state": {
       "_model_module": "@jupyter-widgets/controls",
       "_model_module_version": "1.5.0",
       "_model_name": "DescriptionStyleModel",
       "_view_count": null,
       "_view_module": "@jupyter-widgets/base",
       "_view_module_version": "1.2.0",
       "_view_name": "StyleView",
       "description_width": ""
      }
     },
     "41c2c1c129534d56b85ca15cb6764846": {
      "model_module": "@jupyter-widgets/base",
      "model_module_version": "1.2.0",
      "model_name": "LayoutModel",
      "state": {
       "_model_module": "@jupyter-widgets/base",
       "_model_module_version": "1.2.0",
       "_model_name": "LayoutModel",
       "_view_count": null,
       "_view_module": "@jupyter-widgets/base",
       "_view_module_version": "1.2.0",
       "_view_name": "LayoutView",
       "align_content": null,
       "align_items": null,
       "align_self": null,
       "border": null,
       "bottom": null,
       "display": null,
       "flex": null,
       "flex_flow": null,
       "grid_area": null,
       "grid_auto_columns": null,
       "grid_auto_flow": null,
       "grid_auto_rows": null,
       "grid_column": null,
       "grid_gap": null,
       "grid_row": null,
       "grid_template_areas": null,
       "grid_template_columns": null,
       "grid_template_rows": null,
       "height": null,
       "justify_content": null,
       "justify_items": null,
       "left": null,
       "margin": null,
       "max_height": null,
       "max_width": null,
       "min_height": null,
       "min_width": null,
       "object_fit": null,
       "object_position": null,
       "order": null,
       "overflow": null,
       "overflow_x": null,
       "overflow_y": null,
       "padding": null,
       "right": null,
       "top": null,
       "visibility": null,
       "width": null
      }
     },
     "4224d1514fa34ab8a09c076351132bd3": {
      "model_module": "@jupyter-widgets/base",
      "model_module_version": "1.2.0",
      "model_name": "LayoutModel",
      "state": {
       "_model_module": "@jupyter-widgets/base",
       "_model_module_version": "1.2.0",
       "_model_name": "LayoutModel",
       "_view_count": null,
       "_view_module": "@jupyter-widgets/base",
       "_view_module_version": "1.2.0",
       "_view_name": "LayoutView",
       "align_content": null,
       "align_items": null,
       "align_self": null,
       "border": null,
       "bottom": null,
       "display": null,
       "flex": null,
       "flex_flow": null,
       "grid_area": null,
       "grid_auto_columns": null,
       "grid_auto_flow": null,
       "grid_auto_rows": null,
       "grid_column": null,
       "grid_gap": null,
       "grid_row": null,
       "grid_template_areas": null,
       "grid_template_columns": null,
       "grid_template_rows": null,
       "height": null,
       "justify_content": null,
       "justify_items": null,
       "left": null,
       "margin": null,
       "max_height": null,
       "max_width": null,
       "min_height": null,
       "min_width": null,
       "object_fit": null,
       "object_position": null,
       "order": null,
       "overflow": null,
       "overflow_x": null,
       "overflow_y": null,
       "padding": null,
       "right": null,
       "top": null,
       "visibility": null,
       "width": null
      }
     },
     "5173094b9efb4dd6964266b57812eadd": {
      "model_module": "@jupyter-widgets/controls",
      "model_module_version": "1.5.0",
      "model_name": "FloatProgressModel",
      "state": {
       "_dom_classes": [],
       "_model_module": "@jupyter-widgets/controls",
       "_model_module_version": "1.5.0",
       "_model_name": "FloatProgressModel",
       "_view_count": null,
       "_view_module": "@jupyter-widgets/controls",
       "_view_module_version": "1.5.0",
       "_view_name": "ProgressView",
       "bar_style": "success",
       "description": "",
       "description_tooltip": null,
       "layout": "IPY_MODEL_bdaf87820e2743c480adf019a7cc483a",
       "max": 2,
       "min": 0,
       "orientation": "horizontal",
       "style": "IPY_MODEL_ed8d12085478465b8a4d4de60a6cbe0c",
       "value": 2
      }
     },
     "58a0724697584574982ff69194ea1105": {
      "model_module": "@jupyter-widgets/base",
      "model_module_version": "1.2.0",
      "model_name": "LayoutModel",
      "state": {
       "_model_module": "@jupyter-widgets/base",
       "_model_module_version": "1.2.0",
       "_model_name": "LayoutModel",
       "_view_count": null,
       "_view_module": "@jupyter-widgets/base",
       "_view_module_version": "1.2.0",
       "_view_name": "LayoutView",
       "align_content": null,
       "align_items": null,
       "align_self": null,
       "border": null,
       "bottom": null,
       "display": null,
       "flex": null,
       "flex_flow": null,
       "grid_area": null,
       "grid_auto_columns": null,
       "grid_auto_flow": null,
       "grid_auto_rows": null,
       "grid_column": null,
       "grid_gap": null,
       "grid_row": null,
       "grid_template_areas": null,
       "grid_template_columns": null,
       "grid_template_rows": null,
       "height": null,
       "justify_content": null,
       "justify_items": null,
       "left": null,
       "margin": null,
       "max_height": null,
       "max_width": null,
       "min_height": null,
       "min_width": null,
       "object_fit": null,
       "object_position": null,
       "order": null,
       "overflow": null,
       "overflow_x": null,
       "overflow_y": null,
       "padding": null,
       "right": null,
       "top": null,
       "visibility": null,
       "width": null
      }
     },
     "5ec39300a148478f989ce6cae469d8a9": {
      "model_module": "@jupyter-widgets/controls",
      "model_module_version": "1.5.0",
      "model_name": "DescriptionStyleModel",
      "state": {
       "_model_module": "@jupyter-widgets/controls",
       "_model_module_version": "1.5.0",
       "_model_name": "DescriptionStyleModel",
       "_view_count": null,
       "_view_module": "@jupyter-widgets/base",
       "_view_module_version": "1.2.0",
       "_view_name": "StyleView",
       "description_width": ""
      }
     },
     "67ec37eaf65b417eb66be12b201a24d2": {
      "model_module": "@jupyter-widgets/controls",
      "model_module_version": "1.5.0",
      "model_name": "HTMLModel",
      "state": {
       "_dom_classes": [],
       "_model_module": "@jupyter-widgets/controls",
       "_model_module_version": "1.5.0",
       "_model_name": "HTMLModel",
       "_view_count": null,
       "_view_module": "@jupyter-widgets/controls",
       "_view_module_version": "1.5.0",
       "_view_name": "HTMLView",
       "description": "",
       "description_tooltip": null,
       "layout": "IPY_MODEL_cb4e1a41fc54414782d260ef165b069a",
       "placeholder": "​",
       "style": "IPY_MODEL_3cd9dad3aeaa46a1b9eb4db42bd4ffa7",
       "value": "100%"
      }
     },
     "69a0b916a01643b3a37958a400a93a6a": {
      "model_module": "@jupyter-widgets/controls",
      "model_module_version": "1.5.0",
      "model_name": "HTMLModel",
      "state": {
       "_dom_classes": [],
       "_model_module": "@jupyter-widgets/controls",
       "_model_module_version": "1.5.0",
       "_model_name": "HTMLModel",
       "_view_count": null,
       "_view_module": "@jupyter-widgets/controls",
       "_view_module_version": "1.5.0",
       "_view_name": "HTMLView",
       "description": "",
       "description_tooltip": null,
       "layout": "IPY_MODEL_dfa951a32490486a809a9d314353834a",
       "placeholder": "​",
       "style": "IPY_MODEL_c17a36c9df96403b8e65917448e5feb9",
       "value": " 1/1 [00:11&lt;00:00,  2.37s/it]"
      }
     },
     "6b2836dd0fe64b27840d8357a0a3aaa6": {
      "model_module": "@jupyter-widgets/base",
      "model_module_version": "1.2.0",
      "model_name": "LayoutModel",
      "state": {
       "_model_module": "@jupyter-widgets/base",
       "_model_module_version": "1.2.0",
       "_model_name": "LayoutModel",
       "_view_count": null,
       "_view_module": "@jupyter-widgets/base",
       "_view_module_version": "1.2.0",
       "_view_name": "LayoutView",
       "align_content": null,
       "align_items": null,
       "align_self": null,
       "border": null,
       "bottom": null,
       "display": null,
       "flex": null,
       "flex_flow": null,
       "grid_area": null,
       "grid_auto_columns": null,
       "grid_auto_flow": null,
       "grid_auto_rows": null,
       "grid_column": null,
       "grid_gap": null,
       "grid_row": null,
       "grid_template_areas": null,
       "grid_template_columns": null,
       "grid_template_rows": null,
       "height": null,
       "justify_content": null,
       "justify_items": null,
       "left": null,
       "margin": null,
       "max_height": null,
       "max_width": null,
       "min_height": null,
       "min_width": null,
       "object_fit": null,
       "object_position": null,
       "order": null,
       "overflow": null,
       "overflow_x": null,
       "overflow_y": null,
       "padding": null,
       "right": null,
       "top": null,
       "visibility": null,
       "width": "20px"
      }
     },
     "6da9c0d1695c432b83dfb8a9a8a6dda6": {
      "model_module": "@jupyter-widgets/controls",
      "model_module_version": "1.5.0",
      "model_name": "HTMLModel",
      "state": {
       "_dom_classes": [],
       "_model_module": "@jupyter-widgets/controls",
       "_model_module_version": "1.5.0",
       "_model_name": "HTMLModel",
       "_view_count": null,
       "_view_module": "@jupyter-widgets/controls",
       "_view_module_version": "1.5.0",
       "_view_name": "HTMLView",
       "description": "",
       "description_tooltip": null,
       "layout": "IPY_MODEL_a67f4712cce246c88e25cc5ef8301b3d",
       "placeholder": "​",
       "style": "IPY_MODEL_afa4b730b02544ccbf75a3b8e5b54e11",
       "value": " 1/1 [00:12&lt;00:00,  2.62s/it]"
      }
     },
     "71f6d67cb5e644f9b9a08a1edadf8acf": {
      "model_module": "@jupyter-widgets/controls",
      "model_module_version": "1.5.0",
      "model_name": "HBoxModel",
      "state": {
       "_dom_classes": [],
       "_model_module": "@jupyter-widgets/controls",
       "_model_module_version": "1.5.0",
       "_model_name": "HBoxModel",
       "_view_count": null,
       "_view_module": "@jupyter-widgets/controls",
       "_view_module_version": "1.5.0",
       "_view_name": "HBoxView",
       "box_style": "",
       "children": [
        "IPY_MODEL_67ec37eaf65b417eb66be12b201a24d2",
        "IPY_MODEL_d7d951305476407db12aa4287e441575",
        "IPY_MODEL_6da9c0d1695c432b83dfb8a9a8a6dda6"
       ],
       "layout": "IPY_MODEL_fa5aa605af324a7b839e49d6baa679c5"
      }
     },
     "7317a9df247a493894708d234308ec83": {
      "model_module": "@jupyter-widgets/base",
      "model_module_version": "1.2.0",
      "model_name": "LayoutModel",
      "state": {
       "_model_module": "@jupyter-widgets/base",
       "_model_module_version": "1.2.0",
       "_model_name": "LayoutModel",
       "_view_count": null,
       "_view_module": "@jupyter-widgets/base",
       "_view_module_version": "1.2.0",
       "_view_name": "LayoutView",
       "align_content": null,
       "align_items": null,
       "align_self": null,
       "border": null,
       "bottom": null,
       "display": null,
       "flex": null,
       "flex_flow": null,
       "grid_area": null,
       "grid_auto_columns": null,
       "grid_auto_flow": null,
       "grid_auto_rows": null,
       "grid_column": null,
       "grid_gap": null,
       "grid_row": null,
       "grid_template_areas": null,
       "grid_template_columns": null,
       "grid_template_rows": null,
       "height": null,
       "justify_content": null,
       "justify_items": null,
       "left": null,
       "margin": null,
       "max_height": null,
       "max_width": null,
       "min_height": null,
       "min_width": null,
       "object_fit": null,
       "object_position": null,
       "order": null,
       "overflow": null,
       "overflow_x": null,
       "overflow_y": null,
       "padding": null,
       "right": null,
       "top": null,
       "visibility": null,
       "width": null
      }
     },
     "75535cbee7274b1aaecaae193077f0fb": {
      "model_module": "@jupyter-widgets/base",
      "model_module_version": "1.2.0",
      "model_name": "LayoutModel",
      "state": {
       "_model_module": "@jupyter-widgets/base",
       "_model_module_version": "1.2.0",
       "_model_name": "LayoutModel",
       "_view_count": null,
       "_view_module": "@jupyter-widgets/base",
       "_view_module_version": "1.2.0",
       "_view_name": "LayoutView",
       "align_content": null,
       "align_items": null,
       "align_self": null,
       "border": null,
       "bottom": null,
       "display": null,
       "flex": null,
       "flex_flow": null,
       "grid_area": null,
       "grid_auto_columns": null,
       "grid_auto_flow": null,
       "grid_auto_rows": null,
       "grid_column": null,
       "grid_gap": null,
       "grid_row": null,
       "grid_template_areas": null,
       "grid_template_columns": null,
       "grid_template_rows": null,
       "height": null,
       "justify_content": null,
       "justify_items": null,
       "left": null,
       "margin": null,
       "max_height": null,
       "max_width": null,
       "min_height": null,
       "min_width": null,
       "object_fit": null,
       "object_position": null,
       "order": null,
       "overflow": null,
       "overflow_x": null,
       "overflow_y": null,
       "padding": null,
       "right": null,
       "top": null,
       "visibility": null,
       "width": null
      }
     },
     "79d9d43a77fb47f780bf261adaa5ee0d": {
      "model_module": "@jupyter-widgets/controls",
      "model_module_version": "1.5.0",
      "model_name": "FloatProgressModel",
      "state": {
       "_dom_classes": [],
       "_model_module": "@jupyter-widgets/controls",
       "_model_module_version": "1.5.0",
       "_model_name": "FloatProgressModel",
       "_view_count": null,
       "_view_module": "@jupyter-widgets/controls",
       "_view_module_version": "1.5.0",
       "_view_name": "ProgressView",
       "bar_style": "success",
       "description": "",
       "description_tooltip": null,
       "layout": "IPY_MODEL_4224d1514fa34ab8a09c076351132bd3",
       "max": 1,
       "min": 0,
       "orientation": "horizontal",
       "style": "IPY_MODEL_36ed6d3e3d3246fc967ce0fb8986d350",
       "value": 1
      }
     },
     "7b052ad7d4504c4e91540db1c5e16c24": {
      "model_module": "@jupyter-widgets/controls",
      "model_module_version": "1.5.0",
      "model_name": "HTMLModel",
      "state": {
       "_dom_classes": [],
       "_model_module": "@jupyter-widgets/controls",
       "_model_module_version": "1.5.0",
       "_model_name": "HTMLModel",
       "_view_count": null,
       "_view_module": "@jupyter-widgets/controls",
       "_view_module_version": "1.5.0",
       "_view_name": "HTMLView",
       "description": "",
       "description_tooltip": null,
       "layout": "IPY_MODEL_84e435e59684420992f2a0a28a57460a",
       "placeholder": "​",
       "style": "IPY_MODEL_02134c481e8e4555a6578a6427de7867",
       "value": "100%"
      }
     },
     "7d27491c082f4b479342e3eaef6b4f2a": {
      "model_module": "@jupyter-widgets/controls",
      "model_module_version": "1.5.0",
      "model_name": "HBoxModel",
      "state": {
       "_dom_classes": [],
       "_model_module": "@jupyter-widgets/controls",
       "_model_module_version": "1.5.0",
       "_model_name": "HBoxModel",
       "_view_count": null,
       "_view_module": "@jupyter-widgets/controls",
       "_view_module_version": "1.5.0",
       "_view_name": "HBoxView",
       "box_style": "",
       "children": [
        "IPY_MODEL_7b052ad7d4504c4e91540db1c5e16c24",
        "IPY_MODEL_79d9d43a77fb47f780bf261adaa5ee0d",
        "IPY_MODEL_69a0b916a01643b3a37958a400a93a6a"
       ],
       "layout": "IPY_MODEL_23964d1c624e4715952248e8ceb9f115"
      }
     },
     "8468c310a2fc4c13bd6cc9013d57beb4": {
      "model_module": "@jupyter-widgets/controls",
      "model_module_version": "1.5.0",
      "model_name": "FloatProgressModel",
      "state": {
       "_dom_classes": [],
       "_model_module": "@jupyter-widgets/controls",
       "_model_module_version": "1.5.0",
       "_model_name": "FloatProgressModel",
       "_view_count": null,
       "_view_module": "@jupyter-widgets/controls",
       "_view_module_version": "1.5.0",
       "_view_name": "ProgressView",
       "bar_style": "success",
       "description": "",
       "description_tooltip": null,
       "layout": "IPY_MODEL_6b2836dd0fe64b27840d8357a0a3aaa6",
       "max": 1,
       "min": 0,
       "orientation": "horizontal",
       "style": "IPY_MODEL_acbcfad63b96472d9a0492a4a448a495",
       "value": 1
      }
     },
     "84e435e59684420992f2a0a28a57460a": {
      "model_module": "@jupyter-widgets/base",
      "model_module_version": "1.2.0",
      "model_name": "LayoutModel",
      "state": {
       "_model_module": "@jupyter-widgets/base",
       "_model_module_version": "1.2.0",
       "_model_name": "LayoutModel",
       "_view_count": null,
       "_view_module": "@jupyter-widgets/base",
       "_view_module_version": "1.2.0",
       "_view_name": "LayoutView",
       "align_content": null,
       "align_items": null,
       "align_self": null,
       "border": null,
       "bottom": null,
       "display": null,
       "flex": null,
       "flex_flow": null,
       "grid_area": null,
       "grid_auto_columns": null,
       "grid_auto_flow": null,
       "grid_auto_rows": null,
       "grid_column": null,
       "grid_gap": null,
       "grid_row": null,
       "grid_template_areas": null,
       "grid_template_columns": null,
       "grid_template_rows": null,
       "height": null,
       "justify_content": null,
       "justify_items": null,
       "left": null,
       "margin": null,
       "max_height": null,
       "max_width": null,
       "min_height": null,
       "min_width": null,
       "object_fit": null,
       "object_position": null,
       "order": null,
       "overflow": null,
       "overflow_x": null,
       "overflow_y": null,
       "padding": null,
       "right": null,
       "top": null,
       "visibility": null,
       "width": null
      }
     },
     "861325a5b1274ea793c6f9e3755ed688": {
      "model_module": "@jupyter-widgets/controls",
      "model_module_version": "1.5.0",
      "model_name": "DescriptionStyleModel",
      "state": {
       "_model_module": "@jupyter-widgets/controls",
       "_model_module_version": "1.5.0",
       "_model_name": "DescriptionStyleModel",
       "_view_count": null,
       "_view_module": "@jupyter-widgets/base",
       "_view_module_version": "1.2.0",
       "_view_name": "StyleView",
       "description_width": ""
      }
     },
     "86510f9fb20b4cc4bd2104e4a8dfecac": {
      "model_module": "@jupyter-widgets/controls",
      "model_module_version": "1.5.0",
      "model_name": "DescriptionStyleModel",
      "state": {
       "_model_module": "@jupyter-widgets/controls",
       "_model_module_version": "1.5.0",
       "_model_name": "DescriptionStyleModel",
       "_view_count": null,
       "_view_module": "@jupyter-widgets/base",
       "_view_module_version": "1.2.0",
       "_view_name": "StyleView",
       "description_width": ""
      }
     },
     "89f67654ce034580b9e66968ba655cd9": {
      "model_module": "@jupyter-widgets/controls",
      "model_module_version": "1.5.0",
      "model_name": "HTMLModel",
      "state": {
       "_dom_classes": [],
       "_model_module": "@jupyter-widgets/controls",
       "_model_module_version": "1.5.0",
       "_model_name": "HTMLModel",
       "_view_count": null,
       "_view_module": "@jupyter-widgets/controls",
       "_view_module_version": "1.5.0",
       "_view_name": "HTMLView",
       "description": "",
       "description_tooltip": null,
       "layout": "IPY_MODEL_d9df8aa074de468f9caeb18026ee2fe7",
       "placeholder": "​",
       "style": "IPY_MODEL_02771252c49946e1abe6d13461276d28",
       "value": ""
      }
     },
     "8b8474d7eb6c47529748e023558301c1": {
      "model_module": "@jupyter-widgets/controls",
      "model_module_version": "1.5.0",
      "model_name": "HBoxModel",
      "state": {
       "_dom_classes": [],
       "_model_module": "@jupyter-widgets/controls",
       "_model_module_version": "1.5.0",
       "_model_name": "HBoxModel",
       "_view_count": null,
       "_view_module": "@jupyter-widgets/controls",
       "_view_module_version": "1.5.0",
       "_view_name": "HBoxView",
       "box_style": "",
       "children": [
        "IPY_MODEL_89f67654ce034580b9e66968ba655cd9",
        "IPY_MODEL_e1b7401624ed4f43b898d1c8a5272d12",
        "IPY_MODEL_0ade234a28fd4974afff3cbccee47bee"
       ],
       "layout": "IPY_MODEL_0cb13b60c1174d0d846a75dd3f044c3e"
      }
     },
     "9ab753f589cd43d091252b284008ae28": {
      "model_module": "@jupyter-widgets/controls",
      "model_module_version": "1.5.0",
      "model_name": "ProgressStyleModel",
      "state": {
       "_model_module": "@jupyter-widgets/controls",
       "_model_module_version": "1.5.0",
       "_model_name": "ProgressStyleModel",
       "_view_count": null,
       "_view_module": "@jupyter-widgets/base",
       "_view_module_version": "1.2.0",
       "_view_name": "StyleView",
       "bar_color": null,
       "description_width": ""
      }
     },
     "a597dcc728504cbcaf3d881887e9dfd6": {
      "model_module": "@jupyter-widgets/base",
      "model_module_version": "1.2.0",
      "model_name": "LayoutModel",
      "state": {
       "_model_module": "@jupyter-widgets/base",
       "_model_module_version": "1.2.0",
       "_model_name": "LayoutModel",
       "_view_count": null,
       "_view_module": "@jupyter-widgets/base",
       "_view_module_version": "1.2.0",
       "_view_name": "LayoutView",
       "align_content": null,
       "align_items": null,
       "align_self": null,
       "border": null,
       "bottom": null,
       "display": null,
       "flex": null,
       "flex_flow": null,
       "grid_area": null,
       "grid_auto_columns": null,
       "grid_auto_flow": null,
       "grid_auto_rows": null,
       "grid_column": null,
       "grid_gap": null,
       "grid_row": null,
       "grid_template_areas": null,
       "grid_template_columns": null,
       "grid_template_rows": null,
       "height": null,
       "justify_content": null,
       "justify_items": null,
       "left": null,
       "margin": null,
       "max_height": null,
       "max_width": null,
       "min_height": null,
       "min_width": null,
       "object_fit": null,
       "object_position": null,
       "order": null,
       "overflow": null,
       "overflow_x": null,
       "overflow_y": null,
       "padding": null,
       "right": null,
       "top": null,
       "visibility": null,
       "width": null
      }
     },
     "a67f4712cce246c88e25cc5ef8301b3d": {
      "model_module": "@jupyter-widgets/base",
      "model_module_version": "1.2.0",
      "model_name": "LayoutModel",
      "state": {
       "_model_module": "@jupyter-widgets/base",
       "_model_module_version": "1.2.0",
       "_model_name": "LayoutModel",
       "_view_count": null,
       "_view_module": "@jupyter-widgets/base",
       "_view_module_version": "1.2.0",
       "_view_name": "LayoutView",
       "align_content": null,
       "align_items": null,
       "align_self": null,
       "border": null,
       "bottom": null,
       "display": null,
       "flex": null,
       "flex_flow": null,
       "grid_area": null,
       "grid_auto_columns": null,
       "grid_auto_flow": null,
       "grid_auto_rows": null,
       "grid_column": null,
       "grid_gap": null,
       "grid_row": null,
       "grid_template_areas": null,
       "grid_template_columns": null,
       "grid_template_rows": null,
       "height": null,
       "justify_content": null,
       "justify_items": null,
       "left": null,
       "margin": null,
       "max_height": null,
       "max_width": null,
       "min_height": null,
       "min_width": null,
       "object_fit": null,
       "object_position": null,
       "order": null,
       "overflow": null,
       "overflow_x": null,
       "overflow_y": null,
       "padding": null,
       "right": null,
       "top": null,
       "visibility": null,
       "width": null
      }
     },
     "aa0b9a836fb949038ef72a29873329f7": {
      "model_module": "@jupyter-widgets/base",
      "model_module_version": "1.2.0",
      "model_name": "LayoutModel",
      "state": {
       "_model_module": "@jupyter-widgets/base",
       "_model_module_version": "1.2.0",
       "_model_name": "LayoutModel",
       "_view_count": null,
       "_view_module": "@jupyter-widgets/base",
       "_view_module_version": "1.2.0",
       "_view_name": "LayoutView",
       "align_content": null,
       "align_items": null,
       "align_self": null,
       "border": null,
       "bottom": null,
       "display": null,
       "flex": null,
       "flex_flow": null,
       "grid_area": null,
       "grid_auto_columns": null,
       "grid_auto_flow": null,
       "grid_auto_rows": null,
       "grid_column": null,
       "grid_gap": null,
       "grid_row": null,
       "grid_template_areas": null,
       "grid_template_columns": null,
       "grid_template_rows": null,
       "height": null,
       "justify_content": null,
       "justify_items": null,
       "left": null,
       "margin": null,
       "max_height": null,
       "max_width": null,
       "min_height": null,
       "min_width": null,
       "object_fit": null,
       "object_position": null,
       "order": null,
       "overflow": null,
       "overflow_x": null,
       "overflow_y": null,
       "padding": null,
       "right": null,
       "top": null,
       "visibility": null,
       "width": null
      }
     },
     "ac07a6437a26494d934fced092596add": {
      "model_module": "@jupyter-widgets/controls",
      "model_module_version": "1.5.0",
      "model_name": "HBoxModel",
      "state": {
       "_dom_classes": [],
       "_model_module": "@jupyter-widgets/controls",
       "_model_module_version": "1.5.0",
       "_model_name": "HBoxModel",
       "_view_count": null,
       "_view_module": "@jupyter-widgets/controls",
       "_view_module_version": "1.5.0",
       "_view_name": "HBoxView",
       "box_style": "",
       "children": [
        "IPY_MODEL_c8e5b4764e454c16b71646b600fa9abf",
        "IPY_MODEL_c73d27eddadb42be84e84d99299a7d2f",
        "IPY_MODEL_15d41b82b7f644e194dfcb420b267117"
       ],
       "layout": "IPY_MODEL_35d5350d524e4d68b6c9fa57ab2a3172"
      }
     },
     "acbcfad63b96472d9a0492a4a448a495": {
      "model_module": "@jupyter-widgets/controls",
      "model_module_version": "1.5.0",
      "model_name": "ProgressStyleModel",
      "state": {
       "_model_module": "@jupyter-widgets/controls",
       "_model_module_version": "1.5.0",
       "_model_name": "ProgressStyleModel",
       "_view_count": null,
       "_view_module": "@jupyter-widgets/base",
       "_view_module_version": "1.2.0",
       "_view_name": "StyleView",
       "bar_color": null,
       "description_width": ""
      }
     },
     "afa4b730b02544ccbf75a3b8e5b54e11": {
      "model_module": "@jupyter-widgets/controls",
      "model_module_version": "1.5.0",
      "model_name": "DescriptionStyleModel",
      "state": {
       "_model_module": "@jupyter-widgets/controls",
       "_model_module_version": "1.5.0",
       "_model_name": "DescriptionStyleModel",
       "_view_count": null,
       "_view_module": "@jupyter-widgets/base",
       "_view_module_version": "1.2.0",
       "_view_name": "StyleView",
       "description_width": ""
      }
     },
     "bdaf87820e2743c480adf019a7cc483a": {
      "model_module": "@jupyter-widgets/base",
      "model_module_version": "1.2.0",
      "model_name": "LayoutModel",
      "state": {
       "_model_module": "@jupyter-widgets/base",
       "_model_module_version": "1.2.0",
       "_model_name": "LayoutModel",
       "_view_count": null,
       "_view_module": "@jupyter-widgets/base",
       "_view_module_version": "1.2.0",
       "_view_name": "LayoutView",
       "align_content": null,
       "align_items": null,
       "align_self": null,
       "border": null,
       "bottom": null,
       "display": null,
       "flex": null,
       "flex_flow": null,
       "grid_area": null,
       "grid_auto_columns": null,
       "grid_auto_flow": null,
       "grid_auto_rows": null,
       "grid_column": null,
       "grid_gap": null,
       "grid_row": null,
       "grid_template_areas": null,
       "grid_template_columns": null,
       "grid_template_rows": null,
       "height": null,
       "justify_content": null,
       "justify_items": null,
       "left": null,
       "margin": null,
       "max_height": null,
       "max_width": null,
       "min_height": null,
       "min_width": null,
       "object_fit": null,
       "object_position": null,
       "order": null,
       "overflow": null,
       "overflow_x": null,
       "overflow_y": null,
       "padding": null,
       "right": null,
       "top": null,
       "visibility": null,
       "width": null
      }
     },
     "c17a36c9df96403b8e65917448e5feb9": {
      "model_module": "@jupyter-widgets/controls",
      "model_module_version": "1.5.0",
      "model_name": "DescriptionStyleModel",
      "state": {
       "_model_module": "@jupyter-widgets/controls",
       "_model_module_version": "1.5.0",
       "_model_name": "DescriptionStyleModel",
       "_view_count": null,
       "_view_module": "@jupyter-widgets/base",
       "_view_module_version": "1.2.0",
       "_view_name": "StyleView",
       "description_width": ""
      }
     },
     "c73d27eddadb42be84e84d99299a7d2f": {
      "model_module": "@jupyter-widgets/controls",
      "model_module_version": "1.5.0",
      "model_name": "FloatProgressModel",
      "state": {
       "_dom_classes": [],
       "_model_module": "@jupyter-widgets/controls",
       "_model_module_version": "1.5.0",
       "_model_name": "FloatProgressModel",
       "_view_count": null,
       "_view_module": "@jupyter-widgets/controls",
       "_view_module_version": "1.5.0",
       "_view_name": "ProgressView",
       "bar_style": "success",
       "description": "",
       "description_tooltip": null,
       "layout": "IPY_MODEL_58a0724697584574982ff69194ea1105",
       "max": 441493586,
       "min": 0,
       "orientation": "horizontal",
       "style": "IPY_MODEL_f2802e309969405686ce70bf267bcbc3",
       "value": 441493586
      }
     },
     "c8e5b4764e454c16b71646b600fa9abf": {
      "model_module": "@jupyter-widgets/controls",
      "model_module_version": "1.5.0",
      "model_name": "HTMLModel",
      "state": {
       "_dom_classes": [],
       "_model_module": "@jupyter-widgets/controls",
       "_model_module_version": "1.5.0",
       "_model_name": "HTMLModel",
       "_view_count": null,
       "_view_module": "@jupyter-widgets/controls",
       "_view_module_version": "1.5.0",
       "_view_name": "HTMLView",
       "description": "",
       "description_tooltip": null,
       "layout": "IPY_MODEL_41c2c1c129534d56b85ca15cb6764846",
       "placeholder": "​",
       "style": "IPY_MODEL_5ec39300a148478f989ce6cae469d8a9",
       "value": "100%"
      }
     },
     "cb4e1a41fc54414782d260ef165b069a": {
      "model_module": "@jupyter-widgets/base",
      "model_module_version": "1.2.0",
      "model_name": "LayoutModel",
      "state": {
       "_model_module": "@jupyter-widgets/base",
       "_model_module_version": "1.2.0",
       "_model_name": "LayoutModel",
       "_view_count": null,
       "_view_module": "@jupyter-widgets/base",
       "_view_module_version": "1.2.0",
       "_view_name": "LayoutView",
       "align_content": null,
       "align_items": null,
       "align_self": null,
       "border": null,
       "bottom": null,
       "display": null,
       "flex": null,
       "flex_flow": null,
       "grid_area": null,
       "grid_auto_columns": null,
       "grid_auto_flow": null,
       "grid_auto_rows": null,
       "grid_column": null,
       "grid_gap": null,
       "grid_row": null,
       "grid_template_areas": null,
       "grid_template_columns": null,
       "grid_template_rows": null,
       "height": null,
       "justify_content": null,
       "justify_items": null,
       "left": null,
       "margin": null,
       "max_height": null,
       "max_width": null,
       "min_height": null,
       "min_width": null,
       "object_fit": null,
       "object_position": null,
       "order": null,
       "overflow": null,
       "overflow_x": null,
       "overflow_y": null,
       "padding": null,
       "right": null,
       "top": null,
       "visibility": null,
       "width": null
      }
     },
     "cd9f611ab2fd4ece97e71e2baba5157f": {
      "model_module": "@jupyter-widgets/controls",
      "model_module_version": "1.5.0",
      "model_name": "ProgressStyleModel",
      "state": {
       "_model_module": "@jupyter-widgets/controls",
       "_model_module_version": "1.5.0",
       "_model_name": "ProgressStyleModel",
       "_view_count": null,
       "_view_module": "@jupyter-widgets/base",
       "_view_module_version": "1.2.0",
       "_view_name": "StyleView",
       "bar_color": null,
       "description_width": ""
      }
     },
     "d7d951305476407db12aa4287e441575": {
      "model_module": "@jupyter-widgets/controls",
      "model_module_version": "1.5.0",
      "model_name": "FloatProgressModel",
      "state": {
       "_dom_classes": [],
       "_model_module": "@jupyter-widgets/controls",
       "_model_module_version": "1.5.0",
       "_model_name": "FloatProgressModel",
       "_view_count": null,
       "_view_module": "@jupyter-widgets/controls",
       "_view_module_version": "1.5.0",
       "_view_name": "ProgressView",
       "bar_style": "success",
       "description": "",
       "description_tooltip": null,
       "layout": "IPY_MODEL_f069fd3a25f14d31a94ba20cd87f64f0",
       "max": 1,
       "min": 0,
       "orientation": "horizontal",
       "style": "IPY_MODEL_9ab753f589cd43d091252b284008ae28",
       "value": 1
      }
     },
     "d9df8aa074de468f9caeb18026ee2fe7": {
      "model_module": "@jupyter-widgets/base",
      "model_module_version": "1.2.0",
      "model_name": "LayoutModel",
      "state": {
       "_model_module": "@jupyter-widgets/base",
       "_model_module_version": "1.2.0",
       "_model_name": "LayoutModel",
       "_view_count": null,
       "_view_module": "@jupyter-widgets/base",
       "_view_module_version": "1.2.0",
       "_view_name": "LayoutView",
       "align_content": null,
       "align_items": null,
       "align_self": null,
       "border": null,
       "bottom": null,
       "display": null,
       "flex": null,
       "flex_flow": null,
       "grid_area": null,
       "grid_auto_columns": null,
       "grid_auto_flow": null,
       "grid_auto_rows": null,
       "grid_column": null,
       "grid_gap": null,
       "grid_row": null,
       "grid_template_areas": null,
       "grid_template_columns": null,
       "grid_template_rows": null,
       "height": null,
       "justify_content": null,
       "justify_items": null,
       "left": null,
       "margin": null,
       "max_height": null,
       "max_width": null,
       "min_height": null,
       "min_width": null,
       "object_fit": null,
       "object_position": null,
       "order": null,
       "overflow": null,
       "overflow_x": null,
       "overflow_y": null,
       "padding": null,
       "right": null,
       "top": null,
       "visibility": null,
       "width": null
      }
     },
     "dfa951a32490486a809a9d314353834a": {
      "model_module": "@jupyter-widgets/base",
      "model_module_version": "1.2.0",
      "model_name": "LayoutModel",
      "state": {
       "_model_module": "@jupyter-widgets/base",
       "_model_module_version": "1.2.0",
       "_model_name": "LayoutModel",
       "_view_count": null,
       "_view_module": "@jupyter-widgets/base",
       "_view_module_version": "1.2.0",
       "_view_name": "LayoutView",
       "align_content": null,
       "align_items": null,
       "align_self": null,
       "border": null,
       "bottom": null,
       "display": null,
       "flex": null,
       "flex_flow": null,
       "grid_area": null,
       "grid_auto_columns": null,
       "grid_auto_flow": null,
       "grid_auto_rows": null,
       "grid_column": null,
       "grid_gap": null,
       "grid_row": null,
       "grid_template_areas": null,
       "grid_template_columns": null,
       "grid_template_rows": null,
       "height": null,
       "justify_content": null,
       "justify_items": null,
       "left": null,
       "margin": null,
       "max_height": null,
       "max_width": null,
       "min_height": null,
       "min_width": null,
       "object_fit": null,
       "object_position": null,
       "order": null,
       "overflow": null,
       "overflow_x": null,
       "overflow_y": null,
       "padding": null,
       "right": null,
       "top": null,
       "visibility": null,
       "width": null
      }
     },
     "e1b7401624ed4f43b898d1c8a5272d12": {
      "model_module": "@jupyter-widgets/controls",
      "model_module_version": "1.5.0",
      "model_name": "FloatProgressModel",
      "state": {
       "_dom_classes": [],
       "_model_module": "@jupyter-widgets/controls",
       "_model_module_version": "1.5.0",
       "_model_name": "FloatProgressModel",
       "_view_count": null,
       "_view_module": "@jupyter-widgets/controls",
       "_view_module_version": "1.5.0",
       "_view_name": "ProgressView",
       "bar_style": "success",
       "description": "",
       "description_tooltip": null,
       "layout": "IPY_MODEL_f90d3a3c8dd44a6db31e0a95d2b97fc3",
       "max": 1,
       "min": 0,
       "orientation": "horizontal",
       "style": "IPY_MODEL_cd9f611ab2fd4ece97e71e2baba5157f",
       "value": 1
      }
     },
     "e7d50ebcec764ddc8f373b53938e39f3": {
      "model_module": "@jupyter-widgets/controls",
      "model_module_version": "1.5.0",
      "model_name": "HTMLModel",
      "state": {
       "_dom_classes": [],
       "_model_module": "@jupyter-widgets/controls",
       "_model_module_version": "1.5.0",
       "_model_name": "HTMLModel",
       "_view_count": null,
       "_view_module": "@jupyter-widgets/controls",
       "_view_module_version": "1.5.0",
       "_view_name": "HTMLView",
       "description": "",
       "description_tooltip": null,
       "layout": "IPY_MODEL_1cfd6feab3884916b43d604ff24d2b44",
       "placeholder": "​",
       "style": "IPY_MODEL_86510f9fb20b4cc4bd2104e4a8dfecac",
       "value": " 2/2 [00:12&lt;00:00,  6.66s/it]"
      }
     },
     "eb899461b946420ba42e70063ff900d8": {
      "model_module": "@jupyter-widgets/base",
      "model_module_version": "1.2.0",
      "model_name": "LayoutModel",
      "state": {
       "_model_module": "@jupyter-widgets/base",
       "_model_module_version": "1.2.0",
       "_model_name": "LayoutModel",
       "_view_count": null,
       "_view_module": "@jupyter-widgets/base",
       "_view_module_version": "1.2.0",
       "_view_name": "LayoutView",
       "align_content": null,
       "align_items": null,
       "align_self": null,
       "border": null,
       "bottom": null,
       "display": null,
       "flex": null,
       "flex_flow": null,
       "grid_area": null,
       "grid_auto_columns": null,
       "grid_auto_flow": null,
       "grid_auto_rows": null,
       "grid_column": null,
       "grid_gap": null,
       "grid_row": null,
       "grid_template_areas": null,
       "grid_template_columns": null,
       "grid_template_rows": null,
       "height": null,
       "justify_content": null,
       "justify_items": null,
       "left": null,
       "margin": null,
       "max_height": null,
       "max_width": null,
       "min_height": null,
       "min_width": null,
       "object_fit": null,
       "object_position": null,
       "order": null,
       "overflow": null,
       "overflow_x": null,
       "overflow_y": null,
       "padding": null,
       "right": null,
       "top": null,
       "visibility": null,
       "width": null
      }
     },
     "ed8d12085478465b8a4d4de60a6cbe0c": {
      "model_module": "@jupyter-widgets/controls",
      "model_module_version": "1.5.0",
      "model_name": "ProgressStyleModel",
      "state": {
       "_model_module": "@jupyter-widgets/controls",
       "_model_module_version": "1.5.0",
       "_model_name": "ProgressStyleModel",
       "_view_count": null,
       "_view_module": "@jupyter-widgets/base",
       "_view_module_version": "1.2.0",
       "_view_name": "StyleView",
       "bar_color": null,
       "description_width": ""
      }
     },
     "f069fd3a25f14d31a94ba20cd87f64f0": {
      "model_module": "@jupyter-widgets/base",
      "model_module_version": "1.2.0",
      "model_name": "LayoutModel",
      "state": {
       "_model_module": "@jupyter-widgets/base",
       "_model_module_version": "1.2.0",
       "_model_name": "LayoutModel",
       "_view_count": null,
       "_view_module": "@jupyter-widgets/base",
       "_view_module_version": "1.2.0",
       "_view_name": "LayoutView",
       "align_content": null,
       "align_items": null,
       "align_self": null,
       "border": null,
       "bottom": null,
       "display": null,
       "flex": null,
       "flex_flow": null,
       "grid_area": null,
       "grid_auto_columns": null,
       "grid_auto_flow": null,
       "grid_auto_rows": null,
       "grid_column": null,
       "grid_gap": null,
       "grid_row": null,
       "grid_template_areas": null,
       "grid_template_columns": null,
       "grid_template_rows": null,
       "height": null,
       "justify_content": null,
       "justify_items": null,
       "left": null,
       "margin": null,
       "max_height": null,
       "max_width": null,
       "min_height": null,
       "min_width": null,
       "object_fit": null,
       "object_position": null,
       "order": null,
       "overflow": null,
       "overflow_x": null,
       "overflow_y": null,
       "padding": null,
       "right": null,
       "top": null,
       "visibility": null,
       "width": null
      }
     },
     "f2802e309969405686ce70bf267bcbc3": {
      "model_module": "@jupyter-widgets/controls",
      "model_module_version": "1.5.0",
      "model_name": "ProgressStyleModel",
      "state": {
       "_model_module": "@jupyter-widgets/controls",
       "_model_module_version": "1.5.0",
       "_model_name": "ProgressStyleModel",
       "_view_count": null,
       "_view_module": "@jupyter-widgets/base",
       "_view_module_version": "1.2.0",
       "_view_name": "StyleView",
       "bar_color": null,
       "description_width": ""
      }
     },
     "f62e819b49584ec78fc8fa016f086a39": {
      "model_module": "@jupyter-widgets/controls",
      "model_module_version": "1.5.0",
      "model_name": "HTMLModel",
      "state": {
       "_dom_classes": [],
       "_model_module": "@jupyter-widgets/controls",
       "_model_module_version": "1.5.0",
       "_model_name": "HTMLModel",
       "_view_count": null,
       "_view_module": "@jupyter-widgets/controls",
       "_view_module_version": "1.5.0",
       "_view_name": "HTMLView",
       "description": "",
       "description_tooltip": null,
       "layout": "IPY_MODEL_aa0b9a836fb949038ef72a29873329f7",
       "placeholder": "​",
       "style": "IPY_MODEL_30766d671c9c4c6aad169804bb9e4acb",
       "value": "100%"
      }
     },
     "f8542d09848449688615ee5241928c71": {
      "model_module": "@jupyter-widgets/controls",
      "model_module_version": "1.5.0",
      "model_name": "DescriptionStyleModel",
      "state": {
       "_model_module": "@jupyter-widgets/controls",
       "_model_module_version": "1.5.0",
       "_model_name": "DescriptionStyleModel",
       "_view_count": null,
       "_view_module": "@jupyter-widgets/base",
       "_view_module_version": "1.2.0",
       "_view_name": "StyleView",
       "description_width": ""
      }
     },
     "f90d3a3c8dd44a6db31e0a95d2b97fc3": {
      "model_module": "@jupyter-widgets/base",
      "model_module_version": "1.2.0",
      "model_name": "LayoutModel",
      "state": {
       "_model_module": "@jupyter-widgets/base",
       "_model_module_version": "1.2.0",
       "_model_name": "LayoutModel",
       "_view_count": null,
       "_view_module": "@jupyter-widgets/base",
       "_view_module_version": "1.2.0",
       "_view_name": "LayoutView",
       "align_content": null,
       "align_items": null,
       "align_self": null,
       "border": null,
       "bottom": null,
       "display": null,
       "flex": null,
       "flex_flow": null,
       "grid_area": null,
       "grid_auto_columns": null,
       "grid_auto_flow": null,
       "grid_auto_rows": null,
       "grid_column": null,
       "grid_gap": null,
       "grid_row": null,
       "grid_template_areas": null,
       "grid_template_columns": null,
       "grid_template_rows": null,
       "height": null,
       "justify_content": null,
       "justify_items": null,
       "left": null,
       "margin": null,
       "max_height": null,
       "max_width": null,
       "min_height": null,
       "min_width": null,
       "object_fit": null,
       "object_position": null,
       "order": null,
       "overflow": null,
       "overflow_x": null,
       "overflow_y": null,
       "padding": null,
       "right": null,
       "top": null,
       "visibility": null,
       "width": "20px"
      }
     },
     "fa5aa605af324a7b839e49d6baa679c5": {
      "model_module": "@jupyter-widgets/base",
      "model_module_version": "1.2.0",
      "model_name": "LayoutModel",
      "state": {
       "_model_module": "@jupyter-widgets/base",
       "_model_module_version": "1.2.0",
       "_model_name": "LayoutModel",
       "_view_count": null,
       "_view_module": "@jupyter-widgets/base",
       "_view_module_version": "1.2.0",
       "_view_name": "LayoutView",
       "align_content": null,
       "align_items": null,
       "align_self": null,
       "border": null,
       "bottom": null,
       "display": null,
       "flex": null,
       "flex_flow": null,
       "grid_area": null,
       "grid_auto_columns": null,
       "grid_auto_flow": null,
       "grid_auto_rows": null,
       "grid_column": null,
       "grid_gap": null,
       "grid_row": null,
       "grid_template_areas": null,
       "grid_template_columns": null,
       "grid_template_rows": null,
       "height": null,
       "justify_content": null,
       "justify_items": null,
       "left": null,
       "margin": null,
       "max_height": null,
       "max_width": null,
       "min_height": null,
       "min_width": null,
       "object_fit": null,
       "object_position": null,
       "order": null,
       "overflow": null,
       "overflow_x": null,
       "overflow_y": null,
       "padding": null,
       "right": null,
       "top": null,
       "visibility": null,
       "width": null
      }
     },
     "fcecb2b8c6de43a988b36be1f6a93a85": {
      "model_module": "@jupyter-widgets/controls",
      "model_module_version": "1.5.0",
      "model_name": "DescriptionStyleModel",
      "state": {
       "_model_module": "@jupyter-widgets/controls",
       "_model_module_version": "1.5.0",
       "_model_name": "DescriptionStyleModel",
       "_view_count": null,
       "_view_module": "@jupyter-widgets/base",
       "_view_module_version": "1.2.0",
       "_view_name": "StyleView",
       "description_width": ""
      }
     },
     "ffa400e01dc24690983fea2148ce774e": {
      "model_module": "@jupyter-widgets/controls",
      "model_module_version": "1.5.0",
      "model_name": "HBoxModel",
      "state": {
       "_dom_classes": [],
       "_model_module": "@jupyter-widgets/controls",
       "_model_module_version": "1.5.0",
       "_model_name": "HBoxModel",
       "_view_count": null,
       "_view_module": "@jupyter-widgets/controls",
       "_view_module_version": "1.5.0",
       "_view_name": "HBoxView",
       "box_style": "",
       "children": [
        "IPY_MODEL_f62e819b49584ec78fc8fa016f086a39",
        "IPY_MODEL_5173094b9efb4dd6964266b57812eadd",
        "IPY_MODEL_e7d50ebcec764ddc8f373b53938e39f3"
       ],
       "layout": "IPY_MODEL_75535cbee7274b1aaecaae193077f0fb"
      }
     }
    },
    "version_major": 2,
    "version_minor": 0
   }
  }
 },
 "nbformat": 4,
 "nbformat_minor": 5
}
