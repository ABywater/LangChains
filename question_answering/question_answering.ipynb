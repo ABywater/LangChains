{
 "cells": [
  {
   "cell_type": "markdown",
   "id": "split-aluminum",
   "metadata": {
    "id": "split-aluminum",
    "papermill": {
     "duration": 0.048394,
     "end_time": "2021-04-15T21:06:39.560571",
     "exception": false,
     "start_time": "2021-04-15T21:06:39.512177",
     "status": "completed"
    },
    "tags": []
   },
   "source": [
    "# Question Answering with Similarity Search"
   ]
  },
  {
   "cell_type": "markdown",
   "id": "prospective-turner",
   "metadata": {
    "id": "prospective-turner",
    "papermill": {
     "duration": 0.045573,
     "end_time": "2021-04-15T21:06:39.651272",
     "exception": false,
     "start_time": "2021-04-15T21:06:39.605699",
     "status": "completed"
    },
    "tags": []
   },
   "source": [
    "This notebook demonstrates how Pinecone's similarity search as a service helps you build a question answering application. We will index a set of questions and retrieve the most similar stored questions for a new (unseen) question. That way, we can link a new question to answers we might already have.\n",
    "\n",
    "You can build a questions answering application with Pinecone in three steps:\n",
    "- Represent questions as vector embeddings so that semantically similar questions are in close proximity within the same vector space. \n",
    "- Index vectors using Pinecone.\n",
    "- Given a new question, query the index to fetch similar questions. This can allow us to store answers associated with these questions \n",
    "\n",
    "In this notebook we will be dealing with indexing a set of quetions and retrieving similar questions for a new and unseen question.\n",
    "\n"
   ]
  },
  {
   "cell_type": "markdown",
   "id": "terminal-export",
   "metadata": {
    "id": "terminal-export",
    "papermill": {
     "duration": 0.044413,
     "end_time": "2021-04-15T21:06:39.741951",
     "exception": false,
     "start_time": "2021-04-15T21:06:39.697538",
     "status": "completed"
    },
    "tags": []
   },
   "source": [
    "## Dependencies"
   ]
  },
  {
   "cell_type": "code",
   "execution_count": null,
   "id": "expressed-executive",
   "metadata": {
    "execution": {
     "iopub.execute_input": "2021-04-15T21:06:39.845309Z",
     "iopub.status.busy": "2021-04-15T21:06:39.842494Z",
     "iopub.status.idle": "2021-04-15T21:08:22.163939Z",
     "shell.execute_reply": "2021-04-15T21:08:22.164616Z"
    },
    "id": "expressed-executive",
    "papermill": {
     "duration": 102.376674,
     "end_time": "2021-04-15T21:08:22.165052",
     "exception": false,
     "start_time": "2021-04-15T21:06:39.788378",
     "status": "completed"
    },
    "tags": []
   },
   "outputs": [],
   "source": [
    "!pip install -qU matplotlib pinecone-client ipywidgets\n",
    "!pip install -qU sentence-transformers --no-cache-dir"
   ]
  },
  {
   "cell_type": "code",
   "execution_count": 2,
   "id": "another-vintage",
   "metadata": {
    "execution": {
     "iopub.execute_input": "2021-04-15T21:08:22.264702Z",
     "iopub.status.busy": "2021-04-15T21:08:22.263478Z",
     "iopub.status.idle": "2021-04-15T21:08:23.457180Z",
     "shell.execute_reply": "2021-04-15T21:08:23.457893Z"
    },
    "id": "another-vintage",
    "papermill": {
     "duration": 1.247965,
     "end_time": "2021-04-15T21:08:23.458146",
     "exception": false,
     "start_time": "2021-04-15T21:08:22.210181",
     "status": "completed"
    },
    "tags": []
   },
   "outputs": [],
   "source": [
    "import pandas as pd\n",
    "import numpy as np\n",
    "\n",
    "%matplotlib inline"
   ]
  },
  {
   "cell_type": "markdown",
   "id": "earned-custom",
   "metadata": {
    "id": "earned-custom",
    "papermill": {
     "duration": 0.045818,
     "end_time": "2021-04-15T21:08:23.550719",
     "exception": false,
     "start_time": "2021-04-15T21:08:23.504901",
     "status": "completed"
    },
    "tags": []
   },
   "source": [
    "## Pinecone Installation and Setup"
   ]
  },
  {
   "cell_type": "code",
   "execution_count": 3,
   "id": "proprietary-animal",
   "metadata": {
    "execution": {
     "iopub.execute_input": "2021-04-15T21:08:23.648900Z",
     "iopub.status.busy": "2021-04-15T21:08:23.648053Z",
     "iopub.status.idle": "2021-04-15T21:08:24.325452Z",
     "shell.execute_reply": "2021-04-15T21:08:24.324627Z"
    },
    "id": "proprietary-animal",
    "papermill": {
     "duration": 0.730152,
     "end_time": "2021-04-15T21:08:24.325660",
     "exception": false,
     "start_time": "2021-04-15T21:08:23.595508",
     "status": "completed"
    },
    "tags": []
   },
   "outputs": [],
   "source": [
    "import pinecone\n",
    "import os\n",
    "\n",
    "# load Pinecone API key\n",
    "api_key = os.getenv(\"PINECONE_API_KEY\") or \"YOUR_API_KEY\"\n",
    "pinecone.init(api_key=api_key, environment='us-west1-gcp')"
   ]
  },
  {
   "cell_type": "markdown",
   "id": "signed-maria",
   "metadata": {
    "id": "signed-maria",
    "papermill": {
     "duration": 0.04622,
     "end_time": "2021-04-15T21:08:24.416599",
     "exception": false,
     "start_time": "2021-04-15T21:08:24.370379",
     "status": "completed"
    },
    "tags": []
   },
   "source": [
    "[Get a Pinecone API key](https://www.pinecone.io/start/) if you don’t have one already."
   ]
  },
  {
   "cell_type": "markdown",
   "id": "minimal-general",
   "metadata": {
    "id": "minimal-general",
    "papermill": {
     "duration": 0.045794,
     "end_time": "2021-04-15T21:08:24.507141",
     "exception": false,
     "start_time": "2021-04-15T21:08:24.461347",
     "status": "completed"
    },
    "tags": []
   },
   "source": [
    "## Create a New Pinecone Index"
   ]
  },
  {
   "cell_type": "code",
   "execution_count": 4,
   "id": "oriental-ethics",
   "metadata": {
    "execution": {
     "iopub.execute_input": "2021-04-15T21:08:24.604860Z",
     "iopub.status.busy": "2021-04-15T21:08:24.604038Z",
     "iopub.status.idle": "2021-04-15T21:08:24.607475Z",
     "shell.execute_reply": "2021-04-15T21:08:24.608045Z"
    },
    "id": "oriental-ethics",
    "papermill": {
     "duration": 0.055961,
     "end_time": "2021-04-15T21:08:24.608283",
     "exception": false,
     "start_time": "2021-04-15T21:08:24.552322",
     "status": "completed"
    },
    "tags": []
   },
   "outputs": [],
   "source": [
    "# pick a name for the new index\n",
    "index_name = \"question-answering\""
   ]
  },
  {
   "cell_type": "code",
   "execution_count": 5,
   "id": "extensive-basin",
   "metadata": {
    "execution": {
     "iopub.execute_input": "2021-04-15T21:08:24.710587Z",
     "iopub.status.busy": "2021-04-15T21:08:24.709749Z",
     "iopub.status.idle": "2021-04-15T21:08:37.484077Z",
     "shell.execute_reply": "2021-04-15T21:08:37.483412Z"
    },
    "id": "extensive-basin",
    "papermill": {
     "duration": 12.827272,
     "end_time": "2021-04-15T21:08:37.484264",
     "exception": false,
     "start_time": "2021-04-15T21:08:24.656992",
     "status": "completed"
    },
    "tags": []
   },
   "outputs": [],
   "source": [
    "# check whether an index with the same name already exists\n",
    "if index_name in pinecone.list_indexes():\n",
    "    pinecone.delete_index(index_name)"
   ]
  },
  {
   "cell_type": "markdown",
   "id": "intimate-blanket",
   "metadata": {
    "id": "intimate-blanket",
    "papermill": {
     "duration": 0.046927,
     "end_time": "2021-04-15T21:08:37.576932",
     "exception": false,
     "start_time": "2021-04-15T21:08:37.530005",
     "status": "completed"
    },
    "tags": []
   },
   "source": [
    "**Create index**"
   ]
  },
  {
   "cell_type": "code",
   "execution_count": 6,
   "id": "short-wedding",
   "metadata": {
    "execution": {
     "iopub.execute_input": "2021-04-15T21:08:37.674408Z",
     "iopub.status.busy": "2021-04-15T21:08:37.673564Z",
     "iopub.status.idle": "2021-04-15T21:08:51.093041Z",
     "shell.execute_reply": "2021-04-15T21:08:51.092400Z"
    },
    "id": "short-wedding",
    "papermill": {
     "duration": 13.471493,
     "end_time": "2021-04-15T21:08:51.093260",
     "exception": false,
     "start_time": "2021-04-15T21:08:37.621767",
     "status": "completed"
    },
    "tags": []
   },
   "outputs": [],
   "source": [
    "pinecone.create_index(name=index_name, dimension=300)"
   ]
  },
  {
   "cell_type": "markdown",
   "id": "complete-accountability",
   "metadata": {
    "id": "complete-accountability",
    "papermill": {
     "duration": 0.048559,
     "end_time": "2021-04-15T21:08:51.190870",
     "exception": false,
     "start_time": "2021-04-15T21:08:51.142311",
     "status": "completed"
    },
    "tags": []
   },
   "source": [
    "**Connect to the index**\n",
    "\n",
    "The index object, a class instance of pinecone.Index , will be reused for optimal performance."
   ]
  },
  {
   "cell_type": "code",
   "execution_count": 7,
   "id": "false-island",
   "metadata": {
    "execution": {
     "iopub.execute_input": "2021-04-15T21:08:51.291339Z",
     "iopub.status.busy": "2021-04-15T21:08:51.290370Z",
     "iopub.status.idle": "2021-04-15T21:08:52.043920Z",
     "shell.execute_reply": "2021-04-15T21:08:52.043197Z"
    },
    "id": "false-island",
    "papermill": {
     "duration": 0.807245,
     "end_time": "2021-04-15T21:08:52.044128",
     "exception": false,
     "start_time": "2021-04-15T21:08:51.236883",
     "status": "completed"
    },
    "tags": []
   },
   "outputs": [],
   "source": [
    "index = pinecone.Index(index_name=index_name)"
   ]
  },
  {
   "cell_type": "markdown",
   "id": "explicit-priest",
   "metadata": {
    "id": "explicit-priest",
    "papermill": {
     "duration": 0.049676,
     "end_time": "2021-04-15T21:08:52.139707",
     "exception": false,
     "start_time": "2021-04-15T21:08:52.090031",
     "status": "completed"
    },
    "tags": []
   },
   "source": [
    "## Uploading Questions"
   ]
  },
  {
   "cell_type": "markdown",
   "id": "defined-magnet",
   "metadata": {
    "id": "defined-magnet",
    "papermill": {
     "duration": 0.046308,
     "end_time": "2021-04-15T21:08:52.233605",
     "exception": false,
     "start_time": "2021-04-15T21:08:52.187297",
     "status": "completed"
    },
    "tags": []
   },
   "source": [
    "The dataset used in this notebook is the [Quora Question Pairs Dataset](https://www.kaggle.com/c/quora-question-pairs)."
   ]
  },
  {
   "cell_type": "markdown",
   "id": "cleared-discussion",
   "metadata": {
    "id": "cleared-discussion",
    "papermill": {
     "duration": 0.047282,
     "end_time": "2021-04-15T21:08:52.327202",
     "exception": false,
     "start_time": "2021-04-15T21:08:52.279920",
     "status": "completed"
    },
    "tags": []
   },
   "source": [
    "Let's download the dataset and load the data."
   ]
  },
  {
   "cell_type": "code",
   "execution_count": 8,
   "id": "finite-bronze",
   "metadata": {
    "execution": {
     "iopub.execute_input": "2021-04-15T21:08:52.433878Z",
     "iopub.status.busy": "2021-04-15T21:08:52.431642Z",
     "iopub.status.idle": "2021-04-15T21:08:53.592592Z",
     "shell.execute_reply": "2021-04-15T21:08:53.593265Z"
    },
    "id": "finite-bronze",
    "papermill": {
     "duration": 1.219242,
     "end_time": "2021-04-15T21:08:53.593545",
     "exception": false,
     "start_time": "2021-04-15T21:08:52.374303",
     "status": "completed"
    },
    "tags": []
   },
   "outputs": [],
   "source": [
    "# download dataset from the url\n",
    "import requests\n",
    "\n",
    "DATA_DIR = \"tmp\"\n",
    "DATA_FILE = f\"{DATA_DIR}/quora_duplicate_questions.tsv\"\n",
    "DATA_URL = \"https://qim.fs.quoracdn.net/quora_duplicate_questions.tsv\"\n",
    "\n",
    "\n",
    "def download_data():\n",
    "    os.makedirs(DATA_DIR, exist_ok=True)\n",
    "\n",
    "    if not os.path.exists(DATA_FILE):\n",
    "        r = requests.get(DATA_URL)  # create HTTP response object\n",
    "        with open(DATA_FILE, \"wb\") as f:\n",
    "            f.write(r.content)\n",
    "\n",
    "\n",
    "download_data()"
   ]
  },
  {
   "cell_type": "code",
   "execution_count": 9,
   "id": "based-champion",
   "metadata": {
    "colab": {
     "base_uri": "https://localhost:8080/"
    },
    "execution": {
     "iopub.execute_input": "2021-04-15T21:08:53.699133Z",
     "iopub.status.busy": "2021-04-15T21:08:53.698177Z",
     "iopub.status.idle": "2021-04-15T21:08:55.263678Z",
     "shell.execute_reply": "2021-04-15T21:08:55.262963Z"
    },
    "id": "based-champion",
    "outputId": "d734f777-8ff7-4a95-ab22-26c72e2685e5",
    "papermill": {
     "duration": 1.623567,
     "end_time": "2021-04-15T21:08:55.263866",
     "exception": false,
     "start_time": "2021-04-15T21:08:53.640299",
     "status": "completed"
    },
    "tags": []
   },
   "outputs": [
    {
     "name": "stdout",
     "output_type": "stream",
     "text": [
      "     qid1                                                                                     question1\n",
      "0   20221                                 What is the best editor to write React and React-Native code?\n",
      "1   88042  I want to live the rest of my life alone and without working. Is jail an appropriate option?\n",
      "2  269899                                                           What do you think of Chinese girls?\n",
      "3  428133        What is the most alarming thing you see in today's children between age group of 1-10?\n",
      "4  297135                        Why should we square the distance in the universal law of gravitation?\n"
     ]
    }
   ],
   "source": [
    "pd.set_option(\"display.max_colwidth\", 500)\n",
    "\n",
    "df = pd.read_csv(\n",
    "    f\"{DATA_FILE}\", sep=\"\\t\", usecols=[\"qid1\", \"question1\"], index_col=False\n",
    ")\n",
    "df = df.sample(frac=1).reset_index(drop=True)\n",
    "df.drop_duplicates(inplace=True)\n",
    "df['qid1'] = df['qid1'].apply(str)\n",
    "print(df.head())"
   ]
  },
  {
   "cell_type": "markdown",
   "id": "quality-slovak",
   "metadata": {
    "id": "quality-slovak",
    "papermill": {
     "duration": 0.048216,
     "end_time": "2021-04-15T21:08:55.359112",
     "exception": false,
     "start_time": "2021-04-15T21:08:55.310896",
     "status": "completed"
    },
    "tags": []
   },
   "source": [
    "### Define the model"
   ]
  },
  {
   "cell_type": "markdown",
   "id": "respected-kennedy",
   "metadata": {
    "id": "respected-kennedy",
    "papermill": {
     "duration": 0.046535,
     "end_time": "2021-04-15T21:08:55.452389",
     "exception": false,
     "start_time": "2021-04-15T21:08:55.405854",
     "status": "completed"
    },
    "tags": []
   },
   "source": [
    "We will use the [Averarage Word Embeddings Model](https://nlp.stanford.edu/projects/glove/) for this example. This model has a high computation speed but relatively low quality of embeddings. You can look into other sentence embeddings models such as the [Sentence Embeddings Models trained on Paraphrases](https://huggingface.co/sentence-transformers/paraphrase-distilroberta-base-v1) for improving quality of embeddings. "
   ]
  },
  {
   "cell_type": "code",
   "execution_count": null,
   "id": "incredible-attribute",
   "metadata": {
    "execution": {
     "iopub.execute_input": "2021-04-15T21:08:55.555456Z",
     "iopub.status.busy": "2021-04-15T21:08:55.554079Z",
     "iopub.status.idle": "2021-04-15T21:09:24.460292Z",
     "shell.execute_reply": "2021-04-15T21:09:24.459479Z"
    },
    "id": "incredible-attribute",
    "papermill": {
     "duration": 28.961377,
     "end_time": "2021-04-15T21:09:24.460508",
     "exception": false,
     "start_time": "2021-04-15T21:08:55.499131",
     "status": "completed"
    },
    "tags": []
   },
   "outputs": [],
   "source": [
    "from sentence_transformers import SentenceTransformer\n",
    "\n",
    "model = SentenceTransformer(\"average_word_embeddings_glove.6B.300d\")"
   ]
  },
  {
   "cell_type": "markdown",
   "id": "leading-savings",
   "metadata": {
    "id": "leading-savings",
    "papermill": {
     "duration": 0.048413,
     "end_time": "2021-04-15T21:09:24.556921",
     "exception": false,
     "start_time": "2021-04-15T21:09:24.508508",
     "status": "completed"
    },
    "tags": []
   },
   "source": [
    "### Creating Vector Embeddings"
   ]
  },
  {
   "cell_type": "code",
   "execution_count": 11,
   "id": "serial-custody",
   "metadata": {
    "execution": {
     "iopub.execute_input": "2021-04-15T21:09:24.673539Z",
     "iopub.status.busy": "2021-04-15T21:09:24.660954Z",
     "iopub.status.idle": "2021-04-15T21:11:36.568996Z",
     "shell.execute_reply": "2021-04-15T21:11:36.568047Z"
    },
    "id": "serial-custody",
    "papermill": {
     "duration": 131.964267,
     "end_time": "2021-04-15T21:11:36.569271",
     "exception": false,
     "start_time": "2021-04-15T21:09:24.605004",
     "status": "completed"
    },
    "tags": []
   },
   "outputs": [],
   "source": [
    "# create embedding for each question\n",
    "df[\"question_vector\"] = df.question1.apply(lambda x: model.encode(str(x)).tolist())"
   ]
  },
  {
   "cell_type": "markdown",
   "id": "confused-syndrome",
   "metadata": {
    "id": "confused-syndrome",
    "papermill": {
     "duration": 0.048476,
     "end_time": "2021-04-15T21:11:36.665995",
     "exception": false,
     "start_time": "2021-04-15T21:11:36.617519",
     "status": "completed"
    },
    "tags": []
   },
   "source": [
    "### Index the Vectors"
   ]
  },
  {
   "cell_type": "code",
   "execution_count": 12,
   "id": "c1ca6e02",
   "metadata": {
    "id": "c1ca6e02"
   },
   "outputs": [],
   "source": [
    "import itertools\n",
    "\n",
    "def chunks(iterable, batch_size=100):\n",
    "    it = iter(iterable)\n",
    "    chunk = tuple(itertools.islice(it, batch_size))\n",
    "    while chunk:\n",
    "        yield chunk\n",
    "        chunk = tuple(itertools.islice(it, batch_size))"
   ]
  },
  {
   "cell_type": "code",
   "execution_count": 13,
   "id": "altered-touch",
   "metadata": {
    "execution": {
     "iopub.execute_input": "2021-04-15T21:11:36.799785Z",
     "iopub.status.busy": "2021-04-15T21:11:36.798412Z",
     "iopub.status.idle": "2021-04-15T21:11:56.201883Z",
     "shell.execute_reply": "2021-04-15T21:11:56.201192Z"
    },
    "id": "altered-touch",
    "papermill": {
     "duration": 19.488365,
     "end_time": "2021-04-15T21:11:56.202071",
     "exception": false,
     "start_time": "2021-04-15T21:11:36.713706",
     "status": "completed"
    },
    "tags": []
   },
   "outputs": [],
   "source": [
    "for batch in chunks(zip(df.qid1, df.question_vector)):\n",
    "    index.upsert(vectors=batch)"
   ]
  },
  {
   "cell_type": "markdown",
   "id": "large-proportion",
   "metadata": {
    "id": "large-proportion",
    "papermill": {
     "duration": 0.049182,
     "end_time": "2021-04-15T21:11:56.302631",
     "exception": false,
     "start_time": "2021-04-15T21:11:56.253449",
     "status": "completed"
    },
    "tags": []
   },
   "source": [
    "## Search"
   ]
  },
  {
   "cell_type": "markdown",
   "id": "arctic-foster",
   "metadata": {
    "id": "arctic-foster",
    "papermill": {
     "duration": 0.048842,
     "end_time": "2021-04-15T21:11:56.400092",
     "exception": false,
     "start_time": "2021-04-15T21:11:56.351250",
     "status": "completed"
    },
    "tags": []
   },
   "source": [
    "Once you have indexed the vectors it is very straightforward to query the index. These are the steps you need to follow:\n",
    "- Select a set of questions you want to query with\n",
    "- Use the Average Embedding Model to transform questions into embeddings.\n",
    "- Send each question vector to the Pinecone index and retrieve most similar indexed questions"
   ]
  },
  {
   "cell_type": "code",
   "execution_count": 14,
   "id": "friendly-circular",
   "metadata": {
    "colab": {
     "base_uri": "https://localhost:8080/"
    },
    "execution": {
     "iopub.execute_input": "2021-04-15T21:11:56.515019Z",
     "iopub.status.busy": "2021-04-15T21:11:56.509251Z",
     "iopub.status.idle": "2021-04-15T21:11:56.733221Z",
     "shell.execute_reply": "2021-04-15T21:11:56.732512Z"
    },
    "id": "friendly-circular",
    "outputId": "111cce07-8ada-4ab9-eb6a-58a60477d031",
    "papermill": {
     "duration": 0.284271,
     "end_time": "2021-04-15T21:11:56.733406",
     "exception": false,
     "start_time": "2021-04-15T21:11:56.449135",
     "status": "completed"
    },
    "tags": []
   },
   "outputs": [
    {
     "name": "stdout",
     "output_type": "stream",
     "text": [
      "\n",
      "\n",
      "\n",
      " Original question : What is best way to make money online?\n",
      "\n",
      " Most similar questions based on pinecone vector search: \n",
      "\n",
      "       id                                             question     score\n",
      "0      57               What is best way to make money online?  1.000000\n",
      "1  297469           What is the best way to make money online?  1.000000\n",
      "2   55585        What is the best way for making money online?  0.989930\n",
      "3   28280         What are the best ways to make money online?  0.981526\n",
      "4  157045  What is the best way to make money on the internet?  0.978538\n"
     ]
    }
   ],
   "source": [
    "# define questions to query the vector index\n",
    "query_questions = [\n",
    "    \"What is best way to make money online?\",\n",
    "]\n",
    "\n",
    "# extract embeddings for the questions\n",
    "query_vectors = [model.encode(str(question)).tolist() for question in query_questions]\n",
    "\n",
    "# query pinecone\n",
    "query_results = index.query(queries=query_vectors, top_k=5)\n",
    "\n",
    "# show the results\n",
    "for question, res in zip(query_questions, query_results.results):\n",
    "    print(\"\\n\\n\\n Original question : \" + str(question))\n",
    "    print(\"\\n Most similar questions based on pinecone vector search: \\n\")\n",
    "\n",
    "    ids = [match.id for match in res.matches]\n",
    "    scores = [match.score for match in res.matches]\n",
    "    df_result = pd.DataFrame(\n",
    "        {\n",
    "            \"id\": ids,\n",
    "            \"question\": [\n",
    "                df[df.qid1 == _id].question1.values[0] for _id in ids\n",
    "            ],\n",
    "            \"score\": scores,\n",
    "        }\n",
    "    )\n",
    "    print(df_result)"
   ]
  },
  {
   "cell_type": "markdown",
   "id": "essential-health",
   "metadata": {
    "id": "essential-health",
    "papermill": {
     "duration": 0.050565,
     "end_time": "2021-04-15T21:11:56.835393",
     "exception": false,
     "start_time": "2021-04-15T21:11:56.784828",
     "status": "completed"
    },
    "tags": []
   },
   "source": [
    "## Delete the Index"
   ]
  },
  {
   "cell_type": "markdown",
   "id": "opposite-visitor",
   "metadata": {
    "id": "opposite-visitor",
    "papermill": {
     "duration": 0.051167,
     "end_time": "2021-04-15T21:11:56.937286",
     "exception": false,
     "start_time": "2021-04-15T21:11:56.886119",
     "status": "completed"
    },
    "tags": []
   },
   "source": [
    "Delete the index once you are sure that you do not want to use it anymore. Once it is deleted, you cannot reuse it.\n"
   ]
  },
  {
   "cell_type": "code",
   "execution_count": 15,
   "id": "rocky-selling",
   "metadata": {
    "execution": {
     "iopub.execute_input": "2021-04-15T21:11:57.047606Z",
     "iopub.status.busy": "2021-04-15T21:11:57.046545Z",
     "iopub.status.idle": "2021-04-15T21:12:09.690178Z",
     "shell.execute_reply": "2021-04-15T21:12:09.689514Z"
    },
    "id": "rocky-selling",
    "papermill": {
     "duration": 12.701629,
     "end_time": "2021-04-15T21:12:09.690372",
     "exception": false,
     "start_time": "2021-04-15T21:11:56.988743",
     "status": "completed"
    },
    "tags": []
   },
   "outputs": [],
   "source": [
    "pinecone.delete_index(index_name)"
   ]
  }
 ],
 "metadata": {
  "colab": {
   "collapsed_sections": [],
   "name": "question_answering.ipynb",
   "provenance": [],
   "toc_visible": true
  },
  "environment": {
   "name": "tf2-gpu.2-3.m65",
   "type": "gcloud",
   "uri": "gcr.io/deeplearning-platform-release/tf2-gpu.2-3:m65"
  },
  "kernelspec": {
   "display_name": "Python 3 (ipykernel)",
   "language": "python",
   "name": "python3"
  },
  "language_info": {
   "codemirror_mode": {
    "name": "ipython",
    "version": 3
   },
   "file_extension": ".py",
   "mimetype": "text/x-python",
   "name": "python",
   "nbconvert_exporter": "python",
   "pygments_lexer": "ipython3",
   "version": "3.9.7"
  },
  "papermill": {
   "default_parameters": {},
   "duration": 333.240754,
   "end_time": "2021-04-15T21:12:11.363566",
   "environment_variables": {},
   "exception": null,
   "input_path": "/notebooks/question_answering/question_answering.ipynb",
   "output_path": "/notebooks/tmp/question_answering/question_answering.ipynb",
   "parameters": {},
   "start_time": "2021-04-15T21:06:38.122812",
   "version": "2.3.3"
  }
 },
 "nbformat": 4,
 "nbformat_minor": 5
}