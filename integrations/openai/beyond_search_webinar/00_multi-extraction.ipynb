{
 "cells": [
  {
   "cell_type": "markdown",
   "metadata": {},
   "source": [
    "## Transform data into larger chunks of around 500 tokens\n",
    "This assumes that the dataset is ordered sequentially. If this is not the case, then this part should be skipped"
   ]
  },
  {
   "cell_type": "code",
   "execution_count": 43,
   "metadata": {},
   "outputs": [
    {
     "data": {
      "text/html": [
       "<div>\n",
       "<style scoped>\n",
       "    .dataframe tbody tr th:only-of-type {\n",
       "        vertical-align: middle;\n",
       "    }\n",
       "\n",
       "    .dataframe tbody tr th {\n",
       "        vertical-align: top;\n",
       "    }\n",
       "\n",
       "    .dataframe thead th {\n",
       "        text-align: right;\n",
       "    }\n",
       "</style>\n",
       "<table border=\"1\" class=\"dataframe\">\n",
       "  <thead>\n",
       "    <tr style=\"text-align: right;\">\n",
       "      <th></th>\n",
       "      <th>docs</th>\n",
       "      <th>category</th>\n",
       "      <th>thread</th>\n",
       "      <th>href</th>\n",
       "      <th>question</th>\n",
       "      <th>context</th>\n",
       "      <th>marked</th>\n",
       "    </tr>\n",
       "  </thead>\n",
       "  <tbody>\n",
       "    <tr>\n",
       "      <th>5080</th>\n",
       "      <td>streamlit</td>\n",
       "      <td>Using Streamlit</td>\n",
       "      <td>50MB dataset limitation when using Plotly.py</td>\n",
       "      <td>https://discuss.streamlit.io/t/50mb-dataset-li...</td>\n",
       "      <td>Hi there,\\nI’m using Plotly.py to show figures...</td>\n",
       "      <td>Thanks for the reply! I found this github link...</td>\n",
       "      <td>1</td>\n",
       "    </tr>\n",
       "    <tr>\n",
       "      <th>4147</th>\n",
       "      <td>tensorflow</td>\n",
       "      <td>General Discussion</td>\n",
       "      <td>ValueError: Output tensors of a Functional mod...</td>\n",
       "      <td>https://discuss.tensorflow.org/t/valueerror-ou...</td>\n",
       "      <td>I’m trying to implement a custom callback to g...</td>\n",
       "      <td>Probably you could try something like this ins...</td>\n",
       "      <td>0</td>\n",
       "    </tr>\n",
       "    <tr>\n",
       "      <th>3272</th>\n",
       "      <td>pytorch</td>\n",
       "      <td>deployment</td>\n",
       "      <td>How to calculate the memory requirement for ru...</td>\n",
       "      <td>https://discuss.pytorch.org/t/how-to-calculate...</td>\n",
       "      <td>Hi Everyone,\\nI have trained a deep learning m...</td>\n",
       "      <td>Hi. I think you can use the PyTorch Profiler h...</td>\n",
       "      <td>0</td>\n",
       "    </tr>\n",
       "    <tr>\n",
       "      <th>2773</th>\n",
       "      <td>pytorch</td>\n",
       "      <td>vision</td>\n",
       "      <td>Failed to load image Python extension: Could n...</td>\n",
       "      <td>https://discuss.pytorch.org/t/failed-to-load-i...</td>\n",
       "      <td>I was just training a model and this warning p...</td>\n",
       "      <td>How did you install torchvision? Did you build...</td>\n",
       "      <td>0</td>\n",
       "    </tr>\n",
       "    <tr>\n",
       "      <th>4961</th>\n",
       "      <td>tensorflow</td>\n",
       "      <td>Special Interest Groups</td>\n",
       "      <td>Multi Learning rate in keras</td>\n",
       "      <td>https://discuss.tensorflow.org/t/multi-learnin...</td>\n",
       "      <td>Hello\\nfor keras platform in model.compile onl...</td>\n",
       "      <td>It seams that TensorFlow Addons has an optimiz...</td>\n",
       "      <td>0</td>\n",
       "    </tr>\n",
       "  </tbody>\n",
       "</table>\n",
       "</div>"
      ],
      "text/plain": [
       "            docs                 category  \\\n",
       "5080   streamlit          Using Streamlit   \n",
       "4147  tensorflow       General Discussion   \n",
       "3272     pytorch               deployment   \n",
       "2773     pytorch                   vision   \n",
       "4961  tensorflow  Special Interest Groups   \n",
       "\n",
       "                                                 thread  \\\n",
       "5080       50MB dataset limitation when using Plotly.py   \n",
       "4147  ValueError: Output tensors of a Functional mod...   \n",
       "3272  How to calculate the memory requirement for ru...   \n",
       "2773  Failed to load image Python extension: Could n...   \n",
       "4961                       Multi Learning rate in keras   \n",
       "\n",
       "                                                   href  \\\n",
       "5080  https://discuss.streamlit.io/t/50mb-dataset-li...   \n",
       "4147  https://discuss.tensorflow.org/t/valueerror-ou...   \n",
       "3272  https://discuss.pytorch.org/t/how-to-calculate...   \n",
       "2773  https://discuss.pytorch.org/t/failed-to-load-i...   \n",
       "4961  https://discuss.tensorflow.org/t/multi-learnin...   \n",
       "\n",
       "                                               question  \\\n",
       "5080  Hi there,\\nI’m using Plotly.py to show figures...   \n",
       "4147  I’m trying to implement a custom callback to g...   \n",
       "3272  Hi Everyone,\\nI have trained a deep learning m...   \n",
       "2773  I was just training a model and this warning p...   \n",
       "4961  Hello\\nfor keras platform in model.compile onl...   \n",
       "\n",
       "                                                context  marked  \n",
       "5080  Thanks for the reply! I found this github link...       1  \n",
       "4147  Probably you could try something like this ins...       0  \n",
       "3272  Hi. I think you can use the PyTorch Profiler h...       0  \n",
       "2773  How did you install torchvision? Did you build...       0  \n",
       "4961  It seams that TensorFlow Addons has an optimiz...       0  "
      ]
     },
     "execution_count": 43,
     "metadata": {},
     "output_type": "execute_result"
    }
   ],
   "source": [
    "import pandas as pd\n",
    "import openai\n",
    "\n",
    "openai.api_key = '<<OPENAI_API_KEY>>'  # beta.openai.com/login/\n",
    "\n",
    "hf = pd.read_json('data/huggingface-qa.jsonl', lines=True)\n",
    "pt = pd.read_json('data/pytorch-qa.jsonl', lines=True)\n",
    "tf = pd.read_json('data/tensorflow-qa.jsonl', lines=True)\n",
    "sl = pd.read_json('data/streamlit-qa.jsonl', lines=True)\n",
    "df = pd.concat([hf, pt, tf, sl], ignore_index=True)\n",
    "df.sample(5)"
   ]
  },
  {
   "cell_type": "code",
   "execution_count": 45,
   "metadata": {},
   "outputs": [
    {
     "data": {
      "text/plain": [
       "array(['streamlit', 'Using Streamlit',\n",
       "       '50MB dataset limitation when using Plotly.py',\n",
       "       'https://discuss.streamlit.io/t/50mb-dataset-limitation-when-using-plotly-py/9464',\n",
       "       'Hi there,\\nI’m using Plotly.py to show figures in my Streamlit app with big datasets. And now I get a notification of dataset oversizing, bigger than 50.0MB, is there anyway to solve this?',\n",
       "       'Thanks for the reply! I found this github link before I posted this issue, but it didn’t solve my problem.\\nBut later my friends and I found this error message in ~/site-packages/streamlit/server/server_util.py, and changed the parameter MESSAGE_LIMIT_SIZE to 200*1e6, making the write limit now 200 MB',\n",
       "       1], dtype=object)"
      ]
     },
     "execution_count": 45,
     "metadata": {},
     "output_type": "execute_result"
    }
   ],
   "source": [
    "df.values[5080]"
   ]
  },
  {
   "cell_type": "code",
   "execution_count": 44,
   "metadata": {},
   "outputs": [
    {
     "data": {
      "text/plain": [
       "huggingface    2765\n",
       "tensorflow     1224\n",
       "streamlit      1115\n",
       "pytorch        1061\n",
       "Name: docs, dtype: int64"
      ]
     },
     "execution_count": 44,
     "metadata": {},
     "output_type": "execute_result"
    }
   ],
   "source": [
    "df.docs.value_counts()"
   ]
  },
  {
   "cell_type": "code",
   "execution_count": 46,
   "metadata": {},
   "outputs": [
    {
     "name": "stderr",
     "output_type": "stream",
     "text": [
      "Token indices sequence length is longer than the specified maximum sequence length for this model (1718 > 1024). Running this sequence through the model will result in indexing errors\n"
     ]
    },
    {
     "data": {
      "text/plain": [
       "<AxesSubplot:>"
      ]
     },
     "execution_count": 46,
     "metadata": {},
     "output_type": "execute_result"
    },
    {
     "data": {
      "image/png": "[encoded data removed]",
      "text/plain": [
       "<Figure size 432x288 with 1 Axes>"
      ]
     },
     "metadata": {
      "needs_background": "light"
     },
     "output_type": "display_data"
    }
   ],
   "source": [
    "def remove_newlines(serie):\n",
    "    serie = serie.str.replace('\\n', ' ', regex=False)\n",
    "    serie = serie.str.replace('\\\\n', ' ', regex=False)\n",
    "    serie = serie.str.replace('  ',' ', regex=False)\n",
    "    serie = serie.str.replace('  ',' ', regex=False)\n",
    "    return serie\n",
    "\n",
    "\n",
    "from transformers import GPT2TokenizerFast\n",
    "\n",
    "df['text'] = \"Topic: \" + df.docs + \" - \" + df.category + \"; Question: \" + df.thread + \" - \" + df.question + \"; Answer: \" + df.context\n",
    "df['text'] = remove_newlines(df.text)\n",
    "tokenizer = GPT2TokenizerFast.from_pretrained(\"gpt2\")\n",
    "df['n_tokens'] = df.text.apply(lambda x: len(tokenizer.encode(x)))\n",
    "\n",
    "df.n_tokens.hist(bins=100, log=True)"
   ]
  },
  {
   "cell_type": "code",
   "execution_count": 54,
   "metadata": {},
   "outputs": [
    {
     "data": {
      "text/plain": [
       "<AxesSubplot:>"
      ]
     },
     "execution_count": 54,
     "metadata": {},
     "output_type": "execute_result"
    },
    {
     "data": {
      "image/png": "[encoded data removed]",
      "text/plain": [
       "<Figure size 432x288 with 1 Axes>"
      ]
     },
     "metadata": {
      "needs_background": "light"
     },
     "output_type": "display_data"
    }
   ],
   "source": [
    "df.n_tokens.hist(bins=100)"
   ]
  },
  {
   "cell_type": "code",
   "execution_count": 55,
   "metadata": {},
   "outputs": [],
   "source": [
    "df = df[df.n_tokens < 2000]"
   ]
  },
  {
   "cell_type": "markdown",
   "metadata": {},
   "source": [
    "## Get Embeddings, and save them"
   ]
  },
  {
   "cell_type": "code",
   "execution_count": 56,
   "metadata": {},
   "outputs": [
    {
     "data": {
      "text/html": [
       "<div>\n",
       "<style scoped>\n",
       "    .dataframe tbody tr th:only-of-type {\n",
       "        vertical-align: middle;\n",
       "    }\n",
       "\n",
       "    .dataframe tbody tr th {\n",
       "        vertical-align: top;\n",
       "    }\n",
       "\n",
       "    .dataframe thead th {\n",
       "        text-align: right;\n",
       "    }\n",
       "</style>\n",
       "<table border=\"1\" class=\"dataframe\">\n",
       "  <thead>\n",
       "    <tr style=\"text-align: right;\">\n",
       "      <th></th>\n",
       "      <th>docs</th>\n",
       "      <th>category</th>\n",
       "      <th>thread</th>\n",
       "      <th>href</th>\n",
       "      <th>question</th>\n",
       "      <th>context</th>\n",
       "      <th>marked</th>\n",
       "      <th>text</th>\n",
       "      <th>n_tokens</th>\n",
       "      <th>embeddings</th>\n",
       "    </tr>\n",
       "  </thead>\n",
       "  <tbody>\n",
       "    <tr>\n",
       "      <th>0</th>\n",
       "      <td>huggingface</td>\n",
       "      <td>Beginners</td>\n",
       "      <td>Can’t download (some) models although they are...</td>\n",
       "      <td>https://discuss.huggingface.co/t/cant-download...</td>\n",
       "      <td>Can’t download (some) models to pytorch, altho...</td>\n",
       "      <td>Looking at umarayub/t5-small-finetuned-xsum at...</td>\n",
       "      <td>0</td>\n",
       "      <td>Topic: huggingface - Beginners; Question: Can’...</td>\n",
       "      <td>550</td>\n",
       "      <td>[0.004923707339912653, -0.016777075827121735, ...</td>\n",
       "    </tr>\n",
       "    <tr>\n",
       "      <th>1</th>\n",
       "      <td>huggingface</td>\n",
       "      <td>Beginners</td>\n",
       "      <td>Trainer.push_to_hub is taking lot of time, is ...</td>\n",
       "      <td>https://discuss.huggingface.co/t/trainer-push-...</td>\n",
       "      <td>Hi, I’m trying to push my model to HF hub via ...</td>\n",
       "      <td>@sgugger  can you please help me out with this...</td>\n",
       "      <td>0</td>\n",
       "      <td>Topic: huggingface - Beginners; Question: Trai...</td>\n",
       "      <td>204</td>\n",
       "      <td>[0.0020476023200899363, -0.0010360622545704246...</td>\n",
       "    </tr>\n",
       "    <tr>\n",
       "      <th>2</th>\n",
       "      <td>huggingface</td>\n",
       "      <td>Beginners</td>\n",
       "      <td>SSLCertVerificationError when loading a model</td>\n",
       "      <td>https://discuss.huggingface.co/t/sslcertverifi...</td>\n",
       "      <td>I am exploring potential opportunities of usin...</td>\n",
       "      <td>I’m also getting the same error. Please let me...</td>\n",
       "      <td>0</td>\n",
       "      <td>Topic: huggingface - Beginners; Question: SSLC...</td>\n",
       "      <td>494</td>\n",
       "      <td>[0.002923486055806279, 0.007949204184114933, 0...</td>\n",
       "    </tr>\n",
       "    <tr>\n",
       "      <th>3</th>\n",
       "      <td>huggingface</td>\n",
       "      <td>Beginners</td>\n",
       "      <td>How to use embeddings to compute similarity?</td>\n",
       "      <td>https://discuss.huggingface.co/t/how-to-use-em...</td>\n",
       "      <td>Hi, I would like to compute sentence similarit...</td>\n",
       "      <td>With transformers, the feature-extraction pipe...</td>\n",
       "      <td>0</td>\n",
       "      <td>Topic: huggingface - Beginners; Question: How ...</td>\n",
       "      <td>351</td>\n",
       "      <td>[-0.011044162325561047, 0.0021849798504263163,...</td>\n",
       "    </tr>\n",
       "    <tr>\n",
       "      <th>4</th>\n",
       "      <td>huggingface</td>\n",
       "      <td>Beginners</td>\n",
       "      <td>How to use additional input features for NER?</td>\n",
       "      <td>https://discuss.huggingface.co/t/how-to-use-ad...</td>\n",
       "      <td>Hello,\\nI’ve been following the documentation ...</td>\n",
       "      <td>mhl:\\n\\ne.g [“Arizona_NNP”, “Ice_NNP”, “Tea_NN...</td>\n",
       "      <td>0</td>\n",
       "      <td>Topic: huggingface - Beginners; Question: How ...</td>\n",
       "      <td>1718</td>\n",
       "      <td>[0.002879042411223054, -0.004730842541903257, ...</td>\n",
       "    </tr>\n",
       "  </tbody>\n",
       "</table>\n",
       "</div>"
      ],
      "text/plain": [
       "          docs   category                                             thread  \\\n",
       "0  huggingface  Beginners  Can’t download (some) models although they are...   \n",
       "1  huggingface  Beginners  Trainer.push_to_hub is taking lot of time, is ...   \n",
       "2  huggingface  Beginners      SSLCertVerificationError when loading a model   \n",
       "3  huggingface  Beginners       How to use embeddings to compute similarity?   \n",
       "4  huggingface  Beginners      How to use additional input features for NER?   \n",
       "\n",
       "                                                href  \\\n",
       "0  https://discuss.huggingface.co/t/cant-download...   \n",
       "1  https://discuss.huggingface.co/t/trainer-push-...   \n",
       "2  https://discuss.huggingface.co/t/sslcertverifi...   \n",
       "3  https://discuss.huggingface.co/t/how-to-use-em...   \n",
       "4  https://discuss.huggingface.co/t/how-to-use-ad...   \n",
       "\n",
       "                                            question  \\\n",
       "0  Can’t download (some) models to pytorch, altho...   \n",
       "1  Hi, I’m trying to push my model to HF hub via ...   \n",
       "2  I am exploring potential opportunities of usin...   \n",
       "3  Hi, I would like to compute sentence similarit...   \n",
       "4  Hello,\\nI’ve been following the documentation ...   \n",
       "\n",
       "                                             context  marked  \\\n",
       "0  Looking at umarayub/t5-small-finetuned-xsum at...       0   \n",
       "1  @sgugger  can you please help me out with this...       0   \n",
       "2  I’m also getting the same error. Please let me...       0   \n",
       "3  With transformers, the feature-extraction pipe...       0   \n",
       "4  mhl:\\n\\ne.g [“Arizona_NNP”, “Ice_NNP”, “Tea_NN...       0   \n",
       "\n",
       "                                                text  n_tokens  \\\n",
       "0  Topic: huggingface - Beginners; Question: Can’...       550   \n",
       "1  Topic: huggingface - Beginners; Question: Trai...       204   \n",
       "2  Topic: huggingface - Beginners; Question: SSLC...       494   \n",
       "3  Topic: huggingface - Beginners; Question: How ...       351   \n",
       "4  Topic: huggingface - Beginners; Question: How ...      1718   \n",
       "\n",
       "                                          embeddings  \n",
       "0  [0.004923707339912653, -0.016777075827121735, ...  \n",
       "1  [0.0020476023200899363, -0.0010360622545704246...  \n",
       "2  [0.002923486055806279, 0.007949204184114933, 0...  \n",
       "3  [-0.011044162325561047, 0.0021849798504263163,...  \n",
       "4  [0.002879042411223054, -0.004730842541903257, ...  "
      ]
     },
     "execution_count": 56,
     "metadata": {},
     "output_type": "execute_result"
    }
   ],
   "source": [
    "size = 'curie'\n",
    "\n",
    "from openai.embeddings_utils import get_embedding\n",
    "\n",
    "df['embeddings'] = df.text.apply(lambda x: get_embedding(x, engine=f'text-search-{size}-doc-001'))\n",
    "df.to_parquet('data/curie_embeddings.parquet')\n",
    "df.head()"
   ]
  }
 ],
 "metadata": {
  "interpreter": {
   "hash": "5997d090960a54cd76552f75eca12ec3b416cf9d01a1a5af08ae48cf90878791"
  },
  "kernelspec": {
   "display_name": "Python 3.9.9 64-bit ('3.9.9')",
   "language": "python",
   "name": "python3"
  },
  "language_info": {
   "codemirror_mode": {
    "name": "ipython",
    "version": 3
   },
   "file_extension": ".py",
   "mimetype": "text/x-python",
   "name": "python",
   "nbconvert_exporter": "python",
   "pygments_lexer": "ipython3",
   "version": "3.7.3"
  },
  "orig_nbformat": 4
 },
 "nbformat": 4,
 "nbformat_minor": 2
}
