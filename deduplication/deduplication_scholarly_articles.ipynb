{
 "cells": [
  {
   "cell_type": "markdown",
   "id": "a4e2fc01",
   "metadata": {
    "id": "a4e2fc01",
    "papermill": {
     "duration": 0.063978,
     "end_time": "2021-04-22T02:05:48.011289",
     "exception": false,
     "start_time": "2021-04-22T02:05:47.947311",
     "status": "completed"
    },
    "tags": []
   },
   "source": [
    "# Document Deduplication with Similarity Search"
   ]
  },
  {
   "cell_type": "markdown",
   "id": "12df02b4",
   "metadata": {
    "id": "12df02b4",
    "papermill": {
     "duration": 0.048328,
     "end_time": "2021-04-22T02:05:48.113684",
     "exception": false,
     "start_time": "2021-04-22T02:05:48.065356",
     "status": "completed"
    },
    "tags": []
   },
   "source": [
    "This notebook demonstrates how to use Pinecone's similarity search to create a simple application to identify duplicate documents. \n",
    "\n",
    "The goal is to create a data deduplication application for eliminating near-duplicate copies of academic texts. In this example, we will perform the deduplication of a given text in two steps. First, we will sift a small set of candidate texts using a similarity-search service. Then, we will apply a near-duplication detector over these candidates. \n",
    "\n",
    "The similarity search will use a vector representation of the texts. With this, semantic similarity is translated to proximity in a vector space. For detecting near-duplicates, we will employ a classification model that examines the raw text. "
   ]
  },
  {
   "cell_type": "markdown",
   "id": "d653024a",
   "metadata": {
    "id": "d653024a",
    "papermill": {
     "duration": 0.050676,
     "end_time": "2021-04-22T02:05:48.215811",
     "exception": false,
     "start_time": "2021-04-22T02:05:48.165135",
     "status": "completed"
    },
    "tags": []
   },
   "source": [
    "## Dependencies"
   ]
  },
  {
   "cell_type": "code",
   "execution_count": null,
   "id": "08cd7b6e",
   "metadata": {
    "execution": {
     "iopub.execute_input": "2021-04-22T02:05:48.328155Z",
     "iopub.status.busy": "2021-04-22T02:05:48.327286Z",
     "iopub.status.idle": "2021-04-22T02:07:42.054287Z",
     "shell.execute_reply": "2021-04-22T02:07:42.051766Z"
    },
    "id": "08cd7b6e",
    "papermill": {
     "duration": 113.78609,
     "end_time": "2021-04-22T02:07:42.055032",
     "exception": false,
     "start_time": "2021-04-22T02:05:48.268942",
     "status": "completed"
    },
    "tags": []
   },
   "outputs": [],
   "source": [
    "!pip install -qU datasketch gensim mmh3 pinecone-client ipywidgets\n",
    "!pip install -qU sentence-transformers --no-cache-dir"
   ]
  },
  {
   "cell_type": "code",
   "execution_count": 2,
   "id": "430017ba",
   "metadata": {
    "execution": {
     "iopub.execute_input": "2021-04-22T02:07:42.220927Z",
     "iopub.status.busy": "2021-04-22T02:07:42.216127Z",
     "iopub.status.idle": "2021-04-22T02:07:45.552891Z",
     "shell.execute_reply": "2021-04-22T02:07:45.551972Z"
    },
    "id": "430017ba",
    "papermill": {
     "duration": 3.416794,
     "end_time": "2021-04-22T02:07:45.553155",
     "exception": false,
     "start_time": "2021-04-22T02:07:42.136361",
     "status": "completed"
    },
    "tags": []
   },
   "outputs": [],
   "source": [
    "import os\n",
    "import json\n",
    "import math\n",
    "import statistics\n",
    "import pandas as pd\n",
    "from tqdm import tqdm\n",
    "from sentence_transformers import SentenceTransformer\n",
    "from gensim.utils import tokenize\n",
    "from datasketch.minhash import MinHash\n",
    "from datasketch.lsh import MinHashLSH"
   ]
  },
  {
   "cell_type": "markdown",
   "id": "c8f82b70",
   "metadata": {
    "id": "c8f82b70",
    "papermill": {
     "duration": 0.047927,
     "end_time": "2021-04-22T02:07:45.647713",
     "exception": false,
     "start_time": "2021-04-22T02:07:45.599786",
     "status": "completed"
    },
    "tags": []
   },
   "source": [
    "## Pinecone Setup"
   ]
  },
  {
   "cell_type": "code",
   "execution_count": 3,
   "id": "90ffb6cc",
   "metadata": {
    "execution": {
     "iopub.execute_input": "2021-04-22T02:07:45.754990Z",
     "iopub.status.busy": "2021-04-22T02:07:45.750917Z",
     "iopub.status.idle": "2021-04-22T02:07:46.316214Z",
     "shell.execute_reply": "2021-04-22T02:07:46.315720Z"
    },
    "id": "90ffb6cc",
    "papermill": {
     "duration": 0.620025,
     "end_time": "2021-04-22T02:07:46.316451",
     "exception": false,
     "start_time": "2021-04-22T02:07:45.696426",
     "status": "completed"
    },
    "tags": []
   },
   "outputs": [],
   "source": [
    "import pinecone\n",
    "\n",
    "# Load Pinecone API key\n",
    "api_key = os.getenv(\"PINECONE_API_KEY\") or \"YOUR_API_KEY\"\n",
    "pinecone.init(api_key=api_key, environment='us-west1-gcp')"
   ]
  },
  {
   "cell_type": "markdown",
   "id": "c4d52e5a",
   "metadata": {
    "id": "c4d52e5a",
    "papermill": {
     "duration": 0.047172,
     "end_time": "2021-04-22T02:07:46.408965",
     "exception": false,
     "start_time": "2021-04-22T02:07:46.361793",
     "status": "completed"
    },
    "tags": []
   },
   "source": [
    "[Get a Pinecone API key](https://www.pinecone.io/start/) if you don’t have one already."
   ]
  },
  {
   "cell_type": "markdown",
   "id": "32cdeaf7",
   "metadata": {
    "id": "32cdeaf7",
    "papermill": {
     "duration": 0.045346,
     "end_time": "2021-04-22T02:07:46.498533",
     "exception": false,
     "start_time": "2021-04-22T02:07:46.453187",
     "status": "completed"
    },
    "tags": []
   },
   "source": [
    "## Define a New Pinecone Index"
   ]
  },
  {
   "cell_type": "code",
   "execution_count": 4,
   "id": "22da3d56",
   "metadata": {
    "execution": {
     "iopub.execute_input": "2021-04-22T02:07:46.601276Z",
     "iopub.status.busy": "2021-04-22T02:07:46.599500Z",
     "iopub.status.idle": "2021-04-22T02:07:46.602060Z",
     "shell.execute_reply": "2021-04-22T02:07:46.602555Z"
    },
    "id": "22da3d56",
    "papermill": {
     "duration": 0.057581,
     "end_time": "2021-04-22T02:07:46.602789",
     "exception": false,
     "start_time": "2021-04-22T02:07:46.545208",
     "status": "completed"
    },
    "tags": []
   },
   "outputs": [],
   "source": [
    "# Pick a name for the new index\n",
    "index_name = \"deduplication\""
   ]
  },
  {
   "cell_type": "code",
   "execution_count": 5,
   "id": "30ac8521",
   "metadata": {
    "execution": {
     "iopub.execute_input": "2021-04-22T02:07:46.698891Z",
     "iopub.status.busy": "2021-04-22T02:07:46.697259Z",
     "iopub.status.idle": "2021-04-22T02:07:47.197160Z",
     "shell.execute_reply": "2021-04-22T02:07:47.195383Z"
    },
    "id": "30ac8521",
    "papermill": {
     "duration": 0.54984,
     "end_time": "2021-04-22T02:07:47.197761",
     "exception": false,
     "start_time": "2021-04-22T02:07:46.647921",
     "status": "completed"
    },
    "tags": []
   },
   "outputs": [],
   "source": [
    "# Check whether an index with the same name already exists\n",
    "if index_name in pinecone.list_indexes():\n",
    "    pinecone.delete_index(index_name)"
   ]
  },
  {
   "cell_type": "markdown",
   "id": "0fd0d29a",
   "metadata": {
    "id": "0fd0d29a",
    "papermill": {
     "duration": 0.045766,
     "end_time": "2021-04-22T02:07:47.294911",
     "exception": false,
     "start_time": "2021-04-22T02:07:47.249145",
     "status": "completed"
    },
    "tags": []
   },
   "source": [
    "**Create Index**\n"
   ]
  },
  {
   "cell_type": "code",
   "execution_count": 6,
   "id": "eac6c5fd",
   "metadata": {
    "execution": {
     "iopub.execute_input": "2021-04-22T02:07:47.398141Z",
     "iopub.status.busy": "2021-04-22T02:07:47.396098Z",
     "iopub.status.idle": "2021-04-22T02:08:10.710627Z",
     "shell.execute_reply": "2021-04-22T02:08:10.710009Z"
    },
    "id": "eac6c5fd",
    "papermill": {
     "duration": 23.371958,
     "end_time": "2021-04-22T02:08:10.710973",
     "exception": false,
     "start_time": "2021-04-22T02:07:47.339015",
     "status": "completed"
    },
    "tags": []
   },
   "outputs": [],
   "source": [
    "pinecone.create_index(name=index_name, dimension=300)"
   ]
  },
  {
   "cell_type": "markdown",
   "id": "0b3fd29e",
   "metadata": {
    "id": "0b3fd29e",
    "papermill": {
     "duration": 0.047531,
     "end_time": "2021-04-22T02:08:10.805519",
     "exception": false,
     "start_time": "2021-04-22T02:08:10.757988",
     "status": "completed"
    },
    "tags": []
   },
   "source": [
    "**Create Index object**\n",
    "\n",
    "The index object, a class instance of pinecone.Index, will be reused for optimal performance."
   ]
  },
  {
   "cell_type": "code",
   "execution_count": 7,
   "id": "74fbf2ed",
   "metadata": {
    "execution": {
     "iopub.execute_input": "2021-04-22T02:08:10.904632Z",
     "iopub.status.busy": "2021-04-22T02:08:10.902813Z",
     "iopub.status.idle": "2021-04-22T02:08:11.798698Z",
     "shell.execute_reply": "2021-04-22T02:08:11.797634Z"
    },
    "id": "74fbf2ed",
    "papermill": {
     "duration": 0.946561,
     "end_time": "2021-04-22T02:08:11.799222",
     "exception": false,
     "start_time": "2021-04-22T02:08:10.852661",
     "status": "completed"
    },
    "tags": []
   },
   "outputs": [],
   "source": [
    "index = pinecone.Index(index_name)"
   ]
  },
  {
   "cell_type": "markdown",
   "id": "256e64e8",
   "metadata": {
    "id": "256e64e8",
    "papermill": {
     "duration": 0.046393,
     "end_time": "2021-04-22T02:08:11.899649",
     "exception": false,
     "start_time": "2021-04-22T02:08:11.853256",
     "status": "completed"
    },
    "tags": []
   },
   "source": [
    "## Upload"
   ]
  },
  {
   "cell_type": "markdown",
   "id": "003340f7",
   "metadata": {
    "id": "003340f7",
    "papermill": {
     "duration": 0.043329,
     "end_time": "2021-04-22T02:08:11.990600",
     "exception": false,
     "start_time": "2021-04-22T02:08:11.947271",
     "status": "completed"
    },
    "tags": []
   },
   "source": [
    "In this tutorial, we will use the [Deduplication Dataset 2020](https://core.ac.uk/documentation/dataset/) that consists of 100,000 scholarly documents. \n"
   ]
  },
  {
   "cell_type": "markdown",
   "id": "24c4a631",
   "metadata": {
    "id": "24c4a631",
    "papermill": {
     "duration": 0.044913,
     "end_time": "2021-04-22T02:08:12.081314",
     "exception": false,
     "start_time": "2021-04-22T02:08:12.036401",
     "status": "completed"
    },
    "tags": []
   },
   "source": [
    "**Load data**"
   ]
  },
  {
   "cell_type": "code",
   "execution_count": 8,
   "id": "3abb431a",
   "metadata": {
    "execution": {
     "iopub.execute_input": "2021-04-22T02:08:12.194891Z",
     "iopub.status.busy": "2021-04-22T02:08:12.194195Z",
     "iopub.status.idle": "2021-04-22T02:08:51.471090Z",
     "shell.execute_reply": "2021-04-22T02:08:51.470082Z"
    },
    "id": "3abb431a",
    "papermill": {
     "duration": 39.336474,
     "end_time": "2021-04-22T02:08:51.471549",
     "exception": false,
     "start_time": "2021-04-22T02:08:12.135075",
     "status": "completed"
    },
    "tags": []
   },
   "outputs": [],
   "source": [
    "import requests, os, zipfile\n",
    "\n",
    "DATA_DIR = \"tmp\"\n",
    "DATA_FILE = f\"{DATA_DIR}/deduplication_dataset_2020.zip\"\n",
    "DATA_URL = \"https://core.ac.uk/datasets/core_2020-05-10_deduplication.zip\"\n",
    "\n",
    "\n",
    "def download_data():\n",
    "    os.makedirs(DATA_DIR, exist_ok=True)\n",
    "\n",
    "    if not os.path.exists(DATA_FILE):\n",
    "        r = requests.get(DATA_URL)\n",
    "        with open(DATA_FILE, \"wb\") as f:\n",
    "            f.write(r.content)\n",
    "        with zipfile.ZipFile(DATA_FILE, \"r\") as zip_ref:\n",
    "            zip_ref.extractall(DATA_DIR)\n",
    "\n",
    "\n",
    "download_data()"
   ]
  },
  {
   "cell_type": "code",
   "execution_count": 9,
   "id": "befead36",
   "metadata": {
    "execution": {
     "iopub.execute_input": "2021-04-22T02:08:51.598119Z",
     "iopub.status.busy": "2021-04-22T02:08:51.596506Z",
     "iopub.status.idle": "2021-04-22T02:08:52.146867Z",
     "shell.execute_reply": "2021-04-22T02:08:52.144625Z"
    },
    "id": "befead36",
    "papermill": {
     "duration": 0.617861,
     "end_time": "2021-04-22T02:08:52.147284",
     "exception": false,
     "start_time": "2021-04-22T02:08:51.529423",
     "status": "completed"
    },
    "tags": []
   },
   "outputs": [],
   "source": [
    "DATA_PATH = os.path.join(DATA_DIR, \"deduplication_dataset_2020/Ground_Truth_data.jsonl\")\n",
    "\n",
    "with open(DATA_PATH, encoding=\"utf8\") as json_file:\n",
    "    data = list(json_file)"
   ]
  },
  {
   "cell_type": "markdown",
   "id": "0e0d29a5",
   "metadata": {
    "id": "0e0d29a5",
    "papermill": {
     "duration": 0.061599,
     "end_time": "2021-04-22T02:08:52.267725",
     "exception": false,
     "start_time": "2021-04-22T02:08:52.206126",
     "status": "completed"
    },
    "tags": []
   },
   "source": [
    "Here is a sample of the data. "
   ]
  },
  {
   "cell_type": "code",
   "execution_count": 10,
   "id": "05b14f55",
   "metadata": {
    "colab": {
     "base_uri": "https://localhost:8080/",
     "height": 337
    },
    "execution": {
     "iopub.execute_input": "2021-04-22T02:08:52.396848Z",
     "iopub.status.busy": "2021-04-22T02:08:52.390901Z",
     "iopub.status.idle": "2021-04-22T02:08:54.272516Z",
     "shell.execute_reply": "2021-04-22T02:08:54.271471Z"
    },
    "id": "05b14f55",
    "outputId": "b3a8b6fd-5a47-4d09-b6d1-c8c1e33dc3af",
    "papermill": {
     "duration": 1.947767,
     "end_time": "2021-04-22T02:08:54.272833",
     "exception": false,
     "start_time": "2021-04-22T02:08:52.325066",
     "status": "completed"
    },
    "tags": []
   },
   "outputs": [
    {
     "data": {
      "text/html": [
       "\n",
       "  <div id=\"df-2905057a-8d4f-4d19-ab05-6b9061673714\">\n",
       "    <div class=\"colab-df-container\">\n",
       "      <div>\n",
       "<style scoped>\n",
       "    .dataframe tbody tr th:only-of-type {\n",
       "        vertical-align: middle;\n",
       "    }\n",
       "\n",
       "    .dataframe tbody tr th {\n",
       "        vertical-align: top;\n",
       "    }\n",
       "\n",
       "    .dataframe thead th {\n",
       "        text-align: right;\n",
       "    }\n",
       "</style>\n",
       "<table border=\"1\" class=\"dataframe\">\n",
       "  <thead>\n",
       "    <tr style=\"text-align: right;\">\n",
       "      <th></th>\n",
       "      <th>core_id</th>\n",
       "      <th>doi</th>\n",
       "      <th>original_abstract</th>\n",
       "      <th>original_title</th>\n",
       "      <th>processed_title</th>\n",
       "      <th>processed_abstract</th>\n",
       "      <th>cat</th>\n",
       "      <th>labelled_duplicates</th>\n",
       "    </tr>\n",
       "  </thead>\n",
       "  <tbody>\n",
       "    <tr>\n",
       "      <th>0</th>\n",
       "      <td>11251086</td>\n",
       "      <td>10.1016/j.ajhg.2007.12.013</td>\n",
       "      <td>Unobstructed vision requires a particular refr...</td>\n",
       "      <td>Mutation of solute carrier SLC16A12 associates...</td>\n",
       "      <td>mutation of solute carrier slc16a12 associates...</td>\n",
       "      <td>unobstructed vision refractive lens differenti...</td>\n",
       "      <td>exact_dup</td>\n",
       "      <td>[82332306]</td>\n",
       "    </tr>\n",
       "    <tr>\n",
       "      <th>1</th>\n",
       "      <td>11309751</td>\n",
       "      <td>10.1103/PhysRevLett.101.193002</td>\n",
       "      <td>Two-color multiphoton ionization of atomic hel...</td>\n",
       "      <td>Polarization control in two-color above-thresh...</td>\n",
       "      <td>polarization control in two-color above-thresh...</td>\n",
       "      <td>multiphoton ionization helium combining extrem...</td>\n",
       "      <td>exact_dup</td>\n",
       "      <td>[147599753]</td>\n",
       "    </tr>\n",
       "    <tr>\n",
       "      <th>2</th>\n",
       "      <td>11311385</td>\n",
       "      <td>10.1016/j.ab.2011.02.013</td>\n",
       "      <td>Lectin’s are proteins capable of recognising a...</td>\n",
       "      <td>Optimisation of the enzyme-linked lectin assay...</td>\n",
       "      <td>optimisation of the enzyme-linked lectin assay...</td>\n",
       "      <td>lectin’s capable recognising oligosaccharide t...</td>\n",
       "      <td>exact_dup</td>\n",
       "      <td>[147603441]</td>\n",
       "    </tr>\n",
       "    <tr>\n",
       "      <th>3</th>\n",
       "      <td>11992240</td>\n",
       "      <td>10.1016/j.jpcs.2007.07.063</td>\n",
       "      <td>In this work, we present a detailed transmissi...</td>\n",
       "      <td>Vertical composition fluctuations in (Ga,In)(N...</td>\n",
       "      <td>vertical composition fluctuations in (ga,in)(n...</td>\n",
       "      <td>microscopy interfacial uniformity wells grown ...</td>\n",
       "      <td>exact_dup</td>\n",
       "      <td>[148653623]</td>\n",
       "    </tr>\n",
       "    <tr>\n",
       "      <th>4</th>\n",
       "      <td>11994990</td>\n",
       "      <td>10.1016/S0169-5983(03)00013-3</td>\n",
       "      <td>Three-dimensional (3D) oscillatory boundary la...</td>\n",
       "      <td>Three-dimensional streaming flows driven by os...</td>\n",
       "      <td>three-dimensional streaming flows driven by os...</td>\n",
       "      <td>oscillatory attached deformable walls boundari...</td>\n",
       "      <td>exact_dup</td>\n",
       "      <td>[148656283]</td>\n",
       "    </tr>\n",
       "  </tbody>\n",
       "</table>\n",
       "</div>\n",
       "      <button class=\"colab-df-convert\" onclick=\"convertToInteractive('df-2905057a-8d4f-4d19-ab05-6b9061673714')\"\n",
       "              title=\"Convert this dataframe to an interactive table.\"\n",
       "              style=\"display:none;\">\n",
       "        \n",
       "  <svg xmlns=\"http://www.w3.org/2000/svg\" height=\"24px\"viewBox=\"0 0 24 24\"\n",
       "       width=\"24px\">\n",
       "    <path d=\"M0 0h24v24H0V0z\" fill=\"none\"/>\n",
       "    <path d=\"M18.56 5.44l.94 2.06.94-2.06 2.06-.94-2.06-.94-.94-2.06-.94 2.06-2.06.94zm-11 1L8.5 8.5l.94-2.06 2.06-.94-2.06-.94L8.5 2.5l-.94 2.06-2.06.94zm10 10l.94 2.06.94-2.06 2.06-.94-2.06-.94-.94-2.06-.94 2.06-2.06.94z\"/><path d=\"M17.41 7.96l-1.37-1.37c-.4-.4-.92-.59-1.43-.59-.52 0-1.04.2-1.43.59L10.3 9.45l-7.72 7.72c-.78.78-.78 2.05 0 2.83L4 21.41c.39.39.9.59 1.41.59.51 0 1.02-.2 1.41-.59l7.78-7.78 2.81-2.81c.8-.78.8-2.07 0-2.86zM5.41 20L4 18.59l7.72-7.72 1.47 1.35L5.41 20z\"/>\n",
       "  </svg>\n",
       "      </button>\n",
       "      \n",
       "  <style>\n",
       "    .colab-df-container {\n",
       "      display:flex;\n",
       "      flex-wrap:wrap;\n",
       "      gap: 12px;\n",
       "    }\n",
       "\n",
       "    .colab-df-convert {\n",
       "      background-color: #E8F0FE;\n",
       "      border: none;\n",
       "      border-radius: 50%;\n",
       "      cursor: pointer;\n",
       "      display: none;\n",
       "      fill: #1967D2;\n",
       "      height: 32px;\n",
       "      padding: 0 0 0 0;\n",
       "      width: 32px;\n",
       "    }\n",
       "\n",
       "    .colab-df-convert:hover {\n",
       "      background-color: #E2EBFA;\n",
       "      box-shadow: 0px 1px 2px rgba(60, 64, 67, 0.3), 0px 1px 3px 1px rgba(60, 64, 67, 0.15);\n",
       "      fill: #174EA6;\n",
       "    }\n",
       "\n",
       "    [theme=dark] .colab-df-convert {\n",
       "      background-color: #3B4455;\n",
       "      fill: #D2E3FC;\n",
       "    }\n",
       "\n",
       "    [theme=dark] .colab-df-convert:hover {\n",
       "      background-color: #434B5C;\n",
       "      box-shadow: 0px 1px 3px 1px rgba(0, 0, 0, 0.15);\n",
       "      filter: drop-shadow(0px 1px 2px rgba(0, 0, 0, 0.3));\n",
       "      fill: #FFFFFF;\n",
       "    }\n",
       "  </style>\n",
       "\n",
       "      <script>\n",
       "        const buttonEl =\n",
       "          document.querySelector('#df-2905057a-8d4f-4d19-ab05-6b9061673714 button.colab-df-convert');\n",
       "        buttonEl.style.display =\n",
       "          google.colab.kernel.accessAllowed ? 'block' : 'none';\n",
       "\n",
       "        async function convertToInteractive(key) {\n",
       "          const element = document.querySelector('#df-2905057a-8d4f-4d19-ab05-6b9061673714');\n",
       "          const dataTable =\n",
       "            await google.colab.kernel.invokeFunction('convertToInteractive',\n",
       "                                                     [key], {});\n",
       "          if (!dataTable) return;\n",
       "\n",
       "          const docLinkHtml = 'Like what you see? Visit the ' +\n",
       "            '<a target=\"_blank\" href=https://colab.research.google.com/notebooks/data_table.ipynb>data table notebook</a>'\n",
       "            + ' to learn more about interactive tables.';\n",
       "          element.innerHTML = '';\n",
       "          dataTable['output_type'] = 'display_data';\n",
       "          await google.colab.output.renderOutput(dataTable, element);\n",
       "          const docLink = document.createElement('div');\n",
       "          docLink.innerHTML = docLinkHtml;\n",
       "          element.appendChild(docLink);\n",
       "        }\n",
       "      </script>\n",
       "    </div>\n",
       "  </div>\n",
       "  "
      ],
      "text/plain": [
       "    core_id                             doi  ...        cat labelled_duplicates\n",
       "0  11251086      10.1016/j.ajhg.2007.12.013  ...  exact_dup          [82332306]\n",
       "1  11309751  10.1103/PhysRevLett.101.193002  ...  exact_dup         [147599753]\n",
       "2  11311385        10.1016/j.ab.2011.02.013  ...  exact_dup         [147603441]\n",
       "3  11992240      10.1016/j.jpcs.2007.07.063  ...  exact_dup         [148653623]\n",
       "4  11994990   10.1016/S0169-5983(03)00013-3  ...  exact_dup         [148656283]\n",
       "\n",
       "[5 rows x 8 columns]"
      ]
     },
     "execution_count": 10,
     "metadata": {},
     "output_type": "execute_result"
    }
   ],
   "source": [
    "data_json = [json.loads(json_str) for json_str in data]\n",
    "df = pd.DataFrame.from_dict(data_json)\n",
    "df.head()"
   ]
  },
  {
   "cell_type": "markdown",
   "id": "6e1a8acc",
   "metadata": {
    "id": "6e1a8acc",
    "papermill": {
     "duration": 0.069632,
     "end_time": "2021-04-22T02:08:54.398885",
     "exception": false,
     "start_time": "2021-04-22T02:08:54.329253",
     "status": "completed"
    },
    "tags": []
   },
   "source": [
    "Now let us look at the columns in the dataset that are relevant for our task.\n",
    "\n",
    "**core_id** - Unique indentifier for each article\n",
    "\n",
    "**processed_abstract** - This is obtained by applying preprocssing steps like [this](https://spacy.io/usage/processing-pipelines) to the original abstract of the article from the column **original abstract**.\n",
    "\n",
    "**processed_title** - Same as the abstract but for the title of the article.\n",
    "\n",
    "**cat** - Every article falls into one of the three possible categories: 'exact_dup','near_dup','non_dup'\n",
    "\n",
    "**labelled_duplicates** - A list of core_ids of articles that are duplicates of current article\n",
    "\n",
    "\n"
   ]
  },
  {
   "cell_type": "markdown",
   "id": "92eb9871",
   "metadata": {
    "id": "92eb9871",
    "papermill": {
     "duration": 0.055556,
     "end_time": "2021-04-22T02:08:54.513132",
     "exception": false,
     "start_time": "2021-04-22T02:08:54.457576",
     "status": "completed"
    },
    "tags": []
   },
   "source": [
    "Let's calculate the frequency of duplicates per article. Observe that half of the articles have no duplicates, and only a small fraction of the articles have more than ten duplicates."
   ]
  },
  {
   "cell_type": "code",
   "execution_count": 11,
   "id": "2262a535",
   "metadata": {
    "colab": {
     "base_uri": "https://localhost:8080/"
    },
    "execution": {
     "iopub.execute_input": "2021-04-22T02:08:54.643047Z",
     "iopub.status.busy": "2021-04-22T02:08:54.642167Z",
     "iopub.status.idle": "2021-04-22T02:08:54.677660Z",
     "shell.execute_reply": "2021-04-22T02:08:54.676968Z"
    },
    "id": "2262a535",
    "outputId": "0c6bd27b-7cb4-4af4-be6a-28ec2b176e2a",
    "papermill": {
     "duration": 0.101526,
     "end_time": "2021-04-22T02:08:54.677891",
     "exception": false,
     "start_time": "2021-04-22T02:08:54.576365",
     "status": "completed"
    },
    "tags": []
   },
   "outputs": [
    {
     "data": {
      "text/plain": [
       "0     50000\n",
       "1     36166\n",
       "2      7620\n",
       "3      3108\n",
       "4      1370\n",
       "5       756\n",
       "6       441\n",
       "7       216\n",
       "8       108\n",
       "10       66\n",
       "9        60\n",
       "11       48\n",
       "13       28\n",
       "12       13\n",
       "Name: labelled_duplicates, dtype: int64"
      ]
     },
     "execution_count": 11,
     "metadata": {},
     "output_type": "execute_result"
    }
   ],
   "source": [
    "lens = df.labelled_duplicates.apply(len)\n",
    "lens.value_counts()"
   ]
  },
  {
   "cell_type": "markdown",
   "id": "fe615876",
   "metadata": {
    "id": "fe615876",
    "papermill": {
     "duration": 0.048605,
     "end_time": "2021-04-22T02:08:54.777369",
     "exception": false,
     "start_time": "2021-04-22T02:08:54.728764",
     "status": "completed"
    },
    "tags": []
   },
   "source": [
    "We will make use of the text data to create vectors for every article. We combine the **processed_abstract** and **processed_title** of the article to create a new **combined_text** column. "
   ]
  },
  {
   "cell_type": "code",
   "execution_count": 12,
   "id": "040eaa39",
   "metadata": {
    "execution": {
     "iopub.execute_input": "2021-04-22T02:08:54.884383Z",
     "iopub.status.busy": "2021-04-22T02:08:54.883389Z",
     "iopub.status.idle": "2021-04-22T02:08:57.227381Z",
     "shell.execute_reply": "2021-04-22T02:08:57.226008Z"
    },
    "id": "040eaa39",
    "papermill": {
     "duration": 2.404613,
     "end_time": "2021-04-22T02:08:57.227625",
     "exception": false,
     "start_time": "2021-04-22T02:08:54.823012",
     "status": "completed"
    },
    "tags": []
   },
   "outputs": [],
   "source": [
    "# Define a new column for calculating embeddings\n",
    "df[\"combined_text\"] = df.apply(\n",
    "    lambda x: str(x.processed_title) + \" \" + str(x.processed_abstract), axis=1\n",
    ")"
   ]
  },
  {
   "cell_type": "markdown",
   "id": "2b39da8f",
   "metadata": {
    "id": "2b39da8f",
    "papermill": {
     "duration": 0.05703,
     "end_time": "2021-04-22T02:08:57.347510",
     "exception": false,
     "start_time": "2021-04-22T02:08:57.290480",
     "status": "completed"
    },
    "tags": []
   },
   "source": [
    "**Load model**"
   ]
  },
  {
   "cell_type": "markdown",
   "id": "e3f5f737",
   "metadata": {
    "id": "e3f5f737",
    "papermill": {
     "duration": 0.046633,
     "end_time": "2021-04-22T02:08:57.442378",
     "exception": false,
     "start_time": "2021-04-22T02:08:57.395745",
     "status": "completed"
    },
    "tags": []
   },
   "source": [
    "We will use the [Average Word Embedding GloVe](https://nlp.stanford.edu/projects/glove/) model to transform text into vector embeddings. We then upload the embeddings into the Pinecone vector index."
   ]
  },
  {
   "cell_type": "code",
   "execution_count": null,
   "id": "bfae598d",
   "metadata": {
    "execution": {
     "iopub.execute_input": "2021-04-22T02:08:57.543587Z",
     "iopub.status.busy": "2021-04-22T02:08:57.542855Z",
     "iopub.status.idle": "2021-04-22T02:10:48.016350Z",
     "shell.execute_reply": "2021-04-22T02:10:48.017112Z"
    },
    "id": "bfae598d",
    "papermill": {
     "duration": 110.529503,
     "end_time": "2021-04-22T02:10:48.017756",
     "exception": false,
     "start_time": "2021-04-22T02:08:57.488253",
     "status": "completed"
    },
    "tags": []
   },
   "outputs": [],
   "source": [
    "model = SentenceTransformer(\"average_word_embeddings_glove.6B.300d\")"
   ]
  },
  {
   "cell_type": "code",
   "execution_count": 14,
   "id": "296b5960",
   "metadata": {
    "colab": {
     "base_uri": "https://localhost:8080/",
     "height": 49,
     "referenced_widgets": [
      "bc79e44bcec44bc7be8d96866d9c1f6e",
      "44c2b94643ff4d9fbf0193f46b5b9890",
      "6a049b1f64fd414ab8528a1c8869fc70",
      "f4ed3e3d12bb4589b385fe70afff4231",
      "062c4458f61a48ca9dc16324d8910216",
      "852454f56d6148bbbb448726704d9dac",
      "a130928706eb406f943d0959b71e21ae",
      "7adbf15fafed4499ae708b0606dd9f68",
      "0f3eb7ef242d43f2a8aa00f8d849acc2",
      "d41c85f98d07435f90a269b57aef7263",
      "dc5b512817d448bfb9e708c8a5beeca7"
     ]
    },
    "execution": {
     "iopub.execute_input": "2021-04-22T02:10:48.281536Z",
     "iopub.status.busy": "2021-04-22T02:10:48.276023Z",
     "iopub.status.idle": "2021-04-22T02:11:13.225189Z",
     "shell.execute_reply": "2021-04-22T02:11:13.222161Z"
    },
    "id": "296b5960",
    "outputId": "6310fe85-ced5-40c4-ad2d-e0c75347398c",
    "papermill": {
     "duration": 25.047946,
     "end_time": "2021-04-22T02:11:13.225984",
     "exception": false,
     "start_time": "2021-04-22T02:10:48.178038",
     "status": "completed"
    },
    "tags": []
   },
   "outputs": [
    {
     "data": {
      "application/vnd.jupyter.widget-view+json": {
       "model_id": "bc79e44bcec44bc7be8d96866d9c1f6e",
       "version_major": 2,
       "version_minor": 0
      },
      "text/plain": [
       "Batches:   0%|          | 0/3125 [00:00<?, ?it/s]"
      ]
     },
     "metadata": {},
     "output_type": "display_data"
    }
   ],
   "source": [
    "df[\"vectors\"] = list(model.encode(df.combined_text.to_list(), show_progress_bar=True).tolist())"
   ]
  },
  {
   "cell_type": "markdown",
   "id": "53d9cb5c",
   "metadata": {
    "id": "53d9cb5c"
   },
   "source": [
    "**Index the Vectors**"
   ]
  },
  {
   "cell_type": "code",
   "execution_count": 15,
   "id": "193adb07",
   "metadata": {
    "id": "193adb07"
   },
   "outputs": [],
   "source": [
    "import itertools\n",
    "\n",
    "def upsert_chunks(iterable, batch_size):\n",
    "    it = iter(iterable)\n",
    "    chunk = tuple(itertools.islice(it, batch_size))\n",
    "    while chunk:\n",
    "        yield chunk\n",
    "        chunk = tuple(itertools.islice(it, batch_size))"
   ]
  },
  {
   "cell_type": "code",
   "execution_count": 16,
   "id": "287b306e",
   "metadata": {
    "id": "287b306e"
   },
   "outputs": [],
   "source": [
    "for batch in upsert_chunks(zip(df.core_id.astype(str), df.vectors), 500):\n",
    "    index.upsert(vectors=batch)"
   ]
  },
  {
   "cell_type": "code",
   "execution_count": 17,
   "id": "493efe02",
   "metadata": {
    "colab": {
     "base_uri": "https://localhost:8080/"
    },
    "execution": {
     "iopub.execute_input": "2021-04-22T02:12:47.296348Z",
     "iopub.status.busy": "2021-04-22T02:12:47.295497Z",
     "iopub.status.idle": "2021-04-22T02:12:47.410303Z",
     "shell.execute_reply": "2021-04-22T02:12:47.411487Z"
    },
    "id": "493efe02",
    "outputId": "e1349f0e-6995-4c5a-d8bb-d8a5a60db4de",
    "papermill": {
     "duration": 0.179983,
     "end_time": "2021-04-22T02:12:47.412093",
     "exception": false,
     "start_time": "2021-04-22T02:12:47.232110",
     "status": "completed"
    },
    "tags": []
   },
   "outputs": [
    {
     "data": {
      "text/plain": [
       "{'dimension': 300, 'namespaces': {'': {'vector_count': 100000}}}"
      ]
     },
     "execution_count": 17,
     "metadata": {},
     "output_type": "execute_result"
    }
   ],
   "source": [
    "index.describe_index_stats()"
   ]
  },
  {
   "cell_type": "markdown",
   "id": "065632df",
   "metadata": {
    "id": "065632df",
    "papermill": {
     "duration": 0.052509,
     "end_time": "2021-04-22T02:12:47.521808",
     "exception": false,
     "start_time": "2021-04-22T02:12:47.469299",
     "status": "completed"
    },
    "tags": []
   },
   "source": [
    "## Searching for candidates\n",
    "\n",
    "Now that we have created vectors for the articles and inserted them in the index, we will create a test set for querying. For each article in the test set we will query the index to get the most similar articles, they are the candidates on which we will performs the next classification step.\n",
    "\n",
    "Below, we list statistics of the number of duplicates per article in the resulting test set."
   ]
  },
  {
   "cell_type": "code",
   "execution_count": 18,
   "id": "1cc9e04c",
   "metadata": {
    "colab": {
     "base_uri": "https://localhost:8080/"
    },
    "execution": {
     "iopub.execute_input": "2021-04-22T02:12:47.643100Z",
     "iopub.status.busy": "2021-04-22T02:12:47.642392Z",
     "iopub.status.idle": "2021-04-22T02:12:48.113519Z",
     "shell.execute_reply": "2021-04-22T02:12:48.113022Z"
    },
    "id": "1cc9e04c",
    "outputId": "996ead4a-88bd-450b-a965-d064d5c076b6",
    "papermill": {
     "duration": 0.542214,
     "end_time": "2021-04-22T02:12:48.113744",
     "exception": false,
     "start_time": "2021-04-22T02:12:47.571530",
     "status": "completed"
    },
    "tags": []
   },
   "outputs": [
    {
     "name": "stdout",
     "output_type": "stream",
     "text": [
      "Number of documents with specified number of duplicates:\n"
     ]
    },
    {
     "data": {
      "text/plain": [
       "0     100\n",
       "1      73\n",
       "2      16\n",
       "3       7\n",
       "4       3\n",
       "5       2\n",
       "6       1\n",
       "7       1\n",
       "8       1\n",
       "9       1\n",
       "10      1\n",
       "11      1\n",
       "12      1\n",
       "13      1\n",
       "Name: labelled_duplicates, dtype: int64"
      ]
     },
     "execution_count": 18,
     "metadata": {},
     "output_type": "execute_result"
    }
   ],
   "source": [
    "# Create a sample from the dataset\n",
    "SAMPLE_FRACTION = 0.002\n",
    "test_documents = (\n",
    "    df.groupby(df[\"labelled_duplicates\"].map(len))\n",
    "    .apply(lambda x: x.head(math.ceil(len(x) * SAMPLE_FRACTION)))\n",
    "    .reset_index(drop=True)\n",
    ")\n",
    "\n",
    "print(\"Number of documents with specified number of duplicates:\")\n",
    "lens = test_documents.labelled_duplicates.apply(len)\n",
    "lens.value_counts()"
   ]
  },
  {
   "cell_type": "code",
   "execution_count": 19,
   "id": "e7845a8f",
   "metadata": {
    "execution": {
     "iopub.execute_input": "2021-04-22T02:12:48.226237Z",
     "iopub.status.busy": "2021-04-22T02:12:48.225063Z",
     "iopub.status.idle": "2021-04-22T02:12:49.951208Z",
     "shell.execute_reply": "2021-04-22T02:12:49.950573Z"
    },
    "id": "e7845a8f",
    "papermill": {
     "duration": 1.784915,
     "end_time": "2021-04-22T02:12:49.951451",
     "exception": false,
     "start_time": "2021-04-22T02:12:48.166536",
     "status": "completed"
    },
    "tags": []
   },
   "outputs": [],
   "source": [
    "# Use the model to create embeddings for test articles, which will be the query vectors\n",
    "queries = model.encode(test_documents.combined_text.to_list()).tolist()"
   ]
  },
  {
   "cell_type": "code",
   "execution_count": 20,
   "id": "83203179",
   "metadata": {
    "execution": {
     "iopub.execute_input": "2021-04-22T02:12:50.092180Z",
     "iopub.status.busy": "2021-04-22T02:12:50.091460Z",
     "iopub.status.idle": "2021-04-22T02:12:52.620395Z",
     "shell.execute_reply": "2021-04-22T02:12:52.619713Z"
    },
    "id": "83203179",
    "papermill": {
     "duration": 2.611295,
     "end_time": "2021-04-22T02:12:52.620658",
     "exception": false,
     "start_time": "2021-04-22T02:12:50.009363",
     "status": "completed"
    },
    "tags": []
   },
   "outputs": [],
   "source": [
    "# Query the vector index\n",
    "\n",
    "def query_chunks(lst, n):\n",
    "    for i in range(0, len(lst), n):\n",
    "        yield lst[i:i + n]\n",
    "\n",
    "query_results = []\n",
    "\n",
    "for chunk in query_chunks(queries, 50):\n",
    "    query_res = index.query(queries=chunk, top_k=100)\n",
    "    query_results.extend(query_res.results)"
   ]
  },
  {
   "cell_type": "code",
   "execution_count": 21,
   "id": "f07953c6",
   "metadata": {
    "colab": {
     "base_uri": "https://localhost:8080/"
    },
    "execution": {
     "iopub.execute_input": "2021-04-22T02:12:52.740141Z",
     "iopub.status.busy": "2021-04-22T02:12:52.739146Z",
     "iopub.status.idle": "2021-04-22T02:13:01.458234Z",
     "shell.execute_reply": "2021-04-22T02:13:01.457566Z"
    },
    "id": "f07953c6",
    "outputId": "bf7646bc-213b-4328-8657-6e60be8d8aa0",
    "papermill": {
     "duration": 8.784046,
     "end_time": "2021-04-22T02:13:01.458467",
     "exception": false,
     "start_time": "2021-04-22T02:12:52.674421",
     "status": "completed"
    },
    "tags": []
   },
   "outputs": [
    {
     "name": "stderr",
     "output_type": "stream",
     "text": [
      "100%|██████████| 209/209 [00:01<00:00, 134.27it/s]\n"
     ]
    }
   ],
   "source": [
    "# Save all retrieval recalls into a list\n",
    "recalls = []\n",
    "\n",
    "for id, res in tqdm(list(zip(test_documents.core_id.values, query_results))):\n",
    "\n",
    "    # Find document with id in labelled dataset\n",
    "    labeled_df = df[df.core_id == str(id)]\n",
    "\n",
    "    # Calculate the retrieval recall\n",
    "    top_k_list = set([match.id for match in res.matches])\n",
    "    labelled_duplicates = set(labeled_df.labelled_duplicates.values[0])\n",
    "    intersection = top_k_list.intersection(labelled_duplicates)\n",
    "    if len(labelled_duplicates) != 0:\n",
    "        recalls.append(len(intersection) / len(labelled_duplicates))"
   ]
  },
  {
   "cell_type": "code",
   "execution_count": 22,
   "id": "e96d8971",
   "metadata": {
    "colab": {
     "base_uri": "https://localhost:8080/"
    },
    "id": "e96d8971",
    "outputId": "f9f2f502-85f8-4330-c055-2177b663dd92"
   },
   "outputs": [
    {
     "name": "stdout",
     "output_type": "stream",
     "text": [
      "Mean for the retrieval recall is 0.9702529886016125\n",
      "Standard Deviation is  0.16219287104729735\n"
     ]
    }
   ],
   "source": [
    "print(\"Mean for the retrieval recall is \" + str(statistics.mean(recalls)))\n",
    "print(\"Standard Deviation is  \" + str(statistics.stdev(recalls)))"
   ]
  },
  {
   "cell_type": "markdown",
   "id": "53ab548f",
   "metadata": {
    "id": "53ab548f",
    "papermill": {
     "duration": 0.09082,
     "end_time": "2021-04-22T02:13:01.816697",
     "exception": false,
     "start_time": "2021-04-22T02:13:01.725877",
     "status": "completed"
    },
    "tags": []
   },
   "source": [
    "### Running the Classifier \n",
    "\n",
    "We mentioned earlier in the article that we will perform two steps for deduplication, searching to produce candidates and performing classifciation on them.\n",
    "\n",
    "We will use Deduplication Classifier based on [LSH](https://en.wikipedia.org/wiki/Locality-sensitive_hashing) for detecting duplicates on the results from the previous step. We will run this on a sample of query results we got in the previous step. Feel free to try out the results on the entire set of query results."
   ]
  },
  {
   "cell_type": "code",
   "execution_count": 23,
   "id": "dc1598e5",
   "metadata": {
    "colab": {
     "base_uri": "https://localhost:8080/"
    },
    "execution": {
     "iopub.execute_input": "2021-04-22T02:13:02.050446Z",
     "iopub.status.busy": "2021-04-22T02:13:02.044348Z",
     "iopub.status.idle": "2021-04-22T02:14:32.677471Z",
     "shell.execute_reply": "2021-04-22T02:14:32.676470Z"
    },
    "id": "dc1598e5",
    "outputId": "f70a75e6-82b8-46a1-f9a5-4a09699e958c",
    "papermill": {
     "duration": 90.772565,
     "end_time": "2021-04-22T02:14:32.677767",
     "exception": false,
     "start_time": "2021-04-22T02:13:01.905202",
     "status": "completed"
    },
    "scrolled": true,
    "tags": []
   },
   "outputs": [
    {
     "name": "stdout",
     "output_type": "stream",
     "text": [
      "         id                                           document     score\n",
      "0  15080768  analyse centred methodology. discretisation so...  1.000000\n",
      "1  52682462  audiencethe tissues pulses modelled compartmen...  0.787797\n",
      "2  52900859  audiencethe tissues pulses modelled compartmen...  0.787797\n",
      "3   2553555  multilayered illuminated acoustic electromagne...  0.781398\n",
      "4  48261378  heterostructure schr dinger poisson numericall...  0.778777\n",
      "15080768: expected: [], predicted: [], prediction: Correct\n",
      "          id                                           document     score\n",
      "0   55110306  latrepirdine orally administered molecule init...  1.000000\n",
      "1  188404434  cysteamine potentially numerous huntington dis...  0.903964\n",
      "2   81634102  deutetrabenazine molecule deuterium attenuates...  0.880078\n",
      "3   42021224  comorbidities. safe drugs available. efficacy ...  0.857741\n",
      "4   78271101  promising prevent onset ultrahigh psychosis di...  0.849158\n",
      "55110306: expected: [], predicted: [], prediction: Correct\n",
      "         id                                           document     score\n",
      "0  10914205  read objectives schoolchildren sunscreen morni...  1.000000\n",
      "1  77409456  overeating harmful alcohol tobacco aetiology c...  0.669037\n",
      "2  10896024  sunlight cutaneous vitamin production. highlig...  0.633516\n",
      "3  15070865  drink heavily nonstudent peers unaware drinkin...  0.633497\n",
      "4  52131855  dette siste tekst versjon artikkelen inneholde...  0.627933\n",
      "10914205: expected: [], predicted: [], prediction: Correct\n",
      "         id                                           document     score\n",
      "0  43096919  publishedcomparative studymulticenter tcontext...  1.000000\n",
      "1  77165332  cerebral amyloid aggregation pathological alzh...  0.871247\n",
      "2  70343569  neurodegenerative heterogeneous disorders prog...  0.867806\n",
      "3  18448676  beta amyloid beta deposition hallmarks alzheim...  0.855655\n",
      "4  46964510  alzheimer unexplained. sought loci detect robu...  0.855136\n",
      "43096919: expected: [], predicted: [], prediction: Correct\n",
      "         id                                           document     score\n",
      "0  12203626  hypernatremia recipients homografts postoperat...  1.000000\n",
      "1  82542813  abstractobjectivesto intravenous maintenance f...  0.800283\n",
      "2  81206306  uromodulin tamm–horsfall abundant excreted uri...  0.794892\n",
      "3  36026525  drinking sodium bicarbonated mineral cardiovas...  0.793453\n",
      "4  83567081  drinking sodium bicarbonated mineral cardiovas...  0.793253\n",
      "12203626: expected: [], predicted: [], prediction: Correct\n",
      "          id                                           document     score\n",
      "0   15070865  drink heavily nonstudent peers unaware drinkin...  1.000000\n",
      "1  154671698  updated alcohol suicidal level. searches retri...  0.889408\n",
      "2   52132897  updated alcohol suicidal level. searches retri...  0.889408\n",
      "3   43606482  fulltext .pdf publisher effectiveness drinking...  0.883402\n",
      "4   82484980  abstractthe effectiveness drinking motive tail...  0.883145\n",
      "15070865: expected: [], predicted: [], prediction: Correct\n",
      "          id                                           document     score\n",
      "0   80341690  potentially inappropriate medicines pims older...  1.000000\n",
      "1   39320843  elderly receive medications adverse effects. e...  0.807533\n",
      "2   82162292  abstractbackgroundrisk assessments widely pred...  0.780007\n",
      "3   77027179  assessments widely predict opioid disorder unc...  0.779405\n",
      "4  153514317  yesbackground challenging person dementia. beh...  0.757255\n",
      "80341690: expected: [], predicted: [], prediction: Correct\n",
      "         id                                           document     score\n",
      "0   9066821  commotio retinae opacification retina blunt oc...  1.000000\n",
      "1  78051578  neovascular macular degeneration anti–vascular...  0.731147\n",
      "2  86422032  automated lesions challenging diagnostic lesio...  0.703925\n",
      "3  52434306  audiencewe propose voxelwise images. relies ge...  0.699708\n",
      "4  48174418  audiencewe propose voxelwise images. relies ge...  0.699708\n",
      "9066821: expected: [], predicted: [], prediction: Correct\n",
      "          id                                           document     score\n",
      "0   15052827  indirect schizophrenia australia incidence cos...  1.000000\n",
      "1  154860392  illness schizophrenia bipolar disorder depress...  0.795662\n",
      "2   51964867  audiencebackground cholesterol lowering jupite...  0.791903\n",
      "3   75913230  thesis characterize burden cardiovascular deme...  0.775635\n",
      "4  154672015  aims depression anxiety myocardial infarction ...  0.765936\n",
      "15052827: expected: [], predicted: [], prediction: Correct\n",
      "         id                                           document     score\n",
      "0  12203661  glomerulonephritis serious hemoptysis. antiglo...  1.000000\n",
      "1  12204810  twenty alagille syndrome underwent transplanta...  0.811871\n",
      "2  52460385  audiencepatients autoimmune polyendocrine synd...  0.810456\n",
      "3  47112592  audiencepatients autoimmune polyendocrine synd...  0.810456\n",
      "4  52198725  audiencepatients autoimmune polyendocrine synd...  0.810456\n",
      "12203661: expected: [], predicted: [], prediction: Correct\n",
      "         id                                           document     score\n",
      "0  82332306  unobstructed vision refractive lens differenti...  1.000000\n",
      "1  11251086  unobstructed vision refractive lens differenti...  1.000000\n",
      "2  59036307  aims osmotic oxidative progression advancement...  0.839048\n",
      "3  61371524  aims osmotic oxidative progression advancement...  0.839048\n",
      "4  11249430  dysfunction cilia nearly ubiquitously solitary...  0.796623\n",
      "11251086: expected: ['82332306'], predicted: ['82332306'], prediction: Correct\n",
      "          id                                           document     score\n",
      "0  148662402  presents vision successfully discriminates wee...  1.000000\n",
      "1   12001088  presents vision successfully discriminates wee...  1.000000\n",
      "2   18424329  proposes oriented crop maize weed pressure. vi...  0.904243\n",
      "3  148666025  proposes oriented crop maize weed pressure. vi...  0.904243\n",
      "4   18424394  proposes oriented identifying crop rows maize ...  0.861464\n",
      "12001088: expected: ['148662402'], predicted: ['148662402'], prediction: Correct\n",
      "          id                                           document     score\n",
      "0   11307919  reflectance exciton–polariton film polycrystal...  1.000000\n",
      "1  147595688  reflectance exciton–polariton film polycrystal...  1.000000\n",
      "2   11307922  photoluminescence reflectance oriented polycry...  0.816958\n",
      "3  147595695  photoluminescence reflectance oriented polycry...  0.816958\n",
      "4   33106913  macroscopic dielectric polycrystalline commonl...  0.804686\n",
      "147595688: expected: ['11307919'], predicted: ['11307919'], prediction: Correct\n",
      "          id                                           document     score\n",
      "0   12002296  thanks inherent probabilistic graphical prime ...  1.000000\n",
      "1  148663921  thanks inherent probabilistic graphical prime ...  1.000000\n",
      "2   52294731  audienceobject oriented brms platform automati...  0.869992\n",
      "3   52634130  audienceobject oriented brms platform automati...  0.869992\n",
      "4   34403460  acceptance artificial intelligence aims learn ...  0.865814\n",
      "148663921: expected: ['12002296'], predicted: ['12002296'], prediction: Correct\n",
      "          id                                           document     score\n",
      "0  151641478  stabilised soems unstable aircraft presented. ...  1.000000\n",
      "1   11874260  stabilised soems unstable aircraft presented. ...  1.000000\n",
      "2   29528077  projection snapshot balanced truncation unstab...  0.724496\n",
      "3   77005252  projection snapshot balanced truncation unstab...  0.724496\n",
      "4   20051722  ideas robust computationally amenable industri...  0.722027\n",
      "151641478: expected: ['11874260'], predicted: ['11874260'], prediction: Correct\n",
      "          id                                           document     score\n",
      "0  158351487  installed rapidly decade deployments deeper wa...  1.000000\n",
      "1  188365084  installed rapidly decade deployments deeper wa...  1.000000\n",
      "2   83926778  offshore turbine reliability biggest paper. un...  0.853790\n",
      "3  158370190  offshore turbine reliability biggest paper. un...  0.853790\n",
      "4   74226591  investigates overruns underruns occurring onsh...  0.834363\n",
      "188365084: expected: ['158351487'], predicted: ['158351487'], prediction: Correct\n",
      "         id                                           document     score\n",
      "0   2097371  propose vulnerability network. analogy balls l...  1.000000\n",
      "1   9030380  propose vulnerability network. analogy balls l...  1.000000\n",
      "2  49270269  audiencethis introduces validates sensor propa...  0.754055\n",
      "3  43094896  peer reviewed brownjohn displacement sensor co...  0.745553\n",
      "4  49271868  audiencea predictive giving displacement digit...  0.734554\n",
      "2097371: expected: ['9030380'], predicted: ['9030380'], prediction: Correct\n",
      "          id                                           document     score\n",
      "0  148674298  race segments swimmers. analysed finals sessio...  1.000000\n",
      "1   33176265  race segments swimmers. analysed finals sessio...  1.000000\n",
      "2   33176267  swimming race parameters. hundred fifty eight ...  0.886608\n",
      "3  148674300  swimming race parameters. hundred fifty eight ...  0.886608\n",
      "4  143900637  swimmers swimmers coaches trainers. video sens...  0.736030\n",
      "33176265: expected: ['148674298'], predicted: ['148674298'], prediction: Correct\n",
      "         id                                           document     score\n",
      "0  52308905  audiencehere geochemical lopevi volcano volcan...  1.000000\n",
      "1  52844591  audiencehere geochemical lopevi volcano volcan...  1.000000\n",
      "2  52722823  audiencehere geochemical lopevi volcano volcan...  1.000000\n",
      "3  52840980  audiencethe volcanism cameroon volcanic mantle...  0.893717\n",
      "4  52717537  audiencethe volcanism cameroon volcanic mantle...  0.893717\n",
      "52308905: expected: ['52722823', '52844591'], predicted: ['52722823', '52844591'], prediction: Correct\n",
      "         id                                           document     score\n",
      "0   2531039  lagrangian formalism supermembrane supergravit...  1.000000\n",
      "1  35093363  lagrangian formalism supermembrane supergravit...  1.000000\n",
      "2  35078501  lagrangian formalism supermembrane supergravit...  1.000000\n",
      "3  44119402  lagrangian formalism supermembrane supergravit...  1.000000\n",
      "4  35089833  supergravity correlators worldsheet analogous ...  0.847565\n",
      "44119402: expected: ['2531039', '35078501', '35093363'], predicted: ['35093363', '2531039', '35078501'], prediction: Correct\n",
      "          id                                           document  score\n",
      "0   52456923  microlensing surveys tens millions stars. unpr...    1.0\n",
      "1   52695218  microlensing surveys tens millions stars. unpr...    1.0\n",
      "2  152091185  microlensing surveys tens millions stars. unpr...    1.0\n",
      "3   46770666  microlensing surveys tens millions stars. unpr...    1.0\n",
      "4   47110549  microlensing surveys tens millions stars. unpr...    1.0\n",
      "47110549: expected: ['46770666', '52456923', '152091185', '52695218', '52739626'], predicted: ['52739626', '46770666', '52695218', '152091185', '52456923'], prediction: Correct\n"
     ]
    }
   ],
   "source": [
    "# Counters for correct/false predictions\n",
    "all_predictions = {\"Correct\": 0, \"False\": 0}\n",
    "predictions_per_category = {}\n",
    "\n",
    "# From the results in the previous step, we will take a subset to test our classifier\n",
    "query_sample = query_results[::10]\n",
    "ids_sample = test_documents.core_id.to_list()[::10]\n",
    "\n",
    "for id, res in zip(ids_sample, query_sample):\n",
    "    \n",
    "    # Find document with id from the labelled dataset\n",
    "    labeled_df = df[df.core_id == str(id)]\n",
    "\n",
    "    \"\"\"\n",
    "    For every article in the reuslt set, we store the scores and abstract of the articles most similar \n",
    "    to it, according to search in the previous step.\n",
    "    \"\"\"\n",
    "\n",
    "    df_result = pd.DataFrame(\n",
    "        {\n",
    "            \"id\": [match.id for match in res.matches],\n",
    "            \"document\": [\n",
    "                df[df.core_id == _id].processed_abstract.values[0] for _id in  [match.id for match in res.matches]\n",
    "            ],\n",
    "            \"score\": [match.score for match in res.matches],\n",
    "        }\n",
    "    )\n",
    "\n",
    "    print(df_result.head())\n",
    "\n",
    "    # We need content and labels for our classifier which we can get from the df_results\n",
    "    content = df_result.document.values\n",
    "    labels = list(df_result.id.values)\n",
    "    \n",
    "    # Create MinHash for each of the documents in result set\n",
    "    min_hashes = {}\n",
    "    for label, text in zip(labels, content):\n",
    "        m = MinHash(num_perm=128, seed=5)\n",
    "        tokens = set(tokenize(text))\n",
    "        for d in tokens:\n",
    "            m.update(d.encode('utf8'))\n",
    "        min_hashes[label] = m\n",
    "    \n",
    "    # Create LSH index\n",
    "    lsh = MinHashLSH(threshold=0.7, num_perm=128, )\n",
    "    for i, j in min_hashes.items():\n",
    "        lsh.insert(str(i), j)\n",
    "    \n",
    "    query_minhash = min_hashes[id]\n",
    "    duplicates = lsh.query(query_minhash)\n",
    "    duplicates.remove(str(id))\n",
    "    \n",
    "    # Check whether prediction matches labeled duplicates. Here the groud truth is the set of duplicates from our original set\n",
    "    prediction = (\n",
    "        \"Correct\"\n",
    "        if set(labeled_df.labelled_duplicates.values[0]) == set(duplicates)\n",
    "        else \"False\"\n",
    "    )\n",
    "    \n",
    "    # Add to all predictions\n",
    "    all_predictions[prediction] += 1\n",
    "    \n",
    "    # Create and/or add to the specific category based on number of duplicates in original dataset\n",
    "    num_of_duplicates = len(labeled_df.labelled_duplicates.values[0])\n",
    "    if num_of_duplicates not in predictions_per_category:\n",
    "        predictions_per_category[num_of_duplicates] = [0, 0]\n",
    "\n",
    "    if prediction == \"Correct\":\n",
    "        predictions_per_category[num_of_duplicates][0] += 1\n",
    "    else:\n",
    "        predictions_per_category[num_of_duplicates][1] += 1\n",
    "\n",
    "    # Print the results for a document\n",
    "    print(\n",
    "        \"{}: expected: {}, predicted: {}, prediction: {}\".format(\n",
    "            id, labeled_df.labelled_duplicates.values[0], duplicates, prediction\n",
    "        )\n",
    "    )"
   ]
  },
  {
   "cell_type": "code",
   "execution_count": 24,
   "id": "d766dd65",
   "metadata": {
    "colab": {
     "base_uri": "https://localhost:8080/"
    },
    "execution": {
     "iopub.execute_input": "2021-04-22T02:14:32.857251Z",
     "iopub.status.busy": "2021-04-22T02:14:32.856288Z",
     "iopub.status.idle": "2021-04-22T02:14:32.861750Z",
     "shell.execute_reply": "2021-04-22T02:14:32.861256Z"
    },
    "id": "d766dd65",
    "outputId": "ee2c3294-9fc9-4a50-c55a-c725cacb17ab",
    "papermill": {
     "duration": 0.096165,
     "end_time": "2021-04-22T02:14:32.862012",
     "exception": false,
     "start_time": "2021-04-22T02:14:32.765847",
     "status": "completed"
    },
    "tags": []
   },
   "outputs": [
    {
     "data": {
      "text/plain": [
       "{'Correct': 21, 'False': 0}"
      ]
     },
     "execution_count": 24,
     "metadata": {},
     "output_type": "execute_result"
    }
   ],
   "source": [
    "all_predictions"
   ]
  },
  {
   "cell_type": "code",
   "execution_count": 25,
   "id": "3409a3ea",
   "metadata": {
    "colab": {
     "base_uri": "https://localhost:8080/"
    },
    "execution": {
     "iopub.execute_input": "2021-04-22T02:14:33.055276Z",
     "iopub.status.busy": "2021-04-22T02:14:33.054518Z",
     "iopub.status.idle": "2021-04-22T02:14:33.058735Z",
     "shell.execute_reply": "2021-04-22T02:14:33.059277Z"
    },
    "id": "3409a3ea",
    "outputId": "d4b72020-cc12-416e-e9f1-51ead9366d2d",
    "papermill": {
     "duration": 0.104606,
     "end_time": "2021-04-22T02:14:33.059554",
     "exception": false,
     "start_time": "2021-04-22T02:14:32.954948",
     "status": "completed"
    },
    "tags": []
   },
   "outputs": [
    {
     "data": {
      "text/plain": [
       "1.0"
      ]
     },
     "execution_count": 25,
     "metadata": {},
     "output_type": "execute_result"
    }
   ],
   "source": [
    "# Overall accuracy on a test\n",
    "accuracy = round(\n",
    "    all_predictions[\"Correct\"]\n",
    "    / (all_predictions[\"Correct\"] + all_predictions[\"False\"]),\n",
    "    4,\n",
    ")\n",
    "accuracy"
   ]
  },
  {
   "cell_type": "code",
   "execution_count": 26,
   "id": "f8a4409a",
   "metadata": {
    "colab": {
     "base_uri": "https://localhost:8080/",
     "height": 206
    },
    "execution": {
     "iopub.execute_input": "2021-04-22T02:14:33.246635Z",
     "iopub.status.busy": "2021-04-22T02:14:33.245566Z",
     "iopub.status.idle": "2021-04-22T02:14:33.249576Z",
     "shell.execute_reply": "2021-04-22T02:14:33.249984Z"
    },
    "id": "f8a4409a",
    "outputId": "b639d07d-5335-482c-9b5f-3cf955dec2bd",
    "papermill": {
     "duration": 0.103948,
     "end_time": "2021-04-22T02:14:33.250325",
     "exception": false,
     "start_time": "2021-04-22T02:14:33.146377",
     "status": "completed"
    },
    "tags": []
   },
   "outputs": [
    {
     "data": {
      "text/html": [
       "\n",
       "  <div id=\"df-8b58965f-d939-493b-8cf0-21f664529af7\">\n",
       "    <div class=\"colab-df-container\">\n",
       "      <div>\n",
       "<style scoped>\n",
       "    .dataframe tbody tr th:only-of-type {\n",
       "        vertical-align: middle;\n",
       "    }\n",
       "\n",
       "    .dataframe tbody tr th {\n",
       "        vertical-align: top;\n",
       "    }\n",
       "\n",
       "    .dataframe thead th {\n",
       "        text-align: right;\n",
       "    }\n",
       "</style>\n",
       "<table border=\"1\" class=\"dataframe\">\n",
       "  <thead>\n",
       "    <tr style=\"text-align: right;\">\n",
       "      <th></th>\n",
       "      <th>Correct</th>\n",
       "      <th>False</th>\n",
       "    </tr>\n",
       "  </thead>\n",
       "  <tbody>\n",
       "    <tr>\n",
       "      <th>0</th>\n",
       "      <td>10</td>\n",
       "      <td>0</td>\n",
       "    </tr>\n",
       "    <tr>\n",
       "      <th>1</th>\n",
       "      <td>8</td>\n",
       "      <td>0</td>\n",
       "    </tr>\n",
       "    <tr>\n",
       "      <th>2</th>\n",
       "      <td>1</td>\n",
       "      <td>0</td>\n",
       "    </tr>\n",
       "    <tr>\n",
       "      <th>3</th>\n",
       "      <td>1</td>\n",
       "      <td>0</td>\n",
       "    </tr>\n",
       "    <tr>\n",
       "      <th>5</th>\n",
       "      <td>1</td>\n",
       "      <td>0</td>\n",
       "    </tr>\n",
       "  </tbody>\n",
       "</table>\n",
       "</div>\n",
       "      <button class=\"colab-df-convert\" onclick=\"convertToInteractive('df-8b58965f-d939-493b-8cf0-21f664529af7')\"\n",
       "              title=\"Convert this dataframe to an interactive table.\"\n",
       "              style=\"display:none;\">\n",
       "        \n",
       "  <svg xmlns=\"http://www.w3.org/2000/svg\" height=\"24px\"viewBox=\"0 0 24 24\"\n",
       "       width=\"24px\">\n",
       "    <path d=\"M0 0h24v24H0V0z\" fill=\"none\"/>\n",
       "    <path d=\"M18.56 5.44l.94 2.06.94-2.06 2.06-.94-2.06-.94-.94-2.06-.94 2.06-2.06.94zm-11 1L8.5 8.5l.94-2.06 2.06-.94-2.06-.94L8.5 2.5l-.94 2.06-2.06.94zm10 10l.94 2.06.94-2.06 2.06-.94-2.06-.94-.94-2.06-.94 2.06-2.06.94z\"/><path d=\"M17.41 7.96l-1.37-1.37c-.4-.4-.92-.59-1.43-.59-.52 0-1.04.2-1.43.59L10.3 9.45l-7.72 7.72c-.78.78-.78 2.05 0 2.83L4 21.41c.39.39.9.59 1.41.59.51 0 1.02-.2 1.41-.59l7.78-7.78 2.81-2.81c.8-.78.8-2.07 0-2.86zM5.41 20L4 18.59l7.72-7.72 1.47 1.35L5.41 20z\"/>\n",
       "  </svg>\n",
       "      </button>\n",
       "      \n",
       "  <style>\n",
       "    .colab-df-container {\n",
       "      display:flex;\n",
       "      flex-wrap:wrap;\n",
       "      gap: 12px;\n",
       "    }\n",
       "\n",
       "    .colab-df-convert {\n",
       "      background-color: #E8F0FE;\n",
       "      border: none;\n",
       "      border-radius: 50%;\n",
       "      cursor: pointer;\n",
       "      display: none;\n",
       "      fill: #1967D2;\n",
       "      height: 32px;\n",
       "      padding: 0 0 0 0;\n",
       "      width: 32px;\n",
       "    }\n",
       "\n",
       "    .colab-df-convert:hover {\n",
       "      background-color: #E2EBFA;\n",
       "      box-shadow: 0px 1px 2px rgba(60, 64, 67, 0.3), 0px 1px 3px 1px rgba(60, 64, 67, 0.15);\n",
       "      fill: #174EA6;\n",
       "    }\n",
       "\n",
       "    [theme=dark] .colab-df-convert {\n",
       "      background-color: #3B4455;\n",
       "      fill: #D2E3FC;\n",
       "    }\n",
       "\n",
       "    [theme=dark] .colab-df-convert:hover {\n",
       "      background-color: #434B5C;\n",
       "      box-shadow: 0px 1px 3px 1px rgba(0, 0, 0, 0.15);\n",
       "      filter: drop-shadow(0px 1px 2px rgba(0, 0, 0, 0.3));\n",
       "      fill: #FFFFFF;\n",
       "    }\n",
       "  </style>\n",
       "\n",
       "      <script>\n",
       "        const buttonEl =\n",
       "          document.querySelector('#df-8b58965f-d939-493b-8cf0-21f664529af7 button.colab-df-convert');\n",
       "        buttonEl.style.display =\n",
       "          google.colab.kernel.accessAllowed ? 'block' : 'none';\n",
       "\n",
       "        async function convertToInteractive(key) {\n",
       "          const element = document.querySelector('#df-8b58965f-d939-493b-8cf0-21f664529af7');\n",
       "          const dataTable =\n",
       "            await google.colab.kernel.invokeFunction('convertToInteractive',\n",
       "                                                     [key], {});\n",
       "          if (!dataTable) return;\n",
       "\n",
       "          const docLinkHtml = 'Like what you see? Visit the ' +\n",
       "            '<a target=\"_blank\" href=https://colab.research.google.com/notebooks/data_table.ipynb>data table notebook</a>'\n",
       "            + ' to learn more about interactive tables.';\n",
       "          element.innerHTML = '';\n",
       "          dataTable['output_type'] = 'display_data';\n",
       "          await google.colab.output.renderOutput(dataTable, element);\n",
       "          const docLink = document.createElement('div');\n",
       "          docLink.innerHTML = docLinkHtml;\n",
       "          element.appendChild(docLink);\n",
       "        }\n",
       "      </script>\n",
       "    </div>\n",
       "  </div>\n",
       "  "
      ],
      "text/plain": [
       "   Correct  False\n",
       "0       10      0\n",
       "1        8      0\n",
       "2        1      0\n",
       "3        1      0\n",
       "5        1      0"
      ]
     },
     "execution_count": 26,
     "metadata": {},
     "output_type": "execute_result"
    }
   ],
   "source": [
    "# Print the prediction count for each class depending on the number of duplicates in labeled dataset\n",
    "pd.DataFrame.from_dict(\n",
    "    predictions_per_category, orient=\"index\", columns=[\"Correct\", \"False\"]\n",
    ")"
   ]
  },
  {
   "cell_type": "markdown",
   "id": "88377277",
   "metadata": {
    "id": "88377277",
    "papermill": {
     "duration": 0.087503,
     "end_time": "2021-04-22T02:14:33.422505",
     "exception": false,
     "start_time": "2021-04-22T02:14:33.335002",
     "status": "completed"
    },
    "tags": []
   },
   "source": [
    "## Delete the Index\n",
    "Delete the index once you are sure that you do not want to use it anymore. Once the index is deleted, you cannot use it again.\n",
    "\n"
   ]
  },
  {
   "cell_type": "code",
   "execution_count": 27,
   "id": "418a418c",
   "metadata": {
    "execution": {
     "iopub.execute_input": "2021-04-22T02:14:33.605454Z",
     "iopub.status.busy": "2021-04-22T02:14:33.604373Z",
     "iopub.status.idle": "2021-04-22T02:14:46.426401Z",
     "shell.execute_reply": "2021-04-22T02:14:46.427265Z"
    },
    "id": "418a418c",
    "papermill": {
     "duration": 12.913733,
     "end_time": "2021-04-22T02:14:46.427686",
     "exception": false,
     "start_time": "2021-04-22T02:14:33.513953",
     "status": "completed"
    },
    "tags": []
   },
   "outputs": [],
   "source": [
    "# Delete the index if it's not going to be used anymore\n",
    "pinecone.delete_index(index_name)"
   ]
  },
  {
   "cell_type": "markdown",
   "id": "f2280d6e",
   "metadata": {
    "id": "f2280d6e",
    "papermill": {
     "duration": 0.096714,
     "end_time": "2021-04-22T02:14:46.625379",
     "exception": false,
     "start_time": "2021-04-22T02:14:46.528665",
     "status": "completed"
    },
    "tags": []
   },
   "source": [
    "## Summary\n",
    "\n",
    "In this notebook we demonstrate how to perform a deduplication task of over 100,000 articles using Pinecone. With articles embedded as vectors, you can use Pinecone's vector index to find similar articles. For each query article, we then use an LSH classifier on the similar articles to identify duplicate articles. Overall, we show that it is ease to incorporate Pinecone wtih article embedding models and duplication classifiers to build a deduplication service.\n"
   ]
  }
 ],
 "metadata": {
  "accelerator": "GPU",
  "colab": {
   "collapsed_sections": [],
   "name": "deduplication_scholarly_articles.ipynb",
   "provenance": []
  },
  "environment": {
   "name": "tf2-gpu.2-4.m61",
   "type": "gcloud",
   "uri": "gcr.io/deeplearning-platform-release/tf2-gpu.2-4:m61"
  },
  "kernelspec": {
   "display_name": "Python 3 (ipykernel)",
   "language": "python",
   "name": "python3"
  },
  "language_info": {
   "codemirror_mode": {
    "name": "ipython",
    "version": 3
   },
   "file_extension": ".py",
   "mimetype": "text/x-python",
   "name": "python",
   "nbconvert_exporter": "python",
   "pygments_lexer": "ipython3",
   "version": "3.9.7"
  },
  "papermill": {
   "default_parameters": {},
   "duration": 542.747435,
   "end_time": "2021-04-22T02:14:49.477923",
   "environment_variables": {},
   "exception": null,
   "input_path": "/notebooks/deduplication/deduplication_scholarly_articles.ipynb",
   "output_path": "/notebooks/tmp/deduplication/deduplication_scholarly_articles.ipynb",
   "parameters": {},
   "start_time": "2021-04-22T02:05:46.730488",
   "version": "2.3.3"
  },
  "widgets": {
   "application/vnd.jupyter.widget-state+json": {
    "062c4458f61a48ca9dc16324d8910216": {
     "model_module": "@jupyter-widgets/controls",
     "model_module_version": "1.5.0",
     "model_name": "HTMLModel",
     "state": {
      "_dom_classes": [],
      "_model_module": "@jupyter-widgets/controls",
      "_model_module_version": "1.5.0",
      "_model_name": "HTMLModel",
      "_view_count": null,
      "_view_module": "@jupyter-widgets/controls",
      "_view_module_version": "1.5.0",
      "_view_name": "HTMLView",
      "description": "",
      "description_tooltip": null,
      "layout": "IPY_MODEL_dc5b512817d448bfb9e708c8a5beeca7",
      "placeholder": "​",
      "style": "IPY_MODEL_d41c85f98d07435f90a269b57aef7263",
      "value": " 3125/3125 [00:06&lt;00:00, 780.78it/s]"
     }
    },
    "0f3eb7ef242d43f2a8aa00f8d849acc2": {
     "model_module": "@jupyter-widgets/base",
     "model_module_version": "1.2.0",
     "model_name": "LayoutModel",
     "state": {
      "_model_module": "@jupyter-widgets/base",
      "_model_module_version": "1.2.0",
      "_model_name": "LayoutModel",
      "_view_count": null,
      "_view_module": "@jupyter-widgets/base",
      "_view_module_version": "1.2.0",
      "_view_name": "LayoutView",
      "align_content": null,
      "align_items": null,
      "align_self": null,
      "border": null,
      "bottom": null,
      "display": null,
      "flex": null,
      "flex_flow": null,
      "grid_area": null,
      "grid_auto_columns": null,
      "grid_auto_flow": null,
      "grid_auto_rows": null,
      "grid_column": null,
      "grid_gap": null,
      "grid_row": null,
      "grid_template_areas": null,
      "grid_template_columns": null,
      "grid_template_rows": null,
      "height": null,
      "justify_content": null,
      "justify_items": null,
      "left": null,
      "margin": null,
      "max_height": null,
      "max_width": null,
      "min_height": null,
      "min_width": null,
      "object_fit": null,
      "object_position": null,
      "order": null,
      "overflow": null,
      "overflow_x": null,
      "overflow_y": null,
      "padding": null,
      "right": null,
      "top": null,
      "visibility": null,
      "width": null
     }
    },
    "44c2b94643ff4d9fbf0193f46b5b9890": {
     "model_module": "@jupyter-widgets/base",
     "model_module_version": "1.2.0",
     "model_name": "LayoutModel",
     "state": {
      "_model_module": "@jupyter-widgets/base",
      "_model_module_version": "1.2.0",
      "_model_name": "LayoutModel",
      "_view_count": null,
      "_view_module": "@jupyter-widgets/base",
      "_view_module_version": "1.2.0",
      "_view_name": "LayoutView",
      "align_content": null,
      "align_items": null,
      "align_self": null,
      "border": null,
      "bottom": null,
      "display": null,
      "flex": null,
      "flex_flow": null,
      "grid_area": null,
      "grid_auto_columns": null,
      "grid_auto_flow": null,
      "grid_auto_rows": null,
      "grid_column": null,
      "grid_gap": null,
      "grid_row": null,
      "grid_template_areas": null,
      "grid_template_columns": null,
      "grid_template_rows": null,
      "height": null,
      "justify_content": null,
      "justify_items": null,
      "left": null,
      "margin": null,
      "max_height": null,
      "max_width": null,
      "min_height": null,
      "min_width": null,
      "object_fit": null,
      "object_position": null,
      "order": null,
      "overflow": null,
      "overflow_x": null,
      "overflow_y": null,
      "padding": null,
      "right": null,
      "top": null,
      "visibility": null,
      "width": null
     }
    },
    "6a049b1f64fd414ab8528a1c8869fc70": {
     "model_module": "@jupyter-widgets/controls",
     "model_module_version": "1.5.0",
     "model_name": "HTMLModel",
     "state": {
      "_dom_classes": [],
      "_model_module": "@jupyter-widgets/controls",
      "_model_module_version": "1.5.0",
      "_model_name": "HTMLModel",
      "_view_count": null,
      "_view_module": "@jupyter-widgets/controls",
      "_view_module_version": "1.5.0",
      "_view_name": "HTMLView",
      "description": "",
      "description_tooltip": null,
      "layout": "IPY_MODEL_a130928706eb406f943d0959b71e21ae",
      "placeholder": "​",
      "style": "IPY_MODEL_852454f56d6148bbbb448726704d9dac",
      "value": "Batches: 100%"
     }
    },
    "7adbf15fafed4499ae708b0606dd9f68": {
     "model_module": "@jupyter-widgets/controls",
     "model_module_version": "1.5.0",
     "model_name": "ProgressStyleModel",
     "state": {
      "_model_module": "@jupyter-widgets/controls",
      "_model_module_version": "1.5.0",
      "_model_name": "ProgressStyleModel",
      "_view_count": null,
      "_view_module": "@jupyter-widgets/base",
      "_view_module_version": "1.2.0",
      "_view_name": "StyleView",
      "bar_color": null,
      "description_width": ""
     }
    },
    "852454f56d6148bbbb448726704d9dac": {
     "model_module": "@jupyter-widgets/controls",
     "model_module_version": "1.5.0",
     "model_name": "DescriptionStyleModel",
     "state": {
      "_model_module": "@jupyter-widgets/controls",
      "_model_module_version": "1.5.0",
      "_model_name": "DescriptionStyleModel",
      "_view_count": null,
      "_view_module": "@jupyter-widgets/base",
      "_view_module_version": "1.2.0",
      "_view_name": "StyleView",
      "description_width": ""
     }
    },
    "a130928706eb406f943d0959b71e21ae": {
     "model_module": "@jupyter-widgets/base",
     "model_module_version": "1.2.0",
     "model_name": "LayoutModel",
     "state": {
      "_model_module": "@jupyter-widgets/base",
      "_model_module_version": "1.2.0",
      "_model_name": "LayoutModel",
      "_view_count": null,
      "_view_module": "@jupyter-widgets/base",
      "_view_module_version": "1.2.0",
      "_view_name": "LayoutView",
      "align_content": null,
      "align_items": null,
      "align_self": null,
      "border": null,
      "bottom": null,
      "display": null,
      "flex": null,
      "flex_flow": null,
      "grid_area": null,
      "grid_auto_columns": null,
      "grid_auto_flow": null,
      "grid_auto_rows": null,
      "grid_column": null,
      "grid_gap": null,
      "grid_row": null,
      "grid_template_areas": null,
      "grid_template_columns": null,
      "grid_template_rows": null,
      "height": null,
      "justify_content": null,
      "justify_items": null,
      "left": null,
      "margin": null,
      "max_height": null,
      "max_width": null,
      "min_height": null,
      "min_width": null,
      "object_fit": null,
      "object_position": null,
      "order": null,
      "overflow": null,
      "overflow_x": null,
      "overflow_y": null,
      "padding": null,
      "right": null,
      "top": null,
      "visibility": null,
      "width": null
     }
    },
    "bc79e44bcec44bc7be8d96866d9c1f6e": {
     "model_module": "@jupyter-widgets/controls",
     "model_module_version": "1.5.0",
     "model_name": "HBoxModel",
     "state": {
      "_dom_classes": [],
      "_model_module": "@jupyter-widgets/controls",
      "_model_module_version": "1.5.0",
      "_model_name": "HBoxModel",
      "_view_count": null,
      "_view_module": "@jupyter-widgets/controls",
      "_view_module_version": "1.5.0",
      "_view_name": "HBoxView",
      "box_style": "",
      "children": [
       "IPY_MODEL_6a049b1f64fd414ab8528a1c8869fc70",
       "IPY_MODEL_f4ed3e3d12bb4589b385fe70afff4231",
       "IPY_MODEL_062c4458f61a48ca9dc16324d8910216"
      ],
      "layout": "IPY_MODEL_44c2b94643ff4d9fbf0193f46b5b9890"
     }
    },
    "d41c85f98d07435f90a269b57aef7263": {
     "model_module": "@jupyter-widgets/controls",
     "model_module_version": "1.5.0",
     "model_name": "DescriptionStyleModel",
     "state": {
      "_model_module": "@jupyter-widgets/controls",
      "_model_module_version": "1.5.0",
      "_model_name": "DescriptionStyleModel",
      "_view_count": null,
      "_view_module": "@jupyter-widgets/base",
      "_view_module_version": "1.2.0",
      "_view_name": "StyleView",
      "description_width": ""
     }
    },
    "dc5b512817d448bfb9e708c8a5beeca7": {
     "model_module": "@jupyter-widgets/base",
     "model_module_version": "1.2.0",
     "model_name": "LayoutModel",
     "state": {
      "_model_module": "@jupyter-widgets/base",
      "_model_module_version": "1.2.0",
      "_model_name": "LayoutModel",
      "_view_count": null,
      "_view_module": "@jupyter-widgets/base",
      "_view_module_version": "1.2.0",
      "_view_name": "LayoutView",
      "align_content": null,
      "align_items": null,
      "align_self": null,
      "border": null,
      "bottom": null,
      "display": null,
      "flex": null,
      "flex_flow": null,
      "grid_area": null,
      "grid_auto_columns": null,
      "grid_auto_flow": null,
      "grid_auto_rows": null,
      "grid_column": null,
      "grid_gap": null,
      "grid_row": null,
      "grid_template_areas": null,
      "grid_template_columns": null,
      "grid_template_rows": null,
      "height": null,
      "justify_content": null,
      "justify_items": null,
      "left": null,
      "margin": null,
      "max_height": null,
      "max_width": null,
      "min_height": null,
      "min_width": null,
      "object_fit": null,
      "object_position": null,
      "order": null,
      "overflow": null,
      "overflow_x": null,
      "overflow_y": null,
      "padding": null,
      "right": null,
      "top": null,
      "visibility": null,
      "width": null
     }
    },
    "f4ed3e3d12bb4589b385fe70afff4231": {
     "model_module": "@jupyter-widgets/controls",
     "model_module_version": "1.5.0",
     "model_name": "FloatProgressModel",
     "state": {
      "_dom_classes": [],
      "_model_module": "@jupyter-widgets/controls",
      "_model_module_version": "1.5.0",
      "_model_name": "FloatProgressModel",
      "_view_count": null,
      "_view_module": "@jupyter-widgets/controls",
      "_view_module_version": "1.5.0",
      "_view_name": "ProgressView",
      "bar_style": "success",
      "description": "",
      "description_tooltip": null,
      "layout": "IPY_MODEL_0f3eb7ef242d43f2a8aa00f8d849acc2",
      "max": 3125,
      "min": 0,
      "orientation": "horizontal",
      "style": "IPY_MODEL_7adbf15fafed4499ae708b0606dd9f68",
      "value": 3125
     }
    }
   }
  }
 },
 "nbformat": 4,
 "nbformat_minor": 5
}