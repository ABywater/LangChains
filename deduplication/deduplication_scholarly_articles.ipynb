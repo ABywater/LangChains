{
 "cells": [
  {
   "cell_type": "markdown",
   "id": "a4e2fc01",
   "metadata": {
    "id": "a4e2fc01",
    "papermill": {
     "duration": 0.063978,
     "end_time": "2021-04-22T02:05:48.011289",
     "exception": false,
     "start_time": "2021-04-22T02:05:47.947311",
     "status": "completed"
    },
    "tags": []
   },
   "source": [
    "# Document Deduplication with Similarity Search"
   ]
  },
  {
   "cell_type": "markdown",
   "id": "12df02b4",
   "metadata": {
    "id": "12df02b4",
    "papermill": {
     "duration": 0.048328,
     "end_time": "2021-04-22T02:05:48.113684",
     "exception": false,
     "start_time": "2021-04-22T02:05:48.065356",
     "status": "completed"
    },
    "tags": []
   },
   "source": [
    "This notebook demonstrates how to use Pinecone's similarity search to create a simple application to identify duplicate documents. \n",
    "\n",
    "The goal is to create a data deduplication application for eliminating near-duplicate copies of academic texts. In this example, we will perform the deduplication of a given text in two steps. First, we will sift a small set of candidate texts using a similarity-search service. Then, we will apply a near-duplication detector over these candidates. \n",
    "\n",
    "The similarity search will use a vector representation of the texts. With this, semantic similarity is translated to proximity in a vector space. For detecting near-duplicates, we will employ a classification model that examines the raw text. "
   ]
  },
  {
   "cell_type": "markdown",
   "id": "d653024a",
   "metadata": {
    "id": "d653024a",
    "papermill": {
     "duration": 0.050676,
     "end_time": "2021-04-22T02:05:48.215811",
     "exception": false,
     "start_time": "2021-04-22T02:05:48.165135",
     "status": "completed"
    },
    "tags": []
   },
   "source": [
    "## Dependencies"
   ]
  },
  {
   "cell_type": "code",
   "execution_count": 1,
   "id": "08cd7b6e",
   "metadata": {
    "colab": {
     "base_uri": "https://localhost:8080/"
    },
    "execution": {
     "iopub.execute_input": "2021-04-22T02:05:48.328155Z",
     "iopub.status.busy": "2021-04-22T02:05:48.327286Z",
     "iopub.status.idle": "2021-04-22T02:07:42.054287Z",
     "shell.execute_reply": "2021-04-22T02:07:42.051766Z"
    },
    "id": "08cd7b6e",
    "outputId": "42aaaa20-ee6e-4593-bb1c-f651e5b8e13f",
    "papermill": {
     "duration": 113.78609,
     "end_time": "2021-04-22T02:07:42.055032",
     "exception": false,
     "start_time": "2021-04-22T02:05:48.268942",
     "status": "completed"
    },
    "tags": []
   },
   "outputs": [
    {
     "name": "stdout",
     "output_type": "stream",
     "text": [
      "  Installing build dependencies ... \u001b[?25l\u001b[?25hdone\n",
      "  Getting requirements to build wheel ... \u001b[?25l\u001b[?25hdone\n",
      "    Preparing wheel metadata ... \u001b[?25l\u001b[?25hdone\n",
      "\u001b[K     |████████████████████████████████| 596 kB 5.0 MB/s \n",
      "\u001b[K     |████████████████████████████████| 269 kB 60.6 MB/s \n",
      "\u001b[K     |████████████████████████████████| 58 kB 6.9 MB/s \n",
      "\u001b[?25h  Building wheel for pinecone-client (PEP 517) ... \u001b[?25l\u001b[?25hdone\n",
      "\u001b[K     |████████████████████████████████| 75 kB 2.9 MB/s \n",
      "\u001b[K     |████████████████████████████████| 24.1 MB 88.7 MB/s \n",
      "\u001b[K     |████████████████████████████████| 50 kB 8.6 MB/s \n",
      "\u001b[K     |████████████████████████████████| 79 kB 6.1 MB/s \n",
      "\u001b[K     |████████████████████████████████| 4.2 MB 30.7 MB/s \n",
      "\u001b[K     |████████████████████████████████| 1.2 MB 49.6 MB/s \n",
      "\u001b[K     |████████████████████████████████| 86 kB 53.1 MB/s \n",
      "\u001b[K     |████████████████████████████████| 6.6 MB 62.7 MB/s \n",
      "\u001b[?25h  Building wheel for sentence-transformers (setup.py) ... \u001b[?25l\u001b[?25hdone\n"
     ]
    }
   ],
   "source": [
    "!pip install -qU pinecone-client\n",
    "!pip install -qU datasketch gensim mmh3 ipywidgets\n",
    "!pip install -qU sentence-transformers --no-cache-dir"
   ]
  },
  {
   "cell_type": "code",
   "execution_count": 2,
   "id": "430017ba",
   "metadata": {
    "execution": {
     "iopub.execute_input": "2021-04-22T02:07:42.220927Z",
     "iopub.status.busy": "2021-04-22T02:07:42.216127Z",
     "iopub.status.idle": "2021-04-22T02:07:45.552891Z",
     "shell.execute_reply": "2021-04-22T02:07:45.551972Z"
    },
    "id": "430017ba",
    "papermill": {
     "duration": 3.416794,
     "end_time": "2021-04-22T02:07:45.553155",
     "exception": false,
     "start_time": "2021-04-22T02:07:42.136361",
     "status": "completed"
    },
    "tags": []
   },
   "outputs": [],
   "source": [
    "import os\n",
    "import json\n",
    "import math\n",
    "import statistics\n",
    "import pandas as pd\n",
    "from tqdm import tqdm\n",
    "from sentence_transformers import SentenceTransformer\n",
    "from gensim.utils import tokenize\n",
    "from datasketch.minhash import MinHash\n",
    "from datasketch.lsh import MinHashLSH"
   ]
  },
  {
   "cell_type": "markdown",
   "id": "c8f82b70",
   "metadata": {
    "id": "c8f82b70",
    "papermill": {
     "duration": 0.047927,
     "end_time": "2021-04-22T02:07:45.647713",
     "exception": false,
     "start_time": "2021-04-22T02:07:45.599786",
     "status": "completed"
    },
    "tags": []
   },
   "source": [
    "## Pinecone Setup"
   ]
  },
  {
   "cell_type": "code",
   "execution_count": 3,
   "id": "90ffb6cc",
   "metadata": {
    "execution": {
     "iopub.execute_input": "2021-04-22T02:07:45.754990Z",
     "iopub.status.busy": "2021-04-22T02:07:45.750917Z",
     "iopub.status.idle": "2021-04-22T02:07:46.316214Z",
     "shell.execute_reply": "2021-04-22T02:07:46.315720Z"
    },
    "id": "90ffb6cc",
    "papermill": {
     "duration": 0.620025,
     "end_time": "2021-04-22T02:07:46.316451",
     "exception": false,
     "start_time": "2021-04-22T02:07:45.696426",
     "status": "completed"
    },
    "tags": []
   },
   "outputs": [],
   "source": [
    "import pinecone\n",
    "\n",
    "# Load Pinecone API key\n",
    "api_key = os.getenv(\"PINECONE_API_KEY\") or \"YOUR_API_KEY\"\n",
    "pinecone.init(api_key=api_key, environment='us-west1-gcp')"
   ]
  },
  {
   "cell_type": "markdown",
   "id": "c4d52e5a",
   "metadata": {
    "id": "c4d52e5a",
    "papermill": {
     "duration": 0.047172,
     "end_time": "2021-04-22T02:07:46.408965",
     "exception": false,
     "start_time": "2021-04-22T02:07:46.361793",
     "status": "completed"
    },
    "tags": []
   },
   "source": [
    "[Get a Pinecone API key](https://www.pinecone.io/start/) if you don’t have one already."
   ]
  },
  {
   "cell_type": "markdown",
   "id": "32cdeaf7",
   "metadata": {
    "id": "32cdeaf7",
    "papermill": {
     "duration": 0.045346,
     "end_time": "2021-04-22T02:07:46.498533",
     "exception": false,
     "start_time": "2021-04-22T02:07:46.453187",
     "status": "completed"
    },
    "tags": []
   },
   "source": [
    "## Define a New Pinecone Index"
   ]
  },
  {
   "cell_type": "code",
   "execution_count": 4,
   "id": "22da3d56",
   "metadata": {
    "execution": {
     "iopub.execute_input": "2021-04-22T02:07:46.601276Z",
     "iopub.status.busy": "2021-04-22T02:07:46.599500Z",
     "iopub.status.idle": "2021-04-22T02:07:46.602060Z",
     "shell.execute_reply": "2021-04-22T02:07:46.602555Z"
    },
    "id": "22da3d56",
    "papermill": {
     "duration": 0.057581,
     "end_time": "2021-04-22T02:07:46.602789",
     "exception": false,
     "start_time": "2021-04-22T02:07:46.545208",
     "status": "completed"
    },
    "tags": []
   },
   "outputs": [],
   "source": [
    "# Pick a name for the new index\n",
    "index_name = \"deduplication\""
   ]
  },
  {
   "cell_type": "code",
   "execution_count": 5,
   "id": "30ac8521",
   "metadata": {
    "execution": {
     "iopub.execute_input": "2021-04-22T02:07:46.698891Z",
     "iopub.status.busy": "2021-04-22T02:07:46.697259Z",
     "iopub.status.idle": "2021-04-22T02:07:47.197160Z",
     "shell.execute_reply": "2021-04-22T02:07:47.195383Z"
    },
    "id": "30ac8521",
    "papermill": {
     "duration": 0.54984,
     "end_time": "2021-04-22T02:07:47.197761",
     "exception": false,
     "start_time": "2021-04-22T02:07:46.647921",
     "status": "completed"
    },
    "tags": []
   },
   "outputs": [],
   "source": [
    "# Check whether an index with the same name already exists\n",
    "if index_name in pinecone.list_indexes():\n",
    "    pinecone.delete_index(index_name)"
   ]
  },
  {
   "cell_type": "markdown",
   "id": "0fd0d29a",
   "metadata": {
    "id": "0fd0d29a",
    "papermill": {
     "duration": 0.045766,
     "end_time": "2021-04-22T02:07:47.294911",
     "exception": false,
     "start_time": "2021-04-22T02:07:47.249145",
     "status": "completed"
    },
    "tags": []
   },
   "source": [
    "**Create Index**\n"
   ]
  },
  {
   "cell_type": "code",
   "execution_count": 6,
   "id": "eac6c5fd",
   "metadata": {
    "execution": {
     "iopub.execute_input": "2021-04-22T02:07:47.398141Z",
     "iopub.status.busy": "2021-04-22T02:07:47.396098Z",
     "iopub.status.idle": "2021-04-22T02:08:10.710627Z",
     "shell.execute_reply": "2021-04-22T02:08:10.710009Z"
    },
    "id": "eac6c5fd",
    "papermill": {
     "duration": 23.371958,
     "end_time": "2021-04-22T02:08:10.710973",
     "exception": false,
     "start_time": "2021-04-22T02:07:47.339015",
     "status": "completed"
    },
    "tags": []
   },
   "outputs": [],
   "source": [
    "pinecone.create_index(name=index_name, dimension=300)"
   ]
  },
  {
   "cell_type": "markdown",
   "id": "0b3fd29e",
   "metadata": {
    "id": "0b3fd29e",
    "papermill": {
     "duration": 0.047531,
     "end_time": "2021-04-22T02:08:10.805519",
     "exception": false,
     "start_time": "2021-04-22T02:08:10.757988",
     "status": "completed"
    },
    "tags": []
   },
   "source": [
    "**Create Index object**\n",
    "\n",
    "The index object, a class instance of pinecone.Index, will be reused for optimal performance."
   ]
  },
  {
   "cell_type": "code",
   "execution_count": 7,
   "id": "74fbf2ed",
   "metadata": {
    "execution": {
     "iopub.execute_input": "2021-04-22T02:08:10.904632Z",
     "iopub.status.busy": "2021-04-22T02:08:10.902813Z",
     "iopub.status.idle": "2021-04-22T02:08:11.798698Z",
     "shell.execute_reply": "2021-04-22T02:08:11.797634Z"
    },
    "id": "74fbf2ed",
    "papermill": {
     "duration": 0.946561,
     "end_time": "2021-04-22T02:08:11.799222",
     "exception": false,
     "start_time": "2021-04-22T02:08:10.852661",
     "status": "completed"
    },
    "tags": []
   },
   "outputs": [],
   "source": [
    "index = pinecone.Index(index_name)"
   ]
  },
  {
   "cell_type": "markdown",
   "id": "256e64e8",
   "metadata": {
    "id": "256e64e8",
    "papermill": {
     "duration": 0.046393,
     "end_time": "2021-04-22T02:08:11.899649",
     "exception": false,
     "start_time": "2021-04-22T02:08:11.853256",
     "status": "completed"
    },
    "tags": []
   },
   "source": [
    "## Upload"
   ]
  },
  {
   "cell_type": "markdown",
   "id": "003340f7",
   "metadata": {
    "id": "003340f7",
    "papermill": {
     "duration": 0.043329,
     "end_time": "2021-04-22T02:08:11.990600",
     "exception": false,
     "start_time": "2021-04-22T02:08:11.947271",
     "status": "completed"
    },
    "tags": []
   },
   "source": [
    "In this tutorial, we will use the [Deduplication Dataset 2020](https://core.ac.uk/documentation/dataset/) that consists of 100,000 scholarly documents. \n"
   ]
  },
  {
   "cell_type": "markdown",
   "id": "24c4a631",
   "metadata": {
    "id": "24c4a631",
    "papermill": {
     "duration": 0.044913,
     "end_time": "2021-04-22T02:08:12.081314",
     "exception": false,
     "start_time": "2021-04-22T02:08:12.036401",
     "status": "completed"
    },
    "tags": []
   },
   "source": [
    "**Load data**"
   ]
  },
  {
   "cell_type": "code",
   "execution_count": 8,
   "id": "3abb431a",
   "metadata": {
    "execution": {
     "iopub.execute_input": "2021-04-22T02:08:12.194891Z",
     "iopub.status.busy": "2021-04-22T02:08:12.194195Z",
     "iopub.status.idle": "2021-04-22T02:08:51.471090Z",
     "shell.execute_reply": "2021-04-22T02:08:51.470082Z"
    },
    "id": "3abb431a",
    "papermill": {
     "duration": 39.336474,
     "end_time": "2021-04-22T02:08:51.471549",
     "exception": false,
     "start_time": "2021-04-22T02:08:12.135075",
     "status": "completed"
    },
    "tags": []
   },
   "outputs": [],
   "source": [
    "import requests, os, zipfile\n",
    "\n",
    "DATA_DIR = \"tmp\"\n",
    "DATA_FILE = f\"{DATA_DIR}/deduplication_dataset_2020.zip\"\n",
    "DATA_URL = \"https://core.ac.uk/datasets/core_2020-05-10_deduplication.zip\"\n",
    "\n",
    "\n",
    "def download_data():\n",
    "    os.makedirs(DATA_DIR, exist_ok=True)\n",
    "\n",
    "    if not os.path.exists(DATA_FILE):\n",
    "        r = requests.get(DATA_URL)\n",
    "        with open(DATA_FILE, \"wb\") as f:\n",
    "            f.write(r.content)\n",
    "        with zipfile.ZipFile(DATA_FILE, \"r\") as zip_ref:\n",
    "            zip_ref.extractall(DATA_DIR)\n",
    "\n",
    "\n",
    "download_data()"
   ]
  },
  {
   "cell_type": "code",
   "execution_count": 9,
   "id": "befead36",
   "metadata": {
    "execution": {
     "iopub.execute_input": "2021-04-22T02:08:51.598119Z",
     "iopub.status.busy": "2021-04-22T02:08:51.596506Z",
     "iopub.status.idle": "2021-04-22T02:08:52.146867Z",
     "shell.execute_reply": "2021-04-22T02:08:52.144625Z"
    },
    "id": "befead36",
    "papermill": {
     "duration": 0.617861,
     "end_time": "2021-04-22T02:08:52.147284",
     "exception": false,
     "start_time": "2021-04-22T02:08:51.529423",
     "status": "completed"
    },
    "tags": []
   },
   "outputs": [],
   "source": [
    "DATA_PATH = os.path.join(DATA_DIR, \"deduplication_dataset_2020/Ground_Truth_data.jsonl\")\n",
    "\n",
    "with open(DATA_PATH, encoding=\"utf8\") as json_file:\n",
    "    data = list(json_file)"
   ]
  },
  {
   "cell_type": "markdown",
   "id": "0e0d29a5",
   "metadata": {
    "id": "0e0d29a5",
    "papermill": {
     "duration": 0.061599,
     "end_time": "2021-04-22T02:08:52.267725",
     "exception": false,
     "start_time": "2021-04-22T02:08:52.206126",
     "status": "completed"
    },
    "tags": []
   },
   "source": [
    "Here is a sample of the data. "
   ]
  },
  {
   "cell_type": "code",
   "execution_count": 10,
   "id": "05b14f55",
   "metadata": {
    "colab": {
     "base_uri": "https://localhost:8080/",
     "height": 424
    },
    "execution": {
     "iopub.execute_input": "2021-04-22T02:08:52.396848Z",
     "iopub.status.busy": "2021-04-22T02:08:52.390901Z",
     "iopub.status.idle": "2021-04-22T02:08:54.272516Z",
     "shell.execute_reply": "2021-04-22T02:08:54.271471Z"
    },
    "id": "05b14f55",
    "outputId": "f8088256-96b3-4424-a328-14f80bd9fe63",
    "papermill": {
     "duration": 1.947767,
     "end_time": "2021-04-22T02:08:54.272833",
     "exception": false,
     "start_time": "2021-04-22T02:08:52.325066",
     "status": "completed"
    },
    "tags": []
   },
   "outputs": [
    {
     "data": {
      "text/html": [
       "\n",
       "  <div id=\"df-4ae64453-ea23-4619-9bc7-669eaeeb70ad\">\n",
       "    <div class=\"colab-df-container\">\n",
       "      <div>\n",
       "<style scoped>\n",
       "    .dataframe tbody tr th:only-of-type {\n",
       "        vertical-align: middle;\n",
       "    }\n",
       "\n",
       "    .dataframe tbody tr th {\n",
       "        vertical-align: top;\n",
       "    }\n",
       "\n",
       "    .dataframe thead th {\n",
       "        text-align: right;\n",
       "    }\n",
       "</style>\n",
       "<table border=\"1\" class=\"dataframe\">\n",
       "  <thead>\n",
       "    <tr style=\"text-align: right;\">\n",
       "      <th></th>\n",
       "      <th>core_id</th>\n",
       "      <th>doi</th>\n",
       "      <th>original_abstract</th>\n",
       "      <th>original_title</th>\n",
       "      <th>processed_title</th>\n",
       "      <th>processed_abstract</th>\n",
       "      <th>cat</th>\n",
       "      <th>labelled_duplicates</th>\n",
       "    </tr>\n",
       "  </thead>\n",
       "  <tbody>\n",
       "    <tr>\n",
       "      <th>0</th>\n",
       "      <td>11251086</td>\n",
       "      <td>10.1016/j.ajhg.2007.12.013</td>\n",
       "      <td>Unobstructed vision requires a particular refr...</td>\n",
       "      <td>Mutation of solute carrier SLC16A12 associates...</td>\n",
       "      <td>mutation of solute carrier slc16a12 associates...</td>\n",
       "      <td>unobstructed vision refractive lens differenti...</td>\n",
       "      <td>exact_dup</td>\n",
       "      <td>[82332306]</td>\n",
       "    </tr>\n",
       "    <tr>\n",
       "      <th>1</th>\n",
       "      <td>11309751</td>\n",
       "      <td>10.1103/PhysRevLett.101.193002</td>\n",
       "      <td>Two-color multiphoton ionization of atomic hel...</td>\n",
       "      <td>Polarization control in two-color above-thresh...</td>\n",
       "      <td>polarization control in two-color above-thresh...</td>\n",
       "      <td>multiphoton ionization helium combining extrem...</td>\n",
       "      <td>exact_dup</td>\n",
       "      <td>[147599753]</td>\n",
       "    </tr>\n",
       "    <tr>\n",
       "      <th>2</th>\n",
       "      <td>11311385</td>\n",
       "      <td>10.1016/j.ab.2011.02.013</td>\n",
       "      <td>Lectin’s are proteins capable of recognising a...</td>\n",
       "      <td>Optimisation of the enzyme-linked lectin assay...</td>\n",
       "      <td>optimisation of the enzyme-linked lectin assay...</td>\n",
       "      <td>lectin’s capable recognising oligosaccharide t...</td>\n",
       "      <td>exact_dup</td>\n",
       "      <td>[147603441]</td>\n",
       "    </tr>\n",
       "    <tr>\n",
       "      <th>3</th>\n",
       "      <td>11992240</td>\n",
       "      <td>10.1016/j.jpcs.2007.07.063</td>\n",
       "      <td>In this work, we present a detailed transmissi...</td>\n",
       "      <td>Vertical composition fluctuations in (Ga,In)(N...</td>\n",
       "      <td>vertical composition fluctuations in (ga,in)(n...</td>\n",
       "      <td>microscopy interfacial uniformity wells grown ...</td>\n",
       "      <td>exact_dup</td>\n",
       "      <td>[148653623]</td>\n",
       "    </tr>\n",
       "    <tr>\n",
       "      <th>4</th>\n",
       "      <td>11994990</td>\n",
       "      <td>10.1016/S0169-5983(03)00013-3</td>\n",
       "      <td>Three-dimensional (3D) oscillatory boundary la...</td>\n",
       "      <td>Three-dimensional streaming flows driven by os...</td>\n",
       "      <td>three-dimensional streaming flows driven by os...</td>\n",
       "      <td>oscillatory attached deformable walls boundari...</td>\n",
       "      <td>exact_dup</td>\n",
       "      <td>[148656283]</td>\n",
       "    </tr>\n",
       "  </tbody>\n",
       "</table>\n",
       "</div>\n",
       "      <button class=\"colab-df-convert\" onclick=\"convertToInteractive('df-4ae64453-ea23-4619-9bc7-669eaeeb70ad')\"\n",
       "              title=\"Convert this dataframe to an interactive table.\"\n",
       "              style=\"display:none;\">\n",
       "        \n",
       "  <svg xmlns=\"http://www.w3.org/2000/svg\" height=\"24px\"viewBox=\"0 0 24 24\"\n",
       "       width=\"24px\">\n",
       "    <path d=\"M0 0h24v24H0V0z\" fill=\"none\"/>\n",
       "    <path d=\"M18.56 5.44l.94 2.06.94-2.06 2.06-.94-2.06-.94-.94-2.06-.94 2.06-2.06.94zm-11 1L8.5 8.5l.94-2.06 2.06-.94-2.06-.94L8.5 2.5l-.94 2.06-2.06.94zm10 10l.94 2.06.94-2.06 2.06-.94-2.06-.94-.94-2.06-.94 2.06-2.06.94z\"/><path d=\"M17.41 7.96l-1.37-1.37c-.4-.4-.92-.59-1.43-.59-.52 0-1.04.2-1.43.59L10.3 9.45l-7.72 7.72c-.78.78-.78 2.05 0 2.83L4 21.41c.39.39.9.59 1.41.59.51 0 1.02-.2 1.41-.59l7.78-7.78 2.81-2.81c.8-.78.8-2.07 0-2.86zM5.41 20L4 18.59l7.72-7.72 1.47 1.35L5.41 20z\"/>\n",
       "  </svg>\n",
       "      </button>\n",
       "      \n",
       "  <style>\n",
       "    .colab-df-container {\n",
       "      display:flex;\n",
       "      flex-wrap:wrap;\n",
       "      gap: 12px;\n",
       "    }\n",
       "\n",
       "    .colab-df-convert {\n",
       "      background-color: #E8F0FE;\n",
       "      border: none;\n",
       "      border-radius: 50%;\n",
       "      cursor: pointer;\n",
       "      display: none;\n",
       "      fill: #1967D2;\n",
       "      height: 32px;\n",
       "      padding: 0 0 0 0;\n",
       "      width: 32px;\n",
       "    }\n",
       "\n",
       "    .colab-df-convert:hover {\n",
       "      background-color: #E2EBFA;\n",
       "      box-shadow: 0px 1px 2px rgba(60, 64, 67, 0.3), 0px 1px 3px 1px rgba(60, 64, 67, 0.15);\n",
       "      fill: #174EA6;\n",
       "    }\n",
       "\n",
       "    [theme=dark] .colab-df-convert {\n",
       "      background-color: #3B4455;\n",
       "      fill: #D2E3FC;\n",
       "    }\n",
       "\n",
       "    [theme=dark] .colab-df-convert:hover {\n",
       "      background-color: #434B5C;\n",
       "      box-shadow: 0px 1px 3px 1px rgba(0, 0, 0, 0.15);\n",
       "      filter: drop-shadow(0px 1px 2px rgba(0, 0, 0, 0.3));\n",
       "      fill: #FFFFFF;\n",
       "    }\n",
       "  </style>\n",
       "\n",
       "      <script>\n",
       "        const buttonEl =\n",
       "          document.querySelector('#df-4ae64453-ea23-4619-9bc7-669eaeeb70ad button.colab-df-convert');\n",
       "        buttonEl.style.display =\n",
       "          google.colab.kernel.accessAllowed ? 'block' : 'none';\n",
       "\n",
       "        async function convertToInteractive(key) {\n",
       "          const element = document.querySelector('#df-4ae64453-ea23-4619-9bc7-669eaeeb70ad');\n",
       "          const dataTable =\n",
       "            await google.colab.kernel.invokeFunction('convertToInteractive',\n",
       "                                                     [key], {});\n",
       "          if (!dataTable) return;\n",
       "\n",
       "          const docLinkHtml = 'Like what you see? Visit the ' +\n",
       "            '<a target=\"_blank\" href=https://colab.research.google.com/notebooks/data_table.ipynb>data table notebook</a>'\n",
       "            + ' to learn more about interactive tables.';\n",
       "          element.innerHTML = '';\n",
       "          dataTable['output_type'] = 'display_data';\n",
       "          await google.colab.output.renderOutput(dataTable, element);\n",
       "          const docLink = document.createElement('div');\n",
       "          docLink.innerHTML = docLinkHtml;\n",
       "          element.appendChild(docLink);\n",
       "        }\n",
       "      </script>\n",
       "    </div>\n",
       "  </div>\n",
       "  "
      ],
      "text/plain": [
       "    core_id                             doi  \\\n",
       "0  11251086      10.1016/j.ajhg.2007.12.013   \n",
       "1  11309751  10.1103/PhysRevLett.101.193002   \n",
       "2  11311385        10.1016/j.ab.2011.02.013   \n",
       "3  11992240      10.1016/j.jpcs.2007.07.063   \n",
       "4  11994990   10.1016/S0169-5983(03)00013-3   \n",
       "\n",
       "                                   original_abstract  \\\n",
       "0  Unobstructed vision requires a particular refr...   \n",
       "1  Two-color multiphoton ionization of atomic hel...   \n",
       "2  Lectin’s are proteins capable of recognising a...   \n",
       "3  In this work, we present a detailed transmissi...   \n",
       "4  Three-dimensional (3D) oscillatory boundary la...   \n",
       "\n",
       "                                      original_title  \\\n",
       "0  Mutation of solute carrier SLC16A12 associates...   \n",
       "1  Polarization control in two-color above-thresh...   \n",
       "2  Optimisation of the enzyme-linked lectin assay...   \n",
       "3  Vertical composition fluctuations in (Ga,In)(N...   \n",
       "4  Three-dimensional streaming flows driven by os...   \n",
       "\n",
       "                                     processed_title  \\\n",
       "0  mutation of solute carrier slc16a12 associates...   \n",
       "1  polarization control in two-color above-thresh...   \n",
       "2  optimisation of the enzyme-linked lectin assay...   \n",
       "3  vertical composition fluctuations in (ga,in)(n...   \n",
       "4  three-dimensional streaming flows driven by os...   \n",
       "\n",
       "                                  processed_abstract        cat  \\\n",
       "0  unobstructed vision refractive lens differenti...  exact_dup   \n",
       "1  multiphoton ionization helium combining extrem...  exact_dup   \n",
       "2  lectin’s capable recognising oligosaccharide t...  exact_dup   \n",
       "3  microscopy interfacial uniformity wells grown ...  exact_dup   \n",
       "4  oscillatory attached deformable walls boundari...  exact_dup   \n",
       "\n",
       "  labelled_duplicates  \n",
       "0          [82332306]  \n",
       "1         [147599753]  \n",
       "2         [147603441]  \n",
       "3         [148653623]  \n",
       "4         [148656283]  "
      ]
     },
     "execution_count": 10,
     "metadata": {},
     "output_type": "execute_result"
    }
   ],
   "source": [
    "data_json = [json.loads(json_str) for json_str in data]\n",
    "df = pd.DataFrame.from_dict(data_json)\n",
    "df.head()"
   ]
  },
  {
   "cell_type": "markdown",
   "id": "6e1a8acc",
   "metadata": {
    "id": "6e1a8acc",
    "papermill": {
     "duration": 0.069632,
     "end_time": "2021-04-22T02:08:54.398885",
     "exception": false,
     "start_time": "2021-04-22T02:08:54.329253",
     "status": "completed"
    },
    "tags": []
   },
   "source": [
    "Now let us look at the columns in the dataset that are relevant for our task.\n",
    "\n",
    "**core_id** - Unique indentifier for each article\n",
    "\n",
    "**processed_abstract** - This is obtained by applying preprocssing steps like [this](https://spacy.io/usage/processing-pipelines) to the original abstract of the article from the column **original abstract**.\n",
    "\n",
    "**processed_title** - Same as the abstract but for the title of the article.\n",
    "\n",
    "**cat** - Every article falls into one of the three possible categories: 'exact_dup','near_dup','non_dup'\n",
    "\n",
    "**labelled_duplicates** - A list of core_ids of articles that are duplicates of current article\n",
    "\n",
    "\n"
   ]
  },
  {
   "cell_type": "markdown",
   "id": "92eb9871",
   "metadata": {
    "id": "92eb9871",
    "papermill": {
     "duration": 0.055556,
     "end_time": "2021-04-22T02:08:54.513132",
     "exception": false,
     "start_time": "2021-04-22T02:08:54.457576",
     "status": "completed"
    },
    "tags": []
   },
   "source": [
    "Let's calculate the frequency of duplicates per article. Observe that half of the articles have no duplicates, and only a small fraction of the articles have more than ten duplicates."
   ]
  },
  {
   "cell_type": "code",
   "execution_count": 11,
   "id": "2262a535",
   "metadata": {
    "colab": {
     "base_uri": "https://localhost:8080/"
    },
    "execution": {
     "iopub.execute_input": "2021-04-22T02:08:54.643047Z",
     "iopub.status.busy": "2021-04-22T02:08:54.642167Z",
     "iopub.status.idle": "2021-04-22T02:08:54.677660Z",
     "shell.execute_reply": "2021-04-22T02:08:54.676968Z"
    },
    "id": "2262a535",
    "outputId": "936d3e80-3138-4c5a-a8a6-6f5033603856",
    "papermill": {
     "duration": 0.101526,
     "end_time": "2021-04-22T02:08:54.677891",
     "exception": false,
     "start_time": "2021-04-22T02:08:54.576365",
     "status": "completed"
    },
    "tags": []
   },
   "outputs": [
    {
     "data": {
      "text/plain": [
       "0     50000\n",
       "1     36166\n",
       "2      7620\n",
       "3      3108\n",
       "4      1370\n",
       "5       756\n",
       "6       441\n",
       "7       216\n",
       "8       108\n",
       "10       66\n",
       "9        60\n",
       "11       48\n",
       "13       28\n",
       "12       13\n",
       "Name: labelled_duplicates, dtype: int64"
      ]
     },
     "execution_count": 11,
     "metadata": {},
     "output_type": "execute_result"
    }
   ],
   "source": [
    "lens = df.labelled_duplicates.apply(len)\n",
    "lens.value_counts()"
   ]
  },
  {
   "cell_type": "markdown",
   "id": "fe615876",
   "metadata": {
    "id": "fe615876",
    "papermill": {
     "duration": 0.048605,
     "end_time": "2021-04-22T02:08:54.777369",
     "exception": false,
     "start_time": "2021-04-22T02:08:54.728764",
     "status": "completed"
    },
    "tags": []
   },
   "source": [
    "We will make use of the text data to create vectors for every article. We combine the **processed_abstract** and **processed_title** of the article to create a new **combined_text** column. "
   ]
  },
  {
   "cell_type": "code",
   "execution_count": 12,
   "id": "040eaa39",
   "metadata": {
    "execution": {
     "iopub.execute_input": "2021-04-22T02:08:54.884383Z",
     "iopub.status.busy": "2021-04-22T02:08:54.883389Z",
     "iopub.status.idle": "2021-04-22T02:08:57.227381Z",
     "shell.execute_reply": "2021-04-22T02:08:57.226008Z"
    },
    "id": "040eaa39",
    "papermill": {
     "duration": 2.404613,
     "end_time": "2021-04-22T02:08:57.227625",
     "exception": false,
     "start_time": "2021-04-22T02:08:54.823012",
     "status": "completed"
    },
    "tags": []
   },
   "outputs": [],
   "source": [
    "# Define a new column for calculating embeddings\n",
    "df[\"combined_text\"] = df.apply(\n",
    "    lambda x: str(x.processed_title) + \" \" + str(x.processed_abstract), axis=1\n",
    ")"
   ]
  },
  {
   "cell_type": "markdown",
   "id": "2b39da8f",
   "metadata": {
    "id": "2b39da8f",
    "papermill": {
     "duration": 0.05703,
     "end_time": "2021-04-22T02:08:57.347510",
     "exception": false,
     "start_time": "2021-04-22T02:08:57.290480",
     "status": "completed"
    },
    "tags": []
   },
   "source": [
    "**Load model**"
   ]
  },
  {
   "cell_type": "markdown",
   "id": "e3f5f737",
   "metadata": {
    "id": "e3f5f737",
    "papermill": {
     "duration": 0.046633,
     "end_time": "2021-04-22T02:08:57.442378",
     "exception": false,
     "start_time": "2021-04-22T02:08:57.395745",
     "status": "completed"
    },
    "tags": []
   },
   "source": [
    "We will use the [Average Word Embedding GloVe](https://nlp.stanford.edu/projects/glove/) model to transform text into vector embeddings. We then upload the embeddings into the Pinecone vector index."
   ]
  },
  {
   "cell_type": "code",
   "execution_count": 13,
   "id": "bfae598d",
   "metadata": {
    "colab": {
     "base_uri": "https://localhost:8080/",
     "height": 273,
     "referenced_widgets": [
      "69eb73425e4a433ab674ae83f2bf5c60",
      "4c502b58fafc4c64a9a8f1871821ea11",
      "3e1f969173ca4ac6b64fb4746158b2b4",
      "45adf4ae6f8f4cc9a93365667bbec687",
      "e9952627502f4cc1b216876cd6d4b7ed",
      "2468f0af800246a692c2c33b97b18e7c",
      "e8ad26ad70e7433690d38aab2ac5fe88",
      "fb90b5a66d7a4be282d616d8f9168692",
      "f604f3300bcc48a4b8421965019c127a",
      "0b9672702af040f3b1185fb523e19fdb",
      "f9cec162c8a240d19c1654acb6fd418c",
      "0275f810773d49beb5ce31f53be7648c",
      "0db763411dec4bc28c9cc8f88ce75671",
      "19c8cef661d64620a1e4e295aea0a626",
      "4a3567b856154518b2bd21164c70c78d",
      "f0c8f0851c794dd688c745b5305b6e9c",
      "252609d8eb0a4f08b739f40028e80e05",
      "134830c4f2f84a8e8d2857b42644d14e",
      "ad87f7bf93b64993a1cc64ee9f688265",
      "17811814414f4d0fb57a3ddcb1cf4e77",
      "74e550ce7588455bb4f4d675bb7bf8d2",
      "69d52e2bd71047aa931707523d78e1f9",
      "edeb55be9e49438d89d1e7614342d48c",
      "32766bba557043ddbe4c0edef161a87f",
      "60cccfab6b3b450ab6a8db238514f823",
      "e43b64b499f84463a8399706da69e937",
      "eddf204999ff404a85572478243a872c",
      "3fc018cca3a7415ab481a8546d764e1f",
      "8c12c5c51583410d994ff0fb5f5a72c0",
      "e15b44272317418bb4defa51b34c0fa7",
      "d17b5d51352a4b72bbcf89ba9e65a344",
      "6e92091256914b929566172a53c00e73",
      "bc68ff1b5c9a4986b12f1f4628fcf7cd",
      "4186a281804445429ae0259895909664",
      "9416159e2ff34f5c983891aba71a1b56",
      "a3d566289f5245949767b8e8923b18a8",
      "c5457aa4173748bdada8ca78a0a5dc24",
      "9ed78ba3bf894ed98f3e5bcb80564c95",
      "398719df23f24870b0f84ed8997492b1",
      "7f098b29a5dd4ccd9c7721e9054b8193",
      "24b7ae6389344f5bbc82c2b00209826c",
      "ce42a79e6a2d4188b0c67058f7f4afb5",
      "315cd7621f5b4a00bd5d0f7d3e1a32f4",
      "a989fdb242304b988a8740959a7a667f",
      "d6cceadbf7e64012b201b3ca5d44aeb7",
      "38b04ed6613c430186fca6cfc9cc6414",
      "13e93fc81ef64f919fee19eac0a39594",
      "d641d2c794194e289cee0e6947ececd5",
      "f4d24d46669548a69b18e9d58af25de3",
      "1e48b071b39b4b2e94ca6a44b12c4eb3",
      "d2786cb0a70646459cdf427bcd9bd9f4",
      "7a9f899e27ec433cafe89a4d18f03289",
      "da3c42155e16420daa3f3441a9f2cae4",
      "324fadc98fec4bb0bb7ef6dc38bbf48e",
      "006af2414bff44f1acaec35ef7055e6c",
      "d864eebd3e17478589f039c9b956fed3",
      "3871f11bcee5406b87fac2a2bc494a9d",
      "7cf26b8f22a24bd7b8dd2d6602eabbaa",
      "adef2cde174e431c941768de79954a3c",
      "7414efbd204248a3b296fcf38d1e5ad4",
      "0f2df641e45d4cedb4c245f7ed3ac034",
      "4bdaf7379d364162998362628654a8f3",
      "5f91181b1703456d8c6970aad8722d33",
      "03d99bb50e7f4d05bc1eaf9357605edc",
      "cdcd5270180d4c0487deb5ebfb9281e4",
      "d80a81dbaa994686bc72dbb692c10dfc",
      "efa663d642b448518a14558a4014efff",
      "2adb56ba4270417ea2923faf135f843a",
      "882c7bb28e4649aaa5a3a145f1ad403c",
      "8acf765bf9144e78b4ddfd10ce1be1a2",
      "ff748e09aa814d4d921f306bb0f2d6f7",
      "3f64d3996e2a48d88174ac51243449e4",
      "a6545055c5354b99a202fb217233f6f7",
      "52f80fc190cc42dd88e2c99517e5aafe",
      "6f83dfbf5a9e43e787e0943d85d56116",
      "50dfa4c574eb49048db9f34dd804d511",
      "e6779672d40847cc90eb83c35f68e401",
      "4af923521ebd4060979ab0a735319750",
      "10e840e030a24ab8ab27cf7f96764022",
      "d295c9b530b54edfa6b11c0fedb11203",
      "8d1d03f1cbec4784bbf2d77e76433ede",
      "e873b9de9f3e4ce5b72b47be99c08644",
      "f4df54a27f2d4ae6aba4efef034ae939",
      "2c7ab0a5103647a883b278cdb07fecbd",
      "2adb43d3a02948df8c6fca9c2dddce55",
      "21463531fec949de83183c48d5b0c372",
      "1f26776bc606461584596bd1da9f1bc2",
      "1048ced32fe24955840eb1d779188782"
     ]
    },
    "execution": {
     "iopub.execute_input": "2021-04-22T02:08:57.543587Z",
     "iopub.status.busy": "2021-04-22T02:08:57.542855Z",
     "iopub.status.idle": "2021-04-22T02:10:48.016350Z",
     "shell.execute_reply": "2021-04-22T02:10:48.017112Z"
    },
    "id": "bfae598d",
    "outputId": "59a8b9cd-4af1-4cef-db48-5dde1749e65e",
    "papermill": {
     "duration": 110.529503,
     "end_time": "2021-04-22T02:10:48.017756",
     "exception": false,
     "start_time": "2021-04-22T02:08:57.488253",
     "status": "completed"
    },
    "tags": []
   },
   "outputs": [
    {
     "data": {
      "application/vnd.jupyter.widget-view+json": {
       "model_id": "69eb73425e4a433ab674ae83f2bf5c60",
       "version_major": 2,
       "version_minor": 0
      },
      "text/plain": [
       "Downloading:   0%|          | 0.00/690 [00:00<?, ?B/s]"
      ]
     },
     "metadata": {},
     "output_type": "display_data"
    },
    {
     "data": {
      "application/vnd.jupyter.widget-view+json": {
       "model_id": "0275f810773d49beb5ce31f53be7648c",
       "version_major": 2,
       "version_minor": 0
      },
      "text/plain": [
       "Downloading:   0%|          | 0.00/480M [00:00<?, ?B/s]"
      ]
     },
     "metadata": {},
     "output_type": "display_data"
    },
    {
     "data": {
      "application/vnd.jupyter.widget-view+json": {
       "model_id": "edeb55be9e49438d89d1e7614342d48c",
       "version_major": 2,
       "version_minor": 0
      },
      "text/plain": [
       "Downloading:   0%|          | 0.00/4.61M [00:00<?, ?B/s]"
      ]
     },
     "metadata": {},
     "output_type": "display_data"
    },
    {
     "data": {
      "application/vnd.jupyter.widget-view+json": {
       "model_id": "4186a281804445429ae0259895909664",
       "version_major": 2,
       "version_minor": 0
      },
      "text/plain": [
       "Downloading:   0%|          | 0.00/164 [00:00<?, ?B/s]"
      ]
     },
     "metadata": {},
     "output_type": "display_data"
    },
    {
     "data": {
      "application/vnd.jupyter.widget-view+json": {
       "model_id": "d6cceadbf7e64012b201b3ca5d44aeb7",
       "version_major": 2,
       "version_minor": 0
      },
      "text/plain": [
       "Downloading:   0%|          | 0.00/190 [00:00<?, ?B/s]"
      ]
     },
     "metadata": {},
     "output_type": "display_data"
    },
    {
     "data": {
      "application/vnd.jupyter.widget-view+json": {
       "model_id": "d864eebd3e17478589f039c9b956fed3",
       "version_major": 2,
       "version_minor": 0
      },
      "text/plain": [
       "Downloading:   0%|          | 0.00/2.15k [00:00<?, ?B/s]"
      ]
     },
     "metadata": {},
     "output_type": "display_data"
    },
    {
     "data": {
      "application/vnd.jupyter.widget-view+json": {
       "model_id": "efa663d642b448518a14558a4014efff",
       "version_major": 2,
       "version_minor": 0
      },
      "text/plain": [
       "Downloading:   0%|          | 0.00/122 [00:00<?, ?B/s]"
      ]
     },
     "metadata": {},
     "output_type": "display_data"
    },
    {
     "data": {
      "application/vnd.jupyter.widget-view+json": {
       "model_id": "4af923521ebd4060979ab0a735319750",
       "version_major": 2,
       "version_minor": 0
      },
      "text/plain": [
       "Downloading:   0%|          | 0.00/248 [00:00<?, ?B/s]"
      ]
     },
     "metadata": {},
     "output_type": "display_data"
    }
   ],
   "source": [
    "model = SentenceTransformer(\"average_word_embeddings_glove.6B.300d\")"
   ]
  },
  {
   "cell_type": "code",
   "execution_count": 14,
   "id": "296b5960",
   "metadata": {
    "colab": {
     "base_uri": "https://localhost:8080/",
     "height": 49,
     "referenced_widgets": [
      "e3e4c5d2d6324fe38387282e3e8f5c69",
      "af5732cd671a4941b41bd09d3b1671e9",
      "c2a8078c1ffc4c6895976a94644df1a3",
      "88631fc7b87646ed9970c0e56a538d5e",
      "4c61635a83fc49a5b98ac78524a0bb1b",
      "4fa89652d1384121aab2036d780d7ae2",
      "1b403790123745eb9b9cb05bbaa247e3",
      "22065af9e85f42dc920068e31daafb35",
      "0ee37515ffde470d992eef2381634be6",
      "f61aafc4076146fdb8ea4336a79437a3",
      "43a75db73aef48df9b2ef24a5cdb729f"
     ]
    },
    "execution": {
     "iopub.execute_input": "2021-04-22T02:10:48.281536Z",
     "iopub.status.busy": "2021-04-22T02:10:48.276023Z",
     "iopub.status.idle": "2021-04-22T02:11:13.225189Z",
     "shell.execute_reply": "2021-04-22T02:11:13.222161Z"
    },
    "id": "296b5960",
    "outputId": "75c2f24b-5f2d-459d-b463-31ccdd0793a1",
    "papermill": {
     "duration": 25.047946,
     "end_time": "2021-04-22T02:11:13.225984",
     "exception": false,
     "start_time": "2021-04-22T02:10:48.178038",
     "status": "completed"
    },
    "tags": []
   },
   "outputs": [
    {
     "data": {
      "application/vnd.jupyter.widget-view+json": {
       "model_id": "e3e4c5d2d6324fe38387282e3e8f5c69",
       "version_major": 2,
       "version_minor": 0
      },
      "text/plain": [
       "Batches:   0%|          | 0/3125 [00:00<?, ?it/s]"
      ]
     },
     "metadata": {},
     "output_type": "display_data"
    }
   ],
   "source": [
    "df[\"vectors\"] = list(model.encode(df.combined_text.to_list(), show_progress_bar=True).tolist())"
   ]
  },
  {
   "cell_type": "markdown",
   "id": "53d9cb5c",
   "metadata": {
    "id": "53d9cb5c"
   },
   "source": [
    "**Index the Vectors**"
   ]
  },
  {
   "cell_type": "code",
   "execution_count": 15,
   "id": "193adb07",
   "metadata": {
    "id": "193adb07"
   },
   "outputs": [],
   "source": [
    "import itertools\n",
    "\n",
    "def upsert_chunks(iterable, batch_size):\n",
    "    it = iter(iterable)\n",
    "    chunk = tuple(itertools.islice(it, batch_size))\n",
    "    while chunk:\n",
    "        yield chunk\n",
    "        chunk = tuple(itertools.islice(it, batch_size))"
   ]
  },
  {
   "cell_type": "code",
   "execution_count": 16,
   "id": "287b306e",
   "metadata": {
    "id": "287b306e"
   },
   "outputs": [],
   "source": [
    "for batch in upsert_chunks(zip(df.core_id.astype(str), df.vectors), 500):\n",
    "    index.upsert(vectors=batch)"
   ]
  },
  {
   "cell_type": "code",
   "execution_count": 17,
   "id": "493efe02",
   "metadata": {
    "colab": {
     "base_uri": "https://localhost:8080/"
    },
    "execution": {
     "iopub.execute_input": "2021-04-22T02:12:47.296348Z",
     "iopub.status.busy": "2021-04-22T02:12:47.295497Z",
     "iopub.status.idle": "2021-04-22T02:12:47.410303Z",
     "shell.execute_reply": "2021-04-22T02:12:47.411487Z"
    },
    "id": "493efe02",
    "outputId": "3ae1a785-c27d-45df-fde8-64e00568d132",
    "papermill": {
     "duration": 0.179983,
     "end_time": "2021-04-22T02:12:47.412093",
     "exception": false,
     "start_time": "2021-04-22T02:12:47.232110",
     "status": "completed"
    },
    "tags": []
   },
   "outputs": [
    {
     "data": {
      "text/plain": [
       "{'dimension': 300,\n",
       " 'index_fullness': 0.02,\n",
       " 'namespaces': {'': {'vector_count': 100000}}}"
      ]
     },
     "execution_count": 17,
     "metadata": {},
     "output_type": "execute_result"
    }
   ],
   "source": [
    "index.describe_index_stats()"
   ]
  },
  {
   "cell_type": "markdown",
   "id": "065632df",
   "metadata": {
    "id": "065632df",
    "papermill": {
     "duration": 0.052509,
     "end_time": "2021-04-22T02:12:47.521808",
     "exception": false,
     "start_time": "2021-04-22T02:12:47.469299",
     "status": "completed"
    },
    "tags": []
   },
   "source": [
    "## Searching for candidates\n",
    "\n",
    "Now that we have created vectors for the articles and inserted them in the index, we will create a test set for querying. For each article in the test set we will query the index to get the most similar articles, they are the candidates on which we will performs the next classification step.\n",
    "\n",
    "Below, we list statistics of the number of duplicates per article in the resulting test set."
   ]
  },
  {
   "cell_type": "code",
   "execution_count": 18,
   "id": "1cc9e04c",
   "metadata": {
    "colab": {
     "base_uri": "https://localhost:8080/"
    },
    "execution": {
     "iopub.execute_input": "2021-04-22T02:12:47.643100Z",
     "iopub.status.busy": "2021-04-22T02:12:47.642392Z",
     "iopub.status.idle": "2021-04-22T02:12:48.113519Z",
     "shell.execute_reply": "2021-04-22T02:12:48.113022Z"
    },
    "id": "1cc9e04c",
    "outputId": "e08db6e1-15c0-4a7d-d036-590ebd245d26",
    "papermill": {
     "duration": 0.542214,
     "end_time": "2021-04-22T02:12:48.113744",
     "exception": false,
     "start_time": "2021-04-22T02:12:47.571530",
     "status": "completed"
    },
    "tags": []
   },
   "outputs": [
    {
     "name": "stdout",
     "output_type": "stream",
     "text": [
      "Number of documents with specified number of duplicates:\n"
     ]
    },
    {
     "data": {
      "text/plain": [
       "0     100\n",
       "1      73\n",
       "2      16\n",
       "3       7\n",
       "4       3\n",
       "5       2\n",
       "6       1\n",
       "7       1\n",
       "8       1\n",
       "9       1\n",
       "10      1\n",
       "11      1\n",
       "12      1\n",
       "13      1\n",
       "Name: labelled_duplicates, dtype: int64"
      ]
     },
     "execution_count": 18,
     "metadata": {},
     "output_type": "execute_result"
    }
   ],
   "source": [
    "# Create a sample from the dataset\n",
    "SAMPLE_FRACTION = 0.002\n",
    "test_documents = (\n",
    "    df.groupby(df[\"labelled_duplicates\"].map(len))\n",
    "    .apply(lambda x: x.head(math.ceil(len(x) * SAMPLE_FRACTION)))\n",
    "    .reset_index(drop=True)\n",
    ")\n",
    "\n",
    "print(\"Number of documents with specified number of duplicates:\")\n",
    "lens = test_documents.labelled_duplicates.apply(len)\n",
    "lens.value_counts()"
   ]
  },
  {
   "cell_type": "code",
   "execution_count": 19,
   "id": "e7845a8f",
   "metadata": {
    "execution": {
     "iopub.execute_input": "2021-04-22T02:12:48.226237Z",
     "iopub.status.busy": "2021-04-22T02:12:48.225063Z",
     "iopub.status.idle": "2021-04-22T02:12:49.951208Z",
     "shell.execute_reply": "2021-04-22T02:12:49.950573Z"
    },
    "id": "e7845a8f",
    "papermill": {
     "duration": 1.784915,
     "end_time": "2021-04-22T02:12:49.951451",
     "exception": false,
     "start_time": "2021-04-22T02:12:48.166536",
     "status": "completed"
    },
    "tags": []
   },
   "outputs": [],
   "source": [
    "# Use the model to create embeddings for test articles, which will be the query vectors\n",
    "query_vectors = model.encode(test_documents.combined_text.to_list()).tolist()"
   ]
  },
  {
   "cell_type": "code",
   "execution_count": 20,
   "id": "83203179",
   "metadata": {
    "execution": {
     "iopub.execute_input": "2021-04-22T02:12:50.092180Z",
     "iopub.status.busy": "2021-04-22T02:12:50.091460Z",
     "iopub.status.idle": "2021-04-22T02:12:52.620395Z",
     "shell.execute_reply": "2021-04-22T02:12:52.619713Z"
    },
    "id": "83203179",
    "papermill": {
     "duration": 2.611295,
     "end_time": "2021-04-22T02:12:52.620658",
     "exception": false,
     "start_time": "2021-04-22T02:12:50.009363",
     "status": "completed"
    },
    "tags": []
   },
   "outputs": [],
   "source": [
    "# Query the vector index\n",
    "\n",
    "query_results = []\n",
    "for xq in query_vectors:\n",
    "    query_res = index.query(xq, top_k=100)\n",
    "    query_results.append(query_res)"
   ]
  },
  {
   "cell_type": "code",
   "execution_count": 21,
   "id": "f07953c6",
   "metadata": {
    "colab": {
     "base_uri": "https://localhost:8080/"
    },
    "execution": {
     "iopub.execute_input": "2021-04-22T02:12:52.740141Z",
     "iopub.status.busy": "2021-04-22T02:12:52.739146Z",
     "iopub.status.idle": "2021-04-22T02:13:01.458234Z",
     "shell.execute_reply": "2021-04-22T02:13:01.457566Z"
    },
    "id": "f07953c6",
    "outputId": "9f11cb5d-5a05-41cf-bf4b-04775c2fbce9",
    "papermill": {
     "duration": 8.784046,
     "end_time": "2021-04-22T02:13:01.458467",
     "exception": false,
     "start_time": "2021-04-22T02:12:52.674421",
     "status": "completed"
    },
    "tags": []
   },
   "outputs": [
    {
     "name": "stderr",
     "output_type": "stream",
     "text": [
      "100%|██████████| 209/209 [00:01<00:00, 117.69it/s]\n"
     ]
    }
   ],
   "source": [
    "# Save all retrieval recalls into a list\n",
    "recalls = []\n",
    "\n",
    "for id, res in tqdm(list(zip(test_documents.core_id.values, query_results))):\n",
    "\n",
    "    # Find document with id in labelled dataset\n",
    "    labeled_df = df[df.core_id == str(id)]\n",
    "\n",
    "    # Calculate the retrieval recall\n",
    "    top_k_list = set([match.id for match in res.matches])\n",
    "    labelled_duplicates = set(labeled_df.labelled_duplicates.values[0])\n",
    "    intersection = top_k_list.intersection(labelled_duplicates)\n",
    "    if len(labelled_duplicates) != 0:\n",
    "        recalls.append(len(intersection) / len(labelled_duplicates))"
   ]
  },
  {
   "cell_type": "code",
   "execution_count": 22,
   "id": "e96d8971",
   "metadata": {
    "colab": {
     "base_uri": "https://localhost:8080/"
    },
    "id": "e96d8971",
    "outputId": "fe8c7b33-6c1e-4c0d-d905-a1964965f75a"
   },
   "outputs": [
    {
     "name": "stdout",
     "output_type": "stream",
     "text": [
      "Mean for the retrieval recall is 0.9702529886016125\n",
      "Standard Deviation is  0.16219287104729735\n"
     ]
    }
   ],
   "source": [
    "print(\"Mean for the retrieval recall is \" + str(statistics.mean(recalls)))\n",
    "print(\"Standard Deviation is  \" + str(statistics.stdev(recalls)))"
   ]
  },
  {
   "cell_type": "markdown",
   "id": "53ab548f",
   "metadata": {
    "id": "53ab548f",
    "papermill": {
     "duration": 0.09082,
     "end_time": "2021-04-22T02:13:01.816697",
     "exception": false,
     "start_time": "2021-04-22T02:13:01.725877",
     "status": "completed"
    },
    "tags": []
   },
   "source": [
    "### Running the Classifier \n",
    "\n",
    "We mentioned earlier in the article that we will perform two steps for deduplication, searching to produce candidates and performing classifciation on them.\n",
    "\n",
    "We will use Deduplication Classifier based on [LSH](https://en.wikipedia.org/wiki/Locality-sensitive_hashing) for detecting duplicates on the results from the previous step. We will run this on a sample of query results we got in the previous step. Feel free to try out the results on the entire set of query results."
   ]
  },
  {
   "cell_type": "code",
   "execution_count": 23,
   "id": "dc1598e5",
   "metadata": {
    "colab": {
     "base_uri": "https://localhost:8080/"
    },
    "execution": {
     "iopub.execute_input": "2021-04-22T02:13:02.050446Z",
     "iopub.status.busy": "2021-04-22T02:13:02.044348Z",
     "iopub.status.idle": "2021-04-22T02:14:32.677471Z",
     "shell.execute_reply": "2021-04-22T02:14:32.676470Z"
    },
    "id": "dc1598e5",
    "outputId": "aa84cd04-13a6-4c99-a902-2ea786a5aa6a",
    "papermill": {
     "duration": 90.772565,
     "end_time": "2021-04-22T02:14:32.677767",
     "exception": false,
     "start_time": "2021-04-22T02:13:01.905202",
     "status": "completed"
    },
    "scrolled": true,
    "tags": []
   },
   "outputs": [
    {
     "name": "stdout",
     "output_type": "stream",
     "text": [
      "         id                                           document     score\n",
      "0  15080768  analyse centred methodology. discretisation so...  1.000000\n",
      "1  52900859  audiencethe tissues pulses modelled compartmen...  0.787797\n",
      "2  52682462  audiencethe tissues pulses modelled compartmen...  0.787797\n",
      "3   2553555  multilayered illuminated acoustic electromagne...  0.781398\n",
      "4  48261378  heterostructure schr dinger poisson numericall...  0.778778\n",
      "15080768: expected: [], predicted: [], prediction: Correct\n",
      "          id                                           document     score\n",
      "0   55110306  latrepirdine orally administered molecule init...  1.000000\n",
      "1  188404434  cysteamine potentially numerous huntington dis...  0.903964\n",
      "2   81634102  deutetrabenazine molecule deuterium attenuates...  0.880078\n",
      "3   42021224  comorbidities. safe drugs available. efficacy ...  0.857741\n",
      "4   78271101  promising prevent onset ultrahigh psychosis di...  0.849158\n",
      "55110306: expected: [], predicted: [], prediction: Correct\n",
      "         id                                           document     score\n",
      "0  10914205  read objectives schoolchildren sunscreen morni...  1.000000\n",
      "1  77409456  overeating harmful alcohol tobacco aetiology c...  0.669037\n",
      "2  10896024  sunlight cutaneous vitamin production. highlig...  0.633516\n",
      "3  15070865  drink heavily nonstudent peers unaware drinkin...  0.633497\n",
      "4  52131855  dette siste tekst versjon artikkelen inneholde...  0.627933\n",
      "10914205: expected: [], predicted: [], prediction: Correct\n",
      "         id                                           document     score\n",
      "0  43096919  publishedcomparative studymulticenter tcontext...  1.000000\n",
      "1  77165332  cerebral amyloid aggregation pathological alzh...  0.871247\n",
      "2  70343569  neurodegenerative heterogeneous disorders prog...  0.867806\n",
      "3  18448676  beta amyloid beta deposition hallmarks alzheim...  0.855655\n",
      "4  46964510  alzheimer unexplained. sought loci detect robu...  0.855137\n",
      "43096919: expected: [], predicted: [], prediction: Correct\n",
      "         id                                           document     score\n",
      "0  12203626  hypernatremia recipients homografts postoperat...  1.000000\n",
      "1  82542813  abstractobjectivesto intravenous maintenance f...  0.800283\n",
      "2  81206306  uromodulin tamm–horsfall abundant excreted uri...  0.794892\n",
      "3  36026525  drinking sodium bicarbonated mineral cardiovas...  0.793452\n",
      "4  83567081  drinking sodium bicarbonated mineral cardiovas...  0.793252\n",
      "12203626: expected: [], predicted: [], prediction: Correct\n",
      "          id                                           document     score\n",
      "0   15070865  drink heavily nonstudent peers unaware drinkin...  1.000000\n",
      "1  154671698  updated alcohol suicidal level. searches retri...  0.889408\n",
      "2   52132897  updated alcohol suicidal level. searches retri...  0.889408\n",
      "3   43606482  fulltext .pdf publisher effectiveness drinking...  0.883402\n",
      "4   82484980  abstractthe effectiveness drinking motive tail...  0.883145\n",
      "15070865: expected: [], predicted: [], prediction: Correct\n",
      "          id                                           document     score\n",
      "0   80341690  potentially inappropriate medicines pims older...  1.000000\n",
      "1   39320843  elderly receive medications adverse effects. e...  0.807533\n",
      "2   82162292  abstractbackgroundrisk assessments widely pred...  0.780006\n",
      "3   77027179  assessments widely predict opioid disorder unc...  0.779406\n",
      "4  153514317  yesbackground challenging person dementia. beh...  0.757255\n",
      "80341690: expected: [], predicted: [], prediction: Correct\n",
      "         id                                           document     score\n",
      "0   9066821  commotio retinae opacification retina blunt oc...  1.000000\n",
      "1  78051578  neovascular macular degeneration anti–vascular...  0.731147\n",
      "2  86422032  automated lesions challenging diagnostic lesio...  0.703925\n",
      "3  48174418  audiencewe propose voxelwise images. relies ge...  0.699708\n",
      "4  52434306  audiencewe propose voxelwise images. relies ge...  0.699708\n",
      "9066821: expected: [], predicted: [], prediction: Correct\n",
      "          id                                           document     score\n",
      "0   15052827  indirect schizophrenia australia incidence cos...  1.000000\n",
      "1  154860392  illness schizophrenia bipolar disorder depress...  0.795662\n",
      "2   51964867  audiencebackground cholesterol lowering jupite...  0.791904\n",
      "3   75913230  thesis characterize burden cardiovascular deme...  0.775635\n",
      "4  154672015  aims depression anxiety myocardial infarction ...  0.765936\n",
      "15052827: expected: [], predicted: [], prediction: Correct\n",
      "         id                                           document     score\n",
      "0  12203661  glomerulonephritis serious hemoptysis. antiglo...  1.000000\n",
      "1  12204810  twenty alagille syndrome underwent transplanta...  0.811871\n",
      "2  52198725  audiencepatients autoimmune polyendocrine synd...  0.810457\n",
      "3  47112592  audiencepatients autoimmune polyendocrine synd...  0.810457\n",
      "4  52460385  audiencepatients autoimmune polyendocrine synd...  0.810457\n",
      "12203661: expected: [], predicted: [], prediction: Correct\n",
      "         id                                           document     score\n",
      "0  11251086  unobstructed vision refractive lens differenti...  1.000000\n",
      "1  82332306  unobstructed vision refractive lens differenti...  1.000000\n",
      "2  61371524  aims osmotic oxidative progression advancement...  0.839048\n",
      "3  59036307  aims osmotic oxidative progression advancement...  0.839048\n",
      "4  11249430  dysfunction cilia nearly ubiquitously solitary...  0.796622\n",
      "11251086: expected: ['82332306'], predicted: ['82332306'], prediction: Correct\n",
      "          id                                           document     score\n",
      "0   12001088  presents vision successfully discriminates wee...  1.000000\n",
      "1  148662402  presents vision successfully discriminates wee...  1.000000\n",
      "2  148666025  proposes oriented crop maize weed pressure. vi...  0.904243\n",
      "3   18424329  proposes oriented crop maize weed pressure. vi...  0.904243\n",
      "4   18424394  proposes oriented identifying crop rows maize ...  0.861464\n",
      "12001088: expected: ['148662402'], predicted: ['148662402'], prediction: Correct\n",
      "          id                                           document     score\n",
      "0   11307919  reflectance exciton–polariton film polycrystal...  1.000000\n",
      "1  147595688  reflectance exciton–polariton film polycrystal...  1.000000\n",
      "2  147595695  photoluminescence reflectance oriented polycry...  0.816958\n",
      "3   11307922  photoluminescence reflectance oriented polycry...  0.816958\n",
      "4   33106913  macroscopic dielectric polycrystalline commonl...  0.804686\n",
      "147595688: expected: ['11307919'], predicted: ['11307919'], prediction: Correct\n",
      "          id                                           document     score\n",
      "0   12002296  thanks inherent probabilistic graphical prime ...  1.000000\n",
      "1  148663921  thanks inherent probabilistic graphical prime ...  1.000000\n",
      "2   52634130  audienceobject oriented brms platform automati...  0.869993\n",
      "3   52294731  audienceobject oriented brms platform automati...  0.869993\n",
      "4   34403460  acceptance artificial intelligence aims learn ...  0.865814\n",
      "148663921: expected: ['12002296'], predicted: ['12002296'], prediction: Correct\n",
      "          id                                           document     score\n",
      "0  151641478  stabilised soems unstable aircraft presented. ...  1.000000\n",
      "1   11874260  stabilised soems unstable aircraft presented. ...  1.000000\n",
      "2   29528077  projection snapshot balanced truncation unstab...  0.724496\n",
      "3   77005252  projection snapshot balanced truncation unstab...  0.724496\n",
      "4  148663435  ideas robust computationally amenable industri...  0.722027\n",
      "151641478: expected: ['11874260'], predicted: ['11874260'], prediction: Correct\n",
      "          id                                           document     score\n",
      "0  188365084  installed rapidly decade deployments deeper wa...  1.000000\n",
      "1  158351487  installed rapidly decade deployments deeper wa...  1.000000\n",
      "2  158370190  offshore turbine reliability biggest paper. un...  0.853790\n",
      "3   83926778  offshore turbine reliability biggest paper. un...  0.853790\n",
      "4   74226591  investigates overruns underruns occurring onsh...  0.834363\n",
      "188365084: expected: ['158351487'], predicted: ['158351487'], prediction: Correct\n",
      "         id                                           document     score\n",
      "0   9030380  propose vulnerability network. analogy balls l...  1.000000\n",
      "1   2097371  propose vulnerability network. analogy balls l...  1.000000\n",
      "2  49270269  audiencethis introduces validates sensor propa...  0.754055\n",
      "3  43094896  peer reviewed brownjohn displacement sensor co...  0.745553\n",
      "4  49271868  audiencea predictive giving displacement digit...  0.734554\n",
      "2097371: expected: ['9030380'], predicted: ['9030380'], prediction: Correct\n",
      "          id                                           document     score\n",
      "0   33176265  race segments swimmers. analysed finals sessio...  1.000000\n",
      "1  148674298  race segments swimmers. analysed finals sessio...  1.000000\n",
      "2  148674300  swimming race parameters. hundred fifty eight ...  0.886608\n",
      "3   33176267  swimming race parameters. hundred fifty eight ...  0.886608\n",
      "4  143900637  swimmers swimmers coaches trainers. video sens...  0.736030\n",
      "33176265: expected: ['148674298'], predicted: ['148674298'], prediction: Correct\n",
      "         id                                           document     score\n",
      "0  52844591  audiencehere geochemical lopevi volcano volcan...  1.000000\n",
      "1  52308905  audiencehere geochemical lopevi volcano volcan...  1.000000\n",
      "2  52722823  audiencehere geochemical lopevi volcano volcan...  1.000000\n",
      "3  52717537  audiencethe volcanism cameroon volcanic mantle...  0.893717\n",
      "4  52840980  audiencethe volcanism cameroon volcanic mantle...  0.893717\n",
      "52308905: expected: ['52722823', '52844591'], predicted: ['52844591', '52722823'], prediction: Correct\n",
      "         id                                           document     score\n",
      "0  44119402  lagrangian formalism supermembrane supergravit...  1.000000\n",
      "1  35093363  lagrangian formalism supermembrane supergravit...  1.000000\n",
      "2   2531039  lagrangian formalism supermembrane supergravit...  1.000000\n",
      "3  35078501  lagrangian formalism supermembrane supergravit...  1.000000\n",
      "4  35089833  supergravity correlators worldsheet analogous ...  0.847565\n",
      "44119402: expected: ['2531039', '35078501', '35093363'], predicted: ['35093363', '35078501', '2531039'], prediction: Correct\n",
      "          id                                           document  score\n",
      "0   52695218  microlensing surveys tens millions stars. unpr...    1.0\n",
      "1   52456923  microlensing surveys tens millions stars. unpr...    1.0\n",
      "2  152091185  microlensing surveys tens millions stars. unpr...    1.0\n",
      "3   46770666  microlensing surveys tens millions stars. unpr...    1.0\n",
      "4   52739626  microlensing surveys tens millions stars. unpr...    1.0\n",
      "47110549: expected: ['46770666', '52456923', '152091185', '52695218', '52739626'], predicted: ['52695218', '152091185', '46770666', '52739626', '52456923'], prediction: Correct\n"
     ]
    }
   ],
   "source": [
    "# Counters for correct/false predictions\n",
    "all_predictions = {\"Correct\": 0, \"False\": 0}\n",
    "predictions_per_category = {}\n",
    "\n",
    "# From the results in the previous step, we will take a subset to test our classifier\n",
    "query_sample = query_results[::10]\n",
    "ids_sample = test_documents.core_id.to_list()[::10]\n",
    "\n",
    "for id, res in zip(ids_sample, query_sample):\n",
    "    \n",
    "    # Find document with id from the labelled dataset\n",
    "    labeled_df = df[df.core_id == str(id)]\n",
    "\n",
    "    \"\"\"\n",
    "    For every article in the result set, we store the scores and abstract of the articles most similar \n",
    "    to it, according to search in the previous step.\n",
    "    \"\"\"\n",
    "\n",
    "    df_result = pd.DataFrame(\n",
    "        {\n",
    "            \"id\": [match.id for match in res.matches],\n",
    "            \"document\": [\n",
    "                df[df.core_id == _id].processed_abstract.values[0] for _id in  [match.id for match in res.matches]\n",
    "            ],\n",
    "            \"score\": [match.score for match in res.matches],\n",
    "        }\n",
    "    )\n",
    "\n",
    "    print(df_result.head())\n",
    "\n",
    "    # We need content and labels for our classifier which we can get from the df_results\n",
    "    content = df_result.document.values\n",
    "    labels = list(df_result.id.values)\n",
    "    \n",
    "    # Create MinHash for each of the documents in result set\n",
    "    min_hashes = {}\n",
    "    for label, text in zip(labels, content):\n",
    "        m = MinHash(num_perm=128, seed=5)\n",
    "        tokens = set(tokenize(text))\n",
    "        for d in tokens:\n",
    "            m.update(d.encode('utf8'))\n",
    "        min_hashes[label] = m\n",
    "    \n",
    "    # Create LSH index\n",
    "    lsh = MinHashLSH(threshold=0.7, num_perm=128, )\n",
    "    for i, j in min_hashes.items():\n",
    "        lsh.insert(str(i), j)\n",
    "    \n",
    "    query_minhash = min_hashes[id]\n",
    "    duplicates = lsh.query(query_minhash)\n",
    "    duplicates.remove(str(id))\n",
    "    \n",
    "    # Check whether prediction matches labeled duplicates. Here the groud truth is the set of duplicates from our original set\n",
    "    prediction = (\n",
    "        \"Correct\"\n",
    "        if set(labeled_df.labelled_duplicates.values[0]) == set(duplicates)\n",
    "        else \"False\"\n",
    "    )\n",
    "    \n",
    "    # Add to all predictions\n",
    "    all_predictions[prediction] += 1\n",
    "    \n",
    "    # Create and/or add to the specific category based on number of duplicates in original dataset\n",
    "    num_of_duplicates = len(labeled_df.labelled_duplicates.values[0])\n",
    "    if num_of_duplicates not in predictions_per_category:\n",
    "        predictions_per_category[num_of_duplicates] = [0, 0]\n",
    "\n",
    "    if prediction == \"Correct\":\n",
    "        predictions_per_category[num_of_duplicates][0] += 1\n",
    "    else:\n",
    "        predictions_per_category[num_of_duplicates][1] += 1\n",
    "\n",
    "    # Print the results for a document\n",
    "    print(\n",
    "        \"{}: expected: {}, predicted: {}, prediction: {}\".format(\n",
    "            id, labeled_df.labelled_duplicates.values[0], duplicates, prediction\n",
    "        )\n",
    "    )"
   ]
  },
  {
   "cell_type": "code",
   "execution_count": 24,
   "id": "d766dd65",
   "metadata": {
    "colab": {
     "base_uri": "https://localhost:8080/"
    },
    "execution": {
     "iopub.execute_input": "2021-04-22T02:14:32.857251Z",
     "iopub.status.busy": "2021-04-22T02:14:32.856288Z",
     "iopub.status.idle": "2021-04-22T02:14:32.861750Z",
     "shell.execute_reply": "2021-04-22T02:14:32.861256Z"
    },
    "id": "d766dd65",
    "outputId": "06a939cb-7432-423b-9ca4-786ce17e8e59",
    "papermill": {
     "duration": 0.096165,
     "end_time": "2021-04-22T02:14:32.862012",
     "exception": false,
     "start_time": "2021-04-22T02:14:32.765847",
     "status": "completed"
    },
    "tags": []
   },
   "outputs": [
    {
     "data": {
      "text/plain": [
       "{'Correct': 21, 'False': 0}"
      ]
     },
     "execution_count": 24,
     "metadata": {},
     "output_type": "execute_result"
    }
   ],
   "source": [
    "all_predictions"
   ]
  },
  {
   "cell_type": "code",
   "execution_count": 25,
   "id": "3409a3ea",
   "metadata": {
    "colab": {
     "base_uri": "https://localhost:8080/"
    },
    "execution": {
     "iopub.execute_input": "2021-04-22T02:14:33.055276Z",
     "iopub.status.busy": "2021-04-22T02:14:33.054518Z",
     "iopub.status.idle": "2021-04-22T02:14:33.058735Z",
     "shell.execute_reply": "2021-04-22T02:14:33.059277Z"
    },
    "id": "3409a3ea",
    "outputId": "b441bc59-2590-4f40-93ce-75dc1f34ff0d",
    "papermill": {
     "duration": 0.104606,
     "end_time": "2021-04-22T02:14:33.059554",
     "exception": false,
     "start_time": "2021-04-22T02:14:32.954948",
     "status": "completed"
    },
    "tags": []
   },
   "outputs": [
    {
     "data": {
      "text/plain": [
       "1.0"
      ]
     },
     "execution_count": 25,
     "metadata": {},
     "output_type": "execute_result"
    }
   ],
   "source": [
    "# Overall accuracy on a test\n",
    "accuracy = round(\n",
    "    all_predictions[\"Correct\"]\n",
    "    / (all_predictions[\"Correct\"] + all_predictions[\"False\"]),\n",
    "    4,\n",
    ")\n",
    "accuracy"
   ]
  },
  {
   "cell_type": "code",
   "execution_count": 26,
   "id": "f8a4409a",
   "metadata": {
    "colab": {
     "base_uri": "https://localhost:8080/",
     "height": 206
    },
    "execution": {
     "iopub.execute_input": "2021-04-22T02:14:33.246635Z",
     "iopub.status.busy": "2021-04-22T02:14:33.245566Z",
     "iopub.status.idle": "2021-04-22T02:14:33.249576Z",
     "shell.execute_reply": "2021-04-22T02:14:33.249984Z"
    },
    "id": "f8a4409a",
    "outputId": "07a22817-f52b-4d1d-b80e-12f6a05f1c68",
    "papermill": {
     "duration": 0.103948,
     "end_time": "2021-04-22T02:14:33.250325",
     "exception": false,
     "start_time": "2021-04-22T02:14:33.146377",
     "status": "completed"
    },
    "tags": []
   },
   "outputs": [
    {
     "data": {
      "text/html": [
       "\n",
       "  <div id=\"df-968d325f-7f51-4273-bea3-22446ba6355a\">\n",
       "    <div class=\"colab-df-container\">\n",
       "      <div>\n",
       "<style scoped>\n",
       "    .dataframe tbody tr th:only-of-type {\n",
       "        vertical-align: middle;\n",
       "    }\n",
       "\n",
       "    .dataframe tbody tr th {\n",
       "        vertical-align: top;\n",
       "    }\n",
       "\n",
       "    .dataframe thead th {\n",
       "        text-align: right;\n",
       "    }\n",
       "</style>\n",
       "<table border=\"1\" class=\"dataframe\">\n",
       "  <thead>\n",
       "    <tr style=\"text-align: right;\">\n",
       "      <th></th>\n",
       "      <th>Correct</th>\n",
       "      <th>False</th>\n",
       "    </tr>\n",
       "  </thead>\n",
       "  <tbody>\n",
       "    <tr>\n",
       "      <th>0</th>\n",
       "      <td>10</td>\n",
       "      <td>0</td>\n",
       "    </tr>\n",
       "    <tr>\n",
       "      <th>1</th>\n",
       "      <td>8</td>\n",
       "      <td>0</td>\n",
       "    </tr>\n",
       "    <tr>\n",
       "      <th>2</th>\n",
       "      <td>1</td>\n",
       "      <td>0</td>\n",
       "    </tr>\n",
       "    <tr>\n",
       "      <th>3</th>\n",
       "      <td>1</td>\n",
       "      <td>0</td>\n",
       "    </tr>\n",
       "    <tr>\n",
       "      <th>5</th>\n",
       "      <td>1</td>\n",
       "      <td>0</td>\n",
       "    </tr>\n",
       "  </tbody>\n",
       "</table>\n",
       "</div>\n",
       "      <button class=\"colab-df-convert\" onclick=\"convertToInteractive('df-968d325f-7f51-4273-bea3-22446ba6355a')\"\n",
       "              title=\"Convert this dataframe to an interactive table.\"\n",
       "              style=\"display:none;\">\n",
       "        \n",
       "  <svg xmlns=\"http://www.w3.org/2000/svg\" height=\"24px\"viewBox=\"0 0 24 24\"\n",
       "       width=\"24px\">\n",
       "    <path d=\"M0 0h24v24H0V0z\" fill=\"none\"/>\n",
       "    <path d=\"M18.56 5.44l.94 2.06.94-2.06 2.06-.94-2.06-.94-.94-2.06-.94 2.06-2.06.94zm-11 1L8.5 8.5l.94-2.06 2.06-.94-2.06-.94L8.5 2.5l-.94 2.06-2.06.94zm10 10l.94 2.06.94-2.06 2.06-.94-2.06-.94-.94-2.06-.94 2.06-2.06.94z\"/><path d=\"M17.41 7.96l-1.37-1.37c-.4-.4-.92-.59-1.43-.59-.52 0-1.04.2-1.43.59L10.3 9.45l-7.72 7.72c-.78.78-.78 2.05 0 2.83L4 21.41c.39.39.9.59 1.41.59.51 0 1.02-.2 1.41-.59l7.78-7.78 2.81-2.81c.8-.78.8-2.07 0-2.86zM5.41 20L4 18.59l7.72-7.72 1.47 1.35L5.41 20z\"/>\n",
       "  </svg>\n",
       "      </button>\n",
       "      \n",
       "  <style>\n",
       "    .colab-df-container {\n",
       "      display:flex;\n",
       "      flex-wrap:wrap;\n",
       "      gap: 12px;\n",
       "    }\n",
       "\n",
       "    .colab-df-convert {\n",
       "      background-color: #E8F0FE;\n",
       "      border: none;\n",
       "      border-radius: 50%;\n",
       "      cursor: pointer;\n",
       "      display: none;\n",
       "      fill: #1967D2;\n",
       "      height: 32px;\n",
       "      padding: 0 0 0 0;\n",
       "      width: 32px;\n",
       "    }\n",
       "\n",
       "    .colab-df-convert:hover {\n",
       "      background-color: #E2EBFA;\n",
       "      box-shadow: 0px 1px 2px rgba(60, 64, 67, 0.3), 0px 1px 3px 1px rgba(60, 64, 67, 0.15);\n",
       "      fill: #174EA6;\n",
       "    }\n",
       "\n",
       "    [theme=dark] .colab-df-convert {\n",
       "      background-color: #3B4455;\n",
       "      fill: #D2E3FC;\n",
       "    }\n",
       "\n",
       "    [theme=dark] .colab-df-convert:hover {\n",
       "      background-color: #434B5C;\n",
       "      box-shadow: 0px 1px 3px 1px rgba(0, 0, 0, 0.15);\n",
       "      filter: drop-shadow(0px 1px 2px rgba(0, 0, 0, 0.3));\n",
       "      fill: #FFFFFF;\n",
       "    }\n",
       "  </style>\n",
       "\n",
       "      <script>\n",
       "        const buttonEl =\n",
       "          document.querySelector('#df-968d325f-7f51-4273-bea3-22446ba6355a button.colab-df-convert');\n",
       "        buttonEl.style.display =\n",
       "          google.colab.kernel.accessAllowed ? 'block' : 'none';\n",
       "\n",
       "        async function convertToInteractive(key) {\n",
       "          const element = document.querySelector('#df-968d325f-7f51-4273-bea3-22446ba6355a');\n",
       "          const dataTable =\n",
       "            await google.colab.kernel.invokeFunction('convertToInteractive',\n",
       "                                                     [key], {});\n",
       "          if (!dataTable) return;\n",
       "\n",
       "          const docLinkHtml = 'Like what you see? Visit the ' +\n",
       "            '<a target=\"_blank\" href=https://colab.research.google.com/notebooks/data_table.ipynb>data table notebook</a>'\n",
       "            + ' to learn more about interactive tables.';\n",
       "          element.innerHTML = '';\n",
       "          dataTable['output_type'] = 'display_data';\n",
       "          await google.colab.output.renderOutput(dataTable, element);\n",
       "          const docLink = document.createElement('div');\n",
       "          docLink.innerHTML = docLinkHtml;\n",
       "          element.appendChild(docLink);\n",
       "        }\n",
       "      </script>\n",
       "    </div>\n",
       "  </div>\n",
       "  "
      ],
      "text/plain": [
       "   Correct  False\n",
       "0       10      0\n",
       "1        8      0\n",
       "2        1      0\n",
       "3        1      0\n",
       "5        1      0"
      ]
     },
     "execution_count": 26,
     "metadata": {},
     "output_type": "execute_result"
    }
   ],
   "source": [
    "# Print the prediction count for each class depending on the number of duplicates in labeled dataset\n",
    "pd.DataFrame.from_dict(\n",
    "    predictions_per_category, orient=\"index\", columns=[\"Correct\", \"False\"]\n",
    ")"
   ]
  },
  {
   "cell_type": "markdown",
   "id": "88377277",
   "metadata": {
    "id": "88377277",
    "papermill": {
     "duration": 0.087503,
     "end_time": "2021-04-22T02:14:33.422505",
     "exception": false,
     "start_time": "2021-04-22T02:14:33.335002",
     "status": "completed"
    },
    "tags": []
   },
   "source": [
    "## Delete the Index\n",
    "Delete the index once you are sure that you do not want to use it anymore. Once the index is deleted, you cannot use it again.\n",
    "\n"
   ]
  },
  {
   "cell_type": "code",
   "execution_count": null,
   "id": "418a418c",
   "metadata": {
    "execution": {
     "iopub.execute_input": "2021-04-22T02:14:33.605454Z",
     "iopub.status.busy": "2021-04-22T02:14:33.604373Z",
     "iopub.status.idle": "2021-04-22T02:14:46.426401Z",
     "shell.execute_reply": "2021-04-22T02:14:46.427265Z"
    },
    "id": "418a418c",
    "papermill": {
     "duration": 12.913733,
     "end_time": "2021-04-22T02:14:46.427686",
     "exception": false,
     "start_time": "2021-04-22T02:14:33.513953",
     "status": "completed"
    },
    "tags": []
   },
   "outputs": [],
   "source": [
    "# Delete the index if it's not going to be used anymore\n",
    "pinecone.delete_index(index_name)"
   ]
  },
  {
   "cell_type": "markdown",
   "id": "f2280d6e",
   "metadata": {
    "id": "f2280d6e",
    "papermill": {
     "duration": 0.096714,
     "end_time": "2021-04-22T02:14:46.625379",
     "exception": false,
     "start_time": "2021-04-22T02:14:46.528665",
     "status": "completed"
    },
    "tags": []
   },
   "source": [
    "## Summary\n",
    "\n",
    "In this notebook we demonstrate how to perform a deduplication task of over 100,000 articles using Pinecone. With articles embedded as vectors, you can use Pinecone's vector index to find similar articles. For each query article, we then use an LSH classifier on the similar articles to identify duplicate articles. Overall, we show that it is ease to incorporate Pinecone wtih article embedding models and duplication classifiers to build a deduplication service.\n"
   ]
  }
 ],
 "metadata": {
  "accelerator": "GPU",
  "colab": {
   "collapsed_sections": [],
   "name": "deduplication_scholarly_articles.ipynb",
   "provenance": []
  },
  "environment": {
   "name": "tf2-gpu.2-4.m61",
   "type": "gcloud",
   "uri": "gcr.io/deeplearning-platform-release/tf2-gpu.2-4:m61"
  },
  "kernelspec": {
   "display_name": "Python 3",
   "language": "python",
   "name": "python3"
  },
  "language_info": {
   "codemirror_mode": {
    "name": "ipython",
    "version": 3
   },
   "file_extension": ".py",
   "mimetype": "text/x-python",
   "name": "python",
   "nbconvert_exporter": "python",
   "pygments_lexer": "ipython3",
   "version": "3.8.5"
  },
  "papermill": {
   "default_parameters": {},
   "duration": 542.747435,
   "end_time": "2021-04-22T02:14:49.477923",
   "environment_variables": {},
   "exception": null,
   "input_path": "/notebooks/deduplication/deduplication_scholarly_articles.ipynb",
   "output_path": "/notebooks/tmp/deduplication/deduplication_scholarly_articles.ipynb",
   "parameters": {},
   "start_time": "2021-04-22T02:05:46.730488",
   "version": "2.3.3"
  },
  "widgets": {
   "application/vnd.jupyter.widget-state+json": {
    "006af2414bff44f1acaec35ef7055e6c": {
     "model_module": "@jupyter-widgets/controls",
     "model_module_version": "1.5.0",
     "model_name": "DescriptionStyleModel",
     "state": {
      "_model_module": "@jupyter-widgets/controls",
      "_model_module_version": "1.5.0",
      "_model_name": "DescriptionStyleModel",
      "_view_count": null,
      "_view_module": "@jupyter-widgets/base",
      "_view_module_version": "1.2.0",
      "_view_name": "StyleView",
      "description_width": ""
     }
    },
    "0275f810773d49beb5ce31f53be7648c": {
     "model_module": "@jupyter-widgets/controls",
     "model_module_version": "1.5.0",
     "model_name": "HBoxModel",
     "state": {
      "_dom_classes": [],
      "_model_module": "@jupyter-widgets/controls",
      "_model_module_version": "1.5.0",
      "_model_name": "HBoxModel",
      "_view_count": null,
      "_view_module": "@jupyter-widgets/controls",
      "_view_module_version": "1.5.0",
      "_view_name": "HBoxView",
      "box_style": "",
      "children": [
       "IPY_MODEL_0db763411dec4bc28c9cc8f88ce75671",
       "IPY_MODEL_19c8cef661d64620a1e4e295aea0a626",
       "IPY_MODEL_4a3567b856154518b2bd21164c70c78d"
      ],
      "layout": "IPY_MODEL_f0c8f0851c794dd688c745b5305b6e9c"
     }
    },
    "03d99bb50e7f4d05bc1eaf9357605edc": {
     "model_module": "@jupyter-widgets/controls",
     "model_module_version": "1.5.0",
     "model_name": "ProgressStyleModel",
     "state": {
      "_model_module": "@jupyter-widgets/controls",
      "_model_module_version": "1.5.0",
      "_model_name": "ProgressStyleModel",
      "_view_count": null,
      "_view_module": "@jupyter-widgets/base",
      "_view_module_version": "1.2.0",
      "_view_name": "StyleView",
      "bar_color": null,
      "description_width": ""
     }
    },
    "0b9672702af040f3b1185fb523e19fdb": {
     "model_module": "@jupyter-widgets/base",
     "model_module_version": "1.2.0",
     "model_name": "LayoutModel",
     "state": {
      "_model_module": "@jupyter-widgets/base",
      "_model_module_version": "1.2.0",
      "_model_name": "LayoutModel",
      "_view_count": null,
      "_view_module": "@jupyter-widgets/base",
      "_view_module_version": "1.2.0",
      "_view_name": "LayoutView",
      "align_content": null,
      "align_items": null,
      "align_self": null,
      "border": null,
      "bottom": null,
      "display": null,
      "flex": null,
      "flex_flow": null,
      "grid_area": null,
      "grid_auto_columns": null,
      "grid_auto_flow": null,
      "grid_auto_rows": null,
      "grid_column": null,
      "grid_gap": null,
      "grid_row": null,
      "grid_template_areas": null,
      "grid_template_columns": null,
      "grid_template_rows": null,
      "height": null,
      "justify_content": null,
      "justify_items": null,
      "left": null,
      "margin": null,
      "max_height": null,
      "max_width": null,
      "min_height": null,
      "min_width": null,
      "object_fit": null,
      "object_position": null,
      "order": null,
      "overflow": null,
      "overflow_x": null,
      "overflow_y": null,
      "padding": null,
      "right": null,
      "top": null,
      "visibility": null,
      "width": null
     }
    },
    "0db763411dec4bc28c9cc8f88ce75671": {
     "model_module": "@jupyter-widgets/controls",
     "model_module_version": "1.5.0",
     "model_name": "HTMLModel",
     "state": {
      "_dom_classes": [],
      "_model_module": "@jupyter-widgets/controls",
      "_model_module_version": "1.5.0",
      "_model_name": "HTMLModel",
      "_view_count": null,
      "_view_module": "@jupyter-widgets/controls",
      "_view_module_version": "1.5.0",
      "_view_name": "HTMLView",
      "description": "",
      "description_tooltip": null,
      "layout": "IPY_MODEL_252609d8eb0a4f08b739f40028e80e05",
      "placeholder": "​",
      "style": "IPY_MODEL_134830c4f2f84a8e8d2857b42644d14e",
      "value": "Downloading: 100%"
     }
    },
    "0ee37515ffde470d992eef2381634be6": {
     "model_module": "@jupyter-widgets/controls",
     "model_module_version": "1.5.0",
     "model_name": "ProgressStyleModel",
     "state": {
      "_model_module": "@jupyter-widgets/controls",
      "_model_module_version": "1.5.0",
      "_model_name": "ProgressStyleModel",
      "_view_count": null,
      "_view_module": "@jupyter-widgets/base",
      "_view_module_version": "1.2.0",
      "_view_name": "StyleView",
      "bar_color": null,
      "description_width": ""
     }
    },
    "0f2df641e45d4cedb4c245f7ed3ac034": {
     "model_module": "@jupyter-widgets/base",
     "model_module_version": "1.2.0",
     "model_name": "LayoutModel",
     "state": {
      "_model_module": "@jupyter-widgets/base",
      "_model_module_version": "1.2.0",
      "_model_name": "LayoutModel",
      "_view_count": null,
      "_view_module": "@jupyter-widgets/base",
      "_view_module_version": "1.2.0",
      "_view_name": "LayoutView",
      "align_content": null,
      "align_items": null,
      "align_self": null,
      "border": null,
      "bottom": null,
      "display": null,
      "flex": null,
      "flex_flow": null,
      "grid_area": null,
      "grid_auto_columns": null,
      "grid_auto_flow": null,
      "grid_auto_rows": null,
      "grid_column": null,
      "grid_gap": null,
      "grid_row": null,
      "grid_template_areas": null,
      "grid_template_columns": null,
      "grid_template_rows": null,
      "height": null,
      "justify_content": null,
      "justify_items": null,
      "left": null,
      "margin": null,
      "max_height": null,
      "max_width": null,
      "min_height": null,
      "min_width": null,
      "object_fit": null,
      "object_position": null,
      "order": null,
      "overflow": null,
      "overflow_x": null,
      "overflow_y": null,
      "padding": null,
      "right": null,
      "top": null,
      "visibility": null,
      "width": null
     }
    },
    "1048ced32fe24955840eb1d779188782": {
     "model_module": "@jupyter-widgets/controls",
     "model_module_version": "1.5.0",
     "model_name": "DescriptionStyleModel",
     "state": {
      "_model_module": "@jupyter-widgets/controls",
      "_model_module_version": "1.5.0",
      "_model_name": "DescriptionStyleModel",
      "_view_count": null,
      "_view_module": "@jupyter-widgets/base",
      "_view_module_version": "1.2.0",
      "_view_name": "StyleView",
      "description_width": ""
     }
    },
    "10e840e030a24ab8ab27cf7f96764022": {
     "model_module": "@jupyter-widgets/controls",
     "model_module_version": "1.5.0",
     "model_name": "HTMLModel",
     "state": {
      "_dom_classes": [],
      "_model_module": "@jupyter-widgets/controls",
      "_model_module_version": "1.5.0",
      "_model_name": "HTMLModel",
      "_view_count": null,
      "_view_module": "@jupyter-widgets/controls",
      "_view_module_version": "1.5.0",
      "_view_name": "HTMLView",
      "description": "",
      "description_tooltip": null,
      "layout": "IPY_MODEL_f4df54a27f2d4ae6aba4efef034ae939",
      "placeholder": "​",
      "style": "IPY_MODEL_2c7ab0a5103647a883b278cdb07fecbd",
      "value": "Downloading: 100%"
     }
    },
    "134830c4f2f84a8e8d2857b42644d14e": {
     "model_module": "@jupyter-widgets/controls",
     "model_module_version": "1.5.0",
     "model_name": "DescriptionStyleModel",
     "state": {
      "_model_module": "@jupyter-widgets/controls",
      "_model_module_version": "1.5.0",
      "_model_name": "DescriptionStyleModel",
      "_view_count": null,
      "_view_module": "@jupyter-widgets/base",
      "_view_module_version": "1.2.0",
      "_view_name": "StyleView",
      "description_width": ""
     }
    },
    "13e93fc81ef64f919fee19eac0a39594": {
     "model_module": "@jupyter-widgets/controls",
     "model_module_version": "1.5.0",
     "model_name": "FloatProgressModel",
     "state": {
      "_dom_classes": [],
      "_model_module": "@jupyter-widgets/controls",
      "_model_module_version": "1.5.0",
      "_model_name": "FloatProgressModel",
      "_view_count": null,
      "_view_module": "@jupyter-widgets/controls",
      "_view_module_version": "1.5.0",
      "_view_name": "ProgressView",
      "bar_style": "success",
      "description": "",
      "description_tooltip": null,
      "layout": "IPY_MODEL_7a9f899e27ec433cafe89a4d18f03289",
      "max": 190,
      "min": 0,
      "orientation": "horizontal",
      "style": "IPY_MODEL_da3c42155e16420daa3f3441a9f2cae4",
      "value": 190
     }
    },
    "17811814414f4d0fb57a3ddcb1cf4e77": {
     "model_module": "@jupyter-widgets/controls",
     "model_module_version": "1.5.0",
     "model_name": "ProgressStyleModel",
     "state": {
      "_model_module": "@jupyter-widgets/controls",
      "_model_module_version": "1.5.0",
      "_model_name": "ProgressStyleModel",
      "_view_count": null,
      "_view_module": "@jupyter-widgets/base",
      "_view_module_version": "1.2.0",
      "_view_name": "StyleView",
      "bar_color": null,
      "description_width": ""
     }
    },
    "19c8cef661d64620a1e4e295aea0a626": {
     "model_module": "@jupyter-widgets/controls",
     "model_module_version": "1.5.0",
     "model_name": "FloatProgressModel",
     "state": {
      "_dom_classes": [],
      "_model_module": "@jupyter-widgets/controls",
      "_model_module_version": "1.5.0",
      "_model_name": "FloatProgressModel",
      "_view_count": null,
      "_view_module": "@jupyter-widgets/controls",
      "_view_module_version": "1.5.0",
      "_view_name": "ProgressView",
      "bar_style": "success",
      "description": "",
      "description_tooltip": null,
      "layout": "IPY_MODEL_ad87f7bf93b64993a1cc64ee9f688265",
      "max": 480002027,
      "min": 0,
      "orientation": "horizontal",
      "style": "IPY_MODEL_17811814414f4d0fb57a3ddcb1cf4e77",
      "value": 480002027
     }
    },
    "1b403790123745eb9b9cb05bbaa247e3": {
     "model_module": "@jupyter-widgets/controls",
     "model_module_version": "1.5.0",
     "model_name": "DescriptionStyleModel",
     "state": {
      "_model_module": "@jupyter-widgets/controls",
      "_model_module_version": "1.5.0",
      "_model_name": "DescriptionStyleModel",
      "_view_count": null,
      "_view_module": "@jupyter-widgets/base",
      "_view_module_version": "1.2.0",
      "_view_name": "StyleView",
      "description_width": ""
     }
    },
    "1e48b071b39b4b2e94ca6a44b12c4eb3": {
     "model_module": "@jupyter-widgets/base",
     "model_module_version": "1.2.0",
     "model_name": "LayoutModel",
     "state": {
      "_model_module": "@jupyter-widgets/base",
      "_model_module_version": "1.2.0",
      "_model_name": "LayoutModel",
      "_view_count": null,
      "_view_module": "@jupyter-widgets/base",
      "_view_module_version": "1.2.0",
      "_view_name": "LayoutView",
      "align_content": null,
      "align_items": null,
      "align_self": null,
      "border": null,
      "bottom": null,
      "display": null,
      "flex": null,
      "flex_flow": null,
      "grid_area": null,
      "grid_auto_columns": null,
      "grid_auto_flow": null,
      "grid_auto_rows": null,
      "grid_column": null,
      "grid_gap": null,
      "grid_row": null,
      "grid_template_areas": null,
      "grid_template_columns": null,
      "grid_template_rows": null,
      "height": null,
      "justify_content": null,
      "justify_items": null,
      "left": null,
      "margin": null,
      "max_height": null,
      "max_width": null,
      "min_height": null,
      "min_width": null,
      "object_fit": null,
      "object_position": null,
      "order": null,
      "overflow": null,
      "overflow_x": null,
      "overflow_y": null,
      "padding": null,
      "right": null,
      "top": null,
      "visibility": null,
      "width": null
     }
    },
    "1f26776bc606461584596bd1da9f1bc2": {
     "model_module": "@jupyter-widgets/base",
     "model_module_version": "1.2.0",
     "model_name": "LayoutModel",
     "state": {
      "_model_module": "@jupyter-widgets/base",
      "_model_module_version": "1.2.0",
      "_model_name": "LayoutModel",
      "_view_count": null,
      "_view_module": "@jupyter-widgets/base",
      "_view_module_version": "1.2.0",
      "_view_name": "LayoutView",
      "align_content": null,
      "align_items": null,
      "align_self": null,
      "border": null,
      "bottom": null,
      "display": null,
      "flex": null,
      "flex_flow": null,
      "grid_area": null,
      "grid_auto_columns": null,
      "grid_auto_flow": null,
      "grid_auto_rows": null,
      "grid_column": null,
      "grid_gap": null,
      "grid_row": null,
      "grid_template_areas": null,
      "grid_template_columns": null,
      "grid_template_rows": null,
      "height": null,
      "justify_content": null,
      "justify_items": null,
      "left": null,
      "margin": null,
      "max_height": null,
      "max_width": null,
      "min_height": null,
      "min_width": null,
      "object_fit": null,
      "object_position": null,
      "order": null,
      "overflow": null,
      "overflow_x": null,
      "overflow_y": null,
      "padding": null,
      "right": null,
      "top": null,
      "visibility": null,
      "width": null
     }
    },
    "21463531fec949de83183c48d5b0c372": {
     "model_module": "@jupyter-widgets/controls",
     "model_module_version": "1.5.0",
     "model_name": "ProgressStyleModel",
     "state": {
      "_model_module": "@jupyter-widgets/controls",
      "_model_module_version": "1.5.0",
      "_model_name": "ProgressStyleModel",
      "_view_count": null,
      "_view_module": "@jupyter-widgets/base",
      "_view_module_version": "1.2.0",
      "_view_name": "StyleView",
      "bar_color": null,
      "description_width": ""
     }
    },
    "22065af9e85f42dc920068e31daafb35": {
     "model_module": "@jupyter-widgets/base",
     "model_module_version": "1.2.0",
     "model_name": "LayoutModel",
     "state": {
      "_model_module": "@jupyter-widgets/base",
      "_model_module_version": "1.2.0",
      "_model_name": "LayoutModel",
      "_view_count": null,
      "_view_module": "@jupyter-widgets/base",
      "_view_module_version": "1.2.0",
      "_view_name": "LayoutView",
      "align_content": null,
      "align_items": null,
      "align_self": null,
      "border": null,
      "bottom": null,
      "display": null,
      "flex": null,
      "flex_flow": null,
      "grid_area": null,
      "grid_auto_columns": null,
      "grid_auto_flow": null,
      "grid_auto_rows": null,
      "grid_column": null,
      "grid_gap": null,
      "grid_row": null,
      "grid_template_areas": null,
      "grid_template_columns": null,
      "grid_template_rows": null,
      "height": null,
      "justify_content": null,
      "justify_items": null,
      "left": null,
      "margin": null,
      "max_height": null,
      "max_width": null,
      "min_height": null,
      "min_width": null,
      "object_fit": null,
      "object_position": null,
      "order": null,
      "overflow": null,
      "overflow_x": null,
      "overflow_y": null,
      "padding": null,
      "right": null,
      "top": null,
      "visibility": null,
      "width": null
     }
    },
    "2468f0af800246a692c2c33b97b18e7c": {
     "model_module": "@jupyter-widgets/base",
     "model_module_version": "1.2.0",
     "model_name": "LayoutModel",
     "state": {
      "_model_module": "@jupyter-widgets/base",
      "_model_module_version": "1.2.0",
      "_model_name": "LayoutModel",
      "_view_count": null,
      "_view_module": "@jupyter-widgets/base",
      "_view_module_version": "1.2.0",
      "_view_name": "LayoutView",
      "align_content": null,
      "align_items": null,
      "align_self": null,
      "border": null,
      "bottom": null,
      "display": null,
      "flex": null,
      "flex_flow": null,
      "grid_area": null,
      "grid_auto_columns": null,
      "grid_auto_flow": null,
      "grid_auto_rows": null,
      "grid_column": null,
      "grid_gap": null,
      "grid_row": null,
      "grid_template_areas": null,
      "grid_template_columns": null,
      "grid_template_rows": null,
      "height": null,
      "justify_content": null,
      "justify_items": null,
      "left": null,
      "margin": null,
      "max_height": null,
      "max_width": null,
      "min_height": null,
      "min_width": null,
      "object_fit": null,
      "object_position": null,
      "order": null,
      "overflow": null,
      "overflow_x": null,
      "overflow_y": null,
      "padding": null,
      "right": null,
      "top": null,
      "visibility": null,
      "width": null
     }
    },
    "24b7ae6389344f5bbc82c2b00209826c": {
     "model_module": "@jupyter-widgets/base",
     "model_module_version": "1.2.0",
     "model_name": "LayoutModel",
     "state": {
      "_model_module": "@jupyter-widgets/base",
      "_model_module_version": "1.2.0",
      "_model_name": "LayoutModel",
      "_view_count": null,
      "_view_module": "@jupyter-widgets/base",
      "_view_module_version": "1.2.0",
      "_view_name": "LayoutView",
      "align_content": null,
      "align_items": null,
      "align_self": null,
      "border": null,
      "bottom": null,
      "display": null,
      "flex": null,
      "flex_flow": null,
      "grid_area": null,
      "grid_auto_columns": null,
      "grid_auto_flow": null,
      "grid_auto_rows": null,
      "grid_column": null,
      "grid_gap": null,
      "grid_row": null,
      "grid_template_areas": null,
      "grid_template_columns": null,
      "grid_template_rows": null,
      "height": null,
      "justify_content": null,
      "justify_items": null,
      "left": null,
      "margin": null,
      "max_height": null,
      "max_width": null,
      "min_height": null,
      "min_width": null,
      "object_fit": null,
      "object_position": null,
      "order": null,
      "overflow": null,
      "overflow_x": null,
      "overflow_y": null,
      "padding": null,
      "right": null,
      "top": null,
      "visibility": null,
      "width": null
     }
    },
    "252609d8eb0a4f08b739f40028e80e05": {
     "model_module": "@jupyter-widgets/base",
     "model_module_version": "1.2.0",
     "model_name": "LayoutModel",
     "state": {
      "_model_module": "@jupyter-widgets/base",
      "_model_module_version": "1.2.0",
      "_model_name": "LayoutModel",
      "_view_count": null,
      "_view_module": "@jupyter-widgets/base",
      "_view_module_version": "1.2.0",
      "_view_name": "LayoutView",
      "align_content": null,
      "align_items": null,
      "align_self": null,
      "border": null,
      "bottom": null,
      "display": null,
      "flex": null,
      "flex_flow": null,
      "grid_area": null,
      "grid_auto_columns": null,
      "grid_auto_flow": null,
      "grid_auto_rows": null,
      "grid_column": null,
      "grid_gap": null,
      "grid_row": null,
      "grid_template_areas": null,
      "grid_template_columns": null,
      "grid_template_rows": null,
      "height": null,
      "justify_content": null,
      "justify_items": null,
      "left": null,
      "margin": null,
      "max_height": null,
      "max_width": null,
      "min_height": null,
      "min_width": null,
      "object_fit": null,
      "object_position": null,
      "order": null,
      "overflow": null,
      "overflow_x": null,
      "overflow_y": null,
      "padding": null,
      "right": null,
      "top": null,
      "visibility": null,
      "width": null
     }
    },
    "2adb43d3a02948df8c6fca9c2dddce55": {
     "model_module": "@jupyter-widgets/base",
     "model_module_version": "1.2.0",
     "model_name": "LayoutModel",
     "state": {
      "_model_module": "@jupyter-widgets/base",
      "_model_module_version": "1.2.0",
      "_model_name": "LayoutModel",
      "_view_count": null,
      "_view_module": "@jupyter-widgets/base",
      "_view_module_version": "1.2.0",
      "_view_name": "LayoutView",
      "align_content": null,
      "align_items": null,
      "align_self": null,
      "border": null,
      "bottom": null,
      "display": null,
      "flex": null,
      "flex_flow": null,
      "grid_area": null,
      "grid_auto_columns": null,
      "grid_auto_flow": null,
      "grid_auto_rows": null,
      "grid_column": null,
      "grid_gap": null,
      "grid_row": null,
      "grid_template_areas": null,
      "grid_template_columns": null,
      "grid_template_rows": null,
      "height": null,
      "justify_content": null,
      "justify_items": null,
      "left": null,
      "margin": null,
      "max_height": null,
      "max_width": null,
      "min_height": null,
      "min_width": null,
      "object_fit": null,
      "object_position": null,
      "order": null,
      "overflow": null,
      "overflow_x": null,
      "overflow_y": null,
      "padding": null,
      "right": null,
      "top": null,
      "visibility": null,
      "width": null
     }
    },
    "2adb56ba4270417ea2923faf135f843a": {
     "model_module": "@jupyter-widgets/controls",
     "model_module_version": "1.5.0",
     "model_name": "HTMLModel",
     "state": {
      "_dom_classes": [],
      "_model_module": "@jupyter-widgets/controls",
      "_model_module_version": "1.5.0",
      "_model_name": "HTMLModel",
      "_view_count": null,
      "_view_module": "@jupyter-widgets/controls",
      "_view_module_version": "1.5.0",
      "_view_name": "HTMLView",
      "description": "",
      "description_tooltip": null,
      "layout": "IPY_MODEL_3f64d3996e2a48d88174ac51243449e4",
      "placeholder": "​",
      "style": "IPY_MODEL_a6545055c5354b99a202fb217233f6f7",
      "value": "Downloading: 100%"
     }
    },
    "2c7ab0a5103647a883b278cdb07fecbd": {
     "model_module": "@jupyter-widgets/controls",
     "model_module_version": "1.5.0",
     "model_name": "DescriptionStyleModel",
     "state": {
      "_model_module": "@jupyter-widgets/controls",
      "_model_module_version": "1.5.0",
      "_model_name": "DescriptionStyleModel",
      "_view_count": null,
      "_view_module": "@jupyter-widgets/base",
      "_view_module_version": "1.2.0",
      "_view_name": "StyleView",
      "description_width": ""
     }
    },
    "315cd7621f5b4a00bd5d0f7d3e1a32f4": {
     "model_module": "@jupyter-widgets/base",
     "model_module_version": "1.2.0",
     "model_name": "LayoutModel",
     "state": {
      "_model_module": "@jupyter-widgets/base",
      "_model_module_version": "1.2.0",
      "_model_name": "LayoutModel",
      "_view_count": null,
      "_view_module": "@jupyter-widgets/base",
      "_view_module_version": "1.2.0",
      "_view_name": "LayoutView",
      "align_content": null,
      "align_items": null,
      "align_self": null,
      "border": null,
      "bottom": null,
      "display": null,
      "flex": null,
      "flex_flow": null,
      "grid_area": null,
      "grid_auto_columns": null,
      "grid_auto_flow": null,
      "grid_auto_rows": null,
      "grid_column": null,
      "grid_gap": null,
      "grid_row": null,
      "grid_template_areas": null,
      "grid_template_columns": null,
      "grid_template_rows": null,
      "height": null,
      "justify_content": null,
      "justify_items": null,
      "left": null,
      "margin": null,
      "max_height": null,
      "max_width": null,
      "min_height": null,
      "min_width": null,
      "object_fit": null,
      "object_position": null,
      "order": null,
      "overflow": null,
      "overflow_x": null,
      "overflow_y": null,
      "padding": null,
      "right": null,
      "top": null,
      "visibility": null,
      "width": null
     }
    },
    "324fadc98fec4bb0bb7ef6dc38bbf48e": {
     "model_module": "@jupyter-widgets/base",
     "model_module_version": "1.2.0",
     "model_name": "LayoutModel",
     "state": {
      "_model_module": "@jupyter-widgets/base",
      "_model_module_version": "1.2.0",
      "_model_name": "LayoutModel",
      "_view_count": null,
      "_view_module": "@jupyter-widgets/base",
      "_view_module_version": "1.2.0",
      "_view_name": "LayoutView",
      "align_content": null,
      "align_items": null,
      "align_self": null,
      "border": null,
      "bottom": null,
      "display": null,
      "flex": null,
      "flex_flow": null,
      "grid_area": null,
      "grid_auto_columns": null,
      "grid_auto_flow": null,
      "grid_auto_rows": null,
      "grid_column": null,
      "grid_gap": null,
      "grid_row": null,
      "grid_template_areas": null,
      "grid_template_columns": null,
      "grid_template_rows": null,
      "height": null,
      "justify_content": null,
      "justify_items": null,
      "left": null,
      "margin": null,
      "max_height": null,
      "max_width": null,
      "min_height": null,
      "min_width": null,
      "object_fit": null,
      "object_position": null,
      "order": null,
      "overflow": null,
      "overflow_x": null,
      "overflow_y": null,
      "padding": null,
      "right": null,
      "top": null,
      "visibility": null,
      "width": null
     }
    },
    "32766bba557043ddbe4c0edef161a87f": {
     "model_module": "@jupyter-widgets/controls",
     "model_module_version": "1.5.0",
     "model_name": "HTMLModel",
     "state": {
      "_dom_classes": [],
      "_model_module": "@jupyter-widgets/controls",
      "_model_module_version": "1.5.0",
      "_model_name": "HTMLModel",
      "_view_count": null,
      "_view_module": "@jupyter-widgets/controls",
      "_view_module_version": "1.5.0",
      "_view_name": "HTMLView",
      "description": "",
      "description_tooltip": null,
      "layout": "IPY_MODEL_3fc018cca3a7415ab481a8546d764e1f",
      "placeholder": "​",
      "style": "IPY_MODEL_8c12c5c51583410d994ff0fb5f5a72c0",
      "value": "Downloading: 100%"
     }
    },
    "3871f11bcee5406b87fac2a2bc494a9d": {
     "model_module": "@jupyter-widgets/controls",
     "model_module_version": "1.5.0",
     "model_name": "HTMLModel",
     "state": {
      "_dom_classes": [],
      "_model_module": "@jupyter-widgets/controls",
      "_model_module_version": "1.5.0",
      "_model_name": "HTMLModel",
      "_view_count": null,
      "_view_module": "@jupyter-widgets/controls",
      "_view_module_version": "1.5.0",
      "_view_name": "HTMLView",
      "description": "",
      "description_tooltip": null,
      "layout": "IPY_MODEL_0f2df641e45d4cedb4c245f7ed3ac034",
      "placeholder": "​",
      "style": "IPY_MODEL_4bdaf7379d364162998362628654a8f3",
      "value": "Downloading: 100%"
     }
    },
    "38b04ed6613c430186fca6cfc9cc6414": {
     "model_module": "@jupyter-widgets/controls",
     "model_module_version": "1.5.0",
     "model_name": "HTMLModel",
     "state": {
      "_dom_classes": [],
      "_model_module": "@jupyter-widgets/controls",
      "_model_module_version": "1.5.0",
      "_model_name": "HTMLModel",
      "_view_count": null,
      "_view_module": "@jupyter-widgets/controls",
      "_view_module_version": "1.5.0",
      "_view_name": "HTMLView",
      "description": "",
      "description_tooltip": null,
      "layout": "IPY_MODEL_1e48b071b39b4b2e94ca6a44b12c4eb3",
      "placeholder": "​",
      "style": "IPY_MODEL_d2786cb0a70646459cdf427bcd9bd9f4",
      "value": "Downloading: 100%"
     }
    },
    "398719df23f24870b0f84ed8997492b1": {
     "model_module": "@jupyter-widgets/base",
     "model_module_version": "1.2.0",
     "model_name": "LayoutModel",
     "state": {
      "_model_module": "@jupyter-widgets/base",
      "_model_module_version": "1.2.0",
      "_model_name": "LayoutModel",
      "_view_count": null,
      "_view_module": "@jupyter-widgets/base",
      "_view_module_version": "1.2.0",
      "_view_name": "LayoutView",
      "align_content": null,
      "align_items": null,
      "align_self": null,
      "border": null,
      "bottom": null,
      "display": null,
      "flex": null,
      "flex_flow": null,
      "grid_area": null,
      "grid_auto_columns": null,
      "grid_auto_flow": null,
      "grid_auto_rows": null,
      "grid_column": null,
      "grid_gap": null,
      "grid_row": null,
      "grid_template_areas": null,
      "grid_template_columns": null,
      "grid_template_rows": null,
      "height": null,
      "justify_content": null,
      "justify_items": null,
      "left": null,
      "margin": null,
      "max_height": null,
      "max_width": null,
      "min_height": null,
      "min_width": null,
      "object_fit": null,
      "object_position": null,
      "order": null,
      "overflow": null,
      "overflow_x": null,
      "overflow_y": null,
      "padding": null,
      "right": null,
      "top": null,
      "visibility": null,
      "width": null
     }
    },
    "3e1f969173ca4ac6b64fb4746158b2b4": {
     "model_module": "@jupyter-widgets/controls",
     "model_module_version": "1.5.0",
     "model_name": "FloatProgressModel",
     "state": {
      "_dom_classes": [],
      "_model_module": "@jupyter-widgets/controls",
      "_model_module_version": "1.5.0",
      "_model_name": "FloatProgressModel",
      "_view_count": null,
      "_view_module": "@jupyter-widgets/controls",
      "_view_module_version": "1.5.0",
      "_view_name": "ProgressView",
      "bar_style": "success",
      "description": "",
      "description_tooltip": null,
      "layout": "IPY_MODEL_fb90b5a66d7a4be282d616d8f9168692",
      "max": 690,
      "min": 0,
      "orientation": "horizontal",
      "style": "IPY_MODEL_f604f3300bcc48a4b8421965019c127a",
      "value": 690
     }
    },
    "3f64d3996e2a48d88174ac51243449e4": {
     "model_module": "@jupyter-widgets/base",
     "model_module_version": "1.2.0",
     "model_name": "LayoutModel",
     "state": {
      "_model_module": "@jupyter-widgets/base",
      "_model_module_version": "1.2.0",
      "_model_name": "LayoutModel",
      "_view_count": null,
      "_view_module": "@jupyter-widgets/base",
      "_view_module_version": "1.2.0",
      "_view_name": "LayoutView",
      "align_content": null,
      "align_items": null,
      "align_self": null,
      "border": null,
      "bottom": null,
      "display": null,
      "flex": null,
      "flex_flow": null,
      "grid_area": null,
      "grid_auto_columns": null,
      "grid_auto_flow": null,
      "grid_auto_rows": null,
      "grid_column": null,
      "grid_gap": null,
      "grid_row": null,
      "grid_template_areas": null,
      "grid_template_columns": null,
      "grid_template_rows": null,
      "height": null,
      "justify_content": null,
      "justify_items": null,
      "left": null,
      "margin": null,
      "max_height": null,
      "max_width": null,
      "min_height": null,
      "min_width": null,
      "object_fit": null,
      "object_position": null,
      "order": null,
      "overflow": null,
      "overflow_x": null,
      "overflow_y": null,
      "padding": null,
      "right": null,
      "top": null,
      "visibility": null,
      "width": null
     }
    },
    "3fc018cca3a7415ab481a8546d764e1f": {
     "model_module": "@jupyter-widgets/base",
     "model_module_version": "1.2.0",
     "model_name": "LayoutModel",
     "state": {
      "_model_module": "@jupyter-widgets/base",
      "_model_module_version": "1.2.0",
      "_model_name": "LayoutModel",
      "_view_count": null,
      "_view_module": "@jupyter-widgets/base",
      "_view_module_version": "1.2.0",
      "_view_name": "LayoutView",
      "align_content": null,
      "align_items": null,
      "align_self": null,
      "border": null,
      "bottom": null,
      "display": null,
      "flex": null,
      "flex_flow": null,
      "grid_area": null,
      "grid_auto_columns": null,
      "grid_auto_flow": null,
      "grid_auto_rows": null,
      "grid_column": null,
      "grid_gap": null,
      "grid_row": null,
      "grid_template_areas": null,
      "grid_template_columns": null,
      "grid_template_rows": null,
      "height": null,
      "justify_content": null,
      "justify_items": null,
      "left": null,
      "margin": null,
      "max_height": null,
      "max_width": null,
      "min_height": null,
      "min_width": null,
      "object_fit": null,
      "object_position": null,
      "order": null,
      "overflow": null,
      "overflow_x": null,
      "overflow_y": null,
      "padding": null,
      "right": null,
      "top": null,
      "visibility": null,
      "width": null
     }
    },
    "4186a281804445429ae0259895909664": {
     "model_module": "@jupyter-widgets/controls",
     "model_module_version": "1.5.0",
     "model_name": "HBoxModel",
     "state": {
      "_dom_classes": [],
      "_model_module": "@jupyter-widgets/controls",
      "_model_module_version": "1.5.0",
      "_model_name": "HBoxModel",
      "_view_count": null,
      "_view_module": "@jupyter-widgets/controls",
      "_view_module_version": "1.5.0",
      "_view_name": "HBoxView",
      "box_style": "",
      "children": [
       "IPY_MODEL_9416159e2ff34f5c983891aba71a1b56",
       "IPY_MODEL_a3d566289f5245949767b8e8923b18a8",
       "IPY_MODEL_c5457aa4173748bdada8ca78a0a5dc24"
      ],
      "layout": "IPY_MODEL_9ed78ba3bf894ed98f3e5bcb80564c95"
     }
    },
    "43a75db73aef48df9b2ef24a5cdb729f": {
     "model_module": "@jupyter-widgets/controls",
     "model_module_version": "1.5.0",
     "model_name": "DescriptionStyleModel",
     "state": {
      "_model_module": "@jupyter-widgets/controls",
      "_model_module_version": "1.5.0",
      "_model_name": "DescriptionStyleModel",
      "_view_count": null,
      "_view_module": "@jupyter-widgets/base",
      "_view_module_version": "1.2.0",
      "_view_name": "StyleView",
      "description_width": ""
     }
    },
    "45adf4ae6f8f4cc9a93365667bbec687": {
     "model_module": "@jupyter-widgets/controls",
     "model_module_version": "1.5.0",
     "model_name": "HTMLModel",
     "state": {
      "_dom_classes": [],
      "_model_module": "@jupyter-widgets/controls",
      "_model_module_version": "1.5.0",
      "_model_name": "HTMLModel",
      "_view_count": null,
      "_view_module": "@jupyter-widgets/controls",
      "_view_module_version": "1.5.0",
      "_view_name": "HTMLView",
      "description": "",
      "description_tooltip": null,
      "layout": "IPY_MODEL_0b9672702af040f3b1185fb523e19fdb",
      "placeholder": "​",
      "style": "IPY_MODEL_f9cec162c8a240d19c1654acb6fd418c",
      "value": " 690/690 [00:00&lt;00:00, 6.72kB/s]"
     }
    },
    "4a3567b856154518b2bd21164c70c78d": {
     "model_module": "@jupyter-widgets/controls",
     "model_module_version": "1.5.0",
     "model_name": "HTMLModel",
     "state": {
      "_dom_classes": [],
      "_model_module": "@jupyter-widgets/controls",
      "_model_module_version": "1.5.0",
      "_model_name": "HTMLModel",
      "_view_count": null,
      "_view_module": "@jupyter-widgets/controls",
      "_view_module_version": "1.5.0",
      "_view_name": "HTMLView",
      "description": "",
      "description_tooltip": null,
      "layout": "IPY_MODEL_74e550ce7588455bb4f4d675bb7bf8d2",
      "placeholder": "​",
      "style": "IPY_MODEL_69d52e2bd71047aa931707523d78e1f9",
      "value": " 480M/480M [00:48&lt;00:00, 9.43MB/s]"
     }
    },
    "4af923521ebd4060979ab0a735319750": {
     "model_module": "@jupyter-widgets/controls",
     "model_module_version": "1.5.0",
     "model_name": "HBoxModel",
     "state": {
      "_dom_classes": [],
      "_model_module": "@jupyter-widgets/controls",
      "_model_module_version": "1.5.0",
      "_model_name": "HBoxModel",
      "_view_count": null,
      "_view_module": "@jupyter-widgets/controls",
      "_view_module_version": "1.5.0",
      "_view_name": "HBoxView",
      "box_style": "",
      "children": [
       "IPY_MODEL_10e840e030a24ab8ab27cf7f96764022",
       "IPY_MODEL_d295c9b530b54edfa6b11c0fedb11203",
       "IPY_MODEL_8d1d03f1cbec4784bbf2d77e76433ede"
      ],
      "layout": "IPY_MODEL_e873b9de9f3e4ce5b72b47be99c08644"
     }
    },
    "4bdaf7379d364162998362628654a8f3": {
     "model_module": "@jupyter-widgets/controls",
     "model_module_version": "1.5.0",
     "model_name": "DescriptionStyleModel",
     "state": {
      "_model_module": "@jupyter-widgets/controls",
      "_model_module_version": "1.5.0",
      "_model_name": "DescriptionStyleModel",
      "_view_count": null,
      "_view_module": "@jupyter-widgets/base",
      "_view_module_version": "1.2.0",
      "_view_name": "StyleView",
      "description_width": ""
     }
    },
    "4c502b58fafc4c64a9a8f1871821ea11": {
     "model_module": "@jupyter-widgets/controls",
     "model_module_version": "1.5.0",
     "model_name": "HTMLModel",
     "state": {
      "_dom_classes": [],
      "_model_module": "@jupyter-widgets/controls",
      "_model_module_version": "1.5.0",
      "_model_name": "HTMLModel",
      "_view_count": null,
      "_view_module": "@jupyter-widgets/controls",
      "_view_module_version": "1.5.0",
      "_view_name": "HTMLView",
      "description": "",
      "description_tooltip": null,
      "layout": "IPY_MODEL_2468f0af800246a692c2c33b97b18e7c",
      "placeholder": "​",
      "style": "IPY_MODEL_e8ad26ad70e7433690d38aab2ac5fe88",
      "value": "Downloading: 100%"
     }
    },
    "4c61635a83fc49a5b98ac78524a0bb1b": {
     "model_module": "@jupyter-widgets/base",
     "model_module_version": "1.2.0",
     "model_name": "LayoutModel",
     "state": {
      "_model_module": "@jupyter-widgets/base",
      "_model_module_version": "1.2.0",
      "_model_name": "LayoutModel",
      "_view_count": null,
      "_view_module": "@jupyter-widgets/base",
      "_view_module_version": "1.2.0",
      "_view_name": "LayoutView",
      "align_content": null,
      "align_items": null,
      "align_self": null,
      "border": null,
      "bottom": null,
      "display": null,
      "flex": null,
      "flex_flow": null,
      "grid_area": null,
      "grid_auto_columns": null,
      "grid_auto_flow": null,
      "grid_auto_rows": null,
      "grid_column": null,
      "grid_gap": null,
      "grid_row": null,
      "grid_template_areas": null,
      "grid_template_columns": null,
      "grid_template_rows": null,
      "height": null,
      "justify_content": null,
      "justify_items": null,
      "left": null,
      "margin": null,
      "max_height": null,
      "max_width": null,
      "min_height": null,
      "min_width": null,
      "object_fit": null,
      "object_position": null,
      "order": null,
      "overflow": null,
      "overflow_x": null,
      "overflow_y": null,
      "padding": null,
      "right": null,
      "top": null,
      "visibility": null,
      "width": null
     }
    },
    "4fa89652d1384121aab2036d780d7ae2": {
     "model_module": "@jupyter-widgets/base",
     "model_module_version": "1.2.0",
     "model_name": "LayoutModel",
     "state": {
      "_model_module": "@jupyter-widgets/base",
      "_model_module_version": "1.2.0",
      "_model_name": "LayoutModel",
      "_view_count": null,
      "_view_module": "@jupyter-widgets/base",
      "_view_module_version": "1.2.0",
      "_view_name": "LayoutView",
      "align_content": null,
      "align_items": null,
      "align_self": null,
      "border": null,
      "bottom": null,
      "display": null,
      "flex": null,
      "flex_flow": null,
      "grid_area": null,
      "grid_auto_columns": null,
      "grid_auto_flow": null,
      "grid_auto_rows": null,
      "grid_column": null,
      "grid_gap": null,
      "grid_row": null,
      "grid_template_areas": null,
      "grid_template_columns": null,
      "grid_template_rows": null,
      "height": null,
      "justify_content": null,
      "justify_items": null,
      "left": null,
      "margin": null,
      "max_height": null,
      "max_width": null,
      "min_height": null,
      "min_width": null,
      "object_fit": null,
      "object_position": null,
      "order": null,
      "overflow": null,
      "overflow_x": null,
      "overflow_y": null,
      "padding": null,
      "right": null,
      "top": null,
      "visibility": null,
      "width": null
     }
    },
    "50dfa4c574eb49048db9f34dd804d511": {
     "model_module": "@jupyter-widgets/base",
     "model_module_version": "1.2.0",
     "model_name": "LayoutModel",
     "state": {
      "_model_module": "@jupyter-widgets/base",
      "_model_module_version": "1.2.0",
      "_model_name": "LayoutModel",
      "_view_count": null,
      "_view_module": "@jupyter-widgets/base",
      "_view_module_version": "1.2.0",
      "_view_name": "LayoutView",
      "align_content": null,
      "align_items": null,
      "align_self": null,
      "border": null,
      "bottom": null,
      "display": null,
      "flex": null,
      "flex_flow": null,
      "grid_area": null,
      "grid_auto_columns": null,
      "grid_auto_flow": null,
      "grid_auto_rows": null,
      "grid_column": null,
      "grid_gap": null,
      "grid_row": null,
      "grid_template_areas": null,
      "grid_template_columns": null,
      "grid_template_rows": null,
      "height": null,
      "justify_content": null,
      "justify_items": null,
      "left": null,
      "margin": null,
      "max_height": null,
      "max_width": null,
      "min_height": null,
      "min_width": null,
      "object_fit": null,
      "object_position": null,
      "order": null,
      "overflow": null,
      "overflow_x": null,
      "overflow_y": null,
      "padding": null,
      "right": null,
      "top": null,
      "visibility": null,
      "width": null
     }
    },
    "52f80fc190cc42dd88e2c99517e5aafe": {
     "model_module": "@jupyter-widgets/base",
     "model_module_version": "1.2.0",
     "model_name": "LayoutModel",
     "state": {
      "_model_module": "@jupyter-widgets/base",
      "_model_module_version": "1.2.0",
      "_model_name": "LayoutModel",
      "_view_count": null,
      "_view_module": "@jupyter-widgets/base",
      "_view_module_version": "1.2.0",
      "_view_name": "LayoutView",
      "align_content": null,
      "align_items": null,
      "align_self": null,
      "border": null,
      "bottom": null,
      "display": null,
      "flex": null,
      "flex_flow": null,
      "grid_area": null,
      "grid_auto_columns": null,
      "grid_auto_flow": null,
      "grid_auto_rows": null,
      "grid_column": null,
      "grid_gap": null,
      "grid_row": null,
      "grid_template_areas": null,
      "grid_template_columns": null,
      "grid_template_rows": null,
      "height": null,
      "justify_content": null,
      "justify_items": null,
      "left": null,
      "margin": null,
      "max_height": null,
      "max_width": null,
      "min_height": null,
      "min_width": null,
      "object_fit": null,
      "object_position": null,
      "order": null,
      "overflow": null,
      "overflow_x": null,
      "overflow_y": null,
      "padding": null,
      "right": null,
      "top": null,
      "visibility": null,
      "width": null
     }
    },
    "5f91181b1703456d8c6970aad8722d33": {
     "model_module": "@jupyter-widgets/base",
     "model_module_version": "1.2.0",
     "model_name": "LayoutModel",
     "state": {
      "_model_module": "@jupyter-widgets/base",
      "_model_module_version": "1.2.0",
      "_model_name": "LayoutModel",
      "_view_count": null,
      "_view_module": "@jupyter-widgets/base",
      "_view_module_version": "1.2.0",
      "_view_name": "LayoutView",
      "align_content": null,
      "align_items": null,
      "align_self": null,
      "border": null,
      "bottom": null,
      "display": null,
      "flex": null,
      "flex_flow": null,
      "grid_area": null,
      "grid_auto_columns": null,
      "grid_auto_flow": null,
      "grid_auto_rows": null,
      "grid_column": null,
      "grid_gap": null,
      "grid_row": null,
      "grid_template_areas": null,
      "grid_template_columns": null,
      "grid_template_rows": null,
      "height": null,
      "justify_content": null,
      "justify_items": null,
      "left": null,
      "margin": null,
      "max_height": null,
      "max_width": null,
      "min_height": null,
      "min_width": null,
      "object_fit": null,
      "object_position": null,
      "order": null,
      "overflow": null,
      "overflow_x": null,
      "overflow_y": null,
      "padding": null,
      "right": null,
      "top": null,
      "visibility": null,
      "width": null
     }
    },
    "60cccfab6b3b450ab6a8db238514f823": {
     "model_module": "@jupyter-widgets/controls",
     "model_module_version": "1.5.0",
     "model_name": "FloatProgressModel",
     "state": {
      "_dom_classes": [],
      "_model_module": "@jupyter-widgets/controls",
      "_model_module_version": "1.5.0",
      "_model_name": "FloatProgressModel",
      "_view_count": null,
      "_view_module": "@jupyter-widgets/controls",
      "_view_module_version": "1.5.0",
      "_view_name": "ProgressView",
      "bar_style": "success",
      "description": "",
      "description_tooltip": null,
      "layout": "IPY_MODEL_e15b44272317418bb4defa51b34c0fa7",
      "max": 4605941,
      "min": 0,
      "orientation": "horizontal",
      "style": "IPY_MODEL_d17b5d51352a4b72bbcf89ba9e65a344",
      "value": 4605941
     }
    },
    "69d52e2bd71047aa931707523d78e1f9": {
     "model_module": "@jupyter-widgets/controls",
     "model_module_version": "1.5.0",
     "model_name": "DescriptionStyleModel",
     "state": {
      "_model_module": "@jupyter-widgets/controls",
      "_model_module_version": "1.5.0",
      "_model_name": "DescriptionStyleModel",
      "_view_count": null,
      "_view_module": "@jupyter-widgets/base",
      "_view_module_version": "1.2.0",
      "_view_name": "StyleView",
      "description_width": ""
     }
    },
    "69eb73425e4a433ab674ae83f2bf5c60": {
     "model_module": "@jupyter-widgets/controls",
     "model_module_version": "1.5.0",
     "model_name": "HBoxModel",
     "state": {
      "_dom_classes": [],
      "_model_module": "@jupyter-widgets/controls",
      "_model_module_version": "1.5.0",
      "_model_name": "HBoxModel",
      "_view_count": null,
      "_view_module": "@jupyter-widgets/controls",
      "_view_module_version": "1.5.0",
      "_view_name": "HBoxView",
      "box_style": "",
      "children": [
       "IPY_MODEL_4c502b58fafc4c64a9a8f1871821ea11",
       "IPY_MODEL_3e1f969173ca4ac6b64fb4746158b2b4",
       "IPY_MODEL_45adf4ae6f8f4cc9a93365667bbec687"
      ],
      "layout": "IPY_MODEL_e9952627502f4cc1b216876cd6d4b7ed"
     }
    },
    "6e92091256914b929566172a53c00e73": {
     "model_module": "@jupyter-widgets/base",
     "model_module_version": "1.2.0",
     "model_name": "LayoutModel",
     "state": {
      "_model_module": "@jupyter-widgets/base",
      "_model_module_version": "1.2.0",
      "_model_name": "LayoutModel",
      "_view_count": null,
      "_view_module": "@jupyter-widgets/base",
      "_view_module_version": "1.2.0",
      "_view_name": "LayoutView",
      "align_content": null,
      "align_items": null,
      "align_self": null,
      "border": null,
      "bottom": null,
      "display": null,
      "flex": null,
      "flex_flow": null,
      "grid_area": null,
      "grid_auto_columns": null,
      "grid_auto_flow": null,
      "grid_auto_rows": null,
      "grid_column": null,
      "grid_gap": null,
      "grid_row": null,
      "grid_template_areas": null,
      "grid_template_columns": null,
      "grid_template_rows": null,
      "height": null,
      "justify_content": null,
      "justify_items": null,
      "left": null,
      "margin": null,
      "max_height": null,
      "max_width": null,
      "min_height": null,
      "min_width": null,
      "object_fit": null,
      "object_position": null,
      "order": null,
      "overflow": null,
      "overflow_x": null,
      "overflow_y": null,
      "padding": null,
      "right": null,
      "top": null,
      "visibility": null,
      "width": null
     }
    },
    "6f83dfbf5a9e43e787e0943d85d56116": {
     "model_module": "@jupyter-widgets/controls",
     "model_module_version": "1.5.0",
     "model_name": "ProgressStyleModel",
     "state": {
      "_model_module": "@jupyter-widgets/controls",
      "_model_module_version": "1.5.0",
      "_model_name": "ProgressStyleModel",
      "_view_count": null,
      "_view_module": "@jupyter-widgets/base",
      "_view_module_version": "1.2.0",
      "_view_name": "StyleView",
      "bar_color": null,
      "description_width": ""
     }
    },
    "7414efbd204248a3b296fcf38d1e5ad4": {
     "model_module": "@jupyter-widgets/base",
     "model_module_version": "1.2.0",
     "model_name": "LayoutModel",
     "state": {
      "_model_module": "@jupyter-widgets/base",
      "_model_module_version": "1.2.0",
      "_model_name": "LayoutModel",
      "_view_count": null,
      "_view_module": "@jupyter-widgets/base",
      "_view_module_version": "1.2.0",
      "_view_name": "LayoutView",
      "align_content": null,
      "align_items": null,
      "align_self": null,
      "border": null,
      "bottom": null,
      "display": null,
      "flex": null,
      "flex_flow": null,
      "grid_area": null,
      "grid_auto_columns": null,
      "grid_auto_flow": null,
      "grid_auto_rows": null,
      "grid_column": null,
      "grid_gap": null,
      "grid_row": null,
      "grid_template_areas": null,
      "grid_template_columns": null,
      "grid_template_rows": null,
      "height": null,
      "justify_content": null,
      "justify_items": null,
      "left": null,
      "margin": null,
      "max_height": null,
      "max_width": null,
      "min_height": null,
      "min_width": null,
      "object_fit": null,
      "object_position": null,
      "order": null,
      "overflow": null,
      "overflow_x": null,
      "overflow_y": null,
      "padding": null,
      "right": null,
      "top": null,
      "visibility": null,
      "width": null
     }
    },
    "74e550ce7588455bb4f4d675bb7bf8d2": {
     "model_module": "@jupyter-widgets/base",
     "model_module_version": "1.2.0",
     "model_name": "LayoutModel",
     "state": {
      "_model_module": "@jupyter-widgets/base",
      "_model_module_version": "1.2.0",
      "_model_name": "LayoutModel",
      "_view_count": null,
      "_view_module": "@jupyter-widgets/base",
      "_view_module_version": "1.2.0",
      "_view_name": "LayoutView",
      "align_content": null,
      "align_items": null,
      "align_self": null,
      "border": null,
      "bottom": null,
      "display": null,
      "flex": null,
      "flex_flow": null,
      "grid_area": null,
      "grid_auto_columns": null,
      "grid_auto_flow": null,
      "grid_auto_rows": null,
      "grid_column": null,
      "grid_gap": null,
      "grid_row": null,
      "grid_template_areas": null,
      "grid_template_columns": null,
      "grid_template_rows": null,
      "height": null,
      "justify_content": null,
      "justify_items": null,
      "left": null,
      "margin": null,
      "max_height": null,
      "max_width": null,
      "min_height": null,
      "min_width": null,
      "object_fit": null,
      "object_position": null,
      "order": null,
      "overflow": null,
      "overflow_x": null,
      "overflow_y": null,
      "padding": null,
      "right": null,
      "top": null,
      "visibility": null,
      "width": null
     }
    },
    "7a9f899e27ec433cafe89a4d18f03289": {
     "model_module": "@jupyter-widgets/base",
     "model_module_version": "1.2.0",
     "model_name": "LayoutModel",
     "state": {
      "_model_module": "@jupyter-widgets/base",
      "_model_module_version": "1.2.0",
      "_model_name": "LayoutModel",
      "_view_count": null,
      "_view_module": "@jupyter-widgets/base",
      "_view_module_version": "1.2.0",
      "_view_name": "LayoutView",
      "align_content": null,
      "align_items": null,
      "align_self": null,
      "border": null,
      "bottom": null,
      "display": null,
      "flex": null,
      "flex_flow": null,
      "grid_area": null,
      "grid_auto_columns": null,
      "grid_auto_flow": null,
      "grid_auto_rows": null,
      "grid_column": null,
      "grid_gap": null,
      "grid_row": null,
      "grid_template_areas": null,
      "grid_template_columns": null,
      "grid_template_rows": null,
      "height": null,
      "justify_content": null,
      "justify_items": null,
      "left": null,
      "margin": null,
      "max_height": null,
      "max_width": null,
      "min_height": null,
      "min_width": null,
      "object_fit": null,
      "object_position": null,
      "order": null,
      "overflow": null,
      "overflow_x": null,
      "overflow_y": null,
      "padding": null,
      "right": null,
      "top": null,
      "visibility": null,
      "width": null
     }
    },
    "7cf26b8f22a24bd7b8dd2d6602eabbaa": {
     "model_module": "@jupyter-widgets/controls",
     "model_module_version": "1.5.0",
     "model_name": "FloatProgressModel",
     "state": {
      "_dom_classes": [],
      "_model_module": "@jupyter-widgets/controls",
      "_model_module_version": "1.5.0",
      "_model_name": "FloatProgressModel",
      "_view_count": null,
      "_view_module": "@jupyter-widgets/controls",
      "_view_module_version": "1.5.0",
      "_view_name": "ProgressView",
      "bar_style": "success",
      "description": "",
      "description_tooltip": null,
      "layout": "IPY_MODEL_5f91181b1703456d8c6970aad8722d33",
      "max": 2150,
      "min": 0,
      "orientation": "horizontal",
      "style": "IPY_MODEL_03d99bb50e7f4d05bc1eaf9357605edc",
      "value": 2150
     }
    },
    "7f098b29a5dd4ccd9c7721e9054b8193": {
     "model_module": "@jupyter-widgets/controls",
     "model_module_version": "1.5.0",
     "model_name": "DescriptionStyleModel",
     "state": {
      "_model_module": "@jupyter-widgets/controls",
      "_model_module_version": "1.5.0",
      "_model_name": "DescriptionStyleModel",
      "_view_count": null,
      "_view_module": "@jupyter-widgets/base",
      "_view_module_version": "1.2.0",
      "_view_name": "StyleView",
      "description_width": ""
     }
    },
    "882c7bb28e4649aaa5a3a145f1ad403c": {
     "model_module": "@jupyter-widgets/controls",
     "model_module_version": "1.5.0",
     "model_name": "FloatProgressModel",
     "state": {
      "_dom_classes": [],
      "_model_module": "@jupyter-widgets/controls",
      "_model_module_version": "1.5.0",
      "_model_name": "FloatProgressModel",
      "_view_count": null,
      "_view_module": "@jupyter-widgets/controls",
      "_view_module_version": "1.5.0",
      "_view_name": "ProgressView",
      "bar_style": "success",
      "description": "",
      "description_tooltip": null,
      "layout": "IPY_MODEL_52f80fc190cc42dd88e2c99517e5aafe",
      "max": 122,
      "min": 0,
      "orientation": "horizontal",
      "style": "IPY_MODEL_6f83dfbf5a9e43e787e0943d85d56116",
      "value": 122
     }
    },
    "88631fc7b87646ed9970c0e56a538d5e": {
     "model_module": "@jupyter-widgets/controls",
     "model_module_version": "1.5.0",
     "model_name": "HTMLModel",
     "state": {
      "_dom_classes": [],
      "_model_module": "@jupyter-widgets/controls",
      "_model_module_version": "1.5.0",
      "_model_name": "HTMLModel",
      "_view_count": null,
      "_view_module": "@jupyter-widgets/controls",
      "_view_module_version": "1.5.0",
      "_view_name": "HTMLView",
      "description": "",
      "description_tooltip": null,
      "layout": "IPY_MODEL_f61aafc4076146fdb8ea4336a79437a3",
      "placeholder": "​",
      "style": "IPY_MODEL_43a75db73aef48df9b2ef24a5cdb729f",
      "value": " 3125/3125 [00:07&lt;00:00, 752.47it/s]"
     }
    },
    "8acf765bf9144e78b4ddfd10ce1be1a2": {
     "model_module": "@jupyter-widgets/controls",
     "model_module_version": "1.5.0",
     "model_name": "HTMLModel",
     "state": {
      "_dom_classes": [],
      "_model_module": "@jupyter-widgets/controls",
      "_model_module_version": "1.5.0",
      "_model_name": "HTMLModel",
      "_view_count": null,
      "_view_module": "@jupyter-widgets/controls",
      "_view_module_version": "1.5.0",
      "_view_name": "HTMLView",
      "description": "",
      "description_tooltip": null,
      "layout": "IPY_MODEL_50dfa4c574eb49048db9f34dd804d511",
      "placeholder": "​",
      "style": "IPY_MODEL_e6779672d40847cc90eb83c35f68e401",
      "value": " 122/122 [00:00&lt;00:00, 3.52kB/s]"
     }
    },
    "8c12c5c51583410d994ff0fb5f5a72c0": {
     "model_module": "@jupyter-widgets/controls",
     "model_module_version": "1.5.0",
     "model_name": "DescriptionStyleModel",
     "state": {
      "_model_module": "@jupyter-widgets/controls",
      "_model_module_version": "1.5.0",
      "_model_name": "DescriptionStyleModel",
      "_view_count": null,
      "_view_module": "@jupyter-widgets/base",
      "_view_module_version": "1.2.0",
      "_view_name": "StyleView",
      "description_width": ""
     }
    },
    "8d1d03f1cbec4784bbf2d77e76433ede": {
     "model_module": "@jupyter-widgets/controls",
     "model_module_version": "1.5.0",
     "model_name": "HTMLModel",
     "state": {
      "_dom_classes": [],
      "_model_module": "@jupyter-widgets/controls",
      "_model_module_version": "1.5.0",
      "_model_name": "HTMLModel",
      "_view_count": null,
      "_view_module": "@jupyter-widgets/controls",
      "_view_module_version": "1.5.0",
      "_view_name": "HTMLView",
      "description": "",
      "description_tooltip": null,
      "layout": "IPY_MODEL_1f26776bc606461584596bd1da9f1bc2",
      "placeholder": "​",
      "style": "IPY_MODEL_1048ced32fe24955840eb1d779188782",
      "value": " 248/248 [00:00&lt;00:00, 5.81kB/s]"
     }
    },
    "9416159e2ff34f5c983891aba71a1b56": {
     "model_module": "@jupyter-widgets/controls",
     "model_module_version": "1.5.0",
     "model_name": "HTMLModel",
     "state": {
      "_dom_classes": [],
      "_model_module": "@jupyter-widgets/controls",
      "_model_module_version": "1.5.0",
      "_model_name": "HTMLModel",
      "_view_count": null,
      "_view_module": "@jupyter-widgets/controls",
      "_view_module_version": "1.5.0",
      "_view_name": "HTMLView",
      "description": "",
      "description_tooltip": null,
      "layout": "IPY_MODEL_398719df23f24870b0f84ed8997492b1",
      "placeholder": "​",
      "style": "IPY_MODEL_7f098b29a5dd4ccd9c7721e9054b8193",
      "value": "Downloading: 100%"
     }
    },
    "9ed78ba3bf894ed98f3e5bcb80564c95": {
     "model_module": "@jupyter-widgets/base",
     "model_module_version": "1.2.0",
     "model_name": "LayoutModel",
     "state": {
      "_model_module": "@jupyter-widgets/base",
      "_model_module_version": "1.2.0",
      "_model_name": "LayoutModel",
      "_view_count": null,
      "_view_module": "@jupyter-widgets/base",
      "_view_module_version": "1.2.0",
      "_view_name": "LayoutView",
      "align_content": null,
      "align_items": null,
      "align_self": null,
      "border": null,
      "bottom": null,
      "display": null,
      "flex": null,
      "flex_flow": null,
      "grid_area": null,
      "grid_auto_columns": null,
      "grid_auto_flow": null,
      "grid_auto_rows": null,
      "grid_column": null,
      "grid_gap": null,
      "grid_row": null,
      "grid_template_areas": null,
      "grid_template_columns": null,
      "grid_template_rows": null,
      "height": null,
      "justify_content": null,
      "justify_items": null,
      "left": null,
      "margin": null,
      "max_height": null,
      "max_width": null,
      "min_height": null,
      "min_width": null,
      "object_fit": null,
      "object_position": null,
      "order": null,
      "overflow": null,
      "overflow_x": null,
      "overflow_y": null,
      "padding": null,
      "right": null,
      "top": null,
      "visibility": null,
      "width": null
     }
    },
    "a3d566289f5245949767b8e8923b18a8": {
     "model_module": "@jupyter-widgets/controls",
     "model_module_version": "1.5.0",
     "model_name": "FloatProgressModel",
     "state": {
      "_dom_classes": [],
      "_model_module": "@jupyter-widgets/controls",
      "_model_module_version": "1.5.0",
      "_model_name": "FloatProgressModel",
      "_view_count": null,
      "_view_module": "@jupyter-widgets/controls",
      "_view_module_version": "1.5.0",
      "_view_name": "ProgressView",
      "bar_style": "success",
      "description": "",
      "description_tooltip": null,
      "layout": "IPY_MODEL_24b7ae6389344f5bbc82c2b00209826c",
      "max": 164,
      "min": 0,
      "orientation": "horizontal",
      "style": "IPY_MODEL_ce42a79e6a2d4188b0c67058f7f4afb5",
      "value": 164
     }
    },
    "a6545055c5354b99a202fb217233f6f7": {
     "model_module": "@jupyter-widgets/controls",
     "model_module_version": "1.5.0",
     "model_name": "DescriptionStyleModel",
     "state": {
      "_model_module": "@jupyter-widgets/controls",
      "_model_module_version": "1.5.0",
      "_model_name": "DescriptionStyleModel",
      "_view_count": null,
      "_view_module": "@jupyter-widgets/base",
      "_view_module_version": "1.2.0",
      "_view_name": "StyleView",
      "description_width": ""
     }
    },
    "a989fdb242304b988a8740959a7a667f": {
     "model_module": "@jupyter-widgets/controls",
     "model_module_version": "1.5.0",
     "model_name": "DescriptionStyleModel",
     "state": {
      "_model_module": "@jupyter-widgets/controls",
      "_model_module_version": "1.5.0",
      "_model_name": "DescriptionStyleModel",
      "_view_count": null,
      "_view_module": "@jupyter-widgets/base",
      "_view_module_version": "1.2.0",
      "_view_name": "StyleView",
      "description_width": ""
     }
    },
    "ad87f7bf93b64993a1cc64ee9f688265": {
     "model_module": "@jupyter-widgets/base",
     "model_module_version": "1.2.0",
     "model_name": "LayoutModel",
     "state": {
      "_model_module": "@jupyter-widgets/base",
      "_model_module_version": "1.2.0",
      "_model_name": "LayoutModel",
      "_view_count": null,
      "_view_module": "@jupyter-widgets/base",
      "_view_module_version": "1.2.0",
      "_view_name": "LayoutView",
      "align_content": null,
      "align_items": null,
      "align_self": null,
      "border": null,
      "bottom": null,
      "display": null,
      "flex": null,
      "flex_flow": null,
      "grid_area": null,
      "grid_auto_columns": null,
      "grid_auto_flow": null,
      "grid_auto_rows": null,
      "grid_column": null,
      "grid_gap": null,
      "grid_row": null,
      "grid_template_areas": null,
      "grid_template_columns": null,
      "grid_template_rows": null,
      "height": null,
      "justify_content": null,
      "justify_items": null,
      "left": null,
      "margin": null,
      "max_height": null,
      "max_width": null,
      "min_height": null,
      "min_width": null,
      "object_fit": null,
      "object_position": null,
      "order": null,
      "overflow": null,
      "overflow_x": null,
      "overflow_y": null,
      "padding": null,
      "right": null,
      "top": null,
      "visibility": null,
      "width": null
     }
    },
    "adef2cde174e431c941768de79954a3c": {
     "model_module": "@jupyter-widgets/controls",
     "model_module_version": "1.5.0",
     "model_name": "HTMLModel",
     "state": {
      "_dom_classes": [],
      "_model_module": "@jupyter-widgets/controls",
      "_model_module_version": "1.5.0",
      "_model_name": "HTMLModel",
      "_view_count": null,
      "_view_module": "@jupyter-widgets/controls",
      "_view_module_version": "1.5.0",
      "_view_name": "HTMLView",
      "description": "",
      "description_tooltip": null,
      "layout": "IPY_MODEL_cdcd5270180d4c0487deb5ebfb9281e4",
      "placeholder": "​",
      "style": "IPY_MODEL_d80a81dbaa994686bc72dbb692c10dfc",
      "value": " 2.15k/2.15k [00:00&lt;00:00, 63.2kB/s]"
     }
    },
    "af5732cd671a4941b41bd09d3b1671e9": {
     "model_module": "@jupyter-widgets/controls",
     "model_module_version": "1.5.0",
     "model_name": "HTMLModel",
     "state": {
      "_dom_classes": [],
      "_model_module": "@jupyter-widgets/controls",
      "_model_module_version": "1.5.0",
      "_model_name": "HTMLModel",
      "_view_count": null,
      "_view_module": "@jupyter-widgets/controls",
      "_view_module_version": "1.5.0",
      "_view_name": "HTMLView",
      "description": "",
      "description_tooltip": null,
      "layout": "IPY_MODEL_4fa89652d1384121aab2036d780d7ae2",
      "placeholder": "​",
      "style": "IPY_MODEL_1b403790123745eb9b9cb05bbaa247e3",
      "value": "Batches: 100%"
     }
    },
    "bc68ff1b5c9a4986b12f1f4628fcf7cd": {
     "model_module": "@jupyter-widgets/controls",
     "model_module_version": "1.5.0",
     "model_name": "DescriptionStyleModel",
     "state": {
      "_model_module": "@jupyter-widgets/controls",
      "_model_module_version": "1.5.0",
      "_model_name": "DescriptionStyleModel",
      "_view_count": null,
      "_view_module": "@jupyter-widgets/base",
      "_view_module_version": "1.2.0",
      "_view_name": "StyleView",
      "description_width": ""
     }
    },
    "c2a8078c1ffc4c6895976a94644df1a3": {
     "model_module": "@jupyter-widgets/controls",
     "model_module_version": "1.5.0",
     "model_name": "FloatProgressModel",
     "state": {
      "_dom_classes": [],
      "_model_module": "@jupyter-widgets/controls",
      "_model_module_version": "1.5.0",
      "_model_name": "FloatProgressModel",
      "_view_count": null,
      "_view_module": "@jupyter-widgets/controls",
      "_view_module_version": "1.5.0",
      "_view_name": "ProgressView",
      "bar_style": "success",
      "description": "",
      "description_tooltip": null,
      "layout": "IPY_MODEL_22065af9e85f42dc920068e31daafb35",
      "max": 3125,
      "min": 0,
      "orientation": "horizontal",
      "style": "IPY_MODEL_0ee37515ffde470d992eef2381634be6",
      "value": 3125
     }
    },
    "c5457aa4173748bdada8ca78a0a5dc24": {
     "model_module": "@jupyter-widgets/controls",
     "model_module_version": "1.5.0",
     "model_name": "HTMLModel",
     "state": {
      "_dom_classes": [],
      "_model_module": "@jupyter-widgets/controls",
      "_model_module_version": "1.5.0",
      "_model_name": "HTMLModel",
      "_view_count": null,
      "_view_module": "@jupyter-widgets/controls",
      "_view_module_version": "1.5.0",
      "_view_name": "HTMLView",
      "description": "",
      "description_tooltip": null,
      "layout": "IPY_MODEL_315cd7621f5b4a00bd5d0f7d3e1a32f4",
      "placeholder": "​",
      "style": "IPY_MODEL_a989fdb242304b988a8740959a7a667f",
      "value": " 164/164 [00:00&lt;00:00, 4.66kB/s]"
     }
    },
    "cdcd5270180d4c0487deb5ebfb9281e4": {
     "model_module": "@jupyter-widgets/base",
     "model_module_version": "1.2.0",
     "model_name": "LayoutModel",
     "state": {
      "_model_module": "@jupyter-widgets/base",
      "_model_module_version": "1.2.0",
      "_model_name": "LayoutModel",
      "_view_count": null,
      "_view_module": "@jupyter-widgets/base",
      "_view_module_version": "1.2.0",
      "_view_name": "LayoutView",
      "align_content": null,
      "align_items": null,
      "align_self": null,
      "border": null,
      "bottom": null,
      "display": null,
      "flex": null,
      "flex_flow": null,
      "grid_area": null,
      "grid_auto_columns": null,
      "grid_auto_flow": null,
      "grid_auto_rows": null,
      "grid_column": null,
      "grid_gap": null,
      "grid_row": null,
      "grid_template_areas": null,
      "grid_template_columns": null,
      "grid_template_rows": null,
      "height": null,
      "justify_content": null,
      "justify_items": null,
      "left": null,
      "margin": null,
      "max_height": null,
      "max_width": null,
      "min_height": null,
      "min_width": null,
      "object_fit": null,
      "object_position": null,
      "order": null,
      "overflow": null,
      "overflow_x": null,
      "overflow_y": null,
      "padding": null,
      "right": null,
      "top": null,
      "visibility": null,
      "width": null
     }
    },
    "ce42a79e6a2d4188b0c67058f7f4afb5": {
     "model_module": "@jupyter-widgets/controls",
     "model_module_version": "1.5.0",
     "model_name": "ProgressStyleModel",
     "state": {
      "_model_module": "@jupyter-widgets/controls",
      "_model_module_version": "1.5.0",
      "_model_name": "ProgressStyleModel",
      "_view_count": null,
      "_view_module": "@jupyter-widgets/base",
      "_view_module_version": "1.2.0",
      "_view_name": "StyleView",
      "bar_color": null,
      "description_width": ""
     }
    },
    "d17b5d51352a4b72bbcf89ba9e65a344": {
     "model_module": "@jupyter-widgets/controls",
     "model_module_version": "1.5.0",
     "model_name": "ProgressStyleModel",
     "state": {
      "_model_module": "@jupyter-widgets/controls",
      "_model_module_version": "1.5.0",
      "_model_name": "ProgressStyleModel",
      "_view_count": null,
      "_view_module": "@jupyter-widgets/base",
      "_view_module_version": "1.2.0",
      "_view_name": "StyleView",
      "bar_color": null,
      "description_width": ""
     }
    },
    "d2786cb0a70646459cdf427bcd9bd9f4": {
     "model_module": "@jupyter-widgets/controls",
     "model_module_version": "1.5.0",
     "model_name": "DescriptionStyleModel",
     "state": {
      "_model_module": "@jupyter-widgets/controls",
      "_model_module_version": "1.5.0",
      "_model_name": "DescriptionStyleModel",
      "_view_count": null,
      "_view_module": "@jupyter-widgets/base",
      "_view_module_version": "1.2.0",
      "_view_name": "StyleView",
      "description_width": ""
     }
    },
    "d295c9b530b54edfa6b11c0fedb11203": {
     "model_module": "@jupyter-widgets/controls",
     "model_module_version": "1.5.0",
     "model_name": "FloatProgressModel",
     "state": {
      "_dom_classes": [],
      "_model_module": "@jupyter-widgets/controls",
      "_model_module_version": "1.5.0",
      "_model_name": "FloatProgressModel",
      "_view_count": null,
      "_view_module": "@jupyter-widgets/controls",
      "_view_module_version": "1.5.0",
      "_view_name": "ProgressView",
      "bar_style": "success",
      "description": "",
      "description_tooltip": null,
      "layout": "IPY_MODEL_2adb43d3a02948df8c6fca9c2dddce55",
      "max": 248,
      "min": 0,
      "orientation": "horizontal",
      "style": "IPY_MODEL_21463531fec949de83183c48d5b0c372",
      "value": 248
     }
    },
    "d641d2c794194e289cee0e6947ececd5": {
     "model_module": "@jupyter-widgets/controls",
     "model_module_version": "1.5.0",
     "model_name": "HTMLModel",
     "state": {
      "_dom_classes": [],
      "_model_module": "@jupyter-widgets/controls",
      "_model_module_version": "1.5.0",
      "_model_name": "HTMLModel",
      "_view_count": null,
      "_view_module": "@jupyter-widgets/controls",
      "_view_module_version": "1.5.0",
      "_view_name": "HTMLView",
      "description": "",
      "description_tooltip": null,
      "layout": "IPY_MODEL_324fadc98fec4bb0bb7ef6dc38bbf48e",
      "placeholder": "​",
      "style": "IPY_MODEL_006af2414bff44f1acaec35ef7055e6c",
      "value": " 190/190 [00:00&lt;00:00, 6.28kB/s]"
     }
    },
    "d6cceadbf7e64012b201b3ca5d44aeb7": {
     "model_module": "@jupyter-widgets/controls",
     "model_module_version": "1.5.0",
     "model_name": "HBoxModel",
     "state": {
      "_dom_classes": [],
      "_model_module": "@jupyter-widgets/controls",
      "_model_module_version": "1.5.0",
      "_model_name": "HBoxModel",
      "_view_count": null,
      "_view_module": "@jupyter-widgets/controls",
      "_view_module_version": "1.5.0",
      "_view_name": "HBoxView",
      "box_style": "",
      "children": [
       "IPY_MODEL_38b04ed6613c430186fca6cfc9cc6414",
       "IPY_MODEL_13e93fc81ef64f919fee19eac0a39594",
       "IPY_MODEL_d641d2c794194e289cee0e6947ececd5"
      ],
      "layout": "IPY_MODEL_f4d24d46669548a69b18e9d58af25de3"
     }
    },
    "d80a81dbaa994686bc72dbb692c10dfc": {
     "model_module": "@jupyter-widgets/controls",
     "model_module_version": "1.5.0",
     "model_name": "DescriptionStyleModel",
     "state": {
      "_model_module": "@jupyter-widgets/controls",
      "_model_module_version": "1.5.0",
      "_model_name": "DescriptionStyleModel",
      "_view_count": null,
      "_view_module": "@jupyter-widgets/base",
      "_view_module_version": "1.2.0",
      "_view_name": "StyleView",
      "description_width": ""
     }
    },
    "d864eebd3e17478589f039c9b956fed3": {
     "model_module": "@jupyter-widgets/controls",
     "model_module_version": "1.5.0",
     "model_name": "HBoxModel",
     "state": {
      "_dom_classes": [],
      "_model_module": "@jupyter-widgets/controls",
      "_model_module_version": "1.5.0",
      "_model_name": "HBoxModel",
      "_view_count": null,
      "_view_module": "@jupyter-widgets/controls",
      "_view_module_version": "1.5.0",
      "_view_name": "HBoxView",
      "box_style": "",
      "children": [
       "IPY_MODEL_3871f11bcee5406b87fac2a2bc494a9d",
       "IPY_MODEL_7cf26b8f22a24bd7b8dd2d6602eabbaa",
       "IPY_MODEL_adef2cde174e431c941768de79954a3c"
      ],
      "layout": "IPY_MODEL_7414efbd204248a3b296fcf38d1e5ad4"
     }
    },
    "da3c42155e16420daa3f3441a9f2cae4": {
     "model_module": "@jupyter-widgets/controls",
     "model_module_version": "1.5.0",
     "model_name": "ProgressStyleModel",
     "state": {
      "_model_module": "@jupyter-widgets/controls",
      "_model_module_version": "1.5.0",
      "_model_name": "ProgressStyleModel",
      "_view_count": null,
      "_view_module": "@jupyter-widgets/base",
      "_view_module_version": "1.2.0",
      "_view_name": "StyleView",
      "bar_color": null,
      "description_width": ""
     }
    },
    "e15b44272317418bb4defa51b34c0fa7": {
     "model_module": "@jupyter-widgets/base",
     "model_module_version": "1.2.0",
     "model_name": "LayoutModel",
     "state": {
      "_model_module": "@jupyter-widgets/base",
      "_model_module_version": "1.2.0",
      "_model_name": "LayoutModel",
      "_view_count": null,
      "_view_module": "@jupyter-widgets/base",
      "_view_module_version": "1.2.0",
      "_view_name": "LayoutView",
      "align_content": null,
      "align_items": null,
      "align_self": null,
      "border": null,
      "bottom": null,
      "display": null,
      "flex": null,
      "flex_flow": null,
      "grid_area": null,
      "grid_auto_columns": null,
      "grid_auto_flow": null,
      "grid_auto_rows": null,
      "grid_column": null,
      "grid_gap": null,
      "grid_row": null,
      "grid_template_areas": null,
      "grid_template_columns": null,
      "grid_template_rows": null,
      "height": null,
      "justify_content": null,
      "justify_items": null,
      "left": null,
      "margin": null,
      "max_height": null,
      "max_width": null,
      "min_height": null,
      "min_width": null,
      "object_fit": null,
      "object_position": null,
      "order": null,
      "overflow": null,
      "overflow_x": null,
      "overflow_y": null,
      "padding": null,
      "right": null,
      "top": null,
      "visibility": null,
      "width": null
     }
    },
    "e3e4c5d2d6324fe38387282e3e8f5c69": {
     "model_module": "@jupyter-widgets/controls",
     "model_module_version": "1.5.0",
     "model_name": "HBoxModel",
     "state": {
      "_dom_classes": [],
      "_model_module": "@jupyter-widgets/controls",
      "_model_module_version": "1.5.0",
      "_model_name": "HBoxModel",
      "_view_count": null,
      "_view_module": "@jupyter-widgets/controls",
      "_view_module_version": "1.5.0",
      "_view_name": "HBoxView",
      "box_style": "",
      "children": [
       "IPY_MODEL_af5732cd671a4941b41bd09d3b1671e9",
       "IPY_MODEL_c2a8078c1ffc4c6895976a94644df1a3",
       "IPY_MODEL_88631fc7b87646ed9970c0e56a538d5e"
      ],
      "layout": "IPY_MODEL_4c61635a83fc49a5b98ac78524a0bb1b"
     }
    },
    "e43b64b499f84463a8399706da69e937": {
     "model_module": "@jupyter-widgets/controls",
     "model_module_version": "1.5.0",
     "model_name": "HTMLModel",
     "state": {
      "_dom_classes": [],
      "_model_module": "@jupyter-widgets/controls",
      "_model_module_version": "1.5.0",
      "_model_name": "HTMLModel",
      "_view_count": null,
      "_view_module": "@jupyter-widgets/controls",
      "_view_module_version": "1.5.0",
      "_view_name": "HTMLView",
      "description": "",
      "description_tooltip": null,
      "layout": "IPY_MODEL_6e92091256914b929566172a53c00e73",
      "placeholder": "​",
      "style": "IPY_MODEL_bc68ff1b5c9a4986b12f1f4628fcf7cd",
      "value": " 4.61M/4.61M [00:00&lt;00:00, 3.70MB/s]"
     }
    },
    "e6779672d40847cc90eb83c35f68e401": {
     "model_module": "@jupyter-widgets/controls",
     "model_module_version": "1.5.0",
     "model_name": "DescriptionStyleModel",
     "state": {
      "_model_module": "@jupyter-widgets/controls",
      "_model_module_version": "1.5.0",
      "_model_name": "DescriptionStyleModel",
      "_view_count": null,
      "_view_module": "@jupyter-widgets/base",
      "_view_module_version": "1.2.0",
      "_view_name": "StyleView",
      "description_width": ""
     }
    },
    "e873b9de9f3e4ce5b72b47be99c08644": {
     "model_module": "@jupyter-widgets/base",
     "model_module_version": "1.2.0",
     "model_name": "LayoutModel",
     "state": {
      "_model_module": "@jupyter-widgets/base",
      "_model_module_version": "1.2.0",
      "_model_name": "LayoutModel",
      "_view_count": null,
      "_view_module": "@jupyter-widgets/base",
      "_view_module_version": "1.2.0",
      "_view_name": "LayoutView",
      "align_content": null,
      "align_items": null,
      "align_self": null,
      "border": null,
      "bottom": null,
      "display": null,
      "flex": null,
      "flex_flow": null,
      "grid_area": null,
      "grid_auto_columns": null,
      "grid_auto_flow": null,
      "grid_auto_rows": null,
      "grid_column": null,
      "grid_gap": null,
      "grid_row": null,
      "grid_template_areas": null,
      "grid_template_columns": null,
      "grid_template_rows": null,
      "height": null,
      "justify_content": null,
      "justify_items": null,
      "left": null,
      "margin": null,
      "max_height": null,
      "max_width": null,
      "min_height": null,
      "min_width": null,
      "object_fit": null,
      "object_position": null,
      "order": null,
      "overflow": null,
      "overflow_x": null,
      "overflow_y": null,
      "padding": null,
      "right": null,
      "top": null,
      "visibility": null,
      "width": null
     }
    },
    "e8ad26ad70e7433690d38aab2ac5fe88": {
     "model_module": "@jupyter-widgets/controls",
     "model_module_version": "1.5.0",
     "model_name": "DescriptionStyleModel",
     "state": {
      "_model_module": "@jupyter-widgets/controls",
      "_model_module_version": "1.5.0",
      "_model_name": "DescriptionStyleModel",
      "_view_count": null,
      "_view_module": "@jupyter-widgets/base",
      "_view_module_version": "1.2.0",
      "_view_name": "StyleView",
      "description_width": ""
     }
    },
    "e9952627502f4cc1b216876cd6d4b7ed": {
     "model_module": "@jupyter-widgets/base",
     "model_module_version": "1.2.0",
     "model_name": "LayoutModel",
     "state": {
      "_model_module": "@jupyter-widgets/base",
      "_model_module_version": "1.2.0",
      "_model_name": "LayoutModel",
      "_view_count": null,
      "_view_module": "@jupyter-widgets/base",
      "_view_module_version": "1.2.0",
      "_view_name": "LayoutView",
      "align_content": null,
      "align_items": null,
      "align_self": null,
      "border": null,
      "bottom": null,
      "display": null,
      "flex": null,
      "flex_flow": null,
      "grid_area": null,
      "grid_auto_columns": null,
      "grid_auto_flow": null,
      "grid_auto_rows": null,
      "grid_column": null,
      "grid_gap": null,
      "grid_row": null,
      "grid_template_areas": null,
      "grid_template_columns": null,
      "grid_template_rows": null,
      "height": null,
      "justify_content": null,
      "justify_items": null,
      "left": null,
      "margin": null,
      "max_height": null,
      "max_width": null,
      "min_height": null,
      "min_width": null,
      "object_fit": null,
      "object_position": null,
      "order": null,
      "overflow": null,
      "overflow_x": null,
      "overflow_y": null,
      "padding": null,
      "right": null,
      "top": null,
      "visibility": null,
      "width": null
     }
    },
    "eddf204999ff404a85572478243a872c": {
     "model_module": "@jupyter-widgets/base",
     "model_module_version": "1.2.0",
     "model_name": "LayoutModel",
     "state": {
      "_model_module": "@jupyter-widgets/base",
      "_model_module_version": "1.2.0",
      "_model_name": "LayoutModel",
      "_view_count": null,
      "_view_module": "@jupyter-widgets/base",
      "_view_module_version": "1.2.0",
      "_view_name": "LayoutView",
      "align_content": null,
      "align_items": null,
      "align_self": null,
      "border": null,
      "bottom": null,
      "display": null,
      "flex": null,
      "flex_flow": null,
      "grid_area": null,
      "grid_auto_columns": null,
      "grid_auto_flow": null,
      "grid_auto_rows": null,
      "grid_column": null,
      "grid_gap": null,
      "grid_row": null,
      "grid_template_areas": null,
      "grid_template_columns": null,
      "grid_template_rows": null,
      "height": null,
      "justify_content": null,
      "justify_items": null,
      "left": null,
      "margin": null,
      "max_height": null,
      "max_width": null,
      "min_height": null,
      "min_width": null,
      "object_fit": null,
      "object_position": null,
      "order": null,
      "overflow": null,
      "overflow_x": null,
      "overflow_y": null,
      "padding": null,
      "right": null,
      "top": null,
      "visibility": null,
      "width": null
     }
    },
    "edeb55be9e49438d89d1e7614342d48c": {
     "model_module": "@jupyter-widgets/controls",
     "model_module_version": "1.5.0",
     "model_name": "HBoxModel",
     "state": {
      "_dom_classes": [],
      "_model_module": "@jupyter-widgets/controls",
      "_model_module_version": "1.5.0",
      "_model_name": "HBoxModel",
      "_view_count": null,
      "_view_module": "@jupyter-widgets/controls",
      "_view_module_version": "1.5.0",
      "_view_name": "HBoxView",
      "box_style": "",
      "children": [
       "IPY_MODEL_32766bba557043ddbe4c0edef161a87f",
       "IPY_MODEL_60cccfab6b3b450ab6a8db238514f823",
       "IPY_MODEL_e43b64b499f84463a8399706da69e937"
      ],
      "layout": "IPY_MODEL_eddf204999ff404a85572478243a872c"
     }
    },
    "efa663d642b448518a14558a4014efff": {
     "model_module": "@jupyter-widgets/controls",
     "model_module_version": "1.5.0",
     "model_name": "HBoxModel",
     "state": {
      "_dom_classes": [],
      "_model_module": "@jupyter-widgets/controls",
      "_model_module_version": "1.5.0",
      "_model_name": "HBoxModel",
      "_view_count": null,
      "_view_module": "@jupyter-widgets/controls",
      "_view_module_version": "1.5.0",
      "_view_name": "HBoxView",
      "box_style": "",
      "children": [
       "IPY_MODEL_2adb56ba4270417ea2923faf135f843a",
       "IPY_MODEL_882c7bb28e4649aaa5a3a145f1ad403c",
       "IPY_MODEL_8acf765bf9144e78b4ddfd10ce1be1a2"
      ],
      "layout": "IPY_MODEL_ff748e09aa814d4d921f306bb0f2d6f7"
     }
    },
    "f0c8f0851c794dd688c745b5305b6e9c": {
     "model_module": "@jupyter-widgets/base",
     "model_module_version": "1.2.0",
     "model_name": "LayoutModel",
     "state": {
      "_model_module": "@jupyter-widgets/base",
      "_model_module_version": "1.2.0",
      "_model_name": "LayoutModel",
      "_view_count": null,
      "_view_module": "@jupyter-widgets/base",
      "_view_module_version": "1.2.0",
      "_view_name": "LayoutView",
      "align_content": null,
      "align_items": null,
      "align_self": null,
      "border": null,
      "bottom": null,
      "display": null,
      "flex": null,
      "flex_flow": null,
      "grid_area": null,
      "grid_auto_columns": null,
      "grid_auto_flow": null,
      "grid_auto_rows": null,
      "grid_column": null,
      "grid_gap": null,
      "grid_row": null,
      "grid_template_areas": null,
      "grid_template_columns": null,
      "grid_template_rows": null,
      "height": null,
      "justify_content": null,
      "justify_items": null,
      "left": null,
      "margin": null,
      "max_height": null,
      "max_width": null,
      "min_height": null,
      "min_width": null,
      "object_fit": null,
      "object_position": null,
      "order": null,
      "overflow": null,
      "overflow_x": null,
      "overflow_y": null,
      "padding": null,
      "right": null,
      "top": null,
      "visibility": null,
      "width": null
     }
    },
    "f4d24d46669548a69b18e9d58af25de3": {
     "model_module": "@jupyter-widgets/base",
     "model_module_version": "1.2.0",
     "model_name": "LayoutModel",
     "state": {
      "_model_module": "@jupyter-widgets/base",
      "_model_module_version": "1.2.0",
      "_model_name": "LayoutModel",
      "_view_count": null,
      "_view_module": "@jupyter-widgets/base",
      "_view_module_version": "1.2.0",
      "_view_name": "LayoutView",
      "align_content": null,
      "align_items": null,
      "align_self": null,
      "border": null,
      "bottom": null,
      "display": null,
      "flex": null,
      "flex_flow": null,
      "grid_area": null,
      "grid_auto_columns": null,
      "grid_auto_flow": null,
      "grid_auto_rows": null,
      "grid_column": null,
      "grid_gap": null,
      "grid_row": null,
      "grid_template_areas": null,
      "grid_template_columns": null,
      "grid_template_rows": null,
      "height": null,
      "justify_content": null,
      "justify_items": null,
      "left": null,
      "margin": null,
      "max_height": null,
      "max_width": null,
      "min_height": null,
      "min_width": null,
      "object_fit": null,
      "object_position": null,
      "order": null,
      "overflow": null,
      "overflow_x": null,
      "overflow_y": null,
      "padding": null,
      "right": null,
      "top": null,
      "visibility": null,
      "width": null
     }
    },
    "f4df54a27f2d4ae6aba4efef034ae939": {
     "model_module": "@jupyter-widgets/base",
     "model_module_version": "1.2.0",
     "model_name": "LayoutModel",
     "state": {
      "_model_module": "@jupyter-widgets/base",
      "_model_module_version": "1.2.0",
      "_model_name": "LayoutModel",
      "_view_count": null,
      "_view_module": "@jupyter-widgets/base",
      "_view_module_version": "1.2.0",
      "_view_name": "LayoutView",
      "align_content": null,
      "align_items": null,
      "align_self": null,
      "border": null,
      "bottom": null,
      "display": null,
      "flex": null,
      "flex_flow": null,
      "grid_area": null,
      "grid_auto_columns": null,
      "grid_auto_flow": null,
      "grid_auto_rows": null,
      "grid_column": null,
      "grid_gap": null,
      "grid_row": null,
      "grid_template_areas": null,
      "grid_template_columns": null,
      "grid_template_rows": null,
      "height": null,
      "justify_content": null,
      "justify_items": null,
      "left": null,
      "margin": null,
      "max_height": null,
      "max_width": null,
      "min_height": null,
      "min_width": null,
      "object_fit": null,
      "object_position": null,
      "order": null,
      "overflow": null,
      "overflow_x": null,
      "overflow_y": null,
      "padding": null,
      "right": null,
      "top": null,
      "visibility": null,
      "width": null
     }
    },
    "f604f3300bcc48a4b8421965019c127a": {
     "model_module": "@jupyter-widgets/controls",
     "model_module_version": "1.5.0",
     "model_name": "ProgressStyleModel",
     "state": {
      "_model_module": "@jupyter-widgets/controls",
      "_model_module_version": "1.5.0",
      "_model_name": "ProgressStyleModel",
      "_view_count": null,
      "_view_module": "@jupyter-widgets/base",
      "_view_module_version": "1.2.0",
      "_view_name": "StyleView",
      "bar_color": null,
      "description_width": ""
     }
    },
    "f61aafc4076146fdb8ea4336a79437a3": {
     "model_module": "@jupyter-widgets/base",
     "model_module_version": "1.2.0",
     "model_name": "LayoutModel",
     "state": {
      "_model_module": "@jupyter-widgets/base",
      "_model_module_version": "1.2.0",
      "_model_name": "LayoutModel",
      "_view_count": null,
      "_view_module": "@jupyter-widgets/base",
      "_view_module_version": "1.2.0",
      "_view_name": "LayoutView",
      "align_content": null,
      "align_items": null,
      "align_self": null,
      "border": null,
      "bottom": null,
      "display": null,
      "flex": null,
      "flex_flow": null,
      "grid_area": null,
      "grid_auto_columns": null,
      "grid_auto_flow": null,
      "grid_auto_rows": null,
      "grid_column": null,
      "grid_gap": null,
      "grid_row": null,
      "grid_template_areas": null,
      "grid_template_columns": null,
      "grid_template_rows": null,
      "height": null,
      "justify_content": null,
      "justify_items": null,
      "left": null,
      "margin": null,
      "max_height": null,
      "max_width": null,
      "min_height": null,
      "min_width": null,
      "object_fit": null,
      "object_position": null,
      "order": null,
      "overflow": null,
      "overflow_x": null,
      "overflow_y": null,
      "padding": null,
      "right": null,
      "top": null,
      "visibility": null,
      "width": null
     }
    },
    "f9cec162c8a240d19c1654acb6fd418c": {
     "model_module": "@jupyter-widgets/controls",
     "model_module_version": "1.5.0",
     "model_name": "DescriptionStyleModel",
     "state": {
      "_model_module": "@jupyter-widgets/controls",
      "_model_module_version": "1.5.0",
      "_model_name": "DescriptionStyleModel",
      "_view_count": null,
      "_view_module": "@jupyter-widgets/base",
      "_view_module_version": "1.2.0",
      "_view_name": "StyleView",
      "description_width": ""
     }
    },
    "fb90b5a66d7a4be282d616d8f9168692": {
     "model_module": "@jupyter-widgets/base",
     "model_module_version": "1.2.0",
     "model_name": "LayoutModel",
     "state": {
      "_model_module": "@jupyter-widgets/base",
      "_model_module_version": "1.2.0",
      "_model_name": "LayoutModel",
      "_view_count": null,
      "_view_module": "@jupyter-widgets/base",
      "_view_module_version": "1.2.0",
      "_view_name": "LayoutView",
      "align_content": null,
      "align_items": null,
      "align_self": null,
      "border": null,
      "bottom": null,
      "display": null,
      "flex": null,
      "flex_flow": null,
      "grid_area": null,
      "grid_auto_columns": null,
      "grid_auto_flow": null,
      "grid_auto_rows": null,
      "grid_column": null,
      "grid_gap": null,
      "grid_row": null,
      "grid_template_areas": null,
      "grid_template_columns": null,
      "grid_template_rows": null,
      "height": null,
      "justify_content": null,
      "justify_items": null,
      "left": null,
      "margin": null,
      "max_height": null,
      "max_width": null,
      "min_height": null,
      "min_width": null,
      "object_fit": null,
      "object_position": null,
      "order": null,
      "overflow": null,
      "overflow_x": null,
      "overflow_y": null,
      "padding": null,
      "right": null,
      "top": null,
      "visibility": null,
      "width": null
     }
    },
    "ff748e09aa814d4d921f306bb0f2d6f7": {
     "model_module": "@jupyter-widgets/base",
     "model_module_version": "1.2.0",
     "model_name": "LayoutModel",
     "state": {
      "_model_module": "@jupyter-widgets/base",
      "_model_module_version": "1.2.0",
      "_model_name": "LayoutModel",
      "_view_count": null,
      "_view_module": "@jupyter-widgets/base",
      "_view_module_version": "1.2.0",
      "_view_name": "LayoutView",
      "align_content": null,
      "align_items": null,
      "align_self": null,
      "border": null,
      "bottom": null,
      "display": null,
      "flex": null,
      "flex_flow": null,
      "grid_area": null,
      "grid_auto_columns": null,
      "grid_auto_flow": null,
      "grid_auto_rows": null,
      "grid_column": null,
      "grid_gap": null,
      "grid_row": null,
      "grid_template_areas": null,
      "grid_template_columns": null,
      "grid_template_rows": null,
      "height": null,
      "justify_content": null,
      "justify_items": null,
      "left": null,
      "margin": null,
      "max_height": null,
      "max_width": null,
      "min_height": null,
      "min_width": null,
      "object_fit": null,
      "object_position": null,
      "order": null,
      "overflow": null,
      "overflow_x": null,
      "overflow_y": null,
      "padding": null,
      "right": null,
      "top": null,
      "visibility": null,
      "width": null
     }
    }
   }
  }
 },
 "nbformat": 4,
 "nbformat_minor": 5
}
