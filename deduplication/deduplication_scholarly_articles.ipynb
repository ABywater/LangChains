{
 "cells": [
  {
   "cell_type": "markdown",
   "id": "a4e2fc01",
   "metadata": {
    "id": "p5Fyoo5_ZqSR",
    "papermill": {
     "duration": 0.063978,
     "end_time": "2021-04-22T02:05:48.011289",
     "exception": false,
     "start_time": "2021-04-22T02:05:47.947311",
     "status": "completed"
    },
    "tags": []
   },
   "source": [
    "# Document Deduplication with Similarity Search"
   ]
  },
  {
   "cell_type": "markdown",
   "id": "12df02b4",
   "metadata": {
    "id": "9sf8biV8Kh9Z",
    "papermill": {
     "duration": 0.048328,
     "end_time": "2021-04-22T02:05:48.113684",
     "exception": false,
     "start_time": "2021-04-22T02:05:48.065356",
     "status": "completed"
    },
    "tags": []
   },
   "source": [
    "This notebook demonstrates how to use Pinecone's similarity search to create a simple application to identify duplicate documents. \n",
    "\n",
    "The goal is to create a data deduplication application for eliminating near-duplicate copies of academic texts. In this example, we will perform the deduplication of a given text in two steps. First, we will sift a small set of candidate texts using a similarity-search service. Then, we will apply a near-duplication detector over these candidates. \n",
    "\n",
    "The similarity search will use a vector representation of the texts. With this, semantic similarity is translated to proximity in a vector space. For detecting near-duplicates, we will employ a classification model that examines the raw text. "
   ]
  },
  {
   "cell_type": "markdown",
   "id": "d653024a",
   "metadata": {
    "id": "kFKCbb42qwnu",
    "papermill": {
     "duration": 0.050676,
     "end_time": "2021-04-22T02:05:48.215811",
     "exception": false,
     "start_time": "2021-04-22T02:05:48.165135",
     "status": "completed"
    },
    "tags": []
   },
   "source": [
    "## Dependencies"
   ]
  },
  {
   "cell_type": "code",
   "execution_count": 1,
   "id": "08cd7b6e",
   "metadata": {
    "colab": {
     "base_uri": "https://localhost:8080/"
    },
    "execution": {
     "iopub.execute_input": "2021-04-22T02:05:48.328155Z",
     "iopub.status.busy": "2021-04-22T02:05:48.327286Z",
     "iopub.status.idle": "2021-04-22T02:07:42.054287Z",
     "shell.execute_reply": "2021-04-22T02:07:42.051766Z"
    },
    "executionInfo": {
     "elapsed": 15747,
     "status": "ok",
     "timestamp": 1617720697883,
     "user": {
      "displayName": "Rajat Tripathi",
      "photoUrl": "",
      "userId": "04027590592238680740"
     },
     "user_tz": 240
    },
    "id": "_73jvPEirez_",
    "outputId": "a2555620-48c2-40f5-f685-4f8e2e399aec",
    "papermill": {
     "duration": 113.78609,
     "end_time": "2021-04-22T02:07:42.055032",
     "exception": false,
     "start_time": "2021-04-22T02:05:48.268942",
     "status": "completed"
    },
    "tags": []
   },
   "outputs": [],
   "source": [
    "!pip install -qU datasketch gensim mmh3 pinecone-client ipywidgets\n",
    "!pip install -qU sentence-transformers --no-cache-dir"
   ]
  },
  {
   "cell_type": "code",
   "execution_count": 2,
   "id": "430017ba",
   "metadata": {
    "execution": {
     "iopub.execute_input": "2021-04-22T02:07:42.220927Z",
     "iopub.status.busy": "2021-04-22T02:07:42.216127Z",
     "iopub.status.idle": "2021-04-22T02:07:45.552891Z",
     "shell.execute_reply": "2021-04-22T02:07:45.551972Z"
    },
    "executionInfo": {
     "elapsed": 21766,
     "status": "ok",
     "timestamp": 1617720703906,
     "user": {
      "displayName": "Rajat Tripathi",
      "photoUrl": "",
      "userId": "04027590592238680740"
     },
     "user_tz": 240
    },
    "id": "wpGkaRonq3d1",
    "papermill": {
     "duration": 3.416794,
     "end_time": "2021-04-22T02:07:45.553155",
     "exception": false,
     "start_time": "2021-04-22T02:07:42.136361",
     "status": "completed"
    },
    "tags": []
   },
   "outputs": [],
   "source": [
    "import os\n",
    "import json\n",
    "import math\n",
    "import statistics\n",
    "import pandas as pd\n",
    "from tqdm import tqdm\n",
    "from sentence_transformers import SentenceTransformer\n",
    "from gensim.utils import tokenize\n",
    "from datasketch.minhash import MinHash\n",
    "from datasketch.lsh import MinHashLSH"
   ]
  },
  {
   "cell_type": "markdown",
   "id": "c8f82b70",
   "metadata": {
    "id": "40o_x4kHIdAN",
    "papermill": {
     "duration": 0.047927,
     "end_time": "2021-04-22T02:07:45.647713",
     "exception": false,
     "start_time": "2021-04-22T02:07:45.599786",
     "status": "completed"
    },
    "tags": []
   },
   "source": [
    "## Pinecone Setup"
   ]
  },
  {
   "cell_type": "code",
   "execution_count": 3,
   "id": "90ffb6cc",
   "metadata": {
    "execution": {
     "iopub.execute_input": "2021-04-22T02:07:45.754990Z",
     "iopub.status.busy": "2021-04-22T02:07:45.750917Z",
     "iopub.status.idle": "2021-04-22T02:07:46.316214Z",
     "shell.execute_reply": "2021-04-22T02:07:46.315720Z"
    },
    "executionInfo": {
     "elapsed": 41304,
     "status": "ok",
     "timestamp": 1617720723453,
     "user": {
      "displayName": "Rajat Tripathi",
      "photoUrl": "",
      "userId": "04027590592238680740"
     },
     "user_tz": 240
    },
    "id": "0T2aDjC0IF5H",
    "papermill": {
     "duration": 0.620025,
     "end_time": "2021-04-22T02:07:46.316451",
     "exception": false,
     "start_time": "2021-04-22T02:07:45.696426",
     "status": "completed"
    },
    "tags": []
   },
   "outputs": [],
   "source": [
    "import pinecone\n",
    "\n",
    "# Load Pinecone API key\n",
    "api_key = os.getenv(\"PINECONE_API_KEY\") or \"YOUR_API_KEY\"\n",
    "pinecone.init(api_key=api_key, environment='us-west1-gcp')"
   ]
  },
  {
   "cell_type": "markdown",
   "id": "c4d52e5a",
   "metadata": {
    "id": "VzabFJ6dKh9h",
    "papermill": {
     "duration": 0.047172,
     "end_time": "2021-04-22T02:07:46.408965",
     "exception": false,
     "start_time": "2021-04-22T02:07:46.361793",
     "status": "completed"
    },
    "tags": []
   },
   "source": [
    "[Get a Pinecone API key](https://www.pinecone.io/start/) if you don’t have one already."
   ]
  },
  {
   "cell_type": "markdown",
   "id": "32cdeaf7",
   "metadata": {
    "id": "ku__bKoJ5LUj",
    "papermill": {
     "duration": 0.045346,
     "end_time": "2021-04-22T02:07:46.498533",
     "exception": false,
     "start_time": "2021-04-22T02:07:46.453187",
     "status": "completed"
    },
    "tags": []
   },
   "source": [
    "## Define a New Pinecone Index"
   ]
  },
  {
   "cell_type": "code",
   "execution_count": 4,
   "id": "22da3d56",
   "metadata": {
    "execution": {
     "iopub.execute_input": "2021-04-22T02:07:46.601276Z",
     "iopub.status.busy": "2021-04-22T02:07:46.599500Z",
     "iopub.status.idle": "2021-04-22T02:07:46.602060Z",
     "shell.execute_reply": "2021-04-22T02:07:46.602555Z"
    },
    "executionInfo": {
     "elapsed": 41301,
     "status": "ok",
     "timestamp": 1617720723457,
     "user": {
      "displayName": "Rajat Tripathi",
      "photoUrl": "",
      "userId": "04027590592238680740"
     },
     "user_tz": 240
    },
    "id": "bUUZOnlWIF5I",
    "papermill": {
     "duration": 0.057581,
     "end_time": "2021-04-22T02:07:46.602789",
     "exception": false,
     "start_time": "2021-04-22T02:07:46.545208",
     "status": "completed"
    },
    "tags": []
   },
   "outputs": [],
   "source": [
    "# Pick a name for the new index\n",
    "index_name = \"deduplication\""
   ]
  },
  {
   "cell_type": "code",
   "execution_count": 5,
   "id": "30ac8521",
   "metadata": {
    "execution": {
     "iopub.execute_input": "2021-04-22T02:07:46.698891Z",
     "iopub.status.busy": "2021-04-22T02:07:46.697259Z",
     "iopub.status.idle": "2021-04-22T02:07:47.197160Z",
     "shell.execute_reply": "2021-04-22T02:07:47.195383Z"
    },
    "executionInfo": {
     "elapsed": 41462,
     "status": "ok",
     "timestamp": 1617720723621,
     "user": {
      "displayName": "Rajat Tripathi",
      "photoUrl": "",
      "userId": "04027590592238680740"
     },
     "user_tz": 240
    },
    "id": "5SvD05K2IF5I",
    "papermill": {
     "duration": 0.54984,
     "end_time": "2021-04-22T02:07:47.197761",
     "exception": false,
     "start_time": "2021-04-22T02:07:46.647921",
     "status": "completed"
    },
    "tags": []
   },
   "outputs": [],
   "source": [
    "# Check whether an index with the same name already exists\n",
    "if index_name in pinecone.list_indexes():\n",
    "    pinecone.delete_index(index_name)"
   ]
  },
  {
   "cell_type": "markdown",
   "id": "0fd0d29a",
   "metadata": {
    "id": "EGAAtn4B6pXE",
    "papermill": {
     "duration": 0.045766,
     "end_time": "2021-04-22T02:07:47.294911",
     "exception": false,
     "start_time": "2021-04-22T02:07:47.249145",
     "status": "completed"
    },
    "tags": []
   },
   "source": [
    "**Create Index**\n"
   ]
  },
  {
   "cell_type": "code",
   "execution_count": 6,
   "id": "eac6c5fd",
   "metadata": {
    "colab": {
     "base_uri": "https://localhost:8080/",
     "height": 102,
     "referenced_widgets": [
      "9c0d457f8aee4e8b9aea47dac0092524",
      "8f9604b8d3f845a1b2b05de0644148bd",
      "1f8b5b91412f4b93b17db98fe31eecd4",
      "8820fb8223364fb7bbb9c497f865e10b",
      "8b61ffefd82c48928bd30622126097a6",
      "950c94d84c0140acb1d51f7f9509ee79",
      "89cce4401c9c4b5394eaf6ae4194c579",
      "8a472c6509e74899b3daf08de061ca30"
     ]
    },
    "execution": {
     "iopub.execute_input": "2021-04-22T02:07:47.398141Z",
     "iopub.status.busy": "2021-04-22T02:07:47.396098Z",
     "iopub.status.idle": "2021-04-22T02:08:10.710627Z",
     "shell.execute_reply": "2021-04-22T02:08:10.710009Z"
    },
    "executionInfo": {
     "elapsed": 53904,
     "status": "ok",
     "timestamp": 1617720736066,
     "user": {
      "displayName": "Rajat Tripathi",
      "photoUrl": "",
      "userId": "04027590592238680740"
     },
     "user_tz": 240
    },
    "id": "e2sSJnqjIF5I",
    "outputId": "26f927e5-52f2-423f-d360-b41c5dcd6b9f",
    "papermill": {
     "duration": 23.371958,
     "end_time": "2021-04-22T02:08:10.710973",
     "exception": false,
     "start_time": "2021-04-22T02:07:47.339015",
     "status": "completed"
    },
    "tags": []
   },
   "outputs": [],
   "source": [
    "pinecone.create_index(name=index_name, dimension=300, metric=\"cosine\")"
   ]
  },
  {
   "cell_type": "markdown",
   "id": "0b3fd29e",
   "metadata": {
    "id": "BwLYWqIP7Bgw",
    "papermill": {
     "duration": 0.047531,
     "end_time": "2021-04-22T02:08:10.805519",
     "exception": false,
     "start_time": "2021-04-22T02:08:10.757988",
     "status": "completed"
    },
    "tags": []
   },
   "source": [
    "**Create Index object**\n",
    "\n",
    "The index object, a class instance of pinecone.Index, will be reused for optimal performance."
   ]
  },
  {
   "cell_type": "code",
   "execution_count": 7,
   "id": "74fbf2ed",
   "metadata": {
    "execution": {
     "iopub.execute_input": "2021-04-22T02:08:10.904632Z",
     "iopub.status.busy": "2021-04-22T02:08:10.902813Z",
     "iopub.status.idle": "2021-04-22T02:08:11.798698Z",
     "shell.execute_reply": "2021-04-22T02:08:11.797634Z"
    },
    "executionInfo": {
     "elapsed": 54549,
     "status": "ok",
     "timestamp": 1617720736717,
     "user": {
      "displayName": "Rajat Tripathi",
      "photoUrl": "",
      "userId": "04027590592238680740"
     },
     "user_tz": 240
    },
    "id": "szLBaxpp0FRp",
    "papermill": {
     "duration": 0.946561,
     "end_time": "2021-04-22T02:08:11.799222",
     "exception": false,
     "start_time": "2021-04-22T02:08:10.852661",
     "status": "completed"
    },
    "tags": []
   },
   "outputs": [],
   "source": [
    "index = pinecone.Index(index_name)"
   ]
  },
  {
   "cell_type": "markdown",
   "id": "256e64e8",
   "metadata": {
    "id": "dnr_WrVSudIr",
    "papermill": {
     "duration": 0.046393,
     "end_time": "2021-04-22T02:08:11.899649",
     "exception": false,
     "start_time": "2021-04-22T02:08:11.853256",
     "status": "completed"
    },
    "tags": []
   },
   "source": [
    "## Upload"
   ]
  },
  {
   "cell_type": "markdown",
   "id": "003340f7",
   "metadata": {
    "id": "yOJcJT6pT-Xv",
    "papermill": {
     "duration": 0.043329,
     "end_time": "2021-04-22T02:08:11.990600",
     "exception": false,
     "start_time": "2021-04-22T02:08:11.947271",
     "status": "completed"
    },
    "tags": []
   },
   "source": [
    "In this tutorial, we will use the [Deduplication Dataset 2020](https://core.ac.uk/documentation/dataset/) that consists of 100,000 scholarly documents. \n"
   ]
  },
  {
   "cell_type": "markdown",
   "id": "24c4a631",
   "metadata": {
    "id": "fR-kFsovsWH_",
    "papermill": {
     "duration": 0.044913,
     "end_time": "2021-04-22T02:08:12.081314",
     "exception": false,
     "start_time": "2021-04-22T02:08:12.036401",
     "status": "completed"
    },
    "tags": []
   },
   "source": [
    "**Load data**"
   ]
  },
  {
   "cell_type": "code",
   "execution_count": 8,
   "id": "3abb431a",
   "metadata": {
    "colab": {
     "base_uri": "https://localhost:8080/"
    },
    "execution": {
     "iopub.execute_input": "2021-04-22T02:08:12.194891Z",
     "iopub.status.busy": "2021-04-22T02:08:12.194195Z",
     "iopub.status.idle": "2021-04-22T02:08:51.471090Z",
     "shell.execute_reply": "2021-04-22T02:08:51.470082Z"
    },
    "executionInfo": {
     "elapsed": 101316,
     "status": "ok",
     "timestamp": 1617720783487,
     "user": {
      "displayName": "Rajat Tripathi",
      "photoUrl": "",
      "userId": "04027590592238680740"
     },
     "user_tz": 240
    },
    "id": "EZ7eiUCLsZeL",
    "outputId": "7ad349c4-b0e2-47d6-e6da-4af4cfbcdb54",
    "papermill": {
     "duration": 39.336474,
     "end_time": "2021-04-22T02:08:51.471549",
     "exception": false,
     "start_time": "2021-04-22T02:08:12.135075",
     "status": "completed"
    },
    "tags": []
   },
   "outputs": [],
   "source": [
    "import requests, os, zipfile\n",
    "\n",
    "DATA_DIR = \"tmp\"\n",
    "DATA_FILE = f\"{DATA_DIR}/deduplication_dataset_2020.zip\"\n",
    "DATA_URL = \"https://core.ac.uk/exports/custom_datasets/deduplication_dataset_2020.zip\"\n",
    "\n",
    "\n",
    "def download_data():\n",
    "    os.makedirs(DATA_DIR, exist_ok=True)\n",
    "\n",
    "    if not os.path.exists(DATA_FILE):\n",
    "        r = requests.get(DATA_URL)  # create HTTP response object\n",
    "        with open(DATA_FILE, \"wb\") as f:\n",
    "            f.write(r.content)\n",
    "        with zipfile.ZipFile(DATA_FILE, \"r\") as zip_ref:\n",
    "            zip_ref.extractall(DATA_DIR)\n",
    "\n",
    "\n",
    "download_data()"
   ]
  },
  {
   "cell_type": "code",
   "execution_count": 9,
   "id": "befead36",
   "metadata": {
    "execution": {
     "iopub.execute_input": "2021-04-22T02:08:51.598119Z",
     "iopub.status.busy": "2021-04-22T02:08:51.596506Z",
     "iopub.status.idle": "2021-04-22T02:08:52.146867Z",
     "shell.execute_reply": "2021-04-22T02:08:52.144625Z"
    },
    "executionInfo": {
     "elapsed": 101860,
     "status": "ok",
     "timestamp": 1617720784033,
     "user": {
      "displayName": "Rajat Tripathi",
      "photoUrl": "",
      "userId": "04027590592238680740"
     },
     "user_tz": 240
    },
    "id": "1IdAdqPFsZeO",
    "papermill": {
     "duration": 0.617861,
     "end_time": "2021-04-22T02:08:52.147284",
     "exception": false,
     "start_time": "2021-04-22T02:08:51.529423",
     "status": "completed"
    },
    "tags": []
   },
   "outputs": [],
   "source": [
    "DATA_PATH = os.path.join(DATA_DIR, \"deduplication_dataset_2020/Ground_Truth_data.jsonl\")\n",
    "\n",
    "with open(DATA_PATH, encoding=\"utf8\") as json_file:\n",
    "    data = list(json_file)"
   ]
  },
  {
   "cell_type": "markdown",
   "id": "0e0d29a5",
   "metadata": {
    "id": "TSrYKux1Kh9q",
    "papermill": {
     "duration": 0.061599,
     "end_time": "2021-04-22T02:08:52.267725",
     "exception": false,
     "start_time": "2021-04-22T02:08:52.206126",
     "status": "completed"
    },
    "tags": []
   },
   "source": [
    "Here is a sample of the data. "
   ]
  },
  {
   "cell_type": "code",
   "execution_count": 10,
   "id": "05b14f55",
   "metadata": {
    "colab": {
     "base_uri": "https://localhost:8080/",
     "height": 397
    },
    "execution": {
     "iopub.execute_input": "2021-04-22T02:08:52.396848Z",
     "iopub.status.busy": "2021-04-22T02:08:52.390901Z",
     "iopub.status.idle": "2021-04-22T02:08:54.272516Z",
     "shell.execute_reply": "2021-04-22T02:08:54.271471Z"
    },
    "executionInfo": {
     "elapsed": 103487,
     "status": "ok",
     "timestamp": 1617720785663,
     "user": {
      "displayName": "Rajat Tripathi",
      "photoUrl": "",
      "userId": "04027590592238680740"
     },
     "user_tz": 240
    },
    "id": "OoEosdxPsZeP",
    "outputId": "d5cd1b38-bdd1-4e18-b10b-55de64fa37a0",
    "papermill": {
     "duration": 1.947767,
     "end_time": "2021-04-22T02:08:54.272833",
     "exception": false,
     "start_time": "2021-04-22T02:08:52.325066",
     "status": "completed"
    },
    "tags": []
   },
   "outputs": [
    {
     "data": {
      "text/html": [
       "<div>\n",
       "<style scoped>\n",
       "    .dataframe tbody tr th:only-of-type {\n",
       "        vertical-align: middle;\n",
       "    }\n",
       "\n",
       "    .dataframe tbody tr th {\n",
       "        vertical-align: top;\n",
       "    }\n",
       "\n",
       "    .dataframe thead th {\n",
       "        text-align: right;\n",
       "    }\n",
       "</style>\n",
       "<table border=\"1\" class=\"dataframe\">\n",
       "  <thead>\n",
       "    <tr style=\"text-align: right;\">\n",
       "      <th></th>\n",
       "      <th>core_id</th>\n",
       "      <th>doi</th>\n",
       "      <th>original_abstract</th>\n",
       "      <th>original_title</th>\n",
       "      <th>processed_title</th>\n",
       "      <th>processed_abstract</th>\n",
       "      <th>cat</th>\n",
       "      <th>labelled_duplicates</th>\n",
       "    </tr>\n",
       "  </thead>\n",
       "  <tbody>\n",
       "    <tr>\n",
       "      <th>0</th>\n",
       "      <td>11251086</td>\n",
       "      <td>10.1016/j.ajhg.2007.12.013</td>\n",
       "      <td>Unobstructed vision requires a particular refr...</td>\n",
       "      <td>Mutation of solute carrier SLC16A12 associates...</td>\n",
       "      <td>mutation of solute carrier slc16a12 associates...</td>\n",
       "      <td>unobstructed vision refractive lens differenti...</td>\n",
       "      <td>exact_dup</td>\n",
       "      <td>[82332306]</td>\n",
       "    </tr>\n",
       "    <tr>\n",
       "      <th>1</th>\n",
       "      <td>11309751</td>\n",
       "      <td>10.1103/PhysRevLett.101.193002</td>\n",
       "      <td>Two-color multiphoton ionization of atomic hel...</td>\n",
       "      <td>Polarization control in two-color above-thresh...</td>\n",
       "      <td>polarization control in two-color above-thresh...</td>\n",
       "      <td>multiphoton ionization helium combining extrem...</td>\n",
       "      <td>exact_dup</td>\n",
       "      <td>[147599753]</td>\n",
       "    </tr>\n",
       "    <tr>\n",
       "      <th>2</th>\n",
       "      <td>11311385</td>\n",
       "      <td>10.1016/j.ab.2011.02.013</td>\n",
       "      <td>Lectin’s are proteins capable of recognising a...</td>\n",
       "      <td>Optimisation of the enzyme-linked lectin assay...</td>\n",
       "      <td>optimisation of the enzyme-linked lectin assay...</td>\n",
       "      <td>lectin’s capable recognising oligosaccharide t...</td>\n",
       "      <td>exact_dup</td>\n",
       "      <td>[147603441]</td>\n",
       "    </tr>\n",
       "    <tr>\n",
       "      <th>3</th>\n",
       "      <td>11992240</td>\n",
       "      <td>10.1016/j.jpcs.2007.07.063</td>\n",
       "      <td>In this work, we present a detailed transmissi...</td>\n",
       "      <td>Vertical composition fluctuations in (Ga,In)(N...</td>\n",
       "      <td>vertical composition fluctuations in (ga,in)(n...</td>\n",
       "      <td>microscopy interfacial uniformity wells grown ...</td>\n",
       "      <td>exact_dup</td>\n",
       "      <td>[148653623]</td>\n",
       "    </tr>\n",
       "    <tr>\n",
       "      <th>4</th>\n",
       "      <td>11994990</td>\n",
       "      <td>10.1016/S0169-5983(03)00013-3</td>\n",
       "      <td>Three-dimensional (3D) oscillatory boundary la...</td>\n",
       "      <td>Three-dimensional streaming flows driven by os...</td>\n",
       "      <td>three-dimensional streaming flows driven by os...</td>\n",
       "      <td>oscillatory attached deformable walls boundari...</td>\n",
       "      <td>exact_dup</td>\n",
       "      <td>[148656283]</td>\n",
       "    </tr>\n",
       "  </tbody>\n",
       "</table>\n",
       "</div>"
      ],
      "text/plain": [
       "    core_id                             doi  \\\n",
       "0  11251086      10.1016/j.ajhg.2007.12.013   \n",
       "1  11309751  10.1103/PhysRevLett.101.193002   \n",
       "2  11311385        10.1016/j.ab.2011.02.013   \n",
       "3  11992240      10.1016/j.jpcs.2007.07.063   \n",
       "4  11994990   10.1016/S0169-5983(03)00013-3   \n",
       "\n",
       "                                   original_abstract  \\\n",
       "0  Unobstructed vision requires a particular refr...   \n",
       "1  Two-color multiphoton ionization of atomic hel...   \n",
       "2  Lectin’s are proteins capable of recognising a...   \n",
       "3  In this work, we present a detailed transmissi...   \n",
       "4  Three-dimensional (3D) oscillatory boundary la...   \n",
       "\n",
       "                                      original_title  \\\n",
       "0  Mutation of solute carrier SLC16A12 associates...   \n",
       "1  Polarization control in two-color above-thresh...   \n",
       "2  Optimisation of the enzyme-linked lectin assay...   \n",
       "3  Vertical composition fluctuations in (Ga,In)(N...   \n",
       "4  Three-dimensional streaming flows driven by os...   \n",
       "\n",
       "                                     processed_title  \\\n",
       "0  mutation of solute carrier slc16a12 associates...   \n",
       "1  polarization control in two-color above-thresh...   \n",
       "2  optimisation of the enzyme-linked lectin assay...   \n",
       "3  vertical composition fluctuations in (ga,in)(n...   \n",
       "4  three-dimensional streaming flows driven by os...   \n",
       "\n",
       "                                  processed_abstract        cat  \\\n",
       "0  unobstructed vision refractive lens differenti...  exact_dup   \n",
       "1  multiphoton ionization helium combining extrem...  exact_dup   \n",
       "2  lectin’s capable recognising oligosaccharide t...  exact_dup   \n",
       "3  microscopy interfacial uniformity wells grown ...  exact_dup   \n",
       "4  oscillatory attached deformable walls boundari...  exact_dup   \n",
       "\n",
       "  labelled_duplicates  \n",
       "0          [82332306]  \n",
       "1         [147599753]  \n",
       "2         [147603441]  \n",
       "3         [148653623]  \n",
       "4         [148656283]  "
      ]
     },
     "execution_count": 10,
     "metadata": {},
     "output_type": "execute_result"
    }
   ],
   "source": [
    "data_json = [json.loads(json_str) for json_str in data]\n",
    "df = pd.DataFrame.from_dict(data_json)\n",
    "df.head()"
   ]
  },
  {
   "cell_type": "markdown",
   "id": "6e1a8acc",
   "metadata": {
    "id": "uxwX-KVTKh9s",
    "papermill": {
     "duration": 0.069632,
     "end_time": "2021-04-22T02:08:54.398885",
     "exception": false,
     "start_time": "2021-04-22T02:08:54.329253",
     "status": "completed"
    },
    "tags": []
   },
   "source": [
    "Now let us look at the columns in the dataset that are relevant for our task.\n",
    "\n",
    "**core_id** - Unique indentifier for each article\n",
    "\n",
    "**processed_abstract** - This is obtained by applying preprocssing steps like [this](https://spacy.io/usage/processing-pipelines) to the original abstract of the article from the column **original abstract**.\n",
    "\n",
    "**processed_title** - Same as the abstract but for the title of the article.\n",
    "\n",
    "**cat** - Every article falls into one of the three possible categories: 'exact_dup','near_dup','non_dup'\n",
    "\n",
    "**labelled_duplicates** - A list of core_ids of articles that are duplicates of current article\n",
    "\n",
    "\n"
   ]
  },
  {
   "cell_type": "markdown",
   "id": "92eb9871",
   "metadata": {
    "papermill": {
     "duration": 0.055556,
     "end_time": "2021-04-22T02:08:54.513132",
     "exception": false,
     "start_time": "2021-04-22T02:08:54.457576",
     "status": "completed"
    },
    "tags": []
   },
   "source": [
    "Let's calculate the frequency of duplicates per article. Observe that half of the articles have no duplicates, and only a small fraction of the articles have more than ten duplicates."
   ]
  },
  {
   "cell_type": "code",
   "execution_count": 11,
   "id": "2262a535",
   "metadata": {
    "colab": {
     "base_uri": "https://localhost:8080/"
    },
    "execution": {
     "iopub.execute_input": "2021-04-22T02:08:54.643047Z",
     "iopub.status.busy": "2021-04-22T02:08:54.642167Z",
     "iopub.status.idle": "2021-04-22T02:08:54.677660Z",
     "shell.execute_reply": "2021-04-22T02:08:54.676968Z"
    },
    "executionInfo": {
     "elapsed": 103486,
     "status": "ok",
     "timestamp": 1617720785664,
     "user": {
      "displayName": "Rajat Tripathi",
      "photoUrl": "",
      "userId": "04027590592238680740"
     },
     "user_tz": 240
    },
    "id": "Qur2OSnksm1S",
    "outputId": "f2ea881d-0a2a-4344-df9a-533ab4850e16",
    "papermill": {
     "duration": 0.101526,
     "end_time": "2021-04-22T02:08:54.677891",
     "exception": false,
     "start_time": "2021-04-22T02:08:54.576365",
     "status": "completed"
    },
    "tags": []
   },
   "outputs": [
    {
     "data": {
      "text/plain": [
       "0     50000\n",
       "1     36166\n",
       "2      7620\n",
       "3      3108\n",
       "4      1370\n",
       "5       756\n",
       "6       441\n",
       "7       216\n",
       "8       108\n",
       "10       66\n",
       "9        60\n",
       "11       48\n",
       "13       28\n",
       "12       13\n",
       "Name: labelled_duplicates, dtype: int64"
      ]
     },
     "execution_count": 11,
     "metadata": {},
     "output_type": "execute_result"
    }
   ],
   "source": [
    "lens = df.labelled_duplicates.apply(len)\n",
    "lens.value_counts()"
   ]
  },
  {
   "cell_type": "markdown",
   "id": "fe615876",
   "metadata": {
    "papermill": {
     "duration": 0.048605,
     "end_time": "2021-04-22T02:08:54.777369",
     "exception": false,
     "start_time": "2021-04-22T02:08:54.728764",
     "status": "completed"
    },
    "tags": []
   },
   "source": [
    "We will make use of the text data to create vectors for every article. We combine the **processed_abstract** and **processed_title** of the article to create a new **combined_text** column. "
   ]
  },
  {
   "cell_type": "code",
   "execution_count": 12,
   "id": "040eaa39",
   "metadata": {
    "execution": {
     "iopub.execute_input": "2021-04-22T02:08:54.884383Z",
     "iopub.status.busy": "2021-04-22T02:08:54.883389Z",
     "iopub.status.idle": "2021-04-22T02:08:57.227381Z",
     "shell.execute_reply": "2021-04-22T02:08:57.226008Z"
    },
    "executionInfo": {
     "elapsed": 105642,
     "status": "ok",
     "timestamp": 1617720787825,
     "user": {
      "displayName": "Rajat Tripathi",
      "photoUrl": "",
      "userId": "04027590592238680740"
     },
     "user_tz": 240
    },
    "id": "fLOt8Llmuv3s",
    "papermill": {
     "duration": 2.404613,
     "end_time": "2021-04-22T02:08:57.227625",
     "exception": false,
     "start_time": "2021-04-22T02:08:54.823012",
     "status": "completed"
    },
    "tags": []
   },
   "outputs": [],
   "source": [
    "# Define a new column for calculating embeddings\n",
    "df[\"combined_text\"] = df.apply(\n",
    "    lambda x: str(x.processed_title) + \" \" + str(x.processed_abstract), axis=1\n",
    ")"
   ]
  },
  {
   "cell_type": "markdown",
   "id": "2b39da8f",
   "metadata": {
    "id": "p35xNbxkrrZb",
    "papermill": {
     "duration": 0.05703,
     "end_time": "2021-04-22T02:08:57.347510",
     "exception": false,
     "start_time": "2021-04-22T02:08:57.290480",
     "status": "completed"
    },
    "tags": []
   },
   "source": [
    "**Load model**"
   ]
  },
  {
   "cell_type": "markdown",
   "id": "e3f5f737",
   "metadata": {
    "id": "5O0j3KYOZDmr",
    "papermill": {
     "duration": 0.046633,
     "end_time": "2021-04-22T02:08:57.442378",
     "exception": false,
     "start_time": "2021-04-22T02:08:57.395745",
     "status": "completed"
    },
    "tags": []
   },
   "source": [
    "We will use the [Average Word Embedding GloVe](https://nlp.stanford.edu/projects/glove/) model to transform text into vector embeddings. We then upload the embeddings into the Pinecone vector index."
   ]
  },
  {
   "cell_type": "code",
   "execution_count": 13,
   "id": "bfae598d",
   "metadata": {
    "colab": {
     "base_uri": "https://localhost:8080/",
     "height": 67,
     "referenced_widgets": [
      "49ec1cd06ea14ff4ad2f2e0e3273dc56",
      "2d727ee5fc6b45288544b1856bb611b4",
      "fe773bb5f3d94f39aa405ac52552a97e",
      "b0b66107aadb4501bb2249f209cf5342",
      "8af161a53a584192932b5d445a65fa74",
      "a54c7b10d95747d5b51bc89cf9a321b9",
      "3b638b63ac0747d890b2a0d167fa7c75",
      "fc7d4cdf4dde4ddcbe84b8ab5353a000"
     ]
    },
    "execution": {
     "iopub.execute_input": "2021-04-22T02:08:57.543587Z",
     "iopub.status.busy": "2021-04-22T02:08:57.542855Z",
     "iopub.status.idle": "2021-04-22T02:10:48.016350Z",
     "shell.execute_reply": "2021-04-22T02:10:48.017112Z"
    },
    "executionInfo": {
     "elapsed": 129145,
     "status": "ok",
     "timestamp": 1617720811330,
     "user": {
      "displayName": "Rajat Tripathi",
      "photoUrl": "",
      "userId": "04027590592238680740"
     },
     "user_tz": 240
    },
    "id": "g1-NpET_db7s",
    "outputId": "35bd4a57-d515-4fc8-f338-52740681a9f6",
    "papermill": {
     "duration": 110.529503,
     "end_time": "2021-04-22T02:10:48.017756",
     "exception": false,
     "start_time": "2021-04-22T02:08:57.488253",
     "status": "completed"
    },
    "tags": []
   },
   "outputs": [],
   "source": [
    "model = SentenceTransformer(\"average_word_embeddings_glove.6B.300d\")"
   ]
  },
  {
   "cell_type": "code",
   "execution_count": 14,
   "id": "296b5960",
   "metadata": {
    "colab": {
     "base_uri": "https://localhost:8080/",
     "height": 67,
     "referenced_widgets": [
      "516bd8c75a924e5fa5bf8f133643a56c",
      "c14ff5ceaded4e668291f0eabe40c24e",
      "12a17ef733054730929d7977d7fc6efe",
      "f892567e80c548b6923da422496d597f",
      "f100fee714e4426bbcd6fb5ef78861ee",
      "7b1db47e502041d29c77b072a185e7dd",
      "d694982af2a7445db61535361c7ae43d",
      "ed1d738b553043138e0140b12fd853bc"
     ]
    },
    "execution": {
     "iopub.execute_input": "2021-04-22T02:10:48.281536Z",
     "iopub.status.busy": "2021-04-22T02:10:48.276023Z",
     "iopub.status.idle": "2021-04-22T02:11:13.225189Z",
     "shell.execute_reply": "2021-04-22T02:11:13.222161Z"
    },
    "executionInfo": {
     "elapsed": 150892,
     "status": "ok",
     "timestamp": 1617720833080,
     "user": {
      "displayName": "Rajat Tripathi",
      "photoUrl": "",
      "userId": "04027590592238680740"
     },
     "user_tz": 240
    },
    "id": "uq5J5DiQASRC",
    "outputId": "905d01e1-c4c8-4519-8950-4f0929ded6c0",
    "papermill": {
     "duration": 25.047946,
     "end_time": "2021-04-22T02:11:13.225984",
     "exception": false,
     "start_time": "2021-04-22T02:10:48.178038",
     "status": "completed"
    },
    "tags": []
   },
   "outputs": [
    {
     "data": {
      "application/vnd.jupyter.widget-view+json": {
       "model_id": "c22cfb4d2b32471ab6fe5d52acda39ed",
       "version_major": 2,
       "version_minor": 0
      },
      "text/plain": [
       "Batches:   0%|          | 0/3125 [00:00<?, ?it/s]"
      ]
     },
     "metadata": {},
     "output_type": "display_data"
    }
   ],
   "source": [
    "df[\"vectors\"] = list(model.encode(df.combined_text.to_list(), show_progress_bar=True).tolist())"
   ]
  },
  {
   "cell_type": "markdown",
   "id": "53d9cb5c",
   "metadata": {},
   "source": [
    "**Index the Vectors**"
   ]
  },
  {
   "cell_type": "code",
   "execution_count": 15,
   "id": "193adb07",
   "metadata": {},
   "outputs": [],
   "source": [
    "import itertools\n",
    "\n",
    "def chunks(iterable, batch_size):\n",
    "    it = iter(iterable)\n",
    "    chunk = tuple(itertools.islice(it, batch_size))\n",
    "    while chunk:\n",
    "        yield chunk\n",
    "        chunk = tuple(itertools.islice(it, batch_size))"
   ]
  },
  {
   "cell_type": "code",
   "execution_count": 16,
   "id": "287b306e",
   "metadata": {},
   "outputs": [],
   "source": [
    "for batch in chunks(zip(df.core_id.astype(str), df.vectors), 500):\n",
    "    index.upsert(vectors=batch)"
   ]
  },
  {
   "cell_type": "code",
   "execution_count": 17,
   "id": "493efe02",
   "metadata": {
    "execution": {
     "iopub.execute_input": "2021-04-22T02:12:47.296348Z",
     "iopub.status.busy": "2021-04-22T02:12:47.295497Z",
     "iopub.status.idle": "2021-04-22T02:12:47.410303Z",
     "shell.execute_reply": "2021-04-22T02:12:47.411487Z"
    },
    "papermill": {
     "duration": 0.179983,
     "end_time": "2021-04-22T02:12:47.412093",
     "exception": false,
     "start_time": "2021-04-22T02:12:47.232110",
     "status": "completed"
    },
    "tags": []
   },
   "outputs": [
    {
     "data": {
      "text/plain": [
       "{'dimension': 300, 'namespaces': {'': {'vector_count': 100000}}}"
      ]
     },
     "execution_count": 17,
     "metadata": {},
     "output_type": "execute_result"
    }
   ],
   "source": [
    "index.describe_index_stats()"
   ]
  },
  {
   "cell_type": "markdown",
   "id": "065632df",
   "metadata": {
    "id": "f5rN7celXsnZ",
    "papermill": {
     "duration": 0.052509,
     "end_time": "2021-04-22T02:12:47.521808",
     "exception": false,
     "start_time": "2021-04-22T02:12:47.469299",
     "status": "completed"
    },
    "tags": []
   },
   "source": [
    "## Searching for candidates\n",
    "\n",
    "Now that we have created vectors for the articles and inserted them in the index, we will create a test set for querying. For each article in the test set we will query the index to get the most similar articles, they are the candidates on which we will performs the next classification step.\n",
    "\n",
    "Below, we list statistics of the number of duplicates per article in the resulting test set."
   ]
  },
  {
   "cell_type": "code",
   "execution_count": 18,
   "id": "1cc9e04c",
   "metadata": {
    "colab": {
     "base_uri": "https://localhost:8080/"
    },
    "execution": {
     "iopub.execute_input": "2021-04-22T02:12:47.643100Z",
     "iopub.status.busy": "2021-04-22T02:12:47.642392Z",
     "iopub.status.idle": "2021-04-22T02:12:48.113519Z",
     "shell.execute_reply": "2021-04-22T02:12:48.113022Z"
    },
    "executionInfo": {
     "elapsed": 158613,
     "status": "ok",
     "timestamp": 1617720840814,
     "user": {
      "displayName": "Rajat Tripathi",
      "photoUrl": "",
      "userId": "04027590592238680740"
     },
     "user_tz": 240
    },
    "id": "JsbGvxBtk9SY",
    "outputId": "c5d8d7cd-5fd6-4c78-863b-513fb5e70b72",
    "papermill": {
     "duration": 0.542214,
     "end_time": "2021-04-22T02:12:48.113744",
     "exception": false,
     "start_time": "2021-04-22T02:12:47.571530",
     "status": "completed"
    },
    "tags": []
   },
   "outputs": [
    {
     "name": "stdout",
     "output_type": "stream",
     "text": [
      "Number of documents with specified number of duplicates:\n"
     ]
    },
    {
     "data": {
      "text/plain": [
       "0     100\n",
       "1      73\n",
       "2      16\n",
       "3       7\n",
       "4       3\n",
       "5       2\n",
       "6       1\n",
       "7       1\n",
       "8       1\n",
       "9       1\n",
       "10      1\n",
       "11      1\n",
       "12      1\n",
       "13      1\n",
       "Name: labelled_duplicates, dtype: int64"
      ]
     },
     "execution_count": 18,
     "metadata": {},
     "output_type": "execute_result"
    }
   ],
   "source": [
    "# Create a sample from the dataset\n",
    "SAMPLE_FRACTION = 0.002\n",
    "test_documents = (\n",
    "    df.groupby(df[\"labelled_duplicates\"].map(len))\n",
    "    .apply(lambda x: x.head(math.ceil(len(x) * SAMPLE_FRACTION)))\n",
    "    .reset_index(drop=True)\n",
    ")\n",
    "\n",
    "print(\"Number of documents with specified number of duplicates:\")\n",
    "lens = test_documents.labelled_duplicates.apply(len)\n",
    "lens.value_counts()"
   ]
  },
  {
   "cell_type": "code",
   "execution_count": 19,
   "id": "e7845a8f",
   "metadata": {
    "execution": {
     "iopub.execute_input": "2021-04-22T02:12:48.226237Z",
     "iopub.status.busy": "2021-04-22T02:12:48.225063Z",
     "iopub.status.idle": "2021-04-22T02:12:49.951208Z",
     "shell.execute_reply": "2021-04-22T02:12:49.950573Z"
    },
    "executionInfo": {
     "elapsed": 158829,
     "status": "ok",
     "timestamp": 1617720841032,
     "user": {
      "displayName": "Rajat Tripathi",
      "photoUrl": "",
      "userId": "04027590592238680740"
     },
     "user_tz": 240
    },
    "id": "jhujhd5nxx1-",
    "papermill": {
     "duration": 1.784915,
     "end_time": "2021-04-22T02:12:49.951451",
     "exception": false,
     "start_time": "2021-04-22T02:12:48.166536",
     "status": "completed"
    },
    "tags": []
   },
   "outputs": [],
   "source": [
    "# Use the model to create embeddings for test articles, which will be the query vectors\n",
    "queries = model.encode(test_documents.combined_text.to_list()).tolist()"
   ]
  },
  {
   "cell_type": "code",
   "execution_count": 20,
   "id": "83203179",
   "metadata": {
    "colab": {
     "base_uri": "https://localhost:8080/",
     "height": 67,
     "referenced_widgets": [
      "c67a0d7ca8e741dca180c542279b673b",
      "f601246a4f9943709e66f1434f1d0992",
      "e61dfc8691bf467793800057943d6ed5",
      "c358613134f647869611051969a5acf4",
      "0711ffcf02034acbbca3230a10976d55",
      "9c6d24e068cf40178c0ac8908bbf5d8e",
      "cd95f0999c5d4c9fb9153d56259a2eae",
      "38c5d1c4ea234cc19f2f0c6474e05274"
     ]
    },
    "execution": {
     "iopub.execute_input": "2021-04-22T02:12:50.092180Z",
     "iopub.status.busy": "2021-04-22T02:12:50.091460Z",
     "iopub.status.idle": "2021-04-22T02:12:52.620395Z",
     "shell.execute_reply": "2021-04-22T02:12:52.619713Z"
    },
    "executionInfo": {
     "elapsed": 161062,
     "status": "ok",
     "timestamp": 1617720843268,
     "user": {
      "displayName": "Rajat Tripathi",
      "photoUrl": "",
      "userId": "04027590592238680740"
     },
     "user_tz": 240
    },
    "id": "t_jNdCp8xiXh",
    "outputId": "31973f00-c2ba-464b-cb81-117b6311b21b",
    "papermill": {
     "duration": 2.611295,
     "end_time": "2021-04-22T02:12:52.620658",
     "exception": false,
     "start_time": "2021-04-22T02:12:50.009363",
     "status": "completed"
    },
    "tags": []
   },
   "outputs": [],
   "source": [
    "# Query the vector index\n",
    "query_results = index.query(queries=queries, top_k=100)"
   ]
  },
  {
   "cell_type": "code",
   "execution_count": 21,
   "id": "f07953c6",
   "metadata": {
    "colab": {
     "base_uri": "https://localhost:8080/"
    },
    "execution": {
     "iopub.execute_input": "2021-04-22T02:12:52.740141Z",
     "iopub.status.busy": "2021-04-22T02:12:52.739146Z",
     "iopub.status.idle": "2021-04-22T02:13:01.458234Z",
     "shell.execute_reply": "2021-04-22T02:13:01.457566Z"
    },
    "executionInfo": {
     "elapsed": 169368,
     "status": "ok",
     "timestamp": 1617720851576,
     "user": {
      "displayName": "Rajat Tripathi",
      "photoUrl": "",
      "userId": "04027590592238680740"
     },
     "user_tz": 240
    },
    "id": "V58a25uxk9U0",
    "outputId": "f650dcaa-aa7e-4bbb-a8c6-02b7f5e9a3ab",
    "papermill": {
     "duration": 8.784046,
     "end_time": "2021-04-22T02:13:01.458467",
     "exception": false,
     "start_time": "2021-04-22T02:12:52.674421",
     "status": "completed"
    },
    "tags": []
   },
   "outputs": [
    {
     "name": "stderr",
     "output_type": "stream",
     "text": [
      "100%|███████████████████████████████████████████████████████████████████████████████| 209/209 [00:01<00:00, 121.90it/s]\n"
     ]
    }
   ],
   "source": [
    "# Save all retrieval recalls into a list\n",
    "recalls = []\n",
    "\n",
    "for id, res in tqdm(list(zip(test_documents.core_id.values, query_results.results))):\n",
    "\n",
    "    # Find document with id in labelled dataset\n",
    "    labeled_df = df[df.core_id == str(id)]\n",
    "\n",
    "    # Calculate the retrieval recall\n",
    "    top_k_list = set([match.id for match in res.matches])\n",
    "    labelled_duplicates = set(labeled_df.labelled_duplicates.values[0])\n",
    "    intersection = top_k_list.intersection(labelled_duplicates)\n",
    "    if len(labelled_duplicates) != 0:\n",
    "        recalls.append(len(intersection) / len(labelled_duplicates))"
   ]
  },
  {
   "cell_type": "code",
   "execution_count": 22,
   "id": "e96d8971",
   "metadata": {},
   "outputs": [
    {
     "name": "stdout",
     "output_type": "stream",
     "text": [
      "Mean for the retrieval recall is 0.9702529886016125\n",
      "Standard Deviation is  0.16219287104729735\n"
     ]
    }
   ],
   "source": [
    "print(\"Mean for the retrieval recall is \" + str(statistics.mean(recalls)))\n",
    "print(\"Standard Deviation is  \" + str(statistics.stdev(recalls)))"
   ]
  },
  {
   "cell_type": "markdown",
   "id": "53ab548f",
   "metadata": {
    "id": "c0In5XpMyJzN",
    "papermill": {
     "duration": 0.09082,
     "end_time": "2021-04-22T02:13:01.816697",
     "exception": false,
     "start_time": "2021-04-22T02:13:01.725877",
     "status": "completed"
    },
    "tags": []
   },
   "source": [
    "### Running the Classifier \n",
    "\n",
    "We mentioned earlier in the article that we will perform two steps for deduplication, searching to produce candidates and performing classifciation on them.\n",
    "\n",
    "We will use Deduplication Classifier based on [LSH](https://en.wikipedia.org/wiki/Locality-sensitive_hashing) for detecting duplicates on the results from the previous step. We will run this on a sample of query results we got in the previous step. Feel free to try out the results on the entire set of query results."
   ]
  },
  {
   "cell_type": "code",
   "execution_count": 23,
   "id": "dc1598e5",
   "metadata": {
    "colab": {
     "base_uri": "https://localhost:8080/"
    },
    "execution": {
     "iopub.execute_input": "2021-04-22T02:13:02.050446Z",
     "iopub.status.busy": "2021-04-22T02:13:02.044348Z",
     "iopub.status.idle": "2021-04-22T02:14:32.677471Z",
     "shell.execute_reply": "2021-04-22T02:14:32.676470Z"
    },
    "executionInfo": {
     "elapsed": 253715,
     "status": "ok",
     "timestamp": 1617720935928,
     "user": {
      "displayName": "Rajat Tripathi",
      "photoUrl": "",
      "userId": "04027590592238680740"
     },
     "user_tz": 240
    },
    "id": "IwPGiKxcyAbm",
    "outputId": "e143d092-0918-4024-c946-0279db15a424",
    "papermill": {
     "duration": 90.772565,
     "end_time": "2021-04-22T02:14:32.677767",
     "exception": false,
     "start_time": "2021-04-22T02:13:01.905202",
     "status": "completed"
    },
    "scrolled": true,
    "tags": []
   },
   "outputs": [
    {
     "name": "stdout",
     "output_type": "stream",
     "text": [
      "         id                                           document     score\n",
      "0  15080768  analyse centred methodology. discretisation so...  1.000000\n",
      "1  52682462  audiencethe tissues pulses modelled compartmen...  0.787797\n",
      "2  52900859  audiencethe tissues pulses modelled compartmen...  0.787797\n",
      "3   2553555  multilayered illuminated acoustic electromagne...  0.781398\n",
      "4  48261378  heterostructure schr dinger poisson numericall...  0.778778\n",
      "15080768: expected: [], predicted: [], prediction: Correct\n",
      "          id                                           document     score\n",
      "0   55110306  latrepirdine orally administered molecule init...  1.000000\n",
      "1  188404434  cysteamine potentially numerous huntington dis...  0.903965\n",
      "2   81634102  deutetrabenazine molecule deuterium attenuates...  0.880078\n",
      "3   42021224  comorbidities. safe drugs available. efficacy ...  0.857741\n",
      "4   78271101  promising prevent onset ultrahigh psychosis di...  0.849158\n",
      "55110306: expected: [], predicted: [], prediction: Correct\n",
      "          id                                           document     score\n",
      "0   10914205  read objectives schoolchildren sunscreen morni...  1.000000\n",
      "1   77409456  overeating harmful alcohol tobacco aetiology c...  0.669037\n",
      "2   10896024  sunlight cutaneous vitamin production. highlig...  0.633516\n",
      "3   15070865  drink heavily nonstudent peers unaware drinkin...  0.633496\n",
      "4  154670695  dette siste tekst versjon artikkelen inneholde...  0.627933\n",
      "10914205: expected: [], predicted: [], prediction: Correct\n",
      "         id                                           document     score\n",
      "0  43096919  publishedcomparative studymulticenter tcontext...  1.000000\n",
      "1  77165332  cerebral amyloid aggregation pathological alzh...  0.871247\n",
      "2  70343569  neurodegenerative heterogeneous disorders prog...  0.867806\n",
      "3  18448676  beta amyloid beta deposition hallmarks alzheim...  0.855655\n",
      "4  46964510  alzheimer unexplained. sought loci detect robu...  0.855137\n",
      "43096919: expected: [], predicted: [], prediction: Correct\n",
      "         id                                           document     score\n",
      "0  12203626  hypernatremia recipients homografts postoperat...  1.000000\n",
      "1  82542813  abstractobjectivesto intravenous maintenance f...  0.800283\n",
      "2  81206306  uromodulin tamm–horsfall abundant excreted uri...  0.794892\n",
      "3  36026525  drinking sodium bicarbonated mineral cardiovas...  0.793452\n",
      "4  83567081  drinking sodium bicarbonated mineral cardiovas...  0.793252\n",
      "12203626: expected: [], predicted: [], prediction: Correct\n",
      "          id                                           document     score\n",
      "0   15070865  drink heavily nonstudent peers unaware drinkin...  1.000000\n",
      "1   52132897  updated alcohol suicidal level. searches retri...  0.889408\n",
      "2  154671698  updated alcohol suicidal level. searches retri...  0.889408\n",
      "3   43606482  fulltext .pdf publisher effectiveness drinking...  0.883402\n",
      "4   82484980  abstractthe effectiveness drinking motive tail...  0.883145\n",
      "15070865: expected: [], predicted: [], prediction: Correct\n",
      "          id                                           document     score\n",
      "0   80341690  potentially inappropriate medicines pims older...  1.000000\n",
      "1   39320843  elderly receive medications adverse effects. e...  0.807533\n",
      "2   82162292  abstractbackgroundrisk assessments widely pred...  0.780006\n",
      "3   77027179  assessments widely predict opioid disorder unc...  0.779405\n",
      "4  153514317  yesbackground challenging person dementia. beh...  0.757255\n",
      "80341690: expected: [], predicted: [], prediction: Correct\n",
      "         id                                           document     score\n",
      "0   9066821  commotio retinae opacification retina blunt oc...  1.000000\n",
      "1  78051578  neovascular macular degeneration anti–vascular...  0.731147\n",
      "2  86422032  automated lesions challenging diagnostic lesio...  0.703925\n",
      "3  52434306  audiencewe propose voxelwise images. relies ge...  0.699708\n",
      "4  48174418  audiencewe propose voxelwise images. relies ge...  0.699708\n",
      "9066821: expected: [], predicted: [], prediction: Correct\n",
      "          id                                           document     score\n",
      "0   15052827  indirect schizophrenia australia incidence cos...  1.000000\n",
      "1  154860392  illness schizophrenia bipolar disorder depress...  0.795662\n",
      "2   51964867  audiencebackground cholesterol lowering jupite...  0.791904\n",
      "3   75913230  thesis characterize burden cardiovascular deme...  0.775635\n",
      "4   52133218  aims depression anxiety myocardial infarction ...  0.765936\n",
      "15052827: expected: [], predicted: [], prediction: Correct\n",
      "         id                                           document     score\n",
      "0  12203661  glomerulonephritis serious hemoptysis. antiglo...  1.000000\n",
      "1  12204810  twenty alagille syndrome underwent transplanta...  0.811871\n",
      "2  52198725  audiencepatients autoimmune polyendocrine synd...  0.810457\n",
      "3  47112592  audiencepatients autoimmune polyendocrine synd...  0.810457\n",
      "4  52460385  audiencepatients autoimmune polyendocrine synd...  0.810457\n",
      "12203661: expected: [], predicted: [], prediction: Correct\n",
      "         id                                           document     score\n",
      "0  11251086  unobstructed vision refractive lens differenti...  1.000000\n",
      "1  82332306  unobstructed vision refractive lens differenti...  1.000000\n",
      "2  59036307  aims osmotic oxidative progression advancement...  0.839049\n",
      "3  61371524  aims osmotic oxidative progression advancement...  0.839049\n",
      "4  82072232  dysfunction cilia nearly ubiquitously solitary...  0.796623\n",
      "11251086: expected: ['82332306'], predicted: ['82332306'], prediction: Correct\n",
      "          id                                           document     score\n",
      "0  148662402  presents vision successfully discriminates wee...  1.000000\n",
      "1   12001088  presents vision successfully discriminates wee...  1.000000\n",
      "2  148666025  proposes oriented crop maize weed pressure. vi...  0.904243\n",
      "3   18424329  proposes oriented crop maize weed pressure. vi...  0.904243\n",
      "4   18424394  proposes oriented identifying crop rows maize ...  0.861464\n",
      "12001088: expected: ['148662402'], predicted: ['148662402'], prediction: Correct\n",
      "          id                                           document     score\n",
      "0  147595688  reflectance exciton–polariton film polycrystal...  1.000000\n",
      "1   11307919  reflectance exciton–polariton film polycrystal...  1.000000\n",
      "2  147595695  photoluminescence reflectance oriented polycry...  0.816958\n",
      "3   11307922  photoluminescence reflectance oriented polycry...  0.816958\n",
      "4   33106913  macroscopic dielectric polycrystalline commonl...  0.804686\n",
      "147595688: expected: ['11307919'], predicted: ['11307919'], prediction: Correct\n",
      "          id                                           document     score\n",
      "0  148663921  thanks inherent probabilistic graphical prime ...  1.000000\n",
      "1   12002296  thanks inherent probabilistic graphical prime ...  1.000000\n",
      "2   52634130  audienceobject oriented brms platform automati...  0.869993\n",
      "3   52294731  audienceobject oriented brms platform automati...  0.869993\n",
      "4   34403460  acceptance artificial intelligence aims learn ...  0.865815\n",
      "148663921: expected: ['12002296'], predicted: ['12002296'], prediction: Correct\n",
      "          id                                           document     score\n",
      "0  151641478  stabilised soems unstable aircraft presented. ...  1.000000\n",
      "1   11874260  stabilised soems unstable aircraft presented. ...  1.000000\n",
      "2   29528077  projection snapshot balanced truncation unstab...  0.724496\n",
      "3   77005252  projection snapshot balanced truncation unstab...  0.724496\n",
      "4  148663435  ideas robust computationally amenable industri...  0.722027\n",
      "151641478: expected: ['11874260'], predicted: ['11874260'], prediction: Correct\n",
      "          id                                           document     score\n",
      "0  188365084  installed rapidly decade deployments deeper wa...  1.000000\n",
      "1  158351487  installed rapidly decade deployments deeper wa...  1.000000\n",
      "2   83926778  offshore turbine reliability biggest paper. un...  0.853790\n",
      "3  158370190  offshore turbine reliability biggest paper. un...  0.853790\n",
      "4   74226591  investigates overruns underruns occurring onsh...  0.834363\n",
      "188365084: expected: ['158351487'], predicted: ['158351487'], prediction: Correct\n",
      "         id                                           document     score\n",
      "0   9030380  propose vulnerability network. analogy balls l...  1.000000\n",
      "1   2097371  propose vulnerability network. analogy balls l...  1.000000\n",
      "2  49270269  audiencethis introduces validates sensor propa...  0.754055\n",
      "3  43094896  peer reviewed brownjohn displacement sensor co...  0.745553\n",
      "4  82328418  abstractthe triple deformable variational gree...  0.725793\n",
      "2097371: expected: ['9030380'], predicted: ['9030380'], prediction: Correct\n"
     ]
    },
    {
     "name": "stdout",
     "output_type": "stream",
     "text": [
      "          id                                           document     score\n",
      "0  148674298  race segments swimmers. analysed finals sessio...  1.000000\n",
      "1   33176265  race segments swimmers. analysed finals sessio...  1.000000\n",
      "2  148674300  swimming race parameters. hundred fifty eight ...  0.886608\n",
      "3   33176267  swimming race parameters. hundred fifty eight ...  0.886608\n",
      "4  143900637  swimmers swimmers coaches trainers. video sens...  0.736030\n",
      "33176265: expected: ['148674298'], predicted: ['148674298'], prediction: Correct\n",
      "         id                                           document     score\n",
      "0  52722823  audiencehere geochemical lopevi volcano volcan...  1.000000\n",
      "1  52844591  audiencehere geochemical lopevi volcano volcan...  1.000000\n",
      "2  52308905  audiencehere geochemical lopevi volcano volcan...  1.000000\n",
      "3  52840980  audiencethe volcanism cameroon volcanic mantle...  0.893717\n",
      "4  52717537  audiencethe volcanism cameroon volcanic mantle...  0.893717\n",
      "52308905: expected: ['52722823', '52844591'], predicted: ['52844591', '52722823'], prediction: Correct\n",
      "         id                                           document     score\n",
      "0   2531039  lagrangian formalism supermembrane supergravit...  1.000000\n",
      "1  35093363  lagrangian formalism supermembrane supergravit...  1.000000\n",
      "2  44119402  lagrangian formalism supermembrane supergravit...  1.000000\n",
      "3  35078501  lagrangian formalism supermembrane supergravit...  1.000000\n",
      "4  35089833  supergravity correlators worldsheet analogous ...  0.847565\n",
      "44119402: expected: ['2531039', '35078501', '35093363'], predicted: ['35078501', '35093363', '2531039'], prediction: Correct\n",
      "          id                                           document  score\n",
      "0   52695218  microlensing surveys tens millions stars. unpr...    1.0\n",
      "1   52456923  microlensing surveys tens millions stars. unpr...    1.0\n",
      "2   47110549  microlensing surveys tens millions stars. unpr...    1.0\n",
      "3  152091185  microlensing surveys tens millions stars. unpr...    1.0\n",
      "4   52739626  microlensing surveys tens millions stars. unpr...    1.0\n",
      "47110549: expected: ['46770666', '52456923', '152091185', '52695218', '52739626'], predicted: ['52456923', '152091185', '46770666', '52739626', '52695218'], prediction: Correct\n"
     ]
    }
   ],
   "source": [
    "# Counters for correct/false predictions\n",
    "all_predictions = {\"Correct\": 0, \"False\": 0}\n",
    "predictions_per_category = {}\n",
    "\n",
    "# From the results in the previous step, we will take a subset to test our classifier\n",
    "query_sample = query_results.results[::10]\n",
    "ids_sample = test_documents.core_id.to_list()[::10]\n",
    "\n",
    "for id, res in zip(ids_sample, query_sample):\n",
    "    \n",
    "    # Find document with id from the labelled dataset\n",
    "    labeled_df = df[df.core_id == str(id)]\n",
    "\n",
    "    \"\"\"\n",
    "    For every article in the reuslt set, we store the scores and abstract of the articles most similar \n",
    "    to it, according to search in the previous step.\n",
    "    \"\"\"\n",
    "\n",
    "    df_result = pd.DataFrame(\n",
    "        {\n",
    "            \"id\": [match.id for match in res.matches],\n",
    "            \"document\": [\n",
    "                df[df.core_id == _id].processed_abstract.values[0] for _id in  [match.id for match in res.matches]\n",
    "            ],\n",
    "            \"score\": [match.score for match in res.matches],\n",
    "        }\n",
    "    )\n",
    "\n",
    "    print(df_result.head())\n",
    "\n",
    "    # We need content and labels for our classifier which we can get from the df_results\n",
    "    content = df_result.document.values\n",
    "    labels = list(df_result.id.values)\n",
    "    \n",
    "    # Create MinHash for each of the documents in result set\n",
    "    min_hashes = {}\n",
    "    for label, text in zip(labels, content):\n",
    "        m = MinHash(num_perm=128, seed=5)\n",
    "        tokens = set(tokenize(text))\n",
    "        for d in tokens:\n",
    "            m.update(d.encode('utf8'))\n",
    "        min_hashes[label] = m\n",
    "    \n",
    "    # Create LSH index\n",
    "    lsh = MinHashLSH(threshold=0.7, num_perm=128, )\n",
    "    for i, j in min_hashes.items():\n",
    "        lsh.insert(str(i), j)\n",
    "    \n",
    "    query_minhash = min_hashes[id]\n",
    "    duplicates = lsh.query(query_minhash)\n",
    "    duplicates.remove(str(id))\n",
    "    \n",
    "    # Check whether prediction matches labeled duplicates. Here the groud truth is the set of duplicates from our original set\n",
    "    prediction = (\n",
    "        \"Correct\"\n",
    "        if set(labeled_df.labelled_duplicates.values[0]) == set(duplicates)\n",
    "        else \"False\"\n",
    "    )\n",
    "    \n",
    "    # Add to all predictions\n",
    "    all_predictions[prediction] += 1\n",
    "    \n",
    "    # Create and/or add to the specific category based on number of duplicates in original dataset\n",
    "    num_of_duplicates = len(labeled_df.labelled_duplicates.values[0])\n",
    "    if num_of_duplicates not in predictions_per_category:\n",
    "        predictions_per_category[num_of_duplicates] = [0, 0]\n",
    "\n",
    "    if prediction == \"Correct\":\n",
    "        predictions_per_category[num_of_duplicates][0] += 1\n",
    "    else:\n",
    "        predictions_per_category[num_of_duplicates][1] += 1\n",
    "\n",
    "    # Print the results for a document\n",
    "    print(\n",
    "        \"{}: expected: {}, predicted: {}, prediction: {}\".format(\n",
    "            id, labeled_df.labelled_duplicates.values[0], duplicates, prediction\n",
    "        )\n",
    "    )"
   ]
  },
  {
   "cell_type": "code",
   "execution_count": 24,
   "id": "d766dd65",
   "metadata": {
    "colab": {
     "base_uri": "https://localhost:8080/"
    },
    "execution": {
     "iopub.execute_input": "2021-04-22T02:14:32.857251Z",
     "iopub.status.busy": "2021-04-22T02:14:32.856288Z",
     "iopub.status.idle": "2021-04-22T02:14:32.861750Z",
     "shell.execute_reply": "2021-04-22T02:14:32.861256Z"
    },
    "executionInfo": {
     "elapsed": 253714,
     "status": "ok",
     "timestamp": 1617720935929,
     "user": {
      "displayName": "Rajat Tripathi",
      "photoUrl": "",
      "userId": "04027590592238680740"
     },
     "user_tz": 240
    },
    "id": "gWXQ_Z-vjAyi",
    "outputId": "deaf1340-ae01-4cb2-c010-2bb84df04bb8",
    "papermill": {
     "duration": 0.096165,
     "end_time": "2021-04-22T02:14:32.862012",
     "exception": false,
     "start_time": "2021-04-22T02:14:32.765847",
     "status": "completed"
    },
    "tags": []
   },
   "outputs": [
    {
     "data": {
      "text/plain": [
       "{'Correct': 21, 'False': 0}"
      ]
     },
     "execution_count": 24,
     "metadata": {},
     "output_type": "execute_result"
    }
   ],
   "source": [
    "all_predictions"
   ]
  },
  {
   "cell_type": "code",
   "execution_count": 25,
   "id": "3409a3ea",
   "metadata": {
    "colab": {
     "base_uri": "https://localhost:8080/"
    },
    "execution": {
     "iopub.execute_input": "2021-04-22T02:14:33.055276Z",
     "iopub.status.busy": "2021-04-22T02:14:33.054518Z",
     "iopub.status.idle": "2021-04-22T02:14:33.058735Z",
     "shell.execute_reply": "2021-04-22T02:14:33.059277Z"
    },
    "executionInfo": {
     "elapsed": 253714,
     "status": "ok",
     "timestamp": 1617720935931,
     "user": {
      "displayName": "Rajat Tripathi",
      "photoUrl": "",
      "userId": "04027590592238680740"
     },
     "user_tz": 240
    },
    "id": "C39XE5uaywbp",
    "outputId": "7175ca92-f902-461b-c562-5d9a6f794899",
    "papermill": {
     "duration": 0.104606,
     "end_time": "2021-04-22T02:14:33.059554",
     "exception": false,
     "start_time": "2021-04-22T02:14:32.954948",
     "status": "completed"
    },
    "tags": []
   },
   "outputs": [
    {
     "data": {
      "text/plain": [
       "1.0"
      ]
     },
     "execution_count": 25,
     "metadata": {},
     "output_type": "execute_result"
    }
   ],
   "source": [
    "# Overall accuracy on a test\n",
    "accuracy = round(\n",
    "    all_predictions[\"Correct\"]\n",
    "    / (all_predictions[\"Correct\"] + all_predictions[\"False\"]),\n",
    "    4,\n",
    ")\n",
    "accuracy"
   ]
  },
  {
   "cell_type": "code",
   "execution_count": 26,
   "id": "f8a4409a",
   "metadata": {
    "colab": {
     "base_uri": "https://localhost:8080/",
     "height": 206
    },
    "execution": {
     "iopub.execute_input": "2021-04-22T02:14:33.246635Z",
     "iopub.status.busy": "2021-04-22T02:14:33.245566Z",
     "iopub.status.idle": "2021-04-22T02:14:33.249576Z",
     "shell.execute_reply": "2021-04-22T02:14:33.249984Z"
    },
    "executionInfo": {
     "elapsed": 253714,
     "status": "ok",
     "timestamp": 1617720935933,
     "user": {
      "displayName": "Rajat Tripathi",
      "photoUrl": "",
      "userId": "04027590592238680740"
     },
     "user_tz": 240
    },
    "id": "VeceWRTr8_z0",
    "outputId": "bc7a464b-75d4-433d-9a34-f0bc5ea407af",
    "papermill": {
     "duration": 0.103948,
     "end_time": "2021-04-22T02:14:33.250325",
     "exception": false,
     "start_time": "2021-04-22T02:14:33.146377",
     "status": "completed"
    },
    "tags": []
   },
   "outputs": [
    {
     "data": {
      "text/html": [
       "<div>\n",
       "<style scoped>\n",
       "    .dataframe tbody tr th:only-of-type {\n",
       "        vertical-align: middle;\n",
       "    }\n",
       "\n",
       "    .dataframe tbody tr th {\n",
       "        vertical-align: top;\n",
       "    }\n",
       "\n",
       "    .dataframe thead th {\n",
       "        text-align: right;\n",
       "    }\n",
       "</style>\n",
       "<table border=\"1\" class=\"dataframe\">\n",
       "  <thead>\n",
       "    <tr style=\"text-align: right;\">\n",
       "      <th></th>\n",
       "      <th>Correct</th>\n",
       "      <th>False</th>\n",
       "    </tr>\n",
       "  </thead>\n",
       "  <tbody>\n",
       "    <tr>\n",
       "      <th>0</th>\n",
       "      <td>10</td>\n",
       "      <td>0</td>\n",
       "    </tr>\n",
       "    <tr>\n",
       "      <th>1</th>\n",
       "      <td>8</td>\n",
       "      <td>0</td>\n",
       "    </tr>\n",
       "    <tr>\n",
       "      <th>2</th>\n",
       "      <td>1</td>\n",
       "      <td>0</td>\n",
       "    </tr>\n",
       "    <tr>\n",
       "      <th>3</th>\n",
       "      <td>1</td>\n",
       "      <td>0</td>\n",
       "    </tr>\n",
       "    <tr>\n",
       "      <th>5</th>\n",
       "      <td>1</td>\n",
       "      <td>0</td>\n",
       "    </tr>\n",
       "  </tbody>\n",
       "</table>\n",
       "</div>"
      ],
      "text/plain": [
       "   Correct  False\n",
       "0       10      0\n",
       "1        8      0\n",
       "2        1      0\n",
       "3        1      0\n",
       "5        1      0"
      ]
     },
     "execution_count": 26,
     "metadata": {},
     "output_type": "execute_result"
    }
   ],
   "source": [
    "# Print the prediction count for each class depending on the number of duplicates in labeled dataset\n",
    "pd.DataFrame.from_dict(\n",
    "    predictions_per_category, orient=\"index\", columns=[\"Correct\", \"False\"]\n",
    ")"
   ]
  },
  {
   "cell_type": "markdown",
   "id": "88377277",
   "metadata": {
    "id": "leMfd_Zzz5gf",
    "papermill": {
     "duration": 0.087503,
     "end_time": "2021-04-22T02:14:33.422505",
     "exception": false,
     "start_time": "2021-04-22T02:14:33.335002",
     "status": "completed"
    },
    "tags": []
   },
   "source": [
    "## Delete the Index\n",
    "Delete the index once you are sure that you do not want to use it anymore. Once the index is deleted, you cannot use it again.\n",
    "\n"
   ]
  },
  {
   "cell_type": "code",
   "execution_count": 27,
   "id": "418a418c",
   "metadata": {
    "colab": {
     "base_uri": "https://localhost:8080/",
     "height": 84,
     "referenced_widgets": [
      "7d51299749d74e6ba23e0b7ea75716a2",
      "e8104d77007f478c9059e7b88c5e2a09",
      "1ad6300acb094622ac233a5be5b7c1ec",
      "06c5a2152d4e48f3b78e4c7fd148a837",
      "a76d03d5d1064167868a5bc0a47ac389",
      "7c31edee872d4e8aba0ba42ce881a15f",
      "578b8d2d27ff48ae9f5c290ea74dead4",
      "6ed129328d054e0687d13e95c66c9907"
     ]
    },
    "execution": {
     "iopub.execute_input": "2021-04-22T02:14:33.605454Z",
     "iopub.status.busy": "2021-04-22T02:14:33.604373Z",
     "iopub.status.idle": "2021-04-22T02:14:46.426401Z",
     "shell.execute_reply": "2021-04-22T02:14:46.427265Z"
    },
    "executionInfo": {
     "elapsed": 265490,
     "status": "ok",
     "timestamp": 1617720947711,
     "user": {
      "displayName": "Rajat Tripathi",
      "photoUrl": "",
      "userId": "04027590592238680740"
     },
     "user_tz": 240
    },
    "id": "_5aJX_cEJNb6",
    "outputId": "6cb8c42d-a3ea-4977-bb4f-776cc1c4435a",
    "papermill": {
     "duration": 12.913733,
     "end_time": "2021-04-22T02:14:46.427686",
     "exception": false,
     "start_time": "2021-04-22T02:14:33.513953",
     "status": "completed"
    },
    "tags": []
   },
   "outputs": [],
   "source": [
    "# Delete the index if it's not going to be used anymore\n",
    "pinecone.delete_index(index_name)"
   ]
  },
  {
   "cell_type": "markdown",
   "id": "f2280d6e",
   "metadata": {
    "id": "sEZ9QMGoKh97",
    "papermill": {
     "duration": 0.096714,
     "end_time": "2021-04-22T02:14:46.625379",
     "exception": false,
     "start_time": "2021-04-22T02:14:46.528665",
     "status": "completed"
    },
    "tags": []
   },
   "source": [
    "## Summary\n",
    "\n",
    "In this notebook we demonstrate how to perform a deduplication task of over 100,000 articles using Pinecone. With articles embedded as vectors, you can use Pinecone's vector index to find similar articles. For each query article, we then use an LSH classifier on the similar articles to identify duplicate articles. Overall, we show that it is ease to incorporate Pinecone wtih article embedding models and duplication classifiers to build a deduplication service.\n"
   ]
  }
 ],
 "metadata": {
  "accelerator": "GPU",
  "colab": {
   "collapsed_sections": [],
   "name": "deduplication.ipynb",
   "provenance": [],
   "toc_visible": true
  },
  "environment": {
   "name": "tf2-gpu.2-4.m61",
   "type": "gcloud",
   "uri": "gcr.io/deeplearning-platform-release/tf2-gpu.2-4:m61"
  },
  "kernelspec": {
   "display_name": "Python 3",
   "language": "python",
   "name": "python3"
  },
  "language_info": {
   "codemirror_mode": {
    "name": "ipython",
    "version": 3
   },
   "file_extension": ".py",
   "mimetype": "text/x-python",
   "name": "python",
   "nbconvert_exporter": "python",
   "pygments_lexer": "ipython3",
   "version": "3.7.10"
  },
  "papermill": {
   "default_parameters": {},
   "duration": 542.747435,
   "end_time": "2021-04-22T02:14:49.477923",
   "environment_variables": {},
   "exception": null,
   "input_path": "/notebooks/deduplication/deduplication_scholarly_articles.ipynb",
   "output_path": "/notebooks/tmp/deduplication/deduplication_scholarly_articles.ipynb",
   "parameters": {},
   "start_time": "2021-04-22T02:05:46.730488",
   "version": "2.3.3"
  },
  "widgets": {
   "application/vnd.jupyter.widget-state+json": {
    "state": {
     "016b6041db844afb8440dd565a7bb4f9": {
      "model_module": "@jupyter-widgets/base",
      "model_module_version": "1.2.0",
      "model_name": "LayoutModel",
      "state": {
       "_model_module": "@jupyter-widgets/base",
       "_model_module_version": "1.2.0",
       "_model_name": "LayoutModel",
       "_view_count": null,
       "_view_module": "@jupyter-widgets/base",
       "_view_module_version": "1.2.0",
       "_view_name": "LayoutView",
       "align_content": null,
       "align_items": null,
       "align_self": null,
       "border": null,
       "bottom": null,
       "display": null,
       "flex": null,
       "flex_flow": null,
       "grid_area": null,
       "grid_auto_columns": null,
       "grid_auto_flow": null,
       "grid_auto_rows": null,
       "grid_column": null,
       "grid_gap": null,
       "grid_row": null,
       "grid_template_areas": null,
       "grid_template_columns": null,
       "grid_template_rows": null,
       "height": null,
       "justify_content": null,
       "justify_items": null,
       "left": null,
       "margin": null,
       "max_height": null,
       "max_width": null,
       "min_height": null,
       "min_width": null,
       "object_fit": null,
       "object_position": null,
       "order": null,
       "overflow": null,
       "overflow_x": null,
       "overflow_y": null,
       "padding": null,
       "right": null,
       "top": null,
       "visibility": null,
       "width": null
      }
     },
     "07b95287911140a3b261a9c7a0f3948f": {
      "model_module": "@jupyter-widgets/base",
      "model_module_version": "1.2.0",
      "model_name": "LayoutModel",
      "state": {
       "_model_module": "@jupyter-widgets/base",
       "_model_module_version": "1.2.0",
       "_model_name": "LayoutModel",
       "_view_count": null,
       "_view_module": "@jupyter-widgets/base",
       "_view_module_version": "1.2.0",
       "_view_name": "LayoutView",
       "align_content": null,
       "align_items": null,
       "align_self": null,
       "border": null,
       "bottom": null,
       "display": null,
       "flex": null,
       "flex_flow": null,
       "grid_area": null,
       "grid_auto_columns": null,
       "grid_auto_flow": null,
       "grid_auto_rows": null,
       "grid_column": null,
       "grid_gap": null,
       "grid_row": null,
       "grid_template_areas": null,
       "grid_template_columns": null,
       "grid_template_rows": null,
       "height": null,
       "justify_content": null,
       "justify_items": null,
       "left": null,
       "margin": null,
       "max_height": null,
       "max_width": null,
       "min_height": null,
       "min_width": null,
       "object_fit": null,
       "object_position": null,
       "order": null,
       "overflow": null,
       "overflow_x": null,
       "overflow_y": null,
       "padding": null,
       "right": null,
       "top": null,
       "visibility": null,
       "width": "20px"
      }
     },
     "0af375df5bab45debf411e8156c357c7": {
      "model_module": "@jupyter-widgets/controls",
      "model_module_version": "1.5.0",
      "model_name": "FloatProgressModel",
      "state": {
       "_dom_classes": [],
       "_model_module": "@jupyter-widgets/controls",
       "_model_module_version": "1.5.0",
       "_model_name": "FloatProgressModel",
       "_view_count": null,
       "_view_module": "@jupyter-widgets/controls",
       "_view_module_version": "1.5.0",
       "_view_name": "ProgressView",
       "bar_style": "success",
       "description": "",
       "description_tooltip": null,
       "layout": "IPY_MODEL_6e8f8fae31304aa6a9356ef9d5a07eed",
       "max": 1,
       "min": 0,
       "orientation": "horizontal",
       "style": "IPY_MODEL_1c605e21f43f4a22a8d1afb64bc6df75",
       "value": 1
      }
     },
     "0ba497562c9d4c0fb56a86f98cf80c1e": {
      "model_module": "@jupyter-widgets/controls",
      "model_module_version": "1.5.0",
      "model_name": "HTMLModel",
      "state": {
       "_dom_classes": [],
       "_model_module": "@jupyter-widgets/controls",
       "_model_module_version": "1.5.0",
       "_model_name": "HTMLModel",
       "_view_count": null,
       "_view_module": "@jupyter-widgets/controls",
       "_view_module_version": "1.5.0",
       "_view_name": "HTMLView",
       "description": "",
       "description_tooltip": null,
       "layout": "IPY_MODEL_cba2aec9f55e4499ab13bbbfb17f5770",
       "placeholder": "​",
       "style": "IPY_MODEL_487144372cd44bd68b49878c09ec8c1c",
       "value": " 2/2 [00:21&lt;00:00, 12.46s/it]"
      }
     },
     "0f2eeebbe9234656ad1f21f2518fabd7": {
      "model_module": "@jupyter-widgets/base",
      "model_module_version": "1.2.0",
      "model_name": "LayoutModel",
      "state": {
       "_model_module": "@jupyter-widgets/base",
       "_model_module_version": "1.2.0",
       "_model_name": "LayoutModel",
       "_view_count": null,
       "_view_module": "@jupyter-widgets/base",
       "_view_module_version": "1.2.0",
       "_view_name": "LayoutView",
       "align_content": null,
       "align_items": null,
       "align_self": null,
       "border": null,
       "bottom": null,
       "display": null,
       "flex": null,
       "flex_flow": null,
       "grid_area": null,
       "grid_auto_columns": null,
       "grid_auto_flow": null,
       "grid_auto_rows": null,
       "grid_column": null,
       "grid_gap": null,
       "grid_row": null,
       "grid_template_areas": null,
       "grid_template_columns": null,
       "grid_template_rows": null,
       "height": null,
       "justify_content": null,
       "justify_items": null,
       "left": null,
       "margin": null,
       "max_height": null,
       "max_width": null,
       "min_height": null,
       "min_width": null,
       "object_fit": null,
       "object_position": null,
       "order": null,
       "overflow": null,
       "overflow_x": null,
       "overflow_y": null,
       "padding": null,
       "right": null,
       "top": null,
       "visibility": null,
       "width": null
      }
     },
     "13f44569298a405da9c1fd59d3f5448b": {
      "model_module": "@jupyter-widgets/controls",
      "model_module_version": "1.5.0",
      "model_name": "HTMLModel",
      "state": {
       "_dom_classes": [],
       "_model_module": "@jupyter-widgets/controls",
       "_model_module_version": "1.5.0",
       "_model_name": "HTMLModel",
       "_view_count": null,
       "_view_module": "@jupyter-widgets/controls",
       "_view_module_version": "1.5.0",
       "_view_name": "HTMLView",
       "description": "",
       "description_tooltip": null,
       "layout": "IPY_MODEL_a1eadef0b43747799a0081c22c2c65c6",
       "placeholder": "​",
       "style": "IPY_MODEL_fda6ddd1361547dfb569ad3eaa7daeef",
       "value": "100%"
      }
     },
     "1660abc32dfe4fd2b3c0cc2128fa04c9": {
      "model_module": "@jupyter-widgets/controls",
      "model_module_version": "1.5.0",
      "model_name": "HBoxModel",
      "state": {
       "_dom_classes": [],
       "_model_module": "@jupyter-widgets/controls",
       "_model_module_version": "1.5.0",
       "_model_name": "HBoxModel",
       "_view_count": null,
       "_view_module": "@jupyter-widgets/controls",
       "_view_module_version": "1.5.0",
       "_view_name": "HBoxView",
       "box_style": "",
       "children": [
        "IPY_MODEL_73e7d6cde46041b6919ebabdf130283a",
        "IPY_MODEL_0af375df5bab45debf411e8156c357c7",
        "IPY_MODEL_7e9f206a3d59415b885da5800cdcbb56"
       ],
       "layout": "IPY_MODEL_d06f2ec7872347ef858ccb6c483b7a40"
      }
     },
     "1c605e21f43f4a22a8d1afb64bc6df75": {
      "model_module": "@jupyter-widgets/controls",
      "model_module_version": "1.5.0",
      "model_name": "ProgressStyleModel",
      "state": {
       "_model_module": "@jupyter-widgets/controls",
       "_model_module_version": "1.5.0",
       "_model_name": "ProgressStyleModel",
       "_view_count": null,
       "_view_module": "@jupyter-widgets/base",
       "_view_module_version": "1.2.0",
       "_view_name": "StyleView",
       "bar_color": null,
       "description_width": ""
      }
     },
     "1de92469dd9547ad8673e6e8ea464420": {
      "model_module": "@jupyter-widgets/controls",
      "model_module_version": "1.5.0",
      "model_name": "DescriptionStyleModel",
      "state": {
       "_model_module": "@jupyter-widgets/controls",
       "_model_module_version": "1.5.0",
       "_model_name": "DescriptionStyleModel",
       "_view_count": null,
       "_view_module": "@jupyter-widgets/base",
       "_view_module_version": "1.2.0",
       "_view_name": "StyleView",
       "description_width": ""
      }
     },
     "239f6fe6be274b869852d5eafa281e95": {
      "model_module": "@jupyter-widgets/controls",
      "model_module_version": "1.5.0",
      "model_name": "HTMLModel",
      "state": {
       "_dom_classes": [],
       "_model_module": "@jupyter-widgets/controls",
       "_model_module_version": "1.5.0",
       "_model_name": "HTMLModel",
       "_view_count": null,
       "_view_module": "@jupyter-widgets/controls",
       "_view_module_version": "1.5.0",
       "_view_name": "HTMLView",
       "description": "",
       "description_tooltip": null,
       "layout": "IPY_MODEL_dca8cecb49354dffae0614f0f117925a",
       "placeholder": "​",
       "style": "IPY_MODEL_e7b6e1f17ac04a94b89ab973f2094f49",
       "value": " 3125/3125 [00:19&lt;00:00, 437.05it/s]"
      }
     },
     "26982b20e93f44868ebf2d276b99b3d2": {
      "model_module": "@jupyter-widgets/controls",
      "model_module_version": "1.5.0",
      "model_name": "HTMLModel",
      "state": {
       "_dom_classes": [],
       "_model_module": "@jupyter-widgets/controls",
       "_model_module_version": "1.5.0",
       "_model_name": "HTMLModel",
       "_view_count": null,
       "_view_module": "@jupyter-widgets/controls",
       "_view_module_version": "1.5.0",
       "_view_name": "HTMLView",
       "description": "",
       "description_tooltip": null,
       "layout": "IPY_MODEL_570eee11d2ce40c695a151291b094269",
       "placeholder": "​",
       "style": "IPY_MODEL_9f974c83539745d7bc347acb8330b62c",
       "value": "100%"
      }
     },
     "28628eb0d6b641f6a33b4f54e9d2f1b2": {
      "model_module": "@jupyter-widgets/base",
      "model_module_version": "1.2.0",
      "model_name": "LayoutModel",
      "state": {
       "_model_module": "@jupyter-widgets/base",
       "_model_module_version": "1.2.0",
       "_model_name": "LayoutModel",
       "_view_count": null,
       "_view_module": "@jupyter-widgets/base",
       "_view_module_version": "1.2.0",
       "_view_name": "LayoutView",
       "align_content": null,
       "align_items": null,
       "align_self": null,
       "border": null,
       "bottom": null,
       "display": null,
       "flex": null,
       "flex_flow": null,
       "grid_area": null,
       "grid_auto_columns": null,
       "grid_auto_flow": null,
       "grid_auto_rows": null,
       "grid_column": null,
       "grid_gap": null,
       "grid_row": null,
       "grid_template_areas": null,
       "grid_template_columns": null,
       "grid_template_rows": null,
       "height": null,
       "justify_content": null,
       "justify_items": null,
       "left": null,
       "margin": null,
       "max_height": null,
       "max_width": null,
       "min_height": null,
       "min_width": null,
       "object_fit": null,
       "object_position": null,
       "order": null,
       "overflow": null,
       "overflow_x": null,
       "overflow_y": null,
       "padding": null,
       "right": null,
       "top": null,
       "visibility": null,
       "width": null
      }
     },
     "2a05395b2b70449cb2e9009299f38f81": {
      "model_module": "@jupyter-widgets/base",
      "model_module_version": "1.2.0",
      "model_name": "LayoutModel",
      "state": {
       "_model_module": "@jupyter-widgets/base",
       "_model_module_version": "1.2.0",
       "_model_name": "LayoutModel",
       "_view_count": null,
       "_view_module": "@jupyter-widgets/base",
       "_view_module_version": "1.2.0",
       "_view_name": "LayoutView",
       "align_content": null,
       "align_items": null,
       "align_self": null,
       "border": null,
       "bottom": null,
       "display": null,
       "flex": null,
       "flex_flow": null,
       "grid_area": null,
       "grid_auto_columns": null,
       "grid_auto_flow": null,
       "grid_auto_rows": null,
       "grid_column": null,
       "grid_gap": null,
       "grid_row": null,
       "grid_template_areas": null,
       "grid_template_columns": null,
       "grid_template_rows": null,
       "height": null,
       "justify_content": null,
       "justify_items": null,
       "left": null,
       "margin": null,
       "max_height": null,
       "max_width": null,
       "min_height": null,
       "min_width": null,
       "object_fit": null,
       "object_position": null,
       "order": null,
       "overflow": null,
       "overflow_x": null,
       "overflow_y": null,
       "padding": null,
       "right": null,
       "top": null,
       "visibility": null,
       "width": null
      }
     },
     "2c05c60a07c34c508cbd8917fd7284a4": {
      "model_module": "@jupyter-widgets/controls",
      "model_module_version": "1.5.0",
      "model_name": "DescriptionStyleModel",
      "state": {
       "_model_module": "@jupyter-widgets/controls",
       "_model_module_version": "1.5.0",
       "_model_name": "DescriptionStyleModel",
       "_view_count": null,
       "_view_module": "@jupyter-widgets/base",
       "_view_module_version": "1.2.0",
       "_view_name": "StyleView",
       "description_width": ""
      }
     },
     "332028b8d1134dc9b2a3883a28af3c55": {
      "model_module": "@jupyter-widgets/controls",
      "model_module_version": "1.5.0",
      "model_name": "FloatProgressModel",
      "state": {
       "_dom_classes": [],
       "_model_module": "@jupyter-widgets/controls",
       "_model_module_version": "1.5.0",
       "_model_name": "FloatProgressModel",
       "_view_count": null,
       "_view_module": "@jupyter-widgets/controls",
       "_view_module_version": "1.5.0",
       "_view_name": "ProgressView",
       "bar_style": "success",
       "description": "",
       "description_tooltip": null,
       "layout": "IPY_MODEL_07b95287911140a3b261a9c7a0f3948f",
       "max": 1,
       "min": 0,
       "orientation": "horizontal",
       "style": "IPY_MODEL_f9354014bd864328b153828ced392c26",
       "value": 1
      }
     },
     "33509482f52c424e828586e6b8a2a911": {
      "model_module": "@jupyter-widgets/base",
      "model_module_version": "1.2.0",
      "model_name": "LayoutModel",
      "state": {
       "_model_module": "@jupyter-widgets/base",
       "_model_module_version": "1.2.0",
       "_model_name": "LayoutModel",
       "_view_count": null,
       "_view_module": "@jupyter-widgets/base",
       "_view_module_version": "1.2.0",
       "_view_name": "LayoutView",
       "align_content": null,
       "align_items": null,
       "align_self": null,
       "border": null,
       "bottom": null,
       "display": null,
       "flex": null,
       "flex_flow": null,
       "grid_area": null,
       "grid_auto_columns": null,
       "grid_auto_flow": null,
       "grid_auto_rows": null,
       "grid_column": null,
       "grid_gap": null,
       "grid_row": null,
       "grid_template_areas": null,
       "grid_template_columns": null,
       "grid_template_rows": null,
       "height": null,
       "justify_content": null,
       "justify_items": null,
       "left": null,
       "margin": null,
       "max_height": null,
       "max_width": null,
       "min_height": null,
       "min_width": null,
       "object_fit": null,
       "object_position": null,
       "order": null,
       "overflow": null,
       "overflow_x": null,
       "overflow_y": null,
       "padding": null,
       "right": null,
       "top": null,
       "visibility": null,
       "width": null
      }
     },
     "40ce0127ce7b45a5997aa186b14ec6a7": {
      "model_module": "@jupyter-widgets/controls",
      "model_module_version": "1.5.0",
      "model_name": "DescriptionStyleModel",
      "state": {
       "_model_module": "@jupyter-widgets/controls",
       "_model_module_version": "1.5.0",
       "_model_name": "DescriptionStyleModel",
       "_view_count": null,
       "_view_module": "@jupyter-widgets/base",
       "_view_module_version": "1.2.0",
       "_view_name": "StyleView",
       "description_width": ""
      }
     },
     "41b2e7348026441bb923dab46897da41": {
      "model_module": "@jupyter-widgets/controls",
      "model_module_version": "1.5.0",
      "model_name": "ProgressStyleModel",
      "state": {
       "_model_module": "@jupyter-widgets/controls",
       "_model_module_version": "1.5.0",
       "_model_name": "ProgressStyleModel",
       "_view_count": null,
       "_view_module": "@jupyter-widgets/base",
       "_view_module_version": "1.2.0",
       "_view_name": "StyleView",
       "bar_color": null,
       "description_width": ""
      }
     },
     "4239d8c5e72044229cd7953a6be84d85": {
      "model_module": "@jupyter-widgets/base",
      "model_module_version": "1.2.0",
      "model_name": "LayoutModel",
      "state": {
       "_model_module": "@jupyter-widgets/base",
       "_model_module_version": "1.2.0",
       "_model_name": "LayoutModel",
       "_view_count": null,
       "_view_module": "@jupyter-widgets/base",
       "_view_module_version": "1.2.0",
       "_view_name": "LayoutView",
       "align_content": null,
       "align_items": null,
       "align_self": null,
       "border": null,
       "bottom": null,
       "display": null,
       "flex": null,
       "flex_flow": null,
       "grid_area": null,
       "grid_auto_columns": null,
       "grid_auto_flow": null,
       "grid_auto_rows": null,
       "grid_column": null,
       "grid_gap": null,
       "grid_row": null,
       "grid_template_areas": null,
       "grid_template_columns": null,
       "grid_template_rows": null,
       "height": null,
       "justify_content": null,
       "justify_items": null,
       "left": null,
       "margin": null,
       "max_height": null,
       "max_width": null,
       "min_height": null,
       "min_width": null,
       "object_fit": null,
       "object_position": null,
       "order": null,
       "overflow": null,
       "overflow_x": null,
       "overflow_y": null,
       "padding": null,
       "right": null,
       "top": null,
       "visibility": null,
       "width": null
      }
     },
     "487144372cd44bd68b49878c09ec8c1c": {
      "model_module": "@jupyter-widgets/controls",
      "model_module_version": "1.5.0",
      "model_name": "DescriptionStyleModel",
      "state": {
       "_model_module": "@jupyter-widgets/controls",
       "_model_module_version": "1.5.0",
       "_model_name": "DescriptionStyleModel",
       "_view_count": null,
       "_view_module": "@jupyter-widgets/base",
       "_view_module_version": "1.2.0",
       "_view_name": "StyleView",
       "description_width": ""
      }
     },
     "570eee11d2ce40c695a151291b094269": {
      "model_module": "@jupyter-widgets/base",
      "model_module_version": "1.2.0",
      "model_name": "LayoutModel",
      "state": {
       "_model_module": "@jupyter-widgets/base",
       "_model_module_version": "1.2.0",
       "_model_name": "LayoutModel",
       "_view_count": null,
       "_view_module": "@jupyter-widgets/base",
       "_view_module_version": "1.2.0",
       "_view_name": "LayoutView",
       "align_content": null,
       "align_items": null,
       "align_self": null,
       "border": null,
       "bottom": null,
       "display": null,
       "flex": null,
       "flex_flow": null,
       "grid_area": null,
       "grid_auto_columns": null,
       "grid_auto_flow": null,
       "grid_auto_rows": null,
       "grid_column": null,
       "grid_gap": null,
       "grid_row": null,
       "grid_template_areas": null,
       "grid_template_columns": null,
       "grid_template_rows": null,
       "height": null,
       "justify_content": null,
       "justify_items": null,
       "left": null,
       "margin": null,
       "max_height": null,
       "max_width": null,
       "min_height": null,
       "min_width": null,
       "object_fit": null,
       "object_position": null,
       "order": null,
       "overflow": null,
       "overflow_x": null,
       "overflow_y": null,
       "padding": null,
       "right": null,
       "top": null,
       "visibility": null,
       "width": null
      }
     },
     "5910928f65434530878606fad2b6fa30": {
      "model_module": "@jupyter-widgets/base",
      "model_module_version": "1.2.0",
      "model_name": "LayoutModel",
      "state": {
       "_model_module": "@jupyter-widgets/base",
       "_model_module_version": "1.2.0",
       "_model_name": "LayoutModel",
       "_view_count": null,
       "_view_module": "@jupyter-widgets/base",
       "_view_module_version": "1.2.0",
       "_view_name": "LayoutView",
       "align_content": null,
       "align_items": null,
       "align_self": null,
       "border": null,
       "bottom": null,
       "display": null,
       "flex": null,
       "flex_flow": null,
       "grid_area": null,
       "grid_auto_columns": null,
       "grid_auto_flow": null,
       "grid_auto_rows": null,
       "grid_column": null,
       "grid_gap": null,
       "grid_row": null,
       "grid_template_areas": null,
       "grid_template_columns": null,
       "grid_template_rows": null,
       "height": null,
       "justify_content": null,
       "justify_items": null,
       "left": null,
       "margin": null,
       "max_height": null,
       "max_width": null,
       "min_height": null,
       "min_width": null,
       "object_fit": null,
       "object_position": null,
       "order": null,
       "overflow": null,
       "overflow_x": null,
       "overflow_y": null,
       "padding": null,
       "right": null,
       "top": null,
       "visibility": null,
       "width": null
      }
     },
     "62345ba6757b4eff9ac302a00a64876f": {
      "model_module": "@jupyter-widgets/controls",
      "model_module_version": "1.5.0",
      "model_name": "DescriptionStyleModel",
      "state": {
       "_model_module": "@jupyter-widgets/controls",
       "_model_module_version": "1.5.0",
       "_model_name": "DescriptionStyleModel",
       "_view_count": null,
       "_view_module": "@jupyter-widgets/base",
       "_view_module_version": "1.2.0",
       "_view_name": "StyleView",
       "description_width": ""
      }
     },
     "670552ec0f23465f807eae646058b2b2": {
      "model_module": "@jupyter-widgets/controls",
      "model_module_version": "1.5.0",
      "model_name": "ProgressStyleModel",
      "state": {
       "_model_module": "@jupyter-widgets/controls",
       "_model_module_version": "1.5.0",
       "_model_name": "ProgressStyleModel",
       "_view_count": null,
       "_view_module": "@jupyter-widgets/base",
       "_view_module_version": "1.2.0",
       "_view_name": "StyleView",
       "bar_color": null,
       "description_width": ""
      }
     },
     "69583934ee7d4b82ba9f8bae66cfff75": {
      "model_module": "@jupyter-widgets/base",
      "model_module_version": "1.2.0",
      "model_name": "LayoutModel",
      "state": {
       "_model_module": "@jupyter-widgets/base",
       "_model_module_version": "1.2.0",
       "_model_name": "LayoutModel",
       "_view_count": null,
       "_view_module": "@jupyter-widgets/base",
       "_view_module_version": "1.2.0",
       "_view_name": "LayoutView",
       "align_content": null,
       "align_items": null,
       "align_self": null,
       "border": null,
       "bottom": null,
       "display": null,
       "flex": null,
       "flex_flow": null,
       "grid_area": null,
       "grid_auto_columns": null,
       "grid_auto_flow": null,
       "grid_auto_rows": null,
       "grid_column": null,
       "grid_gap": null,
       "grid_row": null,
       "grid_template_areas": null,
       "grid_template_columns": null,
       "grid_template_rows": null,
       "height": null,
       "justify_content": null,
       "justify_items": null,
       "left": null,
       "margin": null,
       "max_height": null,
       "max_width": null,
       "min_height": null,
       "min_width": null,
       "object_fit": null,
       "object_position": null,
       "order": null,
       "overflow": null,
       "overflow_x": null,
       "overflow_y": null,
       "padding": null,
       "right": null,
       "top": null,
       "visibility": null,
       "width": null
      }
     },
     "6c2515a22b304db6b8339189931721a2": {
      "model_module": "@jupyter-widgets/base",
      "model_module_version": "1.2.0",
      "model_name": "LayoutModel",
      "state": {
       "_model_module": "@jupyter-widgets/base",
       "_model_module_version": "1.2.0",
       "_model_name": "LayoutModel",
       "_view_count": null,
       "_view_module": "@jupyter-widgets/base",
       "_view_module_version": "1.2.0",
       "_view_name": "LayoutView",
       "align_content": null,
       "align_items": null,
       "align_self": null,
       "border": null,
       "bottom": null,
       "display": null,
       "flex": null,
       "flex_flow": null,
       "grid_area": null,
       "grid_auto_columns": null,
       "grid_auto_flow": null,
       "grid_auto_rows": null,
       "grid_column": null,
       "grid_gap": null,
       "grid_row": null,
       "grid_template_areas": null,
       "grid_template_columns": null,
       "grid_template_rows": null,
       "height": null,
       "justify_content": null,
       "justify_items": null,
       "left": null,
       "margin": null,
       "max_height": null,
       "max_width": null,
       "min_height": null,
       "min_width": null,
       "object_fit": null,
       "object_position": null,
       "order": null,
       "overflow": null,
       "overflow_x": null,
       "overflow_y": null,
       "padding": null,
       "right": null,
       "top": null,
       "visibility": null,
       "width": null
      }
     },
     "6e8f8fae31304aa6a9356ef9d5a07eed": {
      "model_module": "@jupyter-widgets/base",
      "model_module_version": "1.2.0",
      "model_name": "LayoutModel",
      "state": {
       "_model_module": "@jupyter-widgets/base",
       "_model_module_version": "1.2.0",
       "_model_name": "LayoutModel",
       "_view_count": null,
       "_view_module": "@jupyter-widgets/base",
       "_view_module_version": "1.2.0",
       "_view_name": "LayoutView",
       "align_content": null,
       "align_items": null,
       "align_self": null,
       "border": null,
       "bottom": null,
       "display": null,
       "flex": null,
       "flex_flow": null,
       "grid_area": null,
       "grid_auto_columns": null,
       "grid_auto_flow": null,
       "grid_auto_rows": null,
       "grid_column": null,
       "grid_gap": null,
       "grid_row": null,
       "grid_template_areas": null,
       "grid_template_columns": null,
       "grid_template_rows": null,
       "height": null,
       "justify_content": null,
       "justify_items": null,
       "left": null,
       "margin": null,
       "max_height": null,
       "max_width": null,
       "min_height": null,
       "min_width": null,
       "object_fit": null,
       "object_position": null,
       "order": null,
       "overflow": null,
       "overflow_x": null,
       "overflow_y": null,
       "padding": null,
       "right": null,
       "top": null,
       "visibility": null,
       "width": "20px"
      }
     },
     "7297aebef3b845c4a14904bf708376e4": {
      "model_module": "@jupyter-widgets/controls",
      "model_module_version": "1.5.0",
      "model_name": "FloatProgressModel",
      "state": {
       "_dom_classes": [],
       "_model_module": "@jupyter-widgets/controls",
       "_model_module_version": "1.5.0",
       "_model_name": "FloatProgressModel",
       "_view_count": null,
       "_view_module": "@jupyter-widgets/controls",
       "_view_module_version": "1.5.0",
       "_view_name": "ProgressView",
       "bar_style": "success",
       "description": "",
       "description_tooltip": null,
       "layout": "IPY_MODEL_7b12482b9e6a4b9ea856f686e837a9de",
       "max": 3125,
       "min": 0,
       "orientation": "horizontal",
       "style": "IPY_MODEL_7d90328a3ea3478e8d1919368359a4df",
       "value": 3125
      }
     },
     "73e7d6cde46041b6919ebabdf130283a": {
      "model_module": "@jupyter-widgets/controls",
      "model_module_version": "1.5.0",
      "model_name": "HTMLModel",
      "state": {
       "_dom_classes": [],
       "_model_module": "@jupyter-widgets/controls",
       "_model_module_version": "1.5.0",
       "_model_name": "HTMLModel",
       "_view_count": null,
       "_view_module": "@jupyter-widgets/controls",
       "_view_module_version": "1.5.0",
       "_view_name": "HTMLView",
       "description": "",
       "description_tooltip": null,
       "layout": "IPY_MODEL_0f2eeebbe9234656ad1f21f2518fabd7",
       "placeholder": "​",
       "style": "IPY_MODEL_62345ba6757b4eff9ac302a00a64876f",
       "value": ""
      }
     },
     "750cb503a52c41019fc8d686ca1c15fd": {
      "model_module": "@jupyter-widgets/controls",
      "model_module_version": "1.5.0",
      "model_name": "DescriptionStyleModel",
      "state": {
       "_model_module": "@jupyter-widgets/controls",
       "_model_module_version": "1.5.0",
       "_model_name": "DescriptionStyleModel",
       "_view_count": null,
       "_view_module": "@jupyter-widgets/base",
       "_view_module_version": "1.2.0",
       "_view_name": "StyleView",
       "description_width": ""
      }
     },
     "788ca792d50e4d7e90d654a21f61f780": {
      "model_module": "@jupyter-widgets/controls",
      "model_module_version": "1.5.0",
      "model_name": "HTMLModel",
      "state": {
       "_dom_classes": [],
       "_model_module": "@jupyter-widgets/controls",
       "_model_module_version": "1.5.0",
       "_model_name": "HTMLModel",
       "_view_count": null,
       "_view_module": "@jupyter-widgets/controls",
       "_view_module_version": "1.5.0",
       "_view_name": "HTMLView",
       "description": "",
       "description_tooltip": null,
       "layout": "IPY_MODEL_4239d8c5e72044229cd7953a6be84d85",
       "placeholder": "​",
       "style": "IPY_MODEL_a5ee228071f7414fb9e777a1396be81a",
       "value": ""
      }
     },
     "7b12482b9e6a4b9ea856f686e837a9de": {
      "model_module": "@jupyter-widgets/base",
      "model_module_version": "1.2.0",
      "model_name": "LayoutModel",
      "state": {
       "_model_module": "@jupyter-widgets/base",
       "_model_module_version": "1.2.0",
       "_model_name": "LayoutModel",
       "_view_count": null,
       "_view_module": "@jupyter-widgets/base",
       "_view_module_version": "1.2.0",
       "_view_name": "LayoutView",
       "align_content": null,
       "align_items": null,
       "align_self": null,
       "border": null,
       "bottom": null,
       "display": null,
       "flex": null,
       "flex_flow": null,
       "grid_area": null,
       "grid_auto_columns": null,
       "grid_auto_flow": null,
       "grid_auto_rows": null,
       "grid_column": null,
       "grid_gap": null,
       "grid_row": null,
       "grid_template_areas": null,
       "grid_template_columns": null,
       "grid_template_rows": null,
       "height": null,
       "justify_content": null,
       "justify_items": null,
       "left": null,
       "margin": null,
       "max_height": null,
       "max_width": null,
       "min_height": null,
       "min_width": null,
       "object_fit": null,
       "object_position": null,
       "order": null,
       "overflow": null,
       "overflow_x": null,
       "overflow_y": null,
       "padding": null,
       "right": null,
       "top": null,
       "visibility": null,
       "width": null
      }
     },
     "7d90328a3ea3478e8d1919368359a4df": {
      "model_module": "@jupyter-widgets/controls",
      "model_module_version": "1.5.0",
      "model_name": "ProgressStyleModel",
      "state": {
       "_model_module": "@jupyter-widgets/controls",
       "_model_module_version": "1.5.0",
       "_model_name": "ProgressStyleModel",
       "_view_count": null,
       "_view_module": "@jupyter-widgets/base",
       "_view_module_version": "1.2.0",
       "_view_name": "StyleView",
       "bar_color": null,
       "description_width": ""
      }
     },
     "7e9f206a3d59415b885da5800cdcbb56": {
      "model_module": "@jupyter-widgets/controls",
      "model_module_version": "1.5.0",
      "model_name": "HTMLModel",
      "state": {
       "_dom_classes": [],
       "_model_module": "@jupyter-widgets/controls",
       "_model_module_version": "1.5.0",
       "_model_name": "HTMLModel",
       "_view_count": null,
       "_view_module": "@jupyter-widgets/controls",
       "_view_module_version": "1.5.0",
       "_view_name": "HTMLView",
       "description": "",
       "description_tooltip": null,
       "layout": "IPY_MODEL_e7687743c6634a06aa7844a675f36dfc",
       "placeholder": "​",
       "style": "IPY_MODEL_2c05c60a07c34c508cbd8917fd7284a4",
       "value": " 100000/? [01:32&lt;00:00, 1355.78it/s]"
      }
     },
     "809c2f95c1d946d7ba0b31d13c5747b3": {
      "model_module": "@jupyter-widgets/base",
      "model_module_version": "1.2.0",
      "model_name": "LayoutModel",
      "state": {
       "_model_module": "@jupyter-widgets/base",
       "_model_module_version": "1.2.0",
       "_model_name": "LayoutModel",
       "_view_count": null,
       "_view_module": "@jupyter-widgets/base",
       "_view_module_version": "1.2.0",
       "_view_name": "LayoutView",
       "align_content": null,
       "align_items": null,
       "align_self": null,
       "border": null,
       "bottom": null,
       "display": null,
       "flex": null,
       "flex_flow": null,
       "grid_area": null,
       "grid_auto_columns": null,
       "grid_auto_flow": null,
       "grid_auto_rows": null,
       "grid_column": null,
       "grid_gap": null,
       "grid_row": null,
       "grid_template_areas": null,
       "grid_template_columns": null,
       "grid_template_rows": null,
       "height": null,
       "justify_content": null,
       "justify_items": null,
       "left": null,
       "margin": null,
       "max_height": null,
       "max_width": null,
       "min_height": null,
       "min_width": null,
       "object_fit": null,
       "object_position": null,
       "order": null,
       "overflow": null,
       "overflow_x": null,
       "overflow_y": null,
       "padding": null,
       "right": null,
       "top": null,
       "visibility": null,
       "width": null
      }
     },
     "81aa2de14e71440d898a7d8321c40b38": {
      "model_module": "@jupyter-widgets/controls",
      "model_module_version": "1.5.0",
      "model_name": "HBoxModel",
      "state": {
       "_dom_classes": [],
       "_model_module": "@jupyter-widgets/controls",
       "_model_module_version": "1.5.0",
       "_model_name": "HBoxModel",
       "_view_count": null,
       "_view_module": "@jupyter-widgets/controls",
       "_view_module_version": "1.5.0",
       "_view_name": "HBoxView",
       "box_style": "",
       "children": [
        "IPY_MODEL_26982b20e93f44868ebf2d276b99b3d2",
        "IPY_MODEL_c71319878f4f45cc8b8edcb1c9061afc",
        "IPY_MODEL_f9712863d77e4052ad17c20957711534"
       ],
       "layout": "IPY_MODEL_c5c931d77d6f4242971b437acf09c534"
      }
     },
     "82c43fcad03846ab936411adafe4f5aa": {
      "model_module": "@jupyter-widgets/controls",
      "model_module_version": "1.5.0",
      "model_name": "DescriptionStyleModel",
      "state": {
       "_model_module": "@jupyter-widgets/controls",
       "_model_module_version": "1.5.0",
       "_model_name": "DescriptionStyleModel",
       "_view_count": null,
       "_view_module": "@jupyter-widgets/base",
       "_view_module_version": "1.2.0",
       "_view_name": "StyleView",
       "description_width": ""
      }
     },
     "88a15309933642a6b77eb05023baf2d8": {
      "model_module": "@jupyter-widgets/controls",
      "model_module_version": "1.5.0",
      "model_name": "HTMLModel",
      "state": {
       "_dom_classes": [],
       "_model_module": "@jupyter-widgets/controls",
       "_model_module_version": "1.5.0",
       "_model_name": "HTMLModel",
       "_view_count": null,
       "_view_module": "@jupyter-widgets/controls",
       "_view_module_version": "1.5.0",
       "_view_name": "HTMLView",
       "description": "",
       "description_tooltip": null,
       "layout": "IPY_MODEL_69583934ee7d4b82ba9f8bae66cfff75",
       "placeholder": "​",
       "style": "IPY_MODEL_82c43fcad03846ab936411adafe4f5aa",
       "value": "Batches: 100%"
      }
     },
     "946e7519c17a46929cccb17867ccf00a": {
      "model_module": "@jupyter-widgets/controls",
      "model_module_version": "1.5.0",
      "model_name": "HTMLModel",
      "state": {
       "_dom_classes": [],
       "_model_module": "@jupyter-widgets/controls",
       "_model_module_version": "1.5.0",
       "_model_name": "HTMLModel",
       "_view_count": null,
       "_view_module": "@jupyter-widgets/controls",
       "_view_module_version": "1.5.0",
       "_view_name": "HTMLView",
       "description": "",
       "description_tooltip": null,
       "layout": "IPY_MODEL_5910928f65434530878606fad2b6fa30",
       "placeholder": "​",
       "style": "IPY_MODEL_750cb503a52c41019fc8d686ca1c15fd",
       "value": "100%"
      }
     },
     "9f974c83539745d7bc347acb8330b62c": {
      "model_module": "@jupyter-widgets/controls",
      "model_module_version": "1.5.0",
      "model_name": "DescriptionStyleModel",
      "state": {
       "_model_module": "@jupyter-widgets/controls",
       "_model_module_version": "1.5.0",
       "_model_name": "DescriptionStyleModel",
       "_view_count": null,
       "_view_module": "@jupyter-widgets/base",
       "_view_module_version": "1.2.0",
       "_view_name": "StyleView",
       "description_width": ""
      }
     },
     "a1eadef0b43747799a0081c22c2c65c6": {
      "model_module": "@jupyter-widgets/base",
      "model_module_version": "1.2.0",
      "model_name": "LayoutModel",
      "state": {
       "_model_module": "@jupyter-widgets/base",
       "_model_module_version": "1.2.0",
       "_model_name": "LayoutModel",
       "_view_count": null,
       "_view_module": "@jupyter-widgets/base",
       "_view_module_version": "1.2.0",
       "_view_name": "LayoutView",
       "align_content": null,
       "align_items": null,
       "align_self": null,
       "border": null,
       "bottom": null,
       "display": null,
       "flex": null,
       "flex_flow": null,
       "grid_area": null,
       "grid_auto_columns": null,
       "grid_auto_flow": null,
       "grid_auto_rows": null,
       "grid_column": null,
       "grid_gap": null,
       "grid_row": null,
       "grid_template_areas": null,
       "grid_template_columns": null,
       "grid_template_rows": null,
       "height": null,
       "justify_content": null,
       "justify_items": null,
       "left": null,
       "margin": null,
       "max_height": null,
       "max_width": null,
       "min_height": null,
       "min_width": null,
       "object_fit": null,
       "object_position": null,
       "order": null,
       "overflow": null,
       "overflow_x": null,
       "overflow_y": null,
       "padding": null,
       "right": null,
       "top": null,
       "visibility": null,
       "width": null
      }
     },
     "a45434fdfd5e4ef2a7a68e2ee57e600a": {
      "model_module": "@jupyter-widgets/controls",
      "model_module_version": "1.5.0",
      "model_name": "HBoxModel",
      "state": {
       "_dom_classes": [],
       "_model_module": "@jupyter-widgets/controls",
       "_model_module_version": "1.5.0",
       "_model_name": "HBoxModel",
       "_view_count": null,
       "_view_module": "@jupyter-widgets/controls",
       "_view_module_version": "1.5.0",
       "_view_name": "HBoxView",
       "box_style": "",
       "children": [
        "IPY_MODEL_88a15309933642a6b77eb05023baf2d8",
        "IPY_MODEL_7297aebef3b845c4a14904bf708376e4",
        "IPY_MODEL_239f6fe6be274b869852d5eafa281e95"
       ],
       "layout": "IPY_MODEL_2a05395b2b70449cb2e9009299f38f81"
      }
     },
     "a5ee228071f7414fb9e777a1396be81a": {
      "model_module": "@jupyter-widgets/controls",
      "model_module_version": "1.5.0",
      "model_name": "DescriptionStyleModel",
      "state": {
       "_model_module": "@jupyter-widgets/controls",
       "_model_module_version": "1.5.0",
       "_model_name": "DescriptionStyleModel",
       "_view_count": null,
       "_view_module": "@jupyter-widgets/base",
       "_view_module_version": "1.2.0",
       "_view_name": "StyleView",
       "description_width": ""
      }
     },
     "abe0030e20404eed8b14dcefc441363c": {
      "model_module": "@jupyter-widgets/base",
      "model_module_version": "1.2.0",
      "model_name": "LayoutModel",
      "state": {
       "_model_module": "@jupyter-widgets/base",
       "_model_module_version": "1.2.0",
       "_model_name": "LayoutModel",
       "_view_count": null,
       "_view_module": "@jupyter-widgets/base",
       "_view_module_version": "1.2.0",
       "_view_name": "LayoutView",
       "align_content": null,
       "align_items": null,
       "align_self": null,
       "border": null,
       "bottom": null,
       "display": null,
       "flex": null,
       "flex_flow": null,
       "grid_area": null,
       "grid_auto_columns": null,
       "grid_auto_flow": null,
       "grid_auto_rows": null,
       "grid_column": null,
       "grid_gap": null,
       "grid_row": null,
       "grid_template_areas": null,
       "grid_template_columns": null,
       "grid_template_rows": null,
       "height": null,
       "justify_content": null,
       "justify_items": null,
       "left": null,
       "margin": null,
       "max_height": null,
       "max_width": null,
       "min_height": null,
       "min_width": null,
       "object_fit": null,
       "object_position": null,
       "order": null,
       "overflow": null,
       "overflow_x": null,
       "overflow_y": null,
       "padding": null,
       "right": null,
       "top": null,
       "visibility": null,
       "width": null
      }
     },
     "b8851376bc4c433dab686b303b330ef2": {
      "model_module": "@jupyter-widgets/controls",
      "model_module_version": "1.5.0",
      "model_name": "FloatProgressModel",
      "state": {
       "_dom_classes": [],
       "_model_module": "@jupyter-widgets/controls",
       "_model_module_version": "1.5.0",
       "_model_name": "FloatProgressModel",
       "_view_count": null,
       "_view_module": "@jupyter-widgets/controls",
       "_view_module_version": "1.5.0",
       "_view_name": "ProgressView",
       "bar_style": "success",
       "description": "",
       "description_tooltip": null,
       "layout": "IPY_MODEL_abe0030e20404eed8b14dcefc441363c",
       "max": 1,
       "min": 0,
       "orientation": "horizontal",
       "style": "IPY_MODEL_db390b8382184efe932916154d2b6ad7",
       "value": 1
      }
     },
     "c012277492fb4ab88076f8047ecf7016": {
      "model_module": "@jupyter-widgets/controls",
      "model_module_version": "1.5.0",
      "model_name": "HBoxModel",
      "state": {
       "_dom_classes": [],
       "_model_module": "@jupyter-widgets/controls",
       "_model_module_version": "1.5.0",
       "_model_name": "HBoxModel",
       "_view_count": null,
       "_view_module": "@jupyter-widgets/controls",
       "_view_module_version": "1.5.0",
       "_view_name": "HBoxView",
       "box_style": "",
       "children": [
        "IPY_MODEL_13f44569298a405da9c1fd59d3f5448b",
        "IPY_MODEL_e3cbc3b258cb4a3180ccdc3b3545df2a",
        "IPY_MODEL_0ba497562c9d4c0fb56a86f98cf80c1e"
       ],
       "layout": "IPY_MODEL_016b6041db844afb8440dd565a7bb4f9"
      }
     },
     "c5c931d77d6f4242971b437acf09c534": {
      "model_module": "@jupyter-widgets/base",
      "model_module_version": "1.2.0",
      "model_name": "LayoutModel",
      "state": {
       "_model_module": "@jupyter-widgets/base",
       "_model_module_version": "1.2.0",
       "_model_name": "LayoutModel",
       "_view_count": null,
       "_view_module": "@jupyter-widgets/base",
       "_view_module_version": "1.2.0",
       "_view_name": "LayoutView",
       "align_content": null,
       "align_items": null,
       "align_self": null,
       "border": null,
       "bottom": null,
       "display": null,
       "flex": null,
       "flex_flow": null,
       "grid_area": null,
       "grid_auto_columns": null,
       "grid_auto_flow": null,
       "grid_auto_rows": null,
       "grid_column": null,
       "grid_gap": null,
       "grid_row": null,
       "grid_template_areas": null,
       "grid_template_columns": null,
       "grid_template_rows": null,
       "height": null,
       "justify_content": null,
       "justify_items": null,
       "left": null,
       "margin": null,
       "max_height": null,
       "max_width": null,
       "min_height": null,
       "min_width": null,
       "object_fit": null,
       "object_position": null,
       "order": null,
       "overflow": null,
       "overflow_x": null,
       "overflow_y": null,
       "padding": null,
       "right": null,
       "top": null,
       "visibility": null,
       "width": null
      }
     },
     "c6c1115c70774929a5225c8a89dc7cb9": {
      "model_module": "@jupyter-widgets/controls",
      "model_module_version": "1.5.0",
      "model_name": "DescriptionStyleModel",
      "state": {
       "_model_module": "@jupyter-widgets/controls",
       "_model_module_version": "1.5.0",
       "_model_name": "DescriptionStyleModel",
       "_view_count": null,
       "_view_module": "@jupyter-widgets/base",
       "_view_module_version": "1.2.0",
       "_view_name": "StyleView",
       "description_width": ""
      }
     },
     "c71319878f4f45cc8b8edcb1c9061afc": {
      "model_module": "@jupyter-widgets/controls",
      "model_module_version": "1.5.0",
      "model_name": "FloatProgressModel",
      "state": {
       "_dom_classes": [],
       "_model_module": "@jupyter-widgets/controls",
       "_model_module_version": "1.5.0",
       "_model_name": "FloatProgressModel",
       "_view_count": null,
       "_view_module": "@jupyter-widgets/controls",
       "_view_module_version": "1.5.0",
       "_view_name": "ProgressView",
       "bar_style": "success",
       "description": "",
       "description_tooltip": null,
       "layout": "IPY_MODEL_6c2515a22b304db6b8339189931721a2",
       "max": 441493586,
       "min": 0,
       "orientation": "horizontal",
       "style": "IPY_MODEL_670552ec0f23465f807eae646058b2b2",
       "value": 441493586
      }
     },
     "cba2aec9f55e4499ab13bbbfb17f5770": {
      "model_module": "@jupyter-widgets/base",
      "model_module_version": "1.2.0",
      "model_name": "LayoutModel",
      "state": {
       "_model_module": "@jupyter-widgets/base",
       "_model_module_version": "1.2.0",
       "_model_name": "LayoutModel",
       "_view_count": null,
       "_view_module": "@jupyter-widgets/base",
       "_view_module_version": "1.2.0",
       "_view_name": "LayoutView",
       "align_content": null,
       "align_items": null,
       "align_self": null,
       "border": null,
       "bottom": null,
       "display": null,
       "flex": null,
       "flex_flow": null,
       "grid_area": null,
       "grid_auto_columns": null,
       "grid_auto_flow": null,
       "grid_auto_rows": null,
       "grid_column": null,
       "grid_gap": null,
       "grid_row": null,
       "grid_template_areas": null,
       "grid_template_columns": null,
       "grid_template_rows": null,
       "height": null,
       "justify_content": null,
       "justify_items": null,
       "left": null,
       "margin": null,
       "max_height": null,
       "max_width": null,
       "min_height": null,
       "min_width": null,
       "object_fit": null,
       "object_position": null,
       "order": null,
       "overflow": null,
       "overflow_x": null,
       "overflow_y": null,
       "padding": null,
       "right": null,
       "top": null,
       "visibility": null,
       "width": null
      }
     },
     "ce866df065fc46c992e64de94b5e49aa": {
      "model_module": "@jupyter-widgets/base",
      "model_module_version": "1.2.0",
      "model_name": "LayoutModel",
      "state": {
       "_model_module": "@jupyter-widgets/base",
       "_model_module_version": "1.2.0",
       "_model_name": "LayoutModel",
       "_view_count": null,
       "_view_module": "@jupyter-widgets/base",
       "_view_module_version": "1.2.0",
       "_view_name": "LayoutView",
       "align_content": null,
       "align_items": null,
       "align_self": null,
       "border": null,
       "bottom": null,
       "display": null,
       "flex": null,
       "flex_flow": null,
       "grid_area": null,
       "grid_auto_columns": null,
       "grid_auto_flow": null,
       "grid_auto_rows": null,
       "grid_column": null,
       "grid_gap": null,
       "grid_row": null,
       "grid_template_areas": null,
       "grid_template_columns": null,
       "grid_template_rows": null,
       "height": null,
       "justify_content": null,
       "justify_items": null,
       "left": null,
       "margin": null,
       "max_height": null,
       "max_width": null,
       "min_height": null,
       "min_width": null,
       "object_fit": null,
       "object_position": null,
       "order": null,
       "overflow": null,
       "overflow_x": null,
       "overflow_y": null,
       "padding": null,
       "right": null,
       "top": null,
       "visibility": null,
       "width": null
      }
     },
     "d06f2ec7872347ef858ccb6c483b7a40": {
      "model_module": "@jupyter-widgets/base",
      "model_module_version": "1.2.0",
      "model_name": "LayoutModel",
      "state": {
       "_model_module": "@jupyter-widgets/base",
       "_model_module_version": "1.2.0",
       "_model_name": "LayoutModel",
       "_view_count": null,
       "_view_module": "@jupyter-widgets/base",
       "_view_module_version": "1.2.0",
       "_view_name": "LayoutView",
       "align_content": null,
       "align_items": null,
       "align_self": null,
       "border": null,
       "bottom": null,
       "display": null,
       "flex": null,
       "flex_flow": null,
       "grid_area": null,
       "grid_auto_columns": null,
       "grid_auto_flow": null,
       "grid_auto_rows": null,
       "grid_column": null,
       "grid_gap": null,
       "grid_row": null,
       "grid_template_areas": null,
       "grid_template_columns": null,
       "grid_template_rows": null,
       "height": null,
       "justify_content": null,
       "justify_items": null,
       "left": null,
       "margin": null,
       "max_height": null,
       "max_width": null,
       "min_height": null,
       "min_width": null,
       "object_fit": null,
       "object_position": null,
       "order": null,
       "overflow": null,
       "overflow_x": null,
       "overflow_y": null,
       "padding": null,
       "right": null,
       "top": null,
       "visibility": null,
       "width": null
      }
     },
     "dadaf645001d469bb665b87971a13b62": {
      "model_module": "@jupyter-widgets/controls",
      "model_module_version": "1.5.0",
      "model_name": "HTMLModel",
      "state": {
       "_dom_classes": [],
       "_model_module": "@jupyter-widgets/controls",
       "_model_module_version": "1.5.0",
       "_model_name": "HTMLModel",
       "_view_count": null,
       "_view_module": "@jupyter-widgets/controls",
       "_view_module_version": "1.5.0",
       "_view_name": "HTMLView",
       "description": "",
       "description_tooltip": null,
       "layout": "IPY_MODEL_28628eb0d6b641f6a33b4f54e9d2f1b2",
       "placeholder": "​",
       "style": "IPY_MODEL_c6c1115c70774929a5225c8a89dc7cb9",
       "value": " 1/1 [00:12&lt;00:00,  2.41s/it]"
      }
     },
     "db390b8382184efe932916154d2b6ad7": {
      "model_module": "@jupyter-widgets/controls",
      "model_module_version": "1.5.0",
      "model_name": "ProgressStyleModel",
      "state": {
       "_model_module": "@jupyter-widgets/controls",
       "_model_module_version": "1.5.0",
       "_model_name": "ProgressStyleModel",
       "_view_count": null,
       "_view_module": "@jupyter-widgets/base",
       "_view_module_version": "1.2.0",
       "_view_name": "StyleView",
       "bar_color": null,
       "description_width": ""
      }
     },
     "dca8cecb49354dffae0614f0f117925a": {
      "model_module": "@jupyter-widgets/base",
      "model_module_version": "1.2.0",
      "model_name": "LayoutModel",
      "state": {
       "_model_module": "@jupyter-widgets/base",
       "_model_module_version": "1.2.0",
       "_model_name": "LayoutModel",
       "_view_count": null,
       "_view_module": "@jupyter-widgets/base",
       "_view_module_version": "1.2.0",
       "_view_name": "LayoutView",
       "align_content": null,
       "align_items": null,
       "align_self": null,
       "border": null,
       "bottom": null,
       "display": null,
       "flex": null,
       "flex_flow": null,
       "grid_area": null,
       "grid_auto_columns": null,
       "grid_auto_flow": null,
       "grid_auto_rows": null,
       "grid_column": null,
       "grid_gap": null,
       "grid_row": null,
       "grid_template_areas": null,
       "grid_template_columns": null,
       "grid_template_rows": null,
       "height": null,
       "justify_content": null,
       "justify_items": null,
       "left": null,
       "margin": null,
       "max_height": null,
       "max_width": null,
       "min_height": null,
       "min_width": null,
       "object_fit": null,
       "object_position": null,
       "order": null,
       "overflow": null,
       "overflow_x": null,
       "overflow_y": null,
       "padding": null,
       "right": null,
       "top": null,
       "visibility": null,
       "width": null
      }
     },
     "e2e488114310413ebf759e5604b0323c": {
      "model_module": "@jupyter-widgets/base",
      "model_module_version": "1.2.0",
      "model_name": "LayoutModel",
      "state": {
       "_model_module": "@jupyter-widgets/base",
       "_model_module_version": "1.2.0",
       "_model_name": "LayoutModel",
       "_view_count": null,
       "_view_module": "@jupyter-widgets/base",
       "_view_module_version": "1.2.0",
       "_view_name": "LayoutView",
       "align_content": null,
       "align_items": null,
       "align_self": null,
       "border": null,
       "bottom": null,
       "display": null,
       "flex": null,
       "flex_flow": null,
       "grid_area": null,
       "grid_auto_columns": null,
       "grid_auto_flow": null,
       "grid_auto_rows": null,
       "grid_column": null,
       "grid_gap": null,
       "grid_row": null,
       "grid_template_areas": null,
       "grid_template_columns": null,
       "grid_template_rows": null,
       "height": null,
       "justify_content": null,
       "justify_items": null,
       "left": null,
       "margin": null,
       "max_height": null,
       "max_width": null,
       "min_height": null,
       "min_width": null,
       "object_fit": null,
       "object_position": null,
       "order": null,
       "overflow": null,
       "overflow_x": null,
       "overflow_y": null,
       "padding": null,
       "right": null,
       "top": null,
       "visibility": null,
       "width": null
      }
     },
     "e3cbc3b258cb4a3180ccdc3b3545df2a": {
      "model_module": "@jupyter-widgets/controls",
      "model_module_version": "1.5.0",
      "model_name": "FloatProgressModel",
      "state": {
       "_dom_classes": [],
       "_model_module": "@jupyter-widgets/controls",
       "_model_module_version": "1.5.0",
       "_model_name": "FloatProgressModel",
       "_view_count": null,
       "_view_module": "@jupyter-widgets/controls",
       "_view_module_version": "1.5.0",
       "_view_name": "ProgressView",
       "bar_style": "success",
       "description": "",
       "description_tooltip": null,
       "layout": "IPY_MODEL_e2e488114310413ebf759e5604b0323c",
       "max": 2,
       "min": 0,
       "orientation": "horizontal",
       "style": "IPY_MODEL_41b2e7348026441bb923dab46897da41",
       "value": 2
      }
     },
     "e7687743c6634a06aa7844a675f36dfc": {
      "model_module": "@jupyter-widgets/base",
      "model_module_version": "1.2.0",
      "model_name": "LayoutModel",
      "state": {
       "_model_module": "@jupyter-widgets/base",
       "_model_module_version": "1.2.0",
       "_model_name": "LayoutModel",
       "_view_count": null,
       "_view_module": "@jupyter-widgets/base",
       "_view_module_version": "1.2.0",
       "_view_name": "LayoutView",
       "align_content": null,
       "align_items": null,
       "align_self": null,
       "border": null,
       "bottom": null,
       "display": null,
       "flex": null,
       "flex_flow": null,
       "grid_area": null,
       "grid_auto_columns": null,
       "grid_auto_flow": null,
       "grid_auto_rows": null,
       "grid_column": null,
       "grid_gap": null,
       "grid_row": null,
       "grid_template_areas": null,
       "grid_template_columns": null,
       "grid_template_rows": null,
       "height": null,
       "justify_content": null,
       "justify_items": null,
       "left": null,
       "margin": null,
       "max_height": null,
       "max_width": null,
       "min_height": null,
       "min_width": null,
       "object_fit": null,
       "object_position": null,
       "order": null,
       "overflow": null,
       "overflow_x": null,
       "overflow_y": null,
       "padding": null,
       "right": null,
       "top": null,
       "visibility": null,
       "width": null
      }
     },
     "e7b6e1f17ac04a94b89ab973f2094f49": {
      "model_module": "@jupyter-widgets/controls",
      "model_module_version": "1.5.0",
      "model_name": "DescriptionStyleModel",
      "state": {
       "_model_module": "@jupyter-widgets/controls",
       "_model_module_version": "1.5.0",
       "_model_name": "DescriptionStyleModel",
       "_view_count": null,
       "_view_module": "@jupyter-widgets/base",
       "_view_module_version": "1.2.0",
       "_view_name": "StyleView",
       "description_width": ""
      }
     },
     "f27ebe6a7f6c494491687e02b9f41489": {
      "model_module": "@jupyter-widgets/controls",
      "model_module_version": "1.5.0",
      "model_name": "HBoxModel",
      "state": {
       "_dom_classes": [],
       "_model_module": "@jupyter-widgets/controls",
       "_model_module_version": "1.5.0",
       "_model_name": "HBoxModel",
       "_view_count": null,
       "_view_module": "@jupyter-widgets/controls",
       "_view_module_version": "1.5.0",
       "_view_name": "HBoxView",
       "box_style": "",
       "children": [
        "IPY_MODEL_946e7519c17a46929cccb17867ccf00a",
        "IPY_MODEL_b8851376bc4c433dab686b303b330ef2",
        "IPY_MODEL_dadaf645001d469bb665b87971a13b62"
       ],
       "layout": "IPY_MODEL_33509482f52c424e828586e6b8a2a911"
      }
     },
     "f4b840f808df479c8b70db476e224bba": {
      "model_module": "@jupyter-widgets/controls",
      "model_module_version": "1.5.0",
      "model_name": "HTMLModel",
      "state": {
       "_dom_classes": [],
       "_model_module": "@jupyter-widgets/controls",
       "_model_module_version": "1.5.0",
       "_model_name": "HTMLModel",
       "_view_count": null,
       "_view_module": "@jupyter-widgets/controls",
       "_view_module_version": "1.5.0",
       "_view_name": "HTMLView",
       "description": "",
       "description_tooltip": null,
       "layout": "IPY_MODEL_809c2f95c1d946d7ba0b31d13c5747b3",
       "placeholder": "​",
       "style": "IPY_MODEL_1de92469dd9547ad8673e6e8ea464420",
       "value": " 1008/? [00:02&lt;00:00, 422.61it/s]"
      }
     },
     "f9354014bd864328b153828ced392c26": {
      "model_module": "@jupyter-widgets/controls",
      "model_module_version": "1.5.0",
      "model_name": "ProgressStyleModel",
      "state": {
       "_model_module": "@jupyter-widgets/controls",
       "_model_module_version": "1.5.0",
       "_model_name": "ProgressStyleModel",
       "_view_count": null,
       "_view_module": "@jupyter-widgets/base",
       "_view_module_version": "1.2.0",
       "_view_name": "StyleView",
       "bar_color": null,
       "description_width": ""
      }
     },
     "f93a4b9dfc864b53b52e62a5a962e2d3": {
      "model_module": "@jupyter-widgets/base",
      "model_module_version": "1.2.0",
      "model_name": "LayoutModel",
      "state": {
       "_model_module": "@jupyter-widgets/base",
       "_model_module_version": "1.2.0",
       "_model_name": "LayoutModel",
       "_view_count": null,
       "_view_module": "@jupyter-widgets/base",
       "_view_module_version": "1.2.0",
       "_view_name": "LayoutView",
       "align_content": null,
       "align_items": null,
       "align_self": null,
       "border": null,
       "bottom": null,
       "display": null,
       "flex": null,
       "flex_flow": null,
       "grid_area": null,
       "grid_auto_columns": null,
       "grid_auto_flow": null,
       "grid_auto_rows": null,
       "grid_column": null,
       "grid_gap": null,
       "grid_row": null,
       "grid_template_areas": null,
       "grid_template_columns": null,
       "grid_template_rows": null,
       "height": null,
       "justify_content": null,
       "justify_items": null,
       "left": null,
       "margin": null,
       "max_height": null,
       "max_width": null,
       "min_height": null,
       "min_width": null,
       "object_fit": null,
       "object_position": null,
       "order": null,
       "overflow": null,
       "overflow_x": null,
       "overflow_y": null,
       "padding": null,
       "right": null,
       "top": null,
       "visibility": null,
       "width": null
      }
     },
     "f9712863d77e4052ad17c20957711534": {
      "model_module": "@jupyter-widgets/controls",
      "model_module_version": "1.5.0",
      "model_name": "HTMLModel",
      "state": {
       "_dom_classes": [],
       "_model_module": "@jupyter-widgets/controls",
       "_model_module_version": "1.5.0",
       "_model_name": "HTMLModel",
       "_view_count": null,
       "_view_module": "@jupyter-widgets/controls",
       "_view_module_version": "1.5.0",
       "_view_name": "HTMLView",
       "description": "",
       "description_tooltip": null,
       "layout": "IPY_MODEL_f93a4b9dfc864b53b52e62a5a962e2d3",
       "placeholder": "​",
       "style": "IPY_MODEL_40ce0127ce7b45a5997aa186b14ec6a7",
       "value": " 441M/441M [01:39&lt;00:00, 4.18MB/s]"
      }
     },
     "f9c353ca173549af8c84f92a353fc4a6": {
      "model_module": "@jupyter-widgets/controls",
      "model_module_version": "1.5.0",
      "model_name": "HBoxModel",
      "state": {
       "_dom_classes": [],
       "_model_module": "@jupyter-widgets/controls",
       "_model_module_version": "1.5.0",
       "_model_name": "HBoxModel",
       "_view_count": null,
       "_view_module": "@jupyter-widgets/controls",
       "_view_module_version": "1.5.0",
       "_view_name": "HBoxView",
       "box_style": "",
       "children": [
        "IPY_MODEL_788ca792d50e4d7e90d654a21f61f780",
        "IPY_MODEL_332028b8d1134dc9b2a3883a28af3c55",
        "IPY_MODEL_f4b840f808df479c8b70db476e224bba"
       ],
       "layout": "IPY_MODEL_ce866df065fc46c992e64de94b5e49aa"
      }
     },
     "fda6ddd1361547dfb569ad3eaa7daeef": {
      "model_module": "@jupyter-widgets/controls",
      "model_module_version": "1.5.0",
      "model_name": "DescriptionStyleModel",
      "state": {
       "_model_module": "@jupyter-widgets/controls",
       "_model_module_version": "1.5.0",
       "_model_name": "DescriptionStyleModel",
       "_view_count": null,
       "_view_module": "@jupyter-widgets/base",
       "_view_module_version": "1.2.0",
       "_view_name": "StyleView",
       "description_width": ""
      }
     }
    },
    "version_major": 2,
    "version_minor": 0
   }
  }
 },
 "nbformat": 4,
 "nbformat_minor": 5
}
