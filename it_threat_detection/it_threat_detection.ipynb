{
 "cells": [
  {
   "cell_type": "markdown",
   "metadata": {
    "id": "b4Yv1jeGywpL"
   },
   "source": [
    "## IT Threat Detection With Similarity Search\n",
    "\n",
    "This notebook shows how to use Pinecone's similarity search as a service to build an application for detecting rare events. Such application is common in cyber-security and fraud detection domains wherein only a tiny fraction of the events are malicious. \n",
    "\n",
    "Here we will build a network intrusion detector. Network intrusion detection systems monitor incoming and outgoing network traffic flow, raising alarms whenever a threat is detected. Here we use a deep-learning model and similarity search in detecting and classifying network intrusion traffic.\n",
    "\n",
    "We will start by indexing a set of labeled traffic events in the form of vector embeddings. Each event is either benign or malicious. The vector embeddings are rich, mathematical representations of the network traffic events. It is making it possible to determine how similar the network events are to one another using similarity-search algorithms built into Pinecone. Here we will transform network traffic events into vectors using a deep learning model from recent academic work.\n",
    "\n",
    "\n",
    "We will then take some new (unseen) network events and search through the index to find the most similar matches, along with their labels. In such a way, we will propagate the matched labels to classify the unseen events as benign or malicious. Mind that the intrusion detection task is a challenging classification task because malicious events are sporadic. The similarity search service helps us sift the most relevant historical labeled events. That way, we identify these rare events while keeping a low rate of false alarms. \n"
   ]
  },
  {
   "cell_type": "markdown",
   "metadata": {
    "id": "1OUSClcPhU4j"
   },
   "source": [
    "## Setting up Pinecone\n",
    "\n",
    "We will first install and initialize Pinecone. You can get your [API Key here](https://www.pinecone.io/start)."
   ]
  },
  {
   "cell_type": "code",
   "execution_count": 1,
   "metadata": {
    "id": "251n1avKzCrm"
   },
   "outputs": [],
   "source": [
    "!pip install -qU pinecone-client"
   ]
  },
  {
   "cell_type": "code",
   "execution_count": 2,
   "metadata": {
    "colab": {
     "base_uri": "https://localhost:8080/"
    },
    "id": "_cGTuY8dywpV",
    "outputId": "da0b57bf-bde2-401f-e502-6ad80f7fc6cc"
   },
   "outputs": [
    {
     "data": {
      "text/plain": [
       "[]"
      ]
     },
     "execution_count": 2,
     "metadata": {
      "tags": []
     },
     "output_type": "execute_result"
    }
   ],
   "source": [
    "import pinecone\n",
    "import os\n",
    "# Load Pinecone API key\n",
    "api_key = os.getenv('PINECONE_API_KEY') or 'YOUR_API_KEY'\n",
    "pinecone.init(api_key=api_key)\n",
    "#List all present indexes associated with your key, should be empty on the first run\n",
    "pinecone.list_indexes()"
   ]
  },
  {
   "cell_type": "markdown",
   "metadata": {
    "id": "a7ysNAlrjD_k"
   },
   "source": [
    "## Installing other dependencies"
   ]
  },
  {
   "cell_type": "code",
   "execution_count": 3,
   "metadata": {
    "id": "r3g-b61IywpQ"
   },
   "outputs": [],
   "source": [
    "!pip install -qU pip python-dateutil tensorflow scikit-learn matplotlib seaborn"
   ]
  },
  {
   "cell_type": "code",
   "execution_count": 4,
   "metadata": {
    "id": "0uuHcP-WywpQ"
   },
   "outputs": [],
   "source": [
    "from collections import Counter\n",
    "import matplotlib.pyplot as plt\n",
    "import pandas as pd\n",
    "import seaborn as sns\n",
    "from tensorflow import keras\n",
    "from keras.models import Model\n",
    "import tensorflow.keras.backend as K\n",
    "from sklearn.metrics import accuracy_score, precision_score, recall_score\n",
    "from sklearn.metrics import confusion_matrix"
   ]
  },
  {
   "cell_type": "markdown",
   "metadata": {
    "id": "lEwqF1osp83o"
   },
   "source": [
    "We will use some of the code from a recent [academic work](https://github.com/rambasnet/DeepLearning-IDS). Let's clone the repository that we will use to prepare data."
   ]
  },
  {
   "cell_type": "code",
   "execution_count": null,
   "metadata": {
    "id": "FUDeovNiywpT"
   },
   "outputs": [],
   "source": [
    "!git clone -q https://github.com/rambasnet/DeepLearning-IDS.git "
   ]
  },
  {
   "cell_type": "markdown",
   "metadata": {
    "id": "mc4ERmwniO1H"
   },
   "source": [
    "## Define a New Pinecone Index"
   ]
  },
  {
   "cell_type": "code",
   "execution_count": 6,
   "metadata": {
    "id": "9_TIgYxBywpV"
   },
   "outputs": [],
   "source": [
    "# Pick a name for the new service\n",
    "index_name = 'it-threats'"
   ]
  },
  {
   "cell_type": "code",
   "execution_count": 7,
   "metadata": {
    "id": "j7scTXFrywpV"
   },
   "outputs": [],
   "source": [
    "# Make sure service with the same name does not exist\n",
    "if index_name in pinecone.list_indexes():\n",
    "    pinecone.delete_index(index_name)"
   ]
  },
  {
   "cell_type": "markdown",
   "metadata": {
    "id": "wggPSrKtywpW"
   },
   "source": [
    "**Create an index**"
   ]
  },
  {
   "cell_type": "code",
   "execution_count": 8,
   "metadata": {
    "colab": {
     "base_uri": "https://localhost:8080/",
     "height": 67,
     "referenced_widgets": [
      "1876ab9b77f94943a170e375c20f25b8",
      "fbea5d5c67034bdaa3dd45745f75fae9",
      "edc565ea0d754f60a006bbf4b8c592d7",
      "78f9ff9397904f25a94c13eb0386c41d",
      "9f3e71b7cf2c4132ba0d61aa212cad3c",
      "25ccfa825e2a4f54856bbf9f50b711f5",
      "4dd1c479f44b46dfbce48d09ee6d77ca",
      "6b3a8f0e415443c991217e143bff68f8",
      "c10e38d87c084b3ea61eb6ea20066604",
      "f1d1ac6ad72a41f1a8278f2e0faccb70",
      "cc4c125134e54d7185b3f558148e5445"
     ]
    },
    "id": "q5Q42v4mywpW",
    "outputId": "892674f7-4a5d-4abd-a8a3-617a63a2325b"
   },
   "outputs": [
    {
     "data": {
      "application/vnd.jupyter.widget-view+json": {
       "model_id": "1876ab9b77f94943a170e375c20f25b8",
       "version_major": 2,
       "version_minor": 0
      },
      "text/plain": [
       "  0%|          | 0/4 [00:00<?, ?it/s]"
      ]
     },
     "metadata": {
      "tags": []
     },
     "output_type": "display_data"
    },
    {
     "data": {
      "text/plain": [
       "{'msg': '', 'success': True}"
      ]
     },
     "execution_count": 8,
     "metadata": {
      "tags": []
     },
     "output_type": "execute_result"
    }
   ],
   "source": [
    "pinecone.create_index(name=index_name,metric='euclidean', shards=2)"
   ]
  },
  {
   "cell_type": "markdown",
   "metadata": {
    "id": "3eXIyr2-ywpW"
   },
   "source": [
    "**Connect to the index**\n",
    "\n",
    "We create an index object, a class instance of pinecone.Index , which will be used to interact with the created index."
   ]
  },
  {
   "cell_type": "code",
   "execution_count": 9,
   "metadata": {
    "id": "tTlvU_jvywpW",
    "scrolled": true
   },
   "outputs": [],
   "source": [
    "index = pinecone.Index(name=index_name, timeout=600)"
   ]
  },
  {
   "cell_type": "markdown",
   "metadata": {
    "id": "IOP9jCo5ywpX"
   },
   "source": [
    "## Upload\n",
    "Here we transform network events into vector embeddings, then upload them into Pinecone's vector index. "
   ]
  },
  {
   "cell_type": "markdown",
   "metadata": {
    "id": "PzkJJd8ZYTNM"
   },
   "source": [
    "### Prepare Data"
   ]
  },
  {
   "cell_type": "markdown",
   "metadata": {
    "id": "-N0bh6dUYTNN"
   },
   "source": [
    "The datasets we use consist of benign (normal) network traffic and malicious traffic\n",
    "generated from several different network attacks. We will focus on web attacks only. \n",
    "\n",
    "The web attack category consists of three common attacks: \n",
    "- Cross-site scripting (BruteForce-XSS), \n",
    "- SQL-Injection (SQL-Injection), \n",
    "- Brute force administrative and user passwords (BruteForce-Web)\n",
    "\n",
    "The original data was recorded over two days."
   ]
  },
  {
   "cell_type": "markdown",
   "metadata": {
    "id": "vuOLNAehYTNN"
   },
   "source": [
    "**Download data for 22-02-2018 and 23-02-2018**\n",
    "\n",
    "\n"
   ]
  },
  {
   "cell_type": "markdown",
   "metadata": {
    "id": "pCrwPkDJYTNO"
   },
   "source": [
    "Files should be downloaded to the current directory. We will be using one date for training and generating vectors, and another one for testing."
   ]
  },
  {
   "cell_type": "code",
   "execution_count": 10,
   "metadata": {
    "colab": {
     "base_uri": "https://localhost:8080/"
    },
    "id": "HshKyF0KywpR",
    "outputId": "d5b3ceee-b584-47e2-a428-43e5c835968f"
   },
   "outputs": [
    {
     "name": "stdout",
     "output_type": "stream",
     "text": [
      "Thursday-22-02-2018 100%[===================>] 364.91M  89.1MB/s    in 4.4s    \n",
      "Friday-23-02-2018_T 100%[===================>] 365.10M  86.9MB/s    in 4.6s    \n"
     ]
    }
   ],
   "source": [
    "!wget \"https://cse-cic-ids2018.s3.ca-central-1.amazonaws.com/Processed%20Traffic%20Data%20for%20ML%20Algorithms/Thursday-22-02-2018_TrafficForML_CICFlowMeter.csv\" -q --show-progress\n",
    "!wget \"https://cse-cic-ids2018.s3.ca-central-1.amazonaws.com/Processed%20Traffic%20Data%20for%20ML%20Algorithms/Friday-23-02-2018_TrafficForML_CICFlowMeter.csv\" -q --show-progress"
   ]
  },
  {
   "cell_type": "markdown",
   "metadata": {
    "id": "gr-hay4rfk0d"
   },
   "source": [
    "Let's look at the data events first."
   ]
  },
  {
   "cell_type": "code",
   "execution_count": 11,
   "metadata": {
    "colab": {
     "base_uri": "https://localhost:8080/"
    },
    "id": "bSSZ4YCZywpT",
    "outputId": "27d111b0-c0c1-4694-9e07-65965d2014f1"
   },
   "outputs": [
    {
     "data": {
      "text/plain": [
       "Benign              1048009\n",
       "Brute Force -Web        362\n",
       "Brute Force -XSS        151\n",
       "SQL Injection            53\n",
       "Name: Label, dtype: int64"
      ]
     },
     "execution_count": 11,
     "metadata": {
      "tags": []
     },
     "output_type": "execute_result"
    }
   ],
   "source": [
    "data = pd.read_csv('Friday-23-02-2018_TrafficForML_CICFlowMeter.csv')\n",
    "data.Label.value_counts()"
   ]
  },
  {
   "cell_type": "markdown",
   "metadata": {
    "id": "vYl82iXeywpT"
   },
   "source": [
    "**Clean the data** using a python script from the cloned repository."
   ]
  },
  {
   "cell_type": "code",
   "execution_count": 12,
   "metadata": {
    "colab": {
     "base_uri": "https://localhost:8080/"
    },
    "id": "y-trCZOcywpT",
    "outputId": "c51b5e77-4e66-47a3-c4f6-d492a7dfaef8"
   },
   "outputs": [
    {
     "name": "stdout",
     "output_type": "stream",
     "text": [
      "cleaning Friday-23-02-2018_TrafficForML_CICFlowMeter.csv\n",
      "total rows read = 1048576\n",
      "all done writing 1042868 rows; dropped 5708 rows\n"
     ]
    }
   ],
   "source": [
    "!python DeepLearning-IDS/data_cleanup.py \"Friday-23-02-2018_TrafficForML_CICFlowMeter.csv\" \"result23022018\""
   ]
  },
  {
   "cell_type": "markdown",
   "metadata": {
    "id": "oKHL8HCjYTNQ"
   },
   "source": [
    "Load the file that you got from the previous step."
   ]
  },
  {
   "cell_type": "code",
   "execution_count": 13,
   "metadata": {
    "colab": {
     "base_uri": "https://localhost:8080/",
     "height": 278
    },
    "id": "uzH6_tBpywpU",
    "outputId": "017263dd-8e2a-45a4-9693-5b5b763197ce"
   },
   "outputs": [
    {
     "data": {
      "text/html": [
       "<div>\n",
       "<style scoped>\n",
       "    .dataframe tbody tr th:only-of-type {\n",
       "        vertical-align: middle;\n",
       "    }\n",
       "\n",
       "    .dataframe tbody tr th {\n",
       "        vertical-align: top;\n",
       "    }\n",
       "\n",
       "    .dataframe thead th {\n",
       "        text-align: right;\n",
       "    }\n",
       "</style>\n",
       "<table border=\"1\" class=\"dataframe\">\n",
       "  <thead>\n",
       "    <tr style=\"text-align: right;\">\n",
       "      <th></th>\n",
       "      <th>Dst Port</th>\n",
       "      <th>Protocol</th>\n",
       "      <th>Timestamp</th>\n",
       "      <th>Flow Duration</th>\n",
       "      <th>Tot Fwd Pkts</th>\n",
       "      <th>Tot Bwd Pkts</th>\n",
       "      <th>TotLen Fwd Pkts</th>\n",
       "      <th>TotLen Bwd Pkts</th>\n",
       "      <th>Fwd Pkt Len Max</th>\n",
       "      <th>Fwd Pkt Len Min</th>\n",
       "      <th>Fwd Pkt Len Mean</th>\n",
       "      <th>Fwd Pkt Len Std</th>\n",
       "      <th>Bwd Pkt Len Max</th>\n",
       "      <th>Bwd Pkt Len Min</th>\n",
       "      <th>Bwd Pkt Len Mean</th>\n",
       "      <th>Bwd Pkt Len Std</th>\n",
       "      <th>Flow Byts/s</th>\n",
       "      <th>Flow Pkts/s</th>\n",
       "      <th>Flow IAT Mean</th>\n",
       "      <th>Flow IAT Std</th>\n",
       "      <th>Flow IAT Max</th>\n",
       "      <th>Flow IAT Min</th>\n",
       "      <th>Fwd IAT Tot</th>\n",
       "      <th>Fwd IAT Mean</th>\n",
       "      <th>Fwd IAT Std</th>\n",
       "      <th>Fwd IAT Max</th>\n",
       "      <th>Fwd IAT Min</th>\n",
       "      <th>Bwd IAT Tot</th>\n",
       "      <th>Bwd IAT Mean</th>\n",
       "      <th>Bwd IAT Std</th>\n",
       "      <th>Bwd IAT Max</th>\n",
       "      <th>Bwd IAT Min</th>\n",
       "      <th>Fwd PSH Flags</th>\n",
       "      <th>Bwd PSH Flags</th>\n",
       "      <th>Fwd URG Flags</th>\n",
       "      <th>Bwd URG Flags</th>\n",
       "      <th>Fwd Header Len</th>\n",
       "      <th>Bwd Header Len</th>\n",
       "      <th>Fwd Pkts/s</th>\n",
       "      <th>Bwd Pkts/s</th>\n",
       "      <th>Pkt Len Min</th>\n",
       "      <th>Pkt Len Max</th>\n",
       "      <th>Pkt Len Mean</th>\n",
       "      <th>Pkt Len Std</th>\n",
       "      <th>Pkt Len Var</th>\n",
       "      <th>FIN Flag Cnt</th>\n",
       "      <th>SYN Flag Cnt</th>\n",
       "      <th>RST Flag Cnt</th>\n",
       "      <th>PSH Flag Cnt</th>\n",
       "      <th>ACK Flag Cnt</th>\n",
       "      <th>URG Flag Cnt</th>\n",
       "      <th>CWE Flag Count</th>\n",
       "      <th>ECE Flag Cnt</th>\n",
       "      <th>Down/Up Ratio</th>\n",
       "      <th>Pkt Size Avg</th>\n",
       "      <th>Fwd Seg Size Avg</th>\n",
       "      <th>Bwd Seg Size Avg</th>\n",
       "      <th>Fwd Byts/b Avg</th>\n",
       "      <th>Fwd Pkts/b Avg</th>\n",
       "      <th>Fwd Blk Rate Avg</th>\n",
       "      <th>Bwd Byts/b Avg</th>\n",
       "      <th>Bwd Pkts/b Avg</th>\n",
       "      <th>Bwd Blk Rate Avg</th>\n",
       "      <th>Subflow Fwd Pkts</th>\n",
       "      <th>Subflow Fwd Byts</th>\n",
       "      <th>Subflow Bwd Pkts</th>\n",
       "      <th>Subflow Bwd Byts</th>\n",
       "      <th>Init Fwd Win Byts</th>\n",
       "      <th>Init Bwd Win Byts</th>\n",
       "      <th>Fwd Act Data Pkts</th>\n",
       "      <th>Fwd Seg Size Min</th>\n",
       "      <th>Active Mean</th>\n",
       "      <th>Active Std</th>\n",
       "      <th>Active Max</th>\n",
       "      <th>Active Min</th>\n",
       "      <th>Idle Mean</th>\n",
       "      <th>Idle Std</th>\n",
       "      <th>Idle Max</th>\n",
       "      <th>Idle Min</th>\n",
       "      <th>Label</th>\n",
       "    </tr>\n",
       "  </thead>\n",
       "  <tbody>\n",
       "    <tr>\n",
       "      <th>0</th>\n",
       "      <td>22</td>\n",
       "      <td>6</td>\n",
       "      <td>1.519374e+09</td>\n",
       "      <td>1532698</td>\n",
       "      <td>11</td>\n",
       "      <td>11</td>\n",
       "      <td>1179</td>\n",
       "      <td>1969</td>\n",
       "      <td>648</td>\n",
       "      <td>0</td>\n",
       "      <td>107.181818</td>\n",
       "      <td>196.245162</td>\n",
       "      <td>976</td>\n",
       "      <td>0</td>\n",
       "      <td>179.0</td>\n",
       "      <td>364.186491</td>\n",
       "      <td>2053.894505</td>\n",
       "      <td>14.353774</td>\n",
       "      <td>7.298562e+04</td>\n",
       "      <td>9.751916e+04</td>\n",
       "      <td>207592</td>\n",
       "      <td>11</td>\n",
       "      <td>1532698</td>\n",
       "      <td>153269.8</td>\n",
       "      <td>1.066585e+05</td>\n",
       "      <td>246403</td>\n",
       "      <td>20</td>\n",
       "      <td>1325840</td>\n",
       "      <td>132584.0</td>\n",
       "      <td>106034.780827</td>\n",
       "      <td>247549</td>\n",
       "      <td>67</td>\n",
       "      <td>0</td>\n",
       "      <td>0</td>\n",
       "      <td>0</td>\n",
       "      <td>0</td>\n",
       "      <td>360</td>\n",
       "      <td>360</td>\n",
       "      <td>7.176887</td>\n",
       "      <td>7.176887</td>\n",
       "      <td>0</td>\n",
       "      <td>976</td>\n",
       "      <td>136.869565</td>\n",
       "      <td>282.793903</td>\n",
       "      <td>79972.391304</td>\n",
       "      <td>0</td>\n",
       "      <td>0</td>\n",
       "      <td>0</td>\n",
       "      <td>1</td>\n",
       "      <td>0</td>\n",
       "      <td>0</td>\n",
       "      <td>0</td>\n",
       "      <td>0</td>\n",
       "      <td>1</td>\n",
       "      <td>143.090909</td>\n",
       "      <td>107.181818</td>\n",
       "      <td>179.0</td>\n",
       "      <td>0</td>\n",
       "      <td>0</td>\n",
       "      <td>0</td>\n",
       "      <td>0</td>\n",
       "      <td>0</td>\n",
       "      <td>0</td>\n",
       "      <td>11</td>\n",
       "      <td>1179</td>\n",
       "      <td>11</td>\n",
       "      <td>1969</td>\n",
       "      <td>29200</td>\n",
       "      <td>230</td>\n",
       "      <td>7</td>\n",
       "      <td>32</td>\n",
       "      <td>0.0</td>\n",
       "      <td>0.0</td>\n",
       "      <td>0</td>\n",
       "      <td>0</td>\n",
       "      <td>0.0</td>\n",
       "      <td>0.000000e+00</td>\n",
       "      <td>0</td>\n",
       "      <td>0</td>\n",
       "      <td>Benign</td>\n",
       "    </tr>\n",
       "    <tr>\n",
       "      <th>1</th>\n",
       "      <td>500</td>\n",
       "      <td>17</td>\n",
       "      <td>1.519374e+09</td>\n",
       "      <td>117573855</td>\n",
       "      <td>3</td>\n",
       "      <td>0</td>\n",
       "      <td>1500</td>\n",
       "      <td>0</td>\n",
       "      <td>500</td>\n",
       "      <td>500</td>\n",
       "      <td>500.000000</td>\n",
       "      <td>0.000000</td>\n",
       "      <td>0</td>\n",
       "      <td>0</td>\n",
       "      <td>0.0</td>\n",
       "      <td>0.000000</td>\n",
       "      <td>12.757938</td>\n",
       "      <td>0.025516</td>\n",
       "      <td>5.878693e+07</td>\n",
       "      <td>2.375324e+07</td>\n",
       "      <td>75583006</td>\n",
       "      <td>41990849</td>\n",
       "      <td>117573855</td>\n",
       "      <td>58786927.5</td>\n",
       "      <td>2.375324e+07</td>\n",
       "      <td>75583006</td>\n",
       "      <td>41990849</td>\n",
       "      <td>0</td>\n",
       "      <td>0.0</td>\n",
       "      <td>0.000000</td>\n",
       "      <td>0</td>\n",
       "      <td>0</td>\n",
       "      <td>0</td>\n",
       "      <td>0</td>\n",
       "      <td>0</td>\n",
       "      <td>0</td>\n",
       "      <td>24</td>\n",
       "      <td>0</td>\n",
       "      <td>0.025516</td>\n",
       "      <td>0.000000</td>\n",
       "      <td>500</td>\n",
       "      <td>500</td>\n",
       "      <td>500.000000</td>\n",
       "      <td>0.000000</td>\n",
       "      <td>0.000000</td>\n",
       "      <td>0</td>\n",
       "      <td>0</td>\n",
       "      <td>0</td>\n",
       "      <td>0</td>\n",
       "      <td>0</td>\n",
       "      <td>0</td>\n",
       "      <td>0</td>\n",
       "      <td>0</td>\n",
       "      <td>0</td>\n",
       "      <td>666.666667</td>\n",
       "      <td>500.000000</td>\n",
       "      <td>0.0</td>\n",
       "      <td>0</td>\n",
       "      <td>0</td>\n",
       "      <td>0</td>\n",
       "      <td>0</td>\n",
       "      <td>0</td>\n",
       "      <td>0</td>\n",
       "      <td>3</td>\n",
       "      <td>1500</td>\n",
       "      <td>0</td>\n",
       "      <td>0</td>\n",
       "      <td>-1</td>\n",
       "      <td>-1</td>\n",
       "      <td>2</td>\n",
       "      <td>8</td>\n",
       "      <td>0.0</td>\n",
       "      <td>0.0</td>\n",
       "      <td>0</td>\n",
       "      <td>0</td>\n",
       "      <td>58786927.5</td>\n",
       "      <td>2.375324e+07</td>\n",
       "      <td>75583006</td>\n",
       "      <td>41990849</td>\n",
       "      <td>Benign</td>\n",
       "    </tr>\n",
       "    <tr>\n",
       "      <th>2</th>\n",
       "      <td>500</td>\n",
       "      <td>17</td>\n",
       "      <td>1.519374e+09</td>\n",
       "      <td>117573848</td>\n",
       "      <td>3</td>\n",
       "      <td>0</td>\n",
       "      <td>1500</td>\n",
       "      <td>0</td>\n",
       "      <td>500</td>\n",
       "      <td>500</td>\n",
       "      <td>500.000000</td>\n",
       "      <td>0.000000</td>\n",
       "      <td>0</td>\n",
       "      <td>0</td>\n",
       "      <td>0.0</td>\n",
       "      <td>0.000000</td>\n",
       "      <td>12.757939</td>\n",
       "      <td>0.025516</td>\n",
       "      <td>5.878692e+07</td>\n",
       "      <td>2.375325e+07</td>\n",
       "      <td>75583007</td>\n",
       "      <td>41990841</td>\n",
       "      <td>117573848</td>\n",
       "      <td>58786924.0</td>\n",
       "      <td>2.375325e+07</td>\n",
       "      <td>75583007</td>\n",
       "      <td>41990841</td>\n",
       "      <td>0</td>\n",
       "      <td>0.0</td>\n",
       "      <td>0.000000</td>\n",
       "      <td>0</td>\n",
       "      <td>0</td>\n",
       "      <td>0</td>\n",
       "      <td>0</td>\n",
       "      <td>0</td>\n",
       "      <td>0</td>\n",
       "      <td>24</td>\n",
       "      <td>0</td>\n",
       "      <td>0.025516</td>\n",
       "      <td>0.000000</td>\n",
       "      <td>500</td>\n",
       "      <td>500</td>\n",
       "      <td>500.000000</td>\n",
       "      <td>0.000000</td>\n",
       "      <td>0.000000</td>\n",
       "      <td>0</td>\n",
       "      <td>0</td>\n",
       "      <td>0</td>\n",
       "      <td>0</td>\n",
       "      <td>0</td>\n",
       "      <td>0</td>\n",
       "      <td>0</td>\n",
       "      <td>0</td>\n",
       "      <td>0</td>\n",
       "      <td>666.666667</td>\n",
       "      <td>500.000000</td>\n",
       "      <td>0.0</td>\n",
       "      <td>0</td>\n",
       "      <td>0</td>\n",
       "      <td>0</td>\n",
       "      <td>0</td>\n",
       "      <td>0</td>\n",
       "      <td>0</td>\n",
       "      <td>3</td>\n",
       "      <td>1500</td>\n",
       "      <td>0</td>\n",
       "      <td>0</td>\n",
       "      <td>-1</td>\n",
       "      <td>-1</td>\n",
       "      <td>2</td>\n",
       "      <td>8</td>\n",
       "      <td>0.0</td>\n",
       "      <td>0.0</td>\n",
       "      <td>0</td>\n",
       "      <td>0</td>\n",
       "      <td>58786924.0</td>\n",
       "      <td>2.375325e+07</td>\n",
       "      <td>75583007</td>\n",
       "      <td>41990841</td>\n",
       "      <td>Benign</td>\n",
       "    </tr>\n",
       "    <tr>\n",
       "      <th>3</th>\n",
       "      <td>22</td>\n",
       "      <td>6</td>\n",
       "      <td>1.519374e+09</td>\n",
       "      <td>1745392</td>\n",
       "      <td>11</td>\n",
       "      <td>11</td>\n",
       "      <td>1179</td>\n",
       "      <td>1969</td>\n",
       "      <td>648</td>\n",
       "      <td>0</td>\n",
       "      <td>107.181818</td>\n",
       "      <td>196.245162</td>\n",
       "      <td>976</td>\n",
       "      <td>0</td>\n",
       "      <td>179.0</td>\n",
       "      <td>364.186491</td>\n",
       "      <td>1803.606296</td>\n",
       "      <td>12.604618</td>\n",
       "      <td>8.311390e+04</td>\n",
       "      <td>1.119720e+05</td>\n",
       "      <td>242608</td>\n",
       "      <td>12</td>\n",
       "      <td>1745392</td>\n",
       "      <td>174539.2</td>\n",
       "      <td>1.211090e+05</td>\n",
       "      <td>275228</td>\n",
       "      <td>20</td>\n",
       "      <td>1509435</td>\n",
       "      <td>150943.5</td>\n",
       "      <td>121013.165836</td>\n",
       "      <td>273442</td>\n",
       "      <td>81</td>\n",
       "      <td>0</td>\n",
       "      <td>0</td>\n",
       "      <td>0</td>\n",
       "      <td>0</td>\n",
       "      <td>360</td>\n",
       "      <td>360</td>\n",
       "      <td>6.302309</td>\n",
       "      <td>6.302309</td>\n",
       "      <td>0</td>\n",
       "      <td>976</td>\n",
       "      <td>136.869565</td>\n",
       "      <td>282.793903</td>\n",
       "      <td>79972.391304</td>\n",
       "      <td>0</td>\n",
       "      <td>0</td>\n",
       "      <td>0</td>\n",
       "      <td>1</td>\n",
       "      <td>0</td>\n",
       "      <td>0</td>\n",
       "      <td>0</td>\n",
       "      <td>0</td>\n",
       "      <td>1</td>\n",
       "      <td>143.090909</td>\n",
       "      <td>107.181818</td>\n",
       "      <td>179.0</td>\n",
       "      <td>0</td>\n",
       "      <td>0</td>\n",
       "      <td>0</td>\n",
       "      <td>0</td>\n",
       "      <td>0</td>\n",
       "      <td>0</td>\n",
       "      <td>11</td>\n",
       "      <td>1179</td>\n",
       "      <td>11</td>\n",
       "      <td>1969</td>\n",
       "      <td>29200</td>\n",
       "      <td>230</td>\n",
       "      <td>7</td>\n",
       "      <td>32</td>\n",
       "      <td>0.0</td>\n",
       "      <td>0.0</td>\n",
       "      <td>0</td>\n",
       "      <td>0</td>\n",
       "      <td>0.0</td>\n",
       "      <td>0.000000e+00</td>\n",
       "      <td>0</td>\n",
       "      <td>0</td>\n",
       "      <td>Benign</td>\n",
       "    </tr>\n",
       "    <tr>\n",
       "      <th>4</th>\n",
       "      <td>500</td>\n",
       "      <td>17</td>\n",
       "      <td>1.519374e+09</td>\n",
       "      <td>89483474</td>\n",
       "      <td>6</td>\n",
       "      <td>0</td>\n",
       "      <td>3000</td>\n",
       "      <td>0</td>\n",
       "      <td>500</td>\n",
       "      <td>500</td>\n",
       "      <td>500.000000</td>\n",
       "      <td>0.000000</td>\n",
       "      <td>0</td>\n",
       "      <td>0</td>\n",
       "      <td>0.0</td>\n",
       "      <td>0.000000</td>\n",
       "      <td>33.525744</td>\n",
       "      <td>0.067051</td>\n",
       "      <td>1.789669e+07</td>\n",
       "      <td>1.534523e+07</td>\n",
       "      <td>41989576</td>\n",
       "      <td>4000364</td>\n",
       "      <td>89483474</td>\n",
       "      <td>17896694.8</td>\n",
       "      <td>1.534523e+07</td>\n",
       "      <td>41989576</td>\n",
       "      <td>4000364</td>\n",
       "      <td>0</td>\n",
       "      <td>0.0</td>\n",
       "      <td>0.000000</td>\n",
       "      <td>0</td>\n",
       "      <td>0</td>\n",
       "      <td>0</td>\n",
       "      <td>0</td>\n",
       "      <td>0</td>\n",
       "      <td>0</td>\n",
       "      <td>48</td>\n",
       "      <td>0</td>\n",
       "      <td>0.067051</td>\n",
       "      <td>0.000000</td>\n",
       "      <td>500</td>\n",
       "      <td>500</td>\n",
       "      <td>500.000000</td>\n",
       "      <td>0.000000</td>\n",
       "      <td>0.000000</td>\n",
       "      <td>0</td>\n",
       "      <td>0</td>\n",
       "      <td>0</td>\n",
       "      <td>0</td>\n",
       "      <td>0</td>\n",
       "      <td>0</td>\n",
       "      <td>0</td>\n",
       "      <td>0</td>\n",
       "      <td>0</td>\n",
       "      <td>583.333333</td>\n",
       "      <td>500.000000</td>\n",
       "      <td>0.0</td>\n",
       "      <td>0</td>\n",
       "      <td>0</td>\n",
       "      <td>0</td>\n",
       "      <td>0</td>\n",
       "      <td>0</td>\n",
       "      <td>0</td>\n",
       "      <td>6</td>\n",
       "      <td>3000</td>\n",
       "      <td>0</td>\n",
       "      <td>0</td>\n",
       "      <td>-1</td>\n",
       "      <td>-1</td>\n",
       "      <td>5</td>\n",
       "      <td>8</td>\n",
       "      <td>4000364.0</td>\n",
       "      <td>0.0</td>\n",
       "      <td>4000364</td>\n",
       "      <td>4000364</td>\n",
       "      <td>21370777.5</td>\n",
       "      <td>1.528092e+07</td>\n",
       "      <td>41989576</td>\n",
       "      <td>7200485</td>\n",
       "      <td>Benign</td>\n",
       "    </tr>\n",
       "  </tbody>\n",
       "</table>\n",
       "</div>"
      ],
      "text/plain": [
       "   Dst Port  Protocol     Timestamp  ...  Idle Max  Idle Min   Label\n",
       "0        22         6  1.519374e+09  ...         0         0  Benign\n",
       "1       500        17  1.519374e+09  ...  75583006  41990849  Benign\n",
       "2       500        17  1.519374e+09  ...  75583007  41990841  Benign\n",
       "3        22         6  1.519374e+09  ...         0         0  Benign\n",
       "4       500        17  1.519374e+09  ...  41989576   7200485  Benign\n",
       "\n",
       "[5 rows x 80 columns]"
      ]
     },
     "execution_count": 13,
     "metadata": {
      "tags": []
     },
     "output_type": "execute_result"
    }
   ],
   "source": [
    "data_23_cleaned = pd.read_csv('result23022018.csv')\n",
    "data_23_cleaned.head()"
   ]
  },
  {
   "cell_type": "code",
   "execution_count": 14,
   "metadata": {
    "colab": {
     "base_uri": "https://localhost:8080/"
    },
    "id": "cGXf6PmhYTNR",
    "outputId": "3371cd8e-e8e3-4382-ad17-bfffd8e3d8ac"
   },
   "outputs": [
    {
     "data": {
      "text/plain": [
       "Benign              1042301\n",
       "Brute Force -Web        362\n",
       "Brute Force -XSS        151\n",
       "SQL Injection            53\n",
       "Name: Label, dtype: int64"
      ]
     },
     "execution_count": 14,
     "metadata": {
      "tags": []
     },
     "output_type": "execute_result"
    }
   ],
   "source": [
    "data_23_cleaned.Label.value_counts()"
   ]
  },
  {
   "cell_type": "markdown",
   "metadata": {
    "id": "bWUf-dk1ywpU"
   },
   "source": [
    "### Load the Model"
   ]
  },
  {
   "cell_type": "markdown",
   "metadata": {
    "id": "97lIL236YTNR"
   },
   "source": [
    "Here we load the pretrained model. The model is trained using the data from the same date."
   ]
  },
  {
   "cell_type": "markdown",
   "metadata": {
    "id": "Bq8_hM-RfEeR"
   },
   "source": [
    "We have modified [the original model](https://github.com/rambasnet/DeepLearning-IDS/blob/master/keras_tensorflow_models/02-23-2018.csv_adam_10_10_multiclass_baseline_model_1561316601.model) slightly and changed the number of classes from four (Benign, BruteForce-Web, BruteForce-XSS, SQL-Injection) to two (Benign and Attack). In the step below we will download and unzip our modified model."
   ]
  },
  {
   "cell_type": "code",
   "execution_count": null,
   "metadata": {
    "id": "eRTvBzhoqPkR"
   },
   "outputs": [],
   "source": [
    "!wget -q -O it_threat_model.model.zip \"https://drive.google.com/uc?export=download&id=1VYMHOk_XMAc-QFJ_8CAPvWFfHnLpS2J_\" \n",
    "!unzip -q it_threat_model.model.zip\n"
   ]
  },
  {
   "cell_type": "code",
   "execution_count": 16,
   "metadata": {
    "colab": {
     "base_uri": "https://localhost:8080/"
    },
    "id": "WP44njScywpU",
    "outputId": "2a9d2001-0328-4602-c595-372c5bf67aa4"
   },
   "outputs": [
    {
     "name": "stdout",
     "output_type": "stream",
     "text": [
      "WARNING:tensorflow:SavedModel saved prior to TF 2.5 detected when loading Keras model. Please ensure that you are saving the model with model.save() or tf.keras.models.save_model(), *NOT* tf.saved_model.save(). To confirm, there should be a file named \"keras_metadata.pb\" in the SavedModel directory.\n",
      "Model: \"sequential\"\n",
      "_________________________________________________________________\n",
      "Layer (type)                 Output Shape              Param #   \n",
      "=================================================================\n",
      "dense (Dense)                (None, 128)               10240     \n",
      "_________________________________________________________________\n",
      "dense_1 (Dense)              (None, 64)                8256      \n",
      "_________________________________________________________________\n",
      "dense_2 (Dense)              (None, 1)                 65        \n",
      "=================================================================\n",
      "Total params: 18,561\n",
      "Trainable params: 18,561\n",
      "Non-trainable params: 0\n",
      "_________________________________________________________________\n"
     ]
    }
   ],
   "source": [
    "model = keras.models.load_model('it_threat_model.model')\n",
    "model.summary()"
   ]
  },
  {
   "cell_type": "code",
   "execution_count": 17,
   "metadata": {
    "id": "2rCdzSrfywpV"
   },
   "outputs": [],
   "source": [
    "# Select the first layer\n",
    "layer_name = 'dense' \n",
    "intermediate_layer_model = Model(inputs=model.input,\n",
    "                                 outputs=model.get_layer(layer_name).output)"
   ]
  },
  {
   "cell_type": "markdown",
   "metadata": {
    "id": "V3dx9XkPYTNV"
   },
   "source": [
    "### Upload Data"
   ]
  },
  {
   "cell_type": "markdown",
   "metadata": {
    "id": "yO1eySIdjSOG"
   },
   "source": [
    "\n",
    "Let's define the item's ids in a way that will reflect the event's label.  Then, we index the events in Pinecone's vector index."
   ]
  },
  {
   "cell_type": "code",
   "execution_count": 18,
   "metadata": {
    "colab": {
     "base_uri": "https://localhost:8080/"
    },
    "id": "nk4ZjGg-ywpX",
    "outputId": "bce8f1fd-98e3-4313-d625-c404a4eca184"
   },
   "outputs": [
    {
     "name": "stderr",
     "output_type": "stream",
     "text": [
      "100%|██████████| 1042867/1042867 [01:34<00:00, 11090.44it/s]\n"
     ]
    }
   ],
   "source": [
    "from tqdm import tqdm\n",
    "items_to_upload = []\n",
    "\n",
    "model_res = intermediate_layer_model.predict(K.constant(data_23_cleaned.iloc[:,:-1]))\n",
    "\n",
    "for i, res in tqdm(zip(data_23_cleaned.iterrows(), model_res), total=len(model_res)):\n",
    "    benign_or_attack = i[1]['Label'][:3]\n",
    "    items_to_upload.append((benign_or_attack + '_' + str(i[0]), res))"
   ]
  },
  {
   "cell_type": "markdown",
   "metadata": {
    "id": "6C7er-8Gl2Rg"
   },
   "source": [
    "You can lower the NUMBER_OF_ITEMS and, by doing so, limit the number of uploaded items. "
   ]
  },
  {
   "cell_type": "code",
   "execution_count": 19,
   "metadata": {
    "colab": {
     "base_uri": "https://localhost:8080/",
     "height": 49,
     "referenced_widgets": [
      "ad0950997e4741eab1765265f2c42382",
      "b327f9d4bcc846178036ba6ca2f5f474",
      "437ba485a41740aa8d45a0c246895543",
      "01f90f65599b492998fac7cba60e3296",
      "7cd773b15c7f47688620a499d128ea0c",
      "772cd2dfabf4483d94506258db5f914b",
      "ab54793cc8cf458e89bd928f439026cf",
      "00834059b11d44e8aff51dfd81b79b76",
      "f343e628b4ea4d779904cc40785558f5",
      "b95fa83949fe419c9c6a70e2fe1d1a7f",
      "15338366c93b4171aab59d5b89146a39"
     ]
    },
    "id": "_Ti9p0P-ywpX",
    "outputId": "c4f756a2-52e7-427d-ff1f-5285d681930d",
    "scrolled": true
   },
   "outputs": [
    {
     "data": {
      "application/vnd.jupyter.widget-view+json": {
       "model_id": "ad0950997e4741eab1765265f2c42382",
       "version_major": 2,
       "version_minor": 0
      },
      "text/plain": [
       "0it [00:00, ?it/s]"
      ]
     },
     "metadata": {
      "tags": []
     },
     "output_type": "display_data"
    }
   ],
   "source": [
    "NUMBER_OF_ITEMS = len(items_to_upload)\n",
    "\n",
    "upsert_acks = index.upsert(items=items_to_upload[:NUMBER_OF_ITEMS])"
   ]
  },
  {
   "cell_type": "markdown",
   "metadata": {
    "id": "fglWJfAq_kw3"
   },
   "source": [
    "Let's verify all items were inserted. "
   ]
  },
  {
   "cell_type": "code",
   "execution_count": 20,
   "metadata": {
    "colab": {
     "base_uri": "https://localhost:8080/"
    },
    "id": "xU172A4EywpY",
    "outputId": "80008942-0000-40e5-92a1-66b767a489c6"
   },
   "outputs": [
    {
     "data": {
      "text/plain": [
       "InfoResult(index_size=1042867)"
      ]
     },
     "execution_count": 20,
     "metadata": {
      "tags": []
     },
     "output_type": "execute_result"
    }
   ],
   "source": [
    "index.info()"
   ]
  },
  {
   "cell_type": "markdown",
   "metadata": {
    "id": "3CGzW3mVywpY"
   },
   "source": [
    "## Query"
   ]
  },
  {
   "cell_type": "markdown",
   "metadata": {
    "id": "Ywuld4BylAIu"
   },
   "source": [
    "First, we will randomly select a Benign/Attack event and query the vector index using the event embedding. Then, we will use data from different day, that contains same set of attacks to query on a bigger sample."
   ]
  },
  {
   "cell_type": "markdown",
   "metadata": {
    "id": "m5H4rMyOYTNX"
   },
   "source": [
    "\n",
    "### Evaluate the Rare Event Classification Model"
   ]
  },
  {
   "cell_type": "markdown",
   "metadata": {
    "id": "velMK_XlYTNX"
   },
   "source": [
    "We will use network intrusion dataset for 22-02-2018 for querying and testing the Pinecone."
   ]
  },
  {
   "cell_type": "markdown",
   "metadata": {
    "id": "VC2AVfWsj7em"
   },
   "source": [
    "First, let's clean the data."
   ]
  },
  {
   "cell_type": "code",
   "execution_count": 21,
   "metadata": {
    "colab": {
     "base_uri": "https://localhost:8080/"
    },
    "id": "bW9mhYvOYTNX",
    "outputId": "84a9d548-de90-40fe-c183-fc2ca48de2ec",
    "scrolled": true
   },
   "outputs": [
    {
     "name": "stdout",
     "output_type": "stream",
     "text": [
      "cleaning Thursday-22-02-2018_TrafficForML_CICFlowMeter.csv\n",
      "total rows read = 1048576\n",
      "all done writing 1042966 rows; dropped 5610 rows\n"
     ]
    }
   ],
   "source": [
    "!python DeepLearning-IDS/data_cleanup.py \"Thursday-22-02-2018_TrafficForML_CICFlowMeter.csv\" \"result22022018\""
   ]
  },
  {
   "cell_type": "code",
   "execution_count": 22,
   "metadata": {
    "colab": {
     "base_uri": "https://localhost:8080/",
     "height": 278
    },
    "id": "xqMuz0jKYTNX",
    "outputId": "d9f8c333-5e3f-4509-b84a-901bacf42487"
   },
   "outputs": [
    {
     "data": {
      "text/html": [
       "<div>\n",
       "<style scoped>\n",
       "    .dataframe tbody tr th:only-of-type {\n",
       "        vertical-align: middle;\n",
       "    }\n",
       "\n",
       "    .dataframe tbody tr th {\n",
       "        vertical-align: top;\n",
       "    }\n",
       "\n",
       "    .dataframe thead th {\n",
       "        text-align: right;\n",
       "    }\n",
       "</style>\n",
       "<table border=\"1\" class=\"dataframe\">\n",
       "  <thead>\n",
       "    <tr style=\"text-align: right;\">\n",
       "      <th></th>\n",
       "      <th>Dst Port</th>\n",
       "      <th>Protocol</th>\n",
       "      <th>Timestamp</th>\n",
       "      <th>Flow Duration</th>\n",
       "      <th>Tot Fwd Pkts</th>\n",
       "      <th>Tot Bwd Pkts</th>\n",
       "      <th>TotLen Fwd Pkts</th>\n",
       "      <th>TotLen Bwd Pkts</th>\n",
       "      <th>Fwd Pkt Len Max</th>\n",
       "      <th>Fwd Pkt Len Min</th>\n",
       "      <th>Fwd Pkt Len Mean</th>\n",
       "      <th>Fwd Pkt Len Std</th>\n",
       "      <th>Bwd Pkt Len Max</th>\n",
       "      <th>Bwd Pkt Len Min</th>\n",
       "      <th>Bwd Pkt Len Mean</th>\n",
       "      <th>Bwd Pkt Len Std</th>\n",
       "      <th>Flow Byts/s</th>\n",
       "      <th>Flow Pkts/s</th>\n",
       "      <th>Flow IAT Mean</th>\n",
       "      <th>Flow IAT Std</th>\n",
       "      <th>Flow IAT Max</th>\n",
       "      <th>Flow IAT Min</th>\n",
       "      <th>Fwd IAT Tot</th>\n",
       "      <th>Fwd IAT Mean</th>\n",
       "      <th>Fwd IAT Std</th>\n",
       "      <th>Fwd IAT Max</th>\n",
       "      <th>Fwd IAT Min</th>\n",
       "      <th>Bwd IAT Tot</th>\n",
       "      <th>Bwd IAT Mean</th>\n",
       "      <th>Bwd IAT Std</th>\n",
       "      <th>Bwd IAT Max</th>\n",
       "      <th>Bwd IAT Min</th>\n",
       "      <th>Fwd PSH Flags</th>\n",
       "      <th>Bwd PSH Flags</th>\n",
       "      <th>Fwd URG Flags</th>\n",
       "      <th>Bwd URG Flags</th>\n",
       "      <th>Fwd Header Len</th>\n",
       "      <th>Bwd Header Len</th>\n",
       "      <th>Fwd Pkts/s</th>\n",
       "      <th>Bwd Pkts/s</th>\n",
       "      <th>Pkt Len Min</th>\n",
       "      <th>Pkt Len Max</th>\n",
       "      <th>Pkt Len Mean</th>\n",
       "      <th>Pkt Len Std</th>\n",
       "      <th>Pkt Len Var</th>\n",
       "      <th>FIN Flag Cnt</th>\n",
       "      <th>SYN Flag Cnt</th>\n",
       "      <th>RST Flag Cnt</th>\n",
       "      <th>PSH Flag Cnt</th>\n",
       "      <th>ACK Flag Cnt</th>\n",
       "      <th>URG Flag Cnt</th>\n",
       "      <th>CWE Flag Count</th>\n",
       "      <th>ECE Flag Cnt</th>\n",
       "      <th>Down/Up Ratio</th>\n",
       "      <th>Pkt Size Avg</th>\n",
       "      <th>Fwd Seg Size Avg</th>\n",
       "      <th>Bwd Seg Size Avg</th>\n",
       "      <th>Fwd Byts/b Avg</th>\n",
       "      <th>Fwd Pkts/b Avg</th>\n",
       "      <th>Fwd Blk Rate Avg</th>\n",
       "      <th>Bwd Byts/b Avg</th>\n",
       "      <th>Bwd Pkts/b Avg</th>\n",
       "      <th>Bwd Blk Rate Avg</th>\n",
       "      <th>Subflow Fwd Pkts</th>\n",
       "      <th>Subflow Fwd Byts</th>\n",
       "      <th>Subflow Bwd Pkts</th>\n",
       "      <th>Subflow Bwd Byts</th>\n",
       "      <th>Init Fwd Win Byts</th>\n",
       "      <th>Init Bwd Win Byts</th>\n",
       "      <th>Fwd Act Data Pkts</th>\n",
       "      <th>Fwd Seg Size Min</th>\n",
       "      <th>Active Mean</th>\n",
       "      <th>Active Std</th>\n",
       "      <th>Active Max</th>\n",
       "      <th>Active Min</th>\n",
       "      <th>Idle Mean</th>\n",
       "      <th>Idle Std</th>\n",
       "      <th>Idle Max</th>\n",
       "      <th>Idle Min</th>\n",
       "      <th>Label</th>\n",
       "    </tr>\n",
       "  </thead>\n",
       "  <tbody>\n",
       "    <tr>\n",
       "      <th>0</th>\n",
       "      <td>22</td>\n",
       "      <td>6</td>\n",
       "      <td>1.519288e+09</td>\n",
       "      <td>20553406</td>\n",
       "      <td>10</td>\n",
       "      <td>7</td>\n",
       "      <td>1063</td>\n",
       "      <td>1297</td>\n",
       "      <td>744</td>\n",
       "      <td>0</td>\n",
       "      <td>106.3</td>\n",
       "      <td>239.357496</td>\n",
       "      <td>976</td>\n",
       "      <td>0</td>\n",
       "      <td>185.285714</td>\n",
       "      <td>363.396347</td>\n",
       "      <td>1.148228e+02</td>\n",
       "      <td>0.827114</td>\n",
       "      <td>1.284588e+06</td>\n",
       "      <td>4.865569e+06</td>\n",
       "      <td>19526080</td>\n",
       "      <td>12</td>\n",
       "      <td>20553406</td>\n",
       "      <td>2.283712e+06</td>\n",
       "      <td>6.467165e+06</td>\n",
       "      <td>19526080</td>\n",
       "      <td>22</td>\n",
       "      <td>782332</td>\n",
       "      <td>130388.666667</td>\n",
       "      <td>126280.381325</td>\n",
       "      <td>245143</td>\n",
       "      <td>2639</td>\n",
       "      <td>0</td>\n",
       "      <td>0</td>\n",
       "      <td>0</td>\n",
       "      <td>0</td>\n",
       "      <td>212</td>\n",
       "      <td>152</td>\n",
       "      <td>0.486537</td>\n",
       "      <td>0.340576</td>\n",
       "      <td>0</td>\n",
       "      <td>976</td>\n",
       "      <td>131.111111</td>\n",
       "      <td>281.994971</td>\n",
       "      <td>79521.163399</td>\n",
       "      <td>0</td>\n",
       "      <td>0</td>\n",
       "      <td>0</td>\n",
       "      <td>1</td>\n",
       "      <td>0</td>\n",
       "      <td>0</td>\n",
       "      <td>0</td>\n",
       "      <td>0</td>\n",
       "      <td>0</td>\n",
       "      <td>138.823529</td>\n",
       "      <td>106.3</td>\n",
       "      <td>185.285714</td>\n",
       "      <td>0</td>\n",
       "      <td>0</td>\n",
       "      <td>0</td>\n",
       "      <td>0</td>\n",
       "      <td>0</td>\n",
       "      <td>0</td>\n",
       "      <td>10</td>\n",
       "      <td>1063</td>\n",
       "      <td>7</td>\n",
       "      <td>1297</td>\n",
       "      <td>14600</td>\n",
       "      <td>222</td>\n",
       "      <td>4</td>\n",
       "      <td>20</td>\n",
       "      <td>1027304.0</td>\n",
       "      <td>0.0</td>\n",
       "      <td>1027304</td>\n",
       "      <td>1027304</td>\n",
       "      <td>1.952608e+07</td>\n",
       "      <td>0.000000e+00</td>\n",
       "      <td>19526080</td>\n",
       "      <td>19526080</td>\n",
       "      <td>Benign</td>\n",
       "    </tr>\n",
       "    <tr>\n",
       "      <th>1</th>\n",
       "      <td>34989</td>\n",
       "      <td>6</td>\n",
       "      <td>1.519288e+09</td>\n",
       "      <td>790</td>\n",
       "      <td>2</td>\n",
       "      <td>0</td>\n",
       "      <td>848</td>\n",
       "      <td>0</td>\n",
       "      <td>848</td>\n",
       "      <td>0</td>\n",
       "      <td>424.0</td>\n",
       "      <td>599.626550</td>\n",
       "      <td>0</td>\n",
       "      <td>0</td>\n",
       "      <td>0.000000</td>\n",
       "      <td>0.000000</td>\n",
       "      <td>1.073418e+06</td>\n",
       "      <td>2531.645570</td>\n",
       "      <td>7.900000e+02</td>\n",
       "      <td>0.000000e+00</td>\n",
       "      <td>790</td>\n",
       "      <td>790</td>\n",
       "      <td>790</td>\n",
       "      <td>7.900000e+02</td>\n",
       "      <td>0.000000e+00</td>\n",
       "      <td>790</td>\n",
       "      <td>790</td>\n",
       "      <td>0</td>\n",
       "      <td>0.000000</td>\n",
       "      <td>0.000000</td>\n",
       "      <td>0</td>\n",
       "      <td>0</td>\n",
       "      <td>1</td>\n",
       "      <td>0</td>\n",
       "      <td>0</td>\n",
       "      <td>0</td>\n",
       "      <td>40</td>\n",
       "      <td>0</td>\n",
       "      <td>2531.645570</td>\n",
       "      <td>0.000000</td>\n",
       "      <td>0</td>\n",
       "      <td>848</td>\n",
       "      <td>565.333333</td>\n",
       "      <td>489.593028</td>\n",
       "      <td>239701.333333</td>\n",
       "      <td>0</td>\n",
       "      <td>1</td>\n",
       "      <td>0</td>\n",
       "      <td>0</td>\n",
       "      <td>1</td>\n",
       "      <td>0</td>\n",
       "      <td>0</td>\n",
       "      <td>0</td>\n",
       "      <td>0</td>\n",
       "      <td>848.000000</td>\n",
       "      <td>424.0</td>\n",
       "      <td>0.000000</td>\n",
       "      <td>0</td>\n",
       "      <td>0</td>\n",
       "      <td>0</td>\n",
       "      <td>0</td>\n",
       "      <td>0</td>\n",
       "      <td>0</td>\n",
       "      <td>2</td>\n",
       "      <td>848</td>\n",
       "      <td>0</td>\n",
       "      <td>0</td>\n",
       "      <td>234</td>\n",
       "      <td>-1</td>\n",
       "      <td>0</td>\n",
       "      <td>20</td>\n",
       "      <td>0.0</td>\n",
       "      <td>0.0</td>\n",
       "      <td>0</td>\n",
       "      <td>0</td>\n",
       "      <td>0.000000e+00</td>\n",
       "      <td>0.000000e+00</td>\n",
       "      <td>0</td>\n",
       "      <td>0</td>\n",
       "      <td>Benign</td>\n",
       "    </tr>\n",
       "    <tr>\n",
       "      <th>2</th>\n",
       "      <td>500</td>\n",
       "      <td>17</td>\n",
       "      <td>1.519288e+09</td>\n",
       "      <td>99745913</td>\n",
       "      <td>5</td>\n",
       "      <td>0</td>\n",
       "      <td>2500</td>\n",
       "      <td>0</td>\n",
       "      <td>500</td>\n",
       "      <td>500</td>\n",
       "      <td>500.0</td>\n",
       "      <td>0.000000</td>\n",
       "      <td>0</td>\n",
       "      <td>0</td>\n",
       "      <td>0.000000</td>\n",
       "      <td>0.000000</td>\n",
       "      <td>2.506368e+01</td>\n",
       "      <td>0.050127</td>\n",
       "      <td>2.493648e+07</td>\n",
       "      <td>3.396804e+07</td>\n",
       "      <td>75584115</td>\n",
       "      <td>4000203</td>\n",
       "      <td>99745913</td>\n",
       "      <td>2.493648e+07</td>\n",
       "      <td>3.396804e+07</td>\n",
       "      <td>75584115</td>\n",
       "      <td>4000203</td>\n",
       "      <td>0</td>\n",
       "      <td>0.000000</td>\n",
       "      <td>0.000000</td>\n",
       "      <td>0</td>\n",
       "      <td>0</td>\n",
       "      <td>0</td>\n",
       "      <td>0</td>\n",
       "      <td>0</td>\n",
       "      <td>0</td>\n",
       "      <td>40</td>\n",
       "      <td>0</td>\n",
       "      <td>0.050127</td>\n",
       "      <td>0.000000</td>\n",
       "      <td>500</td>\n",
       "      <td>500</td>\n",
       "      <td>500.000000</td>\n",
       "      <td>0.000000</td>\n",
       "      <td>0.000000</td>\n",
       "      <td>0</td>\n",
       "      <td>0</td>\n",
       "      <td>0</td>\n",
       "      <td>0</td>\n",
       "      <td>0</td>\n",
       "      <td>0</td>\n",
       "      <td>0</td>\n",
       "      <td>0</td>\n",
       "      <td>0</td>\n",
       "      <td>600.000000</td>\n",
       "      <td>500.0</td>\n",
       "      <td>0.000000</td>\n",
       "      <td>0</td>\n",
       "      <td>0</td>\n",
       "      <td>0</td>\n",
       "      <td>0</td>\n",
       "      <td>0</td>\n",
       "      <td>0</td>\n",
       "      <td>5</td>\n",
       "      <td>2500</td>\n",
       "      <td>0</td>\n",
       "      <td>0</td>\n",
       "      <td>-1</td>\n",
       "      <td>-1</td>\n",
       "      <td>4</td>\n",
       "      <td>8</td>\n",
       "      <td>4000203.0</td>\n",
       "      <td>0.0</td>\n",
       "      <td>4000203</td>\n",
       "      <td>4000203</td>\n",
       "      <td>3.191524e+07</td>\n",
       "      <td>3.792787e+07</td>\n",
       "      <td>75584115</td>\n",
       "      <td>7200679</td>\n",
       "      <td>Benign</td>\n",
       "    </tr>\n",
       "    <tr>\n",
       "      <th>3</th>\n",
       "      <td>500</td>\n",
       "      <td>17</td>\n",
       "      <td>1.519288e+09</td>\n",
       "      <td>99745913</td>\n",
       "      <td>5</td>\n",
       "      <td>0</td>\n",
       "      <td>2500</td>\n",
       "      <td>0</td>\n",
       "      <td>500</td>\n",
       "      <td>500</td>\n",
       "      <td>500.0</td>\n",
       "      <td>0.000000</td>\n",
       "      <td>0</td>\n",
       "      <td>0</td>\n",
       "      <td>0.000000</td>\n",
       "      <td>0.000000</td>\n",
       "      <td>2.506368e+01</td>\n",
       "      <td>0.050127</td>\n",
       "      <td>2.493648e+07</td>\n",
       "      <td>3.396805e+07</td>\n",
       "      <td>75584130</td>\n",
       "      <td>4000189</td>\n",
       "      <td>99745913</td>\n",
       "      <td>2.493648e+07</td>\n",
       "      <td>3.396805e+07</td>\n",
       "      <td>75584130</td>\n",
       "      <td>4000189</td>\n",
       "      <td>0</td>\n",
       "      <td>0.000000</td>\n",
       "      <td>0.000000</td>\n",
       "      <td>0</td>\n",
       "      <td>0</td>\n",
       "      <td>0</td>\n",
       "      <td>0</td>\n",
       "      <td>0</td>\n",
       "      <td>0</td>\n",
       "      <td>40</td>\n",
       "      <td>0</td>\n",
       "      <td>0.050127</td>\n",
       "      <td>0.000000</td>\n",
       "      <td>500</td>\n",
       "      <td>500</td>\n",
       "      <td>500.000000</td>\n",
       "      <td>0.000000</td>\n",
       "      <td>0.000000</td>\n",
       "      <td>0</td>\n",
       "      <td>0</td>\n",
       "      <td>0</td>\n",
       "      <td>0</td>\n",
       "      <td>0</td>\n",
       "      <td>0</td>\n",
       "      <td>0</td>\n",
       "      <td>0</td>\n",
       "      <td>0</td>\n",
       "      <td>600.000000</td>\n",
       "      <td>500.0</td>\n",
       "      <td>0.000000</td>\n",
       "      <td>0</td>\n",
       "      <td>0</td>\n",
       "      <td>0</td>\n",
       "      <td>0</td>\n",
       "      <td>0</td>\n",
       "      <td>0</td>\n",
       "      <td>5</td>\n",
       "      <td>2500</td>\n",
       "      <td>0</td>\n",
       "      <td>0</td>\n",
       "      <td>-1</td>\n",
       "      <td>-1</td>\n",
       "      <td>4</td>\n",
       "      <td>8</td>\n",
       "      <td>4000189.0</td>\n",
       "      <td>0.0</td>\n",
       "      <td>4000189</td>\n",
       "      <td>4000189</td>\n",
       "      <td>3.191524e+07</td>\n",
       "      <td>3.792788e+07</td>\n",
       "      <td>75584130</td>\n",
       "      <td>7200693</td>\n",
       "      <td>Benign</td>\n",
       "    </tr>\n",
       "    <tr>\n",
       "      <th>4</th>\n",
       "      <td>500</td>\n",
       "      <td>17</td>\n",
       "      <td>1.519288e+09</td>\n",
       "      <td>89481361</td>\n",
       "      <td>6</td>\n",
       "      <td>0</td>\n",
       "      <td>3000</td>\n",
       "      <td>0</td>\n",
       "      <td>500</td>\n",
       "      <td>500</td>\n",
       "      <td>500.0</td>\n",
       "      <td>0.000000</td>\n",
       "      <td>0</td>\n",
       "      <td>0</td>\n",
       "      <td>0.000000</td>\n",
       "      <td>0.000000</td>\n",
       "      <td>3.352654e+01</td>\n",
       "      <td>0.067053</td>\n",
       "      <td>1.789627e+07</td>\n",
       "      <td>1.534519e+07</td>\n",
       "      <td>41990741</td>\n",
       "      <td>4000554</td>\n",
       "      <td>89481361</td>\n",
       "      <td>1.789627e+07</td>\n",
       "      <td>1.534519e+07</td>\n",
       "      <td>41990741</td>\n",
       "      <td>4000554</td>\n",
       "      <td>0</td>\n",
       "      <td>0.000000</td>\n",
       "      <td>0.000000</td>\n",
       "      <td>0</td>\n",
       "      <td>0</td>\n",
       "      <td>0</td>\n",
       "      <td>0</td>\n",
       "      <td>0</td>\n",
       "      <td>0</td>\n",
       "      <td>48</td>\n",
       "      <td>0</td>\n",
       "      <td>0.067053</td>\n",
       "      <td>0.000000</td>\n",
       "      <td>500</td>\n",
       "      <td>500</td>\n",
       "      <td>500.000000</td>\n",
       "      <td>0.000000</td>\n",
       "      <td>0.000000</td>\n",
       "      <td>0</td>\n",
       "      <td>0</td>\n",
       "      <td>0</td>\n",
       "      <td>0</td>\n",
       "      <td>0</td>\n",
       "      <td>0</td>\n",
       "      <td>0</td>\n",
       "      <td>0</td>\n",
       "      <td>0</td>\n",
       "      <td>583.333333</td>\n",
       "      <td>500.0</td>\n",
       "      <td>0.000000</td>\n",
       "      <td>0</td>\n",
       "      <td>0</td>\n",
       "      <td>0</td>\n",
       "      <td>0</td>\n",
       "      <td>0</td>\n",
       "      <td>0</td>\n",
       "      <td>6</td>\n",
       "      <td>3000</td>\n",
       "      <td>0</td>\n",
       "      <td>0</td>\n",
       "      <td>-1</td>\n",
       "      <td>-1</td>\n",
       "      <td>5</td>\n",
       "      <td>8</td>\n",
       "      <td>4000554.0</td>\n",
       "      <td>0.0</td>\n",
       "      <td>4000554</td>\n",
       "      <td>4000554</td>\n",
       "      <td>2.137020e+07</td>\n",
       "      <td>1.528109e+07</td>\n",
       "      <td>41990741</td>\n",
       "      <td>7200848</td>\n",
       "      <td>Benign</td>\n",
       "    </tr>\n",
       "  </tbody>\n",
       "</table>\n",
       "</div>"
      ],
      "text/plain": [
       "   Dst Port  Protocol     Timestamp  ...  Idle Max  Idle Min   Label\n",
       "0        22         6  1.519288e+09  ...  19526080  19526080  Benign\n",
       "1     34989         6  1.519288e+09  ...         0         0  Benign\n",
       "2       500        17  1.519288e+09  ...  75584115   7200679  Benign\n",
       "3       500        17  1.519288e+09  ...  75584130   7200693  Benign\n",
       "4       500        17  1.519288e+09  ...  41990741   7200848  Benign\n",
       "\n",
       "[5 rows x 80 columns]"
      ]
     },
     "execution_count": 22,
     "metadata": {
      "tags": []
     },
     "output_type": "execute_result"
    }
   ],
   "source": [
    "data_22_cleaned = pd.read_csv('result22022018.csv')\n",
    "data_22_cleaned.head()"
   ]
  },
  {
   "cell_type": "code",
   "execution_count": 23,
   "metadata": {
    "colab": {
     "base_uri": "https://localhost:8080/"
    },
    "id": "262mxbQDYTNY",
    "outputId": "7540316e-2c26-49ad-a487-85a4fe0bd84c"
   },
   "outputs": [
    {
     "data": {
      "text/plain": [
       "Benign              1042603\n",
       "Brute Force -Web        249\n",
       "Brute Force -XSS         79\n",
       "SQL Injection            34\n",
       "Name: Label, dtype: int64"
      ]
     },
     "execution_count": 23,
     "metadata": {
      "tags": []
     },
     "output_type": "execute_result"
    }
   ],
   "source": [
    "data_22_cleaned.Label.value_counts()"
   ]
  },
  {
   "cell_type": "markdown",
   "metadata": {
    "id": "P6nJdtveYTNY"
   },
   "source": [
    "Let's define a sample that will include all different types of web attacks for this specific date."
   ]
  },
  {
   "cell_type": "code",
   "execution_count": 24,
   "metadata": {
    "colab": {
     "base_uri": "https://localhost:8080/"
    },
    "id": "N7vwZk6HYTNY",
    "outputId": "96c03fc3-c086-4398-b58a-2c5c57eb4ded"
   },
   "outputs": [
    {
     "data": {
      "text/plain": [
       "Benign              1638\n",
       "Brute Force -Web     249\n",
       "Brute Force -XSS      79\n",
       "SQL Injection         34\n",
       "Name: Label, dtype: int64"
      ]
     },
     "execution_count": 24,
     "metadata": {
      "tags": []
     },
     "output_type": "execute_result"
    }
   ],
   "source": [
    "data_sample = data_22_cleaned[-2000:]\n",
    "data_sample.Label.value_counts()"
   ]
  },
  {
   "cell_type": "markdown",
   "metadata": {
    "id": "neSxNwYckGMK"
   },
   "source": [
    "Now, we will query the test dataset and save predicted and expected results to create a confusion matrix."
   ]
  },
  {
   "cell_type": "code",
   "execution_count": 25,
   "metadata": {
    "colab": {
     "base_uri": "https://localhost:8080/",
     "height": 136,
     "referenced_widgets": [
      "567d04116b1b4d21bac2348535b750a0",
      "8f92a228cbc54b30bcb22d0598e9577f",
      "8fe529938a4f40ac905e145e423d856e",
      "a4b449113a734e90825bc1ef87ca3d3c",
      "cda25dc5f86344b3850c92e59085c06c",
      "3586c81ff82048ed80d69b7a4b5bd6b3",
      "c427de521f054c4997d69586251bed4f",
      "90d8d1d9da814d90b0f0bf331102d4df",
      "7f2cabefd9eb4674a63ef3d56a5be122",
      "dda94f4a1ea946b7996a928374dda4a5",
      "ea6f763369cd4b478998ea4d3e8f20e6",
      "e752273786584dd4baa77ac3f4528849",
      "aef6058200fa454c90f51760685e25db",
      "87b4d4b12452401cb82285364dae3576",
      "8a60896e0288471a91089a03a75b210b",
      "fe75c2a93c6e4619a2731a4c01a71619",
      "5c64d617d0d94a6a9797d20f0d1e80f3",
      "25ac309f2f5d43169ed0bda88300c8d2",
      "9ebe5f94bbb743058602c9af26cd4eaf",
      "3db0b4717ac140b78bf7d75e7ebeaf39",
      "fcc29e1c6b304044a53522c550c4b49d",
      "cd9e8a060d05491f8c4d74871c9560fa"
     ]
    },
    "id": "8u6cg_1tYTNY",
    "outputId": "dbe81cb3-88fb-4cd9-91fe-773c960ca108",
    "scrolled": true
   },
   "outputs": [
    {
     "name": "stderr",
     "output_type": "stream",
     "text": [
      "\r",
      "  0%|          | 0/2 [00:00<?, ?it/s]"
     ]
    },
    {
     "data": {
      "application/vnd.jupyter.widget-view+json": {
       "model_id": "567d04116b1b4d21bac2348535b750a0",
       "version_major": 2,
       "version_minor": 0
      },
      "text/plain": [
       "0it [00:00, ?it/s]"
      ]
     },
     "metadata": {
      "tags": []
     },
     "output_type": "display_data"
    },
    {
     "name": "stderr",
     "output_type": "stream",
     "text": [
      "\r",
      " 50%|█████     | 1/2 [00:22<00:22, 22.70s/it]"
     ]
    },
    {
     "data": {
      "application/vnd.jupyter.widget-view+json": {
       "model_id": "e752273786584dd4baa77ac3f4528849",
       "version_major": 2,
       "version_minor": 0
      },
      "text/plain": [
       "0it [00:00, ?it/s]"
      ]
     },
     "metadata": {
      "tags": []
     },
     "output_type": "display_data"
    },
    {
     "name": "stderr",
     "output_type": "stream",
     "text": [
      "100%|██████████| 2/2 [00:44<00:00, 22.25s/it]\n"
     ]
    }
   ],
   "source": [
    "y_true = []\n",
    "y_pred = []\n",
    "\n",
    "BATCH_SIZE = 1000\n",
    "\n",
    "for i in tqdm(range(0, len(data_sample), BATCH_SIZE)):\n",
    "    test_data = data_sample.iloc[i:i+BATCH_SIZE, :]\n",
    "    \n",
    "    # Create vector embedding using the model\n",
    "    test_vector = intermediate_layer_model.predict(K.constant(test_data.iloc[:, :-1]))\n",
    "    \n",
    "    # Query using the vector embedding\n",
    "    query_results = index.query(queries=test_vector, top_k=1000)\n",
    "    \n",
    "    for label, res in zip(test_data.Label.values, query_results):\n",
    "        # Add to the true list\n",
    "        if label == 'Benign':\n",
    "            y_true.append(0)\n",
    "        else:\n",
    "            y_true.append(1)\n",
    "\n",
    "        counter = Counter(_id.split('_')[0] for _id in res.ids)\n",
    "\n",
    "        # Add to the predicted list\n",
    "        if counter['Bru'] or counter['SQL']:\n",
    "            y_pred.append(1)\n",
    "        else:\n",
    "            y_pred.append(0)"
   ]
  },
  {
   "cell_type": "code",
   "execution_count": 26,
   "metadata": {
    "colab": {
     "base_uri": "https://localhost:8080/",
     "height": 313
    },
    "id": "HV3-gkdWYTNZ",
    "outputId": "20103ea7-713b-4e2b-9590-ecc70ef9b76e"
   },
   "outputs": [
    {
     "data": {
      "text/plain": [
       "[Text(0, 0.5, 'Benign'), Text(0, 1.5, 'Attack')]"
      ]
     },
     "execution_count": 26,
     "metadata": {
      "tags": []
     },
     "output_type": "execute_result"
    },
    {
     "data": {
      "image/png": "[encoded data removed]",
      "text/plain": [
       "<Figure size 432x288 with 1 Axes>"
      ]
     },
     "metadata": {
      "needs_background": "light",
      "tags": []
     },
     "output_type": "display_data"
    }
   ],
   "source": [
    "# Create confusion matrix\n",
    "conf_matrix = confusion_matrix(y_true, y_pred)\n",
    "\n",
    "# Show confusion matrix\n",
    "ax = plt.subplot()\n",
    "sns.heatmap(conf_matrix, annot=True, ax = ax, cmap='Blues', fmt='g', cbar=False)\n",
    "\n",
    "# Add labels, title and ticks\n",
    "ax.set_xlabel('Predicted')\n",
    "ax.set_ylabel('Acctual')\n",
    "ax.set_title('Confusion Matrix')\n",
    "ax.xaxis.set_ticklabels(['Benign', 'Attack'])\n",
    "ax.yaxis.set_ticklabels(['Benign', 'Attack'])"
   ]
  },
  {
   "cell_type": "markdown",
   "metadata": {
    "id": "-H7rWFguYTNZ"
   },
   "source": [
    "Now we can calculate overall accuracy and per class accuracy."
   ]
  },
  {
   "cell_type": "code",
   "execution_count": 27,
   "metadata": {
    "colab": {
     "base_uri": "https://localhost:8080/"
    },
    "id": "uHTInLt2YTNZ",
    "outputId": "e48f2726-5eba-4d17-ffe7-7b17c62d5ee8"
   },
   "outputs": [
    {
     "name": "stdout",
     "output_type": "stream",
     "text": [
      "Accuracy: 0.949\n",
      "Precision: 0.863\n",
      "Recall: 0.854\n"
     ]
    }
   ],
   "source": [
    "# Calculate accuracy\n",
    "acc = accuracy_score(y_true, y_pred, normalize=True, sample_weight=None)\n",
    "precision = precision_score(y_true, y_pred)\n",
    "recall = recall_score(y_true, y_pred)\n",
    "\n",
    "print(f\"Accuracy: {acc:.3f}\")\n",
    "print(f\"Precision: {precision:.3f}\")\n",
    "print(f\"Recall: {recall:.3f}\")"
   ]
  },
  {
   "cell_type": "code",
   "execution_count": 28,
   "metadata": {
    "colab": {
     "base_uri": "https://localhost:8080/",
     "height": 112
    },
    "id": "ZNzyqAH9YTNZ",
    "outputId": "7d2e35a1-df80-47bc-f5e7-fd425e79a7f4"
   },
   "outputs": [
    {
     "data": {
      "text/html": [
       "<div>\n",
       "<style scoped>\n",
       "    .dataframe tbody tr th:only-of-type {\n",
       "        vertical-align: middle;\n",
       "    }\n",
       "\n",
       "    .dataframe tbody tr th {\n",
       "        vertical-align: top;\n",
       "    }\n",
       "\n",
       "    .dataframe thead th {\n",
       "        text-align: right;\n",
       "    }\n",
       "</style>\n",
       "<table border=\"1\" class=\"dataframe\">\n",
       "  <thead>\n",
       "    <tr style=\"text-align: right;\">\n",
       "      <th></th>\n",
       "      <th>type</th>\n",
       "      <th>accuracy</th>\n",
       "    </tr>\n",
       "  </thead>\n",
       "  <tbody>\n",
       "    <tr>\n",
       "      <th>0</th>\n",
       "      <td>Benign</td>\n",
       "      <td>0.97</td>\n",
       "    </tr>\n",
       "    <tr>\n",
       "      <th>1</th>\n",
       "      <td>Attack</td>\n",
       "      <td>0.85</td>\n",
       "    </tr>\n",
       "  </tbody>\n",
       "</table>\n",
       "</div>"
      ],
      "text/plain": [
       "     type  accuracy\n",
       "0  Benign      0.97\n",
       "1  Attack      0.85"
      ]
     },
     "metadata": {
      "tags": []
     },
     "output_type": "display_data"
    }
   ],
   "source": [
    "# Calculate per class accuracy\n",
    "cmd = confusion_matrix(y_true, y_pred, normalize=\"true\").diagonal()\n",
    "per_class_accuracy_df = pd.DataFrame([(index, round(value,4)) for index, value in zip(['Benign', 'Attack'], cmd)], columns = ['type', 'accuracy'])\n",
    "per_class_accuracy_df = per_class_accuracy_df.round(2)\n",
    "display(per_class_accuracy_df)"
   ]
  },
  {
   "cell_type": "markdown",
   "metadata": {
    "id": "Gfy_LW5zXIj6"
   },
   "source": [
    "We got great results using Pinecone! Let's see what happens if we skip the similarity search step and predict values from the model directly. In other words, let's use the model that created the embeddings as a classifier. It would be interesting to compare its and the similarity search approach accuracy. "
   ]
  },
  {
   "cell_type": "code",
   "execution_count": 29,
   "metadata": {
    "id": "Oxya9-mMYh5A"
   },
   "outputs": [],
   "source": [
    "from keras.utils.np_utils import normalize\n",
    "import numpy as np\n",
    "\n",
    "data_sample = normalize(data_22_cleaned.iloc[:, :-1])[-2000:]\n",
    "y_pred_model = model.predict(normalize(data_sample)).flatten()\n",
    "y_pred_model = np.round(y_pred_model)"
   ]
  },
  {
   "cell_type": "code",
   "execution_count": 30,
   "metadata": {
    "colab": {
     "base_uri": "https://localhost:8080/",
     "height": 313
    },
    "id": "GWssFePDXEks",
    "outputId": "9eee2c60-f1c1-4a34-c682-665389fe3aee"
   },
   "outputs": [
    {
     "data": {
      "text/plain": [
       "[Text(0, 0.5, 'Benign'), Text(0, 1.5, 'Attack')]"
      ]
     },
     "execution_count": 30,
     "metadata": {
      "tags": []
     },
     "output_type": "execute_result"
    },
    {
     "data": {
      "image/png": "[encoded data removed]",
      "text/plain": [
       "<Figure size 432x288 with 1 Axes>"
      ]
     },
     "metadata": {
      "needs_background": "light",
      "tags": []
     },
     "output_type": "display_data"
    }
   ],
   "source": [
    "# Create confusion matrix\n",
    "conf_matrix = confusion_matrix(y_true, y_pred_model)\n",
    "\n",
    "# Show confusion matrix\n",
    "ax = plt.subplot()\n",
    "sns.heatmap(conf_matrix, annot=True, ax = ax, cmap='Blues', fmt='g', cbar=False)\n",
    "\n",
    "# Add labels, title and ticks\n",
    "ax.set_xlabel('Predicted')\n",
    "ax.set_ylabel('Acctual')\n",
    "ax.set_title('Confusion Matrix')\n",
    "ax.xaxis.set_ticklabels(['Benign', 'Attack'])\n",
    "ax.yaxis.set_ticklabels(['Benign', 'Attack'])"
   ]
  },
  {
   "cell_type": "code",
   "execution_count": 31,
   "metadata": {
    "colab": {
     "base_uri": "https://localhost:8080/"
    },
    "id": "VJRwvXOvYtBL",
    "outputId": "9d45426b-6bd8-4374-dcf8-9ffecedd7176"
   },
   "outputs": [
    {
     "name": "stdout",
     "output_type": "stream",
     "text": [
      "Accuracy: 0.871\n",
      "Precision: 1.000\n",
      "Recall: 0.287\n"
     ]
    }
   ],
   "source": [
    "# Calculate accuracy\n",
    "acc = accuracy_score(y_true, y_pred_model, normalize=True, sample_weight=None)\n",
    "precision = precision_score(y_true, y_pred_model)\n",
    "recall = recall_score(y_true, y_pred_model)\n",
    "\n",
    "print(f\"Accuracy: {acc:.3f}\")\n",
    "print(f\"Precision: {precision:.3f}\")\n",
    "print(f\"Recall: {recall:.3f}\")"
   ]
  },
  {
   "cell_type": "code",
   "execution_count": 32,
   "metadata": {
    "colab": {
     "base_uri": "https://localhost:8080/",
     "height": 112
    },
    "id": "TFbfVi_-W6GT",
    "outputId": "68facf43-ac41-44de-d59a-a489627cc893"
   },
   "outputs": [
    {
     "data": {
      "text/html": [
       "<div>\n",
       "<style scoped>\n",
       "    .dataframe tbody tr th:only-of-type {\n",
       "        vertical-align: middle;\n",
       "    }\n",
       "\n",
       "    .dataframe tbody tr th {\n",
       "        vertical-align: top;\n",
       "    }\n",
       "\n",
       "    .dataframe thead th {\n",
       "        text-align: right;\n",
       "    }\n",
       "</style>\n",
       "<table border=\"1\" class=\"dataframe\">\n",
       "  <thead>\n",
       "    <tr style=\"text-align: right;\">\n",
       "      <th></th>\n",
       "      <th>type</th>\n",
       "      <th>accuracy</th>\n",
       "    </tr>\n",
       "  </thead>\n",
       "  <tbody>\n",
       "    <tr>\n",
       "      <th>0</th>\n",
       "      <td>Benign</td>\n",
       "      <td>1.00</td>\n",
       "    </tr>\n",
       "    <tr>\n",
       "      <th>1</th>\n",
       "      <td>Attack</td>\n",
       "      <td>0.29</td>\n",
       "    </tr>\n",
       "  </tbody>\n",
       "</table>\n",
       "</div>"
      ],
      "text/plain": [
       "     type  accuracy\n",
       "0  Benign      1.00\n",
       "1  Attack      0.29"
      ]
     },
     "metadata": {
      "tags": []
     },
     "output_type": "display_data"
    }
   ],
   "source": [
    "# Calculate per class accuracy\n",
    "cmd = confusion_matrix(y_true, y_pred_model, normalize=\"true\").diagonal()\n",
    "per_class_accuracy_df = pd.DataFrame([(index, round(value,4)) for index, value in zip(['Benign', 'Attack'], cmd)], columns = ['type', 'accuracy'])\n",
    "per_class_accuracy_df = per_class_accuracy_df.round(2)\n",
    "display(per_class_accuracy_df)"
   ]
  },
  {
   "cell_type": "markdown",
   "metadata": {
    "id": "_E5rnFehXSls"
   },
   "source": [
    "As we can see, the direct application of our model produced much worse results. Pinecone's similarity search over the same model's embeddings improved our threat detection (i.e., \"Attack\") accuracy by over 50%!"
   ]
  },
  {
   "cell_type": "markdown",
   "metadata": {
    "id": "OiT0JgQxktOC"
   },
   "source": [
    "### Result summary"
   ]
  },
  {
   "cell_type": "markdown",
   "metadata": {
    "id": "UBBv6-dnfEeX"
   },
   "source": [
    "Using standard vector embeddings with Pinecone's similarity search service, we detected 85% of the attacks while keeping a low 3% false-positive rate. We also showed that our similarity search approach outperforms the direct classification approach that utilizes the classifier's embedding model. Similarity search-based detection gained 50% higher accuracy compared to the direct detector.\n",
    "\n",
    "[Original published results](https://github.com/rambasnet/DeepLearning-IDS/blob/master/graphics/confusion_matrices/) for 02-22-2018 show that the model was able to correctly detect 208520 benign cases out of 208520 benign cases, and 24 (18+1+5) attacks out of 70 attacks in the test set making this model **34.3% accurate in predicting attacks**. For testing purposes, 20% of the data for 02-22-2018 was used. \n",
    "\n",
    "![02-22-2018--6-15%281%29.png](https://raw.githubusercontent.com/rambasnet/DeepLearning-IDS/master/graphics/confusion_matrices/02-22-2018--6-15(1).png)\n",
    "\n",
    "As you can see, the model's performance for creating embeddings for Pinecone was much higher. \n",
    "\n",
    "The model we have created follows the academic paper ([model for the same date](https://github.com/rambasnet/DeepLearning-IDS/blob/master/keras_tensorflow_models/) (02-23-2018)) and is slightly modified, but still a straightforward, sequential, shallow model. We have changed the number of classes from four (Benign, BruteForce-Web, BruteForce-XSS, SQL-Injection) to two (Benign and Attack), only interested in whether we are detecting an attack or not. We have also changed validation metrics to precision and recall. These changes improved our results. Yet, there is still room for further improvements, for example, by adding more data covering multiple days and different types of attacks."
   ]
  },
  {
   "cell_type": "markdown",
   "metadata": {
    "id": "JdZcEl1pfEeX"
   },
   "source": [
    "## Delete the Index"
   ]
  },
  {
   "cell_type": "markdown",
   "metadata": {
    "id": "hyxLeOnSfEeX"
   },
   "source": [
    "Delete the index once you are sure that you do not want to use it anymore. Once it is deleted, you cannot reuse it."
   ]
  },
  {
   "cell_type": "code",
   "execution_count": 33,
   "metadata": {
    "colab": {
     "base_uri": "https://localhost:8080/",
     "height": 67,
     "referenced_widgets": [
      "cc838968f1b647c2a5cfc4ac174c3d25",
      "a175e1061bcd419bae56a9a18063861e",
      "50421aeb2a2c45dfb1908d5e23b08009",
      "aa164fa81fe84c7a9ea3915ccf90d143",
      "da2d3dc84d124fcf9ebf77affe4d5563",
      "c3d254d6905b46a0a0ab1e7237441690",
      "eaf9d1e8189f498e8f9c861e3c45a08a",
      "86e7081d4a22467a9fd6d4c58763d4da",
      "d77edc88471445e5a2a18f25f4c0ab86",
      "9038fa17e09740ab981c1690ca8b8258",
      "3a3991fbe1e647eb8ea4d772c2fbdc66"
     ]
    },
    "id": "ywvaJrVkfEeX",
    "outputId": "6f88cddd-1b9a-40f7-8387-93a70a6aa824"
   },
   "outputs": [
    {
     "data": {
      "application/vnd.jupyter.widget-view+json": {
       "model_id": "cc838968f1b647c2a5cfc4ac174c3d25",
       "version_major": 2,
       "version_minor": 0
      },
      "text/plain": [
       "  0%|          | 0/1 [00:00<?, ?it/s]"
      ]
     },
     "metadata": {
      "tags": []
     },
     "output_type": "display_data"
    },
    {
     "data": {
      "text/plain": [
       "{'success': True}"
      ]
     },
     "execution_count": 33,
     "metadata": {
      "tags": []
     },
     "output_type": "execute_result"
    }
   ],
   "source": [
    "pinecone.delete_index(index_name)"
   ]
  }
 ],
 "metadata": {
  "accelerator": "TPU",
  "colab": {
   "collapsed_sections": [],
   "machine_shape": "hm",
   "name": "it_threat_detection.ipynb",
   "provenance": []
  },
  "environment": {
   "name": "tf2-gpu.2-3.m65",
   "type": "gcloud",
   "uri": "gcr.io/deeplearning-platform-release/tf2-gpu.2-3:m65"
  },
  "kernelspec": {
   "display_name": "Python 3",
   "language": "python",
   "name": "python3"
  },
  "language_info": {
   "codemirror_mode": {
    "name": "ipython",
    "version": 3
   },
   "file_extension": ".py",
   "mimetype": "text/x-python",
   "name": "python",
   "nbconvert_exporter": "python",
   "pygments_lexer": "ipython3",
   "version": "3.7.9"
  },
  "widgets": {
   "application/vnd.jupyter.widget-state+json": {
    "00834059b11d44e8aff51dfd81b79b76": {
     "model_module": "@jupyter-widgets/controls",
     "model_name": "ProgressStyleModel",
     "state": {
      "_model_module": "@jupyter-widgets/controls",
      "_model_module_version": "1.5.0",
      "_model_name": "ProgressStyleModel",
      "_view_count": null,
      "_view_module": "@jupyter-widgets/base",
      "_view_module_version": "1.2.0",
      "_view_name": "StyleView",
      "bar_color": null,
      "description_width": ""
     }
    },
    "01f90f65599b492998fac7cba60e3296": {
     "model_module": "@jupyter-widgets/controls",
     "model_name": "FloatProgressModel",
     "state": {
      "_dom_classes": [],
      "_model_module": "@jupyter-widgets/controls",
      "_model_module_version": "1.5.0",
      "_model_name": "FloatProgressModel",
      "_view_count": null,
      "_view_module": "@jupyter-widgets/controls",
      "_view_module_version": "1.5.0",
      "_view_name": "ProgressView",
      "bar_style": "success",
      "description": "",
      "description_tooltip": null,
      "layout": "IPY_MODEL_f343e628b4ea4d779904cc40785558f5",
      "max": 1,
      "min": 0,
      "orientation": "horizontal",
      "style": "IPY_MODEL_00834059b11d44e8aff51dfd81b79b76",
      "value": 1
     }
    },
    "15338366c93b4171aab59d5b89146a39": {
     "model_module": "@jupyter-widgets/base",
     "model_name": "LayoutModel",
     "state": {
      "_model_module": "@jupyter-widgets/base",
      "_model_module_version": "1.2.0",
      "_model_name": "LayoutModel",
      "_view_count": null,
      "_view_module": "@jupyter-widgets/base",
      "_view_module_version": "1.2.0",
      "_view_name": "LayoutView",
      "align_content": null,
      "align_items": null,
      "align_self": null,
      "border": null,
      "bottom": null,
      "display": null,
      "flex": null,
      "flex_flow": null,
      "grid_area": null,
      "grid_auto_columns": null,
      "grid_auto_flow": null,
      "grid_auto_rows": null,
      "grid_column": null,
      "grid_gap": null,
      "grid_row": null,
      "grid_template_areas": null,
      "grid_template_columns": null,
      "grid_template_rows": null,
      "height": null,
      "justify_content": null,
      "justify_items": null,
      "left": null,
      "margin": null,
      "max_height": null,
      "max_width": null,
      "min_height": null,
      "min_width": null,
      "object_fit": null,
      "object_position": null,
      "order": null,
      "overflow": null,
      "overflow_x": null,
      "overflow_y": null,
      "padding": null,
      "right": null,
      "top": null,
      "visibility": null,
      "width": null
     }
    },
    "1876ab9b77f94943a170e375c20f25b8": {
     "model_module": "@jupyter-widgets/controls",
     "model_name": "HBoxModel",
     "state": {
      "_dom_classes": [],
      "_model_module": "@jupyter-widgets/controls",
      "_model_module_version": "1.5.0",
      "_model_name": "HBoxModel",
      "_view_count": null,
      "_view_module": "@jupyter-widgets/controls",
      "_view_module_version": "1.5.0",
      "_view_name": "HBoxView",
      "box_style": "",
      "children": [
       "IPY_MODEL_edc565ea0d754f60a006bbf4b8c592d7",
       "IPY_MODEL_78f9ff9397904f25a94c13eb0386c41d",
       "IPY_MODEL_9f3e71b7cf2c4132ba0d61aa212cad3c"
      ],
      "layout": "IPY_MODEL_fbea5d5c67034bdaa3dd45745f75fae9"
     }
    },
    "25ac309f2f5d43169ed0bda88300c8d2": {
     "model_module": "@jupyter-widgets/base",
     "model_name": "LayoutModel",
     "state": {
      "_model_module": "@jupyter-widgets/base",
      "_model_module_version": "1.2.0",
      "_model_name": "LayoutModel",
      "_view_count": null,
      "_view_module": "@jupyter-widgets/base",
      "_view_module_version": "1.2.0",
      "_view_name": "LayoutView",
      "align_content": null,
      "align_items": null,
      "align_self": null,
      "border": null,
      "bottom": null,
      "display": null,
      "flex": null,
      "flex_flow": null,
      "grid_area": null,
      "grid_auto_columns": null,
      "grid_auto_flow": null,
      "grid_auto_rows": null,
      "grid_column": null,
      "grid_gap": null,
      "grid_row": null,
      "grid_template_areas": null,
      "grid_template_columns": null,
      "grid_template_rows": null,
      "height": null,
      "justify_content": null,
      "justify_items": null,
      "left": null,
      "margin": null,
      "max_height": null,
      "max_width": null,
      "min_height": null,
      "min_width": null,
      "object_fit": null,
      "object_position": null,
      "order": null,
      "overflow": null,
      "overflow_x": null,
      "overflow_y": null,
      "padding": null,
      "right": null,
      "top": null,
      "visibility": null,
      "width": null
     }
    },
    "25ccfa825e2a4f54856bbf9f50b711f5": {
     "model_module": "@jupyter-widgets/controls",
     "model_name": "DescriptionStyleModel",
     "state": {
      "_model_module": "@jupyter-widgets/controls",
      "_model_module_version": "1.5.0",
      "_model_name": "DescriptionStyleModel",
      "_view_count": null,
      "_view_module": "@jupyter-widgets/base",
      "_view_module_version": "1.2.0",
      "_view_name": "StyleView",
      "description_width": ""
     }
    },
    "3586c81ff82048ed80d69b7a4b5bd6b3": {
     "model_module": "@jupyter-widgets/controls",
     "model_name": "DescriptionStyleModel",
     "state": {
      "_model_module": "@jupyter-widgets/controls",
      "_model_module_version": "1.5.0",
      "_model_name": "DescriptionStyleModel",
      "_view_count": null,
      "_view_module": "@jupyter-widgets/base",
      "_view_module_version": "1.2.0",
      "_view_name": "StyleView",
      "description_width": ""
     }
    },
    "3a3991fbe1e647eb8ea4d772c2fbdc66": {
     "model_module": "@jupyter-widgets/base",
     "model_name": "LayoutModel",
     "state": {
      "_model_module": "@jupyter-widgets/base",
      "_model_module_version": "1.2.0",
      "_model_name": "LayoutModel",
      "_view_count": null,
      "_view_module": "@jupyter-widgets/base",
      "_view_module_version": "1.2.0",
      "_view_name": "LayoutView",
      "align_content": null,
      "align_items": null,
      "align_self": null,
      "border": null,
      "bottom": null,
      "display": null,
      "flex": null,
      "flex_flow": null,
      "grid_area": null,
      "grid_auto_columns": null,
      "grid_auto_flow": null,
      "grid_auto_rows": null,
      "grid_column": null,
      "grid_gap": null,
      "grid_row": null,
      "grid_template_areas": null,
      "grid_template_columns": null,
      "grid_template_rows": null,
      "height": null,
      "justify_content": null,
      "justify_items": null,
      "left": null,
      "margin": null,
      "max_height": null,
      "max_width": null,
      "min_height": null,
      "min_width": null,
      "object_fit": null,
      "object_position": null,
      "order": null,
      "overflow": null,
      "overflow_x": null,
      "overflow_y": null,
      "padding": null,
      "right": null,
      "top": null,
      "visibility": null,
      "width": null
     }
    },
    "3db0b4717ac140b78bf7d75e7ebeaf39": {
     "model_module": "@jupyter-widgets/base",
     "model_name": "LayoutModel",
     "state": {
      "_model_module": "@jupyter-widgets/base",
      "_model_module_version": "1.2.0",
      "_model_name": "LayoutModel",
      "_view_count": null,
      "_view_module": "@jupyter-widgets/base",
      "_view_module_version": "1.2.0",
      "_view_name": "LayoutView",
      "align_content": null,
      "align_items": null,
      "align_self": null,
      "border": null,
      "bottom": null,
      "display": null,
      "flex": null,
      "flex_flow": null,
      "grid_area": null,
      "grid_auto_columns": null,
      "grid_auto_flow": null,
      "grid_auto_rows": null,
      "grid_column": null,
      "grid_gap": null,
      "grid_row": null,
      "grid_template_areas": null,
      "grid_template_columns": null,
      "grid_template_rows": null,
      "height": null,
      "justify_content": null,
      "justify_items": null,
      "left": null,
      "margin": null,
      "max_height": null,
      "max_width": null,
      "min_height": null,
      "min_width": null,
      "object_fit": null,
      "object_position": null,
      "order": null,
      "overflow": null,
      "overflow_x": null,
      "overflow_y": null,
      "padding": null,
      "right": null,
      "top": null,
      "visibility": null,
      "width": "20px"
     }
    },
    "437ba485a41740aa8d45a0c246895543": {
     "model_module": "@jupyter-widgets/controls",
     "model_name": "HTMLModel",
     "state": {
      "_dom_classes": [],
      "_model_module": "@jupyter-widgets/controls",
      "_model_module_version": "1.5.0",
      "_model_name": "HTMLModel",
      "_view_count": null,
      "_view_module": "@jupyter-widgets/controls",
      "_view_module_version": "1.5.0",
      "_view_name": "HTMLView",
      "description": "",
      "description_tooltip": null,
      "layout": "IPY_MODEL_ab54793cc8cf458e89bd928f439026cf",
      "placeholder": "​",
      "style": "IPY_MODEL_772cd2dfabf4483d94506258db5f914b",
      "value": ""
     }
    },
    "4dd1c479f44b46dfbce48d09ee6d77ca": {
     "model_module": "@jupyter-widgets/base",
     "model_name": "LayoutModel",
     "state": {
      "_model_module": "@jupyter-widgets/base",
      "_model_module_version": "1.2.0",
      "_model_name": "LayoutModel",
      "_view_count": null,
      "_view_module": "@jupyter-widgets/base",
      "_view_module_version": "1.2.0",
      "_view_name": "LayoutView",
      "align_content": null,
      "align_items": null,
      "align_self": null,
      "border": null,
      "bottom": null,
      "display": null,
      "flex": null,
      "flex_flow": null,
      "grid_area": null,
      "grid_auto_columns": null,
      "grid_auto_flow": null,
      "grid_auto_rows": null,
      "grid_column": null,
      "grid_gap": null,
      "grid_row": null,
      "grid_template_areas": null,
      "grid_template_columns": null,
      "grid_template_rows": null,
      "height": null,
      "justify_content": null,
      "justify_items": null,
      "left": null,
      "margin": null,
      "max_height": null,
      "max_width": null,
      "min_height": null,
      "min_width": null,
      "object_fit": null,
      "object_position": null,
      "order": null,
      "overflow": null,
      "overflow_x": null,
      "overflow_y": null,
      "padding": null,
      "right": null,
      "top": null,
      "visibility": null,
      "width": null
     }
    },
    "50421aeb2a2c45dfb1908d5e23b08009": {
     "model_module": "@jupyter-widgets/controls",
     "model_name": "HTMLModel",
     "state": {
      "_dom_classes": [],
      "_model_module": "@jupyter-widgets/controls",
      "_model_module_version": "1.5.0",
      "_model_name": "HTMLModel",
      "_view_count": null,
      "_view_module": "@jupyter-widgets/controls",
      "_view_module_version": "1.5.0",
      "_view_name": "HTMLView",
      "description": "",
      "description_tooltip": null,
      "layout": "IPY_MODEL_eaf9d1e8189f498e8f9c861e3c45a08a",
      "placeholder": "​",
      "style": "IPY_MODEL_c3d254d6905b46a0a0ab1e7237441690",
      "value": "100%"
     }
    },
    "567d04116b1b4d21bac2348535b750a0": {
     "model_module": "@jupyter-widgets/controls",
     "model_name": "HBoxModel",
     "state": {
      "_dom_classes": [],
      "_model_module": "@jupyter-widgets/controls",
      "_model_module_version": "1.5.0",
      "_model_name": "HBoxModel",
      "_view_count": null,
      "_view_module": "@jupyter-widgets/controls",
      "_view_module_version": "1.5.0",
      "_view_name": "HBoxView",
      "box_style": "",
      "children": [
       "IPY_MODEL_8fe529938a4f40ac905e145e423d856e",
       "IPY_MODEL_a4b449113a734e90825bc1ef87ca3d3c",
       "IPY_MODEL_cda25dc5f86344b3850c92e59085c06c"
      ],
      "layout": "IPY_MODEL_8f92a228cbc54b30bcb22d0598e9577f"
     }
    },
    "5c64d617d0d94a6a9797d20f0d1e80f3": {
     "model_module": "@jupyter-widgets/controls",
     "model_name": "DescriptionStyleModel",
     "state": {
      "_model_module": "@jupyter-widgets/controls",
      "_model_module_version": "1.5.0",
      "_model_name": "DescriptionStyleModel",
      "_view_count": null,
      "_view_module": "@jupyter-widgets/base",
      "_view_module_version": "1.2.0",
      "_view_name": "StyleView",
      "description_width": ""
     }
    },
    "6b3a8f0e415443c991217e143bff68f8": {
     "model_module": "@jupyter-widgets/controls",
     "model_name": "ProgressStyleModel",
     "state": {
      "_model_module": "@jupyter-widgets/controls",
      "_model_module_version": "1.5.0",
      "_model_name": "ProgressStyleModel",
      "_view_count": null,
      "_view_module": "@jupyter-widgets/base",
      "_view_module_version": "1.2.0",
      "_view_name": "StyleView",
      "bar_color": null,
      "description_width": ""
     }
    },
    "772cd2dfabf4483d94506258db5f914b": {
     "model_module": "@jupyter-widgets/controls",
     "model_name": "DescriptionStyleModel",
     "state": {
      "_model_module": "@jupyter-widgets/controls",
      "_model_module_version": "1.5.0",
      "_model_name": "DescriptionStyleModel",
      "_view_count": null,
      "_view_module": "@jupyter-widgets/base",
      "_view_module_version": "1.2.0",
      "_view_name": "StyleView",
      "description_width": ""
     }
    },
    "78f9ff9397904f25a94c13eb0386c41d": {
     "model_module": "@jupyter-widgets/controls",
     "model_name": "FloatProgressModel",
     "state": {
      "_dom_classes": [],
      "_model_module": "@jupyter-widgets/controls",
      "_model_module_version": "1.5.0",
      "_model_name": "FloatProgressModel",
      "_view_count": null,
      "_view_module": "@jupyter-widgets/controls",
      "_view_module_version": "1.5.0",
      "_view_name": "ProgressView",
      "bar_style": "success",
      "description": "",
      "description_tooltip": null,
      "layout": "IPY_MODEL_c10e38d87c084b3ea61eb6ea20066604",
      "max": 4,
      "min": 0,
      "orientation": "horizontal",
      "style": "IPY_MODEL_6b3a8f0e415443c991217e143bff68f8",
      "value": 4
     }
    },
    "7cd773b15c7f47688620a499d128ea0c": {
     "model_module": "@jupyter-widgets/controls",
     "model_name": "HTMLModel",
     "state": {
      "_dom_classes": [],
      "_model_module": "@jupyter-widgets/controls",
      "_model_module_version": "1.5.0",
      "_model_name": "HTMLModel",
      "_view_count": null,
      "_view_module": "@jupyter-widgets/controls",
      "_view_module_version": "1.5.0",
      "_view_name": "HTMLView",
      "description": "",
      "description_tooltip": null,
      "layout": "IPY_MODEL_15338366c93b4171aab59d5b89146a39",
      "placeholder": "​",
      "style": "IPY_MODEL_b95fa83949fe419c9c6a70e2fe1d1a7f",
      "value": " 1042867/? [00:37&lt;00:00, 31202.81it/s]"
     }
    },
    "7f2cabefd9eb4674a63ef3d56a5be122": {
     "model_module": "@jupyter-widgets/base",
     "model_name": "LayoutModel",
     "state": {
      "_model_module": "@jupyter-widgets/base",
      "_model_module_version": "1.2.0",
      "_model_name": "LayoutModel",
      "_view_count": null,
      "_view_module": "@jupyter-widgets/base",
      "_view_module_version": "1.2.0",
      "_view_name": "LayoutView",
      "align_content": null,
      "align_items": null,
      "align_self": null,
      "border": null,
      "bottom": null,
      "display": null,
      "flex": null,
      "flex_flow": null,
      "grid_area": null,
      "grid_auto_columns": null,
      "grid_auto_flow": null,
      "grid_auto_rows": null,
      "grid_column": null,
      "grid_gap": null,
      "grid_row": null,
      "grid_template_areas": null,
      "grid_template_columns": null,
      "grid_template_rows": null,
      "height": null,
      "justify_content": null,
      "justify_items": null,
      "left": null,
      "margin": null,
      "max_height": null,
      "max_width": null,
      "min_height": null,
      "min_width": null,
      "object_fit": null,
      "object_position": null,
      "order": null,
      "overflow": null,
      "overflow_x": null,
      "overflow_y": null,
      "padding": null,
      "right": null,
      "top": null,
      "visibility": null,
      "width": "20px"
     }
    },
    "86e7081d4a22467a9fd6d4c58763d4da": {
     "model_module": "@jupyter-widgets/controls",
     "model_name": "ProgressStyleModel",
     "state": {
      "_model_module": "@jupyter-widgets/controls",
      "_model_module_version": "1.5.0",
      "_model_name": "ProgressStyleModel",
      "_view_count": null,
      "_view_module": "@jupyter-widgets/base",
      "_view_module_version": "1.2.0",
      "_view_name": "StyleView",
      "bar_color": null,
      "description_width": ""
     }
    },
    "87b4d4b12452401cb82285364dae3576": {
     "model_module": "@jupyter-widgets/controls",
     "model_name": "HTMLModel",
     "state": {
      "_dom_classes": [],
      "_model_module": "@jupyter-widgets/controls",
      "_model_module_version": "1.5.0",
      "_model_name": "HTMLModel",
      "_view_count": null,
      "_view_module": "@jupyter-widgets/controls",
      "_view_module_version": "1.5.0",
      "_view_name": "HTMLView",
      "description": "",
      "description_tooltip": null,
      "layout": "IPY_MODEL_25ac309f2f5d43169ed0bda88300c8d2",
      "placeholder": "​",
      "style": "IPY_MODEL_5c64d617d0d94a6a9797d20f0d1e80f3",
      "value": ""
     }
    },
    "8a60896e0288471a91089a03a75b210b": {
     "model_module": "@jupyter-widgets/controls",
     "model_name": "FloatProgressModel",
     "state": {
      "_dom_classes": [],
      "_model_module": "@jupyter-widgets/controls",
      "_model_module_version": "1.5.0",
      "_model_name": "FloatProgressModel",
      "_view_count": null,
      "_view_module": "@jupyter-widgets/controls",
      "_view_module_version": "1.5.0",
      "_view_name": "ProgressView",
      "bar_style": "success",
      "description": "",
      "description_tooltip": null,
      "layout": "IPY_MODEL_3db0b4717ac140b78bf7d75e7ebeaf39",
      "max": 1,
      "min": 0,
      "orientation": "horizontal",
      "style": "IPY_MODEL_9ebe5f94bbb743058602c9af26cd4eaf",
      "value": 1
     }
    },
    "8f92a228cbc54b30bcb22d0598e9577f": {
     "model_module": "@jupyter-widgets/base",
     "model_name": "LayoutModel",
     "state": {
      "_model_module": "@jupyter-widgets/base",
      "_model_module_version": "1.2.0",
      "_model_name": "LayoutModel",
      "_view_count": null,
      "_view_module": "@jupyter-widgets/base",
      "_view_module_version": "1.2.0",
      "_view_name": "LayoutView",
      "align_content": null,
      "align_items": null,
      "align_self": null,
      "border": null,
      "bottom": null,
      "display": null,
      "flex": null,
      "flex_flow": null,
      "grid_area": null,
      "grid_auto_columns": null,
      "grid_auto_flow": null,
      "grid_auto_rows": null,
      "grid_column": null,
      "grid_gap": null,
      "grid_row": null,
      "grid_template_areas": null,
      "grid_template_columns": null,
      "grid_template_rows": null,
      "height": null,
      "justify_content": null,
      "justify_items": null,
      "left": null,
      "margin": null,
      "max_height": null,
      "max_width": null,
      "min_height": null,
      "min_width": null,
      "object_fit": null,
      "object_position": null,
      "order": null,
      "overflow": null,
      "overflow_x": null,
      "overflow_y": null,
      "padding": null,
      "right": null,
      "top": null,
      "visibility": null,
      "width": null
     }
    },
    "8fe529938a4f40ac905e145e423d856e": {
     "model_module": "@jupyter-widgets/controls",
     "model_name": "HTMLModel",
     "state": {
      "_dom_classes": [],
      "_model_module": "@jupyter-widgets/controls",
      "_model_module_version": "1.5.0",
      "_model_name": "HTMLModel",
      "_view_count": null,
      "_view_module": "@jupyter-widgets/controls",
      "_view_module_version": "1.5.0",
      "_view_name": "HTMLView",
      "description": "",
      "description_tooltip": null,
      "layout": "IPY_MODEL_c427de521f054c4997d69586251bed4f",
      "placeholder": "​",
      "style": "IPY_MODEL_3586c81ff82048ed80d69b7a4b5bd6b3",
      "value": ""
     }
    },
    "9038fa17e09740ab981c1690ca8b8258": {
     "model_module": "@jupyter-widgets/controls",
     "model_name": "DescriptionStyleModel",
     "state": {
      "_model_module": "@jupyter-widgets/controls",
      "_model_module_version": "1.5.0",
      "_model_name": "DescriptionStyleModel",
      "_view_count": null,
      "_view_module": "@jupyter-widgets/base",
      "_view_module_version": "1.2.0",
      "_view_name": "StyleView",
      "description_width": ""
     }
    },
    "90d8d1d9da814d90b0f0bf331102d4df": {
     "model_module": "@jupyter-widgets/controls",
     "model_name": "ProgressStyleModel",
     "state": {
      "_model_module": "@jupyter-widgets/controls",
      "_model_module_version": "1.5.0",
      "_model_name": "ProgressStyleModel",
      "_view_count": null,
      "_view_module": "@jupyter-widgets/base",
      "_view_module_version": "1.2.0",
      "_view_name": "StyleView",
      "bar_color": null,
      "description_width": ""
     }
    },
    "9ebe5f94bbb743058602c9af26cd4eaf": {
     "model_module": "@jupyter-widgets/controls",
     "model_name": "ProgressStyleModel",
     "state": {
      "_model_module": "@jupyter-widgets/controls",
      "_model_module_version": "1.5.0",
      "_model_name": "ProgressStyleModel",
      "_view_count": null,
      "_view_module": "@jupyter-widgets/base",
      "_view_module_version": "1.2.0",
      "_view_name": "StyleView",
      "bar_color": null,
      "description_width": ""
     }
    },
    "9f3e71b7cf2c4132ba0d61aa212cad3c": {
     "model_module": "@jupyter-widgets/controls",
     "model_name": "HTMLModel",
     "state": {
      "_dom_classes": [],
      "_model_module": "@jupyter-widgets/controls",
      "_model_module_version": "1.5.0",
      "_model_name": "HTMLModel",
      "_view_count": null,
      "_view_module": "@jupyter-widgets/controls",
      "_view_module_version": "1.5.0",
      "_view_name": "HTMLView",
      "description": "",
      "description_tooltip": null,
      "layout": "IPY_MODEL_cc4c125134e54d7185b3f558148e5445",
      "placeholder": "​",
      "style": "IPY_MODEL_f1d1ac6ad72a41f1a8278f2e0faccb70",
      "value": " 4/4 [00:15&lt;00:00,  4.48s/it]"
     }
    },
    "a175e1061bcd419bae56a9a18063861e": {
     "model_module": "@jupyter-widgets/base",
     "model_name": "LayoutModel",
     "state": {
      "_model_module": "@jupyter-widgets/base",
      "_model_module_version": "1.2.0",
      "_model_name": "LayoutModel",
      "_view_count": null,
      "_view_module": "@jupyter-widgets/base",
      "_view_module_version": "1.2.0",
      "_view_name": "LayoutView",
      "align_content": null,
      "align_items": null,
      "align_self": null,
      "border": null,
      "bottom": null,
      "display": null,
      "flex": null,
      "flex_flow": null,
      "grid_area": null,
      "grid_auto_columns": null,
      "grid_auto_flow": null,
      "grid_auto_rows": null,
      "grid_column": null,
      "grid_gap": null,
      "grid_row": null,
      "grid_template_areas": null,
      "grid_template_columns": null,
      "grid_template_rows": null,
      "height": null,
      "justify_content": null,
      "justify_items": null,
      "left": null,
      "margin": null,
      "max_height": null,
      "max_width": null,
      "min_height": null,
      "min_width": null,
      "object_fit": null,
      "object_position": null,
      "order": null,
      "overflow": null,
      "overflow_x": null,
      "overflow_y": null,
      "padding": null,
      "right": null,
      "top": null,
      "visibility": null,
      "width": null
     }
    },
    "a4b449113a734e90825bc1ef87ca3d3c": {
     "model_module": "@jupyter-widgets/controls",
     "model_name": "FloatProgressModel",
     "state": {
      "_dom_classes": [],
      "_model_module": "@jupyter-widgets/controls",
      "_model_module_version": "1.5.0",
      "_model_name": "FloatProgressModel",
      "_view_count": null,
      "_view_module": "@jupyter-widgets/controls",
      "_view_module_version": "1.5.0",
      "_view_name": "ProgressView",
      "bar_style": "success",
      "description": "",
      "description_tooltip": null,
      "layout": "IPY_MODEL_7f2cabefd9eb4674a63ef3d56a5be122",
      "max": 1,
      "min": 0,
      "orientation": "horizontal",
      "style": "IPY_MODEL_90d8d1d9da814d90b0f0bf331102d4df",
      "value": 1
     }
    },
    "aa164fa81fe84c7a9ea3915ccf90d143": {
     "model_module": "@jupyter-widgets/controls",
     "model_name": "FloatProgressModel",
     "state": {
      "_dom_classes": [],
      "_model_module": "@jupyter-widgets/controls",
      "_model_module_version": "1.5.0",
      "_model_name": "FloatProgressModel",
      "_view_count": null,
      "_view_module": "@jupyter-widgets/controls",
      "_view_module_version": "1.5.0",
      "_view_name": "ProgressView",
      "bar_style": "success",
      "description": "",
      "description_tooltip": null,
      "layout": "IPY_MODEL_d77edc88471445e5a2a18f25f4c0ab86",
      "max": 1,
      "min": 0,
      "orientation": "horizontal",
      "style": "IPY_MODEL_86e7081d4a22467a9fd6d4c58763d4da",
      "value": 1
     }
    },
    "ab54793cc8cf458e89bd928f439026cf": {
     "model_module": "@jupyter-widgets/base",
     "model_name": "LayoutModel",
     "state": {
      "_model_module": "@jupyter-widgets/base",
      "_model_module_version": "1.2.0",
      "_model_name": "LayoutModel",
      "_view_count": null,
      "_view_module": "@jupyter-widgets/base",
      "_view_module_version": "1.2.0",
      "_view_name": "LayoutView",
      "align_content": null,
      "align_items": null,
      "align_self": null,
      "border": null,
      "bottom": null,
      "display": null,
      "flex": null,
      "flex_flow": null,
      "grid_area": null,
      "grid_auto_columns": null,
      "grid_auto_flow": null,
      "grid_auto_rows": null,
      "grid_column": null,
      "grid_gap": null,
      "grid_row": null,
      "grid_template_areas": null,
      "grid_template_columns": null,
      "grid_template_rows": null,
      "height": null,
      "justify_content": null,
      "justify_items": null,
      "left": null,
      "margin": null,
      "max_height": null,
      "max_width": null,
      "min_height": null,
      "min_width": null,
      "object_fit": null,
      "object_position": null,
      "order": null,
      "overflow": null,
      "overflow_x": null,
      "overflow_y": null,
      "padding": null,
      "right": null,
      "top": null,
      "visibility": null,
      "width": null
     }
    },
    "ad0950997e4741eab1765265f2c42382": {
     "model_module": "@jupyter-widgets/controls",
     "model_name": "HBoxModel",
     "state": {
      "_dom_classes": [],
      "_model_module": "@jupyter-widgets/controls",
      "_model_module_version": "1.5.0",
      "_model_name": "HBoxModel",
      "_view_count": null,
      "_view_module": "@jupyter-widgets/controls",
      "_view_module_version": "1.5.0",
      "_view_name": "HBoxView",
      "box_style": "",
      "children": [
       "IPY_MODEL_437ba485a41740aa8d45a0c246895543",
       "IPY_MODEL_01f90f65599b492998fac7cba60e3296",
       "IPY_MODEL_7cd773b15c7f47688620a499d128ea0c"
      ],
      "layout": "IPY_MODEL_b327f9d4bcc846178036ba6ca2f5f474"
     }
    },
    "aef6058200fa454c90f51760685e25db": {
     "model_module": "@jupyter-widgets/base",
     "model_name": "LayoutModel",
     "state": {
      "_model_module": "@jupyter-widgets/base",
      "_model_module_version": "1.2.0",
      "_model_name": "LayoutModel",
      "_view_count": null,
      "_view_module": "@jupyter-widgets/base",
      "_view_module_version": "1.2.0",
      "_view_name": "LayoutView",
      "align_content": null,
      "align_items": null,
      "align_self": null,
      "border": null,
      "bottom": null,
      "display": null,
      "flex": null,
      "flex_flow": null,
      "grid_area": null,
      "grid_auto_columns": null,
      "grid_auto_flow": null,
      "grid_auto_rows": null,
      "grid_column": null,
      "grid_gap": null,
      "grid_row": null,
      "grid_template_areas": null,
      "grid_template_columns": null,
      "grid_template_rows": null,
      "height": null,
      "justify_content": null,
      "justify_items": null,
      "left": null,
      "margin": null,
      "max_height": null,
      "max_width": null,
      "min_height": null,
      "min_width": null,
      "object_fit": null,
      "object_position": null,
      "order": null,
      "overflow": null,
      "overflow_x": null,
      "overflow_y": null,
      "padding": null,
      "right": null,
      "top": null,
      "visibility": null,
      "width": null
     }
    },
    "b327f9d4bcc846178036ba6ca2f5f474": {
     "model_module": "@jupyter-widgets/base",
     "model_name": "LayoutModel",
     "state": {
      "_model_module": "@jupyter-widgets/base",
      "_model_module_version": "1.2.0",
      "_model_name": "LayoutModel",
      "_view_count": null,
      "_view_module": "@jupyter-widgets/base",
      "_view_module_version": "1.2.0",
      "_view_name": "LayoutView",
      "align_content": null,
      "align_items": null,
      "align_self": null,
      "border": null,
      "bottom": null,
      "display": null,
      "flex": null,
      "flex_flow": null,
      "grid_area": null,
      "grid_auto_columns": null,
      "grid_auto_flow": null,
      "grid_auto_rows": null,
      "grid_column": null,
      "grid_gap": null,
      "grid_row": null,
      "grid_template_areas": null,
      "grid_template_columns": null,
      "grid_template_rows": null,
      "height": null,
      "justify_content": null,
      "justify_items": null,
      "left": null,
      "margin": null,
      "max_height": null,
      "max_width": null,
      "min_height": null,
      "min_width": null,
      "object_fit": null,
      "object_position": null,
      "order": null,
      "overflow": null,
      "overflow_x": null,
      "overflow_y": null,
      "padding": null,
      "right": null,
      "top": null,
      "visibility": null,
      "width": null
     }
    },
    "b95fa83949fe419c9c6a70e2fe1d1a7f": {
     "model_module": "@jupyter-widgets/controls",
     "model_name": "DescriptionStyleModel",
     "state": {
      "_model_module": "@jupyter-widgets/controls",
      "_model_module_version": "1.5.0",
      "_model_name": "DescriptionStyleModel",
      "_view_count": null,
      "_view_module": "@jupyter-widgets/base",
      "_view_module_version": "1.2.0",
      "_view_name": "StyleView",
      "description_width": ""
     }
    },
    "c10e38d87c084b3ea61eb6ea20066604": {
     "model_module": "@jupyter-widgets/base",
     "model_name": "LayoutModel",
     "state": {
      "_model_module": "@jupyter-widgets/base",
      "_model_module_version": "1.2.0",
      "_model_name": "LayoutModel",
      "_view_count": null,
      "_view_module": "@jupyter-widgets/base",
      "_view_module_version": "1.2.0",
      "_view_name": "LayoutView",
      "align_content": null,
      "align_items": null,
      "align_self": null,
      "border": null,
      "bottom": null,
      "display": null,
      "flex": null,
      "flex_flow": null,
      "grid_area": null,
      "grid_auto_columns": null,
      "grid_auto_flow": null,
      "grid_auto_rows": null,
      "grid_column": null,
      "grid_gap": null,
      "grid_row": null,
      "grid_template_areas": null,
      "grid_template_columns": null,
      "grid_template_rows": null,
      "height": null,
      "justify_content": null,
      "justify_items": null,
      "left": null,
      "margin": null,
      "max_height": null,
      "max_width": null,
      "min_height": null,
      "min_width": null,
      "object_fit": null,
      "object_position": null,
      "order": null,
      "overflow": null,
      "overflow_x": null,
      "overflow_y": null,
      "padding": null,
      "right": null,
      "top": null,
      "visibility": null,
      "width": null
     }
    },
    "c3d254d6905b46a0a0ab1e7237441690": {
     "model_module": "@jupyter-widgets/controls",
     "model_name": "DescriptionStyleModel",
     "state": {
      "_model_module": "@jupyter-widgets/controls",
      "_model_module_version": "1.5.0",
      "_model_name": "DescriptionStyleModel",
      "_view_count": null,
      "_view_module": "@jupyter-widgets/base",
      "_view_module_version": "1.2.0",
      "_view_name": "StyleView",
      "description_width": ""
     }
    },
    "c427de521f054c4997d69586251bed4f": {
     "model_module": "@jupyter-widgets/base",
     "model_name": "LayoutModel",
     "state": {
      "_model_module": "@jupyter-widgets/base",
      "_model_module_version": "1.2.0",
      "_model_name": "LayoutModel",
      "_view_count": null,
      "_view_module": "@jupyter-widgets/base",
      "_view_module_version": "1.2.0",
      "_view_name": "LayoutView",
      "align_content": null,
      "align_items": null,
      "align_self": null,
      "border": null,
      "bottom": null,
      "display": null,
      "flex": null,
      "flex_flow": null,
      "grid_area": null,
      "grid_auto_columns": null,
      "grid_auto_flow": null,
      "grid_auto_rows": null,
      "grid_column": null,
      "grid_gap": null,
      "grid_row": null,
      "grid_template_areas": null,
      "grid_template_columns": null,
      "grid_template_rows": null,
      "height": null,
      "justify_content": null,
      "justify_items": null,
      "left": null,
      "margin": null,
      "max_height": null,
      "max_width": null,
      "min_height": null,
      "min_width": null,
      "object_fit": null,
      "object_position": null,
      "order": null,
      "overflow": null,
      "overflow_x": null,
      "overflow_y": null,
      "padding": null,
      "right": null,
      "top": null,
      "visibility": null,
      "width": null
     }
    },
    "cc4c125134e54d7185b3f558148e5445": {
     "model_module": "@jupyter-widgets/base",
     "model_name": "LayoutModel",
     "state": {
      "_model_module": "@jupyter-widgets/base",
      "_model_module_version": "1.2.0",
      "_model_name": "LayoutModel",
      "_view_count": null,
      "_view_module": "@jupyter-widgets/base",
      "_view_module_version": "1.2.0",
      "_view_name": "LayoutView",
      "align_content": null,
      "align_items": null,
      "align_self": null,
      "border": null,
      "bottom": null,
      "display": null,
      "flex": null,
      "flex_flow": null,
      "grid_area": null,
      "grid_auto_columns": null,
      "grid_auto_flow": null,
      "grid_auto_rows": null,
      "grid_column": null,
      "grid_gap": null,
      "grid_row": null,
      "grid_template_areas": null,
      "grid_template_columns": null,
      "grid_template_rows": null,
      "height": null,
      "justify_content": null,
      "justify_items": null,
      "left": null,
      "margin": null,
      "max_height": null,
      "max_width": null,
      "min_height": null,
      "min_width": null,
      "object_fit": null,
      "object_position": null,
      "order": null,
      "overflow": null,
      "overflow_x": null,
      "overflow_y": null,
      "padding": null,
      "right": null,
      "top": null,
      "visibility": null,
      "width": null
     }
    },
    "cc838968f1b647c2a5cfc4ac174c3d25": {
     "model_module": "@jupyter-widgets/controls",
     "model_name": "HBoxModel",
     "state": {
      "_dom_classes": [],
      "_model_module": "@jupyter-widgets/controls",
      "_model_module_version": "1.5.0",
      "_model_name": "HBoxModel",
      "_view_count": null,
      "_view_module": "@jupyter-widgets/controls",
      "_view_module_version": "1.5.0",
      "_view_name": "HBoxView",
      "box_style": "",
      "children": [
       "IPY_MODEL_50421aeb2a2c45dfb1908d5e23b08009",
       "IPY_MODEL_aa164fa81fe84c7a9ea3915ccf90d143",
       "IPY_MODEL_da2d3dc84d124fcf9ebf77affe4d5563"
      ],
      "layout": "IPY_MODEL_a175e1061bcd419bae56a9a18063861e"
     }
    },
    "cd9e8a060d05491f8c4d74871c9560fa": {
     "model_module": "@jupyter-widgets/base",
     "model_name": "LayoutModel",
     "state": {
      "_model_module": "@jupyter-widgets/base",
      "_model_module_version": "1.2.0",
      "_model_name": "LayoutModel",
      "_view_count": null,
      "_view_module": "@jupyter-widgets/base",
      "_view_module_version": "1.2.0",
      "_view_name": "LayoutView",
      "align_content": null,
      "align_items": null,
      "align_self": null,
      "border": null,
      "bottom": null,
      "display": null,
      "flex": null,
      "flex_flow": null,
      "grid_area": null,
      "grid_auto_columns": null,
      "grid_auto_flow": null,
      "grid_auto_rows": null,
      "grid_column": null,
      "grid_gap": null,
      "grid_row": null,
      "grid_template_areas": null,
      "grid_template_columns": null,
      "grid_template_rows": null,
      "height": null,
      "justify_content": null,
      "justify_items": null,
      "left": null,
      "margin": null,
      "max_height": null,
      "max_width": null,
      "min_height": null,
      "min_width": null,
      "object_fit": null,
      "object_position": null,
      "order": null,
      "overflow": null,
      "overflow_x": null,
      "overflow_y": null,
      "padding": null,
      "right": null,
      "top": null,
      "visibility": null,
      "width": null
     }
    },
    "cda25dc5f86344b3850c92e59085c06c": {
     "model_module": "@jupyter-widgets/controls",
     "model_name": "HTMLModel",
     "state": {
      "_dom_classes": [],
      "_model_module": "@jupyter-widgets/controls",
      "_model_module_version": "1.5.0",
      "_model_name": "HTMLModel",
      "_view_count": null,
      "_view_module": "@jupyter-widgets/controls",
      "_view_module_version": "1.5.0",
      "_view_name": "HTMLView",
      "description": "",
      "description_tooltip": null,
      "layout": "IPY_MODEL_ea6f763369cd4b478998ea4d3e8f20e6",
      "placeholder": "​",
      "style": "IPY_MODEL_dda94f4a1ea946b7996a928374dda4a5",
      "value": " 1000/? [00:21&lt;00:00, 47.82it/s]"
     }
    },
    "d77edc88471445e5a2a18f25f4c0ab86": {
     "model_module": "@jupyter-widgets/base",
     "model_name": "LayoutModel",
     "state": {
      "_model_module": "@jupyter-widgets/base",
      "_model_module_version": "1.2.0",
      "_model_name": "LayoutModel",
      "_view_count": null,
      "_view_module": "@jupyter-widgets/base",
      "_view_module_version": "1.2.0",
      "_view_name": "LayoutView",
      "align_content": null,
      "align_items": null,
      "align_self": null,
      "border": null,
      "bottom": null,
      "display": null,
      "flex": null,
      "flex_flow": null,
      "grid_area": null,
      "grid_auto_columns": null,
      "grid_auto_flow": null,
      "grid_auto_rows": null,
      "grid_column": null,
      "grid_gap": null,
      "grid_row": null,
      "grid_template_areas": null,
      "grid_template_columns": null,
      "grid_template_rows": null,
      "height": null,
      "justify_content": null,
      "justify_items": null,
      "left": null,
      "margin": null,
      "max_height": null,
      "max_width": null,
      "min_height": null,
      "min_width": null,
      "object_fit": null,
      "object_position": null,
      "order": null,
      "overflow": null,
      "overflow_x": null,
      "overflow_y": null,
      "padding": null,
      "right": null,
      "top": null,
      "visibility": null,
      "width": null
     }
    },
    "da2d3dc84d124fcf9ebf77affe4d5563": {
     "model_module": "@jupyter-widgets/controls",
     "model_name": "HTMLModel",
     "state": {
      "_dom_classes": [],
      "_model_module": "@jupyter-widgets/controls",
      "_model_module_version": "1.5.0",
      "_model_name": "HTMLModel",
      "_view_count": null,
      "_view_module": "@jupyter-widgets/controls",
      "_view_module_version": "1.5.0",
      "_view_name": "HTMLView",
      "description": "",
      "description_tooltip": null,
      "layout": "IPY_MODEL_3a3991fbe1e647eb8ea4d772c2fbdc66",
      "placeholder": "​",
      "style": "IPY_MODEL_9038fa17e09740ab981c1690ca8b8258",
      "value": " 1/1 [00:13&lt;00:00,  2.31s/it]"
     }
    },
    "dda94f4a1ea946b7996a928374dda4a5": {
     "model_module": "@jupyter-widgets/controls",
     "model_name": "DescriptionStyleModel",
     "state": {
      "_model_module": "@jupyter-widgets/controls",
      "_model_module_version": "1.5.0",
      "_model_name": "DescriptionStyleModel",
      "_view_count": null,
      "_view_module": "@jupyter-widgets/base",
      "_view_module_version": "1.2.0",
      "_view_name": "StyleView",
      "description_width": ""
     }
    },
    "e752273786584dd4baa77ac3f4528849": {
     "model_module": "@jupyter-widgets/controls",
     "model_name": "HBoxModel",
     "state": {
      "_dom_classes": [],
      "_model_module": "@jupyter-widgets/controls",
      "_model_module_version": "1.5.0",
      "_model_name": "HBoxModel",
      "_view_count": null,
      "_view_module": "@jupyter-widgets/controls",
      "_view_module_version": "1.5.0",
      "_view_name": "HBoxView",
      "box_style": "",
      "children": [
       "IPY_MODEL_87b4d4b12452401cb82285364dae3576",
       "IPY_MODEL_8a60896e0288471a91089a03a75b210b",
       "IPY_MODEL_fe75c2a93c6e4619a2731a4c01a71619"
      ],
      "layout": "IPY_MODEL_aef6058200fa454c90f51760685e25db"
     }
    },
    "ea6f763369cd4b478998ea4d3e8f20e6": {
     "model_module": "@jupyter-widgets/base",
     "model_name": "LayoutModel",
     "state": {
      "_model_module": "@jupyter-widgets/base",
      "_model_module_version": "1.2.0",
      "_model_name": "LayoutModel",
      "_view_count": null,
      "_view_module": "@jupyter-widgets/base",
      "_view_module_version": "1.2.0",
      "_view_name": "LayoutView",
      "align_content": null,
      "align_items": null,
      "align_self": null,
      "border": null,
      "bottom": null,
      "display": null,
      "flex": null,
      "flex_flow": null,
      "grid_area": null,
      "grid_auto_columns": null,
      "grid_auto_flow": null,
      "grid_auto_rows": null,
      "grid_column": null,
      "grid_gap": null,
      "grid_row": null,
      "grid_template_areas": null,
      "grid_template_columns": null,
      "grid_template_rows": null,
      "height": null,
      "justify_content": null,
      "justify_items": null,
      "left": null,
      "margin": null,
      "max_height": null,
      "max_width": null,
      "min_height": null,
      "min_width": null,
      "object_fit": null,
      "object_position": null,
      "order": null,
      "overflow": null,
      "overflow_x": null,
      "overflow_y": null,
      "padding": null,
      "right": null,
      "top": null,
      "visibility": null,
      "width": null
     }
    },
    "eaf9d1e8189f498e8f9c861e3c45a08a": {
     "model_module": "@jupyter-widgets/base",
     "model_name": "LayoutModel",
     "state": {
      "_model_module": "@jupyter-widgets/base",
      "_model_module_version": "1.2.0",
      "_model_name": "LayoutModel",
      "_view_count": null,
      "_view_module": "@jupyter-widgets/base",
      "_view_module_version": "1.2.0",
      "_view_name": "LayoutView",
      "align_content": null,
      "align_items": null,
      "align_self": null,
      "border": null,
      "bottom": null,
      "display": null,
      "flex": null,
      "flex_flow": null,
      "grid_area": null,
      "grid_auto_columns": null,
      "grid_auto_flow": null,
      "grid_auto_rows": null,
      "grid_column": null,
      "grid_gap": null,
      "grid_row": null,
      "grid_template_areas": null,
      "grid_template_columns": null,
      "grid_template_rows": null,
      "height": null,
      "justify_content": null,
      "justify_items": null,
      "left": null,
      "margin": null,
      "max_height": null,
      "max_width": null,
      "min_height": null,
      "min_width": null,
      "object_fit": null,
      "object_position": null,
      "order": null,
      "overflow": null,
      "overflow_x": null,
      "overflow_y": null,
      "padding": null,
      "right": null,
      "top": null,
      "visibility": null,
      "width": null
     }
    },
    "edc565ea0d754f60a006bbf4b8c592d7": {
     "model_module": "@jupyter-widgets/controls",
     "model_name": "HTMLModel",
     "state": {
      "_dom_classes": [],
      "_model_module": "@jupyter-widgets/controls",
      "_model_module_version": "1.5.0",
      "_model_name": "HTMLModel",
      "_view_count": null,
      "_view_module": "@jupyter-widgets/controls",
      "_view_module_version": "1.5.0",
      "_view_name": "HTMLView",
      "description": "",
      "description_tooltip": null,
      "layout": "IPY_MODEL_4dd1c479f44b46dfbce48d09ee6d77ca",
      "placeholder": "​",
      "style": "IPY_MODEL_25ccfa825e2a4f54856bbf9f50b711f5",
      "value": "100%"
     }
    },
    "f1d1ac6ad72a41f1a8278f2e0faccb70": {
     "model_module": "@jupyter-widgets/controls",
     "model_name": "DescriptionStyleModel",
     "state": {
      "_model_module": "@jupyter-widgets/controls",
      "_model_module_version": "1.5.0",
      "_model_name": "DescriptionStyleModel",
      "_view_count": null,
      "_view_module": "@jupyter-widgets/base",
      "_view_module_version": "1.2.0",
      "_view_name": "StyleView",
      "description_width": ""
     }
    },
    "f343e628b4ea4d779904cc40785558f5": {
     "model_module": "@jupyter-widgets/base",
     "model_name": "LayoutModel",
     "state": {
      "_model_module": "@jupyter-widgets/base",
      "_model_module_version": "1.2.0",
      "_model_name": "LayoutModel",
      "_view_count": null,
      "_view_module": "@jupyter-widgets/base",
      "_view_module_version": "1.2.0",
      "_view_name": "LayoutView",
      "align_content": null,
      "align_items": null,
      "align_self": null,
      "border": null,
      "bottom": null,
      "display": null,
      "flex": null,
      "flex_flow": null,
      "grid_area": null,
      "grid_auto_columns": null,
      "grid_auto_flow": null,
      "grid_auto_rows": null,
      "grid_column": null,
      "grid_gap": null,
      "grid_row": null,
      "grid_template_areas": null,
      "grid_template_columns": null,
      "grid_template_rows": null,
      "height": null,
      "justify_content": null,
      "justify_items": null,
      "left": null,
      "margin": null,
      "max_height": null,
      "max_width": null,
      "min_height": null,
      "min_width": null,
      "object_fit": null,
      "object_position": null,
      "order": null,
      "overflow": null,
      "overflow_x": null,
      "overflow_y": null,
      "padding": null,
      "right": null,
      "top": null,
      "visibility": null,
      "width": "20px"
     }
    },
    "fbea5d5c67034bdaa3dd45745f75fae9": {
     "model_module": "@jupyter-widgets/base",
     "model_name": "LayoutModel",
     "state": {
      "_model_module": "@jupyter-widgets/base",
      "_model_module_version": "1.2.0",
      "_model_name": "LayoutModel",
      "_view_count": null,
      "_view_module": "@jupyter-widgets/base",
      "_view_module_version": "1.2.0",
      "_view_name": "LayoutView",
      "align_content": null,
      "align_items": null,
      "align_self": null,
      "border": null,
      "bottom": null,
      "display": null,
      "flex": null,
      "flex_flow": null,
      "grid_area": null,
      "grid_auto_columns": null,
      "grid_auto_flow": null,
      "grid_auto_rows": null,
      "grid_column": null,
      "grid_gap": null,
      "grid_row": null,
      "grid_template_areas": null,
      "grid_template_columns": null,
      "grid_template_rows": null,
      "height": null,
      "justify_content": null,
      "justify_items": null,
      "left": null,
      "margin": null,
      "max_height": null,
      "max_width": null,
      "min_height": null,
      "min_width": null,
      "object_fit": null,
      "object_position": null,
      "order": null,
      "overflow": null,
      "overflow_x": null,
      "overflow_y": null,
      "padding": null,
      "right": null,
      "top": null,
      "visibility": null,
      "width": null
     }
    },
    "fcc29e1c6b304044a53522c550c4b49d": {
     "model_module": "@jupyter-widgets/controls",
     "model_name": "DescriptionStyleModel",
     "state": {
      "_model_module": "@jupyter-widgets/controls",
      "_model_module_version": "1.5.0",
      "_model_name": "DescriptionStyleModel",
      "_view_count": null,
      "_view_module": "@jupyter-widgets/base",
      "_view_module_version": "1.2.0",
      "_view_name": "StyleView",
      "description_width": ""
     }
    },
    "fe75c2a93c6e4619a2731a4c01a71619": {
     "model_module": "@jupyter-widgets/controls",
     "model_name": "HTMLModel",
     "state": {
      "_dom_classes": [],
      "_model_module": "@jupyter-widgets/controls",
      "_model_module_version": "1.5.0",
      "_model_name": "HTMLModel",
      "_view_count": null,
      "_view_module": "@jupyter-widgets/controls",
      "_view_module_version": "1.5.0",
      "_view_name": "HTMLView",
      "description": "",
      "description_tooltip": null,
      "layout": "IPY_MODEL_cd9e8a060d05491f8c4d74871c9560fa",
      "placeholder": "​",
      "style": "IPY_MODEL_fcc29e1c6b304044a53522c550c4b49d",
      "value": " 1000/? [00:21&lt;00:00, 48.76it/s]"
     }
    }
   }
  }
 },
 "nbformat": 4,
 "nbformat_minor": 1
}
