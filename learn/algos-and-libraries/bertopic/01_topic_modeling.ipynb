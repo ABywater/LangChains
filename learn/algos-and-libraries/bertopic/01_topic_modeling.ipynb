{
    "cells": [
     {
      "cell_type": "code",
      "execution_count": 5,
      "metadata": {},
      "outputs": [
       {
        "data": {
         "text/html": [
          "<div>\n",
          "<style scoped>\n",
          "    .dataframe tbody tr th:only-of-type {\n",
          "        vertical-align: middle;\n",
          "    }\n",
          "\n",
          "    .dataframe tbody tr th {\n",
          "        vertical-align: top;\n",
          "    }\n",
          "\n",
          "    .dataframe thead th {\n",
          "        text-align: right;\n",
          "    }\n",
          "</style>\n",
          "<table border=\"1\" class=\"dataframe\">\n",
          "  <thead>\n",
          "    <tr style=\"text-align: right;\">\n",
          "      <th></th>\n",
          "      <th>Topic</th>\n",
          "      <th>Count</th>\n",
          "      <th>Name</th>\n",
          "    </tr>\n",
          "  </thead>\n",
          "  <tbody>\n",
          "    <tr>\n",
          "      <th>0</th>\n",
          "      <td>-1</td>\n",
          "      <td>196</td>\n",
          "      <td>-1_python_code_data_using</td>\n",
          "    </tr>\n",
          "    <tr>\n",
          "      <th>1</th>\n",
          "      <td>0</td>\n",
          "      <td>68</td>\n",
          "      <td>0_image_ampx200b_code_images</td>\n",
          "    </tr>\n",
          "    <tr>\n",
          "      <th>2</th>\n",
          "      <td>1</td>\n",
          "      <td>58</td>\n",
          "      <td>1_python_learning_programming_just</td>\n",
          "    </tr>\n",
          "    <tr>\n",
          "      <th>3</th>\n",
          "      <td>2</td>\n",
          "      <td>44</td>\n",
          "      <td>2_python_django_flask_library</td>\n",
          "    </tr>\n",
          "    <tr>\n",
          "      <th>4</th>\n",
          "      <td>3</td>\n",
          "      <td>32</td>\n",
          "      <td>3_link_title_thumbnail_datepublished</td>\n",
          "    </tr>\n",
          "    <tr>\n",
          "      <th>5</th>\n",
          "      <td>4</td>\n",
          "      <td>28</td>\n",
          "      <td>4_package_python_like_slap</td>\n",
          "    </tr>\n",
          "    <tr>\n",
          "      <th>6</th>\n",
          "      <td>5</td>\n",
          "      <td>27</td>\n",
          "      <td>5_spectra_space_asteroid_training</td>\n",
          "    </tr>\n",
          "    <tr>\n",
          "      <th>7</th>\n",
          "      <td>6</td>\n",
          "      <td>26</td>\n",
          "      <td>6_make_project ideas_ideas_comment</td>\n",
          "    </tr>\n",
          "    <tr>\n",
          "      <th>8</th>\n",
          "      <td>7</td>\n",
          "      <td>23</td>\n",
          "      <td>7_log_logging_use_conn</td>\n",
          "    </tr>\n",
          "    <tr>\n",
          "      <th>9</th>\n",
          "      <td>8</td>\n",
          "      <td>21</td>\n",
          "      <td>8_questions_thread_response_python</td>\n",
          "    </tr>\n",
          "  </tbody>\n",
          "</table>\n",
          "</div>"
         ],
         "text/plain": [
          "   Topic  Count                                  Name\n",
          "0     -1    196             -1_python_code_data_using\n",
          "1      0     68          0_image_ampx200b_code_images\n",
          "2      1     58    1_python_learning_programming_just\n",
          "3      2     44         2_python_django_flask_library\n",
          "4      3     32  3_link_title_thumbnail_datepublished\n",
          "5      4     28            4_package_python_like_slap\n",
          "6      5     27     5_spectra_space_asteroid_training\n",
          "7      6     26    6_make_project ideas_ideas_comment\n",
          "8      7     23                7_log_logging_use_conn\n",
          "9      8     21    8_questions_thread_response_python"
         ]
        },
        "execution_count": 5,
        "metadata": {},
        "output_type": "execute_result"
       }
      ],
      "source": [
       "freq = model.get_topic_info()\n",
       "freq.head(10)"
      ]
     }
    ],
    "metadata": {
     "interpreter": {
      "hash": "e81a84c338879f0412495ea98350e80595740634d3ce0fba8d30f35c60f1a4c3"
     },
     "kernelspec": {
      "display_name": "Python 3.8.12 ('stoic')",
      "language": "python",
      "name": "python3"
     },
     "language_info": {
      "codemirror_mode": {
       "name": "ipython",
       "version": 3
      },
      "file_extension": ".py",
      "mimetype": "text/x-python",
      "name": "python",
      "nbconvert_exporter": "python",
      "pygments_lexer": "ipython3",
      "version": "3.8.12"
     },
     "orig_nbformat": 4
    },
    "nbformat": 4,
    "nbformat_minor": 2
   }
