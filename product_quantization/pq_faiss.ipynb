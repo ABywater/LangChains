{
 "cells": [
  {
   "cell_type": "markdown",
   "source": [
    "# PQ and Faiss\n",
    "\n",
    "In this notebook we will cover the product quantization (PQ) implementation in Faiss. First, we need to load our Sift1M dataset."
   ],
   "metadata": {}
  },
  {
   "cell_type": "code",
   "execution_count": 1,
   "source": [
    "import numpy as np\n",
    "\n",
    "# now define a function to read the fvecs file format of Sift1M dataset\n",
    "def read_fvecs(fp):\n",
    "    a = np.fromfile(fp, dtype='int32')\n",
    "    d = a[0]\n",
    "    return a.reshape(-1, d + 1)[:, 1:].copy().view('float32')\n",
    "\n",
    "# 1M samples, cut down to 500K\n",
    "xb = read_fvecs('../../../data/sift/sift_base.fvecs')[:500_000]\n",
    "# queries\n",
    "xq = read_fvecs('../../../data/sift/sift_query.fvecs')[0].reshape(1, -1)"
   ],
   "outputs": [],
   "metadata": {}
  },
  {
   "cell_type": "markdown",
   "source": [
    "Initialize an index in Faiss using *only* PQ."
   ],
   "metadata": {}
  },
  {
   "cell_type": "code",
   "execution_count": 2,
   "source": [
    "import faiss\n",
    "\n",
    "D = xb.shape[1]\n",
    "m = 8\n",
    "assert D % m == 0\n",
    "nbits = 8  # number of bits per subquantizer, k* = 2**nbits\n",
    "index = faiss.IndexPQ(D, m, nbits)"
   ],
   "outputs": [],
   "metadata": {}
  },
  {
   "cell_type": "markdown",
   "source": [
    "We have our cluster centroids (*reproduction values*) that must be optimized to our dataset, therefore if we check if the `index` `is_trained` we will see it is *not*."
   ],
   "metadata": {}
  },
  {
   "cell_type": "code",
   "execution_count": 3,
   "source": [
    "index.is_trained"
   ],
   "outputs": [
    {
     "output_type": "execute_result",
     "data": {
      "text/plain": [
       "False"
      ]
     },
     "metadata": {},
     "execution_count": 3
    }
   ],
   "metadata": {}
  },
  {
   "cell_type": "markdown",
   "source": [
    "So we must train it using our vectors `xb`."
   ],
   "metadata": {}
  },
  {
   "cell_type": "code",
   "execution_count": 4,
   "source": [
    "index.train(xb)  # PQ training can take some time when using large nbits"
   ],
   "outputs": [],
   "metadata": {}
  },
  {
   "cell_type": "markdown",
   "source": [
    "And now we can `add` our vectors and `search`."
   ],
   "metadata": {}
  },
  {
   "cell_type": "code",
   "execution_count": 5,
   "source": [
    "index.add(xb)  # this is also very slow for large nbits\n",
    "\n",
    "k = 100  # return top k results"
   ],
   "outputs": [],
   "metadata": {}
  },
  {
   "cell_type": "code",
   "execution_count": 6,
   "source": [
    "dist, I = index.search(xq, k)"
   ],
   "outputs": [
    {
     "output_type": "stream",
     "name": "stdout",
     "text": [
      "CPU times: user 22.7 ms, sys: 13.2 ms, total: 35.9 ms\n",
      "Wall time: 9.37 ms\n"
     ]
    }
   ],
   "metadata": {}
  },
  {
   "cell_type": "code",
   "execution_count": 7,
   "source": [
    "%%timeit\n",
    "index.search(xq, k)"
   ],
   "outputs": [
    {
     "output_type": "stream",
     "name": "stdout",
     "text": [
      "1.49 ms ± 49.1 µs per loop (mean ± std. dev. of 7 runs, 1000 loops each)\n"
     ]
    }
   ],
   "metadata": {}
  },
  {
   "cell_type": "markdown",
   "source": [
    "Search time is nothing special, PQ alone is still an exhaustive search so we would expect nothing spectacular here - but we can make it fast as we'll see later.\n",
    "\n",
    "Let's compare our results against those produced by a non-quantized flat index."
   ],
   "metadata": {}
  },
  {
   "cell_type": "code",
   "execution_count": 8,
   "source": [
    "l2_index = faiss.IndexFlatL2(D)\n",
    "l2_index.add(xb)"
   ],
   "outputs": [],
   "metadata": {}
  },
  {
   "cell_type": "code",
   "execution_count": 9,
   "source": [
    "%%time\n",
    "l2_dist, l2_I = l2_index.search(xq, k)"
   ],
   "outputs": [
    {
     "output_type": "stream",
     "name": "stdout",
     "text": [
      "CPU times: user 46.1 ms, sys: 15.1 ms, total: 61.2 ms\n",
      "Wall time: 15 ms\n"
     ]
    }
   ],
   "metadata": {}
  },
  {
   "cell_type": "code",
   "execution_count": 10,
   "source": [
    "sum([1 for i in I[0] if i in l2_I])"
   ],
   "outputs": [
    {
     "output_type": "execute_result",
     "data": {
      "text/plain": [
       "50"
      ]
     },
     "metadata": {},
     "execution_count": 10
    }
   ],
   "metadata": {}
  },
  {
   "cell_type": "markdown",
   "source": [
    "A recall of 50%, not cutting-edge, but a reasonable sacrifice if this allows us to search larger datasets. Let's see if PQ has made good on it's promise of reduced memory usage."
   ],
   "metadata": {}
  },
  {
   "cell_type": "code",
   "execution_count": 11,
   "source": [
    "import os\n",
    "\n",
    "def get_memory(index):\n",
    "    # write index to file\n",
    "    faiss.write_index(index, './temp.index')\n",
    "    # get file size\n",
    "    file_size = os.path.getsize('./temp.index')\n",
    "    # delete saved index\n",
    "    os.remove('./temp.index')\n",
    "    return file_size"
   ],
   "outputs": [],
   "metadata": {}
  },
  {
   "cell_type": "code",
   "execution_count": 12,
   "source": [
    "# first we check our Flat index, this should be larger\n",
    "get_memory(l2_index)"
   ],
   "outputs": [
    {
     "output_type": "execute_result",
     "data": {
      "text/plain": [
       "256000045"
      ]
     },
     "metadata": {},
     "execution_count": 12
    }
   ],
   "metadata": {}
  },
  {
   "cell_type": "code",
   "execution_count": 13,
   "source": [
    "# now our PQ index\n",
    "get_memory(index)"
   ],
   "outputs": [
    {
     "output_type": "execute_result",
     "data": {
      "text/plain": [
       "4131158"
      ]
     },
     "metadata": {},
     "execution_count": 13
    }
   ],
   "metadata": {}
  },
  {
   "cell_type": "markdown",
   "source": [
    "We've reduced our index size from a cool **256MB**, to just **4.1MB** - that is pretty impressive.\n",
    "\n",
    "But what about this not so great search-speed? Is there anything we can do about that? Fortunately yes! We can improve search-speed by using another quantization step - we add a *coarse* quantizer, `IndexIVF` to the process.\n",
    "\n",
    "What we will now have is a *coarse quantizer* (IVF) which restricts the *scope of our search* to the most relevant samples - followed by our *fine quantizer* (PQ) which compresses the high-memory usage of our stored vectors by *restricting the scope of our vector**space***."
   ],
   "metadata": {}
  },
  {
   "cell_type": "code",
   "execution_count": 14,
   "source": [
    "vecs = faiss.IndexFlatL2(D)\n",
    "\n",
    "nlist = 2048  # how many Voronoi cells (must be >= k* which is 2**nbits)\n",
    "nbits = 8  # when using IVF+PQ, higher nbits values are not supported\n",
    "index = faiss.IndexIVFPQ(vecs, D, nlist, m, nbits)\n",
    "print(f\"{2**nbits=}\")  # our value for nlist"
   ],
   "outputs": [
    {
     "output_type": "stream",
     "name": "stdout",
     "text": [
      "2**nbits=256\n"
     ]
    }
   ],
   "metadata": {}
  },
  {
   "cell_type": "code",
   "execution_count": 15,
   "source": [
    "index.is_trained"
   ],
   "outputs": [
    {
     "output_type": "execute_result",
     "data": {
      "text/plain": [
       "False"
      ]
     },
     "metadata": {},
     "execution_count": 15
    }
   ],
   "metadata": {}
  },
  {
   "cell_type": "markdown",
   "source": [
    "Again we must `train` our index, and again this can take awhile."
   ],
   "metadata": {}
  },
  {
   "cell_type": "code",
   "execution_count": 16,
   "source": [
    "index.train(xb)"
   ],
   "outputs": [],
   "metadata": {}
  },
  {
   "cell_type": "markdown",
   "source": [
    "Now we `add` our vectors."
   ],
   "metadata": {}
  },
  {
   "cell_type": "code",
   "execution_count": 17,
   "source": [
    "index.add(xb)"
   ],
   "outputs": [],
   "metadata": {}
  },
  {
   "cell_type": "markdown",
   "source": [
    "And now we're ready to test our new IVF -> PQ index!"
   ],
   "metadata": {}
  },
  {
   "cell_type": "code",
   "execution_count": 18,
   "source": [
    "dist, I = index.search(xq, k)"
   ],
   "outputs": [],
   "metadata": {}
  },
  {
   "cell_type": "code",
   "execution_count": 19,
   "source": [
    "%%timeit\n",
    "index.search(xq, k)"
   ],
   "outputs": [
    {
     "output_type": "stream",
     "name": "stdout",
     "text": [
      "86.3 µs ± 15 µs per loop (mean ± std. dev. of 7 runs, 10000 loops each)\n"
     ]
    }
   ],
   "metadata": {}
  },
  {
   "cell_type": "markdown",
   "source": [
    "*Lightning fast search...* But how is the recall?"
   ],
   "metadata": {}
  },
  {
   "cell_type": "code",
   "execution_count": 20,
   "source": [
    "sum([1 for i in I[0] if i in l2_I])"
   ],
   "outputs": [
    {
     "output_type": "execute_result",
     "data": {
      "text/plain": [
       "34"
      ]
     },
     "metadata": {},
     "execution_count": 20
    }
   ],
   "metadata": {}
  },
  {
   "cell_type": "markdown",
   "source": [
    "Our recall limit will be roughly what we reached when using `IndexPQ` alone, so we have hit 36/57, or about 60% of the potential recall performance. Now, because we are now using an IVF index, we can push our recall towards these higher values by increasing the number of cells to search using `nprobe`. Although it is worth noting that in this case, as there is always some noise in training the index, the max recall achievable is 43%."
   ],
   "metadata": {}
  },
  {
   "cell_type": "code",
   "execution_count": 21,
   "source": [
    "index.nprobe = 2"
   ],
   "outputs": [],
   "metadata": {}
  },
  {
   "cell_type": "code",
   "execution_count": 22,
   "source": [
    "dist, I = index.search(xq, k)"
   ],
   "outputs": [],
   "metadata": {}
  },
  {
   "cell_type": "code",
   "execution_count": 23,
   "source": [
    "sum([1 for i in I[0] if i in l2_I])"
   ],
   "outputs": [
    {
     "output_type": "execute_result",
     "data": {
      "text/plain": [
       "39"
      ]
     },
     "metadata": {},
     "execution_count": 23
    }
   ],
   "metadata": {}
  },
  {
   "cell_type": "code",
   "execution_count": 24,
   "source": [
    "index.nprobe = 48\n",
    "dist, I = index.search(xq, k)\n",
    "sum([1 for i in I[0] if i in l2_I])"
   ],
   "outputs": [
    {
     "output_type": "execute_result",
     "data": {
      "text/plain": [
       "52"
      ]
     },
     "metadata": {},
     "execution_count": 24
    }
   ],
   "metadata": {}
  },
  {
   "cell_type": "markdown",
   "source": [
    "52%, getting better... Now, if we were to try pushing the `nprobe` value up signficantly, we won't return any recall results better than 52%, this is our best-case performance in terms of balancing recall and search-time."
   ],
   "metadata": {}
  },
  {
   "cell_type": "code",
   "execution_count": 25,
   "source": [
    "index.nprobe = 2048  # this is searching all Voronoi cells\n",
    "dist, I = index.search(xq, k)\n",
    "sum([1 for i in I[0] if i in l2_I])"
   ],
   "outputs": [
    {
     "output_type": "execute_result",
     "data": {
      "text/plain": [
       "52"
      ]
     },
     "metadata": {},
     "execution_count": 25
    }
   ],
   "metadata": {}
  },
  {
   "cell_type": "markdown",
   "source": [
    "So it is better that we stick with `nprobe` of `48`. Let's take a look at the speed difference between this index and a flat L2 index."
   ],
   "metadata": {}
  },
  {
   "cell_type": "code",
   "execution_count": 26,
   "source": [
    "index.nprobe = 48"
   ],
   "outputs": [],
   "metadata": {}
  },
  {
   "cell_type": "code",
   "execution_count": 27,
   "source": [
    "%%timeit\n",
    "dist, I = index.search(xq, k)"
   ],
   "outputs": [
    {
     "output_type": "stream",
     "name": "stdout",
     "text": [
      "134 µs ± 4.89 µs per loop (mean ± std. dev. of 7 runs, 10000 loops each)\n"
     ]
    }
   ],
   "metadata": {}
  },
  {
   "cell_type": "code",
   "execution_count": 28,
   "source": [
    "%%timeit\n",
    "l2_dist, l2_I = l2_index.search(xq, k)"
   ],
   "outputs": [
    {
     "output_type": "stream",
     "name": "stdout",
     "text": [
      "8.42 ms ± 344 µs per loop (mean ± std. dev. of 7 runs, 100 loops each)\n"
     ]
    }
   ],
   "metadata": {}
  },
  {
   "cell_type": "markdown",
   "source": [
    "A significant speed increase from 8.42ms to 132µs, and what are the differences in memory usage?"
   ],
   "metadata": {}
  },
  {
   "cell_type": "code",
   "execution_count": 29,
   "source": [
    "print(f\"IVFPQ: {get_memory(index)}\\nFlat: {get_memory(l2_index)}\")"
   ],
   "outputs": [
    {
     "output_type": "stream",
     "name": "stdout",
     "text": [
      "IVFPQ: 9196212\n",
      "Flat: 256000045\n"
     ]
    }
   ],
   "metadata": {}
  },
  {
   "cell_type": "markdown",
   "source": [
    "So our final stats are:\n",
    "\n",
    "| | FlatL2 | PQ | IVFPQ | Note |\n",
    "| --- | --- | --- | --- | --- |\n",
    "| Recall | 100% | 50% | 52% | *IVFPQ and PQ can attain equal performance with equivalent parameters - improved recall with greater `nbits`* |\n",
    "| Speed | 8.26ms | 1.49ms | 0.29ms | |\n",
    "| Memory | 256MB | 6.5MB | 9.2MB | |"
   ],
   "metadata": {}
  }
 ],
 "metadata": {
  "orig_nbformat": 4,
  "language_info": {
   "name": "python",
   "version": "3.8.8",
   "mimetype": "text/x-python",
   "codemirror_mode": {
    "name": "ipython",
    "version": 3
   },
   "pygments_lexer": "ipython3",
   "nbconvert_exporter": "python",
   "file_extension": ".py"
  },
  "kernelspec": {
   "name": "python3",
   "display_name": "Python 3.8.8 64-bit ('ml': conda)"
  },
  "interpreter": {
   "hash": "a683edd788238e5c64f9fa2e4bdd4387776bc5c6f4f0a84da0685f9a25e421d6"
  }
 },
 "nbformat": 4,
 "nbformat_minor": 2
}