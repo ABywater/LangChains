{
  "cells": [
    {
      "cell_type": "markdown",
      "source": [
        "[![Open In Colab](https://colab.research.google.com/assets/colab-badge.svg)](https://colab.research.google.com/github/pinecone-io/examples/blob/master/pinecone/sparse/bm25-quora.ipynb) [![Open nbviewer](https://raw.githubusercontent.com/pinecone-io/examples/master/assets/nbviewer-shield.svg)](https://nbviewer.org/github/pinecone-io/examples/blob/master/pinecone/sparse/bm25-quora.ipynb)"
      ],
      "metadata": {
        "id": "nvvRy5xpzC_X"
      }
    },
    {
      "cell_type": "markdown",
      "metadata": {
        "id": "Ph58tA7b-Mua"
      },
      "source": [
        "# Hybrid Search with BM25 Sparse Vectors"
      ]
    },
    {
      "cell_type": "markdown",
      "metadata": {
        "id": "h9_PObIq-Mud"
      },
      "source": [
        "## Overview\n",
        "\n",
        "BM25 is a popular technique for retrieving text. It uses term frequencies to determine the relative importance of the term to the query. It is a simple but effective and only requires knowing the number of documents in a corpus and the frequency of terms across documents. In the following guide we will show how to use BM25 with Pinecone's sparse-dense index for use in hybrid search.\n",
        "\n",
        "Learn how to create embeddings in the [companion guide]()."
      ]
    },
    {
      "cell_type": "markdown",
      "metadata": {
        "id": "gr_QySLb-Mue"
      },
      "source": [
        "## Install"
      ]
    },
    {
      "cell_type": "markdown",
      "source": [],
      "metadata": {
        "id": "oMY_g7gvzAod"
      }
    },
    {
      "cell_type": "code",
      "execution_count": 120,
      "metadata": {
        "tags": [],
        "id": "rSyyba_e-Mue",
        "colab": {
          "base_uri": "https://localhost:8080/"
        },
        "outputId": "a767719c-a4d8-47c1-818c-abeb05123919"
      },
      "outputs": [
        {
          "output_type": "stream",
          "name": "stdout",
          "text": [
            "  Installing build dependencies ... \u001b[?25l\u001b[?25hdone\n",
            "  Getting requirements to build wheel ... \u001b[?25l\u001b[?25hdone\n",
            "  Preparing metadata (pyproject.toml) ... \u001b[?25l\u001b[?25hdone\n"
          ]
        }
      ],
      "source": [
        "!pip install -qU \\\n",
        "          git+https://git@github.com/pinecone-io/pinecone-python-client.git@upsert_dataframe#egg=pinecone-client[grpc] \\\n",
        "          pinecone-datasets \\\n",
        "          numpy"
      ]
    },
    {
      "cell_type": "markdown",
      "metadata": {
        "id": "32yIbl9V-Mug"
      },
      "source": [
        "## Quora Dataset\n",
        "\n",
        "Load the popular Quora dataset with embeddings precomputed using\n",
        "\n",
        "* Dense: [sentence-transformers/all-MiniLM-L6-v2](https://huggingface.co/sentence-transformers/all-MiniLM-L6-v2)\n",
        "* Sparse: BM25\n"
      ]
    },
    {
      "cell_type": "code",
      "source": [
        "from pinecone_datasets import load_dataset"
      ],
      "metadata": {
        "id": "RDlzvb0E-VLz"
      },
      "execution_count": 121,
      "outputs": []
    },
    {
      "cell_type": "code",
      "execution_count": 122,
      "metadata": {
        "id": "ZEgR9xrT-Mug"
      },
      "outputs": [],
      "source": [
        "dataset = load_dataset(\"quora_all-MiniLM-L6-bm25\")"
      ]
    },
    {
      "cell_type": "code",
      "execution_count": 123,
      "metadata": {
        "colab": {
          "base_uri": "https://localhost:8080/",
          "height": 337
        },
        "id": "xOZn3TYJ-Mug",
        "outputId": "990c0023-cb48-44d3-8c2e-4e8b90156053"
      },
      "outputs": [
        {
          "output_type": "execute_result",
          "data": {
            "text/plain": [
              "  id                                             values  \\\n",
              "0  1  [0.06814987, -0.039664183, -0.06096721, 0.0074...   \n",
              "1  2  [0.08983771, -0.03493085, -0.057357617, 0.0222...   \n",
              "2  3  [-0.046798065, 0.1551149, -0.03920019, 0.04878...   \n",
              "3  4  [-0.077349104, 0.14786911, -0.0128817065, -0.0...   \n",
              "4  5  [-0.028324936, 0.037209604, -0.00040033547, 0....   \n",
              "\n",
              "                                       sparse_values metadata  \\\n",
              "0  {'indices': [7096, 8508, 13677, 23041, 24734, ...     None   \n",
              "1  {'indices': [7096, 8508, 13677, 24734, 26026, ...     None   \n",
              "2  {'indices': [6065, 13677, 17109, 20780, 24734,...     None   \n",
              "3  {'indices': [2408, 6065, 7582, 12225, 17109, 2...     None   \n",
              "4  {'indices': [5388, 12812, 18181, 19960, 20780,...     None   \n",
              "\n",
              "                                                blob  \n",
              "0  {'text': ' What is the step by step guide to i...  \n",
              "1  {'text': ' What is the step by step guide to i...  \n",
              "2  {'text': ' What is the story of Kohinoor (Koh-...  \n",
              "3  {'text': ' What would happen if the Indian gov...  \n",
              "4  {'text': ' How can I increase the speed of my ...  "
            ],
            "text/html": [
              "\n",
              "  <div id=\"df-0b0a3217-541c-4d8d-ac04-0d395f28da58\">\n",
              "    <div class=\"colab-df-container\">\n",
              "      <div>\n",
              "<style scoped>\n",
              "    .dataframe tbody tr th:only-of-type {\n",
              "        vertical-align: middle;\n",
              "    }\n",
              "\n",
              "    .dataframe tbody tr th {\n",
              "        vertical-align: top;\n",
              "    }\n",
              "\n",
              "    .dataframe thead th {\n",
              "        text-align: right;\n",
              "    }\n",
              "</style>\n",
              "<table border=\"1\" class=\"dataframe\">\n",
              "  <thead>\n",
              "    <tr style=\"text-align: right;\">\n",
              "      <th></th>\n",
              "      <th>id</th>\n",
              "      <th>values</th>\n",
              "      <th>sparse_values</th>\n",
              "      <th>metadata</th>\n",
              "      <th>blob</th>\n",
              "    </tr>\n",
              "  </thead>\n",
              "  <tbody>\n",
              "    <tr>\n",
              "      <th>0</th>\n",
              "      <td>1</td>\n",
              "      <td>[0.06814987, -0.039664183, -0.06096721, 0.0074...</td>\n",
              "      <td>{'indices': [7096, 8508, 13677, 23041, 24734, ...</td>\n",
              "      <td>None</td>\n",
              "      <td>{'text': ' What is the step by step guide to i...</td>\n",
              "    </tr>\n",
              "    <tr>\n",
              "      <th>1</th>\n",
              "      <td>2</td>\n",
              "      <td>[0.08983771, -0.03493085, -0.057357617, 0.0222...</td>\n",
              "      <td>{'indices': [7096, 8508, 13677, 24734, 26026, ...</td>\n",
              "      <td>None</td>\n",
              "      <td>{'text': ' What is the step by step guide to i...</td>\n",
              "    </tr>\n",
              "    <tr>\n",
              "      <th>2</th>\n",
              "      <td>3</td>\n",
              "      <td>[-0.046798065, 0.1551149, -0.03920019, 0.04878...</td>\n",
              "      <td>{'indices': [6065, 13677, 17109, 20780, 24734,...</td>\n",
              "      <td>None</td>\n",
              "      <td>{'text': ' What is the story of Kohinoor (Koh-...</td>\n",
              "    </tr>\n",
              "    <tr>\n",
              "      <th>3</th>\n",
              "      <td>4</td>\n",
              "      <td>[-0.077349104, 0.14786911, -0.0128817065, -0.0...</td>\n",
              "      <td>{'indices': [2408, 6065, 7582, 12225, 17109, 2...</td>\n",
              "      <td>None</td>\n",
              "      <td>{'text': ' What would happen if the Indian gov...</td>\n",
              "    </tr>\n",
              "    <tr>\n",
              "      <th>4</th>\n",
              "      <td>5</td>\n",
              "      <td>[-0.028324936, 0.037209604, -0.00040033547, 0....</td>\n",
              "      <td>{'indices': [5388, 12812, 18181, 19960, 20780,...</td>\n",
              "      <td>None</td>\n",
              "      <td>{'text': ' How can I increase the speed of my ...</td>\n",
              "    </tr>\n",
              "  </tbody>\n",
              "</table>\n",
              "</div>\n",
              "      <button class=\"colab-df-convert\" onclick=\"convertToInteractive('df-0b0a3217-541c-4d8d-ac04-0d395f28da58')\"\n",
              "              title=\"Convert this dataframe to an interactive table.\"\n",
              "              style=\"display:none;\">\n",
              "        \n",
              "  <svg xmlns=\"http://www.w3.org/2000/svg\" height=\"24px\"viewBox=\"0 0 24 24\"\n",
              "       width=\"24px\">\n",
              "    <path d=\"M0 0h24v24H0V0z\" fill=\"none\"/>\n",
              "    <path d=\"M18.56 5.44l.94 2.06.94-2.06 2.06-.94-2.06-.94-.94-2.06-.94 2.06-2.06.94zm-11 1L8.5 8.5l.94-2.06 2.06-.94-2.06-.94L8.5 2.5l-.94 2.06-2.06.94zm10 10l.94 2.06.94-2.06 2.06-.94-2.06-.94-.94-2.06-.94 2.06-2.06.94z\"/><path d=\"M17.41 7.96l-1.37-1.37c-.4-.4-.92-.59-1.43-.59-.52 0-1.04.2-1.43.59L10.3 9.45l-7.72 7.72c-.78.78-.78 2.05 0 2.83L4 21.41c.39.39.9.59 1.41.59.51 0 1.02-.2 1.41-.59l7.78-7.78 2.81-2.81c.8-.78.8-2.07 0-2.86zM5.41 20L4 18.59l7.72-7.72 1.47 1.35L5.41 20z\"/>\n",
              "  </svg>\n",
              "      </button>\n",
              "      \n",
              "  <style>\n",
              "    .colab-df-container {\n",
              "      display:flex;\n",
              "      flex-wrap:wrap;\n",
              "      gap: 12px;\n",
              "    }\n",
              "\n",
              "    .colab-df-convert {\n",
              "      background-color: #E8F0FE;\n",
              "      border: none;\n",
              "      border-radius: 50%;\n",
              "      cursor: pointer;\n",
              "      display: none;\n",
              "      fill: #1967D2;\n",
              "      height: 32px;\n",
              "      padding: 0 0 0 0;\n",
              "      width: 32px;\n",
              "    }\n",
              "\n",
              "    .colab-df-convert:hover {\n",
              "      background-color: #E2EBFA;\n",
              "      box-shadow: 0px 1px 2px rgba(60, 64, 67, 0.3), 0px 1px 3px 1px rgba(60, 64, 67, 0.15);\n",
              "      fill: #174EA6;\n",
              "    }\n",
              "\n",
              "    [theme=dark] .colab-df-convert {\n",
              "      background-color: #3B4455;\n",
              "      fill: #D2E3FC;\n",
              "    }\n",
              "\n",
              "    [theme=dark] .colab-df-convert:hover {\n",
              "      background-color: #434B5C;\n",
              "      box-shadow: 0px 1px 3px 1px rgba(0, 0, 0, 0.15);\n",
              "      filter: drop-shadow(0px 1px 2px rgba(0, 0, 0, 0.3));\n",
              "      fill: #FFFFFF;\n",
              "    }\n",
              "  </style>\n",
              "\n",
              "      <script>\n",
              "        const buttonEl =\n",
              "          document.querySelector('#df-0b0a3217-541c-4d8d-ac04-0d395f28da58 button.colab-df-convert');\n",
              "        buttonEl.style.display =\n",
              "          google.colab.kernel.accessAllowed ? 'block' : 'none';\n",
              "\n",
              "        async function convertToInteractive(key) {\n",
              "          const element = document.querySelector('#df-0b0a3217-541c-4d8d-ac04-0d395f28da58');\n",
              "          const dataTable =\n",
              "            await google.colab.kernel.invokeFunction('convertToInteractive',\n",
              "                                                     [key], {});\n",
              "          if (!dataTable) return;\n",
              "\n",
              "          const docLinkHtml = 'Like what you see? Visit the ' +\n",
              "            '<a target=\"_blank\" href=https://colab.research.google.com/notebooks/data_table.ipynb>data table notebook</a>'\n",
              "            + ' to learn more about interactive tables.';\n",
              "          element.innerHTML = '';\n",
              "          dataTable['output_type'] = 'display_data';\n",
              "          await google.colab.output.renderOutput(dataTable, element);\n",
              "          const docLink = document.createElement('div');\n",
              "          docLink.innerHTML = docLinkHtml;\n",
              "          element.appendChild(docLink);\n",
              "        }\n",
              "      </script>\n",
              "    </div>\n",
              "  </div>\n",
              "  "
            ]
          },
          "metadata": {},
          "execution_count": 123
        }
      ],
      "source": [
        "dataset.documents.head()"
      ]
    },
    {
      "cell_type": "markdown",
      "source": [
        "As you can see, this data is already loaded with the sparse and dense representaions of each document. To learn about the generation process of this values checkout [TODO: ADD LINK]"
      ],
      "metadata": {
        "id": "hriMlC1KE1Hq"
      }
    },
    {
      "cell_type": "markdown",
      "metadata": {
        "id": "ucGFvC8c-Mui"
      },
      "source": [
        "## Index Creation"
      ]
    },
    {
      "cell_type": "markdown",
      "source": [
        "We first need to initialize our connection to Pinecone to create our vector index. For this, we need a free [API key](\"https://app.pinecone.io/\"), and then we initialize the connection like so:\n"
      ],
      "metadata": {
        "id": "Jn16hO6BUw4z"
      }
    },
    {
      "cell_type": "code",
      "execution_count": 124,
      "metadata": {
        "id": "5hbDEYRx-Mui"
      },
      "outputs": [],
      "source": [
        "import pinecone\n",
        "\n",
        "# initialize connection to pinecone (get API key at app.pinecone.io)\n",
        "pinecone.init(api_key=\"YOUR_API_KEY\",\n",
        "              environment=\"YOUR_ENV\")  # find next to API key in console)"
      ]
    },
    {
      "cell_type": "code",
      "execution_count": 125,
      "metadata": {
        "id": "rhOKX6sk-Mui"
      },
      "outputs": [],
      "source": [
        "index_name = \"bm25-qoura\"\n",
        "dimension = 384"
      ]
    },
    {
      "cell_type": "code",
      "execution_count": 126,
      "metadata": {
        "id": "xUP9USMx-Mui"
      },
      "outputs": [],
      "source": [
        "if index_name not in pinecone.list_indexes():\n",
        "  pinecone.create_index(\n",
        "      index_name,\n",
        "      pod_type='s1',\n",
        "      metric='dotproduct',\n",
        "      dimension=dimension,\n",
        "      metadata_config={\"indexed\": [\"blah\"]}\n",
        "  )"
      ]
    },
    {
      "cell_type": "code",
      "source": [
        "index = pinecone.GRPCIndex(index_name)"
      ],
      "metadata": {
        "id": "X_Sp0m8x78n-"
      },
      "execution_count": 127,
      "outputs": []
    },
    {
      "cell_type": "markdown",
      "metadata": {
        "id": "_-N1b3Vb-Mui"
      },
      "source": [
        "## Upsert\n"
      ]
    },
    {
      "cell_type": "markdown",
      "source": [
        "For this demo we are going to store the texts as vector metadata."
      ],
      "metadata": {
        "id": "IL5pZOcOWfQD"
      }
    },
    {
      "cell_type": "code",
      "source": [
        "dataset.documents[\"metadata\"] = dataset.documents[\"blob\"]"
      ],
      "metadata": {
        "id": "ZslBFPlMPDJ_"
      },
      "execution_count": 128,
      "outputs": []
    },
    {
      "cell_type": "markdown",
      "source": [
        "Now let's upsert vectors to the index, we are using async upload with batching. For more imformation on performance boosting visit this [link](https://docs.pinecone.io/docs/performance-tuning)"
      ],
      "metadata": {
        "id": "DyFsipkXW1FT"
      }
    },
    {
      "cell_type": "code",
      "source": [
        "index.upsert_dataframe(dataset.documents)"
      ],
      "metadata": {
        "colab": {
          "base_uri": "https://localhost:8080/",
          "height": 49,
          "referenced_widgets": [
            "4c2ac77239d8406fa580091b140fe1f8",
            "26d7cb3269aa4e0284a3bddf673d530a",
            "1918210893824994b7db7387767b1aa1",
            "a14c431a3ade47759aeb165524d4800d",
            "99d64e1486b04147bb26f072d8e75622",
            "a29408c4e744434c91f612d2fe0ce356",
            "0742bf65ce6e40c0b9480a3e0c393cb0",
            "55aa1c26c0d0402caf72dd2de19f8b72",
            "b4bb1da2271d469e8ccd7b2c29c76395",
            "08cca7772f8c40e99ef3f8e4a2ce40db",
            "16f29cf4f283413e9675dbf3b8796ac8"
          ]
        },
        "id": "Vga_G_M-gkZQ",
        "outputId": "9f09c68e-8ca8-427e-e498-b682bde36b66"
      },
      "execution_count": 129,
      "outputs": [
        {
          "output_type": "display_data",
          "data": {
            "text/plain": [
              "  0%|          | 0/1045 [00:00<?, ?it/s]"
            ],
            "application/vnd.jupyter.widget-view+json": {
              "version_major": 2,
              "version_minor": 0,
              "model_id": "4c2ac77239d8406fa580091b140fe1f8"
            }
          },
          "metadata": {}
        }
      ]
    },
    {
      "cell_type": "code",
      "source": [
        "index.describe_index_stats()"
      ],
      "metadata": {
        "colab": {
          "base_uri": "https://localhost:8080/"
        },
        "id": "IiZnIrxh8Fws",
        "outputId": "142b9b54-4e09-4d21-be3b-ce7c4479bf5f"
      },
      "execution_count": 130,
      "outputs": [
        {
          "output_type": "execute_result",
          "data": {
            "text/plain": [
              "{'dimension': 384,\n",
              " 'index_fullness': 0.1,\n",
              " 'namespaces': {'': {'vector_count': 522931}},\n",
              " 'total_vector_count': 522931}"
            ]
          },
          "metadata": {},
          "execution_count": 130
        }
      ]
    },
    {
      "cell_type": "code",
      "source": [
        "dataset.documents.dtypes"
      ],
      "metadata": {
        "colab": {
          "base_uri": "https://localhost:8080/"
        },
        "id": "zQtV6FCaZmhN",
        "outputId": "29b4fca8-7caa-47a3-b59c-42a808c4d732"
      },
      "execution_count": 131,
      "outputs": [
        {
          "output_type": "execute_result",
          "data": {
            "text/plain": [
              "id               object\n",
              "values           object\n",
              "sparse_values    object\n",
              "metadata         object\n",
              "blob             object\n",
              "dtype: object"
            ]
          },
          "metadata": {},
          "execution_count": 131
        }
      ]
    },
    {
      "cell_type": "markdown",
      "source": [
        "## Query\n",
        "\n",
        "First let's look at our dataset queries"
      ],
      "metadata": {
        "id": "2joecKXG3IpO"
      }
    },
    {
      "cell_type": "code",
      "source": [
        "dataset.queries.head()"
      ],
      "metadata": {
        "colab": {
          "base_uri": "https://localhost:8080/",
          "height": 337
        },
        "id": "B0s9HCaV3M6E",
        "outputId": "1980240f-a1a6-4426-d1b3-a34a20a76936"
      },
      "execution_count": 132,
      "outputs": [
        {
          "output_type": "execute_result",
          "data": {
            "text/plain": [
              "                                              vector  \\\n",
              "0  [-0.07095234841108322, 0.0012621647911146283, ...   \n",
              "1  [0.05170859768986702, -0.024982793256640434, -...   \n",
              "2  [0.005764591973274946, 0.004137433134019375, -...   \n",
              "3  [0.00809027161449194, -0.009231459349393845, -...   \n",
              "4  [0.024374842643737793, 0.07713444530963898, 0....   \n",
              "\n",
              "                                       sparse_vector filter  top_k  \\\n",
              "0  {'indices': [18989, 23463, 27058, 31925, 38916...   None      5   \n",
              "1  {'indices': [31604, 31925, 36513, 36821, 38049...   None      5   \n",
              "2  {'indices': [947, 2793, 15453, 15498, 35356, 4...   None      5   \n",
              "3  {'indices': [8642, 19100, 20780, 24734, 26798,...   None      5   \n",
              "4  {'indices': [1657, 13677, 33956, 43002, 57110]...   None      5   \n",
              "\n",
              "                                                blob  \n",
              "0  {'id': '318', 'text': 'How does Quora look to ...  \n",
              "1  {'id': '378', 'text': 'How do I refuse to chos...  \n",
              "2  {'id': '379', 'text': 'Did Ben Affleck shine m...  \n",
              "3  {'id': '399', 'text': 'What are the effects of...  \n",
              "4  {'id': '420', 'text': 'Why creativity is impor...  "
            ],
            "text/html": [
              "\n",
              "  <div id=\"df-29f08186-9328-4e49-bef4-85b927cabf90\">\n",
              "    <div class=\"colab-df-container\">\n",
              "      <div>\n",
              "<style scoped>\n",
              "    .dataframe tbody tr th:only-of-type {\n",
              "        vertical-align: middle;\n",
              "    }\n",
              "\n",
              "    .dataframe tbody tr th {\n",
              "        vertical-align: top;\n",
              "    }\n",
              "\n",
              "    .dataframe thead th {\n",
              "        text-align: right;\n",
              "    }\n",
              "</style>\n",
              "<table border=\"1\" class=\"dataframe\">\n",
              "  <thead>\n",
              "    <tr style=\"text-align: right;\">\n",
              "      <th></th>\n",
              "      <th>vector</th>\n",
              "      <th>sparse_vector</th>\n",
              "      <th>filter</th>\n",
              "      <th>top_k</th>\n",
              "      <th>blob</th>\n",
              "    </tr>\n",
              "  </thead>\n",
              "  <tbody>\n",
              "    <tr>\n",
              "      <th>0</th>\n",
              "      <td>[-0.07095234841108322, 0.0012621647911146283, ...</td>\n",
              "      <td>{'indices': [18989, 23463, 27058, 31925, 38916...</td>\n",
              "      <td>None</td>\n",
              "      <td>5</td>\n",
              "      <td>{'id': '318', 'text': 'How does Quora look to ...</td>\n",
              "    </tr>\n",
              "    <tr>\n",
              "      <th>1</th>\n",
              "      <td>[0.05170859768986702, -0.024982793256640434, -...</td>\n",
              "      <td>{'indices': [31604, 31925, 36513, 36821, 38049...</td>\n",
              "      <td>None</td>\n",
              "      <td>5</td>\n",
              "      <td>{'id': '378', 'text': 'How do I refuse to chos...</td>\n",
              "    </tr>\n",
              "    <tr>\n",
              "      <th>2</th>\n",
              "      <td>[0.005764591973274946, 0.004137433134019375, -...</td>\n",
              "      <td>{'indices': [947, 2793, 15453, 15498, 35356, 4...</td>\n",
              "      <td>None</td>\n",
              "      <td>5</td>\n",
              "      <td>{'id': '379', 'text': 'Did Ben Affleck shine m...</td>\n",
              "    </tr>\n",
              "    <tr>\n",
              "      <th>3</th>\n",
              "      <td>[0.00809027161449194, -0.009231459349393845, -...</td>\n",
              "      <td>{'indices': [8642, 19100, 20780, 24734, 26798,...</td>\n",
              "      <td>None</td>\n",
              "      <td>5</td>\n",
              "      <td>{'id': '399', 'text': 'What are the effects of...</td>\n",
              "    </tr>\n",
              "    <tr>\n",
              "      <th>4</th>\n",
              "      <td>[0.024374842643737793, 0.07713444530963898, 0....</td>\n",
              "      <td>{'indices': [1657, 13677, 33956, 43002, 57110]...</td>\n",
              "      <td>None</td>\n",
              "      <td>5</td>\n",
              "      <td>{'id': '420', 'text': 'Why creativity is impor...</td>\n",
              "    </tr>\n",
              "  </tbody>\n",
              "</table>\n",
              "</div>\n",
              "      <button class=\"colab-df-convert\" onclick=\"convertToInteractive('df-29f08186-9328-4e49-bef4-85b927cabf90')\"\n",
              "              title=\"Convert this dataframe to an interactive table.\"\n",
              "              style=\"display:none;\">\n",
              "        \n",
              "  <svg xmlns=\"http://www.w3.org/2000/svg\" height=\"24px\"viewBox=\"0 0 24 24\"\n",
              "       width=\"24px\">\n",
              "    <path d=\"M0 0h24v24H0V0z\" fill=\"none\"/>\n",
              "    <path d=\"M18.56 5.44l.94 2.06.94-2.06 2.06-.94-2.06-.94-.94-2.06-.94 2.06-2.06.94zm-11 1L8.5 8.5l.94-2.06 2.06-.94-2.06-.94L8.5 2.5l-.94 2.06-2.06.94zm10 10l.94 2.06.94-2.06 2.06-.94-2.06-.94-.94-2.06-.94 2.06-2.06.94z\"/><path d=\"M17.41 7.96l-1.37-1.37c-.4-.4-.92-.59-1.43-.59-.52 0-1.04.2-1.43.59L10.3 9.45l-7.72 7.72c-.78.78-.78 2.05 0 2.83L4 21.41c.39.39.9.59 1.41.59.51 0 1.02-.2 1.41-.59l7.78-7.78 2.81-2.81c.8-.78.8-2.07 0-2.86zM5.41 20L4 18.59l7.72-7.72 1.47 1.35L5.41 20z\"/>\n",
              "  </svg>\n",
              "      </button>\n",
              "      \n",
              "  <style>\n",
              "    .colab-df-container {\n",
              "      display:flex;\n",
              "      flex-wrap:wrap;\n",
              "      gap: 12px;\n",
              "    }\n",
              "\n",
              "    .colab-df-convert {\n",
              "      background-color: #E8F0FE;\n",
              "      border: none;\n",
              "      border-radius: 50%;\n",
              "      cursor: pointer;\n",
              "      display: none;\n",
              "      fill: #1967D2;\n",
              "      height: 32px;\n",
              "      padding: 0 0 0 0;\n",
              "      width: 32px;\n",
              "    }\n",
              "\n",
              "    .colab-df-convert:hover {\n",
              "      background-color: #E2EBFA;\n",
              "      box-shadow: 0px 1px 2px rgba(60, 64, 67, 0.3), 0px 1px 3px 1px rgba(60, 64, 67, 0.15);\n",
              "      fill: #174EA6;\n",
              "    }\n",
              "\n",
              "    [theme=dark] .colab-df-convert {\n",
              "      background-color: #3B4455;\n",
              "      fill: #D2E3FC;\n",
              "    }\n",
              "\n",
              "    [theme=dark] .colab-df-convert:hover {\n",
              "      background-color: #434B5C;\n",
              "      box-shadow: 0px 1px 3px 1px rgba(0, 0, 0, 0.15);\n",
              "      filter: drop-shadow(0px 1px 2px rgba(0, 0, 0, 0.3));\n",
              "      fill: #FFFFFF;\n",
              "    }\n",
              "  </style>\n",
              "\n",
              "      <script>\n",
              "        const buttonEl =\n",
              "          document.querySelector('#df-29f08186-9328-4e49-bef4-85b927cabf90 button.colab-df-convert');\n",
              "        buttonEl.style.display =\n",
              "          google.colab.kernel.accessAllowed ? 'block' : 'none';\n",
              "\n",
              "        async function convertToInteractive(key) {\n",
              "          const element = document.querySelector('#df-29f08186-9328-4e49-bef4-85b927cabf90');\n",
              "          const dataTable =\n",
              "            await google.colab.kernel.invokeFunction('convertToInteractive',\n",
              "                                                     [key], {});\n",
              "          if (!dataTable) return;\n",
              "\n",
              "          const docLinkHtml = 'Like what you see? Visit the ' +\n",
              "            '<a target=\"_blank\" href=https://colab.research.google.com/notebooks/data_table.ipynb>data table notebook</a>'\n",
              "            + ' to learn more about interactive tables.';\n",
              "          element.innerHTML = '';\n",
              "          dataTable['output_type'] = 'display_data';\n",
              "          await google.colab.output.renderOutput(dataTable, element);\n",
              "          const docLink = document.createElement('div');\n",
              "          docLink.innerHTML = docLinkHtml;\n",
              "          element.appendChild(docLink);\n",
              "        }\n",
              "      </script>\n",
              "    </div>\n",
              "  </div>\n",
              "  "
            ]
          },
          "metadata": {},
          "execution_count": 132
        }
      ]
    },
    {
      "cell_type": "markdown",
      "source": [
        "A hybrid score is obtained by applying a convex combination of the sparse and dense scores, with the alpha parameter specifying the weighting of the two scores:\n",
        "\n",
        "`alpha * dense_score + (1 - alpha) * sparse_score`\n",
        "\n",
        "In the folowing we explore the impact of various alpha values using a sample query."
      ],
      "metadata": {
        "id": "GOrn4BHt36UE"
      }
    },
    {
      "cell_type": "code",
      "source": [
        "sample_query = dataset.queries.sample(1).to_dict(orient=\"records\")[0]\n",
        "sample_query[\"blob\"][\"text\"]"
      ],
      "metadata": {
        "colab": {
          "base_uri": "https://localhost:8080/",
          "height": 35
        },
        "id": "0ftWqvgm7jLZ",
        "outputId": "b9414883-a72b-4526-daea-6d2d1638b9bd"
      },
      "execution_count": 133,
      "outputs": [
        {
          "output_type": "execute_result",
          "data": {
            "text/plain": [
              "\"What's the best way to travel from cochin to Munnar?\""
            ],
            "application/vnd.google.colaboratory.intrinsic+json": {
              "type": "string"
            }
          },
          "metadata": {},
          "execution_count": 133
        }
      ]
    },
    {
      "cell_type": "code",
      "source": [
        "index.query(**sample_query, include_metadata=True)[\"matches\"]"
      ],
      "metadata": {
        "colab": {
          "base_uri": "https://localhost:8080/"
        },
        "id": "7E2AU6EcbDNc",
        "outputId": "71989714-da69-4998-975e-dc92a9bec764"
      },
      "execution_count": 134,
      "outputs": [
        {
          "output_type": "execute_result",
          "data": {
            "text/plain": [
              "[{'id': '433906',\n",
              "  'metadata': {'text': ' Which are the best travel options from Cochin to '\n",
              "                       'Munaar?'},\n",
              "  'score': 1.1573259,\n",
              "  'sparse_values': {'indices': [], 'values': []},\n",
              "  'values': []}, {'id': '228492',\n",
              "  'metadata': {'text': ' What is the best way to spend two days in Munnar, '\n",
              "                       'Kerala?'},\n",
              "  'score': 0.8347726,\n",
              "  'sparse_values': {'indices': [], 'values': []},\n",
              "  'values': []}, {'id': '48475',\n",
              "  'metadata': {'text': ' What all places can be covered in 5 days in Kerala '\n",
              "                       'from Cochin?'},\n",
              "  'score': 0.80995196,\n",
              "  'sparse_values': {'indices': [], 'values': []},\n",
              "  'values': []}, {'id': '40318',\n",
              "  'metadata': {'text': ' What are the best places to visit in Munnar?'},\n",
              "  'score': 0.7721201,\n",
              "  'sparse_values': {'indices': [], 'values': []},\n",
              "  'values': []}, {'id': '410021',\n",
              "  'metadata': {'text': ' What is the best travel place in Kerala?'},\n",
              "  'score': 0.76315665,\n",
              "  'sparse_values': {'indices': [], 'values': []},\n",
              "  'values': []}]"
            ]
          },
          "metadata": {},
          "execution_count": 134
        }
      ]
    },
    {
      "cell_type": "code",
      "source": [
        "import numpy as np\n",
        "\n",
        "def hybrid_weight_query(query, alpha):\n",
        "  query = query.copy()\n",
        "  query[\"vector\"] = list(np.array(query[\"vector\"]) * alpha)\n",
        "  query[\"sparse_vector\"][\"values\"] = list(np.array(query[\"sparse_vector\"][\"values\"]) * (1.0 - alpha))\n",
        "  return query"
      ],
      "metadata": {
        "id": "qM_XRVA09o0C"
      },
      "execution_count": 135,
      "outputs": []
    },
    {
      "cell_type": "markdown",
      "source": [
        "### Only Sparse (alpha = 0)"
      ],
      "metadata": {
        "id": "y5kQuvIN7W0D"
      }
    },
    {
      "cell_type": "code",
      "source": [
        "index.query(**hybrid_weight_query(sample_query, 0.0), include_metadata=True)[\"matches\"]"
      ],
      "metadata": {
        "colab": {
          "base_uri": "https://localhost:8080/"
        },
        "id": "7utumsMM31zO",
        "outputId": "f9b27793-a27e-440d-ef02-20bf0ec981ff"
      },
      "execution_count": 136,
      "outputs": [
        {
          "output_type": "execute_result",
          "data": {
            "text/plain": [
              "[{'id': '433906',\n",
              "  'metadata': {'text': ' Which are the best travel options from Cochin to '\n",
              "                       'Munaar?'},\n",
              "  'score': 0.23170872,\n",
              "  'sparse_values': {'indices': [], 'values': []},\n",
              "  'values': []}, {'id': '297395',\n",
              "  'metadata': {'text': \" What's the best way to travel from Houston to Mexico \"\n",
              "                       'via bus?'},\n",
              "  'score': 0.19312891,\n",
              "  'sparse_values': {'indices': [], 'values': []},\n",
              "  'values': []}, {'id': '45473',\n",
              "  'metadata': {'text': \" What's the best way to travel the world?\"},\n",
              "  'score': 0.19192813,\n",
              "  'sparse_values': {'indices': [], 'values': []},\n",
              "  'values': []}, {'id': '384232',\n",
              "  'metadata': {'text': \" What's the cheapest way to travel from Europe to \"\n",
              "                       'India?'},\n",
              "  'score': 0.18268965,\n",
              "  'sparse_values': {'indices': [], 'values': []},\n",
              "  'values': []}, {'id': '299466',\n",
              "  'metadata': {'text': \" What's the best way to travel with your bicycle?\"},\n",
              "  'score': 0.17798156,\n",
              "  'sparse_values': {'indices': [], 'values': []},\n",
              "  'values': []}]"
            ]
          },
          "metadata": {},
          "execution_count": 136
        }
      ]
    },
    {
      "cell_type": "markdown",
      "source": [
        "### Hybrid (0 < alpha < 1)"
      ],
      "metadata": {
        "id": "D8gKtMtN87cM"
      }
    },
    {
      "cell_type": "code",
      "source": [
        "# alpha=0.25\n",
        "index.query(**hybrid_weight_query(sample_query, 0.25), include_metadata=True)[\"matches\"]"
      ],
      "metadata": {
        "colab": {
          "base_uri": "https://localhost:8080/"
        },
        "id": "IX2wdWjb85mq",
        "outputId": "4f169665-b924-4705-95da-45b1e3c3bbca"
      },
      "execution_count": 137,
      "outputs": [
        {
          "output_type": "execute_result",
          "data": {
            "text/plain": [
              "[{'id': '433906',\n",
              "  'metadata': {'text': ' Which are the best travel options from Cochin to '\n",
              "                       'Munaar?'},\n",
              "  'score': 0.40518582,\n",
              "  'sparse_values': {'indices': [], 'values': []},\n",
              "  'values': []}, {'id': '228492',\n",
              "  'metadata': {'text': ' What is the best way to spend two days in Munnar, '\n",
              "                       'Kerala?'},\n",
              "  'score': 0.294321,\n",
              "  'sparse_values': {'indices': [], 'values': []},\n",
              "  'values': []}, {'id': '40318',\n",
              "  'metadata': {'text': ' What are the best places to visit in Munnar?'},\n",
              "  'score': 0.27211666,\n",
              "  'sparse_values': {'indices': [], 'values': []},\n",
              "  'values': []}, {'id': '48475',\n",
              "  'metadata': {'text': ' What all places can be covered in 5 days in Kerala '\n",
              "                       'from Cochin?'},\n",
              "  'score': 0.26679716,\n",
              "  'sparse_values': {'indices': [], 'values': []},\n",
              "  'values': []}, {'id': '6232',\n",
              "  'metadata': {'text': ' What are the best places to stay in munnar?'},\n",
              "  'score': 0.2639953,\n",
              "  'sparse_values': {'indices': [], 'values': []},\n",
              "  'values': []}]"
            ]
          },
          "metadata": {},
          "execution_count": 137
        }
      ]
    },
    {
      "cell_type": "code",
      "source": [
        "# alpha=0.6\n",
        "index.query(**hybrid_weight_query(sample_query, 0.6), include_metadata=False)[\"matches\"]"
      ],
      "metadata": {
        "id": "SeSy8An5-8k3",
        "colab": {
          "base_uri": "https://localhost:8080/"
        },
        "outputId": "9c13e59e-fe69-4863-d290-28a391f1098a"
      },
      "execution_count": 138,
      "outputs": [
        {
          "output_type": "execute_result",
          "data": {
            "text/plain": [
              "[{'id': '433906',\n",
              "  'metadata': {},\n",
              "  'score': 0.6248829,\n",
              "  'sparse_values': {'indices': [], 'values': []},\n",
              "  'values': []}, {'id': '228492',\n",
              "  'metadata': {},\n",
              "  'score': 0.44948688,\n",
              "  'sparse_values': {'indices': [], 'values': []},\n",
              "  'values': []}, {'id': '48475',\n",
              "  'metadata': {},\n",
              "  'score': 0.4473857,\n",
              "  'sparse_values': {'indices': [], 'values': []},\n",
              "  'values': []}, {'id': '410021',\n",
              "  'metadata': {},\n",
              "  'score': 0.42628524,\n",
              "  'sparse_values': {'indices': [], 'values': []},\n",
              "  'values': []}, {'id': '359065',\n",
              "  'metadata': {},\n",
              "  'score': 0.41658056,\n",
              "  'sparse_values': {'indices': [], 'values': []},\n",
              "  'values': []}]"
            ]
          },
          "metadata": {},
          "execution_count": 138
        }
      ]
    },
    {
      "cell_type": "markdown",
      "source": [
        "### Only Dense (alpha = 1)"
      ],
      "metadata": {
        "id": "6YC-eUUF_Bk8"
      }
    },
    {
      "cell_type": "code",
      "source": [
        "index.query(**hybrid_weight_query(sample_query, 1.0), include_metadata=True)[\"matches\"]"
      ],
      "metadata": {
        "id": "ZDE-jgf__Gc-",
        "colab": {
          "base_uri": "https://localhost:8080/"
        },
        "outputId": "1ab100d0-1310-4b41-c6a1-93d02a091b63"
      },
      "execution_count": 139,
      "outputs": [
        {
          "output_type": "execute_result",
          "data": {
            "text/plain": [
              "[{'id': '433906',\n",
              "  'metadata': {'text': ' Which are the best travel options from Cochin to '\n",
              "                       'Munaar?'},\n",
              "  'score': 0.9256171,\n",
              "  'sparse_values': {'indices': [], 'values': []},\n",
              "  'values': []}, {'id': '48475',\n",
              "  'metadata': {'text': ' What all places can be covered in 5 days in Kerala '\n",
              "                       'from Cochin?'},\n",
              "  'score': 0.68133366,\n",
              "  'sparse_values': {'indices': [], 'values': []},\n",
              "  'values': []}, {'id': '228492',\n",
              "  'metadata': {'text': ' What is the best way to spend two days in Munnar, '\n",
              "                       'Kerala?'},\n",
              "  'score': 0.66351694,\n",
              "  'sparse_values': {'indices': [], 'values': []},\n",
              "  'values': []}, {'id': '410021',\n",
              "  'metadata': {'text': ' What is the best travel place in Kerala?'},\n",
              "  'score': 0.65779406,\n",
              "  'sparse_values': {'indices': [], 'values': []},\n",
              "  'values': []}, {'id': '359065',\n",
              "  'metadata': {'text': ' What is the best trip plan to Kerala from bangalore?'},\n",
              "  'score': 0.65143514,\n",
              "  'sparse_values': {'indices': [], 'values': []},\n",
              "  'values': []}]"
            ]
          },
          "metadata": {},
          "execution_count": 139
        }
      ]
    }
  ],
  "metadata": {
    "kernelspec": {
      "display_name": "Python (Local)",
      "language": "python",
      "name": "local-base"
    },
    "language_info": {
      "codemirror_mode": {
        "name": "ipython",
        "version": 3
      },
      "file_extension": ".py",
      "mimetype": "text/x-python",
      "name": "python",
      "nbconvert_exporter": "python",
      "pygments_lexer": "ipython3",
      "version": "3.7.12"
    },
    "colab": {
      "provenance": []
    },
    "widgets": {
      "application/vnd.jupyter.widget-state+json": {
        "4c2ac77239d8406fa580091b140fe1f8": {
          "model_module": "@jupyter-widgets/controls",
          "model_name": "HBoxModel",
          "model_module_version": "1.5.0",
          "state": {
            "_dom_classes": [],
            "_model_module": "@jupyter-widgets/controls",
            "_model_module_version": "1.5.0",
            "_model_name": "HBoxModel",
            "_view_count": null,
            "_view_module": "@jupyter-widgets/controls",
            "_view_module_version": "1.5.0",
            "_view_name": "HBoxView",
            "box_style": "",
            "children": [
              "IPY_MODEL_26d7cb3269aa4e0284a3bddf673d530a",
              "IPY_MODEL_1918210893824994b7db7387767b1aa1",
              "IPY_MODEL_a14c431a3ade47759aeb165524d4800d"
            ],
            "layout": "IPY_MODEL_99d64e1486b04147bb26f072d8e75622"
          }
        },
        "26d7cb3269aa4e0284a3bddf673d530a": {
          "model_module": "@jupyter-widgets/controls",
          "model_name": "HTMLModel",
          "model_module_version": "1.5.0",
          "state": {
            "_dom_classes": [],
            "_model_module": "@jupyter-widgets/controls",
            "_model_module_version": "1.5.0",
            "_model_name": "HTMLModel",
            "_view_count": null,
            "_view_module": "@jupyter-widgets/controls",
            "_view_module_version": "1.5.0",
            "_view_name": "HTMLView",
            "description": "",
            "description_tooltip": null,
            "layout": "IPY_MODEL_a29408c4e744434c91f612d2fe0ce356",
            "placeholder": "​",
            "style": "IPY_MODEL_0742bf65ce6e40c0b9480a3e0c393cb0",
            "value": ""
          }
        },
        "1918210893824994b7db7387767b1aa1": {
          "model_module": "@jupyter-widgets/controls",
          "model_name": "FloatProgressModel",
          "model_module_version": "1.5.0",
          "state": {
            "_dom_classes": [],
            "_model_module": "@jupyter-widgets/controls",
            "_model_module_version": "1.5.0",
            "_model_name": "FloatProgressModel",
            "_view_count": null,
            "_view_module": "@jupyter-widgets/controls",
            "_view_module_version": "1.5.0",
            "_view_name": "ProgressView",
            "bar_style": "success",
            "description": "",
            "description_tooltip": null,
            "layout": "IPY_MODEL_55aa1c26c0d0402caf72dd2de19f8b72",
            "max": 1045,
            "min": 0,
            "orientation": "horizontal",
            "style": "IPY_MODEL_b4bb1da2271d469e8ccd7b2c29c76395",
            "value": 1045
          }
        },
        "a14c431a3ade47759aeb165524d4800d": {
          "model_module": "@jupyter-widgets/controls",
          "model_name": "HTMLModel",
          "model_module_version": "1.5.0",
          "state": {
            "_dom_classes": [],
            "_model_module": "@jupyter-widgets/controls",
            "_model_module_version": "1.5.0",
            "_model_name": "HTMLModel",
            "_view_count": null,
            "_view_module": "@jupyter-widgets/controls",
            "_view_module_version": "1.5.0",
            "_view_name": "HTMLView",
            "description": "",
            "description_tooltip": null,
            "layout": "IPY_MODEL_08cca7772f8c40e99ef3f8e4a2ce40db",
            "placeholder": "​",
            "style": "IPY_MODEL_16f29cf4f283413e9675dbf3b8796ac8",
            "value": " 1046/? [01:16&lt;00:00, 17.81it/s]"
          }
        },
        "99d64e1486b04147bb26f072d8e75622": {
          "model_module": "@jupyter-widgets/base",
          "model_name": "LayoutModel",
          "model_module_version": "1.2.0",
          "state": {
            "_model_module": "@jupyter-widgets/base",
            "_model_module_version": "1.2.0",
            "_model_name": "LayoutModel",
            "_view_count": null,
            "_view_module": "@jupyter-widgets/base",
            "_view_module_version": "1.2.0",
            "_view_name": "LayoutView",
            "align_content": null,
            "align_items": null,
            "align_self": null,
            "border": null,
            "bottom": null,
            "display": null,
            "flex": null,
            "flex_flow": null,
            "grid_area": null,
            "grid_auto_columns": null,
            "grid_auto_flow": null,
            "grid_auto_rows": null,
            "grid_column": null,
            "grid_gap": null,
            "grid_row": null,
            "grid_template_areas": null,
            "grid_template_columns": null,
            "grid_template_rows": null,
            "height": null,
            "justify_content": null,
            "justify_items": null,
            "left": null,
            "margin": null,
            "max_height": null,
            "max_width": null,
            "min_height": null,
            "min_width": null,
            "object_fit": null,
            "object_position": null,
            "order": null,
            "overflow": null,
            "overflow_x": null,
            "overflow_y": null,
            "padding": null,
            "right": null,
            "top": null,
            "visibility": null,
            "width": null
          }
        },
        "a29408c4e744434c91f612d2fe0ce356": {
          "model_module": "@jupyter-widgets/base",
          "model_name": "LayoutModel",
          "model_module_version": "1.2.0",
          "state": {
            "_model_module": "@jupyter-widgets/base",
            "_model_module_version": "1.2.0",
            "_model_name": "LayoutModel",
            "_view_count": null,
            "_view_module": "@jupyter-widgets/base",
            "_view_module_version": "1.2.0",
            "_view_name": "LayoutView",
            "align_content": null,
            "align_items": null,
            "align_self": null,
            "border": null,
            "bottom": null,
            "display": null,
            "flex": null,
            "flex_flow": null,
            "grid_area": null,
            "grid_auto_columns": null,
            "grid_auto_flow": null,
            "grid_auto_rows": null,
            "grid_column": null,
            "grid_gap": null,
            "grid_row": null,
            "grid_template_areas": null,
            "grid_template_columns": null,
            "grid_template_rows": null,
            "height": null,
            "justify_content": null,
            "justify_items": null,
            "left": null,
            "margin": null,
            "max_height": null,
            "max_width": null,
            "min_height": null,
            "min_width": null,
            "object_fit": null,
            "object_position": null,
            "order": null,
            "overflow": null,
            "overflow_x": null,
            "overflow_y": null,
            "padding": null,
            "right": null,
            "top": null,
            "visibility": null,
            "width": null
          }
        },
        "0742bf65ce6e40c0b9480a3e0c393cb0": {
          "model_module": "@jupyter-widgets/controls",
          "model_name": "DescriptionStyleModel",
          "model_module_version": "1.5.0",
          "state": {
            "_model_module": "@jupyter-widgets/controls",
            "_model_module_version": "1.5.0",
            "_model_name": "DescriptionStyleModel",
            "_view_count": null,
            "_view_module": "@jupyter-widgets/base",
            "_view_module_version": "1.2.0",
            "_view_name": "StyleView",
            "description_width": ""
          }
        },
        "55aa1c26c0d0402caf72dd2de19f8b72": {
          "model_module": "@jupyter-widgets/base",
          "model_name": "LayoutModel",
          "model_module_version": "1.2.0",
          "state": {
            "_model_module": "@jupyter-widgets/base",
            "_model_module_version": "1.2.0",
            "_model_name": "LayoutModel",
            "_view_count": null,
            "_view_module": "@jupyter-widgets/base",
            "_view_module_version": "1.2.0",
            "_view_name": "LayoutView",
            "align_content": null,
            "align_items": null,
            "align_self": null,
            "border": null,
            "bottom": null,
            "display": null,
            "flex": null,
            "flex_flow": null,
            "grid_area": null,
            "grid_auto_columns": null,
            "grid_auto_flow": null,
            "grid_auto_rows": null,
            "grid_column": null,
            "grid_gap": null,
            "grid_row": null,
            "grid_template_areas": null,
            "grid_template_columns": null,
            "grid_template_rows": null,
            "height": null,
            "justify_content": null,
            "justify_items": null,
            "left": null,
            "margin": null,
            "max_height": null,
            "max_width": null,
            "min_height": null,
            "min_width": null,
            "object_fit": null,
            "object_position": null,
            "order": null,
            "overflow": null,
            "overflow_x": null,
            "overflow_y": null,
            "padding": null,
            "right": null,
            "top": null,
            "visibility": null,
            "width": null
          }
        },
        "b4bb1da2271d469e8ccd7b2c29c76395": {
          "model_module": "@jupyter-widgets/controls",
          "model_name": "ProgressStyleModel",
          "model_module_version": "1.5.0",
          "state": {
            "_model_module": "@jupyter-widgets/controls",
            "_model_module_version": "1.5.0",
            "_model_name": "ProgressStyleModel",
            "_view_count": null,
            "_view_module": "@jupyter-widgets/base",
            "_view_module_version": "1.2.0",
            "_view_name": "StyleView",
            "bar_color": null,
            "description_width": ""
          }
        },
        "08cca7772f8c40e99ef3f8e4a2ce40db": {
          "model_module": "@jupyter-widgets/base",
          "model_name": "LayoutModel",
          "model_module_version": "1.2.0",
          "state": {
            "_model_module": "@jupyter-widgets/base",
            "_model_module_version": "1.2.0",
            "_model_name": "LayoutModel",
            "_view_count": null,
            "_view_module": "@jupyter-widgets/base",
            "_view_module_version": "1.2.0",
            "_view_name": "LayoutView",
            "align_content": null,
            "align_items": null,
            "align_self": null,
            "border": null,
            "bottom": null,
            "display": null,
            "flex": null,
            "flex_flow": null,
            "grid_area": null,
            "grid_auto_columns": null,
            "grid_auto_flow": null,
            "grid_auto_rows": null,
            "grid_column": null,
            "grid_gap": null,
            "grid_row": null,
            "grid_template_areas": null,
            "grid_template_columns": null,
            "grid_template_rows": null,
            "height": null,
            "justify_content": null,
            "justify_items": null,
            "left": null,
            "margin": null,
            "max_height": null,
            "max_width": null,
            "min_height": null,
            "min_width": null,
            "object_fit": null,
            "object_position": null,
            "order": null,
            "overflow": null,
            "overflow_x": null,
            "overflow_y": null,
            "padding": null,
            "right": null,
            "top": null,
            "visibility": null,
            "width": null
          }
        },
        "16f29cf4f283413e9675dbf3b8796ac8": {
          "model_module": "@jupyter-widgets/controls",
          "model_name": "DescriptionStyleModel",
          "model_module_version": "1.5.0",
          "state": {
            "_model_module": "@jupyter-widgets/controls",
            "_model_module_version": "1.5.0",
            "_model_name": "DescriptionStyleModel",
            "_view_count": null,
            "_view_module": "@jupyter-widgets/base",
            "_view_module_version": "1.2.0",
            "_view_name": "StyleView",
            "description_width": ""
          }
        }
      }
    }
  },
  "nbformat": 4,
  "nbformat_minor": 0
}